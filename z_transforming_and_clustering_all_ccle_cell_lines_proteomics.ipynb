{
 "cells": [
  {
   "cell_type": "code",
   "execution_count": 1,
   "id": "47b5c3dc",
   "metadata": {},
   "outputs": [],
   "source": [
    "from mewpy.simulation import solvers\n",
    "from mewpy.simulation import set_default_solver\n",
    "set_default_solver('glpk')"
   ]
  },
  {
   "cell_type": "code",
   "execution_count": 2,
   "id": "dfe22675",
   "metadata": {},
   "outputs": [
    {
     "data": {
      "text/plain": [
       "['glpk']"
      ]
     },
     "execution_count": 2,
     "metadata": {},
     "output_type": "execute_result"
    }
   ],
   "source": [
    "solvers"
   ]
  },
  {
   "cell_type": "code",
   "execution_count": 2,
   "id": "2029c00e",
   "metadata": {},
   "outputs": [],
   "source": [
    "import cobra\n",
    "import matplotlib.pyplot as plt\n",
    "import numpy as np\n",
    "import csv\n",
    "import pandas as pd\n",
    "from pandas import DataFrame\n",
    "import statistics\n",
    "import seaborn as sns"
   ]
  },
  {
   "cell_type": "code",
   "execution_count": 1,
   "id": "869cddee",
   "metadata": {},
   "outputs": [
    {
     "name": "stdout",
     "output_type": "stream",
     "text": [
      "Collecting package metadata (current_repodata.json): done\n",
      "Solving environment: done\n",
      "\n",
      "## Package Plan ##\n",
      "\n",
      "  environment location: /opt/anaconda3/envs/glpk\n",
      "\n",
      "  added / updated specs:\n",
      "    - seaborn\n",
      "\n",
      "\n",
      "The following packages will be downloaded:\n",
      "\n",
      "    package                    |            build\n",
      "    ---------------------------|-----------------\n",
      "    bottleneck-1.3.5           |   py38h67323c0_0         113 KB\n",
      "    brotli-1.0.9               |       hca72f7f_7          19 KB\n",
      "    brotli-bin-1.0.9           |       hca72f7f_7          17 KB\n",
      "    fftw-3.3.9                 |       h9ed2024_1         2.0 MB\n",
      "    kiwisolver-1.4.2           |   py38he9d5cce_0          55 KB\n",
      "    lerc-3.0                   |       he9d5cce_0         168 KB\n",
      "    libbrotlicommon-1.0.9      |       hca72f7f_7          69 KB\n",
      "    libbrotlidec-1.0.9         |       hca72f7f_7          31 KB\n",
      "    libbrotlienc-1.0.9         |       hca72f7f_7         293 KB\n",
      "    libdeflate-1.8             |       h9ed2024_5          50 KB\n",
      "    libgfortran-5.0.0          |11_2_0_h246ff09_26          21 KB\n",
      "    libgfortran5-11.2.0        |      h246ff09_26         1.3 MB\n",
      "    libtiff-4.4.0              |       h2ef1027_0         441 KB\n",
      "    matplotlib-3.5.2           |   py38hecd8cb5_0           7 KB\n",
      "    matplotlib-base-3.5.2      |   py38hfb0c5b7_0         5.7 MB\n",
      "    mkl-service-2.4.0          |   py38h9ed2024_0          45 KB\n",
      "    mkl_fft-1.3.1              |   py38h4ab4a9b_0         165 KB\n",
      "    mkl_random-1.2.2           |   py38hb2f4e1b_0         273 KB\n",
      "    numexpr-2.8.3              |   py38h2e5f0a9_0         121 KB\n",
      "    numpy-1.21.5               |   py38h2e5f0a9_3          11 KB\n",
      "    numpy-base-1.21.5          |   py38h3b1a694_3         4.7 MB\n",
      "    pandas-1.4.3               |   py38he9d5cce_0         9.3 MB\n",
      "    pillow-9.2.0               |   py38hde71d04_1         625 KB\n",
      "    pytz-2022.1                |   py38hecd8cb5_0         196 KB\n",
      "    scipy-1.7.3                |   py38h214d14d_2        15.5 MB\n",
      "    seaborn-0.11.2             |     pyhd3eb1b0_0         218 KB\n",
      "    ------------------------------------------------------------\n",
      "                                           Total:        41.5 MB\n",
      "\n",
      "The following NEW packages will be INSTALLED:\n",
      "\n",
      "  blas               pkgs/main/osx-64::blas-1.0-mkl\n",
      "  bottleneck         pkgs/main/osx-64::bottleneck-1.3.5-py38h67323c0_0\n",
      "  brotli             pkgs/main/osx-64::brotli-1.0.9-hca72f7f_7\n",
      "  brotli-bin         pkgs/main/osx-64::brotli-bin-1.0.9-hca72f7f_7\n",
      "  cycler             pkgs/main/noarch::cycler-0.11.0-pyhd3eb1b0_0\n",
      "  fftw               pkgs/main/osx-64::fftw-3.3.9-h9ed2024_1\n",
      "  fonttools          pkgs/main/noarch::fonttools-4.25.0-pyhd3eb1b0_0\n",
      "  freetype           pkgs/main/osx-64::freetype-2.11.0-hd8bbffd_0\n",
      "  giflib             pkgs/main/osx-64::giflib-5.2.1-haf1e3a3_0\n",
      "  intel-openmp       pkgs/main/osx-64::intel-openmp-2021.4.0-hecd8cb5_3538\n",
      "  jpeg               pkgs/main/osx-64::jpeg-9e-hca72f7f_0\n",
      "  kiwisolver         pkgs/main/osx-64::kiwisolver-1.4.2-py38he9d5cce_0\n",
      "  lcms2              pkgs/main/osx-64::lcms2-2.12-hf1fd2bf_0\n",
      "  lerc               pkgs/main/osx-64::lerc-3.0-he9d5cce_0\n",
      "  libbrotlicommon    pkgs/main/osx-64::libbrotlicommon-1.0.9-hca72f7f_7\n",
      "  libbrotlidec       pkgs/main/osx-64::libbrotlidec-1.0.9-hca72f7f_7\n",
      "  libbrotlienc       pkgs/main/osx-64::libbrotlienc-1.0.9-hca72f7f_7\n",
      "  libdeflate         pkgs/main/osx-64::libdeflate-1.8-h9ed2024_5\n",
      "  libgfortran        pkgs/main/osx-64::libgfortran-5.0.0-11_2_0_h246ff09_26\n",
      "  libgfortran5       pkgs/main/osx-64::libgfortran5-11.2.0-h246ff09_26\n",
      "  libpng             pkgs/main/osx-64::libpng-1.6.37-ha441bb4_0\n",
      "  libtiff            pkgs/main/osx-64::libtiff-4.4.0-h2ef1027_0\n",
      "  libwebp            pkgs/main/osx-64::libwebp-1.2.2-h56c3ce4_0\n",
      "  libwebp-base       pkgs/main/osx-64::libwebp-base-1.2.2-hca72f7f_0\n",
      "  llvm-openmp        pkgs/main/osx-64::llvm-openmp-12.0.0-h0dcd299_1\n",
      "  lz4-c              pkgs/main/osx-64::lz4-c-1.9.3-h23ab428_1\n",
      "  matplotlib         pkgs/main/osx-64::matplotlib-3.5.2-py38hecd8cb5_0\n",
      "  matplotlib-base    pkgs/main/osx-64::matplotlib-base-3.5.2-py38hfb0c5b7_0\n",
      "  mkl                pkgs/main/osx-64::mkl-2021.4.0-hecd8cb5_637\n",
      "  mkl-service        pkgs/main/osx-64::mkl-service-2.4.0-py38h9ed2024_0\n",
      "  mkl_fft            pkgs/main/osx-64::mkl_fft-1.3.1-py38h4ab4a9b_0\n",
      "  mkl_random         pkgs/main/osx-64::mkl_random-1.2.2-py38hb2f4e1b_0\n",
      "  munkres            pkgs/main/noarch::munkres-1.1.4-py_0\n",
      "  numexpr            pkgs/main/osx-64::numexpr-2.8.3-py38h2e5f0a9_0\n",
      "  numpy              pkgs/main/osx-64::numpy-1.21.5-py38h2e5f0a9_3\n",
      "  numpy-base         pkgs/main/osx-64::numpy-base-1.21.5-py38h3b1a694_3\n",
      "  pandas             pkgs/main/osx-64::pandas-1.4.3-py38he9d5cce_0\n",
      "  pillow             pkgs/main/osx-64::pillow-9.2.0-py38hde71d04_1\n",
      "  pytz               pkgs/main/osx-64::pytz-2022.1-py38hecd8cb5_0\n",
      "  scipy              pkgs/main/osx-64::scipy-1.7.3-py38h214d14d_2\n",
      "  seaborn            pkgs/main/noarch::seaborn-0.11.2-pyhd3eb1b0_0\n",
      "  zstd               pkgs/main/osx-64::zstd-1.5.2-hcb37349_0\n",
      "\n",
      "\n",
      "\n",
      "Downloading and Extracting Packages\n",
      "libbrotlicommon-1.0. | 69 KB     | ##################################### | 100% \n",
      "seaborn-0.11.2       | 218 KB    | ##################################### | 100% \n",
      "libgfortran-5.0.0    | 21 KB     | ##################################### | 100% \n",
      "mkl_fft-1.3.1        | 165 KB    | ##################################### | 100% \n",
      "fftw-3.3.9           | 2.0 MB    | ##################################### | 100% \n",
      "mkl-service-2.4.0    | 45 KB     | ##################################### | 100% \n",
      "scipy-1.7.3          | 15.5 MB   | ##################################### | 100% \n",
      "brotli-bin-1.0.9     | 17 KB     | ##################################### | 100% \n",
      "mkl_random-1.2.2     | 273 KB    | ##################################### | 100% \n",
      "libbrotlienc-1.0.9   | 293 KB    | ##################################### | 100% \n",
      "libdeflate-1.8       | 50 KB     | ##################################### | 100% \n",
      "pillow-9.2.0         | 625 KB    | ##################################### | 100% \n",
      "bottleneck-1.3.5     | 113 KB    | ##################################### | 100% \n",
      "numexpr-2.8.3        | 121 KB    | ##################################### | 100% \n",
      "brotli-1.0.9         | 19 KB     | ##################################### | 100% \n",
      "libbrotlidec-1.0.9   | 31 KB     | ##################################### | 100% \n",
      "lerc-3.0             | 168 KB    | ##################################### | 100% \n",
      "numpy-base-1.21.5    | 4.7 MB    | ##################################### | 100% \n",
      "matplotlib-base-3.5. | 5.7 MB    | ##################################### | 100% \n",
      "matplotlib-3.5.2     | 7 KB      | ##################################### | 100% \n",
      "pandas-1.4.3         | 9.3 MB    | ##################################### | 100% \n",
      "numpy-1.21.5         | 11 KB     | ##################################### | 100% \n",
      "pytz-2022.1          | 196 KB    | ##################################### | 100% \n",
      "libgfortran5-11.2.0  | 1.3 MB    | ##################################### | 100% \n",
      "kiwisolver-1.4.2     | 55 KB     | ##################################### | 100% \n",
      "libtiff-4.4.0        | 441 KB    | ##################################### | 100% \n",
      "Preparing transaction: done\n",
      "Verifying transaction: done\n",
      "Executing transaction: done\n",
      "\n",
      "Note: you may need to restart the kernel to use updated packages.\n"
     ]
    }
   ],
   "source": [
    "conda install seaborn"
   ]
  },
  {
   "cell_type": "code",
   "execution_count": 3,
   "id": "5e3b5c0f",
   "metadata": {},
   "outputs": [],
   "source": [
    "import plotly\n",
    "import plotly.express as px\n",
    "import plotly.graph_objs as go\n",
    "from sklearn.preprocessing import StandardScaler\n",
    "sns.set()\n",
    "import visualisation"
   ]
  },
  {
   "cell_type": "code",
   "execution_count": 103,
   "id": "c14f3fa2",
   "metadata": {},
   "outputs": [
    {
     "name": "stdout",
     "output_type": "stream",
     "text": [
      "Samples: 420, Proteins: 12755\n"
     ]
    },
    {
     "data": {
      "text/html": [
       "<div>\n",
       "<style scoped>\n",
       "    .dataframe tbody tr th:only-of-type {\n",
       "        vertical-align: middle;\n",
       "    }\n",
       "\n",
       "    .dataframe tbody tr th {\n",
       "        vertical-align: top;\n",
       "    }\n",
       "\n",
       "    .dataframe thead th {\n",
       "        text-align: right;\n",
       "    }\n",
       "</style>\n",
       "<table border=\"1\" class=\"dataframe\">\n",
       "  <thead>\n",
       "    <tr style=\"text-align: right;\">\n",
       "      <th>Uniprot</th>\n",
       "      <th>S12A2_HUMAN</th>\n",
       "      <th>KDM1A_HUMAN</th>\n",
       "      <th>SRP14_HUMAN</th>\n",
       "      <th>SOGA1_HUMAN</th>\n",
       "      <th>NU133_HUMAN</th>\n",
       "      <th>RL4_HUMAN</th>\n",
       "      <th>FUBP2_HUMAN</th>\n",
       "      <th>FUBP3_HUMAN</th>\n",
       "      <th>FUBP1_HUMAN</th>\n",
       "      <th>MMP14_HUMAN</th>\n",
       "      <th>...</th>\n",
       "      <th>VEZF1_HUMAN</th>\n",
       "      <th>CAPZB_HUMAN</th>\n",
       "      <th>SP1_HUMAN</th>\n",
       "      <th>SP4_HUMAN</th>\n",
       "      <th>SP3_HUMAN</th>\n",
       "      <th>NEXN_HUMAN</th>\n",
       "      <th>RM18_HUMAN</th>\n",
       "      <th>CJ032_HUMAN</th>\n",
       "      <th>SF3B5_HUMAN</th>\n",
       "      <th>RM42_HUMAN</th>\n",
       "    </tr>\n",
       "  </thead>\n",
       "  <tbody>\n",
       "    <tr>\n",
       "      <th>TenPx01_Peptides</th>\n",
       "      <td>41.000000</td>\n",
       "      <td>25.000000</td>\n",
       "      <td>18.000000</td>\n",
       "      <td>18.000000</td>\n",
       "      <td>44.000000</td>\n",
       "      <td>79.000000</td>\n",
       "      <td>87.000000</td>\n",
       "      <td>48.000000</td>\n",
       "      <td>65.000000</td>\n",
       "      <td>22.000000</td>\n",
       "      <td>...</td>\n",
       "      <td>11.000000</td>\n",
       "      <td>7.000000</td>\n",
       "      <td>9.000000</td>\n",
       "      <td>1.000000</td>\n",
       "      <td>8.000000</td>\n",
       "      <td>8.000000</td>\n",
       "      <td>6.000000</td>\n",
       "      <td>4.000000</td>\n",
       "      <td>8.000000</td>\n",
       "      <td>5.000000</td>\n",
       "    </tr>\n",
       "    <tr>\n",
       "      <th>TenPx02_Peptides</th>\n",
       "      <td>16.000000</td>\n",
       "      <td>35.000000</td>\n",
       "      <td>16.000000</td>\n",
       "      <td>4.000000</td>\n",
       "      <td>46.000000</td>\n",
       "      <td>92.000000</td>\n",
       "      <td>114.000000</td>\n",
       "      <td>51.000000</td>\n",
       "      <td>91.000000</td>\n",
       "      <td>24.000000</td>\n",
       "      <td>...</td>\n",
       "      <td>8.000000</td>\n",
       "      <td>7.000000</td>\n",
       "      <td>4.000000</td>\n",
       "      <td>2.000000</td>\n",
       "      <td>9.000000</td>\n",
       "      <td>23.000000</td>\n",
       "      <td>8.000000</td>\n",
       "      <td>3.000000</td>\n",
       "      <td>8.000000</td>\n",
       "      <td>5.000000</td>\n",
       "    </tr>\n",
       "    <tr>\n",
       "      <th>TenPx03_Peptides</th>\n",
       "      <td>23.000000</td>\n",
       "      <td>37.000000</td>\n",
       "      <td>16.000000</td>\n",
       "      <td>21.000000</td>\n",
       "      <td>40.000000</td>\n",
       "      <td>103.000000</td>\n",
       "      <td>97.000000</td>\n",
       "      <td>64.000000</td>\n",
       "      <td>96.000000</td>\n",
       "      <td>12.000000</td>\n",
       "      <td>...</td>\n",
       "      <td>7.000000</td>\n",
       "      <td>6.000000</td>\n",
       "      <td>4.000000</td>\n",
       "      <td>5.000000</td>\n",
       "      <td>9.000000</td>\n",
       "      <td>6.000000</td>\n",
       "      <td>8.000000</td>\n",
       "      <td>2.000000</td>\n",
       "      <td>12.000000</td>\n",
       "      <td>5.000000</td>\n",
       "    </tr>\n",
       "    <tr>\n",
       "      <th>TenPx04_Peptides</th>\n",
       "      <td>59.000000</td>\n",
       "      <td>40.000000</td>\n",
       "      <td>16.000000</td>\n",
       "      <td>9.000000</td>\n",
       "      <td>47.000000</td>\n",
       "      <td>83.000000</td>\n",
       "      <td>87.000000</td>\n",
       "      <td>47.000000</td>\n",
       "      <td>72.000000</td>\n",
       "      <td>13.000000</td>\n",
       "      <td>...</td>\n",
       "      <td>9.000000</td>\n",
       "      <td>4.000000</td>\n",
       "      <td>9.000000</td>\n",
       "      <td>4.000000</td>\n",
       "      <td>8.000000</td>\n",
       "      <td>9.000000</td>\n",
       "      <td>8.000000</td>\n",
       "      <td>2.000000</td>\n",
       "      <td>11.000000</td>\n",
       "      <td>3.000000</td>\n",
       "    </tr>\n",
       "    <tr>\n",
       "      <th>TenPx06_Peptides</th>\n",
       "      <td>44.000000</td>\n",
       "      <td>33.000000</td>\n",
       "      <td>26.000000</td>\n",
       "      <td>8.000000</td>\n",
       "      <td>33.000000</td>\n",
       "      <td>79.000000</td>\n",
       "      <td>90.000000</td>\n",
       "      <td>50.000000</td>\n",
       "      <td>63.000000</td>\n",
       "      <td>20.000000</td>\n",
       "      <td>...</td>\n",
       "      <td>10.000000</td>\n",
       "      <td>8.000000</td>\n",
       "      <td>8.000000</td>\n",
       "      <td>3.000000</td>\n",
       "      <td>8.000000</td>\n",
       "      <td>9.000000</td>\n",
       "      <td>9.000000</td>\n",
       "      <td>2.000000</td>\n",
       "      <td>10.000000</td>\n",
       "      <td>1.000000</td>\n",
       "    </tr>\n",
       "    <tr>\n",
       "      <th>...</th>\n",
       "      <td>...</td>\n",
       "      <td>...</td>\n",
       "      <td>...</td>\n",
       "      <td>...</td>\n",
       "      <td>...</td>\n",
       "      <td>...</td>\n",
       "      <td>...</td>\n",
       "      <td>...</td>\n",
       "      <td>...</td>\n",
       "      <td>...</td>\n",
       "      <td>...</td>\n",
       "      <td>...</td>\n",
       "      <td>...</td>\n",
       "      <td>...</td>\n",
       "      <td>...</td>\n",
       "      <td>...</td>\n",
       "      <td>...</td>\n",
       "      <td>...</td>\n",
       "      <td>...</td>\n",
       "      <td>...</td>\n",
       "      <td>...</td>\n",
       "    </tr>\n",
       "    <tr>\n",
       "      <th>FADU_UPPER_AERODIGESTIVE_TRACT_TenPx24</th>\n",
       "      <td>-0.071063</td>\n",
       "      <td>-0.817245</td>\n",
       "      <td>0.119898</td>\n",
       "      <td>-0.400784</td>\n",
       "      <td>-0.741328</td>\n",
       "      <td>-1.236118</td>\n",
       "      <td>0.734045</td>\n",
       "      <td>0.635489</td>\n",
       "      <td>1.195160</td>\n",
       "      <td>0.341865</td>\n",
       "      <td>...</td>\n",
       "      <td>0.490925</td>\n",
       "      <td>-0.350087</td>\n",
       "      <td>0.918010</td>\n",
       "      <td>0.122607</td>\n",
       "      <td>0.952314</td>\n",
       "      <td>-0.493886</td>\n",
       "      <td>0.006167</td>\n",
       "      <td>0.588836</td>\n",
       "      <td>0.973730</td>\n",
       "      <td>1.083772</td>\n",
       "    </tr>\n",
       "    <tr>\n",
       "      <th>KP4_PANCREAS_TenPx24</th>\n",
       "      <td>0.702306</td>\n",
       "      <td>-0.790010</td>\n",
       "      <td>-1.139911</td>\n",
       "      <td>-0.107880</td>\n",
       "      <td>-0.313100</td>\n",
       "      <td>-0.641682</td>\n",
       "      <td>1.030157</td>\n",
       "      <td>1.362878</td>\n",
       "      <td>1.527978</td>\n",
       "      <td>1.549228</td>\n",
       "      <td>...</td>\n",
       "      <td>-0.296511</td>\n",
       "      <td>-0.070814</td>\n",
       "      <td>0.436107</td>\n",
       "      <td>1.593698</td>\n",
       "      <td>1.514416</td>\n",
       "      <td>0.955601</td>\n",
       "      <td>-0.100606</td>\n",
       "      <td>1.611483</td>\n",
       "      <td>1.392937</td>\n",
       "      <td>0.988600</td>\n",
       "    </tr>\n",
       "    <tr>\n",
       "      <th>MONOMAC6_HAEMATOPOIETIC_AND_LYMPHOID_TISSUE_TenPx24</th>\n",
       "      <td>-1.395878</td>\n",
       "      <td>0.929522</td>\n",
       "      <td>-0.029949</td>\n",
       "      <td>-0.912453</td>\n",
       "      <td>0.480380</td>\n",
       "      <td>0.862004</td>\n",
       "      <td>-0.122780</td>\n",
       "      <td>-0.228800</td>\n",
       "      <td>-0.520662</td>\n",
       "      <td>0.094693</td>\n",
       "      <td>...</td>\n",
       "      <td>0.026295</td>\n",
       "      <td>-0.249727</td>\n",
       "      <td>0.068060</td>\n",
       "      <td>-0.312835</td>\n",
       "      <td>-0.508589</td>\n",
       "      <td>-0.929248</td>\n",
       "      <td>-0.277244</td>\n",
       "      <td>-0.509805</td>\n",
       "      <td>-0.661874</td>\n",
       "      <td>-0.392276</td>\n",
       "    </tr>\n",
       "    <tr>\n",
       "      <th>OVCAR8_OVARY_TenPx24</th>\n",
       "      <td>-1.165032</td>\n",
       "      <td>-0.828736</td>\n",
       "      <td>-0.686840</td>\n",
       "      <td>0.134896</td>\n",
       "      <td>-0.450290</td>\n",
       "      <td>-0.239972</td>\n",
       "      <td>0.333098</td>\n",
       "      <td>0.531633</td>\n",
       "      <td>-0.407503</td>\n",
       "      <td>-0.227755</td>\n",
       "      <td>...</td>\n",
       "      <td>-0.037819</td>\n",
       "      <td>0.120031</td>\n",
       "      <td>-0.298931</td>\n",
       "      <td>0.231821</td>\n",
       "      <td>-0.668094</td>\n",
       "      <td>2.259293</td>\n",
       "      <td>-0.535367</td>\n",
       "      <td>-0.487932</td>\n",
       "      <td>0.036873</td>\n",
       "      <td>-0.261739</td>\n",
       "    </tr>\n",
       "    <tr>\n",
       "      <th>THP1_HAEMATOPOIETIC_AND_LYMPHOID_TISSUE_TenPx24</th>\n",
       "      <td>-0.547536</td>\n",
       "      <td>0.735431</td>\n",
       "      <td>0.705971</td>\n",
       "      <td>-0.506988</td>\n",
       "      <td>-0.130408</td>\n",
       "      <td>0.434085</td>\n",
       "      <td>-0.015642</td>\n",
       "      <td>-0.208036</td>\n",
       "      <td>-0.039010</td>\n",
       "      <td>0.213106</td>\n",
       "      <td>...</td>\n",
       "      <td>0.500743</td>\n",
       "      <td>0.646637</td>\n",
       "      <td>0.545403</td>\n",
       "      <td>-0.555196</td>\n",
       "      <td>0.232358</td>\n",
       "      <td>-1.065651</td>\n",
       "      <td>-0.381614</td>\n",
       "      <td>-0.468407</td>\n",
       "      <td>-0.945096</td>\n",
       "      <td>-0.613091</td>\n",
       "    </tr>\n",
       "  </tbody>\n",
       "</table>\n",
       "<p>420 rows × 5153 columns</p>\n",
       "</div>"
      ],
      "text/plain": [
       "Uniprot                                             S12A2_HUMAN  KDM1A_HUMAN  \\\n",
       "TenPx01_Peptides                                      41.000000    25.000000   \n",
       "TenPx02_Peptides                                      16.000000    35.000000   \n",
       "TenPx03_Peptides                                      23.000000    37.000000   \n",
       "TenPx04_Peptides                                      59.000000    40.000000   \n",
       "TenPx06_Peptides                                      44.000000    33.000000   \n",
       "...                                                         ...          ...   \n",
       "FADU_UPPER_AERODIGESTIVE_TRACT_TenPx24                -0.071063    -0.817245   \n",
       "KP4_PANCREAS_TenPx24                                   0.702306    -0.790010   \n",
       "MONOMAC6_HAEMATOPOIETIC_AND_LYMPHOID_TISSUE_Ten...    -1.395878     0.929522   \n",
       "OVCAR8_OVARY_TenPx24                                  -1.165032    -0.828736   \n",
       "THP1_HAEMATOPOIETIC_AND_LYMPHOID_TISSUE_TenPx24       -0.547536     0.735431   \n",
       "\n",
       "Uniprot                                             SRP14_HUMAN  SOGA1_HUMAN  \\\n",
       "TenPx01_Peptides                                      18.000000    18.000000   \n",
       "TenPx02_Peptides                                      16.000000     4.000000   \n",
       "TenPx03_Peptides                                      16.000000    21.000000   \n",
       "TenPx04_Peptides                                      16.000000     9.000000   \n",
       "TenPx06_Peptides                                      26.000000     8.000000   \n",
       "...                                                         ...          ...   \n",
       "FADU_UPPER_AERODIGESTIVE_TRACT_TenPx24                 0.119898    -0.400784   \n",
       "KP4_PANCREAS_TenPx24                                  -1.139911    -0.107880   \n",
       "MONOMAC6_HAEMATOPOIETIC_AND_LYMPHOID_TISSUE_Ten...    -0.029949    -0.912453   \n",
       "OVCAR8_OVARY_TenPx24                                  -0.686840     0.134896   \n",
       "THP1_HAEMATOPOIETIC_AND_LYMPHOID_TISSUE_TenPx24        0.705971    -0.506988   \n",
       "\n",
       "Uniprot                                             NU133_HUMAN   RL4_HUMAN  \\\n",
       "TenPx01_Peptides                                      44.000000   79.000000   \n",
       "TenPx02_Peptides                                      46.000000   92.000000   \n",
       "TenPx03_Peptides                                      40.000000  103.000000   \n",
       "TenPx04_Peptides                                      47.000000   83.000000   \n",
       "TenPx06_Peptides                                      33.000000   79.000000   \n",
       "...                                                         ...         ...   \n",
       "FADU_UPPER_AERODIGESTIVE_TRACT_TenPx24                -0.741328   -1.236118   \n",
       "KP4_PANCREAS_TenPx24                                  -0.313100   -0.641682   \n",
       "MONOMAC6_HAEMATOPOIETIC_AND_LYMPHOID_TISSUE_Ten...     0.480380    0.862004   \n",
       "OVCAR8_OVARY_TenPx24                                  -0.450290   -0.239972   \n",
       "THP1_HAEMATOPOIETIC_AND_LYMPHOID_TISSUE_TenPx24       -0.130408    0.434085   \n",
       "\n",
       "Uniprot                                             FUBP2_HUMAN  FUBP3_HUMAN  \\\n",
       "TenPx01_Peptides                                      87.000000    48.000000   \n",
       "TenPx02_Peptides                                     114.000000    51.000000   \n",
       "TenPx03_Peptides                                      97.000000    64.000000   \n",
       "TenPx04_Peptides                                      87.000000    47.000000   \n",
       "TenPx06_Peptides                                      90.000000    50.000000   \n",
       "...                                                         ...          ...   \n",
       "FADU_UPPER_AERODIGESTIVE_TRACT_TenPx24                 0.734045     0.635489   \n",
       "KP4_PANCREAS_TenPx24                                   1.030157     1.362878   \n",
       "MONOMAC6_HAEMATOPOIETIC_AND_LYMPHOID_TISSUE_Ten...    -0.122780    -0.228800   \n",
       "OVCAR8_OVARY_TenPx24                                   0.333098     0.531633   \n",
       "THP1_HAEMATOPOIETIC_AND_LYMPHOID_TISSUE_TenPx24       -0.015642    -0.208036   \n",
       "\n",
       "Uniprot                                             FUBP1_HUMAN  MMP14_HUMAN  \\\n",
       "TenPx01_Peptides                                      65.000000    22.000000   \n",
       "TenPx02_Peptides                                      91.000000    24.000000   \n",
       "TenPx03_Peptides                                      96.000000    12.000000   \n",
       "TenPx04_Peptides                                      72.000000    13.000000   \n",
       "TenPx06_Peptides                                      63.000000    20.000000   \n",
       "...                                                         ...          ...   \n",
       "FADU_UPPER_AERODIGESTIVE_TRACT_TenPx24                 1.195160     0.341865   \n",
       "KP4_PANCREAS_TenPx24                                   1.527978     1.549228   \n",
       "MONOMAC6_HAEMATOPOIETIC_AND_LYMPHOID_TISSUE_Ten...    -0.520662     0.094693   \n",
       "OVCAR8_OVARY_TenPx24                                  -0.407503    -0.227755   \n",
       "THP1_HAEMATOPOIETIC_AND_LYMPHOID_TISSUE_TenPx24       -0.039010     0.213106   \n",
       "\n",
       "Uniprot                                             ...  VEZF1_HUMAN  \\\n",
       "TenPx01_Peptides                                    ...    11.000000   \n",
       "TenPx02_Peptides                                    ...     8.000000   \n",
       "TenPx03_Peptides                                    ...     7.000000   \n",
       "TenPx04_Peptides                                    ...     9.000000   \n",
       "TenPx06_Peptides                                    ...    10.000000   \n",
       "...                                                 ...          ...   \n",
       "FADU_UPPER_AERODIGESTIVE_TRACT_TenPx24              ...     0.490925   \n",
       "KP4_PANCREAS_TenPx24                                ...    -0.296511   \n",
       "MONOMAC6_HAEMATOPOIETIC_AND_LYMPHOID_TISSUE_Ten...  ...     0.026295   \n",
       "OVCAR8_OVARY_TenPx24                                ...    -0.037819   \n",
       "THP1_HAEMATOPOIETIC_AND_LYMPHOID_TISSUE_TenPx24     ...     0.500743   \n",
       "\n",
       "Uniprot                                             CAPZB_HUMAN  SP1_HUMAN  \\\n",
       "TenPx01_Peptides                                       7.000000   9.000000   \n",
       "TenPx02_Peptides                                       7.000000   4.000000   \n",
       "TenPx03_Peptides                                       6.000000   4.000000   \n",
       "TenPx04_Peptides                                       4.000000   9.000000   \n",
       "TenPx06_Peptides                                       8.000000   8.000000   \n",
       "...                                                         ...        ...   \n",
       "FADU_UPPER_AERODIGESTIVE_TRACT_TenPx24                -0.350087   0.918010   \n",
       "KP4_PANCREAS_TenPx24                                  -0.070814   0.436107   \n",
       "MONOMAC6_HAEMATOPOIETIC_AND_LYMPHOID_TISSUE_Ten...    -0.249727   0.068060   \n",
       "OVCAR8_OVARY_TenPx24                                   0.120031  -0.298931   \n",
       "THP1_HAEMATOPOIETIC_AND_LYMPHOID_TISSUE_TenPx24        0.646637   0.545403   \n",
       "\n",
       "Uniprot                                             SP4_HUMAN  SP3_HUMAN  \\\n",
       "TenPx01_Peptides                                     1.000000   8.000000   \n",
       "TenPx02_Peptides                                     2.000000   9.000000   \n",
       "TenPx03_Peptides                                     5.000000   9.000000   \n",
       "TenPx04_Peptides                                     4.000000   8.000000   \n",
       "TenPx06_Peptides                                     3.000000   8.000000   \n",
       "...                                                       ...        ...   \n",
       "FADU_UPPER_AERODIGESTIVE_TRACT_TenPx24               0.122607   0.952314   \n",
       "KP4_PANCREAS_TenPx24                                 1.593698   1.514416   \n",
       "MONOMAC6_HAEMATOPOIETIC_AND_LYMPHOID_TISSUE_Ten...  -0.312835  -0.508589   \n",
       "OVCAR8_OVARY_TenPx24                                 0.231821  -0.668094   \n",
       "THP1_HAEMATOPOIETIC_AND_LYMPHOID_TISSUE_TenPx24     -0.555196   0.232358   \n",
       "\n",
       "Uniprot                                             NEXN_HUMAN  RM18_HUMAN  \\\n",
       "TenPx01_Peptides                                      8.000000    6.000000   \n",
       "TenPx02_Peptides                                     23.000000    8.000000   \n",
       "TenPx03_Peptides                                      6.000000    8.000000   \n",
       "TenPx04_Peptides                                      9.000000    8.000000   \n",
       "TenPx06_Peptides                                      9.000000    9.000000   \n",
       "...                                                        ...         ...   \n",
       "FADU_UPPER_AERODIGESTIVE_TRACT_TenPx24               -0.493886    0.006167   \n",
       "KP4_PANCREAS_TenPx24                                  0.955601   -0.100606   \n",
       "MONOMAC6_HAEMATOPOIETIC_AND_LYMPHOID_TISSUE_Ten...   -0.929248   -0.277244   \n",
       "OVCAR8_OVARY_TenPx24                                  2.259293   -0.535367   \n",
       "THP1_HAEMATOPOIETIC_AND_LYMPHOID_TISSUE_TenPx24      -1.065651   -0.381614   \n",
       "\n",
       "Uniprot                                             CJ032_HUMAN  SF3B5_HUMAN  \\\n",
       "TenPx01_Peptides                                       4.000000     8.000000   \n",
       "TenPx02_Peptides                                       3.000000     8.000000   \n",
       "TenPx03_Peptides                                       2.000000    12.000000   \n",
       "TenPx04_Peptides                                       2.000000    11.000000   \n",
       "TenPx06_Peptides                                       2.000000    10.000000   \n",
       "...                                                         ...          ...   \n",
       "FADU_UPPER_AERODIGESTIVE_TRACT_TenPx24                 0.588836     0.973730   \n",
       "KP4_PANCREAS_TenPx24                                   1.611483     1.392937   \n",
       "MONOMAC6_HAEMATOPOIETIC_AND_LYMPHOID_TISSUE_Ten...    -0.509805    -0.661874   \n",
       "OVCAR8_OVARY_TenPx24                                  -0.487932     0.036873   \n",
       "THP1_HAEMATOPOIETIC_AND_LYMPHOID_TISSUE_TenPx24       -0.468407    -0.945096   \n",
       "\n",
       "Uniprot                                             RM42_HUMAN  \n",
       "TenPx01_Peptides                                      5.000000  \n",
       "TenPx02_Peptides                                      5.000000  \n",
       "TenPx03_Peptides                                      5.000000  \n",
       "TenPx04_Peptides                                      3.000000  \n",
       "TenPx06_Peptides                                      1.000000  \n",
       "...                                                        ...  \n",
       "FADU_UPPER_AERODIGESTIVE_TRACT_TenPx24                1.083772  \n",
       "KP4_PANCREAS_TenPx24                                  0.988600  \n",
       "MONOMAC6_HAEMATOPOIETIC_AND_LYMPHOID_TISSUE_Ten...   -0.392276  \n",
       "OVCAR8_OVARY_TenPx24                                 -0.261739  \n",
       "THP1_HAEMATOPOIETIC_AND_LYMPHOID_TISSUE_TenPx24      -0.613091  \n",
       "\n",
       "[420 rows x 5153 columns]"
      ]
     },
     "execution_count": 103,
     "metadata": {},
     "output_type": "execute_result"
    }
   ],
   "source": [
    "data = pd.read_csv(r'/Users/katemeeson/Library/Mobile Documents/com~apple~CloudDocs/MRC-DTP_PhD_UoM/Datasets/Alternative datasets/CCLE proteomics/CCLE_all_cls_all_proteins.csv', index_col = [0])\n",
    "data = data.transpose()\n",
    "N, D = data.shape\n",
    "data = data.dropna(axis=1, how='any', thresh=None, subset=None, inplace=False)\n",
    "print('Samples: %s, Proteins: %s'%(N, D))\n",
    "data"
   ]
  },
  {
   "cell_type": "code",
   "execution_count": 104,
   "id": "14c19846",
   "metadata": {},
   "outputs": [
    {
     "data": {
      "text/html": [
       "<div>\n",
       "<style scoped>\n",
       "    .dataframe tbody tr th:only-of-type {\n",
       "        vertical-align: middle;\n",
       "    }\n",
       "\n",
       "    .dataframe tbody tr th {\n",
       "        vertical-align: top;\n",
       "    }\n",
       "\n",
       "    .dataframe thead th {\n",
       "        text-align: right;\n",
       "    }\n",
       "</style>\n",
       "<table border=\"1\" class=\"dataframe\">\n",
       "  <thead>\n",
       "    <tr style=\"text-align: right;\">\n",
       "      <th>Uniprot</th>\n",
       "      <th>S12A2_HUMAN</th>\n",
       "      <th>KDM1A_HUMAN</th>\n",
       "      <th>SRP14_HUMAN</th>\n",
       "      <th>SOGA1_HUMAN</th>\n",
       "      <th>NU133_HUMAN</th>\n",
       "      <th>RL4_HUMAN</th>\n",
       "      <th>FUBP2_HUMAN</th>\n",
       "      <th>FUBP3_HUMAN</th>\n",
       "      <th>FUBP1_HUMAN</th>\n",
       "      <th>MMP14_HUMAN</th>\n",
       "      <th>...</th>\n",
       "      <th>VEZF1_HUMAN</th>\n",
       "      <th>CAPZB_HUMAN</th>\n",
       "      <th>SP1_HUMAN</th>\n",
       "      <th>SP4_HUMAN</th>\n",
       "      <th>SP3_HUMAN</th>\n",
       "      <th>NEXN_HUMAN</th>\n",
       "      <th>RM18_HUMAN</th>\n",
       "      <th>CJ032_HUMAN</th>\n",
       "      <th>SF3B5_HUMAN</th>\n",
       "      <th>RM42_HUMAN</th>\n",
       "    </tr>\n",
       "  </thead>\n",
       "  <tbody>\n",
       "    <tr>\n",
       "      <th>MDAMB468_BREAST_TenPx01</th>\n",
       "      <td>2.111348</td>\n",
       "      <td>0.379683</td>\n",
       "      <td>-0.186838</td>\n",
       "      <td>0.059854</td>\n",
       "      <td>-0.146176</td>\n",
       "      <td>0.135232</td>\n",
       "      <td>-0.190885</td>\n",
       "      <td>-0.063952</td>\n",
       "      <td>0.711772</td>\n",
       "      <td>-1.328042</td>\n",
       "      <td>...</td>\n",
       "      <td>-0.403739</td>\n",
       "      <td>-0.153501</td>\n",
       "      <td>-0.148834</td>\n",
       "      <td>0.173229</td>\n",
       "      <td>0.051509</td>\n",
       "      <td>-0.976917</td>\n",
       "      <td>-0.078762</td>\n",
       "      <td>-0.330626</td>\n",
       "      <td>0.304715</td>\n",
       "      <td>-0.343869</td>\n",
       "    </tr>\n",
       "    <tr>\n",
       "      <th>SH4_SKIN_TenPx01</th>\n",
       "      <td>0.070468</td>\n",
       "      <td>-0.283538</td>\n",
       "      <td>0.197277</td>\n",
       "      <td>0.042464</td>\n",
       "      <td>-0.183708</td>\n",
       "      <td>0.111615</td>\n",
       "      <td>0.109827</td>\n",
       "      <td>-0.155310</td>\n",
       "      <td>-0.283882</td>\n",
       "      <td>0.943085</td>\n",
       "      <td>...</td>\n",
       "      <td>0.240627</td>\n",
       "      <td>-0.196309</td>\n",
       "      <td>-0.286421</td>\n",
       "      <td>-0.990543</td>\n",
       "      <td>-0.145354</td>\n",
       "      <td>-1.457410</td>\n",
       "      <td>0.176580</td>\n",
       "      <td>0.368040</td>\n",
       "      <td>-0.174971</td>\n",
       "      <td>-0.017864</td>\n",
       "    </tr>\n",
       "    <tr>\n",
       "      <th>AU565_BREAST_TenPx01</th>\n",
       "      <td>-0.463928</td>\n",
       "      <td>0.191211</td>\n",
       "      <td>-0.409423</td>\n",
       "      <td>0.035922</td>\n",
       "      <td>-0.080056</td>\n",
       "      <td>-0.054070</td>\n",
       "      <td>-0.487110</td>\n",
       "      <td>-0.357357</td>\n",
       "      <td>0.237767</td>\n",
       "      <td>-1.516565</td>\n",
       "      <td>...</td>\n",
       "      <td>-0.403138</td>\n",
       "      <td>-0.099788</td>\n",
       "      <td>0.275052</td>\n",
       "      <td>-0.613352</td>\n",
       "      <td>-0.216764</td>\n",
       "      <td>-0.993017</td>\n",
       "      <td>0.293515</td>\n",
       "      <td>-0.856616</td>\n",
       "      <td>-0.277952</td>\n",
       "      <td>0.226371</td>\n",
       "    </tr>\n",
       "    <tr>\n",
       "      <th>KMRC1_KIDNEY_TenPx01</th>\n",
       "      <td>-0.883645</td>\n",
       "      <td>-0.595606</td>\n",
       "      <td>-0.070153</td>\n",
       "      <td>-0.064167</td>\n",
       "      <td>-0.195807</td>\n",
       "      <td>0.315089</td>\n",
       "      <td>-0.256803</td>\n",
       "      <td>-0.296321</td>\n",
       "      <td>-0.426623</td>\n",
       "      <td>0.600797</td>\n",
       "      <td>...</td>\n",
       "      <td>-0.562462</td>\n",
       "      <td>0.031485</td>\n",
       "      <td>-0.617817</td>\n",
       "      <td>-0.858956</td>\n",
       "      <td>-0.230409</td>\n",
       "      <td>1.258161</td>\n",
       "      <td>-0.342146</td>\n",
       "      <td>0.171847</td>\n",
       "      <td>-0.469880</td>\n",
       "      <td>-0.576579</td>\n",
       "    </tr>\n",
       "    <tr>\n",
       "      <th>CAL51_BREAST_TenPx01</th>\n",
       "      <td>0.788565</td>\n",
       "      <td>0.391243</td>\n",
       "      <td>0.766739</td>\n",
       "      <td>-0.250695</td>\n",
       "      <td>0.513984</td>\n",
       "      <td>-0.140021</td>\n",
       "      <td>0.194832</td>\n",
       "      <td>0.185674</td>\n",
       "      <td>0.125512</td>\n",
       "      <td>0.142254</td>\n",
       "      <td>...</td>\n",
       "      <td>0.877637</td>\n",
       "      <td>-0.360928</td>\n",
       "      <td>0.720877</td>\n",
       "      <td>0.253705</td>\n",
       "      <td>0.592139</td>\n",
       "      <td>0.388330</td>\n",
       "      <td>-0.114302</td>\n",
       "      <td>0.201265</td>\n",
       "      <td>0.376778</td>\n",
       "      <td>-0.123126</td>\n",
       "    </tr>\n",
       "    <tr>\n",
       "      <th>...</th>\n",
       "      <td>...</td>\n",
       "      <td>...</td>\n",
       "      <td>...</td>\n",
       "      <td>...</td>\n",
       "      <td>...</td>\n",
       "      <td>...</td>\n",
       "      <td>...</td>\n",
       "      <td>...</td>\n",
       "      <td>...</td>\n",
       "      <td>...</td>\n",
       "      <td>...</td>\n",
       "      <td>...</td>\n",
       "      <td>...</td>\n",
       "      <td>...</td>\n",
       "      <td>...</td>\n",
       "      <td>...</td>\n",
       "      <td>...</td>\n",
       "      <td>...</td>\n",
       "      <td>...</td>\n",
       "      <td>...</td>\n",
       "      <td>...</td>\n",
       "    </tr>\n",
       "    <tr>\n",
       "      <th>FADU_UPPER_AERODIGESTIVE_TRACT_TenPx24</th>\n",
       "      <td>-0.071063</td>\n",
       "      <td>-0.817245</td>\n",
       "      <td>0.119898</td>\n",
       "      <td>-0.400784</td>\n",
       "      <td>-0.741328</td>\n",
       "      <td>-1.236118</td>\n",
       "      <td>0.734045</td>\n",
       "      <td>0.635489</td>\n",
       "      <td>1.195160</td>\n",
       "      <td>0.341865</td>\n",
       "      <td>...</td>\n",
       "      <td>0.490925</td>\n",
       "      <td>-0.350087</td>\n",
       "      <td>0.918010</td>\n",
       "      <td>0.122607</td>\n",
       "      <td>0.952314</td>\n",
       "      <td>-0.493886</td>\n",
       "      <td>0.006167</td>\n",
       "      <td>0.588836</td>\n",
       "      <td>0.973730</td>\n",
       "      <td>1.083772</td>\n",
       "    </tr>\n",
       "    <tr>\n",
       "      <th>KP4_PANCREAS_TenPx24</th>\n",
       "      <td>0.702306</td>\n",
       "      <td>-0.790010</td>\n",
       "      <td>-1.139911</td>\n",
       "      <td>-0.107880</td>\n",
       "      <td>-0.313100</td>\n",
       "      <td>-0.641682</td>\n",
       "      <td>1.030157</td>\n",
       "      <td>1.362878</td>\n",
       "      <td>1.527978</td>\n",
       "      <td>1.549228</td>\n",
       "      <td>...</td>\n",
       "      <td>-0.296511</td>\n",
       "      <td>-0.070814</td>\n",
       "      <td>0.436107</td>\n",
       "      <td>1.593698</td>\n",
       "      <td>1.514416</td>\n",
       "      <td>0.955601</td>\n",
       "      <td>-0.100606</td>\n",
       "      <td>1.611483</td>\n",
       "      <td>1.392937</td>\n",
       "      <td>0.988600</td>\n",
       "    </tr>\n",
       "    <tr>\n",
       "      <th>MONOMAC6_HAEMATOPOIETIC_AND_LYMPHOID_TISSUE_TenPx24</th>\n",
       "      <td>-1.395878</td>\n",
       "      <td>0.929522</td>\n",
       "      <td>-0.029949</td>\n",
       "      <td>-0.912453</td>\n",
       "      <td>0.480380</td>\n",
       "      <td>0.862004</td>\n",
       "      <td>-0.122780</td>\n",
       "      <td>-0.228800</td>\n",
       "      <td>-0.520662</td>\n",
       "      <td>0.094693</td>\n",
       "      <td>...</td>\n",
       "      <td>0.026295</td>\n",
       "      <td>-0.249727</td>\n",
       "      <td>0.068060</td>\n",
       "      <td>-0.312835</td>\n",
       "      <td>-0.508589</td>\n",
       "      <td>-0.929248</td>\n",
       "      <td>-0.277244</td>\n",
       "      <td>-0.509805</td>\n",
       "      <td>-0.661874</td>\n",
       "      <td>-0.392276</td>\n",
       "    </tr>\n",
       "    <tr>\n",
       "      <th>OVCAR8_OVARY_TenPx24</th>\n",
       "      <td>-1.165032</td>\n",
       "      <td>-0.828736</td>\n",
       "      <td>-0.686840</td>\n",
       "      <td>0.134896</td>\n",
       "      <td>-0.450290</td>\n",
       "      <td>-0.239972</td>\n",
       "      <td>0.333098</td>\n",
       "      <td>0.531633</td>\n",
       "      <td>-0.407503</td>\n",
       "      <td>-0.227755</td>\n",
       "      <td>...</td>\n",
       "      <td>-0.037819</td>\n",
       "      <td>0.120031</td>\n",
       "      <td>-0.298931</td>\n",
       "      <td>0.231821</td>\n",
       "      <td>-0.668094</td>\n",
       "      <td>2.259293</td>\n",
       "      <td>-0.535367</td>\n",
       "      <td>-0.487932</td>\n",
       "      <td>0.036873</td>\n",
       "      <td>-0.261739</td>\n",
       "    </tr>\n",
       "    <tr>\n",
       "      <th>THP1_HAEMATOPOIETIC_AND_LYMPHOID_TISSUE_TenPx24</th>\n",
       "      <td>-0.547536</td>\n",
       "      <td>0.735431</td>\n",
       "      <td>0.705971</td>\n",
       "      <td>-0.506988</td>\n",
       "      <td>-0.130408</td>\n",
       "      <td>0.434085</td>\n",
       "      <td>-0.015642</td>\n",
       "      <td>-0.208036</td>\n",
       "      <td>-0.039010</td>\n",
       "      <td>0.213106</td>\n",
       "      <td>...</td>\n",
       "      <td>0.500743</td>\n",
       "      <td>0.646637</td>\n",
       "      <td>0.545403</td>\n",
       "      <td>-0.555196</td>\n",
       "      <td>0.232358</td>\n",
       "      <td>-1.065651</td>\n",
       "      <td>-0.381614</td>\n",
       "      <td>-0.468407</td>\n",
       "      <td>-0.945096</td>\n",
       "      <td>-0.613091</td>\n",
       "    </tr>\n",
       "  </tbody>\n",
       "</table>\n",
       "<p>378 rows × 5153 columns</p>\n",
       "</div>"
      ],
      "text/plain": [
       "Uniprot                                             S12A2_HUMAN  KDM1A_HUMAN  \\\n",
       "MDAMB468_BREAST_TenPx01                                2.111348     0.379683   \n",
       "SH4_SKIN_TenPx01                                       0.070468    -0.283538   \n",
       "AU565_BREAST_TenPx01                                  -0.463928     0.191211   \n",
       "KMRC1_KIDNEY_TenPx01                                  -0.883645    -0.595606   \n",
       "CAL51_BREAST_TenPx01                                   0.788565     0.391243   \n",
       "...                                                         ...          ...   \n",
       "FADU_UPPER_AERODIGESTIVE_TRACT_TenPx24                -0.071063    -0.817245   \n",
       "KP4_PANCREAS_TenPx24                                   0.702306    -0.790010   \n",
       "MONOMAC6_HAEMATOPOIETIC_AND_LYMPHOID_TISSUE_Ten...    -1.395878     0.929522   \n",
       "OVCAR8_OVARY_TenPx24                                  -1.165032    -0.828736   \n",
       "THP1_HAEMATOPOIETIC_AND_LYMPHOID_TISSUE_TenPx24       -0.547536     0.735431   \n",
       "\n",
       "Uniprot                                             SRP14_HUMAN  SOGA1_HUMAN  \\\n",
       "MDAMB468_BREAST_TenPx01                               -0.186838     0.059854   \n",
       "SH4_SKIN_TenPx01                                       0.197277     0.042464   \n",
       "AU565_BREAST_TenPx01                                  -0.409423     0.035922   \n",
       "KMRC1_KIDNEY_TenPx01                                  -0.070153    -0.064167   \n",
       "CAL51_BREAST_TenPx01                                   0.766739    -0.250695   \n",
       "...                                                         ...          ...   \n",
       "FADU_UPPER_AERODIGESTIVE_TRACT_TenPx24                 0.119898    -0.400784   \n",
       "KP4_PANCREAS_TenPx24                                  -1.139911    -0.107880   \n",
       "MONOMAC6_HAEMATOPOIETIC_AND_LYMPHOID_TISSUE_Ten...    -0.029949    -0.912453   \n",
       "OVCAR8_OVARY_TenPx24                                  -0.686840     0.134896   \n",
       "THP1_HAEMATOPOIETIC_AND_LYMPHOID_TISSUE_TenPx24        0.705971    -0.506988   \n",
       "\n",
       "Uniprot                                             NU133_HUMAN  RL4_HUMAN  \\\n",
       "MDAMB468_BREAST_TenPx01                               -0.146176   0.135232   \n",
       "SH4_SKIN_TenPx01                                      -0.183708   0.111615   \n",
       "AU565_BREAST_TenPx01                                  -0.080056  -0.054070   \n",
       "KMRC1_KIDNEY_TenPx01                                  -0.195807   0.315089   \n",
       "CAL51_BREAST_TenPx01                                   0.513984  -0.140021   \n",
       "...                                                         ...        ...   \n",
       "FADU_UPPER_AERODIGESTIVE_TRACT_TenPx24                -0.741328  -1.236118   \n",
       "KP4_PANCREAS_TenPx24                                  -0.313100  -0.641682   \n",
       "MONOMAC6_HAEMATOPOIETIC_AND_LYMPHOID_TISSUE_Ten...     0.480380   0.862004   \n",
       "OVCAR8_OVARY_TenPx24                                  -0.450290  -0.239972   \n",
       "THP1_HAEMATOPOIETIC_AND_LYMPHOID_TISSUE_TenPx24       -0.130408   0.434085   \n",
       "\n",
       "Uniprot                                             FUBP2_HUMAN  FUBP3_HUMAN  \\\n",
       "MDAMB468_BREAST_TenPx01                               -0.190885    -0.063952   \n",
       "SH4_SKIN_TenPx01                                       0.109827    -0.155310   \n",
       "AU565_BREAST_TenPx01                                  -0.487110    -0.357357   \n",
       "KMRC1_KIDNEY_TenPx01                                  -0.256803    -0.296321   \n",
       "CAL51_BREAST_TenPx01                                   0.194832     0.185674   \n",
       "...                                                         ...          ...   \n",
       "FADU_UPPER_AERODIGESTIVE_TRACT_TenPx24                 0.734045     0.635489   \n",
       "KP4_PANCREAS_TenPx24                                   1.030157     1.362878   \n",
       "MONOMAC6_HAEMATOPOIETIC_AND_LYMPHOID_TISSUE_Ten...    -0.122780    -0.228800   \n",
       "OVCAR8_OVARY_TenPx24                                   0.333098     0.531633   \n",
       "THP1_HAEMATOPOIETIC_AND_LYMPHOID_TISSUE_TenPx24       -0.015642    -0.208036   \n",
       "\n",
       "Uniprot                                             FUBP1_HUMAN  MMP14_HUMAN  \\\n",
       "MDAMB468_BREAST_TenPx01                                0.711772    -1.328042   \n",
       "SH4_SKIN_TenPx01                                      -0.283882     0.943085   \n",
       "AU565_BREAST_TenPx01                                   0.237767    -1.516565   \n",
       "KMRC1_KIDNEY_TenPx01                                  -0.426623     0.600797   \n",
       "CAL51_BREAST_TenPx01                                   0.125512     0.142254   \n",
       "...                                                         ...          ...   \n",
       "FADU_UPPER_AERODIGESTIVE_TRACT_TenPx24                 1.195160     0.341865   \n",
       "KP4_PANCREAS_TenPx24                                   1.527978     1.549228   \n",
       "MONOMAC6_HAEMATOPOIETIC_AND_LYMPHOID_TISSUE_Ten...    -0.520662     0.094693   \n",
       "OVCAR8_OVARY_TenPx24                                  -0.407503    -0.227755   \n",
       "THP1_HAEMATOPOIETIC_AND_LYMPHOID_TISSUE_TenPx24       -0.039010     0.213106   \n",
       "\n",
       "Uniprot                                             ...  VEZF1_HUMAN  \\\n",
       "MDAMB468_BREAST_TenPx01                             ...    -0.403739   \n",
       "SH4_SKIN_TenPx01                                    ...     0.240627   \n",
       "AU565_BREAST_TenPx01                                ...    -0.403138   \n",
       "KMRC1_KIDNEY_TenPx01                                ...    -0.562462   \n",
       "CAL51_BREAST_TenPx01                                ...     0.877637   \n",
       "...                                                 ...          ...   \n",
       "FADU_UPPER_AERODIGESTIVE_TRACT_TenPx24              ...     0.490925   \n",
       "KP4_PANCREAS_TenPx24                                ...    -0.296511   \n",
       "MONOMAC6_HAEMATOPOIETIC_AND_LYMPHOID_TISSUE_Ten...  ...     0.026295   \n",
       "OVCAR8_OVARY_TenPx24                                ...    -0.037819   \n",
       "THP1_HAEMATOPOIETIC_AND_LYMPHOID_TISSUE_TenPx24     ...     0.500743   \n",
       "\n",
       "Uniprot                                             CAPZB_HUMAN  SP1_HUMAN  \\\n",
       "MDAMB468_BREAST_TenPx01                               -0.153501  -0.148834   \n",
       "SH4_SKIN_TenPx01                                      -0.196309  -0.286421   \n",
       "AU565_BREAST_TenPx01                                  -0.099788   0.275052   \n",
       "KMRC1_KIDNEY_TenPx01                                   0.031485  -0.617817   \n",
       "CAL51_BREAST_TenPx01                                  -0.360928   0.720877   \n",
       "...                                                         ...        ...   \n",
       "FADU_UPPER_AERODIGESTIVE_TRACT_TenPx24                -0.350087   0.918010   \n",
       "KP4_PANCREAS_TenPx24                                  -0.070814   0.436107   \n",
       "MONOMAC6_HAEMATOPOIETIC_AND_LYMPHOID_TISSUE_Ten...    -0.249727   0.068060   \n",
       "OVCAR8_OVARY_TenPx24                                   0.120031  -0.298931   \n",
       "THP1_HAEMATOPOIETIC_AND_LYMPHOID_TISSUE_TenPx24        0.646637   0.545403   \n",
       "\n",
       "Uniprot                                             SP4_HUMAN  SP3_HUMAN  \\\n",
       "MDAMB468_BREAST_TenPx01                              0.173229   0.051509   \n",
       "SH4_SKIN_TenPx01                                    -0.990543  -0.145354   \n",
       "AU565_BREAST_TenPx01                                -0.613352  -0.216764   \n",
       "KMRC1_KIDNEY_TenPx01                                -0.858956  -0.230409   \n",
       "CAL51_BREAST_TenPx01                                 0.253705   0.592139   \n",
       "...                                                       ...        ...   \n",
       "FADU_UPPER_AERODIGESTIVE_TRACT_TenPx24               0.122607   0.952314   \n",
       "KP4_PANCREAS_TenPx24                                 1.593698   1.514416   \n",
       "MONOMAC6_HAEMATOPOIETIC_AND_LYMPHOID_TISSUE_Ten...  -0.312835  -0.508589   \n",
       "OVCAR8_OVARY_TenPx24                                 0.231821  -0.668094   \n",
       "THP1_HAEMATOPOIETIC_AND_LYMPHOID_TISSUE_TenPx24     -0.555196   0.232358   \n",
       "\n",
       "Uniprot                                             NEXN_HUMAN  RM18_HUMAN  \\\n",
       "MDAMB468_BREAST_TenPx01                              -0.976917   -0.078762   \n",
       "SH4_SKIN_TenPx01                                     -1.457410    0.176580   \n",
       "AU565_BREAST_TenPx01                                 -0.993017    0.293515   \n",
       "KMRC1_KIDNEY_TenPx01                                  1.258161   -0.342146   \n",
       "CAL51_BREAST_TenPx01                                  0.388330   -0.114302   \n",
       "...                                                        ...         ...   \n",
       "FADU_UPPER_AERODIGESTIVE_TRACT_TenPx24               -0.493886    0.006167   \n",
       "KP4_PANCREAS_TenPx24                                  0.955601   -0.100606   \n",
       "MONOMAC6_HAEMATOPOIETIC_AND_LYMPHOID_TISSUE_Ten...   -0.929248   -0.277244   \n",
       "OVCAR8_OVARY_TenPx24                                  2.259293   -0.535367   \n",
       "THP1_HAEMATOPOIETIC_AND_LYMPHOID_TISSUE_TenPx24      -1.065651   -0.381614   \n",
       "\n",
       "Uniprot                                             CJ032_HUMAN  SF3B5_HUMAN  \\\n",
       "MDAMB468_BREAST_TenPx01                               -0.330626     0.304715   \n",
       "SH4_SKIN_TenPx01                                       0.368040    -0.174971   \n",
       "AU565_BREAST_TenPx01                                  -0.856616    -0.277952   \n",
       "KMRC1_KIDNEY_TenPx01                                   0.171847    -0.469880   \n",
       "CAL51_BREAST_TenPx01                                   0.201265     0.376778   \n",
       "...                                                         ...          ...   \n",
       "FADU_UPPER_AERODIGESTIVE_TRACT_TenPx24                 0.588836     0.973730   \n",
       "KP4_PANCREAS_TenPx24                                   1.611483     1.392937   \n",
       "MONOMAC6_HAEMATOPOIETIC_AND_LYMPHOID_TISSUE_Ten...    -0.509805    -0.661874   \n",
       "OVCAR8_OVARY_TenPx24                                  -0.487932     0.036873   \n",
       "THP1_HAEMATOPOIETIC_AND_LYMPHOID_TISSUE_TenPx24       -0.468407    -0.945096   \n",
       "\n",
       "Uniprot                                             RM42_HUMAN  \n",
       "MDAMB468_BREAST_TenPx01                              -0.343869  \n",
       "SH4_SKIN_TenPx01                                     -0.017864  \n",
       "AU565_BREAST_TenPx01                                  0.226371  \n",
       "KMRC1_KIDNEY_TenPx01                                 -0.576579  \n",
       "CAL51_BREAST_TenPx01                                 -0.123126  \n",
       "...                                                        ...  \n",
       "FADU_UPPER_AERODIGESTIVE_TRACT_TenPx24                1.083772  \n",
       "KP4_PANCREAS_TenPx24                                  0.988600  \n",
       "MONOMAC6_HAEMATOPOIETIC_AND_LYMPHOID_TISSUE_Ten...   -0.392276  \n",
       "OVCAR8_OVARY_TenPx24                                 -0.261739  \n",
       "THP1_HAEMATOPOIETIC_AND_LYMPHOID_TISSUE_TenPx24      -0.613091  \n",
       "\n",
       "[378 rows x 5153 columns]"
      ]
     },
     "execution_count": 104,
     "metadata": {},
     "output_type": "execute_result"
    }
   ],
   "source": [
    "data_2 = data.iloc[42:462, 0:5153]\n",
    "data_2"
   ]
  },
  {
   "cell_type": "code",
   "execution_count": 51,
   "id": "221fb454",
   "metadata": {},
   "outputs": [
    {
     "data": {
      "text/html": [
       "<div>\n",
       "<style scoped>\n",
       "    .dataframe tbody tr th:only-of-type {\n",
       "        vertical-align: middle;\n",
       "    }\n",
       "\n",
       "    .dataframe tbody tr th {\n",
       "        vertical-align: top;\n",
       "    }\n",
       "\n",
       "    .dataframe thead th {\n",
       "        text-align: right;\n",
       "    }\n",
       "</style>\n",
       "<table border=\"1\" class=\"dataframe\">\n",
       "  <thead>\n",
       "    <tr style=\"text-align: right;\">\n",
       "      <th>Uniprot</th>\n",
       "      <th>S12A2_HUMAN</th>\n",
       "      <th>KDM1A_HUMAN</th>\n",
       "      <th>SRP14_HUMAN</th>\n",
       "      <th>SOGA1_HUMAN</th>\n",
       "      <th>NU133_HUMAN</th>\n",
       "      <th>RL4_HUMAN</th>\n",
       "      <th>FUBP2_HUMAN</th>\n",
       "      <th>FUBP3_HUMAN</th>\n",
       "      <th>FUBP1_HUMAN</th>\n",
       "      <th>MMP14_HUMAN</th>\n",
       "      <th>...</th>\n",
       "      <th>SP1_HUMAN</th>\n",
       "      <th>SP4_HUMAN</th>\n",
       "      <th>SP3_HUMAN</th>\n",
       "      <th>NEXN_HUMAN</th>\n",
       "      <th>RM18_HUMAN</th>\n",
       "      <th>CJ032_HUMAN</th>\n",
       "      <th>SF3B5_HUMAN</th>\n",
       "      <th>RM42_HUMAN</th>\n",
       "      <th>label</th>\n",
       "      <th>z_score</th>\n",
       "    </tr>\n",
       "  </thead>\n",
       "  <tbody>\n",
       "    <tr>\n",
       "      <th>MDAMB468_BREAST_TenPx01</th>\n",
       "      <td>2.111348</td>\n",
       "      <td>0.379683</td>\n",
       "      <td>-0.186838</td>\n",
       "      <td>0.059854</td>\n",
       "      <td>-0.146176</td>\n",
       "      <td>0.135232</td>\n",
       "      <td>-0.190885</td>\n",
       "      <td>-0.063952</td>\n",
       "      <td>0.711772</td>\n",
       "      <td>-1.328042</td>\n",
       "      <td>...</td>\n",
       "      <td>-0.148834</td>\n",
       "      <td>0.173229</td>\n",
       "      <td>0.051509</td>\n",
       "      <td>-0.976917</td>\n",
       "      <td>-0.078762</td>\n",
       "      <td>-0.330626</td>\n",
       "      <td>0.304715</td>\n",
       "      <td>-0.343869</td>\n",
       "      <td>MDAMB468_BREAST_TenPx01</td>\n",
       "      <td>2.075073</td>\n",
       "    </tr>\n",
       "    <tr>\n",
       "      <th>SH4_SKIN_TenPx01</th>\n",
       "      <td>0.070468</td>\n",
       "      <td>-0.283538</td>\n",
       "      <td>0.197277</td>\n",
       "      <td>0.042464</td>\n",
       "      <td>-0.183708</td>\n",
       "      <td>0.111615</td>\n",
       "      <td>0.109827</td>\n",
       "      <td>-0.155310</td>\n",
       "      <td>-0.283882</td>\n",
       "      <td>0.943085</td>\n",
       "      <td>...</td>\n",
       "      <td>-0.286421</td>\n",
       "      <td>-0.990543</td>\n",
       "      <td>-0.145354</td>\n",
       "      <td>-1.457410</td>\n",
       "      <td>0.176580</td>\n",
       "      <td>0.368040</td>\n",
       "      <td>-0.174971</td>\n",
       "      <td>-0.017864</td>\n",
       "      <td>SH4_SKIN_TenPx01</td>\n",
       "      <td>0.138008</td>\n",
       "    </tr>\n",
       "    <tr>\n",
       "      <th>AU565_BREAST_TenPx01</th>\n",
       "      <td>-0.463928</td>\n",
       "      <td>0.191211</td>\n",
       "      <td>-0.409423</td>\n",
       "      <td>0.035922</td>\n",
       "      <td>-0.080056</td>\n",
       "      <td>-0.054070</td>\n",
       "      <td>-0.487110</td>\n",
       "      <td>-0.357357</td>\n",
       "      <td>0.237767</td>\n",
       "      <td>-1.516565</td>\n",
       "      <td>...</td>\n",
       "      <td>0.275052</td>\n",
       "      <td>-0.613352</td>\n",
       "      <td>-0.216764</td>\n",
       "      <td>-0.993017</td>\n",
       "      <td>0.293515</td>\n",
       "      <td>-0.856616</td>\n",
       "      <td>-0.277952</td>\n",
       "      <td>0.226371</td>\n",
       "      <td>AU565_BREAST_TenPx01</td>\n",
       "      <td>-0.369204</td>\n",
       "    </tr>\n",
       "    <tr>\n",
       "      <th>KMRC1_KIDNEY_TenPx01</th>\n",
       "      <td>-0.883645</td>\n",
       "      <td>-0.595606</td>\n",
       "      <td>-0.070153</td>\n",
       "      <td>-0.064167</td>\n",
       "      <td>-0.195807</td>\n",
       "      <td>0.315089</td>\n",
       "      <td>-0.256803</td>\n",
       "      <td>-0.296321</td>\n",
       "      <td>-0.426623</td>\n",
       "      <td>0.600797</td>\n",
       "      <td>...</td>\n",
       "      <td>-0.617817</td>\n",
       "      <td>-0.858956</td>\n",
       "      <td>-0.230409</td>\n",
       "      <td>1.258161</td>\n",
       "      <td>-0.342146</td>\n",
       "      <td>0.171847</td>\n",
       "      <td>-0.469880</td>\n",
       "      <td>-0.576579</td>\n",
       "      <td>KMRC1_KIDNEY_TenPx01</td>\n",
       "      <td>-0.767571</td>\n",
       "    </tr>\n",
       "    <tr>\n",
       "      <th>CAL51_BREAST_TenPx01</th>\n",
       "      <td>0.788565</td>\n",
       "      <td>0.391243</td>\n",
       "      <td>0.766739</td>\n",
       "      <td>-0.250695</td>\n",
       "      <td>0.513984</td>\n",
       "      <td>-0.140021</td>\n",
       "      <td>0.194832</td>\n",
       "      <td>0.185674</td>\n",
       "      <td>0.125512</td>\n",
       "      <td>0.142254</td>\n",
       "      <td>...</td>\n",
       "      <td>0.720877</td>\n",
       "      <td>0.253705</td>\n",
       "      <td>0.592139</td>\n",
       "      <td>0.388330</td>\n",
       "      <td>-0.114302</td>\n",
       "      <td>0.201265</td>\n",
       "      <td>0.376778</td>\n",
       "      <td>-0.123126</td>\n",
       "      <td>CAL51_BREAST_TenPx01</td>\n",
       "      <td>0.819577</td>\n",
       "    </tr>\n",
       "    <tr>\n",
       "      <th>...</th>\n",
       "      <td>...</td>\n",
       "      <td>...</td>\n",
       "      <td>...</td>\n",
       "      <td>...</td>\n",
       "      <td>...</td>\n",
       "      <td>...</td>\n",
       "      <td>...</td>\n",
       "      <td>...</td>\n",
       "      <td>...</td>\n",
       "      <td>...</td>\n",
       "      <td>...</td>\n",
       "      <td>...</td>\n",
       "      <td>...</td>\n",
       "      <td>...</td>\n",
       "      <td>...</td>\n",
       "      <td>...</td>\n",
       "      <td>...</td>\n",
       "      <td>...</td>\n",
       "      <td>...</td>\n",
       "      <td>...</td>\n",
       "      <td>...</td>\n",
       "    </tr>\n",
       "    <tr>\n",
       "      <th>FADU_UPPER_AERODIGESTIVE_TRACT_TenPx24</th>\n",
       "      <td>-0.071063</td>\n",
       "      <td>-0.817245</td>\n",
       "      <td>0.119898</td>\n",
       "      <td>-0.400784</td>\n",
       "      <td>-0.741328</td>\n",
       "      <td>-1.236118</td>\n",
       "      <td>0.734045</td>\n",
       "      <td>0.635489</td>\n",
       "      <td>1.195160</td>\n",
       "      <td>0.341865</td>\n",
       "      <td>...</td>\n",
       "      <td>0.918010</td>\n",
       "      <td>0.122607</td>\n",
       "      <td>0.952314</td>\n",
       "      <td>-0.493886</td>\n",
       "      <td>0.006167</td>\n",
       "      <td>0.588836</td>\n",
       "      <td>0.973730</td>\n",
       "      <td>1.083772</td>\n",
       "      <td>FADU_UPPER_AERODIGESTIVE_TRACT_TenPx24</td>\n",
       "      <td>0.003676</td>\n",
       "    </tr>\n",
       "    <tr>\n",
       "      <th>KP4_PANCREAS_TenPx24</th>\n",
       "      <td>0.702306</td>\n",
       "      <td>-0.790010</td>\n",
       "      <td>-1.139911</td>\n",
       "      <td>-0.107880</td>\n",
       "      <td>-0.313100</td>\n",
       "      <td>-0.641682</td>\n",
       "      <td>1.030157</td>\n",
       "      <td>1.362878</td>\n",
       "      <td>1.527978</td>\n",
       "      <td>1.549228</td>\n",
       "      <td>...</td>\n",
       "      <td>0.436107</td>\n",
       "      <td>1.593698</td>\n",
       "      <td>1.514416</td>\n",
       "      <td>0.955601</td>\n",
       "      <td>-0.100606</td>\n",
       "      <td>1.611483</td>\n",
       "      <td>1.392937</td>\n",
       "      <td>0.988600</td>\n",
       "      <td>KP4_PANCREAS_TenPx24</td>\n",
       "      <td>0.737706</td>\n",
       "    </tr>\n",
       "    <tr>\n",
       "      <th>MONOMAC6_HAEMATOPOIETIC_AND_LYMPHOID_TISSUE_TenPx24</th>\n",
       "      <td>-1.395878</td>\n",
       "      <td>0.929522</td>\n",
       "      <td>-0.029949</td>\n",
       "      <td>-0.912453</td>\n",
       "      <td>0.480380</td>\n",
       "      <td>0.862004</td>\n",
       "      <td>-0.122780</td>\n",
       "      <td>-0.228800</td>\n",
       "      <td>-0.520662</td>\n",
       "      <td>0.094693</td>\n",
       "      <td>...</td>\n",
       "      <td>0.068060</td>\n",
       "      <td>-0.312835</td>\n",
       "      <td>-0.508589</td>\n",
       "      <td>-0.929248</td>\n",
       "      <td>-0.277244</td>\n",
       "      <td>-0.509805</td>\n",
       "      <td>-0.661874</td>\n",
       "      <td>-0.392276</td>\n",
       "      <td>MONOMAC6_HAEMATOPOIETIC_AND_LYMPHOID_TISSUE_Te...</td>\n",
       "      <td>-1.253747</td>\n",
       "    </tr>\n",
       "    <tr>\n",
       "      <th>OVCAR8_OVARY_TenPx24</th>\n",
       "      <td>-1.165032</td>\n",
       "      <td>-0.828736</td>\n",
       "      <td>-0.686840</td>\n",
       "      <td>0.134896</td>\n",
       "      <td>-0.450290</td>\n",
       "      <td>-0.239972</td>\n",
       "      <td>0.333098</td>\n",
       "      <td>0.531633</td>\n",
       "      <td>-0.407503</td>\n",
       "      <td>-0.227755</td>\n",
       "      <td>...</td>\n",
       "      <td>-0.298931</td>\n",
       "      <td>0.231821</td>\n",
       "      <td>-0.668094</td>\n",
       "      <td>2.259293</td>\n",
       "      <td>-0.535367</td>\n",
       "      <td>-0.487932</td>\n",
       "      <td>0.036873</td>\n",
       "      <td>-0.261739</td>\n",
       "      <td>OVCAR8_OVARY_TenPx24</td>\n",
       "      <td>-1.034645</td>\n",
       "    </tr>\n",
       "    <tr>\n",
       "      <th>THP1_HAEMATOPOIETIC_AND_LYMPHOID_TISSUE_TenPx24</th>\n",
       "      <td>-0.547536</td>\n",
       "      <td>0.735431</td>\n",
       "      <td>0.705971</td>\n",
       "      <td>-0.506988</td>\n",
       "      <td>-0.130408</td>\n",
       "      <td>0.434085</td>\n",
       "      <td>-0.015642</td>\n",
       "      <td>-0.208036</td>\n",
       "      <td>-0.039010</td>\n",
       "      <td>0.213106</td>\n",
       "      <td>...</td>\n",
       "      <td>0.545403</td>\n",
       "      <td>-0.555196</td>\n",
       "      <td>0.232358</td>\n",
       "      <td>-1.065651</td>\n",
       "      <td>-0.381614</td>\n",
       "      <td>-0.468407</td>\n",
       "      <td>-0.945096</td>\n",
       "      <td>-0.613091</td>\n",
       "      <td>THP1_HAEMATOPOIETIC_AND_LYMPHOID_TISSUE_TenPx24</td>\n",
       "      <td>-0.448559</td>\n",
       "    </tr>\n",
       "  </tbody>\n",
       "</table>\n",
       "<p>378 rows × 5155 columns</p>\n",
       "</div>"
      ],
      "text/plain": [
       "Uniprot                                             S12A2_HUMAN  KDM1A_HUMAN  \\\n",
       "MDAMB468_BREAST_TenPx01                                2.111348     0.379683   \n",
       "SH4_SKIN_TenPx01                                       0.070468    -0.283538   \n",
       "AU565_BREAST_TenPx01                                  -0.463928     0.191211   \n",
       "KMRC1_KIDNEY_TenPx01                                  -0.883645    -0.595606   \n",
       "CAL51_BREAST_TenPx01                                   0.788565     0.391243   \n",
       "...                                                         ...          ...   \n",
       "FADU_UPPER_AERODIGESTIVE_TRACT_TenPx24                -0.071063    -0.817245   \n",
       "KP4_PANCREAS_TenPx24                                   0.702306    -0.790010   \n",
       "MONOMAC6_HAEMATOPOIETIC_AND_LYMPHOID_TISSUE_Ten...    -1.395878     0.929522   \n",
       "OVCAR8_OVARY_TenPx24                                  -1.165032    -0.828736   \n",
       "THP1_HAEMATOPOIETIC_AND_LYMPHOID_TISSUE_TenPx24       -0.547536     0.735431   \n",
       "\n",
       "Uniprot                                             SRP14_HUMAN  SOGA1_HUMAN  \\\n",
       "MDAMB468_BREAST_TenPx01                               -0.186838     0.059854   \n",
       "SH4_SKIN_TenPx01                                       0.197277     0.042464   \n",
       "AU565_BREAST_TenPx01                                  -0.409423     0.035922   \n",
       "KMRC1_KIDNEY_TenPx01                                  -0.070153    -0.064167   \n",
       "CAL51_BREAST_TenPx01                                   0.766739    -0.250695   \n",
       "...                                                         ...          ...   \n",
       "FADU_UPPER_AERODIGESTIVE_TRACT_TenPx24                 0.119898    -0.400784   \n",
       "KP4_PANCREAS_TenPx24                                  -1.139911    -0.107880   \n",
       "MONOMAC6_HAEMATOPOIETIC_AND_LYMPHOID_TISSUE_Ten...    -0.029949    -0.912453   \n",
       "OVCAR8_OVARY_TenPx24                                  -0.686840     0.134896   \n",
       "THP1_HAEMATOPOIETIC_AND_LYMPHOID_TISSUE_TenPx24        0.705971    -0.506988   \n",
       "\n",
       "Uniprot                                             NU133_HUMAN  RL4_HUMAN  \\\n",
       "MDAMB468_BREAST_TenPx01                               -0.146176   0.135232   \n",
       "SH4_SKIN_TenPx01                                      -0.183708   0.111615   \n",
       "AU565_BREAST_TenPx01                                  -0.080056  -0.054070   \n",
       "KMRC1_KIDNEY_TenPx01                                  -0.195807   0.315089   \n",
       "CAL51_BREAST_TenPx01                                   0.513984  -0.140021   \n",
       "...                                                         ...        ...   \n",
       "FADU_UPPER_AERODIGESTIVE_TRACT_TenPx24                -0.741328  -1.236118   \n",
       "KP4_PANCREAS_TenPx24                                  -0.313100  -0.641682   \n",
       "MONOMAC6_HAEMATOPOIETIC_AND_LYMPHOID_TISSUE_Ten...     0.480380   0.862004   \n",
       "OVCAR8_OVARY_TenPx24                                  -0.450290  -0.239972   \n",
       "THP1_HAEMATOPOIETIC_AND_LYMPHOID_TISSUE_TenPx24       -0.130408   0.434085   \n",
       "\n",
       "Uniprot                                             FUBP2_HUMAN  FUBP3_HUMAN  \\\n",
       "MDAMB468_BREAST_TenPx01                               -0.190885    -0.063952   \n",
       "SH4_SKIN_TenPx01                                       0.109827    -0.155310   \n",
       "AU565_BREAST_TenPx01                                  -0.487110    -0.357357   \n",
       "KMRC1_KIDNEY_TenPx01                                  -0.256803    -0.296321   \n",
       "CAL51_BREAST_TenPx01                                   0.194832     0.185674   \n",
       "...                                                         ...          ...   \n",
       "FADU_UPPER_AERODIGESTIVE_TRACT_TenPx24                 0.734045     0.635489   \n",
       "KP4_PANCREAS_TenPx24                                   1.030157     1.362878   \n",
       "MONOMAC6_HAEMATOPOIETIC_AND_LYMPHOID_TISSUE_Ten...    -0.122780    -0.228800   \n",
       "OVCAR8_OVARY_TenPx24                                   0.333098     0.531633   \n",
       "THP1_HAEMATOPOIETIC_AND_LYMPHOID_TISSUE_TenPx24       -0.015642    -0.208036   \n",
       "\n",
       "Uniprot                                             FUBP1_HUMAN  MMP14_HUMAN  \\\n",
       "MDAMB468_BREAST_TenPx01                                0.711772    -1.328042   \n",
       "SH4_SKIN_TenPx01                                      -0.283882     0.943085   \n",
       "AU565_BREAST_TenPx01                                   0.237767    -1.516565   \n",
       "KMRC1_KIDNEY_TenPx01                                  -0.426623     0.600797   \n",
       "CAL51_BREAST_TenPx01                                   0.125512     0.142254   \n",
       "...                                                         ...          ...   \n",
       "FADU_UPPER_AERODIGESTIVE_TRACT_TenPx24                 1.195160     0.341865   \n",
       "KP4_PANCREAS_TenPx24                                   1.527978     1.549228   \n",
       "MONOMAC6_HAEMATOPOIETIC_AND_LYMPHOID_TISSUE_Ten...    -0.520662     0.094693   \n",
       "OVCAR8_OVARY_TenPx24                                  -0.407503    -0.227755   \n",
       "THP1_HAEMATOPOIETIC_AND_LYMPHOID_TISSUE_TenPx24       -0.039010     0.213106   \n",
       "\n",
       "Uniprot                                             ...  SP1_HUMAN  SP4_HUMAN  \\\n",
       "MDAMB468_BREAST_TenPx01                             ...  -0.148834   0.173229   \n",
       "SH4_SKIN_TenPx01                                    ...  -0.286421  -0.990543   \n",
       "AU565_BREAST_TenPx01                                ...   0.275052  -0.613352   \n",
       "KMRC1_KIDNEY_TenPx01                                ...  -0.617817  -0.858956   \n",
       "CAL51_BREAST_TenPx01                                ...   0.720877   0.253705   \n",
       "...                                                 ...        ...        ...   \n",
       "FADU_UPPER_AERODIGESTIVE_TRACT_TenPx24              ...   0.918010   0.122607   \n",
       "KP4_PANCREAS_TenPx24                                ...   0.436107   1.593698   \n",
       "MONOMAC6_HAEMATOPOIETIC_AND_LYMPHOID_TISSUE_Ten...  ...   0.068060  -0.312835   \n",
       "OVCAR8_OVARY_TenPx24                                ...  -0.298931   0.231821   \n",
       "THP1_HAEMATOPOIETIC_AND_LYMPHOID_TISSUE_TenPx24     ...   0.545403  -0.555196   \n",
       "\n",
       "Uniprot                                             SP3_HUMAN  NEXN_HUMAN  \\\n",
       "MDAMB468_BREAST_TenPx01                              0.051509   -0.976917   \n",
       "SH4_SKIN_TenPx01                                    -0.145354   -1.457410   \n",
       "AU565_BREAST_TenPx01                                -0.216764   -0.993017   \n",
       "KMRC1_KIDNEY_TenPx01                                -0.230409    1.258161   \n",
       "CAL51_BREAST_TenPx01                                 0.592139    0.388330   \n",
       "...                                                       ...         ...   \n",
       "FADU_UPPER_AERODIGESTIVE_TRACT_TenPx24               0.952314   -0.493886   \n",
       "KP4_PANCREAS_TenPx24                                 1.514416    0.955601   \n",
       "MONOMAC6_HAEMATOPOIETIC_AND_LYMPHOID_TISSUE_Ten...  -0.508589   -0.929248   \n",
       "OVCAR8_OVARY_TenPx24                                -0.668094    2.259293   \n",
       "THP1_HAEMATOPOIETIC_AND_LYMPHOID_TISSUE_TenPx24      0.232358   -1.065651   \n",
       "\n",
       "Uniprot                                             RM18_HUMAN  CJ032_HUMAN  \\\n",
       "MDAMB468_BREAST_TenPx01                              -0.078762    -0.330626   \n",
       "SH4_SKIN_TenPx01                                      0.176580     0.368040   \n",
       "AU565_BREAST_TenPx01                                  0.293515    -0.856616   \n",
       "KMRC1_KIDNEY_TenPx01                                 -0.342146     0.171847   \n",
       "CAL51_BREAST_TenPx01                                 -0.114302     0.201265   \n",
       "...                                                        ...          ...   \n",
       "FADU_UPPER_AERODIGESTIVE_TRACT_TenPx24                0.006167     0.588836   \n",
       "KP4_PANCREAS_TenPx24                                 -0.100606     1.611483   \n",
       "MONOMAC6_HAEMATOPOIETIC_AND_LYMPHOID_TISSUE_Ten...   -0.277244    -0.509805   \n",
       "OVCAR8_OVARY_TenPx24                                 -0.535367    -0.487932   \n",
       "THP1_HAEMATOPOIETIC_AND_LYMPHOID_TISSUE_TenPx24      -0.381614    -0.468407   \n",
       "\n",
       "Uniprot                                             SF3B5_HUMAN  RM42_HUMAN  \\\n",
       "MDAMB468_BREAST_TenPx01                                0.304715   -0.343869   \n",
       "SH4_SKIN_TenPx01                                      -0.174971   -0.017864   \n",
       "AU565_BREAST_TenPx01                                  -0.277952    0.226371   \n",
       "KMRC1_KIDNEY_TenPx01                                  -0.469880   -0.576579   \n",
       "CAL51_BREAST_TenPx01                                   0.376778   -0.123126   \n",
       "...                                                         ...         ...   \n",
       "FADU_UPPER_AERODIGESTIVE_TRACT_TenPx24                 0.973730    1.083772   \n",
       "KP4_PANCREAS_TenPx24                                   1.392937    0.988600   \n",
       "MONOMAC6_HAEMATOPOIETIC_AND_LYMPHOID_TISSUE_Ten...    -0.661874   -0.392276   \n",
       "OVCAR8_OVARY_TenPx24                                   0.036873   -0.261739   \n",
       "THP1_HAEMATOPOIETIC_AND_LYMPHOID_TISSUE_TenPx24       -0.945096   -0.613091   \n",
       "\n",
       "Uniprot                                                                                         label  \\\n",
       "MDAMB468_BREAST_TenPx01                                                       MDAMB468_BREAST_TenPx01   \n",
       "SH4_SKIN_TenPx01                                                                     SH4_SKIN_TenPx01   \n",
       "AU565_BREAST_TenPx01                                                             AU565_BREAST_TenPx01   \n",
       "KMRC1_KIDNEY_TenPx01                                                             KMRC1_KIDNEY_TenPx01   \n",
       "CAL51_BREAST_TenPx01                                                             CAL51_BREAST_TenPx01   \n",
       "...                                                                                               ...   \n",
       "FADU_UPPER_AERODIGESTIVE_TRACT_TenPx24                         FADU_UPPER_AERODIGESTIVE_TRACT_TenPx24   \n",
       "KP4_PANCREAS_TenPx24                                                             KP4_PANCREAS_TenPx24   \n",
       "MONOMAC6_HAEMATOPOIETIC_AND_LYMPHOID_TISSUE_Ten...  MONOMAC6_HAEMATOPOIETIC_AND_LYMPHOID_TISSUE_Te...   \n",
       "OVCAR8_OVARY_TenPx24                                                             OVCAR8_OVARY_TenPx24   \n",
       "THP1_HAEMATOPOIETIC_AND_LYMPHOID_TISSUE_TenPx24       THP1_HAEMATOPOIETIC_AND_LYMPHOID_TISSUE_TenPx24   \n",
       "\n",
       "Uniprot                                              z_score  \n",
       "MDAMB468_BREAST_TenPx01                             2.075073  \n",
       "SH4_SKIN_TenPx01                                    0.138008  \n",
       "AU565_BREAST_TenPx01                               -0.369204  \n",
       "KMRC1_KIDNEY_TenPx01                               -0.767571  \n",
       "CAL51_BREAST_TenPx01                                0.819577  \n",
       "...                                                      ...  \n",
       "FADU_UPPER_AERODIGESTIVE_TRACT_TenPx24              0.003676  \n",
       "KP4_PANCREAS_TenPx24                                0.737706  \n",
       "MONOMAC6_HAEMATOPOIETIC_AND_LYMPHOID_TISSUE_Ten... -1.253747  \n",
       "OVCAR8_OVARY_TenPx24                               -1.034645  \n",
       "THP1_HAEMATOPOIETIC_AND_LYMPHOID_TISSUE_TenPx24    -0.448559  \n",
       "\n",
       "[378 rows x 5155 columns]"
      ]
     },
     "execution_count": 51,
     "metadata": {},
     "output_type": "execute_result"
    }
   ],
   "source": [
    "data_2"
   ]
  },
  {
   "cell_type": "code",
   "execution_count": 47,
   "id": "bab32cb0",
   "metadata": {},
   "outputs": [
    {
     "data": {
      "application/vnd.plotly.v1+json": {
       "config": {
        "plotlyServerURL": "https://plot.ly"
       },
       "data": [
        {
         "hovertemplate": "label=MDAMB468_BREAST_TenPx01<br>PC1=%{x}<br>PC2=%{y}<extra></extra>",
         "legendgroup": "MDAMB468_BREAST_TenPx01",
         "marker": {
          "color": "rgb(251,180,174)",
          "line": {
           "width": 1
          },
          "size": 8,
          "symbol": "circle"
         },
         "mode": "markers",
         "name": "MDAMB468_BREAST_TenPx01",
         "orientation": "v",
         "showlegend": true,
         "type": "scatter",
         "x": [
          0.10276033147529957
         ],
         "xaxis": "x",
         "y": [
          0.011538571746465238
         ],
         "yaxis": "y"
        },
        {
         "hovertemplate": "label=SH4_SKIN_TenPx01<br>PC1=%{x}<br>PC2=%{y}<extra></extra>",
         "legendgroup": "SH4_SKIN_TenPx01",
         "marker": {
          "color": "rgb(179,205,227)",
          "line": {
           "width": 1
          },
          "size": 8,
          "symbol": "circle"
         },
         "mode": "markers",
         "name": "SH4_SKIN_TenPx01",
         "orientation": "v",
         "showlegend": true,
         "type": "scatter",
         "x": [
          0.0055650515688748705
         ],
         "xaxis": "x",
         "y": [
          0.16748484001081057
         ],
         "yaxis": "y"
        },
        {
         "hovertemplate": "label=AU565_BREAST_TenPx01<br>PC1=%{x}<br>PC2=%{y}<extra></extra>",
         "legendgroup": "AU565_BREAST_TenPx01",
         "marker": {
          "color": "rgb(251,180,174)",
          "line": {
           "width": 1
          },
          "size": 8,
          "symbol": "circle"
         },
         "mode": "markers",
         "name": "AU565_BREAST_TenPx01",
         "orientation": "v",
         "showlegend": true,
         "type": "scatter",
         "x": [
          -0.019579671235133905
         ],
         "xaxis": "x",
         "y": [
          0.03266272987199435
         ],
         "yaxis": "y"
        },
        {
         "hovertemplate": "label=KMRC1_KIDNEY_TenPx01<br>PC1=%{x}<br>PC2=%{y}<extra></extra>",
         "legendgroup": "KMRC1_KIDNEY_TenPx01",
         "marker": {
          "color": "rgb(204,235,197)",
          "line": {
           "width": 1
          },
          "size": 8,
          "symbol": "circle"
         },
         "mode": "markers",
         "name": "KMRC1_KIDNEY_TenPx01",
         "orientation": "v",
         "showlegend": true,
         "type": "scatter",
         "x": [
          0.06079946528856429
         ],
         "xaxis": "x",
         "y": [
          0.29460749210613024
         ],
         "yaxis": "y"
        },
        {
         "hovertemplate": "label=CAL51_BREAST_TenPx01<br>PC1=%{x}<br>PC2=%{y}<extra></extra>",
         "legendgroup": "CAL51_BREAST_TenPx01",
         "marker": {
          "color": "rgb(251,180,174)",
          "line": {
           "width": 1
          },
          "size": 8,
          "symbol": "circle"
         },
         "mode": "markers",
         "name": "CAL51_BREAST_TenPx01",
         "orientation": "v",
         "showlegend": true,
         "type": "scatter",
         "x": [
          -0.12225186951219208
         ],
         "xaxis": "x",
         "y": [
          -0.10362443839999662
         ],
         "yaxis": "y"
        },
        {
         "hovertemplate": "label=RPMI7951_SKIN_TenPx01<br>PC1=%{x}<br>PC2=%{y}<extra></extra>",
         "legendgroup": "RPMI7951_SKIN_TenPx01",
         "marker": {
          "color": "rgb(179,205,227)",
          "line": {
           "width": 1
          },
          "size": 8,
          "symbol": "circle"
         },
         "mode": "markers",
         "name": "RPMI7951_SKIN_TenPx01",
         "orientation": "v",
         "showlegend": true,
         "type": "scatter",
         "x": [
          0.08766241184053973
         ],
         "xaxis": "x",
         "y": [
          0.08410041873712527
         ],
         "yaxis": "y"
        },
        {
         "hovertemplate": "label=RERFLCMS_LUNG_TenPx01<br>PC1=%{x}<br>PC2=%{y}<extra></extra>",
         "legendgroup": "RERFLCMS_LUNG_TenPx01",
         "marker": {
          "color": "rgb(222,203,228)",
          "line": {
           "width": 1
          },
          "size": 8,
          "symbol": "circle"
         },
         "mode": "markers",
         "name": "RERFLCMS_LUNG_TenPx01",
         "orientation": "v",
         "showlegend": true,
         "type": "scatter",
         "x": [
          -0.19687817534754562
         ],
         "xaxis": "x",
         "y": [
          -0.164887595175193
         ],
         "yaxis": "y"
        },
        {
         "hovertemplate": "label=IGR37_SKIN_TenPx01<br>PC1=%{x}<br>PC2=%{y}<extra></extra>",
         "legendgroup": "IGR37_SKIN_TenPx01",
         "marker": {
          "color": "rgb(179,205,227)",
          "line": {
           "width": 1
          },
          "size": 8,
          "symbol": "circle"
         },
         "mode": "markers",
         "name": "IGR37_SKIN_TenPx01",
         "orientation": "v",
         "showlegend": true,
         "type": "scatter",
         "x": [
          -0.04740341273462763
         ],
         "xaxis": "x",
         "y": [
          0.017371548923488155
         ],
         "yaxis": "y"
        },
        {
         "hovertemplate": "label=VMRCRCW_KIDNEY_TenPx01<br>PC1=%{x}<br>PC2=%{y}<extra></extra>",
         "legendgroup": "VMRCRCW_KIDNEY_TenPx01",
         "marker": {
          "color": "rgb(204,235,197)",
          "line": {
           "width": 1
          },
          "size": 8,
          "symbol": "circle"
         },
         "mode": "markers",
         "name": "VMRCRCW_KIDNEY_TenPx01",
         "orientation": "v",
         "showlegend": true,
         "type": "scatter",
         "x": [
          0.13001326025275367
         ],
         "xaxis": "x",
         "y": [
          0.12028784528679122
         ],
         "yaxis": "y"
        },
        {
         "hovertemplate": "label=HEP3B217_LIVER_TenPx02<br>PC1=%{x}<br>PC2=%{y}<extra></extra>",
         "legendgroup": "HEP3B217_LIVER_TenPx02",
         "marker": {
          "color": "rgb(254,217,166)",
          "line": {
           "width": 1
          },
          "size": 8,
          "symbol": "circle"
         },
         "mode": "markers",
         "name": "HEP3B217_LIVER_TenPx02",
         "orientation": "v",
         "showlegend": true,
         "type": "scatter",
         "x": [
          -0.027595574752519468
         ],
         "xaxis": "x",
         "y": [
          -0.06319233923859312
         ],
         "yaxis": "y"
        },
        {
         "hovertemplate": "label=HEPG2_LIVER_TenPx02<br>PC1=%{x}<br>PC2=%{y}<extra></extra>",
         "legendgroup": "HEPG2_LIVER_TenPx02",
         "marker": {
          "color": "rgb(254,217,166)",
          "line": {
           "width": 1
          },
          "size": 8,
          "symbol": "circle"
         },
         "mode": "markers",
         "name": "HEPG2_LIVER_TenPx02",
         "orientation": "v",
         "showlegend": true,
         "type": "scatter",
         "x": [
          -0.1318632899962066
         ],
         "xaxis": "x",
         "y": [
          -0.05621211675884665
         ],
         "yaxis": "y"
        },
        {
         "hovertemplate": "label=SKHEP1_LIVER_TenPx02<br>PC1=%{x}<br>PC2=%{y}<extra></extra>",
         "legendgroup": "SKHEP1_LIVER_TenPx02",
         "marker": {
          "color": "rgb(254,217,166)",
          "line": {
           "width": 1
          },
          "size": 8,
          "symbol": "circle"
         },
         "mode": "markers",
         "name": "SKHEP1_LIVER_TenPx02",
         "orientation": "v",
         "showlegend": true,
         "type": "scatter",
         "x": [
          0.04030470728147583
         ],
         "xaxis": "x",
         "y": [
          0.2109853116124199
         ],
         "yaxis": "y"
        },
        {
         "hovertemplate": "label=WM2664_SKIN_TenPx02<br>PC1=%{x}<br>PC2=%{y}<extra></extra>",
         "legendgroup": "WM2664_SKIN_TenPx02",
         "marker": {
          "color": "rgb(179,205,227)",
          "line": {
           "width": 1
          },
          "size": 8,
          "symbol": "circle"
         },
         "mode": "markers",
         "name": "WM2664_SKIN_TenPx02",
         "orientation": "v",
         "showlegend": true,
         "type": "scatter",
         "x": [
          0.15163912564269846
         ],
         "xaxis": "x",
         "y": [
          0.17744368273164846
         ],
         "yaxis": "y"
        },
        {
         "hovertemplate": "label=KMRC20_KIDNEY_TenPx02<br>PC1=%{x}<br>PC2=%{y}<extra></extra>",
         "legendgroup": "KMRC20_KIDNEY_TenPx02",
         "marker": {
          "color": "rgb(204,235,197)",
          "line": {
           "width": 1
          },
          "size": 8,
          "symbol": "circle"
         },
         "mode": "markers",
         "name": "KMRC20_KIDNEY_TenPx02",
         "orientation": "v",
         "showlegend": true,
         "type": "scatter",
         "x": [
          -0.08287593560589324
         ],
         "xaxis": "x",
         "y": [
          0.025715556959031022
         ],
         "yaxis": "y"
        },
        {
         "hovertemplate": "label=HS294T_SKIN_TenPx02<br>PC1=%{x}<br>PC2=%{y}<extra></extra>",
         "legendgroup": "HS294T_SKIN_TenPx02",
         "marker": {
          "color": "rgb(179,205,227)",
          "line": {
           "width": 1
          },
          "size": 8,
          "symbol": "circle"
         },
         "mode": "markers",
         "name": "HS294T_SKIN_TenPx02",
         "orientation": "v",
         "showlegend": true,
         "type": "scatter",
         "x": [
          -0.10783867447733302
         ],
         "xaxis": "x",
         "y": [
          0.15407520365021557
         ],
         "yaxis": "y"
        },
        {
         "hovertemplate": "label=CAOV3_OVARY_TenPx02<br>PC1=%{x}<br>PC2=%{y}<extra></extra>",
         "legendgroup": "CAOV3_OVARY_TenPx02",
         "marker": {
          "color": "black",
          "line": {
           "width": 1
          },
          "size": 8,
          "symbol": "circle"
         },
         "mode": "markers",
         "name": "CAOV3_OVARY_TenPx02",
         "orientation": "v",
         "showlegend": true,
         "type": "scatter",
         "x": [
          -0.03388830830413073
         ],
         "xaxis": "x",
         "y": [
          -0.02103724739457985
         ],
         "yaxis": "y"
        },
        {
         "hovertemplate": "label=CAL120_BREAST_TenPx02<br>PC1=%{x}<br>PC2=%{y}<extra></extra>",
         "legendgroup": "CAL120_BREAST_TenPx02",
         "marker": {
          "color": "rgb(251,180,174)",
          "line": {
           "width": 1
          },
          "size": 8,
          "symbol": "circle"
         },
         "mode": "markers",
         "name": "CAL120_BREAST_TenPx02",
         "orientation": "v",
         "showlegend": true,
         "type": "scatter",
         "x": [
          0.1450283865499073
         ],
         "xaxis": "x",
         "y": [
          0.09345627488119554
         ],
         "yaxis": "y"
        },
        {
         "hovertemplate": "label=JMSU1_URINARY_TRACT_TenPx02<br>PC1=%{x}<br>PC2=%{y}<extra></extra>",
         "legendgroup": "JMSU1_URINARY_TRACT_TenPx02",
         "marker": {
          "color": "rgb(229,216,189)",
          "line": {
           "width": 1
          },
          "size": 8,
          "symbol": "circle"
         },
         "mode": "markers",
         "name": "JMSU1_URINARY_TRACT_TenPx02",
         "orientation": "v",
         "showlegend": true,
         "type": "scatter",
         "x": [
          0.09655606755490406
         ],
         "xaxis": "x",
         "y": [
          -0.15627168386389942
         ],
         "yaxis": "y"
        },
        {
         "hovertemplate": "label=PATU8988T_PANCREAS_TenPx03<br>PC1=%{x}<br>PC2=%{y}<extra></extra>",
         "legendgroup": "PATU8988T_PANCREAS_TenPx03",
         "marker": {
          "color": "rgb(253,218,236)",
          "line": {
           "width": 1
          },
          "size": 8,
          "symbol": "circle"
         },
         "mode": "markers",
         "name": "PATU8988T_PANCREAS_TenPx03",
         "orientation": "v",
         "showlegend": true,
         "type": "scatter",
         "x": [
          0.13988312068979714
         ],
         "xaxis": "x",
         "y": [
          0.1347219696085303
         ],
         "yaxis": "y"
        },
        {
         "hovertemplate": "label=JIMT1_BREAST_TenPx03<br>PC1=%{x}<br>PC2=%{y}<extra></extra>",
         "legendgroup": "JIMT1_BREAST_TenPx03",
         "marker": {
          "color": "rgb(251,180,174)",
          "line": {
           "width": 1
          },
          "size": 8,
          "symbol": "circle"
         },
         "mode": "markers",
         "name": "JIMT1_BREAST_TenPx03",
         "orientation": "v",
         "showlegend": true,
         "type": "scatter",
         "x": [
          -0.08847873444538458
         ],
         "xaxis": "x",
         "y": [
          0.021841206671742996
         ],
         "yaxis": "y"
        },
        {
         "hovertemplate": "label=COV362_OVARY_TenPx03<br>PC1=%{x}<br>PC2=%{y}<extra></extra>",
         "legendgroup": "COV362_OVARY_TenPx03",
         "marker": {
          "color": "black",
          "line": {
           "width": 1
          },
          "size": 8,
          "symbol": "circle"
         },
         "mode": "markers",
         "name": "COV362_OVARY_TenPx03",
         "orientation": "v",
         "showlegend": true,
         "type": "scatter",
         "x": [
          -0.1299122387220079
         ],
         "xaxis": "x",
         "y": [
          -0.03152844248188045
         ],
         "yaxis": "y"
        },
        {
         "hovertemplate": "label=KPL1_BREAST_TenPx03<br>PC1=%{x}<br>PC2=%{y}<extra></extra>",
         "legendgroup": "KPL1_BREAST_TenPx03",
         "marker": {
          "color": "rgb(251,180,174)",
          "line": {
           "width": 1
          },
          "size": 8,
          "symbol": "circle"
         },
         "mode": "markers",
         "name": "KPL1_BREAST_TenPx03",
         "orientation": "v",
         "showlegend": true,
         "type": "scatter",
         "x": [
          -0.2881021373660104
         ],
         "xaxis": "x",
         "y": [
          -0.042017316682179104
         ],
         "yaxis": "y"
        },
        {
         "hovertemplate": "label=A375_SKIN_TenPx03<br>PC1=%{x}<br>PC2=%{y}<extra></extra>",
         "legendgroup": "A375_SKIN_TenPx03",
         "marker": {
          "color": "rgb(179,205,227)",
          "line": {
           "width": 1
          },
          "size": 8,
          "symbol": "circle"
         },
         "mode": "markers",
         "name": "A375_SKIN_TenPx03",
         "orientation": "v",
         "showlegend": true,
         "type": "scatter",
         "x": [
          0.08549776294970629
         ],
         "xaxis": "x",
         "y": [
          0.1943532808131846
         ],
         "yaxis": "y"
        },
        {
         "hovertemplate": "label=A2058_SKIN_TenPx03<br>PC1=%{x}<br>PC2=%{y}<extra></extra>",
         "legendgroup": "A2058_SKIN_TenPx03",
         "marker": {
          "color": "rgb(179,205,227)",
          "line": {
           "width": 1
          },
          "size": 8,
          "symbol": "circle"
         },
         "mode": "markers",
         "name": "A2058_SKIN_TenPx03",
         "orientation": "v",
         "showlegend": true,
         "type": "scatter",
         "x": [
          0.1407158278689836
         ],
         "xaxis": "x",
         "y": [
          0.1123755435517671
         ],
         "yaxis": "y"
        },
        {
         "hovertemplate": "label=SW620_LARGE_INTESTINE_TenPx03<br>PC1=%{x}<br>PC2=%{y}<extra></extra>",
         "legendgroup": "SW620_LARGE_INTESTINE_TenPx03",
         "marker": {
          "color": "rgb(242,242,242)",
          "line": {
           "width": 1
          },
          "size": 8,
          "symbol": "circle"
         },
         "mode": "markers",
         "name": "SW620_LARGE_INTESTINE_TenPx03",
         "orientation": "v",
         "showlegend": true,
         "type": "scatter",
         "x": [
          0.07191359132370635
         ],
         "xaxis": "x",
         "y": [
          -0.015176479333380821
         ],
         "yaxis": "y"
        },
        {
         "hovertemplate": "label=MDST8_LARGE_INTESTINE_TenPx03<br>PC1=%{x}<br>PC2=%{y}<extra></extra>",
         "legendgroup": "MDST8_LARGE_INTESTINE_TenPx03",
         "marker": {
          "color": "rgb(242,242,242)",
          "line": {
           "width": 1
          },
          "size": 8,
          "symbol": "circle"
         },
         "mode": "markers",
         "name": "MDST8_LARGE_INTESTINE_TenPx03",
         "orientation": "v",
         "showlegend": true,
         "type": "scatter",
         "x": [
          0.16080817554979362
         ],
         "xaxis": "x",
         "y": [
          0.1292493688597673
         ],
         "yaxis": "y"
        },
        {
         "hovertemplate": "label=HUH1_LIVER_TenPx03<br>PC1=%{x}<br>PC2=%{y}<extra></extra>",
         "legendgroup": "HUH1_LIVER_TenPx03",
         "marker": {
          "color": "rgb(254,217,166)",
          "line": {
           "width": 1
          },
          "size": 8,
          "symbol": "circle"
         },
         "mode": "markers",
         "name": "HUH1_LIVER_TenPx03",
         "orientation": "v",
         "showlegend": true,
         "type": "scatter",
         "x": [
          -0.05150139580257728
         ],
         "xaxis": "x",
         "y": [
          -0.16295696655828842
         ],
         "yaxis": "y"
        },
        {
         "hovertemplate": "label=HCT116_LARGE_INTESTINE_TenPx04<br>PC1=%{x}<br>PC2=%{y}<extra></extra>",
         "legendgroup": "HCT116_LARGE_INTESTINE_TenPx04",
         "marker": {
          "color": "rgb(242,242,242)",
          "line": {
           "width": 1
          },
          "size": 8,
          "symbol": "circle"
         },
         "mode": "markers",
         "name": "HCT116_LARGE_INTESTINE_TenPx04",
         "orientation": "v",
         "showlegend": true,
         "type": "scatter",
         "x": [
          0.11913911277739744
         ],
         "xaxis": "x",
         "y": [
          0.12798629006591472
         ],
         "yaxis": "y"
        },
        {
         "hovertemplate": "label=HLF_LIVER_TenPx04<br>PC1=%{x}<br>PC2=%{y}<extra></extra>",
         "legendgroup": "HLF_LIVER_TenPx04",
         "marker": {
          "color": "rgb(254,217,166)",
          "line": {
           "width": 1
          },
          "size": 8,
          "symbol": "circle"
         },
         "mode": "markers",
         "name": "HLF_LIVER_TenPx04",
         "orientation": "v",
         "showlegend": true,
         "type": "scatter",
         "x": [
          -0.23208550787554227
         ],
         "xaxis": "x",
         "y": [
          0.13002973851590266
         ],
         "yaxis": "y"
        },
        {
         "hovertemplate": "label=HT29_LARGE_INTESTINE_TenPx04<br>PC1=%{x}<br>PC2=%{y}<extra></extra>",
         "legendgroup": "HT29_LARGE_INTESTINE_TenPx04",
         "marker": {
          "color": "rgb(242,242,242)",
          "line": {
           "width": 1
          },
          "size": 8,
          "symbol": "circle"
         },
         "mode": "markers",
         "name": "HT29_LARGE_INTESTINE_TenPx04",
         "orientation": "v",
         "showlegend": true,
         "type": "scatter",
         "x": [
          0.13861402977455387
         ],
         "xaxis": "x",
         "y": [
          -0.04502590142510072
         ],
         "yaxis": "y"
        },
        {
         "hovertemplate": "label=ABC1_LUNG_TenPx04<br>PC1=%{x}<br>PC2=%{y}<extra></extra>",
         "legendgroup": "ABC1_LUNG_TenPx04",
         "marker": {
          "color": "rgb(222,203,228)",
          "line": {
           "width": 1
          },
          "size": 8,
          "symbol": "circle"
         },
         "mode": "markers",
         "name": "ABC1_LUNG_TenPx04",
         "orientation": "v",
         "showlegend": true,
         "type": "scatter",
         "x": [
          0.2153691253900399
         ],
         "xaxis": "x",
         "y": [
          0.0348977830952947
         ],
         "yaxis": "y"
        },
        {
         "hovertemplate": "label=CAMA1_BREAST_TenPx04<br>PC1=%{x}<br>PC2=%{y}<extra></extra>",
         "legendgroup": "CAMA1_BREAST_TenPx04",
         "marker": {
          "color": "rgb(251,180,174)",
          "line": {
           "width": 1
          },
          "size": 8,
          "symbol": "circle"
         },
         "mode": "markers",
         "name": "CAMA1_BREAST_TenPx04",
         "orientation": "v",
         "showlegend": true,
         "type": "scatter",
         "x": [
          0.038795530316914156
         ],
         "xaxis": "x",
         "y": [
          0.24637788269757677
         ],
         "yaxis": "y"
        },
        {
         "hovertemplate": "label=RKO_LARGE_INTESTINE_TenPx04<br>PC1=%{x}<br>PC2=%{y}<extra></extra>",
         "legendgroup": "RKO_LARGE_INTESTINE_TenPx04",
         "marker": {
          "color": "rgb(242,242,242)",
          "line": {
           "width": 1
          },
          "size": 8,
          "symbol": "circle"
         },
         "mode": "markers",
         "name": "RKO_LARGE_INTESTINE_TenPx04",
         "orientation": "v",
         "showlegend": true,
         "type": "scatter",
         "x": [
          0.05501195366792125
         ],
         "xaxis": "x",
         "y": [
          0.08701524733693489
         ],
         "yaxis": "y"
        },
        {
         "hovertemplate": "label=HT115_LARGE_INTESTINE_TenPx04<br>PC1=%{x}<br>PC2=%{y}<extra></extra>",
         "legendgroup": "HT115_LARGE_INTESTINE_TenPx04",
         "marker": {
          "color": "rgb(242,242,242)",
          "line": {
           "width": 1
          },
          "size": 8,
          "symbol": "circle"
         },
         "mode": "markers",
         "name": "HT115_LARGE_INTESTINE_TenPx04",
         "orientation": "v",
         "showlegend": true,
         "type": "scatter",
         "x": [
          -0.0038863446743536904
         ],
         "xaxis": "x",
         "y": [
          0.17257549135184247
         ],
         "yaxis": "y"
        },
        {
         "hovertemplate": "label=JHH5_LIVER_TenPx04<br>PC1=%{x}<br>PC2=%{y}<extra></extra>",
         "legendgroup": "JHH5_LIVER_TenPx04",
         "marker": {
          "color": "rgb(254,217,166)",
          "line": {
           "width": 1
          },
          "size": 8,
          "symbol": "circle"
         },
         "mode": "markers",
         "name": "JHH5_LIVER_TenPx04",
         "orientation": "v",
         "showlegend": true,
         "type": "scatter",
         "x": [
          -0.24832542896143506
         ],
         "xaxis": "x",
         "y": [
          -0.3267524738017058
         ],
         "yaxis": "y"
        },
        {
         "hovertemplate": "label=SKMEL3_SKIN_TenPx04<br>PC1=%{x}<br>PC2=%{y}<extra></extra>",
         "legendgroup": "SKMEL3_SKIN_TenPx04",
         "marker": {
          "color": "rgb(179,205,227)",
          "line": {
           "width": 1
          },
          "size": 8,
          "symbol": "circle"
         },
         "mode": "markers",
         "name": "SKMEL3_SKIN_TenPx04",
         "orientation": "v",
         "showlegend": true,
         "type": "scatter",
         "x": [
          -0.08713295715768896
         ],
         "xaxis": "x",
         "y": [
          -0.15310878123897825
         ],
         "yaxis": "y"
        },
        {
         "hovertemplate": "label=NCIH358_LUNG_TenPx06<br>PC1=%{x}<br>PC2=%{y}<extra></extra>",
         "legendgroup": "NCIH358_LUNG_TenPx06",
         "marker": {
          "color": "rgb(222,203,228)",
          "line": {
           "width": 1
          },
          "size": 8,
          "symbol": "circle"
         },
         "mode": "markers",
         "name": "NCIH358_LUNG_TenPx06",
         "orientation": "v",
         "showlegend": true,
         "type": "scatter",
         "x": [
          -0.12063272762584382
         ],
         "xaxis": "x",
         "y": [
          -0.047097835896426125
         ],
         "yaxis": "y"
        },
        {
         "hovertemplate": "label=HT1197_URINARY_TRACT_TenPx06<br>PC1=%{x}<br>PC2=%{y}<extra></extra>",
         "legendgroup": "HT1197_URINARY_TRACT_TenPx06",
         "marker": {
          "color": "rgb(229,216,189)",
          "line": {
           "width": 1
          },
          "size": 8,
          "symbol": "circle"
         },
         "mode": "markers",
         "name": "HT1197_URINARY_TRACT_TenPx06",
         "orientation": "v",
         "showlegend": true,
         "type": "scatter",
         "x": [
          -0.5909852901064107
         ],
         "xaxis": "x",
         "y": [
          -0.07978647195152375
         ],
         "yaxis": "y"
        },
        {
         "hovertemplate": "label=HUH7_LIVER_TenPx06<br>PC1=%{x}<br>PC2=%{y}<extra></extra>",
         "legendgroup": "HUH7_LIVER_TenPx06",
         "marker": {
          "color": "rgb(254,217,166)",
          "line": {
           "width": 1
          },
          "size": 8,
          "symbol": "circle"
         },
         "mode": "markers",
         "name": "HUH7_LIVER_TenPx06",
         "orientation": "v",
         "showlegend": true,
         "type": "scatter",
         "x": [
          0.07771653173311904
         ],
         "xaxis": "x",
         "y": [
          0.1850290898065919
         ],
         "yaxis": "y"
        },
        {
         "hovertemplate": "label=HGC27_STOMACH_TenPx06<br>PC1=%{x}<br>PC2=%{y}<extra></extra>",
         "legendgroup": "HGC27_STOMACH_TenPx06",
         "marker": {
          "color": "rgb(141,211,199)",
          "line": {
           "width": 1
          },
          "size": 8,
          "symbol": "circle"
         },
         "mode": "markers",
         "name": "HGC27_STOMACH_TenPx06",
         "orientation": "v",
         "showlegend": true,
         "type": "scatter",
         "x": [
          0.2379528496530622
         ],
         "xaxis": "x",
         "y": [
          0.21832716608585934
         ],
         "yaxis": "y"
        },
        {
         "hovertemplate": "label=DMS273_LUNG_TenPx06<br>PC1=%{x}<br>PC2=%{y}<extra></extra>",
         "legendgroup": "DMS273_LUNG_TenPx06",
         "marker": {
          "color": "rgb(222,203,228)",
          "line": {
           "width": 1
          },
          "size": 8,
          "symbol": "circle"
         },
         "mode": "markers",
         "name": "DMS273_LUNG_TenPx06",
         "orientation": "v",
         "showlegend": true,
         "type": "scatter",
         "x": [
          0.38731042156569095
         ],
         "xaxis": "x",
         "y": [
          -0.4078741294652613
         ],
         "yaxis": "y"
        },
        {
         "hovertemplate": "label=NCIH1299_LUNG_TenPx06<br>PC1=%{x}<br>PC2=%{y}<extra></extra>",
         "legendgroup": "NCIH1299_LUNG_TenPx06",
         "marker": {
          "color": "rgb(222,203,228)",
          "line": {
           "width": 1
          },
          "size": 8,
          "symbol": "circle"
         },
         "mode": "markers",
         "name": "NCIH1299_LUNG_TenPx06",
         "orientation": "v",
         "showlegend": true,
         "type": "scatter",
         "x": [
          -0.01989620352066395
         ],
         "xaxis": "x",
         "y": [
          0.05943398807478808
         ],
         "yaxis": "y"
        },
        {
         "hovertemplate": "label=SKMEL28_SKIN_TenPx06<br>PC1=%{x}<br>PC2=%{y}<extra></extra>",
         "legendgroup": "SKMEL28_SKIN_TenPx06",
         "marker": {
          "color": "rgb(179,205,227)",
          "line": {
           "width": 1
          },
          "size": 8,
          "symbol": "circle"
         },
         "mode": "markers",
         "name": "SKMEL28_SKIN_TenPx06",
         "orientation": "v",
         "showlegend": true,
         "type": "scatter",
         "x": [
          -0.2798009740279496
         ],
         "xaxis": "x",
         "y": [
          0.1254240421360424
         ],
         "yaxis": "y"
        },
        {
         "hovertemplate": "label=CAKI2_KIDNEY_TenPx06<br>PC1=%{x}<br>PC2=%{y}<extra></extra>",
         "legendgroup": "CAKI2_KIDNEY_TenPx06",
         "marker": {
          "color": "rgb(204,235,197)",
          "line": {
           "width": 1
          },
          "size": 8,
          "symbol": "circle"
         },
         "mode": "markers",
         "name": "CAKI2_KIDNEY_TenPx06",
         "orientation": "v",
         "showlegend": true,
         "type": "scatter",
         "x": [
          0.18437872663620097
         ],
         "xaxis": "x",
         "y": [
          0.36688300664995527
         ],
         "yaxis": "y"
        },
        {
         "hovertemplate": "label=HT55_LARGE_INTESTINE_TenPx06<br>PC1=%{x}<br>PC2=%{y}<extra></extra>",
         "legendgroup": "HT55_LARGE_INTESTINE_TenPx06",
         "marker": {
          "color": "rgb(242,242,242)",
          "line": {
           "width": 1
          },
          "size": 8,
          "symbol": "circle"
         },
         "mode": "markers",
         "name": "HT55_LARGE_INTESTINE_TenPx06",
         "orientation": "v",
         "showlegend": true,
         "type": "scatter",
         "x": [
          -0.0824609095906552
         ],
         "xaxis": "x",
         "y": [
          -0.22480099937716863
         ],
         "yaxis": "y"
        },
        {
         "hovertemplate": "label=NCIH1048_LUNG_TenPx07<br>PC1=%{x}<br>PC2=%{y}<extra></extra>",
         "legendgroup": "NCIH1048_LUNG_TenPx07",
         "marker": {
          "color": "rgb(222,203,228)",
          "line": {
           "width": 1
          },
          "size": 8,
          "symbol": "circle"
         },
         "mode": "markers",
         "name": "NCIH1048_LUNG_TenPx07",
         "orientation": "v",
         "showlegend": true,
         "type": "scatter",
         "x": [
          0.14279528757970714
         ],
         "xaxis": "x",
         "y": [
          -0.01633428235243709
         ],
         "yaxis": "y"
        },
        {
         "hovertemplate": "label=HSC3_UPPER_AERODIGESTIVE_TRACT_TenPx07<br>PC1=%{x}<br>PC2=%{y}<extra></extra>",
         "legendgroup": "HSC3_UPPER_AERODIGESTIVE_TRACT_TenPx07",
         "marker": {
          "color": "rgb(255,255,204)",
          "line": {
           "width": 1
          },
          "size": 8,
          "symbol": "circle"
         },
         "mode": "markers",
         "name": "HSC3_UPPER_AERODIGESTIVE_TRACT_TenPx07",
         "orientation": "v",
         "showlegend": true,
         "type": "scatter",
         "x": [
          -0.33286775555224535
         ],
         "xaxis": "x",
         "y": [
          -0.0858842594219896
         ],
         "yaxis": "y"
        },
        {
         "hovertemplate": "label=SW403_LARGE_INTESTINE_TenPx07<br>PC1=%{x}<br>PC2=%{y}<extra></extra>",
         "legendgroup": "SW403_LARGE_INTESTINE_TenPx07",
         "marker": {
          "color": "rgb(242,242,242)",
          "line": {
           "width": 1
          },
          "size": 8,
          "symbol": "circle"
         },
         "mode": "markers",
         "name": "SW403_LARGE_INTESTINE_TenPx07",
         "orientation": "v",
         "showlegend": true,
         "type": "scatter",
         "x": [
          -0.04586034747058227
         ],
         "xaxis": "x",
         "y": [
          0.2691167624308055
         ],
         "yaxis": "y"
        },
        {
         "hovertemplate": "label=BT549_BREAST_TenPx07<br>PC1=%{x}<br>PC2=%{y}<extra></extra>",
         "legendgroup": "BT549_BREAST_TenPx07",
         "marker": {
          "color": "rgb(251,180,174)",
          "line": {
           "width": 1
          },
          "size": 8,
          "symbol": "circle"
         },
         "mode": "markers",
         "name": "BT549_BREAST_TenPx07",
         "orientation": "v",
         "showlegend": true,
         "type": "scatter",
         "x": [
          0.18503416622053423
         ],
         "xaxis": "x",
         "y": [
          0.2634500823323992
         ],
         "yaxis": "y"
        },
        {
         "hovertemplate": "label=HCC56_LARGE_INTESTINE_TenPx07<br>PC1=%{x}<br>PC2=%{y}<extra></extra>",
         "legendgroup": "HCC56_LARGE_INTESTINE_TenPx07",
         "marker": {
          "color": "rgb(242,242,242)",
          "line": {
           "width": 1
          },
          "size": 8,
          "symbol": "circle"
         },
         "mode": "markers",
         "name": "HCC56_LARGE_INTESTINE_TenPx07",
         "orientation": "v",
         "showlegend": true,
         "type": "scatter",
         "x": [
          0.0362692872271995
         ],
         "xaxis": "x",
         "y": [
          -0.0181025602774863
         ],
         "yaxis": "y"
        },
        {
         "hovertemplate": "label=CAL851_BREAST_TenPx07<br>PC1=%{x}<br>PC2=%{y}<extra></extra>",
         "legendgroup": "CAL851_BREAST_TenPx07",
         "marker": {
          "color": "rgb(251,180,174)",
          "line": {
           "width": 1
          },
          "size": 8,
          "symbol": "circle"
         },
         "mode": "markers",
         "name": "CAL851_BREAST_TenPx07",
         "orientation": "v",
         "showlegend": true,
         "type": "scatter",
         "x": [
          -0.37587704097845853
         ],
         "xaxis": "x",
         "y": [
          -0.3041547127013992
         ],
         "yaxis": "y"
        },
        {
         "hovertemplate": "label=MDAMB157_BREAST_TenPx07<br>PC1=%{x}<br>PC2=%{y}<extra></extra>",
         "legendgroup": "MDAMB157_BREAST_TenPx07",
         "marker": {
          "color": "rgb(251,180,174)",
          "line": {
           "width": 1
          },
          "size": 8,
          "symbol": "circle"
         },
         "mode": "markers",
         "name": "MDAMB157_BREAST_TenPx07",
         "orientation": "v",
         "showlegend": true,
         "type": "scatter",
         "x": [
          0.1960731573102699
         ],
         "xaxis": "x",
         "y": [
          0.22265861793273162
         ],
         "yaxis": "y"
        },
        {
         "hovertemplate": "label=SW48_LARGE_INTESTINE_TenPx07<br>PC1=%{x}<br>PC2=%{y}<extra></extra>",
         "legendgroup": "SW48_LARGE_INTESTINE_TenPx07",
         "marker": {
          "color": "rgb(242,242,242)",
          "line": {
           "width": 1
          },
          "size": 8,
          "symbol": "circle"
         },
         "mode": "markers",
         "name": "SW48_LARGE_INTESTINE_TenPx07",
         "orientation": "v",
         "showlegend": true,
         "type": "scatter",
         "x": [
          0.015962924845345384
         ],
         "xaxis": "x",
         "y": [
          -0.02622025305212546
         ],
         "yaxis": "y"
        },
        {
         "hovertemplate": "label=IGR39_SKIN_TenPx07<br>PC1=%{x}<br>PC2=%{y}<extra></extra>",
         "legendgroup": "IGR39_SKIN_TenPx07",
         "marker": {
          "color": "rgb(179,205,227)",
          "line": {
           "width": 1
          },
          "size": 8,
          "symbol": "circle"
         },
         "mode": "markers",
         "name": "IGR39_SKIN_TenPx07",
         "orientation": "v",
         "showlegend": true,
         "type": "scatter",
         "x": [
          -0.05704166591939706
         ],
         "xaxis": "x",
         "y": [
          0.07280392724330534
         ],
         "yaxis": "y"
        },
        {
         "hovertemplate": "label=MCF7_BREAST_TenPx08<br>PC1=%{x}<br>PC2=%{y}<extra></extra>",
         "legendgroup": "MCF7_BREAST_TenPx08",
         "marker": {
          "color": "rgb(251,180,174)",
          "line": {
           "width": 1
          },
          "size": 8,
          "symbol": "circle"
         },
         "mode": "markers",
         "name": "MCF7_BREAST_TenPx08",
         "orientation": "v",
         "showlegend": true,
         "type": "scatter",
         "x": [
          0.050694676160106034
         ],
         "xaxis": "x",
         "y": [
          0.07707156626960536
         ],
         "yaxis": "y"
        },
        {
         "hovertemplate": "label=BICR6_UPPER_AERODIGESTIVE_TRACT_TenPx08<br>PC1=%{x}<br>PC2=%{y}<extra></extra>",
         "legendgroup": "BICR6_UPPER_AERODIGESTIVE_TRACT_TenPx08",
         "marker": {
          "color": "rgb(255,255,204)",
          "line": {
           "width": 1
          },
          "size": 8,
          "symbol": "circle"
         },
         "mode": "markers",
         "name": "BICR6_UPPER_AERODIGESTIVE_TRACT_TenPx08",
         "orientation": "v",
         "showlegend": true,
         "type": "scatter",
         "x": [
          -0.5880197719289602
         ],
         "xaxis": "x",
         "y": [
          -0.14758858637226138
         ],
         "yaxis": "y"
        },
        {
         "hovertemplate": "label=WM1799_SKIN_TenPx08<br>PC1=%{x}<br>PC2=%{y}<extra></extra>",
         "legendgroup": "WM1799_SKIN_TenPx08",
         "marker": {
          "color": "rgb(179,205,227)",
          "line": {
           "width": 1
          },
          "size": 8,
          "symbol": "circle"
         },
         "mode": "markers",
         "name": "WM1799_SKIN_TenPx08",
         "orientation": "v",
         "showlegend": true,
         "type": "scatter",
         "x": [
          0.26580911583810424
         ],
         "xaxis": "x",
         "y": [
          0.2773516375109053
         ],
         "yaxis": "y"
        },
        {
         "hovertemplate": "label=IPC298_SKIN_TenPx08<br>PC1=%{x}<br>PC2=%{y}<extra></extra>",
         "legendgroup": "IPC298_SKIN_TenPx08",
         "marker": {
          "color": "rgb(179,205,227)",
          "line": {
           "width": 1
          },
          "size": 8,
          "symbol": "circle"
         },
         "mode": "markers",
         "name": "IPC298_SKIN_TenPx08",
         "orientation": "v",
         "showlegend": true,
         "type": "scatter",
         "x": [
          0.2851067730747863
         ],
         "xaxis": "x",
         "y": [
          0.1313302942547004
         ],
         "yaxis": "y"
        },
        {
         "hovertemplate": "label=NCIH1693_LUNG_TenPx08<br>PC1=%{x}<br>PC2=%{y}<extra></extra>",
         "legendgroup": "NCIH1693_LUNG_TenPx08",
         "marker": {
          "color": "rgb(222,203,228)",
          "line": {
           "width": 1
          },
          "size": 8,
          "symbol": "circle"
         },
         "mode": "markers",
         "name": "NCIH1693_LUNG_TenPx08",
         "orientation": "v",
         "showlegend": true,
         "type": "scatter",
         "x": [
          -0.37232351378296374
         ],
         "xaxis": "x",
         "y": [
          0.07280076407603946
         ],
         "yaxis": "y"
        },
        {
         "hovertemplate": "label=HCC1954_BREAST_TenPx08<br>PC1=%{x}<br>PC2=%{y}<extra></extra>",
         "legendgroup": "HCC1954_BREAST_TenPx08",
         "marker": {
          "color": "rgb(251,180,174)",
          "line": {
           "width": 1
          },
          "size": 8,
          "symbol": "circle"
         },
         "mode": "markers",
         "name": "HCC1954_BREAST_TenPx08",
         "orientation": "v",
         "showlegend": true,
         "type": "scatter",
         "x": [
          -0.038643467576413536
         ],
         "xaxis": "x",
         "y": [
          0.08202266414582535
         ],
         "yaxis": "y"
        },
        {
         "hovertemplate": "label=TYKNU_OVARY_TenPx08<br>PC1=%{x}<br>PC2=%{y}<extra></extra>",
         "legendgroup": "TYKNU_OVARY_TenPx08",
         "marker": {
          "color": "black",
          "line": {
           "width": 1
          },
          "size": 8,
          "symbol": "circle"
         },
         "mode": "markers",
         "name": "TYKNU_OVARY_TenPx08",
         "orientation": "v",
         "showlegend": true,
         "type": "scatter",
         "x": [
          0.16856097030465897
         ],
         "xaxis": "x",
         "y": [
          0.2288881299395023
         ],
         "yaxis": "y"
        },
        {
         "hovertemplate": "label=DMS114_LUNG_TenPx08<br>PC1=%{x}<br>PC2=%{y}<extra></extra>",
         "legendgroup": "DMS114_LUNG_TenPx08",
         "marker": {
          "color": "rgb(222,203,228)",
          "line": {
           "width": 1
          },
          "size": 8,
          "symbol": "circle"
         },
         "mode": "markers",
         "name": "DMS114_LUNG_TenPx08",
         "orientation": "v",
         "showlegend": true,
         "type": "scatter",
         "x": [
          0.24840189694872292
         ],
         "xaxis": "x",
         "y": [
          -0.25605902463972946
         ],
         "yaxis": "y"
        },
        {
         "hovertemplate": "label=TE1_OESOPHAGUS_TenPx08<br>PC1=%{x}<br>PC2=%{y}<extra></extra>",
         "legendgroup": "TE1_OESOPHAGUS_TenPx08",
         "marker": {
          "color": "rgb(255,255,179)",
          "line": {
           "width": 1
          },
          "size": 8,
          "symbol": "circle"
         },
         "mode": "markers",
         "name": "TE1_OESOPHAGUS_TenPx08",
         "orientation": "v",
         "showlegend": true,
         "type": "scatter",
         "x": [
          -0.12738439412119848
         ],
         "xaxis": "x",
         "y": [
          -0.1501977471242491
         ],
         "yaxis": "y"
        },
        {
         "hovertemplate": "label=TCCPAN2_PANCREAS_TenPx09<br>PC1=%{x}<br>PC2=%{y}<extra></extra>",
         "legendgroup": "TCCPAN2_PANCREAS_TenPx09",
         "marker": {
          "color": "rgb(253,218,236)",
          "line": {
           "width": 1
          },
          "size": 8,
          "symbol": "circle"
         },
         "mode": "markers",
         "name": "TCCPAN2_PANCREAS_TenPx09",
         "orientation": "v",
         "showlegend": true,
         "type": "scatter",
         "x": [
          0.25764973013173537
         ],
         "xaxis": "x",
         "y": [
          0.2947137926792595
         ],
         "yaxis": "y"
        },
        {
         "hovertemplate": "label=LUDLU1_LUNG_TenPx09<br>PC1=%{x}<br>PC2=%{y}<extra></extra>",
         "legendgroup": "LUDLU1_LUNG_TenPx09",
         "marker": {
          "color": "rgb(222,203,228)",
          "line": {
           "width": 1
          },
          "size": 8,
          "symbol": "circle"
         },
         "mode": "markers",
         "name": "LUDLU1_LUNG_TenPx09",
         "orientation": "v",
         "showlegend": true,
         "type": "scatter",
         "x": [
          -0.6277934891052652
         ],
         "xaxis": "x",
         "y": [
          -0.15616093428685476
         ],
         "yaxis": "y"
        },
        {
         "hovertemplate": "label=MELJUSO_SKIN_TenPx09<br>PC1=%{x}<br>PC2=%{y}<extra></extra>",
         "legendgroup": "MELJUSO_SKIN_TenPx09",
         "marker": {
          "color": "rgb(179,205,227)",
          "line": {
           "width": 1
          },
          "size": 8,
          "symbol": "circle"
         },
         "mode": "markers",
         "name": "MELJUSO_SKIN_TenPx09",
         "orientation": "v",
         "showlegend": true,
         "type": "scatter",
         "x": [
          0.1726156674767343
         ],
         "xaxis": "x",
         "y": [
          0.20759027941417607
         ],
         "yaxis": "y"
        },
        {
         "hovertemplate": "label=T47D_BREAST_TenPx09<br>PC1=%{x}<br>PC2=%{y}<extra></extra>",
         "legendgroup": "T47D_BREAST_TenPx09",
         "marker": {
          "color": "rgb(251,180,174)",
          "line": {
           "width": 1
          },
          "size": 8,
          "symbol": "circle"
         },
         "mode": "markers",
         "name": "T47D_BREAST_TenPx09",
         "orientation": "v",
         "showlegend": true,
         "type": "scatter",
         "x": [
          0.13348427362765064
         ],
         "xaxis": "x",
         "y": [
          0.11854206390978059
         ],
         "yaxis": "y"
        },
        {
         "hovertemplate": "label=LS411N_LARGE_INTESTINE_TenPx09<br>PC1=%{x}<br>PC2=%{y}<extra></extra>",
         "legendgroup": "LS411N_LARGE_INTESTINE_TenPx09",
         "marker": {
          "color": "rgb(242,242,242)",
          "line": {
           "width": 1
          },
          "size": 8,
          "symbol": "circle"
         },
         "mode": "markers",
         "name": "LS411N_LARGE_INTESTINE_TenPx09",
         "orientation": "v",
         "showlegend": true,
         "type": "scatter",
         "x": [
          0.08599601993293049
         ],
         "xaxis": "x",
         "y": [
          0.17613499858170434
         ],
         "yaxis": "y"
        },
        {
         "hovertemplate": "label=PC3_PROSTATE_TenPx09<br>PC1=%{x}<br>PC2=%{y}<extra></extra>",
         "legendgroup": "PC3_PROSTATE_TenPx09",
         "marker": {
          "color": "rgb(190,186,218)",
          "line": {
           "width": 1
          },
          "size": 8,
          "symbol": "circle"
         },
         "mode": "markers",
         "name": "PC3_PROSTATE_TenPx09",
         "orientation": "v",
         "showlegend": true,
         "type": "scatter",
         "x": [
          0.020415779515942627
         ],
         "xaxis": "x",
         "y": [
          -0.023373257728489368
         ],
         "yaxis": "y"
        },
        {
         "hovertemplate": "label=KYSE450_OESOPHAGUS_TenPx09<br>PC1=%{x}<br>PC2=%{y}<extra></extra>",
         "legendgroup": "KYSE450_OESOPHAGUS_TenPx09",
         "marker": {
          "color": "rgb(255,255,179)",
          "line": {
           "width": 1
          },
          "size": 8,
          "symbol": "circle"
         },
         "mode": "markers",
         "name": "KYSE450_OESOPHAGUS_TenPx09",
         "orientation": "v",
         "showlegend": true,
         "type": "scatter",
         "x": [
          0.08633010050527466
         ],
         "xaxis": "x",
         "y": [
          -0.2158147753978706
         ],
         "yaxis": "y"
        },
        {
         "hovertemplate": "label=RT112_URINARY_TRACT_TenPx09<br>PC1=%{x}<br>PC2=%{y}<extra></extra>",
         "legendgroup": "RT112_URINARY_TRACT_TenPx09",
         "marker": {
          "color": "rgb(229,216,189)",
          "line": {
           "width": 1
          },
          "size": 8,
          "symbol": "circle"
         },
         "mode": "markers",
         "name": "RT112_URINARY_TRACT_TenPx09",
         "orientation": "v",
         "showlegend": true,
         "type": "scatter",
         "x": [
          -0.2510318945838157
         ],
         "xaxis": "x",
         "y": [
          -0.2975345609415966
         ],
         "yaxis": "y"
        },
        {
         "hovertemplate": "label=LS513_LARGE_INTESTINE_TenPx09<br>PC1=%{x}<br>PC2=%{y}<extra></extra>",
         "legendgroup": "LS513_LARGE_INTESTINE_TenPx09",
         "marker": {
          "color": "rgb(242,242,242)",
          "line": {
           "width": 1
          },
          "size": 8,
          "symbol": "circle"
         },
         "mode": "markers",
         "name": "LS513_LARGE_INTESTINE_TenPx09",
         "orientation": "v",
         "showlegend": true,
         "type": "scatter",
         "x": [
          -0.012355412569745716
         ],
         "xaxis": "x",
         "y": [
          0.14221162879953006
         ],
         "yaxis": "y"
        },
        {
         "hovertemplate": "label=HCC827_LUNG_TenPx10<br>PC1=%{x}<br>PC2=%{y}<extra></extra>",
         "legendgroup": "HCC827_LUNG_TenPx10",
         "marker": {
          "color": "rgb(222,203,228)",
          "line": {
           "width": 1
          },
          "size": 8,
          "symbol": "circle"
         },
         "mode": "markers",
         "name": "HCC827_LUNG_TenPx10",
         "orientation": "v",
         "showlegend": true,
         "type": "scatter",
         "x": [
          -0.21370881905285047
         ],
         "xaxis": "x",
         "y": [
          -0.13113861100921456
         ],
         "yaxis": "y"
        },
        {
         "hovertemplate": "label=NCIH2110_LUNG_TenPx10<br>PC1=%{x}<br>PC2=%{y}<extra></extra>",
         "legendgroup": "NCIH2110_LUNG_TenPx10",
         "marker": {
          "color": "rgb(222,203,228)",
          "line": {
           "width": 1
          },
          "size": 8,
          "symbol": "circle"
         },
         "mode": "markers",
         "name": "NCIH2110_LUNG_TenPx10",
         "orientation": "v",
         "showlegend": true,
         "type": "scatter",
         "x": [
          0.050238805149282625
         ],
         "xaxis": "x",
         "y": [
          -0.15113543088056372
         ],
         "yaxis": "y"
        },
        {
         "hovertemplate": "label=MIAPACA2_PANCREAS_TenPx10<br>PC1=%{x}<br>PC2=%{y}<extra></extra>",
         "legendgroup": "MIAPACA2_PANCREAS_TenPx10",
         "marker": {
          "color": "rgb(253,218,236)",
          "line": {
           "width": 1
          },
          "size": 8,
          "symbol": "circle"
         },
         "mode": "markers",
         "name": "MIAPACA2_PANCREAS_TenPx10",
         "orientation": "v",
         "showlegend": true,
         "type": "scatter",
         "x": [
          -0.5285441488413186
         ],
         "xaxis": "x",
         "y": [
          -0.2676689568376206
         ],
         "yaxis": "y"
        },
        {
         "hovertemplate": "label=NCIH520_LUNG_TenPx10<br>PC1=%{x}<br>PC2=%{y}<extra></extra>",
         "legendgroup": "NCIH520_LUNG_TenPx10",
         "marker": {
          "color": "rgb(222,203,228)",
          "line": {
           "width": 1
          },
          "size": 8,
          "symbol": "circle"
         },
         "mode": "markers",
         "name": "NCIH520_LUNG_TenPx10",
         "orientation": "v",
         "showlegend": true,
         "type": "scatter",
         "x": [
          -0.2858208043293033
         ],
         "xaxis": "x",
         "y": [
          -0.1679375692364403
         ],
         "yaxis": "y"
        },
        {
         "hovertemplate": "label=SW480_LARGE_INTESTINE_TenPx10<br>PC1=%{x}<br>PC2=%{y}<extra></extra>",
         "legendgroup": "SW480_LARGE_INTESTINE_TenPx10",
         "marker": {
          "color": "rgb(242,242,242)",
          "line": {
           "width": 1
          },
          "size": 8,
          "symbol": "circle"
         },
         "mode": "markers",
         "name": "SW480_LARGE_INTESTINE_TenPx10",
         "orientation": "v",
         "showlegend": true,
         "type": "scatter",
         "x": [
          -0.33354400060863476
         ],
         "xaxis": "x",
         "y": [
          -0.23327814046564735
         ],
         "yaxis": "y"
        },
        {
         "hovertemplate": "label=OE33_OESOPHAGUS_TenPx10<br>PC1=%{x}<br>PC2=%{y}<extra></extra>",
         "legendgroup": "OE33_OESOPHAGUS_TenPx10",
         "marker": {
          "color": "rgb(255,255,179)",
          "line": {
           "width": 1
          },
          "size": 8,
          "symbol": "circle"
         },
         "mode": "markers",
         "name": "OE33_OESOPHAGUS_TenPx10",
         "orientation": "v",
         "showlegend": true,
         "type": "scatter",
         "x": [
          -0.04993607391380183
         ],
         "xaxis": "x",
         "y": [
          0.02341569077580936
         ],
         "yaxis": "y"
        },
        {
         "hovertemplate": "label=ZR751_BREAST_TenPx10<br>PC1=%{x}<br>PC2=%{y}<extra></extra>",
         "legendgroup": "ZR751_BREAST_TenPx10",
         "marker": {
          "color": "rgb(251,180,174)",
          "line": {
           "width": 1
          },
          "size": 8,
          "symbol": "circle"
         },
         "mode": "markers",
         "name": "ZR751_BREAST_TenPx10",
         "orientation": "v",
         "showlegend": true,
         "type": "scatter",
         "x": [
          0.40573291188149774
         ],
         "xaxis": "x",
         "y": [
          0.43992902333666795
         ],
         "yaxis": "y"
        },
        {
         "hovertemplate": "label=COLO679_SKIN_TenPx10<br>PC1=%{x}<br>PC2=%{y}<extra></extra>",
         "legendgroup": "COLO679_SKIN_TenPx10",
         "marker": {
          "color": "rgb(179,205,227)",
          "line": {
           "width": 1
          },
          "size": 8,
          "symbol": "circle"
         },
         "mode": "markers",
         "name": "COLO679_SKIN_TenPx10",
         "orientation": "v",
         "showlegend": true,
         "type": "scatter",
         "x": [
          0.1630172678206001
         ],
         "xaxis": "x",
         "y": [
          0.18316377626874608
         ],
         "yaxis": "y"
        },
        {
         "hovertemplate": "label=786O_KIDNEY_TenPx10<br>PC1=%{x}<br>PC2=%{y}<extra></extra>",
         "legendgroup": "786O_KIDNEY_TenPx10",
         "marker": {
          "color": "rgb(204,235,197)",
          "line": {
           "width": 1
          },
          "size": 8,
          "symbol": "circle"
         },
         "mode": "markers",
         "name": "786O_KIDNEY_TenPx10",
         "orientation": "v",
         "showlegend": true,
         "type": "scatter",
         "x": [
          0.4517807303904988
         ],
         "xaxis": "x",
         "y": [
          0.39888911397881655
         ],
         "yaxis": "y"
        },
        {
         "hovertemplate": "label=HCC38_BREAST_TenPx11<br>PC1=%{x}<br>PC2=%{y}<extra></extra>",
         "legendgroup": "HCC38_BREAST_TenPx11",
         "marker": {
          "color": "rgb(251,180,174)",
          "line": {
           "width": 1
          },
          "size": 8,
          "symbol": "circle"
         },
         "mode": "markers",
         "name": "HCC38_BREAST_TenPx11",
         "orientation": "v",
         "showlegend": true,
         "type": "scatter",
         "x": [
          -0.2954254742467492
         ],
         "xaxis": "x",
         "y": [
          -0.003888362671204902
         ],
         "yaxis": "y"
        },
        {
         "hovertemplate": "label=QGP1_PANCREAS_TenPx11<br>PC1=%{x}<br>PC2=%{y}<extra></extra>",
         "legendgroup": "QGP1_PANCREAS_TenPx11",
         "marker": {
          "color": "rgb(253,218,236)",
          "line": {
           "width": 1
          },
          "size": 8,
          "symbol": "circle"
         },
         "mode": "markers",
         "name": "QGP1_PANCREAS_TenPx11",
         "orientation": "v",
         "showlegend": true,
         "type": "scatter",
         "x": [
          0.2077071110243059
         ],
         "xaxis": "x",
         "y": [
          -0.25825157189501063
         ],
         "yaxis": "y"
        },
        {
         "hovertemplate": "label=HCC95_LUNG_TenPx11<br>PC1=%{x}<br>PC2=%{y}<extra></extra>",
         "legendgroup": "HCC95_LUNG_TenPx11",
         "marker": {
          "color": "rgb(222,203,228)",
          "line": {
           "width": 1
          },
          "size": 8,
          "symbol": "circle"
         },
         "mode": "markers",
         "name": "HCC95_LUNG_TenPx11",
         "orientation": "v",
         "showlegend": true,
         "type": "scatter",
         "x": [
          -0.09676698603496445
         ],
         "xaxis": "x",
         "y": [
          -0.010129607005892074
         ],
         "yaxis": "y"
        },
        {
         "hovertemplate": "label=SW948_LARGE_INTESTINE_TenPx11<br>PC1=%{x}<br>PC2=%{y}<extra></extra>",
         "legendgroup": "SW948_LARGE_INTESTINE_TenPx11",
         "marker": {
          "color": "rgb(242,242,242)",
          "line": {
           "width": 1
          },
          "size": 8,
          "symbol": "circle"
         },
         "mode": "markers",
         "name": "SW948_LARGE_INTESTINE_TenPx11",
         "orientation": "v",
         "showlegend": true,
         "type": "scatter",
         "x": [
          0.3019631652612735
         ],
         "xaxis": "x",
         "y": [
          0.1519582289002458
         ],
         "yaxis": "y"
        },
        {
         "hovertemplate": "label=LK2_LUNG_TenPx11<br>PC1=%{x}<br>PC2=%{y}<extra></extra>",
         "legendgroup": "LK2_LUNG_TenPx11",
         "marker": {
          "color": "rgb(222,203,228)",
          "line": {
           "width": 1
          },
          "size": 8,
          "symbol": "circle"
         },
         "mode": "markers",
         "name": "LK2_LUNG_TenPx11",
         "orientation": "v",
         "showlegend": true,
         "type": "scatter",
         "x": [
          -0.08096604750575488
         ],
         "xaxis": "x",
         "y": [
          -0.14613425901965194
         ],
         "yaxis": "y"
        },
        {
         "hovertemplate": "label=OVCAR4_OVARY_TenPx11<br>PC1=%{x}<br>PC2=%{y}<extra></extra>",
         "legendgroup": "OVCAR4_OVARY_TenPx11",
         "marker": {
          "color": "black",
          "line": {
           "width": 1
          },
          "size": 8,
          "symbol": "circle"
         },
         "mode": "markers",
         "name": "OVCAR4_OVARY_TenPx11",
         "orientation": "v",
         "showlegend": true,
         "type": "scatter",
         "x": [
          -0.09608330374003637
         ],
         "xaxis": "x",
         "y": [
          -0.016750299203168437
         ],
         "yaxis": "y"
        },
        {
         "hovertemplate": "label=COLO741_SKIN_TenPx11<br>PC1=%{x}<br>PC2=%{y}<extra></extra>",
         "legendgroup": "COLO741_SKIN_TenPx11",
         "marker": {
          "color": "rgb(179,205,227)",
          "line": {
           "width": 1
          },
          "size": 8,
          "symbol": "circle"
         },
         "mode": "markers",
         "name": "COLO741_SKIN_TenPx11",
         "orientation": "v",
         "showlegend": true,
         "type": "scatter",
         "x": [
          -0.21940775172045468
         ],
         "xaxis": "x",
         "y": [
          0.0038952848427231458
         ],
         "yaxis": "y"
        },
        {
         "hovertemplate": "label=NCIH1650_LUNG_TenPx11<br>PC1=%{x}<br>PC2=%{y}<extra></extra>",
         "legendgroup": "NCIH1650_LUNG_TenPx11",
         "marker": {
          "color": "rgb(222,203,228)",
          "line": {
           "width": 1
          },
          "size": 8,
          "symbol": "circle"
         },
         "mode": "markers",
         "name": "NCIH1650_LUNG_TenPx11",
         "orientation": "v",
         "showlegend": true,
         "type": "scatter",
         "x": [
          -0.06063775615732044
         ],
         "xaxis": "x",
         "y": [
          0.3505490918055973
         ],
         "yaxis": "y"
        },
        {
         "hovertemplate": "label=UACC257_SKIN_TenPx11<br>PC1=%{x}<br>PC2=%{y}<extra></extra>",
         "legendgroup": "UACC257_SKIN_TenPx11",
         "marker": {
          "color": "rgb(179,205,227)",
          "line": {
           "width": 1
          },
          "size": 8,
          "symbol": "circle"
         },
         "mode": "markers",
         "name": "UACC257_SKIN_TenPx11",
         "orientation": "v",
         "showlegend": true,
         "type": "scatter",
         "x": [
          0.04897832527988529
         ],
         "xaxis": "x",
         "y": [
          0.1392193700225997
         ],
         "yaxis": "y"
        },
        {
         "hovertemplate": "label=NCIH1573_LUNG_TenPx12<br>PC1=%{x}<br>PC2=%{y}<extra></extra>",
         "legendgroup": "NCIH1573_LUNG_TenPx12",
         "marker": {
          "color": "rgb(222,203,228)",
          "line": {
           "width": 1
          },
          "size": 8,
          "symbol": "circle"
         },
         "mode": "markers",
         "name": "NCIH1573_LUNG_TenPx12",
         "orientation": "v",
         "showlegend": true,
         "type": "scatter",
         "x": [
          -0.7533695072773908
         ],
         "xaxis": "x",
         "y": [
          -0.11072439578215193
         ],
         "yaxis": "y"
        },
        {
         "hovertemplate": "label=A549_LUNG_TenPx12<br>PC1=%{x}<br>PC2=%{y}<extra></extra>",
         "legendgroup": "A549_LUNG_TenPx12",
         "marker": {
          "color": "rgb(222,203,228)",
          "line": {
           "width": 1
          },
          "size": 8,
          "symbol": "circle"
         },
         "mode": "markers",
         "name": "A549_LUNG_TenPx12",
         "orientation": "v",
         "showlegend": true,
         "type": "scatter",
         "x": [
          -0.13875934005278318
         ],
         "xaxis": "x",
         "y": [
          0.0008026758665343374
         ],
         "yaxis": "y"
        },
        {
         "hovertemplate": "label=SU8686_PANCREAS_TenPx12<br>PC1=%{x}<br>PC2=%{y}<extra></extra>",
         "legendgroup": "SU8686_PANCREAS_TenPx12",
         "marker": {
          "color": "rgb(253,218,236)",
          "line": {
           "width": 1
          },
          "size": 8,
          "symbol": "circle"
         },
         "mode": "markers",
         "name": "SU8686_PANCREAS_TenPx12",
         "orientation": "v",
         "showlegend": true,
         "type": "scatter",
         "x": [
          -0.47657477395737036
         ],
         "xaxis": "x",
         "y": [
          -0.08252720630970269
         ],
         "yaxis": "y"
        },
        {
         "hovertemplate": "label=TE14_OESOPHAGUS_TenPx12<br>PC1=%{x}<br>PC2=%{y}<extra></extra>",
         "legendgroup": "TE14_OESOPHAGUS_TenPx12",
         "marker": {
          "color": "rgb(255,255,179)",
          "line": {
           "width": 1
          },
          "size": 8,
          "symbol": "circle"
         },
         "mode": "markers",
         "name": "TE14_OESOPHAGUS_TenPx12",
         "orientation": "v",
         "showlegend": true,
         "type": "scatter",
         "x": [
          -0.017406229228267102
         ],
         "xaxis": "x",
         "y": [
          -0.05254594558459982
         ],
         "yaxis": "y"
        },
        {
         "hovertemplate": "label=NCIH2170_LUNG_TenPx12<br>PC1=%{x}<br>PC2=%{y}<extra></extra>",
         "legendgroup": "NCIH2170_LUNG_TenPx12",
         "marker": {
          "color": "rgb(222,203,228)",
          "line": {
           "width": 1
          },
          "size": 8,
          "symbol": "circle"
         },
         "mode": "markers",
         "name": "NCIH2170_LUNG_TenPx12",
         "orientation": "v",
         "showlegend": true,
         "type": "scatter",
         "x": [
          0.344312405038405
         ],
         "xaxis": "x",
         "y": [
          -0.03737468006622146
         ],
         "yaxis": "y"
        },
        {
         "hovertemplate": "label=HCC1500_BREAST_TenPx12<br>PC1=%{x}<br>PC2=%{y}<extra></extra>",
         "legendgroup": "HCC1500_BREAST_TenPx12",
         "marker": {
          "color": "rgb(251,180,174)",
          "line": {
           "width": 1
          },
          "size": 8,
          "symbol": "circle"
         },
         "mode": "markers",
         "name": "HCC1500_BREAST_TenPx12",
         "orientation": "v",
         "showlegend": true,
         "type": "scatter",
         "x": [
          0.3384176235651453
         ],
         "xaxis": "x",
         "y": [
          -0.07050175727589117
         ],
         "yaxis": "y"
        },
        {
         "hovertemplate": "label=MDAMB436_BREAST_TenPx12<br>PC1=%{x}<br>PC2=%{y}<extra></extra>",
         "legendgroup": "MDAMB436_BREAST_TenPx12",
         "marker": {
          "color": "rgb(251,180,174)",
          "line": {
           "width": 1
          },
          "size": 8,
          "symbol": "circle"
         },
         "mode": "markers",
         "name": "MDAMB436_BREAST_TenPx12",
         "orientation": "v",
         "showlegend": true,
         "type": "scatter",
         "x": [
          0.31869574598337086
         ],
         "xaxis": "x",
         "y": [
          0.4827858854094008
         ],
         "yaxis": "y"
        },
        {
         "hovertemplate": "label=DV90_LUNG_TenPx12<br>PC1=%{x}<br>PC2=%{y}<extra></extra>",
         "legendgroup": "DV90_LUNG_TenPx12",
         "marker": {
          "color": "rgb(222,203,228)",
          "line": {
           "width": 1
          },
          "size": 8,
          "symbol": "circle"
         },
         "mode": "markers",
         "name": "DV90_LUNG_TenPx12",
         "orientation": "v",
         "showlegend": true,
         "type": "scatter",
         "x": [
          0.17840347051094943
         ],
         "xaxis": "x",
         "y": [
          0.22649398453609768
         ],
         "yaxis": "y"
        },
        {
         "hovertemplate": "label=SNU61_LARGE_INTESTINE_TenPx12<br>PC1=%{x}<br>PC2=%{y}<extra></extra>",
         "legendgroup": "SNU61_LARGE_INTESTINE_TenPx12",
         "marker": {
          "color": "rgb(242,242,242)",
          "line": {
           "width": 1
          },
          "size": 8,
          "symbol": "circle"
         },
         "mode": "markers",
         "name": "SNU61_LARGE_INTESTINE_TenPx12",
         "orientation": "v",
         "showlegend": true,
         "type": "scatter",
         "x": [
          -0.15043205237142565
         ],
         "xaxis": "x",
         "y": [
          -0.3150599229018215
         ],
         "yaxis": "y"
        },
        {
         "hovertemplate": "label=SBC5_LUNG_TenPx13<br>PC1=%{x}<br>PC2=%{y}<extra></extra>",
         "legendgroup": "SBC5_LUNG_TenPx13",
         "marker": {
          "color": "rgb(222,203,228)",
          "line": {
           "width": 1
          },
          "size": 8,
          "symbol": "circle"
         },
         "mode": "markers",
         "name": "SBC5_LUNG_TenPx13",
         "orientation": "v",
         "showlegend": true,
         "type": "scatter",
         "x": [
          -0.1346153704013806
         ],
         "xaxis": "x",
         "y": [
          -0.5463270376685676
         ],
         "yaxis": "y"
        },
        {
         "hovertemplate": "label=HT1376_URINARY_TRACT_TenPx13<br>PC1=%{x}<br>PC2=%{y}<extra></extra>",
         "legendgroup": "HT1376_URINARY_TRACT_TenPx13",
         "marker": {
          "color": "rgb(229,216,189)",
          "line": {
           "width": 1
          },
          "size": 8,
          "symbol": "circle"
         },
         "mode": "markers",
         "name": "HT1376_URINARY_TRACT_TenPx13",
         "orientation": "v",
         "showlegend": true,
         "type": "scatter",
         "x": [
          0.04070622279230842
         ],
         "xaxis": "x",
         "y": [
          0.16241454610081713
         ],
         "yaxis": "y"
        },
        {
         "hovertemplate": "label=CFPAC1_PANCREAS_TenPx13<br>PC1=%{x}<br>PC2=%{y}<extra></extra>",
         "legendgroup": "CFPAC1_PANCREAS_TenPx13",
         "marker": {
          "color": "rgb(253,218,236)",
          "line": {
           "width": 1
          },
          "size": 8,
          "symbol": "circle"
         },
         "mode": "markers",
         "name": "CFPAC1_PANCREAS_TenPx13",
         "orientation": "v",
         "showlegend": true,
         "type": "scatter",
         "x": [
          -0.25786087489562654
         ],
         "xaxis": "x",
         "y": [
          -0.016637848044740434
         ],
         "yaxis": "y"
        },
        {
         "hovertemplate": "label=NCIH3255_LUNG_TenPx13<br>PC1=%{x}<br>PC2=%{y}<extra></extra>",
         "legendgroup": "NCIH3255_LUNG_TenPx13",
         "marker": {
          "color": "rgb(222,203,228)",
          "line": {
           "width": 1
          },
          "size": 8,
          "symbol": "circle"
         },
         "mode": "markers",
         "name": "NCIH3255_LUNG_TenPx13",
         "orientation": "v",
         "showlegend": true,
         "type": "scatter",
         "x": [
          -0.208951034200235
         ],
         "xaxis": "x",
         "y": [
          -0.20820572382451805
         ],
         "yaxis": "y"
        },
        {
         "hovertemplate": "label=NCIH1975_LUNG_TenPx13<br>PC1=%{x}<br>PC2=%{y}<extra></extra>",
         "legendgroup": "NCIH1975_LUNG_TenPx13",
         "marker": {
          "color": "rgb(222,203,228)",
          "line": {
           "width": 1
          },
          "size": 8,
          "symbol": "circle"
         },
         "mode": "markers",
         "name": "NCIH1975_LUNG_TenPx13",
         "orientation": "v",
         "showlegend": true,
         "type": "scatter",
         "x": [
          0.13737178174780437
         ],
         "xaxis": "x",
         "y": [
          0.3717264068969937
         ],
         "yaxis": "y"
        },
        {
         "hovertemplate": "label=COLO678_LARGE_INTESTINE_TenPx13<br>PC1=%{x}<br>PC2=%{y}<extra></extra>",
         "legendgroup": "COLO678_LARGE_INTESTINE_TenPx13",
         "marker": {
          "color": "rgb(242,242,242)",
          "line": {
           "width": 1
          },
          "size": 8,
          "symbol": "circle"
         },
         "mode": "markers",
         "name": "COLO678_LARGE_INTESTINE_TenPx13",
         "orientation": "v",
         "showlegend": true,
         "type": "scatter",
         "x": [
          0.19810266690724124
         ],
         "xaxis": "x",
         "y": [
          0.08712787623862471
         ],
         "yaxis": "y"
        },
        {
         "hovertemplate": "label=SNU119_OVARY_TenPx13<br>PC1=%{x}<br>PC2=%{y}<extra></extra>",
         "legendgroup": "SNU119_OVARY_TenPx13",
         "marker": {
          "color": "black",
          "line": {
           "width": 1
          },
          "size": 8,
          "symbol": "circle"
         },
         "mode": "markers",
         "name": "SNU119_OVARY_TenPx13",
         "orientation": "v",
         "showlegend": true,
         "type": "scatter",
         "x": [
          -0.3563148982309991
         ],
         "xaxis": "x",
         "y": [
          -0.01591441313551449
         ],
         "yaxis": "y"
        },
        {
         "hovertemplate": "label=CORL105_LUNG_TenPx13<br>PC1=%{x}<br>PC2=%{y}<extra></extra>",
         "legendgroup": "CORL105_LUNG_TenPx13",
         "marker": {
          "color": "rgb(222,203,228)",
          "line": {
           "width": 1
          },
          "size": 8,
          "symbol": "circle"
         },
         "mode": "markers",
         "name": "CORL105_LUNG_TenPx13",
         "orientation": "v",
         "showlegend": true,
         "type": "scatter",
         "x": [
          0.09690724622829154
         ],
         "xaxis": "x",
         "y": [
          0.27707578426494595
         ],
         "yaxis": "y"
        },
        {
         "hovertemplate": "label=HCC70_BREAST_TenPx13<br>PC1=%{x}<br>PC2=%{y}<extra></extra>",
         "legendgroup": "HCC70_BREAST_TenPx13",
         "marker": {
          "color": "rgb(251,180,174)",
          "line": {
           "width": 1
          },
          "size": 8,
          "symbol": "circle"
         },
         "mode": "markers",
         "name": "HCC70_BREAST_TenPx13",
         "orientation": "v",
         "showlegend": true,
         "type": "scatter",
         "x": [
          0.2290215886887256
         ],
         "xaxis": "x",
         "y": [
          0.058972484666765114
         ],
         "yaxis": "y"
        },
        {
         "hovertemplate": "label=AGS_STOMACH_TenPx16<br>PC1=%{x}<br>PC2=%{y}<extra></extra>",
         "legendgroup": "AGS_STOMACH_TenPx16",
         "marker": {
          "color": "rgb(141,211,199)",
          "line": {
           "width": 1
          },
          "size": 8,
          "symbol": "circle"
         },
         "mode": "markers",
         "name": "AGS_STOMACH_TenPx16",
         "orientation": "v",
         "showlegend": true,
         "type": "scatter",
         "x": [
          -0.1683391223184204
         ],
         "xaxis": "x",
         "y": [
          0.13626762134199333
         ],
         "yaxis": "y"
        },
        {
         "hovertemplate": "label=HCC1143_BREAST_TenPx16<br>PC1=%{x}<br>PC2=%{y}<extra></extra>",
         "legendgroup": "HCC1143_BREAST_TenPx16",
         "marker": {
          "color": "rgb(251,180,174)",
          "line": {
           "width": 1
          },
          "size": 8,
          "symbol": "circle"
         },
         "mode": "markers",
         "name": "HCC1143_BREAST_TenPx16",
         "orientation": "v",
         "showlegend": true,
         "type": "scatter",
         "x": [
          -0.4083137740660169
         ],
         "xaxis": "x",
         "y": [
          0.05540768943106848
         ],
         "yaxis": "y"
        },
        {
         "hovertemplate": "label=NCIH1666_LUNG_TenPx16<br>PC1=%{x}<br>PC2=%{y}<extra></extra>",
         "legendgroup": "NCIH1666_LUNG_TenPx16",
         "marker": {
          "color": "rgb(222,203,228)",
          "line": {
           "width": 1
          },
          "size": 8,
          "symbol": "circle"
         },
         "mode": "markers",
         "name": "NCIH1666_LUNG_TenPx16",
         "orientation": "v",
         "showlegend": true,
         "type": "scatter",
         "x": [
          -0.5894580307962194
         ],
         "xaxis": "x",
         "y": [
          -0.2935486847668733
         ],
         "yaxis": "y"
        },
        {
         "hovertemplate": "label=NCIH2291_LUNG_TenPx16<br>PC1=%{x}<br>PC2=%{y}<extra></extra>",
         "legendgroup": "NCIH2291_LUNG_TenPx16",
         "marker": {
          "color": "rgb(222,203,228)",
          "line": {
           "width": 1
          },
          "size": 8,
          "symbol": "circle"
         },
         "mode": "markers",
         "name": "NCIH2291_LUNG_TenPx16",
         "orientation": "v",
         "showlegend": true,
         "type": "scatter",
         "x": [
          0.5959152971348043
         ],
         "xaxis": "x",
         "y": [
          0.24716426534218075
         ],
         "yaxis": "y"
        },
        {
         "hovertemplate": "label=NCIH747_LARGE_INTESTINE_TenPx16<br>PC1=%{x}<br>PC2=%{y}<extra></extra>",
         "legendgroup": "NCIH747_LARGE_INTESTINE_TenPx16",
         "marker": {
          "color": "rgb(242,242,242)",
          "line": {
           "width": 1
          },
          "size": 8,
          "symbol": "circle"
         },
         "mode": "markers",
         "name": "NCIH747_LARGE_INTESTINE_TenPx16",
         "orientation": "v",
         "showlegend": true,
         "type": "scatter",
         "x": [
          0.1756301990667015
         ],
         "xaxis": "x",
         "y": [
          0.2087854976860468
         ],
         "yaxis": "y"
        },
        {
         "hovertemplate": "label=NCIH838_LUNG_TenPx16<br>PC1=%{x}<br>PC2=%{y}<extra></extra>",
         "legendgroup": "NCIH838_LUNG_TenPx16",
         "marker": {
          "color": "rgb(222,203,228)",
          "line": {
           "width": 1
          },
          "size": 8,
          "symbol": "circle"
         },
         "mode": "markers",
         "name": "NCIH838_LUNG_TenPx16",
         "orientation": "v",
         "showlegend": true,
         "type": "scatter",
         "x": [
          -0.1342572038181586
         ],
         "xaxis": "x",
         "y": [
          -0.12715006734291356
         ],
         "yaxis": "y"
        },
        {
         "hovertemplate": "label=FUOV1_OVARY_TenPx16<br>PC1=%{x}<br>PC2=%{y}<extra></extra>",
         "legendgroup": "FUOV1_OVARY_TenPx16",
         "marker": {
          "color": "black",
          "line": {
           "width": 1
          },
          "size": 8,
          "symbol": "circle"
         },
         "mode": "markers",
         "name": "FUOV1_OVARY_TenPx16",
         "orientation": "v",
         "showlegend": true,
         "type": "scatter",
         "x": [
          0.09433711287866424
         ],
         "xaxis": "x",
         "y": [
          -0.44190526732439656
         ],
         "yaxis": "y"
        },
        {
         "hovertemplate": "label=RERFLCSQ1_LUNG_TenPx16<br>PC1=%{x}<br>PC2=%{y}<extra></extra>",
         "legendgroup": "RERFLCSQ1_LUNG_TenPx16",
         "marker": {
          "color": "rgb(222,203,228)",
          "line": {
           "width": 1
          },
          "size": 8,
          "symbol": "circle"
         },
         "mode": "markers",
         "name": "RERFLCSQ1_LUNG_TenPx16",
         "orientation": "v",
         "showlegend": true,
         "type": "scatter",
         "x": [
          0.10874730197295904
         ],
         "xaxis": "x",
         "y": [
          0.10492926626454767
         ],
         "yaxis": "y"
        },
        {
         "hovertemplate": "label=DETROIT562_UPPER_AERODIGESTIVE_TRACT_TenPx16<br>PC1=%{x}<br>PC2=%{y}<extra></extra>",
         "legendgroup": "DETROIT562_UPPER_AERODIGESTIVE_TRACT_TenPx16",
         "marker": {
          "color": "rgb(255,255,204)",
          "line": {
           "width": 1
          },
          "size": 8,
          "symbol": "circle"
         },
         "mode": "markers",
         "name": "DETROIT562_UPPER_AERODIGESTIVE_TRACT_TenPx16",
         "orientation": "v",
         "showlegend": true,
         "type": "scatter",
         "x": [
          -0.13595566954437402
         ],
         "xaxis": "x",
         "y": [
          0.05210333406994825
         ],
         "yaxis": "y"
        },
        {
         "hovertemplate": "label=L33_PANCREAS_TenPx17<br>PC1=%{x}<br>PC2=%{y}<extra></extra>",
         "legendgroup": "L33_PANCREAS_TenPx17",
         "marker": {
          "color": "rgb(253,218,236)",
          "line": {
           "width": 1
          },
          "size": 8,
          "symbol": "circle"
         },
         "mode": "markers",
         "name": "L33_PANCREAS_TenPx17",
         "orientation": "v",
         "showlegend": true,
         "type": "scatter",
         "x": [
          -0.4561922589329566
         ],
         "xaxis": "x",
         "y": [
          -0.3525049059434265
         ],
         "yaxis": "y"
        },
        {
         "hovertemplate": "label=MKN45_STOMACH_TenPx17<br>PC1=%{x}<br>PC2=%{y}<extra></extra>",
         "legendgroup": "MKN45_STOMACH_TenPx17",
         "marker": {
          "color": "rgb(141,211,199)",
          "line": {
           "width": 1
          },
          "size": 8,
          "symbol": "circle"
         },
         "mode": "markers",
         "name": "MKN45_STOMACH_TenPx17",
         "orientation": "v",
         "showlegend": true,
         "type": "scatter",
         "x": [
          0.05334439239641346
         ],
         "xaxis": "x",
         "y": [
          -0.1512580667794929
         ],
         "yaxis": "y"
        },
        {
         "hovertemplate": "label=MKN7_STOMACH_TenPx17<br>PC1=%{x}<br>PC2=%{y}<extra></extra>",
         "legendgroup": "MKN7_STOMACH_TenPx17",
         "marker": {
          "color": "rgb(141,211,199)",
          "line": {
           "width": 1
          },
          "size": 8,
          "symbol": "circle"
         },
         "mode": "markers",
         "name": "MKN7_STOMACH_TenPx17",
         "orientation": "v",
         "showlegend": true,
         "type": "scatter",
         "x": [
          -0.4214853048338554
         ],
         "xaxis": "x",
         "y": [
          -0.07182035280683752
         ],
         "yaxis": "y"
        },
        {
         "hovertemplate": "label=NCIH1793_LUNG_TenPx17<br>PC1=%{x}<br>PC2=%{y}<extra></extra>",
         "legendgroup": "NCIH1793_LUNG_TenPx17",
         "marker": {
          "color": "rgb(222,203,228)",
          "line": {
           "width": 1
          },
          "size": 8,
          "symbol": "circle"
         },
         "mode": "markers",
         "name": "NCIH1793_LUNG_TenPx17",
         "orientation": "v",
         "showlegend": true,
         "type": "scatter",
         "x": [
          0.22767334561335842
         ],
         "xaxis": "x",
         "y": [
          0.44618771513976035
         ],
         "yaxis": "y"
        },
        {
         "hovertemplate": "label=NCIH2126_LUNG_TenPx17<br>PC1=%{x}<br>PC2=%{y}<extra></extra>",
         "legendgroup": "NCIH2126_LUNG_TenPx17",
         "marker": {
          "color": "rgb(222,203,228)",
          "line": {
           "width": 1
          },
          "size": 8,
          "symbol": "circle"
         },
         "mode": "markers",
         "name": "NCIH2126_LUNG_TenPx17",
         "orientation": "v",
         "showlegend": true,
         "type": "scatter",
         "x": [
          0.034112433346116605
         ],
         "xaxis": "x",
         "y": [
          0.24232879778759986
         ],
         "yaxis": "y"
        },
        {
         "hovertemplate": "label=NCIH2228_LUNG_TenPx17<br>PC1=%{x}<br>PC2=%{y}<extra></extra>",
         "legendgroup": "NCIH2228_LUNG_TenPx17",
         "marker": {
          "color": "rgb(222,203,228)",
          "line": {
           "width": 1
          },
          "size": 8,
          "symbol": "circle"
         },
         "mode": "markers",
         "name": "NCIH2228_LUNG_TenPx17",
         "orientation": "v",
         "showlegend": true,
         "type": "scatter",
         "x": [
          -0.10159463939121896
         ],
         "xaxis": "x",
         "y": [
          -0.12897626392281875
         ],
         "yaxis": "y"
        },
        {
         "hovertemplate": "label=NCIH661_LUNG_TenPx17<br>PC1=%{x}<br>PC2=%{y}<extra></extra>",
         "legendgroup": "NCIH661_LUNG_TenPx17",
         "marker": {
          "color": "rgb(222,203,228)",
          "line": {
           "width": 1
          },
          "size": 8,
          "symbol": "circle"
         },
         "mode": "markers",
         "name": "NCIH661_LUNG_TenPx17",
         "orientation": "v",
         "showlegend": true,
         "type": "scatter",
         "x": [
          0.2518893349628222
         ],
         "xaxis": "x",
         "y": [
          0.14623946426142226
         ],
         "yaxis": "y"
        },
        {
         "hovertemplate": "label=SNUC2A_LARGE_INTESTINE_TenPx17<br>PC1=%{x}<br>PC2=%{y}<extra></extra>",
         "legendgroup": "SNUC2A_LARGE_INTESTINE_TenPx17",
         "marker": {
          "color": "rgb(242,242,242)",
          "line": {
           "width": 1
          },
          "size": 8,
          "symbol": "circle"
         },
         "mode": "markers",
         "name": "SNUC2A_LARGE_INTESTINE_TenPx17",
         "orientation": "v",
         "showlegend": true,
         "type": "scatter",
         "x": [
          0.3576739691656171
         ],
         "xaxis": "x",
         "y": [
          0.16906032523927053
         ],
         "yaxis": "y"
        },
        {
         "hovertemplate": "label=TE6_OESOPHAGUS_TenPx17<br>PC1=%{x}<br>PC2=%{y}<extra></extra>",
         "legendgroup": "TE6_OESOPHAGUS_TenPx17",
         "marker": {
          "color": "rgb(255,255,179)",
          "line": {
           "width": 1
          },
          "size": 8,
          "symbol": "circle"
         },
         "mode": "markers",
         "name": "TE6_OESOPHAGUS_TenPx17",
         "orientation": "v",
         "showlegend": true,
         "type": "scatter",
         "x": [
          -0.08290068741937663
         ],
         "xaxis": "x",
         "y": [
          -0.44899213309846625
         ],
         "yaxis": "y"
        },
        {
         "hovertemplate": "label=IGROV1_OVARY_TenPx19<br>PC1=%{x}<br>PC2=%{y}<extra></extra>",
         "legendgroup": "IGROV1_OVARY_TenPx19",
         "marker": {
          "color": "black",
          "line": {
           "width": 1
          },
          "size": 8,
          "symbol": "circle"
         },
         "mode": "markers",
         "name": "IGROV1_OVARY_TenPx19",
         "orientation": "v",
         "showlegend": true,
         "type": "scatter",
         "x": [
          -0.5032989969631568
         ],
         "xaxis": "x",
         "y": [
          -0.24060659671777848
         ],
         "yaxis": "y"
        },
        {
         "hovertemplate": "label=LCLC103H_LUNG_TenPx19<br>PC1=%{x}<br>PC2=%{y}<extra></extra>",
         "legendgroup": "LCLC103H_LUNG_TenPx19",
         "marker": {
          "color": "rgb(222,203,228)",
          "line": {
           "width": 1
          },
          "size": 8,
          "symbol": "circle"
         },
         "mode": "markers",
         "name": "LCLC103H_LUNG_TenPx19",
         "orientation": "v",
         "showlegend": true,
         "type": "scatter",
         "x": [
          -0.056034459048594346
         ],
         "xaxis": "x",
         "y": [
          0.12064948211826208
         ],
         "yaxis": "y"
        },
        {
         "hovertemplate": "label=LOXIMVI_SKIN_TenPx19<br>PC1=%{x}<br>PC2=%{y}<extra></extra>",
         "legendgroup": "LOXIMVI_SKIN_TenPx19",
         "marker": {
          "color": "rgb(179,205,227)",
          "line": {
           "width": 1
          },
          "size": 8,
          "symbol": "circle"
         },
         "mode": "markers",
         "name": "LOXIMVI_SKIN_TenPx19",
         "orientation": "v",
         "showlegend": true,
         "type": "scatter",
         "x": [
          0.1243655857254803
         ],
         "xaxis": "x",
         "y": [
          -0.3614048965780724
         ],
         "yaxis": "y"
        },
        {
         "hovertemplate": "label=MDAMB453_BREAST_TenPx19<br>PC1=%{x}<br>PC2=%{y}<extra></extra>",
         "legendgroup": "MDAMB453_BREAST_TenPx19",
         "marker": {
          "color": "rgb(251,180,174)",
          "line": {
           "width": 1
          },
          "size": 8,
          "symbol": "circle"
         },
         "mode": "markers",
         "name": "MDAMB453_BREAST_TenPx19",
         "orientation": "v",
         "showlegend": true,
         "type": "scatter",
         "x": [
          0.2825545137800203
         ],
         "xaxis": "x",
         "y": [
          -0.02111501853805702
         ],
         "yaxis": "y"
        },
        {
         "hovertemplate": "label=NCIH1703_LUNG_TenPx19<br>PC1=%{x}<br>PC2=%{y}<extra></extra>",
         "legendgroup": "NCIH1703_LUNG_TenPx19",
         "marker": {
          "color": "rgb(222,203,228)",
          "line": {
           "width": 1
          },
          "size": 8,
          "symbol": "circle"
         },
         "mode": "markers",
         "name": "NCIH1703_LUNG_TenPx19",
         "orientation": "v",
         "showlegend": true,
         "type": "scatter",
         "x": [
          0.25006095270683915
         ],
         "xaxis": "x",
         "y": [
          0.037939521706360925
         ],
         "yaxis": "y"
        },
        {
         "hovertemplate": "label=NCIH196_LUNG_TenPx19<br>PC1=%{x}<br>PC2=%{y}<extra></extra>",
         "legendgroup": "NCIH196_LUNG_TenPx19",
         "marker": {
          "color": "rgb(222,203,228)",
          "line": {
           "width": 1
          },
          "size": 8,
          "symbol": "circle"
         },
         "mode": "markers",
         "name": "NCIH196_LUNG_TenPx19",
         "orientation": "v",
         "showlegend": true,
         "type": "scatter",
         "x": [
          -0.0736799926910273
         ],
         "xaxis": "x",
         "y": [
          0.32475828420802594
         ],
         "yaxis": "y"
        },
        {
         "hovertemplate": "label=NCIH2009_LUNG_TenPx19<br>PC1=%{x}<br>PC2=%{y}<extra></extra>",
         "legendgroup": "NCIH2009_LUNG_TenPx19",
         "marker": {
          "color": "rgb(222,203,228)",
          "line": {
           "width": 1
          },
          "size": 8,
          "symbol": "circle"
         },
         "mode": "markers",
         "name": "NCIH2009_LUNG_TenPx19",
         "orientation": "v",
         "showlegend": true,
         "type": "scatter",
         "x": [
          -0.4801098305263837
         ],
         "xaxis": "x",
         "y": [
          -0.5013488993938953
         ],
         "yaxis": "y"
        },
        {
         "hovertemplate": "label=NCIH2286_LUNG_TenPx19<br>PC1=%{x}<br>PC2=%{y}<extra></extra>",
         "legendgroup": "NCIH2286_LUNG_TenPx19",
         "marker": {
          "color": "rgb(222,203,228)",
          "line": {
           "width": 1
          },
          "size": 8,
          "symbol": "circle"
         },
         "mode": "markers",
         "name": "NCIH2286_LUNG_TenPx19",
         "orientation": "v",
         "showlegend": true,
         "type": "scatter",
         "x": [
          0.19324533113794579
         ],
         "xaxis": "x",
         "y": [
          0.29964875915718014
         ],
         "yaxis": "y"
        },
        {
         "hovertemplate": "label=SNUC1_LARGE_INTESTINE_TenPx19<br>PC1=%{x}<br>PC2=%{y}<extra></extra>",
         "legendgroup": "SNUC1_LARGE_INTESTINE_TenPx19",
         "marker": {
          "color": "rgb(242,242,242)",
          "line": {
           "width": 1
          },
          "size": 8,
          "symbol": "circle"
         },
         "mode": "markers",
         "name": "SNUC1_LARGE_INTESTINE_TenPx19",
         "orientation": "v",
         "showlegend": true,
         "type": "scatter",
         "x": [
          0.1820257825122922
         ],
         "xaxis": "x",
         "y": [
          0.44839084234705207
         ],
         "yaxis": "y"
        },
        {
         "hovertemplate": "label=COLO205_LARGE_INTESTINE_TenPx20<br>PC1=%{x}<br>PC2=%{y}<extra></extra>",
         "legendgroup": "COLO205_LARGE_INTESTINE_TenPx20",
         "marker": {
          "color": "rgb(242,242,242)",
          "line": {
           "width": 1
          },
          "size": 8,
          "symbol": "circle"
         },
         "mode": "markers",
         "name": "COLO205_LARGE_INTESTINE_TenPx20",
         "orientation": "v",
         "showlegend": true,
         "type": "scatter",
         "x": [
          -0.1389821487757258
         ],
         "xaxis": "x",
         "y": [
          0.5474575527877497
         ],
         "yaxis": "y"
        },
        {
         "hovertemplate": "label=CORL47_LUNG_TenPx20<br>PC1=%{x}<br>PC2=%{y}<extra></extra>",
         "legendgroup": "CORL47_LUNG_TenPx20",
         "marker": {
          "color": "rgb(222,203,228)",
          "line": {
           "width": 1
          },
          "size": 8,
          "symbol": "circle"
         },
         "mode": "markers",
         "name": "CORL47_LUNG_TenPx20",
         "orientation": "v",
         "showlegend": true,
         "type": "scatter",
         "x": [
          0.2705849561048418
         ],
         "xaxis": "x",
         "y": [
          -0.22903877195604322
         ],
         "yaxis": "y"
        },
        {
         "hovertemplate": "label=HCC1187_BREAST_TenPx20<br>PC1=%{x}<br>PC2=%{y}<extra></extra>",
         "legendgroup": "HCC1187_BREAST_TenPx20",
         "marker": {
          "color": "rgb(251,180,174)",
          "line": {
           "width": 1
          },
          "size": 8,
          "symbol": "circle"
         },
         "mode": "markers",
         "name": "HCC1187_BREAST_TenPx20",
         "orientation": "v",
         "showlegend": true,
         "type": "scatter",
         "x": [
          0.2674996231725492
         ],
         "xaxis": "x",
         "y": [
          -0.17842628567252475
         ],
         "yaxis": "y"
        },
        {
         "hovertemplate": "label=HUH6_LIVER_TenPx20<br>PC1=%{x}<br>PC2=%{y}<extra></extra>",
         "legendgroup": "HUH6_LIVER_TenPx20",
         "marker": {
          "color": "rgb(254,217,166)",
          "line": {
           "width": 1
          },
          "size": 8,
          "symbol": "circle"
         },
         "mode": "markers",
         "name": "HUH6_LIVER_TenPx20",
         "orientation": "v",
         "showlegend": true,
         "type": "scatter",
         "x": [
          -0.5493865326589518
         ],
         "xaxis": "x",
         "y": [
          -0.6659263429245422
         ],
         "yaxis": "y"
        },
        {
         "hovertemplate": "label=NCIH146_LUNG_TenPx20<br>PC1=%{x}<br>PC2=%{y}<extra></extra>",
         "legendgroup": "NCIH146_LUNG_TenPx20",
         "marker": {
          "color": "rgb(222,203,228)",
          "line": {
           "width": 1
          },
          "size": 8,
          "symbol": "circle"
         },
         "mode": "markers",
         "name": "NCIH146_LUNG_TenPx20",
         "orientation": "v",
         "showlegend": true,
         "type": "scatter",
         "x": [
          0.3166285652633981
         ],
         "xaxis": "x",
         "y": [
          -0.08367444605432071
         ],
         "yaxis": "y"
        },
        {
         "hovertemplate": "label=SNU1_STOMACH_TenPx20<br>PC1=%{x}<br>PC2=%{y}<extra></extra>",
         "legendgroup": "SNU1_STOMACH_TenPx20",
         "marker": {
          "color": "rgb(141,211,199)",
          "line": {
           "width": 1
          },
          "size": 8,
          "symbol": "circle"
         },
         "mode": "markers",
         "name": "SNU1_STOMACH_TenPx20",
         "orientation": "v",
         "showlegend": true,
         "type": "scatter",
         "x": [
          0.07104102544955482
         ],
         "xaxis": "x",
         "y": [
          0.30459179977503553
         ],
         "yaxis": "y"
        },
        {
         "hovertemplate": "label=NCIH23_LUNG_TenPx20<br>PC1=%{x}<br>PC2=%{y}<extra></extra>",
         "legendgroup": "NCIH23_LUNG_TenPx20",
         "marker": {
          "color": "rgb(222,203,228)",
          "line": {
           "width": 1
          },
          "size": 8,
          "symbol": "circle"
         },
         "mode": "markers",
         "name": "NCIH23_LUNG_TenPx20",
         "orientation": "v",
         "showlegend": true,
         "type": "scatter",
         "x": [
          -0.08007372926664999
         ],
         "xaxis": "x",
         "y": [
          -0.07528939358186011
         ],
         "yaxis": "y"
        },
        {
         "hovertemplate": "label=OSRC2_KIDNEY_TenPx20<br>PC1=%{x}<br>PC2=%{y}<extra></extra>",
         "legendgroup": "OSRC2_KIDNEY_TenPx20",
         "marker": {
          "color": "rgb(204,235,197)",
          "line": {
           "width": 1
          },
          "size": 8,
          "symbol": "circle"
         },
         "mode": "markers",
         "name": "OSRC2_KIDNEY_TenPx20",
         "orientation": "v",
         "showlegend": true,
         "type": "scatter",
         "x": [
          0.004693643966982449
         ],
         "xaxis": "x",
         "y": [
          0.38393884077077134
         ],
         "yaxis": "y"
        },
        {
         "hovertemplate": "label=SW948_LARGE_INTESTINE_TenPx20<br>PC1=%{x}<br>PC2=%{y}<extra></extra>",
         "legendgroup": "SW948_LARGE_INTESTINE_TenPx20",
         "marker": {
          "color": "rgb(242,242,242)",
          "line": {
           "width": 1
          },
          "size": 8,
          "symbol": "circle"
         },
         "mode": "markers",
         "name": "SW948_LARGE_INTESTINE_TenPx20",
         "orientation": "v",
         "showlegend": true,
         "type": "scatter",
         "x": [
          -0.10803651561386422
         ],
         "xaxis": "x",
         "y": [
          0.14140855962013246
         ],
         "yaxis": "y"
        },
        {
         "hovertemplate": "label=CORL88_LUNG_TenPx21<br>PC1=%{x}<br>PC2=%{y}<extra></extra>",
         "legendgroup": "CORL88_LUNG_TenPx21",
         "marker": {
          "color": "rgb(222,203,228)",
          "line": {
           "width": 1
          },
          "size": 8,
          "symbol": "circle"
         },
         "mode": "markers",
         "name": "CORL88_LUNG_TenPx21",
         "orientation": "v",
         "showlegend": true,
         "type": "scatter",
         "x": [
          0.311909623893361
         ],
         "xaxis": "x",
         "y": [
          0.3073180166570551
         ],
         "yaxis": "y"
        },
        {
         "hovertemplate": "label=HCC2218_BREAST_TenPx21<br>PC1=%{x}<br>PC2=%{y}<extra></extra>",
         "legendgroup": "HCC2218_BREAST_TenPx21",
         "marker": {
          "color": "rgb(251,180,174)",
          "line": {
           "width": 1
          },
          "size": 8,
          "symbol": "circle"
         },
         "mode": "markers",
         "name": "HCC2218_BREAST_TenPx21",
         "orientation": "v",
         "showlegend": true,
         "type": "scatter",
         "x": [
          0.21137633454088883
         ],
         "xaxis": "x",
         "y": [
          0.4868141819328496
         ],
         "yaxis": "y"
        },
        {
         "hovertemplate": "label=HCC44_LUNG_TenPx21<br>PC1=%{x}<br>PC2=%{y}<extra></extra>",
         "legendgroup": "HCC44_LUNG_TenPx21",
         "marker": {
          "color": "rgb(222,203,228)",
          "line": {
           "width": 1
          },
          "size": 8,
          "symbol": "circle"
         },
         "mode": "markers",
         "name": "HCC44_LUNG_TenPx21",
         "orientation": "v",
         "showlegend": true,
         "type": "scatter",
         "x": [
          -0.0809078681992941
         ],
         "xaxis": "x",
         "y": [
          0.003430240917818172
         ],
         "yaxis": "y"
        },
        {
         "hovertemplate": "label=HSC4_UPPER_AERODIGESTIVE_TRACT_TenPx21<br>PC1=%{x}<br>PC2=%{y}<extra></extra>",
         "legendgroup": "HSC4_UPPER_AERODIGESTIVE_TRACT_TenPx21",
         "marker": {
          "color": "rgb(255,255,204)",
          "line": {
           "width": 1
          },
          "size": 8,
          "symbol": "circle"
         },
         "mode": "markers",
         "name": "HSC4_UPPER_AERODIGESTIVE_TRACT_TenPx21",
         "orientation": "v",
         "showlegend": true,
         "type": "scatter",
         "x": [
          -0.8353570499398845
         ],
         "xaxis": "x",
         "y": [
          -0.19592914893281613
         ],
         "yaxis": "y"
        },
        {
         "hovertemplate": "label=NCIH2172_LUNG_TenPx21<br>PC1=%{x}<br>PC2=%{y}<extra></extra>",
         "legendgroup": "NCIH2172_LUNG_TenPx21",
         "marker": {
          "color": "rgb(222,203,228)",
          "line": {
           "width": 1
          },
          "size": 8,
          "symbol": "circle"
         },
         "mode": "markers",
         "name": "NCIH2172_LUNG_TenPx21",
         "orientation": "v",
         "showlegend": true,
         "type": "scatter",
         "x": [
          -0.1603459777585433
         ],
         "xaxis": "x",
         "y": [
          -0.5563803590529856
         ],
         "yaxis": "y"
        },
        {
         "hovertemplate": "label=TCCSUP_URINARY_TRACT_TenPx21<br>PC1=%{x}<br>PC2=%{y}<extra></extra>",
         "legendgroup": "TCCSUP_URINARY_TRACT_TenPx21",
         "marker": {
          "color": "rgb(229,216,189)",
          "line": {
           "width": 1
          },
          "size": 8,
          "symbol": "circle"
         },
         "mode": "markers",
         "name": "TCCSUP_URINARY_TRACT_TenPx21",
         "orientation": "v",
         "showlegend": true,
         "type": "scatter",
         "x": [
          0.023980424023552493
         ],
         "xaxis": "x",
         "y": [
          0.05196467708872991
         ],
         "yaxis": "y"
        },
        {
         "hovertemplate": "label=TE11_OESOPHAGUS_TenPx21<br>PC1=%{x}<br>PC2=%{y}<extra></extra>",
         "legendgroup": "TE11_OESOPHAGUS_TenPx21",
         "marker": {
          "color": "rgb(255,255,179)",
          "line": {
           "width": 1
          },
          "size": 8,
          "symbol": "circle"
         },
         "mode": "markers",
         "name": "TE11_OESOPHAGUS_TenPx21",
         "orientation": "v",
         "showlegend": true,
         "type": "scatter",
         "x": [
          -0.2501501479502944
         ],
         "xaxis": "x",
         "y": [
          -0.3411200079134035
         ],
         "yaxis": "y"
        },
        {
         "hovertemplate": "label=UACC62_SKIN_TenPx21<br>PC1=%{x}<br>PC2=%{y}<extra></extra>",
         "legendgroup": "UACC62_SKIN_TenPx21",
         "marker": {
          "color": "rgb(179,205,227)",
          "line": {
           "width": 1
          },
          "size": 8,
          "symbol": "circle"
         },
         "mode": "markers",
         "name": "UACC62_SKIN_TenPx21",
         "orientation": "v",
         "showlegend": true,
         "type": "scatter",
         "x": [
          0.12654834527921247
         ],
         "xaxis": "x",
         "y": [
          0.332442663220396
         ],
         "yaxis": "y"
        },
        {
         "hovertemplate": "label=VCAP_PROSTATE_TenPx21<br>PC1=%{x}<br>PC2=%{y}<extra></extra>",
         "legendgroup": "VCAP_PROSTATE_TenPx21",
         "marker": {
          "color": "rgb(190,186,218)",
          "line": {
           "width": 1
          },
          "size": 8,
          "symbol": "circle"
         },
         "mode": "markers",
         "name": "VCAP_PROSTATE_TenPx21",
         "orientation": "v",
         "showlegend": true,
         "type": "scatter",
         "x": [
          0.43711051515532934
         ],
         "xaxis": "x",
         "y": [
          -0.11653921670525894
         ],
         "yaxis": "y"
        },
        {
         "hovertemplate": "label=EFM19_BREAST_TenPx22<br>PC1=%{x}<br>PC2=%{y}<extra></extra>",
         "legendgroup": "EFM19_BREAST_TenPx22",
         "marker": {
          "color": "rgb(251,180,174)",
          "line": {
           "width": 1
          },
          "size": 8,
          "symbol": "circle"
         },
         "mode": "markers",
         "name": "EFM19_BREAST_TenPx22",
         "orientation": "v",
         "showlegend": true,
         "type": "scatter",
         "x": [
          -0.10624733348300897
         ],
         "xaxis": "x",
         "y": [
          -0.2260340996210191
         ],
         "yaxis": "y"
        },
        {
         "hovertemplate": "label=HUG1N_STOMACH_TenPx22<br>PC1=%{x}<br>PC2=%{y}<extra></extra>",
         "legendgroup": "HUG1N_STOMACH_TenPx22",
         "marker": {
          "color": "rgb(141,211,199)",
          "line": {
           "width": 1
          },
          "size": 8,
          "symbol": "circle"
         },
         "mode": "markers",
         "name": "HUG1N_STOMACH_TenPx22",
         "orientation": "v",
         "showlegend": true,
         "type": "scatter",
         "x": [
          0.17429128451017453
         ],
         "xaxis": "x",
         "y": [
          0.2945739751213513
         ],
         "yaxis": "y"
        },
        {
         "hovertemplate": "label=KYSE510_OESOPHAGUS_TenPx22<br>PC1=%{x}<br>PC2=%{y}<extra></extra>",
         "legendgroup": "KYSE510_OESOPHAGUS_TenPx22",
         "marker": {
          "color": "rgb(255,255,179)",
          "line": {
           "width": 1
          },
          "size": 8,
          "symbol": "circle"
         },
         "mode": "markers",
         "name": "KYSE510_OESOPHAGUS_TenPx22",
         "orientation": "v",
         "showlegend": true,
         "type": "scatter",
         "x": [
          0.04693130890758874
         ],
         "xaxis": "x",
         "y": [
          0.13291958102397183
         ],
         "yaxis": "y"
        },
        {
         "hovertemplate": "label=LU65_LUNG_TenPx22<br>PC1=%{x}<br>PC2=%{y}<extra></extra>",
         "legendgroup": "LU65_LUNG_TenPx22",
         "marker": {
          "color": "rgb(222,203,228)",
          "line": {
           "width": 1
          },
          "size": 8,
          "symbol": "circle"
         },
         "mode": "markers",
         "name": "LU65_LUNG_TenPx22",
         "orientation": "v",
         "showlegend": true,
         "type": "scatter",
         "x": [
          0.13211593021183995
         ],
         "xaxis": "x",
         "y": [
          0.36653068099117203
         ],
         "yaxis": "y"
        },
        {
         "hovertemplate": "label=NCIH460_LUNG_TenPx22<br>PC1=%{x}<br>PC2=%{y}<extra></extra>",
         "legendgroup": "NCIH460_LUNG_TenPx22",
         "marker": {
          "color": "rgb(222,203,228)",
          "line": {
           "width": 1
          },
          "size": 8,
          "symbol": "circle"
         },
         "mode": "markers",
         "name": "NCIH460_LUNG_TenPx22",
         "orientation": "v",
         "showlegend": true,
         "type": "scatter",
         "x": [
          -0.25438372398796816
         ],
         "xaxis": "x",
         "y": [
          -0.4042749863448397
         ],
         "yaxis": "y"
        },
        {
         "hovertemplate": "label=NCIH522_LUNG_TenPx22<br>PC1=%{x}<br>PC2=%{y}<extra></extra>",
         "legendgroup": "NCIH522_LUNG_TenPx22",
         "marker": {
          "color": "rgb(222,203,228)",
          "line": {
           "width": 1
          },
          "size": 8,
          "symbol": "circle"
         },
         "mode": "markers",
         "name": "NCIH522_LUNG_TenPx22",
         "orientation": "v",
         "showlegend": true,
         "type": "scatter",
         "x": [
          -0.14898119588075667
         ],
         "xaxis": "x",
         "y": [
          -0.30671006526018346
         ],
         "yaxis": "y"
        },
        {
         "hovertemplate": "label=PECAPJ34CLONEC12_UPPER_AERODIGESTIVE_TRACT_TenPx22<br>PC1=%{x}<br>PC2=%{y}<extra></extra>",
         "legendgroup": "PECAPJ34CLONEC12_UPPER_AERODIGESTIVE_TRACT_TenPx22",
         "marker": {
          "color": "rgb(255,255,204)",
          "line": {
           "width": 1
          },
          "size": 8,
          "symbol": "circle"
         },
         "mode": "markers",
         "name": "PECAPJ34CLONEC12_UPPER_AERODIGESTIVE_TRACT_TenPx22",
         "orientation": "v",
         "showlegend": true,
         "type": "scatter",
         "x": [
          -0.04042617805933669
         ],
         "xaxis": "x",
         "y": [
          -0.025949087723449782
         ],
         "yaxis": "y"
        },
        {
         "hovertemplate": "label=SKMEL30_SKIN_TenPx22<br>PC1=%{x}<br>PC2=%{y}<extra></extra>",
         "legendgroup": "SKMEL30_SKIN_TenPx22",
         "marker": {
          "color": "rgb(179,205,227)",
          "line": {
           "width": 1
          },
          "size": 8,
          "symbol": "circle"
         },
         "mode": "markers",
         "name": "SKMEL30_SKIN_TenPx22",
         "orientation": "v",
         "showlegend": true,
         "type": "scatter",
         "x": [
          0.07638550547289455
         ],
         "xaxis": "x",
         "y": [
          -0.10051036604834784
         ],
         "yaxis": "y"
        },
        {
         "hovertemplate": "label=SW1990_PANCREAS_TenPx22<br>PC1=%{x}<br>PC2=%{y}<extra></extra>",
         "legendgroup": "SW1990_PANCREAS_TenPx22",
         "marker": {
          "color": "rgb(253,218,236)",
          "line": {
           "width": 1
          },
          "size": 8,
          "symbol": "circle"
         },
         "mode": "markers",
         "name": "SW1990_PANCREAS_TenPx22",
         "orientation": "v",
         "showlegend": true,
         "type": "scatter",
         "x": [
          0.010365290286069504
         ],
         "xaxis": "x",
         "y": [
          0.3899634794816763
         ],
         "yaxis": "y"
        },
        {
         "hovertemplate": "label=A673_BONE_TenPx27<br>PC1=%{x}<br>PC2=%{y}<extra></extra>",
         "legendgroup": "A673_BONE_TenPx27",
         "marker": {
          "color": "rgb(251,128,114)",
          "line": {
           "width": 1
          },
          "size": 8,
          "symbol": "circle"
         },
         "mode": "markers",
         "name": "A673_BONE_TenPx27",
         "orientation": "v",
         "showlegend": true,
         "type": "scatter",
         "x": [
          -0.4163792787609908
         ],
         "xaxis": "x",
         "y": [
          -0.6421005351571034
         ],
         "yaxis": "y"
        },
        {
         "hovertemplate": "label=MDAMB231_BREAST_TenPx27<br>PC1=%{x}<br>PC2=%{y}<extra></extra>",
         "legendgroup": "MDAMB231_BREAST_TenPx27",
         "marker": {
          "color": "rgb(251,180,174)",
          "line": {
           "width": 1
          },
          "size": 8,
          "symbol": "circle"
         },
         "mode": "markers",
         "name": "MDAMB231_BREAST_TenPx27",
         "orientation": "v",
         "showlegend": true,
         "type": "scatter",
         "x": [
          -0.07324820271829721
         ],
         "xaxis": "x",
         "y": [
          0.5640121535084519
         ],
         "yaxis": "y"
        },
        {
         "hovertemplate": "label=HEYA8_OVARY_TenPx27<br>PC1=%{x}<br>PC2=%{y}<extra></extra>",
         "legendgroup": "HEYA8_OVARY_TenPx27",
         "marker": {
          "color": "black",
          "line": {
           "width": 1
          },
          "size": 8,
          "symbol": "circle"
         },
         "mode": "markers",
         "name": "HEYA8_OVARY_TenPx27",
         "orientation": "v",
         "showlegend": true,
         "type": "scatter",
         "x": [
          0.15657720869656583
         ],
         "xaxis": "x",
         "y": [
          0.17217827271811217
         ],
         "yaxis": "y"
        },
        {
         "hovertemplate": "label=RH41_SOFT_TISSUE_TenPx27<br>PC1=%{x}<br>PC2=%{y}<extra></extra>",
         "legendgroup": "RH41_SOFT_TISSUE_TenPx27",
         "marker": {
          "color": "rgb(128,177,211)",
          "line": {
           "width": 1
          },
          "size": 8,
          "symbol": "circle"
         },
         "mode": "markers",
         "name": "RH41_SOFT_TISSUE_TenPx27",
         "orientation": "v",
         "showlegend": true,
         "type": "scatter",
         "x": [
          -0.09950899467339419
         ],
         "xaxis": "x",
         "y": [
          -0.39463846578425305
         ],
         "yaxis": "y"
        },
        {
         "hovertemplate": "label=KMS12BM_HAEMATOPOIETIC_AND_LYMPHOID_TISSUE_TenPx27<br>PC1=%{x}<br>PC2=%{y}<extra></extra>",
         "legendgroup": "KMS12BM_HAEMATOPOIETIC_AND_LYMPHOID_TISSUE_TenPx27",
         "marker": {
          "color": "rgb(253,180,98)",
          "line": {
           "width": 1
          },
          "size": 8,
          "symbol": "circle"
         },
         "mode": "markers",
         "name": "KMS12BM_HAEMATOPOIETIC_AND_LYMPHOID_TISSUE_TenPx27",
         "orientation": "v",
         "showlegend": true,
         "type": "scatter",
         "x": [
          0.5845967308070785
         ],
         "xaxis": "x",
         "y": [
          -0.6472283643542597
         ],
         "yaxis": "y"
        },
        {
         "hovertemplate": "label=LN229_CENTRAL_NERVOUS_SYSTEM_TenPx27<br>PC1=%{x}<br>PC2=%{y}<extra></extra>",
         "legendgroup": "LN229_CENTRAL_NERVOUS_SYSTEM_TenPx27",
         "marker": {
          "color": "rgb(179,222,105)",
          "line": {
           "width": 1
          },
          "size": 8,
          "symbol": "circle"
         },
         "mode": "markers",
         "name": "LN229_CENTRAL_NERVOUS_SYSTEM_TenPx27",
         "orientation": "v",
         "showlegend": true,
         "type": "scatter",
         "x": [
          0.060356267830401655
         ],
         "xaxis": "x",
         "y": [
          0.3640860792835662
         ],
         "yaxis": "y"
        },
        {
         "hovertemplate": "label=LS180_LARGE_INTESTINE_TenPx27<br>PC1=%{x}<br>PC2=%{y}<extra></extra>",
         "legendgroup": "LS180_LARGE_INTESTINE_TenPx27",
         "marker": {
          "color": "rgb(242,242,242)",
          "line": {
           "width": 1
          },
          "size": 8,
          "symbol": "circle"
         },
         "mode": "markers",
         "name": "LS180_LARGE_INTESTINE_TenPx27",
         "orientation": "v",
         "showlegend": true,
         "type": "scatter",
         "x": [
          -0.12251415038374629
         ],
         "xaxis": "x",
         "y": [
          -0.3082966766000179
         ],
         "yaxis": "y"
        },
        {
         "hovertemplate": "label=MOLM13_HAEMATOPOIETIC_AND_LYMPHOID_TISSUE_TenPx27<br>PC1=%{x}<br>PC2=%{y}<extra></extra>",
         "legendgroup": "MOLM13_HAEMATOPOIETIC_AND_LYMPHOID_TISSUE_TenPx27",
         "marker": {
          "color": "rgb(253,180,98)",
          "line": {
           "width": 1
          },
          "size": 8,
          "symbol": "circle"
         },
         "mode": "markers",
         "name": "MOLM13_HAEMATOPOIETIC_AND_LYMPHOID_TISSUE_TenPx27",
         "orientation": "v",
         "showlegend": true,
         "type": "scatter",
         "x": [
          -0.10015924625435732
         ],
         "xaxis": "x",
         "y": [
          0.6424372131340935
         ],
         "yaxis": "y"
        },
        {
         "hovertemplate": "label=KARPAS299_HAEMATOPOIETIC_AND_LYMPHOID_TISSUE_TenPx27<br>PC1=%{x}<br>PC2=%{y}<extra></extra>",
         "legendgroup": "KARPAS299_HAEMATOPOIETIC_AND_LYMPHOID_TISSUE_TenPx27",
         "marker": {
          "color": "rgb(253,180,98)",
          "line": {
           "width": 1
          },
          "size": 8,
          "symbol": "circle"
         },
         "mode": "markers",
         "name": "KARPAS299_HAEMATOPOIETIC_AND_LYMPHOID_TISSUE_TenPx27",
         "orientation": "v",
         "showlegend": true,
         "type": "scatter",
         "x": [
          0.3261404680209833
         ],
         "xaxis": "x",
         "y": [
          0.11469623909160062
         ],
         "yaxis": "y"
        },
        {
         "hovertemplate": "label=CAL120_BREAST_TenPx28<br>PC1=%{x}<br>PC2=%{y}<extra></extra>",
         "legendgroup": "CAL120_BREAST_TenPx28",
         "marker": {
          "color": "rgb(251,180,174)",
          "line": {
           "width": 1
          },
          "size": 8,
          "symbol": "circle"
         },
         "mode": "markers",
         "name": "CAL120_BREAST_TenPx28",
         "orientation": "v",
         "showlegend": true,
         "type": "scatter",
         "x": [
          0.0035890541526407216
         ],
         "xaxis": "x",
         "y": [
          0.32791740506784445
         ],
         "yaxis": "y"
        },
        {
         "hovertemplate": "label=DU145_PROSTATE_TenPx28<br>PC1=%{x}<br>PC2=%{y}<extra></extra>",
         "legendgroup": "DU145_PROSTATE_TenPx28",
         "marker": {
          "color": "rgb(190,186,218)",
          "line": {
           "width": 1
          },
          "size": 8,
          "symbol": "circle"
         },
         "mode": "markers",
         "name": "DU145_PROSTATE_TenPx28",
         "orientation": "v",
         "showlegend": true,
         "type": "scatter",
         "x": [
          -0.23047973001896277
         ],
         "xaxis": "x",
         "y": [
          0.06190741906508449
         ],
         "yaxis": "y"
        },
        {
         "hovertemplate": "label=G401_SOFT_TISSUE_TenPx28<br>PC1=%{x}<br>PC2=%{y}<extra></extra>",
         "legendgroup": "G401_SOFT_TISSUE_TenPx28",
         "marker": {
          "color": "rgb(128,177,211)",
          "line": {
           "width": 1
          },
          "size": 8,
          "symbol": "circle"
         },
         "mode": "markers",
         "name": "G401_SOFT_TISSUE_TenPx28",
         "orientation": "v",
         "showlegend": true,
         "type": "scatter",
         "x": [
          -0.4011384270869245
         ],
         "xaxis": "x",
         "y": [
          -0.20114730472603876
         ],
         "yaxis": "y"
        },
        {
         "hovertemplate": "label=IM95_STOMACH_TenPx28<br>PC1=%{x}<br>PC2=%{y}<extra></extra>",
         "legendgroup": "IM95_STOMACH_TenPx28",
         "marker": {
          "color": "rgb(141,211,199)",
          "line": {
           "width": 1
          },
          "size": 8,
          "symbol": "circle"
         },
         "mode": "markers",
         "name": "IM95_STOMACH_TenPx28",
         "orientation": "v",
         "showlegend": true,
         "type": "scatter",
         "x": [
          0.07501185567807674
         ],
         "xaxis": "x",
         "y": [
          -0.7053396525051407
         ],
         "yaxis": "y"
        },
        {
         "hovertemplate": "label=JHUEM2_ENDOMETRIUM_TenPx28<br>PC1=%{x}<br>PC2=%{y}<extra></extra>",
         "legendgroup": "JHUEM2_ENDOMETRIUM_TenPx28",
         "marker": {
          "color": "rgb(252,205,229)",
          "line": {
           "width": 1
          },
          "size": 8,
          "symbol": "circle"
         },
         "mode": "markers",
         "name": "JHUEM2_ENDOMETRIUM_TenPx28",
         "orientation": "v",
         "showlegend": true,
         "type": "scatter",
         "x": [
          0.23230711929546294
         ],
         "xaxis": "x",
         "y": [
          0.056550296437236254
         ],
         "yaxis": "y"
        },
        {
         "hovertemplate": "label=KARPAS422_HAEMATOPOIETIC_AND_LYMPHOID_TISSUE_TenPx28<br>PC1=%{x}<br>PC2=%{y}<extra></extra>",
         "legendgroup": "KARPAS422_HAEMATOPOIETIC_AND_LYMPHOID_TISSUE_TenPx28",
         "marker": {
          "color": "rgb(253,180,98)",
          "line": {
           "width": 1
          },
          "size": 8,
          "symbol": "circle"
         },
         "mode": "markers",
         "name": "KARPAS422_HAEMATOPOIETIC_AND_LYMPHOID_TISSUE_TenPx28",
         "orientation": "v",
         "showlegend": true,
         "type": "scatter",
         "x": [
          0.6938489917043843
         ],
         "xaxis": "x",
         "y": [
          -0.6059109692121857
         ],
         "yaxis": "y"
        },
        {
         "hovertemplate": "label=KASUMI1_HAEMATOPOIETIC_AND_LYMPHOID_TISSUE_TenPx28<br>PC1=%{x}<br>PC2=%{y}<extra></extra>",
         "legendgroup": "KASUMI1_HAEMATOPOIETIC_AND_LYMPHOID_TISSUE_TenPx28",
         "marker": {
          "color": "rgb(253,180,98)",
          "line": {
           "width": 1
          },
          "size": 8,
          "symbol": "circle"
         },
         "mode": "markers",
         "name": "KASUMI1_HAEMATOPOIETIC_AND_LYMPHOID_TISSUE_TenPx28",
         "orientation": "v",
         "showlegend": true,
         "type": "scatter",
         "x": [
          0.07231934138194099
         ],
         "xaxis": "x",
         "y": [
          0.21694003560420638
         ],
         "yaxis": "y"
        },
        {
         "hovertemplate": "label=HCC15_LUNG_TenPx28<br>PC1=%{x}<br>PC2=%{y}<extra></extra>",
         "legendgroup": "HCC15_LUNG_TenPx28",
         "marker": {
          "color": "rgb(222,203,228)",
          "line": {
           "width": 1
          },
          "size": 8,
          "symbol": "circle"
         },
         "mode": "markers",
         "name": "HCC15_LUNG_TenPx28",
         "orientation": "v",
         "showlegend": true,
         "type": "scatter",
         "x": [
          -0.18137965243577517
         ],
         "xaxis": "x",
         "y": [
          0.37065831501784063
         ],
         "yaxis": "y"
        },
        {
         "hovertemplate": "label=U87MG_CENTRAL_NERVOUS_SYSTEM_TenPx28<br>PC1=%{x}<br>PC2=%{y}<extra></extra>",
         "legendgroup": "U87MG_CENTRAL_NERVOUS_SYSTEM_TenPx28",
         "marker": {
          "color": "rgb(179,222,105)",
          "line": {
           "width": 1
          },
          "size": 8,
          "symbol": "circle"
         },
         "mode": "markers",
         "name": "U87MG_CENTRAL_NERVOUS_SYSTEM_TenPx28",
         "orientation": "v",
         "showlegend": true,
         "type": "scatter",
         "x": [
          0.02139425371939714
         ],
         "xaxis": "x",
         "y": [
          0.4538080277873022
         ],
         "yaxis": "y"
        },
        {
         "hovertemplate": "label=ASPC1_PANCREAS_TenPx29<br>PC1=%{x}<br>PC2=%{y}<extra></extra>",
         "legendgroup": "ASPC1_PANCREAS_TenPx29",
         "marker": {
          "color": "rgb(253,218,236)",
          "line": {
           "width": 1
          },
          "size": 8,
          "symbol": "circle"
         },
         "mode": "markers",
         "name": "ASPC1_PANCREAS_TenPx29",
         "orientation": "v",
         "showlegend": true,
         "type": "scatter",
         "x": [
          0.12549396083070136
         ],
         "xaxis": "x",
         "y": [
          -0.11950035480198219
         ],
         "yaxis": "y"
        },
        {
         "hovertemplate": "label=SNU719_STOMACH_TenPx29<br>PC1=%{x}<br>PC2=%{y}<extra></extra>",
         "legendgroup": "SNU719_STOMACH_TenPx29",
         "marker": {
          "color": "rgb(141,211,199)",
          "line": {
           "width": 1
          },
          "size": 8,
          "symbol": "circle"
         },
         "mode": "markers",
         "name": "SNU719_STOMACH_TenPx29",
         "orientation": "v",
         "showlegend": true,
         "type": "scatter",
         "x": [
          0.13088246224312972
         ],
         "xaxis": "x",
         "y": [
          -0.16958905963540558
         ],
         "yaxis": "y"
        },
        {
         "hovertemplate": "label=CORL23_LUNG_TenPx29<br>PC1=%{x}<br>PC2=%{y}<extra></extra>",
         "legendgroup": "CORL23_LUNG_TenPx29",
         "marker": {
          "color": "rgb(222,203,228)",
          "line": {
           "width": 1
          },
          "size": 8,
          "symbol": "circle"
         },
         "mode": "markers",
         "name": "CORL23_LUNG_TenPx29",
         "orientation": "v",
         "showlegend": true,
         "type": "scatter",
         "x": [
          -0.3053708582075311
         ],
         "xaxis": "x",
         "y": [
          -0.3279153269592125
         ],
         "yaxis": "y"
        },
        {
         "hovertemplate": "label=F36P_HAEMATOPOIETIC_AND_LYMPHOID_TISSUE_TenPx29<br>PC1=%{x}<br>PC2=%{y}<extra></extra>",
         "legendgroup": "F36P_HAEMATOPOIETIC_AND_LYMPHOID_TISSUE_TenPx29",
         "marker": {
          "color": "rgb(253,180,98)",
          "line": {
           "width": 1
          },
          "size": 8,
          "symbol": "circle"
         },
         "mode": "markers",
         "name": "F36P_HAEMATOPOIETIC_AND_LYMPHOID_TISSUE_TenPx29",
         "orientation": "v",
         "showlegend": true,
         "type": "scatter",
         "x": [
          0.6170135771275675
         ],
         "xaxis": "x",
         "y": [
          -0.03296208478564614
         ],
         "yaxis": "y"
        },
        {
         "hovertemplate": "label=HEC50B_ENDOMETRIUM_TenPx29<br>PC1=%{x}<br>PC2=%{y}<extra></extra>",
         "legendgroup": "HEC50B_ENDOMETRIUM_TenPx29",
         "marker": {
          "color": "rgb(252,205,229)",
          "line": {
           "width": 1
          },
          "size": 8,
          "symbol": "circle"
         },
         "mode": "markers",
         "name": "HEC50B_ENDOMETRIUM_TenPx29",
         "orientation": "v",
         "showlegend": true,
         "type": "scatter",
         "x": [
          0.33469220160260665
         ],
         "xaxis": "x",
         "y": [
          0.1229459798445122
         ],
         "yaxis": "y"
        },
        {
         "hovertemplate": "label=KNS81_CENTRAL_NERVOUS_SYSTEM_TenPx29<br>PC1=%{x}<br>PC2=%{y}<extra></extra>",
         "legendgroup": "KNS81_CENTRAL_NERVOUS_SYSTEM_TenPx29",
         "marker": {
          "color": "rgb(179,222,105)",
          "line": {
           "width": 1
          },
          "size": 8,
          "symbol": "circle"
         },
         "mode": "markers",
         "name": "KNS81_CENTRAL_NERVOUS_SYSTEM_TenPx29",
         "orientation": "v",
         "showlegend": true,
         "type": "scatter",
         "x": [
          -0.806437694139196
         ],
         "xaxis": "x",
         "y": [
          0.3756676931320596
         ],
         "yaxis": "y"
        },
        {
         "hovertemplate": "label=OCIAML5_HAEMATOPOIETIC_AND_LYMPHOID_TISSUE_TenPx29<br>PC1=%{x}<br>PC2=%{y}<extra></extra>",
         "legendgroup": "OCIAML5_HAEMATOPOIETIC_AND_LYMPHOID_TISSUE_TenPx29",
         "marker": {
          "color": "rgb(253,180,98)",
          "line": {
           "width": 1
          },
          "size": 8,
          "symbol": "circle"
         },
         "mode": "markers",
         "name": "OCIAML5_HAEMATOPOIETIC_AND_LYMPHOID_TISSUE_TenPx29",
         "orientation": "v",
         "showlegend": true,
         "type": "scatter",
         "x": [
          0.684204530445595
         ],
         "xaxis": "x",
         "y": [
          -0.16585610381022553
         ],
         "yaxis": "y"
        },
        {
         "hovertemplate": "label=TE10_OESOPHAGUS_TenPx29<br>PC1=%{x}<br>PC2=%{y}<extra></extra>",
         "legendgroup": "TE10_OESOPHAGUS_TenPx29",
         "marker": {
          "color": "rgb(255,255,179)",
          "line": {
           "width": 1
          },
          "size": 8,
          "symbol": "circle"
         },
         "mode": "markers",
         "name": "TE10_OESOPHAGUS_TenPx29",
         "orientation": "v",
         "showlegend": true,
         "type": "scatter",
         "x": [
          -0.8813372882571854
         ],
         "xaxis": "x",
         "y": [
          -0.4831254136790287
         ],
         "yaxis": "y"
        },
        {
         "hovertemplate": "label=WM115_SKIN_TenPx29<br>PC1=%{x}<br>PC2=%{y}<extra></extra>",
         "legendgroup": "WM115_SKIN_TenPx29",
         "marker": {
          "color": "rgb(179,205,227)",
          "line": {
           "width": 1
          },
          "size": 8,
          "symbol": "circle"
         },
         "mode": "markers",
         "name": "WM115_SKIN_TenPx29",
         "orientation": "v",
         "showlegend": true,
         "type": "scatter",
         "x": [
          0.109133446511751
         ],
         "xaxis": "x",
         "y": [
          0.72078293381738
         ],
         "yaxis": "y"
        },
        {
         "hovertemplate": "label=EOL1_HAEMATOPOIETIC_AND_LYMPHOID_TISSUE_TenPx33<br>PC1=%{x}<br>PC2=%{y}<extra></extra>",
         "legendgroup": "EOL1_HAEMATOPOIETIC_AND_LYMPHOID_TISSUE_TenPx33",
         "marker": {
          "color": "rgb(253,180,98)",
          "line": {
           "width": 1
          },
          "size": 8,
          "symbol": "circle"
         },
         "mode": "markers",
         "name": "EOL1_HAEMATOPOIETIC_AND_LYMPHOID_TISSUE_TenPx33",
         "orientation": "v",
         "showlegend": true,
         "type": "scatter",
         "x": [
          0.5154899325215787
         ],
         "xaxis": "x",
         "y": [
          0.08117212855518359
         ],
         "yaxis": "y"
        },
        {
         "hovertemplate": "label=SW1573_LUNG_TenPx33<br>PC1=%{x}<br>PC2=%{y}<extra></extra>",
         "legendgroup": "SW1573_LUNG_TenPx33",
         "marker": {
          "color": "rgb(222,203,228)",
          "line": {
           "width": 1
          },
          "size": 8,
          "symbol": "circle"
         },
         "mode": "markers",
         "name": "SW1573_LUNG_TenPx33",
         "orientation": "v",
         "showlegend": true,
         "type": "scatter",
         "x": [
          0.024155310670985423
         ],
         "xaxis": "x",
         "y": [
          -0.13201617295399773
         ],
         "yaxis": "y"
        },
        {
         "hovertemplate": "label=HEL9217_HAEMATOPOIETIC_AND_LYMPHOID_TISSUE_TenPx33<br>PC1=%{x}<br>PC2=%{y}<extra></extra>",
         "legendgroup": "HEL9217_HAEMATOPOIETIC_AND_LYMPHOID_TISSUE_TenPx33",
         "marker": {
          "color": "rgb(253,180,98)",
          "line": {
           "width": 1
          },
          "size": 8,
          "symbol": "circle"
         },
         "mode": "markers",
         "name": "HEL9217_HAEMATOPOIETIC_AND_LYMPHOID_TISSUE_TenPx33",
         "orientation": "v",
         "showlegend": true,
         "type": "scatter",
         "x": [
          0.7712390398234956
         ],
         "xaxis": "x",
         "y": [
          -0.13643180590050247
         ],
         "yaxis": "y"
        },
        {
         "hovertemplate": "label=K029AX_SKIN_TenPx33<br>PC1=%{x}<br>PC2=%{y}<extra></extra>",
         "legendgroup": "K029AX_SKIN_TenPx33",
         "marker": {
          "color": "rgb(179,205,227)",
          "line": {
           "width": 1
          },
          "size": 8,
          "symbol": "circle"
         },
         "mode": "markers",
         "name": "K029AX_SKIN_TenPx33",
         "orientation": "v",
         "showlegend": true,
         "type": "scatter",
         "x": [
          0.1368335383989753
         ],
         "xaxis": "x",
         "y": [
          0.5492620649642429
         ],
         "yaxis": "y"
        },
        {
         "hovertemplate": "label=JHOS2_OVARY_TenPx33<br>PC1=%{x}<br>PC2=%{y}<extra></extra>",
         "legendgroup": "JHOS2_OVARY_TenPx33",
         "marker": {
          "color": "black",
          "line": {
           "width": 1
          },
          "size": 8,
          "symbol": "circle"
         },
         "mode": "markers",
         "name": "JHOS2_OVARY_TenPx33",
         "orientation": "v",
         "showlegend": true,
         "type": "scatter",
         "x": [
          0.0630399139771708
         ],
         "xaxis": "x",
         "y": [
          0.3694526715517651
         ],
         "yaxis": "y"
        },
        {
         "hovertemplate": "label=SNU685_ENDOMETRIUM_TenPx33<br>PC1=%{x}<br>PC2=%{y}<extra></extra>",
         "legendgroup": "SNU685_ENDOMETRIUM_TenPx33",
         "marker": {
          "color": "rgb(252,205,229)",
          "line": {
           "width": 1
          },
          "size": 8,
          "symbol": "circle"
         },
         "mode": "markers",
         "name": "SNU685_ENDOMETRIUM_TenPx33",
         "orientation": "v",
         "showlegend": true,
         "type": "scatter",
         "x": [
          0.039030174271712716
         ],
         "xaxis": "x",
         "y": [
          0.20666722015439626
         ],
         "yaxis": "y"
        },
        {
         "hovertemplate": "label=NIHOVCAR3_OVARY_TenPx33<br>PC1=%{x}<br>PC2=%{y}<extra></extra>",
         "legendgroup": "NIHOVCAR3_OVARY_TenPx33",
         "marker": {
          "color": "black",
          "line": {
           "width": 1
          },
          "size": 8,
          "symbol": "circle"
         },
         "mode": "markers",
         "name": "NIHOVCAR3_OVARY_TenPx33",
         "orientation": "v",
         "showlegend": true,
         "type": "scatter",
         "x": [
          -0.511150085971281
         ],
         "xaxis": "x",
         "y": [
          -0.4409430754903028
         ],
         "yaxis": "y"
        },
        {
         "hovertemplate": "label=SAOS2_BONE_TenPx33<br>PC1=%{x}<br>PC2=%{y}<extra></extra>",
         "legendgroup": "SAOS2_BONE_TenPx33",
         "marker": {
          "color": "rgb(251,128,114)",
          "line": {
           "width": 1
          },
          "size": 8,
          "symbol": "circle"
         },
         "mode": "markers",
         "name": "SAOS2_BONE_TenPx33",
         "orientation": "v",
         "showlegend": true,
         "type": "scatter",
         "x": [
          -0.6085468473341934
         ],
         "xaxis": "x",
         "y": [
          -0.38977761164007035
         ],
         "yaxis": "y"
        },
        {
         "hovertemplate": "label=TE4_OESOPHAGUS_TenPx33<br>PC1=%{x}<br>PC2=%{y}<extra></extra>",
         "legendgroup": "TE4_OESOPHAGUS_TenPx33",
         "marker": {
          "color": "rgb(255,255,179)",
          "line": {
           "width": 1
          },
          "size": 8,
          "symbol": "circle"
         },
         "mode": "markers",
         "name": "TE4_OESOPHAGUS_TenPx33",
         "orientation": "v",
         "showlegend": true,
         "type": "scatter",
         "x": [
          -0.460314497234878
         ],
         "xaxis": "x",
         "y": [
          -0.11332395697487582
         ],
         "yaxis": "y"
        },
        {
         "hovertemplate": "label=JHH1_LIVER_TenPx34<br>PC1=%{x}<br>PC2=%{y}<extra></extra>",
         "legendgroup": "JHH1_LIVER_TenPx34",
         "marker": {
          "color": "rgb(254,217,166)",
          "line": {
           "width": 1
          },
          "size": 8,
          "symbol": "circle"
         },
         "mode": "markers",
         "name": "JHH1_LIVER_TenPx34",
         "orientation": "v",
         "showlegend": true,
         "type": "scatter",
         "x": [
          -0.1075269980474149
         ],
         "xaxis": "x",
         "y": [
          -0.038415948582851585
         ],
         "yaxis": "y"
        },
        {
         "hovertemplate": "label=SW1271_LUNG_TenPx34<br>PC1=%{x}<br>PC2=%{y}<extra></extra>",
         "legendgroup": "SW1271_LUNG_TenPx34",
         "marker": {
          "color": "rgb(222,203,228)",
          "line": {
           "width": 1
          },
          "size": 8,
          "symbol": "circle"
         },
         "mode": "markers",
         "name": "SW1271_LUNG_TenPx34",
         "orientation": "v",
         "showlegend": true,
         "type": "scatter",
         "x": [
          -0.10804170487204261
         ],
         "xaxis": "x",
         "y": [
          0.018756886000499105
         ],
         "yaxis": "y"
        },
        {
         "hovertemplate": "label=NCIH226_LUNG_TenPx34<br>PC1=%{x}<br>PC2=%{y}<extra></extra>",
         "legendgroup": "NCIH226_LUNG_TenPx34",
         "marker": {
          "color": "rgb(222,203,228)",
          "line": {
           "width": 1
          },
          "size": 8,
          "symbol": "circle"
         },
         "mode": "markers",
         "name": "NCIH226_LUNG_TenPx34",
         "orientation": "v",
         "showlegend": true,
         "type": "scatter",
         "x": [
          -0.519933186580773
         ],
         "xaxis": "x",
         "y": [
          0.23386941876438386
         ],
         "yaxis": "y"
        },
        {
         "hovertemplate": "label=REC1_HAEMATOPOIETIC_AND_LYMPHOID_TISSUE_TenPx34<br>PC1=%{x}<br>PC2=%{y}<extra></extra>",
         "legendgroup": "REC1_HAEMATOPOIETIC_AND_LYMPHOID_TISSUE_TenPx34",
         "marker": {
          "color": "rgb(253,180,98)",
          "line": {
           "width": 1
          },
          "size": 8,
          "symbol": "circle"
         },
         "mode": "markers",
         "name": "REC1_HAEMATOPOIETIC_AND_LYMPHOID_TISSUE_TenPx34",
         "orientation": "v",
         "showlegend": true,
         "type": "scatter",
         "x": [
          0.8305688798782197
         ],
         "xaxis": "x",
         "y": [
          -0.27028290518593917
         ],
         "yaxis": "y"
        },
        {
         "hovertemplate": "label=HT1080_SOFT_TISSUE_TenPx34<br>PC1=%{x}<br>PC2=%{y}<extra></extra>",
         "legendgroup": "HT1080_SOFT_TISSUE_TenPx34",
         "marker": {
          "color": "rgb(128,177,211)",
          "line": {
           "width": 1
          },
          "size": 8,
          "symbol": "circle"
         },
         "mode": "markers",
         "name": "HT1080_SOFT_TISSUE_TenPx34",
         "orientation": "v",
         "showlegend": true,
         "type": "scatter",
         "x": [
          0.3662738864636267
         ],
         "xaxis": "x",
         "y": [
          0.30642541563041525
         ],
         "yaxis": "y"
        },
        {
         "hovertemplate": "label=KYSE30_OESOPHAGUS_TenPx34<br>PC1=%{x}<br>PC2=%{y}<extra></extra>",
         "legendgroup": "KYSE30_OESOPHAGUS_TenPx34",
         "marker": {
          "color": "rgb(255,255,179)",
          "line": {
           "width": 1
          },
          "size": 8,
          "symbol": "circle"
         },
         "mode": "markers",
         "name": "KYSE30_OESOPHAGUS_TenPx34",
         "orientation": "v",
         "showlegend": true,
         "type": "scatter",
         "x": [
          -0.3186973601750506
         ],
         "xaxis": "x",
         "y": [
          -0.2070297168860165
         ],
         "yaxis": "y"
        },
        {
         "hovertemplate": "label=U2OS_BONE_TenPx34<br>PC1=%{x}<br>PC2=%{y}<extra></extra>",
         "legendgroup": "U2OS_BONE_TenPx34",
         "marker": {
          "color": "rgb(251,128,114)",
          "line": {
           "width": 1
          },
          "size": 8,
          "symbol": "circle"
         },
         "mode": "markers",
         "name": "U2OS_BONE_TenPx34",
         "orientation": "v",
         "showlegend": true,
         "type": "scatter",
         "x": [
          0.07369975940667124
         ],
         "xaxis": "x",
         "y": [
          0.13252807308958675
         ],
         "yaxis": "y"
        },
        {
         "hovertemplate": "label=GB1_CENTRAL_NERVOUS_SYSTEM_TenPx34<br>PC1=%{x}<br>PC2=%{y}<extra></extra>",
         "legendgroup": "GB1_CENTRAL_NERVOUS_SYSTEM_TenPx34",
         "marker": {
          "color": "rgb(179,222,105)",
          "line": {
           "width": 1
          },
          "size": 8,
          "symbol": "circle"
         },
         "mode": "markers",
         "name": "GB1_CENTRAL_NERVOUS_SYSTEM_TenPx34",
         "orientation": "v",
         "showlegend": true,
         "type": "scatter",
         "x": [
          -0.100746914285604
         ],
         "xaxis": "x",
         "y": [
          -0.08230913087990031
         ],
         "yaxis": "y"
        },
        {
         "hovertemplate": "label=IALM_LUNG_TenPx34<br>PC1=%{x}<br>PC2=%{y}<extra></extra>",
         "legendgroup": "IALM_LUNG_TenPx34",
         "marker": {
          "color": "rgb(222,203,228)",
          "line": {
           "width": 1
          },
          "size": 8,
          "symbol": "circle"
         },
         "mode": "markers",
         "name": "IALM_LUNG_TenPx34",
         "orientation": "v",
         "showlegend": true,
         "type": "scatter",
         "x": [
          -0.22904481737209165
         ],
         "xaxis": "x",
         "y": [
          -0.04718810564436059
         ],
         "yaxis": "y"
        },
        {
         "hovertemplate": "label=CMK_HAEMATOPOIETIC_AND_LYMPHOID_TISSUE_TenPx35<br>PC1=%{x}<br>PC2=%{y}<extra></extra>",
         "legendgroup": "CMK_HAEMATOPOIETIC_AND_LYMPHOID_TISSUE_TenPx35",
         "marker": {
          "color": "rgb(253,180,98)",
          "line": {
           "width": 1
          },
          "size": 8,
          "symbol": "circle"
         },
         "mode": "markers",
         "name": "CMK_HAEMATOPOIETIC_AND_LYMPHOID_TISSUE_TenPx35",
         "orientation": "v",
         "showlegend": true,
         "type": "scatter",
         "x": [
          0.4595496153043891
         ],
         "xaxis": "x",
         "y": [
          -0.2020562751602987
         ],
         "yaxis": "y"
        },
        {
         "hovertemplate": "label=COLO829_SKIN_TenPx35<br>PC1=%{x}<br>PC2=%{y}<extra></extra>",
         "legendgroup": "COLO829_SKIN_TenPx35",
         "marker": {
          "color": "rgb(179,205,227)",
          "line": {
           "width": 1
          },
          "size": 8,
          "symbol": "circle"
         },
         "mode": "markers",
         "name": "COLO829_SKIN_TenPx35",
         "orientation": "v",
         "showlegend": true,
         "type": "scatter",
         "x": [
          0.14225024771773828
         ],
         "xaxis": "x",
         "y": [
          -0.12697310345394539
         ],
         "yaxis": "y"
        },
        {
         "hovertemplate": "label=NCIH647_LUNG_TenPx35<br>PC1=%{x}<br>PC2=%{y}<extra></extra>",
         "legendgroup": "NCIH647_LUNG_TenPx35",
         "marker": {
          "color": "rgb(222,203,228)",
          "line": {
           "width": 1
          },
          "size": 8,
          "symbol": "circle"
         },
         "mode": "markers",
         "name": "NCIH647_LUNG_TenPx35",
         "orientation": "v",
         "showlegend": true,
         "type": "scatter",
         "x": [
          -0.2874380815313692
         ],
         "xaxis": "x",
         "y": [
          0.22456428790677482
         ],
         "yaxis": "y"
        },
        {
         "hovertemplate": "label=OV56_OVARY_TenPx35<br>PC1=%{x}<br>PC2=%{y}<extra></extra>",
         "legendgroup": "OV56_OVARY_TenPx35",
         "marker": {
          "color": "black",
          "line": {
           "width": 1
          },
          "size": 8,
          "symbol": "circle"
         },
         "mode": "markers",
         "name": "OV56_OVARY_TenPx35",
         "orientation": "v",
         "showlegend": true,
         "type": "scatter",
         "x": [
          -0.37103448486444224
         ],
         "xaxis": "x",
         "y": [
          0.3803109384692935
         ],
         "yaxis": "y"
        },
        {
         "hovertemplate": "label=RH30_SOFT_TISSUE_TenPx35<br>PC1=%{x}<br>PC2=%{y}<extra></extra>",
         "legendgroup": "RH30_SOFT_TISSUE_TenPx35",
         "marker": {
          "color": "rgb(128,177,211)",
          "line": {
           "width": 1
          },
          "size": 8,
          "symbol": "circle"
         },
         "mode": "markers",
         "name": "RH30_SOFT_TISSUE_TenPx35",
         "orientation": "v",
         "showlegend": true,
         "type": "scatter",
         "x": [
          0.10056647244577557
         ],
         "xaxis": "x",
         "y": [
          -0.4443171572996562
         ],
         "yaxis": "y"
        },
        {
         "hovertemplate": "label=RPMI8226_HAEMATOPOIETIC_AND_LYMPHOID_TISSUE_TenPx35<br>PC1=%{x}<br>PC2=%{y}<extra></extra>",
         "legendgroup": "RPMI8226_HAEMATOPOIETIC_AND_LYMPHOID_TISSUE_TenPx35",
         "marker": {
          "color": "rgb(253,180,98)",
          "line": {
           "width": 1
          },
          "size": 8,
          "symbol": "circle"
         },
         "mode": "markers",
         "name": "RPMI8226_HAEMATOPOIETIC_AND_LYMPHOID_TISSUE_TenPx35",
         "orientation": "v",
         "showlegend": true,
         "type": "scatter",
         "x": [
          0.41044999861481996
         ],
         "xaxis": "x",
         "y": [
          -0.48042937090668497
         ],
         "yaxis": "y"
        },
        {
         "hovertemplate": "label=SJSA1_BONE_TenPx35<br>PC1=%{x}<br>PC2=%{y}<extra></extra>",
         "legendgroup": "SJSA1_BONE_TenPx35",
         "marker": {
          "color": "rgb(251,128,114)",
          "line": {
           "width": 1
          },
          "size": 8,
          "symbol": "circle"
         },
         "mode": "markers",
         "name": "SJSA1_BONE_TenPx35",
         "orientation": "v",
         "showlegend": true,
         "type": "scatter",
         "x": [
          -0.0819820106961822
         ],
         "xaxis": "x",
         "y": [
          0.5548313344552935
         ],
         "yaxis": "y"
        },
        {
         "hovertemplate": "label=HEC6_ENDOMETRIUM_TenPx35<br>PC1=%{x}<br>PC2=%{y}<extra></extra>",
         "legendgroup": "HEC6_ENDOMETRIUM_TenPx35",
         "marker": {
          "color": "rgb(252,205,229)",
          "line": {
           "width": 1
          },
          "size": 8,
          "symbol": "circle"
         },
         "mode": "markers",
         "name": "HEC6_ENDOMETRIUM_TenPx35",
         "orientation": "v",
         "showlegend": true,
         "type": "scatter",
         "x": [
          0.002642630334447594
         ],
         "xaxis": "x",
         "y": [
          0.2312799131013066
         ],
         "yaxis": "y"
        },
        {
         "hovertemplate": "label=SW837_LARGE_INTESTINE_TenPx35<br>PC1=%{x}<br>PC2=%{y}<extra></extra>",
         "legendgroup": "SW837_LARGE_INTESTINE_TenPx35",
         "marker": {
          "color": "rgb(242,242,242)",
          "line": {
           "width": 1
          },
          "size": 8,
          "symbol": "circle"
         },
         "mode": "markers",
         "name": "SW837_LARGE_INTESTINE_TenPx35",
         "orientation": "v",
         "showlegend": true,
         "type": "scatter",
         "x": [
          -0.004019238093155351
         ],
         "xaxis": "x",
         "y": [
          -0.354303643610392
         ],
         "yaxis": "y"
        },
        {
         "hovertemplate": "label=CAKI1_KIDNEY_TenPx36<br>PC1=%{x}<br>PC2=%{y}<extra></extra>",
         "legendgroup": "CAKI1_KIDNEY_TenPx36",
         "marker": {
          "color": "rgb(204,235,197)",
          "line": {
           "width": 1
          },
          "size": 8,
          "symbol": "circle"
         },
         "mode": "markers",
         "name": "CAKI1_KIDNEY_TenPx36",
         "orientation": "v",
         "showlegend": true,
         "type": "scatter",
         "x": [
          -0.2607894911958813
         ],
         "xaxis": "x",
         "y": [
          0.9362717488804453
         ],
         "yaxis": "y"
        },
        {
         "hovertemplate": "label=KP2_PANCREAS_TenPx36<br>PC1=%{x}<br>PC2=%{y}<extra></extra>",
         "legendgroup": "KP2_PANCREAS_TenPx36",
         "marker": {
          "color": "rgb(253,218,236)",
          "line": {
           "width": 1
          },
          "size": 8,
          "symbol": "circle"
         },
         "mode": "markers",
         "name": "KP2_PANCREAS_TenPx36",
         "orientation": "v",
         "showlegend": true,
         "type": "scatter",
         "x": [
          -0.20848003493492748
         ],
         "xaxis": "x",
         "y": [
          0.22370171351172316
         ],
         "yaxis": "y"
        },
        {
         "hovertemplate": "label=KU1919_URINARY_TRACT_TenPx36<br>PC1=%{x}<br>PC2=%{y}<extra></extra>",
         "legendgroup": "KU1919_URINARY_TRACT_TenPx36",
         "marker": {
          "color": "rgb(229,216,189)",
          "line": {
           "width": 1
          },
          "size": 8,
          "symbol": "circle"
         },
         "mode": "markers",
         "name": "KU1919_URINARY_TRACT_TenPx36",
         "orientation": "v",
         "showlegend": true,
         "type": "scatter",
         "x": [
          -0.7674587122560236
         ],
         "xaxis": "x",
         "y": [
          -0.2569001182247785
         ],
         "yaxis": "y"
        },
        {
         "hovertemplate": "label=MFE296_ENDOMETRIUM_TenPx36<br>PC1=%{x}<br>PC2=%{y}<extra></extra>",
         "legendgroup": "MFE296_ENDOMETRIUM_TenPx36",
         "marker": {
          "color": "rgb(252,205,229)",
          "line": {
           "width": 1
          },
          "size": 8,
          "symbol": "circle"
         },
         "mode": "markers",
         "name": "MFE296_ENDOMETRIUM_TenPx36",
         "orientation": "v",
         "showlegend": true,
         "type": "scatter",
         "x": [
          0.03733364606319871
         ],
         "xaxis": "x",
         "y": [
          -0.11055244730732752
         ],
         "yaxis": "y"
        },
        {
         "hovertemplate": "label=NCIH292_LUNG_TenPx36<br>PC1=%{x}<br>PC2=%{y}<extra></extra>",
         "legendgroup": "NCIH292_LUNG_TenPx36",
         "marker": {
          "color": "rgb(222,203,228)",
          "line": {
           "width": 1
          },
          "size": 8,
          "symbol": "circle"
         },
         "mode": "markers",
         "name": "NCIH292_LUNG_TenPx36",
         "orientation": "v",
         "showlegend": true,
         "type": "scatter",
         "x": [
          -0.6967289307239249
         ],
         "xaxis": "x",
         "y": [
          0.13510334477261507
         ],
         "yaxis": "y"
        },
        {
         "hovertemplate": "label=NCIH716_LARGE_INTESTINE_TenPx36<br>PC1=%{x}<br>PC2=%{y}<extra></extra>",
         "legendgroup": "NCIH716_LARGE_INTESTINE_TenPx36",
         "marker": {
          "color": "rgb(242,242,242)",
          "line": {
           "width": 1
          },
          "size": 8,
          "symbol": "circle"
         },
         "mode": "markers",
         "name": "NCIH716_LARGE_INTESTINE_TenPx36",
         "orientation": "v",
         "showlegend": true,
         "type": "scatter",
         "x": [
          0.505752392451918
         ],
         "xaxis": "x",
         "y": [
          -0.13929908859032436
         ],
         "yaxis": "y"
        },
        {
         "hovertemplate": "label=NUDHL1_HAEMATOPOIETIC_AND_LYMPHOID_TISSUE_TenPx36<br>PC1=%{x}<br>PC2=%{y}<extra></extra>",
         "legendgroup": "NUDHL1_HAEMATOPOIETIC_AND_LYMPHOID_TISSUE_TenPx36",
         "marker": {
          "color": "rgb(253,180,98)",
          "line": {
           "width": 1
          },
          "size": 8,
          "symbol": "circle"
         },
         "mode": "markers",
         "name": "NUDHL1_HAEMATOPOIETIC_AND_LYMPHOID_TISSUE_TenPx36",
         "orientation": "v",
         "showlegend": true,
         "type": "scatter",
         "x": [
          0.7707601368573692
         ],
         "xaxis": "x",
         "y": [
          -0.35387832535164027
         ],
         "yaxis": "y"
        },
        {
         "hovertemplate": "label=OCILY3_HAEMATOPOIETIC_AND_LYMPHOID_TISSUE_TenPx36<br>PC1=%{x}<br>PC2=%{y}<extra></extra>",
         "legendgroup": "OCILY3_HAEMATOPOIETIC_AND_LYMPHOID_TISSUE_TenPx36",
         "marker": {
          "color": "rgb(253,180,98)",
          "line": {
           "width": 1
          },
          "size": 8,
          "symbol": "circle"
         },
         "mode": "markers",
         "name": "OCILY3_HAEMATOPOIETIC_AND_LYMPHOID_TISSUE_TenPx36",
         "orientation": "v",
         "showlegend": true,
         "type": "scatter",
         "x": [
          0.7845153462155078
         ],
         "xaxis": "x",
         "y": [
          -0.4089684444073841
         ],
         "yaxis": "y"
        },
        {
         "hovertemplate": "label=SKNMC_BONE_TenPx36<br>PC1=%{x}<br>PC2=%{y}<extra></extra>",
         "legendgroup": "SKNMC_BONE_TenPx36",
         "marker": {
          "color": "rgb(251,128,114)",
          "line": {
           "width": 1
          },
          "size": 8,
          "symbol": "circle"
         },
         "mode": "markers",
         "name": "SKNMC_BONE_TenPx36",
         "orientation": "v",
         "showlegend": true,
         "type": "scatter",
         "x": [
          0.05182660398116194
         ],
         "xaxis": "x",
         "y": [
          -0.37989783184715
         ],
         "yaxis": "y"
        },
        {
         "hovertemplate": "label=CHAGOK1_LUNG_TenPx37<br>PC1=%{x}<br>PC2=%{y}<extra></extra>",
         "legendgroup": "CHAGOK1_LUNG_TenPx37",
         "marker": {
          "color": "rgb(222,203,228)",
          "line": {
           "width": 1
          },
          "size": 8,
          "symbol": "circle"
         },
         "mode": "markers",
         "name": "CHAGOK1_LUNG_TenPx37",
         "orientation": "v",
         "showlegend": true,
         "type": "scatter",
         "x": [
          0.387741490768801
         ],
         "xaxis": "x",
         "y": [
          -0.17826001537584554
         ],
         "yaxis": "y"
        },
        {
         "hovertemplate": "label=EFM192A_BREAST_TenPx37<br>PC1=%{x}<br>PC2=%{y}<extra></extra>",
         "legendgroup": "EFM192A_BREAST_TenPx37",
         "marker": {
          "color": "rgb(251,180,174)",
          "line": {
           "width": 1
          },
          "size": 8,
          "symbol": "circle"
         },
         "mode": "markers",
         "name": "EFM192A_BREAST_TenPx37",
         "orientation": "v",
         "showlegend": true,
         "type": "scatter",
         "x": [
          0.29369613614993395
         ],
         "xaxis": "x",
         "y": [
          -0.10268484345858306
         ],
         "yaxis": "y"
        },
        {
         "hovertemplate": "label=HEC265_ENDOMETRIUM_TenPx37<br>PC1=%{x}<br>PC2=%{y}<extra></extra>",
         "legendgroup": "HEC265_ENDOMETRIUM_TenPx37",
         "marker": {
          "color": "rgb(252,205,229)",
          "line": {
           "width": 1
          },
          "size": 8,
          "symbol": "circle"
         },
         "mode": "markers",
         "name": "HEC265_ENDOMETRIUM_TenPx37",
         "orientation": "v",
         "showlegend": true,
         "type": "scatter",
         "x": [
          -0.6424163287704462
         ],
         "xaxis": "x",
         "y": [
          -0.33203414530395337
         ],
         "yaxis": "y"
        },
        {
         "hovertemplate": "label=MOLM16_HAEMATOPOIETIC_AND_LYMPHOID_TISSUE_TenPx37<br>PC1=%{x}<br>PC2=%{y}<extra></extra>",
         "legendgroup": "MOLM16_HAEMATOPOIETIC_AND_LYMPHOID_TISSUE_TenPx37",
         "marker": {
          "color": "rgb(253,180,98)",
          "line": {
           "width": 1
          },
          "size": 8,
          "symbol": "circle"
         },
         "mode": "markers",
         "name": "MOLM16_HAEMATOPOIETIC_AND_LYMPHOID_TISSUE_TenPx37",
         "orientation": "v",
         "showlegend": true,
         "type": "scatter",
         "x": [
          0.690931666981489
         ],
         "xaxis": "x",
         "y": [
          -0.26166665785368204
         ],
         "yaxis": "y"
        },
        {
         "hovertemplate": "label=PANC1_PANCREAS_TenPx37<br>PC1=%{x}<br>PC2=%{y}<extra></extra>",
         "legendgroup": "PANC1_PANCREAS_TenPx37",
         "marker": {
          "color": "rgb(253,218,236)",
          "line": {
           "width": 1
          },
          "size": 8,
          "symbol": "circle"
         },
         "mode": "markers",
         "name": "PANC1_PANCREAS_TenPx37",
         "orientation": "v",
         "showlegend": true,
         "type": "scatter",
         "x": [
          -0.35795873835782394
         ],
         "xaxis": "x",
         "y": [
          0.22687875249647466
         ],
         "yaxis": "y"
        },
        {
         "hovertemplate": "label=SCC25_UPPER_AERODIGESTIVE_TRACT_TenPx37<br>PC1=%{x}<br>PC2=%{y}<extra></extra>",
         "legendgroup": "SCC25_UPPER_AERODIGESTIVE_TRACT_TenPx37",
         "marker": {
          "color": "rgb(255,255,204)",
          "line": {
           "width": 1
          },
          "size": 8,
          "symbol": "circle"
         },
         "mode": "markers",
         "name": "SCC25_UPPER_AERODIGESTIVE_TRACT_TenPx37",
         "orientation": "v",
         "showlegend": true,
         "type": "scatter",
         "x": [
          -0.973155412625611
         ],
         "xaxis": "x",
         "y": [
          0.27432749424743164
         ],
         "yaxis": "y"
        },
        {
         "hovertemplate": "label=RT4_URINARY_TRACT_TenPx37<br>PC1=%{x}<br>PC2=%{y}<extra></extra>",
         "legendgroup": "RT4_URINARY_TRACT_TenPx37",
         "marker": {
          "color": "rgb(229,216,189)",
          "line": {
           "width": 1
          },
          "size": 8,
          "symbol": "circle"
         },
         "mode": "markers",
         "name": "RT4_URINARY_TRACT_TenPx37",
         "orientation": "v",
         "showlegend": true,
         "type": "scatter",
         "x": [
          0.0230701438416391
         ],
         "xaxis": "x",
         "y": [
          -0.2613971816942481
         ],
         "yaxis": "y"
        },
        {
         "hovertemplate": "label=T24_URINARY_TRACT_TenPx37<br>PC1=%{x}<br>PC2=%{y}<extra></extra>",
         "legendgroup": "T24_URINARY_TRACT_TenPx37",
         "marker": {
          "color": "rgb(229,216,189)",
          "line": {
           "width": 1
          },
          "size": 8,
          "symbol": "circle"
         },
         "mode": "markers",
         "name": "T24_URINARY_TRACT_TenPx37",
         "orientation": "v",
         "showlegend": true,
         "type": "scatter",
         "x": [
          0.13946806847217377
         ],
         "xaxis": "x",
         "y": [
          0.45956902306877884
         ],
         "yaxis": "y"
        },
        {
         "hovertemplate": "label=TF1_HAEMATOPOIETIC_AND_LYMPHOID_TISSUE_TenPx37<br>PC1=%{x}<br>PC2=%{y}<extra></extra>",
         "legendgroup": "TF1_HAEMATOPOIETIC_AND_LYMPHOID_TISSUE_TenPx37",
         "marker": {
          "color": "rgb(253,180,98)",
          "line": {
           "width": 1
          },
          "size": 8,
          "symbol": "circle"
         },
         "mode": "markers",
         "name": "TF1_HAEMATOPOIETIC_AND_LYMPHOID_TISSUE_TenPx37",
         "orientation": "v",
         "showlegend": true,
         "type": "scatter",
         "x": [
          0.6167903928851087
         ],
         "xaxis": "x",
         "y": [
          -0.22404070951999833
         ],
         "yaxis": "y"
        },
        {
         "hovertemplate": "label=A101D_SKIN_TenPx38<br>PC1=%{x}<br>PC2=%{y}<extra></extra>",
         "legendgroup": "A101D_SKIN_TenPx38",
         "marker": {
          "color": "rgb(179,205,227)",
          "line": {
           "width": 1
          },
          "size": 8,
          "symbol": "circle"
         },
         "mode": "markers",
         "name": "A101D_SKIN_TenPx38",
         "orientation": "v",
         "showlegend": true,
         "type": "scatter",
         "x": [
          -0.6157192869239558
         ],
         "xaxis": "x",
         "y": [
          0.31728344553877147
         ],
         "yaxis": "y"
        },
        {
         "hovertemplate": "label=DAOY_CENTRAL_NERVOUS_SYSTEM_TenPx38<br>PC1=%{x}<br>PC2=%{y}<extra></extra>",
         "legendgroup": "DAOY_CENTRAL_NERVOUS_SYSTEM_TenPx38",
         "marker": {
          "color": "rgb(179,222,105)",
          "line": {
           "width": 1
          },
          "size": 8,
          "symbol": "circle"
         },
         "mode": "markers",
         "name": "DAOY_CENTRAL_NERVOUS_SYSTEM_TenPx38",
         "orientation": "v",
         "showlegend": true,
         "type": "scatter",
         "x": [
          -0.46447438608428476
         ],
         "xaxis": "x",
         "y": [
          -0.04518538226089075
         ],
         "yaxis": "y"
        },
        {
         "hovertemplate": "label=JM1_HAEMATOPOIETIC_AND_LYMPHOID_TISSUE_TenPx38<br>PC1=%{x}<br>PC2=%{y}<extra></extra>",
         "legendgroup": "JM1_HAEMATOPOIETIC_AND_LYMPHOID_TISSUE_TenPx38",
         "marker": {
          "color": "rgb(253,180,98)",
          "line": {
           "width": 1
          },
          "size": 8,
          "symbol": "circle"
         },
         "mode": "markers",
         "name": "JM1_HAEMATOPOIETIC_AND_LYMPHOID_TISSUE_TenPx38",
         "orientation": "v",
         "showlegend": true,
         "type": "scatter",
         "x": [
          0.8180061281104104
         ],
         "xaxis": "x",
         "y": [
          -0.8726065146627962
         ],
         "yaxis": "y"
        },
        {
         "hovertemplate": "label=KASUMI2_HAEMATOPOIETIC_AND_LYMPHOID_TISSUE_TenPx38<br>PC1=%{x}<br>PC2=%{y}<extra></extra>",
         "legendgroup": "KASUMI2_HAEMATOPOIETIC_AND_LYMPHOID_TISSUE_TenPx38",
         "marker": {
          "color": "rgb(253,180,98)",
          "line": {
           "width": 1
          },
          "size": 8,
          "symbol": "circle"
         },
         "mode": "markers",
         "name": "KASUMI2_HAEMATOPOIETIC_AND_LYMPHOID_TISSUE_TenPx38",
         "orientation": "v",
         "showlegend": true,
         "type": "scatter",
         "x": [
          0.5783330577059611
         ],
         "xaxis": "x",
         "y": [
          -0.1932047522588092
         ],
         "yaxis": "y"
        },
        {
         "hovertemplate": "label=KYM1_SOFT_TISSUE_TenPx38<br>PC1=%{x}<br>PC2=%{y}<extra></extra>",
         "legendgroup": "KYM1_SOFT_TISSUE_TenPx38",
         "marker": {
          "color": "rgb(128,177,211)",
          "line": {
           "width": 1
          },
          "size": 8,
          "symbol": "circle"
         },
         "mode": "markers",
         "name": "KYM1_SOFT_TISSUE_TenPx38",
         "orientation": "v",
         "showlegend": true,
         "type": "scatter",
         "x": [
          0.05669854541799279
         ],
         "xaxis": "x",
         "y": [
          0.49202514172212103
         ],
         "yaxis": "y"
        },
        {
         "hovertemplate": "label=KYSE410_OESOPHAGUS_TenPx38<br>PC1=%{x}<br>PC2=%{y}<extra></extra>",
         "legendgroup": "KYSE410_OESOPHAGUS_TenPx38",
         "marker": {
          "color": "rgb(255,255,179)",
          "line": {
           "width": 1
          },
          "size": 8,
          "symbol": "circle"
         },
         "mode": "markers",
         "name": "KYSE410_OESOPHAGUS_TenPx38",
         "orientation": "v",
         "showlegend": true,
         "type": "scatter",
         "x": [
          -0.17836191613497054
         ],
         "xaxis": "x",
         "y": [
          0.055270177212664535
         ],
         "yaxis": "y"
        },
        {
         "hovertemplate": "label=CL34_LARGE_INTESTINE_TenPx38<br>PC1=%{x}<br>PC2=%{y}<extra></extra>",
         "legendgroup": "CL34_LARGE_INTESTINE_TenPx38",
         "marker": {
          "color": "rgb(242,242,242)",
          "line": {
           "width": 1
          },
          "size": 8,
          "symbol": "circle"
         },
         "mode": "markers",
         "name": "CL34_LARGE_INTESTINE_TenPx38",
         "orientation": "v",
         "showlegend": true,
         "type": "scatter",
         "x": [
          0.029984408799435827
         ],
         "xaxis": "x",
         "y": [
          0.2951017333941378
         ],
         "yaxis": "y"
        },
        {
         "hovertemplate": "label=NCIH446_LUNG_TenPx38<br>PC1=%{x}<br>PC2=%{y}<extra></extra>",
         "legendgroup": "NCIH446_LUNG_TenPx38",
         "marker": {
          "color": "rgb(222,203,228)",
          "line": {
           "width": 1
          },
          "size": 8,
          "symbol": "circle"
         },
         "mode": "markers",
         "name": "NCIH446_LUNG_TenPx38",
         "orientation": "v",
         "showlegend": true,
         "type": "scatter",
         "x": [
          0.07747950773752683
         ],
         "xaxis": "x",
         "y": [
          -0.19067843353081082
         ],
         "yaxis": "y"
        },
        {
         "hovertemplate": "label=SKNAS_AUTONOMIC_GANGLIA_TenPx38<br>PC1=%{x}<br>PC2=%{y}<extra></extra>",
         "legendgroup": "SKNAS_AUTONOMIC_GANGLIA_TenPx38",
         "marker": {
          "color": "rgb(217,217,217)",
          "line": {
           "width": 1
          },
          "size": 8,
          "symbol": "circle"
         },
         "mode": "markers",
         "name": "SKNAS_AUTONOMIC_GANGLIA_TenPx38",
         "orientation": "v",
         "showlegend": true,
         "type": "scatter",
         "x": [
          0.05269828167898814
         ],
         "xaxis": "x",
         "y": [
          -0.20666891059005657
         ],
         "yaxis": "y"
        },
        {
         "hovertemplate": "label=DANG_PANCREAS_TenPx39<br>PC1=%{x}<br>PC2=%{y}<extra></extra>",
         "legendgroup": "DANG_PANCREAS_TenPx39",
         "marker": {
          "color": "rgb(253,218,236)",
          "line": {
           "width": 1
          },
          "size": 8,
          "symbol": "circle"
         },
         "mode": "markers",
         "name": "DANG_PANCREAS_TenPx39",
         "orientation": "v",
         "showlegend": true,
         "type": "scatter",
         "x": [
          0.11634200999180166
         ],
         "xaxis": "x",
         "y": [
          -0.18785717822130713
         ],
         "yaxis": "y"
        },
        {
         "hovertemplate": "label=KNS42_CENTRAL_NERVOUS_SYSTEM_TenPx39<br>PC1=%{x}<br>PC2=%{y}<extra></extra>",
         "legendgroup": "KNS42_CENTRAL_NERVOUS_SYSTEM_TenPx39",
         "marker": {
          "color": "rgb(179,222,105)",
          "line": {
           "width": 1
          },
          "size": 8,
          "symbol": "circle"
         },
         "mode": "markers",
         "name": "KNS42_CENTRAL_NERVOUS_SYSTEM_TenPx39",
         "orientation": "v",
         "showlegend": true,
         "type": "scatter",
         "x": [
          -0.7768507140505847
         ],
         "xaxis": "x",
         "y": [
          0.12073039833108781
         ],
         "yaxis": "y"
        },
        {
         "hovertemplate": "label=HEC108_ENDOMETRIUM_TenPx39<br>PC1=%{x}<br>PC2=%{y}<extra></extra>",
         "legendgroup": "HEC108_ENDOMETRIUM_TenPx39",
         "marker": {
          "color": "rgb(252,205,229)",
          "line": {
           "width": 1
          },
          "size": 8,
          "symbol": "circle"
         },
         "mode": "markers",
         "name": "HEC108_ENDOMETRIUM_TenPx39",
         "orientation": "v",
         "showlegend": true,
         "type": "scatter",
         "x": [
          -0.7922625940134459
         ],
         "xaxis": "x",
         "y": [
          -0.1407096007136688
         ],
         "yaxis": "y"
        },
        {
         "hovertemplate": "label=JEKO1_HAEMATOPOIETIC_AND_LYMPHOID_TISSUE_TenPx39<br>PC1=%{x}<br>PC2=%{y}<extra></extra>",
         "legendgroup": "JEKO1_HAEMATOPOIETIC_AND_LYMPHOID_TISSUE_TenPx39",
         "marker": {
          "color": "rgb(253,180,98)",
          "line": {
           "width": 1
          },
          "size": 8,
          "symbol": "circle"
         },
         "mode": "markers",
         "name": "JEKO1_HAEMATOPOIETIC_AND_LYMPHOID_TISSUE_TenPx39",
         "orientation": "v",
         "showlegend": true,
         "type": "scatter",
         "x": [
          0.8774250047391473
         ],
         "xaxis": "x",
         "y": [
          -0.7109148795340603
         ],
         "yaxis": "y"
        },
        {
         "hovertemplate": "label=JURKAT_HAEMATOPOIETIC_AND_LYMPHOID_TISSUE_TenPx39<br>PC1=%{x}<br>PC2=%{y}<extra></extra>",
         "legendgroup": "JURKAT_HAEMATOPOIETIC_AND_LYMPHOID_TISSUE_TenPx39",
         "marker": {
          "color": "rgb(253,180,98)",
          "line": {
           "width": 1
          },
          "size": 8,
          "symbol": "circle"
         },
         "mode": "markers",
         "name": "JURKAT_HAEMATOPOIETIC_AND_LYMPHOID_TISSUE_TenPx39",
         "orientation": "v",
         "showlegend": true,
         "type": "scatter",
         "x": [
          0.6672748429305876
         ],
         "xaxis": "x",
         "y": [
          -0.31299056137302694
         ],
         "yaxis": "y"
        },
        {
         "hovertemplate": "label=MSTO211H_PLEURA_TenPx39<br>PC1=%{x}<br>PC2=%{y}<extra></extra>",
         "legendgroup": "MSTO211H_PLEURA_TenPx39",
         "marker": {
          "color": "rgb(188,128,189)",
          "line": {
           "width": 1
          },
          "size": 8,
          "symbol": "circle"
         },
         "mode": "markers",
         "name": "MSTO211H_PLEURA_TenPx39",
         "orientation": "v",
         "showlegend": true,
         "type": "scatter",
         "x": [
          -0.00904687335549513
         ],
         "xaxis": "x",
         "y": [
          0.37813842135790565
         ],
         "yaxis": "y"
        },
        {
         "hovertemplate": "label=OCUM1_STOMACH_TenPx39<br>PC1=%{x}<br>PC2=%{y}<extra></extra>",
         "legendgroup": "OCUM1_STOMACH_TenPx39",
         "marker": {
          "color": "rgb(141,211,199)",
          "line": {
           "width": 1
          },
          "size": 8,
          "symbol": "circle"
         },
         "mode": "markers",
         "name": "OCUM1_STOMACH_TenPx39",
         "orientation": "v",
         "showlegend": true,
         "type": "scatter",
         "x": [
          0.11218180094098305
         ],
         "xaxis": "x",
         "y": [
          0.31963682755314743
         ],
         "yaxis": "y"
        },
        {
         "hovertemplate": "label=CCK81_LARGE_INTESTINE_TenPx39<br>PC1=%{x}<br>PC2=%{y}<extra></extra>",
         "legendgroup": "CCK81_LARGE_INTESTINE_TenPx39",
         "marker": {
          "color": "rgb(242,242,242)",
          "line": {
           "width": 1
          },
          "size": 8,
          "symbol": "circle"
         },
         "mode": "markers",
         "name": "CCK81_LARGE_INTESTINE_TenPx39",
         "orientation": "v",
         "showlegend": true,
         "type": "scatter",
         "x": [
          0.21351755599180236
         ],
         "xaxis": "x",
         "y": [
          -0.13952551654751758
         ],
         "yaxis": "y"
        },
        {
         "hovertemplate": "label=SNU449_LIVER_TenPx39<br>PC1=%{x}<br>PC2=%{y}<extra></extra>",
         "legendgroup": "SNU449_LIVER_TenPx39",
         "marker": {
          "color": "rgb(254,217,166)",
          "line": {
           "width": 1
          },
          "size": 8,
          "symbol": "circle"
         },
         "mode": "markers",
         "name": "SNU449_LIVER_TenPx39",
         "orientation": "v",
         "showlegend": true,
         "type": "scatter",
         "x": [
          -0.13823493278929028
         ],
         "xaxis": "x",
         "y": [
          0.19637931089903166
         ],
         "yaxis": "y"
        },
        {
         "hovertemplate": "label=8505C_THYROID_TenPx40<br>PC1=%{x}<br>PC2=%{y}<extra></extra>",
         "legendgroup": "8505C_THYROID_TenPx40",
         "marker": {
          "color": "rgb(204,235,197)",
          "line": {
           "width": 1
          },
          "size": 8,
          "symbol": "circle"
         },
         "mode": "markers",
         "name": "8505C_THYROID_TenPx40",
         "orientation": "v",
         "showlegend": true,
         "type": "scatter",
         "x": [
          0.26645275980217215
         ],
         "xaxis": "x",
         "y": [
          0.5309807322640124
         ],
         "yaxis": "y"
        },
        {
         "hovertemplate": "label=HCC1833_LUNG_TenPx40<br>PC1=%{x}<br>PC2=%{y}<extra></extra>",
         "legendgroup": "HCC1833_LUNG_TenPx40",
         "marker": {
          "color": "rgb(222,203,228)",
          "line": {
           "width": 1
          },
          "size": 8,
          "symbol": "circle"
         },
         "mode": "markers",
         "name": "HCC1833_LUNG_TenPx40",
         "orientation": "v",
         "showlegend": true,
         "type": "scatter",
         "x": [
          -0.29969005082211025
         ],
         "xaxis": "x",
         "y": [
          -0.5736091192012961
         ],
         "yaxis": "y"
        },
        {
         "hovertemplate": "label=PANC0403_PANCREAS_TenPx40<br>PC1=%{x}<br>PC2=%{y}<extra></extra>",
         "legendgroup": "PANC0403_PANCREAS_TenPx40",
         "marker": {
          "color": "rgb(253,218,236)",
          "line": {
           "width": 1
          },
          "size": 8,
          "symbol": "circle"
         },
         "mode": "markers",
         "name": "PANC0403_PANCREAS_TenPx40",
         "orientation": "v",
         "showlegend": true,
         "type": "scatter",
         "x": [
          -0.6284361266732911
         ],
         "xaxis": "x",
         "y": [
          0.27904848611918265
         ],
         "yaxis": "y"
        },
        {
         "hovertemplate": "label=J82_URINARY_TRACT_TenPx40<br>PC1=%{x}<br>PC2=%{y}<extra></extra>",
         "legendgroup": "J82_URINARY_TRACT_TenPx40",
         "marker": {
          "color": "rgb(229,216,189)",
          "line": {
           "width": 1
          },
          "size": 8,
          "symbol": "circle"
         },
         "mode": "markers",
         "name": "J82_URINARY_TRACT_TenPx40",
         "orientation": "v",
         "showlegend": true,
         "type": "scatter",
         "x": [
          0.19353104965815013
         ],
         "xaxis": "x",
         "y": [
          0.342565615684739
         ],
         "yaxis": "y"
        },
        {
         "hovertemplate": "label=JHH4_LIVER_TenPx40<br>PC1=%{x}<br>PC2=%{y}<extra></extra>",
         "legendgroup": "JHH4_LIVER_TenPx40",
         "marker": {
          "color": "rgb(254,217,166)",
          "line": {
           "width": 1
          },
          "size": 8,
          "symbol": "circle"
         },
         "mode": "markers",
         "name": "JHH4_LIVER_TenPx40",
         "orientation": "v",
         "showlegend": true,
         "type": "scatter",
         "x": [
          0.20772742757706314
         ],
         "xaxis": "x",
         "y": [
          0.09536292224340795
         ],
         "yaxis": "y"
        },
        {
         "hovertemplate": "label=OVSAHO_OVARY_TenPx40<br>PC1=%{x}<br>PC2=%{y}<extra></extra>",
         "legendgroup": "OVSAHO_OVARY_TenPx40",
         "marker": {
          "color": "black",
          "line": {
           "width": 1
          },
          "size": 8,
          "symbol": "circle"
         },
         "mode": "markers",
         "name": "OVSAHO_OVARY_TenPx40",
         "orientation": "v",
         "showlegend": true,
         "type": "scatter",
         "x": [
          -0.8101473814296534
         ],
         "xaxis": "x",
         "y": [
          -0.3783372024216689
         ],
         "yaxis": "y"
        },
        {
         "hovertemplate": "label=RL_HAEMATOPOIETIC_AND_LYMPHOID_TISSUE_TenPx40<br>PC1=%{x}<br>PC2=%{y}<extra></extra>",
         "legendgroup": "RL_HAEMATOPOIETIC_AND_LYMPHOID_TISSUE_TenPx40",
         "marker": {
          "color": "rgb(253,180,98)",
          "line": {
           "width": 1
          },
          "size": 8,
          "symbol": "circle"
         },
         "mode": "markers",
         "name": "RL_HAEMATOPOIETIC_AND_LYMPHOID_TISSUE_TenPx40",
         "orientation": "v",
         "showlegend": true,
         "type": "scatter",
         "x": [
          0.7804257665337272
         ],
         "xaxis": "x",
         "y": [
          -0.18491806525140506
         ],
         "yaxis": "y"
        },
        {
         "hovertemplate": "label=SNUC5_LARGE_INTESTINE_TenPx40<br>PC1=%{x}<br>PC2=%{y}<extra></extra>",
         "legendgroup": "SNUC5_LARGE_INTESTINE_TenPx40",
         "marker": {
          "color": "rgb(242,242,242)",
          "line": {
           "width": 1
          },
          "size": 8,
          "symbol": "circle"
         },
         "mode": "markers",
         "name": "SNUC5_LARGE_INTESTINE_TenPx40",
         "orientation": "v",
         "showlegend": true,
         "type": "scatter",
         "x": [
          -0.34864533159098476
         ],
         "xaxis": "x",
         "y": [
          -0.34755390808356773
         ],
         "yaxis": "y"
        },
        {
         "hovertemplate": "label=SUDHL6_HAEMATOPOIETIC_AND_LYMPHOID_TISSUE_TenPx40<br>PC1=%{x}<br>PC2=%{y}<extra></extra>",
         "legendgroup": "SUDHL6_HAEMATOPOIETIC_AND_LYMPHOID_TISSUE_TenPx40",
         "marker": {
          "color": "rgb(253,180,98)",
          "line": {
           "width": 1
          },
          "size": 8,
          "symbol": "circle"
         },
         "mode": "markers",
         "name": "SUDHL6_HAEMATOPOIETIC_AND_LYMPHOID_TISSUE_TenPx40",
         "orientation": "v",
         "showlegend": true,
         "type": "scatter",
         "x": [
          0.7242002295755486
         ],
         "xaxis": "x",
         "y": [
          -0.14920145787999284
         ],
         "yaxis": "y"
        },
        {
         "hovertemplate": "label=SKLU1_LUNG_TenPx42<br>PC1=%{x}<br>PC2=%{y}<extra></extra>",
         "legendgroup": "SKLU1_LUNG_TenPx42",
         "marker": {
          "color": "rgb(222,203,228)",
          "line": {
           "width": 1
          },
          "size": 8,
          "symbol": "circle"
         },
         "mode": "markers",
         "name": "SKLU1_LUNG_TenPx42",
         "orientation": "v",
         "showlegend": true,
         "type": "scatter",
         "x": [
          -0.20155405578956073
         ],
         "xaxis": "x",
         "y": [
          -0.13122278780335558
         ],
         "yaxis": "y"
        },
        {
         "hovertemplate": "label=ISHIKAWAHERAKLIO02ER_ENDOMETRIUM_TenPx42<br>PC1=%{x}<br>PC2=%{y}<extra></extra>",
         "legendgroup": "ISHIKAWAHERAKLIO02ER_ENDOMETRIUM_TenPx42",
         "marker": {
          "color": "rgb(252,205,229)",
          "line": {
           "width": 1
          },
          "size": 8,
          "symbol": "circle"
         },
         "mode": "markers",
         "name": "ISHIKAWAHERAKLIO02ER_ENDOMETRIUM_TenPx42",
         "orientation": "v",
         "showlegend": true,
         "type": "scatter",
         "x": [
          -0.15426511553995337
         ],
         "xaxis": "x",
         "y": [
          -0.4763739081601488
         ],
         "yaxis": "y"
        },
        {
         "hovertemplate": "label=SNGM_ENDOMETRIUM_TenPx42<br>PC1=%{x}<br>PC2=%{y}<extra></extra>",
         "legendgroup": "SNGM_ENDOMETRIUM_TenPx42",
         "marker": {
          "color": "rgb(252,205,229)",
          "line": {
           "width": 1
          },
          "size": 8,
          "symbol": "circle"
         },
         "mode": "markers",
         "name": "SNGM_ENDOMETRIUM_TenPx42",
         "orientation": "v",
         "showlegend": true,
         "type": "scatter",
         "x": [
          -0.3047769332561022
         ],
         "xaxis": "x",
         "y": [
          -0.17969693983091517
         ],
         "yaxis": "y"
        },
        {
         "hovertemplate": "label=GAMG_CENTRAL_NERVOUS_SYSTEM_TenPx42<br>PC1=%{x}<br>PC2=%{y}<extra></extra>",
         "legendgroup": "GAMG_CENTRAL_NERVOUS_SYSTEM_TenPx42",
         "marker": {
          "color": "rgb(179,222,105)",
          "line": {
           "width": 1
          },
          "size": 8,
          "symbol": "circle"
         },
         "mode": "markers",
         "name": "GAMG_CENTRAL_NERVOUS_SYSTEM_TenPx42",
         "orientation": "v",
         "showlegend": true,
         "type": "scatter",
         "x": [
          0.3346421366227244
         ],
         "xaxis": "x",
         "y": [
          0.45924228914050796
         ],
         "yaxis": "y"
        },
        {
         "hovertemplate": "label=NCIH929_HAEMATOPOIETIC_AND_LYMPHOID_TISSUE_TenPx42<br>PC1=%{x}<br>PC2=%{y}<extra></extra>",
         "legendgroup": "NCIH929_HAEMATOPOIETIC_AND_LYMPHOID_TISSUE_TenPx42",
         "marker": {
          "color": "rgb(253,180,98)",
          "line": {
           "width": 1
          },
          "size": 8,
          "symbol": "circle"
         },
         "mode": "markers",
         "name": "NCIH929_HAEMATOPOIETIC_AND_LYMPHOID_TISSUE_TenPx42",
         "orientation": "v",
         "showlegend": true,
         "type": "scatter",
         "x": [
          0.4752019521351281
         ],
         "xaxis": "x",
         "y": [
          0.46911779564665446
         ],
         "yaxis": "y"
        },
        {
         "hovertemplate": "label=PANC0203_PANCREAS_TenPx42<br>PC1=%{x}<br>PC2=%{y}<extra></extra>",
         "legendgroup": "PANC0203_PANCREAS_TenPx42",
         "marker": {
          "color": "rgb(253,218,236)",
          "line": {
           "width": 1
          },
          "size": 8,
          "symbol": "circle"
         },
         "mode": "markers",
         "name": "PANC0203_PANCREAS_TenPx42",
         "orientation": "v",
         "showlegend": true,
         "type": "scatter",
         "x": [
          -0.5680103383408228
         ],
         "xaxis": "x",
         "y": [
          -0.048420643126783444
         ],
         "yaxis": "y"
        },
        {
         "hovertemplate": "label=RCHACV_HAEMATOPOIETIC_AND_LYMPHOID_TISSUE_TenPx42<br>PC1=%{x}<br>PC2=%{y}<extra></extra>",
         "legendgroup": "RCHACV_HAEMATOPOIETIC_AND_LYMPHOID_TISSUE_TenPx42",
         "marker": {
          "color": "rgb(253,180,98)",
          "line": {
           "width": 1
          },
          "size": 8,
          "symbol": "circle"
         },
         "mode": "markers",
         "name": "RCHACV_HAEMATOPOIETIC_AND_LYMPHOID_TISSUE_TenPx42",
         "orientation": "v",
         "showlegend": true,
         "type": "scatter",
         "x": [
          1
         ],
         "xaxis": "x",
         "y": [
          -0.9291454218419175
         ],
         "yaxis": "y"
        },
        {
         "hovertemplate": "label=SNU423_LIVER_TenPx42<br>PC1=%{x}<br>PC2=%{y}<extra></extra>",
         "legendgroup": "SNU423_LIVER_TenPx42",
         "marker": {
          "color": "rgb(254,217,166)",
          "line": {
           "width": 1
          },
          "size": 8,
          "symbol": "circle"
         },
         "mode": "markers",
         "name": "SNU423_LIVER_TenPx42",
         "orientation": "v",
         "showlegend": true,
         "type": "scatter",
         "x": [
          -0.2784381876128148
         ],
         "xaxis": "x",
         "y": [
          0.3608696321850686
         ],
         "yaxis": "y"
        },
        {
         "hovertemplate": "label=SNU1079_BILIARY_TRACT_TenPx42<br>PC1=%{x}<br>PC2=%{y}<extra></extra>",
         "legendgroup": "SNU1079_BILIARY_TRACT_TenPx42",
         "marker": {
          "color": "rgb(255,237,111)",
          "line": {
           "width": 1
          },
          "size": 8,
          "symbol": "circle"
         },
         "mode": "markers",
         "name": "SNU1079_BILIARY_TRACT_TenPx42",
         "orientation": "v",
         "showlegend": true,
         "type": "scatter",
         "x": [
          -0.41435268120016056
         ],
         "xaxis": "x",
         "y": [
          0.16892806952077474
         ],
         "yaxis": "y"
        },
        {
         "hovertemplate": "label=A204_SOFT_TISSUE_TenPx23<br>PC1=%{x}<br>PC2=%{y}<extra></extra>",
         "legendgroup": "A204_SOFT_TISSUE_TenPx23",
         "marker": {
          "color": "rgb(128,177,211)",
          "line": {
           "width": 1
          },
          "size": 8,
          "symbol": "circle"
         },
         "mode": "markers",
         "name": "A204_SOFT_TISSUE_TenPx23",
         "orientation": "v",
         "showlegend": true,
         "type": "scatter",
         "x": [
          0.026712775247547636
         ],
         "xaxis": "x",
         "y": [
          0.46175436157105954
         ],
         "yaxis": "y"
        },
        {
         "hovertemplate": "label=BXPC3_PANCREAS_TenPx23<br>PC1=%{x}<br>PC2=%{y}<extra></extra>",
         "legendgroup": "BXPC3_PANCREAS_TenPx23",
         "marker": {
          "color": "rgb(253,218,236)",
          "line": {
           "width": 1
          },
          "size": 8,
          "symbol": "circle"
         },
         "mode": "markers",
         "name": "BXPC3_PANCREAS_TenPx23",
         "orientation": "v",
         "showlegend": true,
         "type": "scatter",
         "x": [
          -0.27856036641269466
         ],
         "xaxis": "x",
         "y": [
          -0.3262814502222093
         ],
         "yaxis": "y"
        },
        {
         "hovertemplate": "label=CALU1_LUNG_TenPx23<br>PC1=%{x}<br>PC2=%{y}<extra></extra>",
         "legendgroup": "CALU1_LUNG_TenPx23",
         "marker": {
          "color": "rgb(222,203,228)",
          "line": {
           "width": 1
          },
          "size": 8,
          "symbol": "circle"
         },
         "mode": "markers",
         "name": "CALU1_LUNG_TenPx23",
         "orientation": "v",
         "showlegend": true,
         "type": "scatter",
         "x": [
          0.3734028757794549
         ],
         "xaxis": "x",
         "y": [
          0.3978847078587894
         ],
         "yaxis": "y"
        },
        {
         "hovertemplate": "label=HEC251_ENDOMETRIUM_TenPx23<br>PC1=%{x}<br>PC2=%{y}<extra></extra>",
         "legendgroup": "HEC251_ENDOMETRIUM_TenPx23",
         "marker": {
          "color": "rgb(252,205,229)",
          "line": {
           "width": 1
          },
          "size": 8,
          "symbol": "circle"
         },
         "mode": "markers",
         "name": "HEC251_ENDOMETRIUM_TenPx23",
         "orientation": "v",
         "showlegend": true,
         "type": "scatter",
         "x": [
          -0.7613642306485537
         ],
         "xaxis": "x",
         "y": [
          -0.427476259463999
         ],
         "yaxis": "y"
        },
        {
         "hovertemplate": "label=HEL_HAEMATOPOIETIC_AND_LYMPHOID_TISSUE_TenPx23<br>PC1=%{x}<br>PC2=%{y}<extra></extra>",
         "legendgroup": "HEL_HAEMATOPOIETIC_AND_LYMPHOID_TISSUE_TenPx23",
         "marker": {
          "color": "rgb(253,180,98)",
          "line": {
           "width": 1
          },
          "size": 8,
          "symbol": "circle"
         },
         "mode": "markers",
         "name": "HEL_HAEMATOPOIETIC_AND_LYMPHOID_TISSUE_TenPx23",
         "orientation": "v",
         "showlegend": true,
         "type": "scatter",
         "x": [
          0.7176319115227333
         ],
         "xaxis": "x",
         "y": [
          -0.37403760196757074
         ],
         "yaxis": "y"
        },
        {
         "hovertemplate": "label=KYSE180_OESOPHAGUS_TenPx23<br>PC1=%{x}<br>PC2=%{y}<extra></extra>",
         "legendgroup": "KYSE180_OESOPHAGUS_TenPx23",
         "marker": {
          "color": "rgb(255,255,179)",
          "line": {
           "width": 1
          },
          "size": 8,
          "symbol": "circle"
         },
         "mode": "markers",
         "name": "KYSE180_OESOPHAGUS_TenPx23",
         "orientation": "v",
         "showlegend": true,
         "type": "scatter",
         "x": [
          -0.447639647138521
         ],
         "xaxis": "x",
         "y": [
          -0.4699710514362111
         ],
         "yaxis": "y"
        },
        {
         "hovertemplate": "label=MONOMAC1_HAEMATOPOIETIC_AND_LYMPHOID_TISSUE_TenPx23<br>PC1=%{x}<br>PC2=%{y}<extra></extra>",
         "legendgroup": "MONOMAC1_HAEMATOPOIETIC_AND_LYMPHOID_TISSUE_TenPx23",
         "marker": {
          "color": "rgb(253,180,98)",
          "line": {
           "width": 1
          },
          "size": 8,
          "symbol": "circle"
         },
         "mode": "markers",
         "name": "MONOMAC1_HAEMATOPOIETIC_AND_LYMPHOID_TISSUE_TenPx23",
         "orientation": "v",
         "showlegend": true,
         "type": "scatter",
         "x": [
          0.04248827615869641
         ],
         "xaxis": "x",
         "y": [
          0.7982997326405277
         ],
         "yaxis": "y"
        },
        {
         "hovertemplate": "label=SF295_CENTRAL_NERVOUS_SYSTEM_TenPx23<br>PC1=%{x}<br>PC2=%{y}<extra></extra>",
         "legendgroup": "SF295_CENTRAL_NERVOUS_SYSTEM_TenPx23",
         "marker": {
          "color": "rgb(179,222,105)",
          "line": {
           "width": 1
          },
          "size": 8,
          "symbol": "circle"
         },
         "mode": "markers",
         "name": "SF295_CENTRAL_NERVOUS_SYSTEM_TenPx23",
         "orientation": "v",
         "showlegend": true,
         "type": "scatter",
         "x": [
          0.44243606875717356
         ],
         "xaxis": "x",
         "y": [
          -0.20395341592264485
         ],
         "yaxis": "y"
        },
        {
         "hovertemplate": "label=SKMEL5_SKIN_TenPx23<br>PC1=%{x}<br>PC2=%{y}<extra></extra>",
         "legendgroup": "SKMEL5_SKIN_TenPx23",
         "marker": {
          "color": "rgb(179,205,227)",
          "line": {
           "width": 1
          },
          "size": 8,
          "symbol": "circle"
         },
         "mode": "markers",
         "name": "SKMEL5_SKIN_TenPx23",
         "orientation": "v",
         "showlegend": true,
         "type": "scatter",
         "x": [
          0.1197640376001046
         ],
         "xaxis": "x",
         "y": [
          -0.21539087134221685
         ],
         "yaxis": "y"
        },
        {
         "hovertemplate": "label=PC14_LUNG_TenPx05<br>PC1=%{x}<br>PC2=%{y}<extra></extra>",
         "legendgroup": "PC14_LUNG_TenPx05",
         "marker": {
          "color": "rgb(222,203,228)",
          "line": {
           "width": 1
          },
          "size": 8,
          "symbol": "circle"
         },
         "mode": "markers",
         "name": "PC14_LUNG_TenPx05",
         "orientation": "v",
         "showlegend": true,
         "type": "scatter",
         "x": [
          -0.21628608533230415
         ],
         "xaxis": "x",
         "y": [
          -0.2545391330926126
         ],
         "yaxis": "y"
        },
        {
         "hovertemplate": "label=EBC1_LUNG_TenPx05<br>PC1=%{x}<br>PC2=%{y}<extra></extra>",
         "legendgroup": "EBC1_LUNG_TenPx05",
         "marker": {
          "color": "rgb(222,203,228)",
          "line": {
           "width": 1
          },
          "size": 8,
          "symbol": "circle"
         },
         "mode": "markers",
         "name": "EBC1_LUNG_TenPx05",
         "orientation": "v",
         "showlegend": true,
         "type": "scatter",
         "x": [
          -0.4619254106936498
         ],
         "xaxis": "x",
         "y": [
          -0.21619279290474075
         ],
         "yaxis": "y"
        },
        {
         "hovertemplate": "label=SKMEL2_SKIN_TenPx05<br>PC1=%{x}<br>PC2=%{y}<extra></extra>",
         "legendgroup": "SKMEL2_SKIN_TenPx05",
         "marker": {
          "color": "rgb(179,205,227)",
          "line": {
           "width": 1
          },
          "size": 8,
          "symbol": "circle"
         },
         "mode": "markers",
         "name": "SKMEL2_SKIN_TenPx05",
         "orientation": "v",
         "showlegend": true,
         "type": "scatter",
         "x": [
          0.13780858352922878
         ],
         "xaxis": "x",
         "y": [
          0.19620172130634403
         ],
         "yaxis": "y"
        },
        {
         "hovertemplate": "label=MEWO_SKIN_TenPx05<br>PC1=%{x}<br>PC2=%{y}<extra></extra>",
         "legendgroup": "MEWO_SKIN_TenPx05",
         "marker": {
          "color": "rgb(179,205,227)",
          "line": {
           "width": 1
          },
          "size": 8,
          "symbol": "circle"
         },
         "mode": "markers",
         "name": "MEWO_SKIN_TenPx05",
         "orientation": "v",
         "showlegend": true,
         "type": "scatter",
         "x": [
          0.17533045107676892
         ],
         "xaxis": "x",
         "y": [
          -0.22839267805435637
         ],
         "yaxis": "y"
        },
        {
         "hovertemplate": "label=HS944T_SKIN_TenPx05<br>PC1=%{x}<br>PC2=%{y}<extra></extra>",
         "legendgroup": "HS944T_SKIN_TenPx05",
         "marker": {
          "color": "rgb(179,205,227)",
          "line": {
           "width": 1
          },
          "size": 8,
          "symbol": "circle"
         },
         "mode": "markers",
         "name": "HS944T_SKIN_TenPx05",
         "orientation": "v",
         "showlegend": true,
         "type": "scatter",
         "x": [
          0.07744322811510054
         ],
         "xaxis": "x",
         "y": [
          0.29548004824837915
         ],
         "yaxis": "y"
        },
        {
         "hovertemplate": "label=JHH7_LIVER_TenPx05<br>PC1=%{x}<br>PC2=%{y}<extra></extra>",
         "legendgroup": "JHH7_LIVER_TenPx05",
         "marker": {
          "color": "rgb(254,217,166)",
          "line": {
           "width": 1
          },
          "size": 8,
          "symbol": "circle"
         },
         "mode": "markers",
         "name": "JHH7_LIVER_TenPx05",
         "orientation": "v",
         "showlegend": true,
         "type": "scatter",
         "x": [
          -0.17414872195190928
         ],
         "xaxis": "x",
         "y": [
          -0.09678016407274133
         ],
         "yaxis": "y"
        },
        {
         "hovertemplate": "label=RVH421_SKIN_TenPx05<br>PC1=%{x}<br>PC2=%{y}<extra></extra>",
         "legendgroup": "RVH421_SKIN_TenPx05",
         "marker": {
          "color": "rgb(179,205,227)",
          "line": {
           "width": 1
          },
          "size": 8,
          "symbol": "circle"
         },
         "mode": "markers",
         "name": "RVH421_SKIN_TenPx05",
         "orientation": "v",
         "showlegend": true,
         "type": "scatter",
         "x": [
          0.24497031757992274
         ],
         "xaxis": "x",
         "y": [
          0.28824173676252773
         ],
         "yaxis": "y"
        },
        {
         "hovertemplate": "label=A498_KIDNEY_TenPx05<br>PC1=%{x}<br>PC2=%{y}<extra></extra>",
         "legendgroup": "A498_KIDNEY_TenPx05",
         "marker": {
          "color": "rgb(204,235,197)",
          "line": {
           "width": 1
          },
          "size": 8,
          "symbol": "circle"
         },
         "mode": "markers",
         "name": "A498_KIDNEY_TenPx05",
         "orientation": "v",
         "showlegend": true,
         "type": "scatter",
         "x": [
          0.19020580914680166
         ],
         "xaxis": "x",
         "y": [
          0.2412191258531271
         ],
         "yaxis": "y"
        },
        {
         "hovertemplate": "label=HS695T_SKIN_TenPx05<br>PC1=%{x}<br>PC2=%{y}<extra></extra>",
         "legendgroup": "HS695T_SKIN_TenPx05",
         "marker": {
          "color": "rgb(179,205,227)",
          "line": {
           "width": 1
          },
          "size": 8,
          "symbol": "circle"
         },
         "mode": "markers",
         "name": "HS695T_SKIN_TenPx05",
         "orientation": "v",
         "showlegend": true,
         "type": "scatter",
         "x": [
          -0.012429301967922378
         ],
         "xaxis": "x",
         "y": [
          0.14646218999596694
         ],
         "yaxis": "y"
        },
        {
         "hovertemplate": "label=697_HAEMATOPOIETIC_AND_LYMPHOID_TISSUE_TenPx30<br>PC1=%{x}<br>PC2=%{y}<extra></extra>",
         "legendgroup": "697_HAEMATOPOIETIC_AND_LYMPHOID_TISSUE_TenPx30",
         "marker": {
          "color": "rgb(253,180,98)",
          "line": {
           "width": 1
          },
          "size": 8,
          "symbol": "circle"
         },
         "mode": "markers",
         "name": "697_HAEMATOPOIETIC_AND_LYMPHOID_TISSUE_TenPx30",
         "orientation": "v",
         "showlegend": true,
         "type": "scatter",
         "x": [
          0.5724510820431256
         ],
         "xaxis": "x",
         "y": [
          -0.14863763683099596
         ],
         "yaxis": "y"
        },
        {
         "hovertemplate": "label=8305C_THYROID_TenPx30<br>PC1=%{x}<br>PC2=%{y}<extra></extra>",
         "legendgroup": "8305C_THYROID_TenPx30",
         "marker": {
          "color": "rgb(204,235,197)",
          "line": {
           "width": 1
          },
          "size": 8,
          "symbol": "circle"
         },
         "mode": "markers",
         "name": "8305C_THYROID_TenPx30",
         "orientation": "v",
         "showlegend": true,
         "type": "scatter",
         "x": [
          -0.5241476323324876
         ],
         "xaxis": "x",
         "y": [
          0.5337465982877494
         ],
         "yaxis": "y"
        },
        {
         "hovertemplate": "label=HCT15_LARGE_INTESTINE_TenPx30<br>PC1=%{x}<br>PC2=%{y}<extra></extra>",
         "legendgroup": "HCT15_LARGE_INTESTINE_TenPx30",
         "marker": {
          "color": "rgb(242,242,242)",
          "line": {
           "width": 1
          },
          "size": 8,
          "symbol": "circle"
         },
         "mode": "markers",
         "name": "HCT15_LARGE_INTESTINE_TenPx30",
         "orientation": "v",
         "showlegend": true,
         "type": "scatter",
         "x": [
          0.16977605426399803
         ],
         "xaxis": "x",
         "y": [
          -0.19251098875833914
         ],
         "yaxis": "y"
        },
        {
         "hovertemplate": "label=IGR1_SKIN_TenPx30<br>PC1=%{x}<br>PC2=%{y}<extra></extra>",
         "legendgroup": "IGR1_SKIN_TenPx30",
         "marker": {
          "color": "rgb(179,205,227)",
          "line": {
           "width": 1
          },
          "size": 8,
          "symbol": "circle"
         },
         "mode": "markers",
         "name": "IGR1_SKIN_TenPx30",
         "orientation": "v",
         "showlegend": true,
         "type": "scatter",
         "x": [
          -0.547682438217134
         ],
         "xaxis": "x",
         "y": [
          -0.23064409443686099
         ],
         "yaxis": "y"
        },
        {
         "hovertemplate": "label=SUIT2_PANCREAS_TenPx30<br>PC1=%{x}<br>PC2=%{y}<extra></extra>",
         "legendgroup": "SUIT2_PANCREAS_TenPx30",
         "marker": {
          "color": "rgb(253,218,236)",
          "line": {
           "width": 1
          },
          "size": 8,
          "symbol": "circle"
         },
         "mode": "markers",
         "name": "SUIT2_PANCREAS_TenPx30",
         "orientation": "v",
         "showlegend": true,
         "type": "scatter",
         "x": [
          -0.04684863270020361
         ],
         "xaxis": "x",
         "y": [
          0.3063011152967328
         ],
         "yaxis": "y"
        },
        {
         "hovertemplate": "label=LN18_CENTRAL_NERVOUS_SYSTEM_TenPx30<br>PC1=%{x}<br>PC2=%{y}<extra></extra>",
         "legendgroup": "LN18_CENTRAL_NERVOUS_SYSTEM_TenPx30",
         "marker": {
          "color": "rgb(179,222,105)",
          "line": {
           "width": 1
          },
          "size": 8,
          "symbol": "circle"
         },
         "mode": "markers",
         "name": "LN18_CENTRAL_NERVOUS_SYSTEM_TenPx30",
         "orientation": "v",
         "showlegend": true,
         "type": "scatter",
         "x": [
          -0.14884333012822595
         ],
         "xaxis": "x",
         "y": [
          0.08301056467585573
         ],
         "yaxis": "y"
        },
        {
         "hovertemplate": "label=LNCAPCLONEFGC_PROSTATE_TenPx30<br>PC1=%{x}<br>PC2=%{y}<extra></extra>",
         "legendgroup": "LNCAPCLONEFGC_PROSTATE_TenPx30",
         "marker": {
          "color": "rgb(190,186,218)",
          "line": {
           "width": 1
          },
          "size": 8,
          "symbol": "circle"
         },
         "mode": "markers",
         "name": "LNCAPCLONEFGC_PROSTATE_TenPx30",
         "orientation": "v",
         "showlegend": true,
         "type": "scatter",
         "x": [
          0.03536686091892919
         ],
         "xaxis": "x",
         "y": [
          -0.27780838551392373
         ],
         "yaxis": "y"
        },
        {
         "hovertemplate": "label=NCIH650_LUNG_TenPx30<br>PC1=%{x}<br>PC2=%{y}<extra></extra>",
         "legendgroup": "NCIH650_LUNG_TenPx30",
         "marker": {
          "color": "rgb(222,203,228)",
          "line": {
           "width": 1
          },
          "size": 8,
          "symbol": "circle"
         },
         "mode": "markers",
         "name": "NCIH650_LUNG_TenPx30",
         "orientation": "v",
         "showlegend": true,
         "type": "scatter",
         "x": [
          0.12828052731410458
         ],
         "xaxis": "x",
         "y": [
          -0.016316880488907577
         ],
         "yaxis": "y"
        },
        {
         "hovertemplate": "label=REH_HAEMATOPOIETIC_AND_LYMPHOID_TISSUE_TenPx30<br>PC1=%{x}<br>PC2=%{y}<extra></extra>",
         "legendgroup": "REH_HAEMATOPOIETIC_AND_LYMPHOID_TISSUE_TenPx30",
         "marker": {
          "color": "rgb(253,180,98)",
          "line": {
           "width": 1
          },
          "size": 8,
          "symbol": "circle"
         },
         "mode": "markers",
         "name": "REH_HAEMATOPOIETIC_AND_LYMPHOID_TISSUE_TenPx30",
         "orientation": "v",
         "showlegend": true,
         "type": "scatter",
         "x": [
          0.6134788820384673
         ],
         "xaxis": "x",
         "y": [
          -0.2860247552424032
         ],
         "yaxis": "y"
        },
        {
         "hovertemplate": "label=HEC1A_ENDOMETRIUM_TenPx31<br>PC1=%{x}<br>PC2=%{y}<extra></extra>",
         "legendgroup": "HEC1A_ENDOMETRIUM_TenPx31",
         "marker": {
          "color": "rgb(252,205,229)",
          "line": {
           "width": 1
          },
          "size": 8,
          "symbol": "circle"
         },
         "mode": "markers",
         "name": "HEC1A_ENDOMETRIUM_TenPx31",
         "orientation": "v",
         "showlegend": true,
         "type": "scatter",
         "x": [
          -0.09546668446233368
         ],
         "xaxis": "x",
         "y": [
          -0.17875143919779335
         ],
         "yaxis": "y"
        },
        {
         "hovertemplate": "label=HUPT3_PANCREAS_TenPx31<br>PC1=%{x}<br>PC2=%{y}<extra></extra>",
         "legendgroup": "HUPT3_PANCREAS_TenPx31",
         "marker": {
          "color": "rgb(253,218,236)",
          "line": {
           "width": 1
          },
          "size": 8,
          "symbol": "circle"
         },
         "mode": "markers",
         "name": "HUPT3_PANCREAS_TenPx31",
         "orientation": "v",
         "showlegend": true,
         "type": "scatter",
         "x": [
          -0.213381613403155
         ],
         "xaxis": "x",
         "y": [
          -0.16307271506229604
         ],
         "yaxis": "y"
        },
        {
         "hovertemplate": "label=KMS27_HAEMATOPOIETIC_AND_LYMPHOID_TISSUE_TenPx31<br>PC1=%{x}<br>PC2=%{y}<extra></extra>",
         "legendgroup": "KMS27_HAEMATOPOIETIC_AND_LYMPHOID_TISSUE_TenPx31",
         "marker": {
          "color": "rgb(253,180,98)",
          "line": {
           "width": 1
          },
          "size": 8,
          "symbol": "circle"
         },
         "mode": "markers",
         "name": "KMS27_HAEMATOPOIETIC_AND_LYMPHOID_TISSUE_TenPx31",
         "orientation": "v",
         "showlegend": true,
         "type": "scatter",
         "x": [
          0.5657135515873885
         ],
         "xaxis": "x",
         "y": [
          -0.1851493150250668
         ],
         "yaxis": "y"
        },
        {
         "hovertemplate": "label=LXF289_LUNG_TenPx31<br>PC1=%{x}<br>PC2=%{y}<extra></extra>",
         "legendgroup": "LXF289_LUNG_TenPx31",
         "marker": {
          "color": "rgb(222,203,228)",
          "line": {
           "width": 1
          },
          "size": 8,
          "symbol": "circle"
         },
         "mode": "markers",
         "name": "LXF289_LUNG_TenPx31",
         "orientation": "v",
         "showlegend": true,
         "type": "scatter",
         "x": [
          0.1917464559284745
         ],
         "xaxis": "x",
         "y": [
          0.1698265959721325
         ],
         "yaxis": "y"
        },
        {
         "hovertemplate": "label=CAL27_UPPER_AERODIGESTIVE_TRACT_TenPx31<br>PC1=%{x}<br>PC2=%{y}<extra></extra>",
         "legendgroup": "CAL27_UPPER_AERODIGESTIVE_TRACT_TenPx31",
         "marker": {
          "color": "rgb(255,255,204)",
          "line": {
           "width": 1
          },
          "size": 8,
          "symbol": "circle"
         },
         "mode": "markers",
         "name": "CAL27_UPPER_AERODIGESTIVE_TRACT_TenPx31",
         "orientation": "v",
         "showlegend": true,
         "type": "scatter",
         "x": [
          -0.23828942789049568
         ],
         "xaxis": "x",
         "y": [
          -0.3437992373280697
         ],
         "yaxis": "y"
        },
        {
         "hovertemplate": "label=RMUGS_OVARY_TenPx31<br>PC1=%{x}<br>PC2=%{y}<extra></extra>",
         "legendgroup": "RMUGS_OVARY_TenPx31",
         "marker": {
          "color": "black",
          "line": {
           "width": 1
          },
          "size": 8,
          "symbol": "circle"
         },
         "mode": "markers",
         "name": "RMUGS_OVARY_TenPx31",
         "orientation": "v",
         "showlegend": true,
         "type": "scatter",
         "x": [
          -0.1690766162141614
         ],
         "xaxis": "x",
         "y": [
          0.10972812689171364
         ],
         "yaxis": "y"
        },
        {
         "hovertemplate": "label=SNU1105_CENTRAL_NERVOUS_SYSTEM_TenPx31<br>PC1=%{x}<br>PC2=%{y}<extra></extra>",
         "legendgroup": "SNU1105_CENTRAL_NERVOUS_SYSTEM_TenPx31",
         "marker": {
          "color": "rgb(179,222,105)",
          "line": {
           "width": 1
          },
          "size": 8,
          "symbol": "circle"
         },
         "mode": "markers",
         "name": "SNU1105_CENTRAL_NERVOUS_SYSTEM_TenPx31",
         "orientation": "v",
         "showlegend": true,
         "type": "scatter",
         "x": [
          -0.23357675546217407
         ],
         "xaxis": "x",
         "y": [
          0.2751701246325539
         ],
         "yaxis": "y"
        },
        {
         "hovertemplate": "label=CAL33_UPPER_AERODIGESTIVE_TRACT_TenPx31<br>PC1=%{x}<br>PC2=%{y}<extra></extra>",
         "legendgroup": "CAL33_UPPER_AERODIGESTIVE_TRACT_TenPx31",
         "marker": {
          "color": "rgb(255,255,204)",
          "line": {
           "width": 1
          },
          "size": 8,
          "symbol": "circle"
         },
         "mode": "markers",
         "name": "CAL33_UPPER_AERODIGESTIVE_TRACT_TenPx31",
         "orientation": "v",
         "showlegend": true,
         "type": "scatter",
         "x": [
          -0.22033253507566533
         ],
         "xaxis": "x",
         "y": [
          0.13976658300045192
         ],
         "yaxis": "y"
        },
        {
         "hovertemplate": "label=U937_HAEMATOPOIETIC_AND_LYMPHOID_TISSUE_TenPx31<br>PC1=%{x}<br>PC2=%{y}<extra></extra>",
         "legendgroup": "U937_HAEMATOPOIETIC_AND_LYMPHOID_TISSUE_TenPx31",
         "marker": {
          "color": "rgb(253,180,98)",
          "line": {
           "width": 1
          },
          "size": 8,
          "symbol": "circle"
         },
         "mode": "markers",
         "name": "U937_HAEMATOPOIETIC_AND_LYMPHOID_TISSUE_TenPx31",
         "orientation": "v",
         "showlegend": true,
         "type": "scatter",
         "x": [
          0.35303342384174247
         ],
         "xaxis": "x",
         "y": [
          0.25963987187616766
         ],
         "yaxis": "y"
        },
        {
         "hovertemplate": "label=A704_KIDNEY_TenPx32<br>PC1=%{x}<br>PC2=%{y}<extra></extra>",
         "legendgroup": "A704_KIDNEY_TenPx32",
         "marker": {
          "color": "rgb(204,235,197)",
          "line": {
           "width": 1
          },
          "size": 8,
          "symbol": "circle"
         },
         "mode": "markers",
         "name": "A704_KIDNEY_TenPx32",
         "orientation": "v",
         "showlegend": true,
         "type": "scatter",
         "x": [
          -0.12086422941547126
         ],
         "xaxis": "x",
         "y": [
          0.7905451796342785
         ],
         "yaxis": "y"
        },
        {
         "hovertemplate": "label=WM88_SKIN_TenPx32<br>PC1=%{x}<br>PC2=%{y}<extra></extra>",
         "legendgroup": "WM88_SKIN_TenPx32",
         "marker": {
          "color": "rgb(179,205,227)",
          "line": {
           "width": 1
          },
          "size": 8,
          "symbol": "circle"
         },
         "mode": "markers",
         "name": "WM88_SKIN_TenPx32",
         "orientation": "v",
         "showlegend": true,
         "type": "scatter",
         "x": [
          -0.052328520622289945
         ],
         "xaxis": "x",
         "y": [
          0.665601380653478
         ],
         "yaxis": "y"
        },
        {
         "hovertemplate": "label=KMS11_HAEMATOPOIETIC_AND_LYMPHOID_TISSUE_TenPx32<br>PC1=%{x}<br>PC2=%{y}<extra></extra>",
         "legendgroup": "KMS11_HAEMATOPOIETIC_AND_LYMPHOID_TISSUE_TenPx32",
         "marker": {
          "color": "rgb(253,180,98)",
          "line": {
           "width": 1
          },
          "size": 8,
          "symbol": "circle"
         },
         "mode": "markers",
         "name": "KMS11_HAEMATOPOIETIC_AND_LYMPHOID_TISSUE_TenPx32",
         "orientation": "v",
         "showlegend": true,
         "type": "scatter",
         "x": [
          0.3195679255602273
         ],
         "xaxis": "x",
         "y": [
          -0.6697431447365848
         ],
         "yaxis": "y"
        },
        {
         "hovertemplate": "label=NALM6_HAEMATOPOIETIC_AND_LYMPHOID_TISSUE_TenPx32<br>PC1=%{x}<br>PC2=%{y}<extra></extra>",
         "legendgroup": "NALM6_HAEMATOPOIETIC_AND_LYMPHOID_TISSUE_TenPx32",
         "marker": {
          "color": "rgb(253,180,98)",
          "line": {
           "width": 1
          },
          "size": 8,
          "symbol": "circle"
         },
         "mode": "markers",
         "name": "NALM6_HAEMATOPOIETIC_AND_LYMPHOID_TISSUE_TenPx32",
         "orientation": "v",
         "showlegend": true,
         "type": "scatter",
         "x": [
          0.7682785506123736
         ],
         "xaxis": "x",
         "y": [
          -0.7527320717105379
         ],
         "yaxis": "y"
        },
        {
         "hovertemplate": "label=NCIH2052_PLEURA_TenPx32<br>PC1=%{x}<br>PC2=%{y}<extra></extra>",
         "legendgroup": "NCIH2052_PLEURA_TenPx32",
         "marker": {
          "color": "rgb(188,128,189)",
          "line": {
           "width": 1
          },
          "size": 8,
          "symbol": "circle"
         },
         "mode": "markers",
         "name": "NCIH2052_PLEURA_TenPx32",
         "orientation": "v",
         "showlegend": true,
         "type": "scatter",
         "x": [
          -0.09106661323907841
         ],
         "xaxis": "x",
         "y": [
          0.5411946902507181
         ],
         "yaxis": "y"
        },
        {
         "hovertemplate": "label=OV90_OVARY_TenPx32<br>PC1=%{x}<br>PC2=%{y}<extra></extra>",
         "legendgroup": "OV90_OVARY_TenPx32",
         "marker": {
          "color": "black",
          "line": {
           "width": 1
          },
          "size": 8,
          "symbol": "circle"
         },
         "mode": "markers",
         "name": "OV90_OVARY_TenPx32",
         "orientation": "v",
         "showlegend": true,
         "type": "scatter",
         "x": [
          -0.3202524684790845
         ],
         "xaxis": "x",
         "y": [
          0.17801063483214996
         ],
         "yaxis": "y"
        },
        {
         "hovertemplate": "label=SKES1_BONE_TenPx32<br>PC1=%{x}<br>PC2=%{y}<extra></extra>",
         "legendgroup": "SKES1_BONE_TenPx32",
         "marker": {
          "color": "rgb(251,128,114)",
          "line": {
           "width": 1
          },
          "size": 8,
          "symbol": "circle"
         },
         "mode": "markers",
         "name": "SKES1_BONE_TenPx32",
         "orientation": "v",
         "showlegend": true,
         "type": "scatter",
         "x": [
          0.4317529251166337
         ],
         "xaxis": "x",
         "y": [
          -0.5084722445871953
         ],
         "yaxis": "y"
        },
        {
         "hovertemplate": "label=SNB19_CENTRAL_NERVOUS_SYSTEM_TenPx32<br>PC1=%{x}<br>PC2=%{y}<extra></extra>",
         "legendgroup": "SNB19_CENTRAL_NERVOUS_SYSTEM_TenPx32",
         "marker": {
          "color": "rgb(179,222,105)",
          "line": {
           "width": 1
          },
          "size": 8,
          "symbol": "circle"
         },
         "mode": "markers",
         "name": "SNB19_CENTRAL_NERVOUS_SYSTEM_TenPx32",
         "orientation": "v",
         "showlegend": true,
         "type": "scatter",
         "x": [
          -0.38209349589770086
         ],
         "xaxis": "x",
         "y": [
          0.18340951471386127
         ],
         "yaxis": "y"
        },
        {
         "hovertemplate": "label=MFE280_ENDOMETRIUM_TenPx32<br>PC1=%{x}<br>PC2=%{y}<extra></extra>",
         "legendgroup": "MFE280_ENDOMETRIUM_TenPx32",
         "marker": {
          "color": "rgb(252,205,229)",
          "line": {
           "width": 1
          },
          "size": 8,
          "symbol": "circle"
         },
         "mode": "markers",
         "name": "MFE280_ENDOMETRIUM_TenPx32",
         "orientation": "v",
         "showlegend": true,
         "type": "scatter",
         "x": [
          -0.3399845474847926
         ],
         "xaxis": "x",
         "y": [
          -0.5341265705197319
         ],
         "yaxis": "y"
        },
        {
         "hovertemplate": "label=HCC1806_BREAST_TenPx14<br>PC1=%{x}<br>PC2=%{y}<extra></extra>",
         "legendgroup": "HCC1806_BREAST_TenPx14",
         "marker": {
          "color": "rgb(251,180,174)",
          "line": {
           "width": 1
          },
          "size": 8,
          "symbol": "circle"
         },
         "mode": "markers",
         "name": "HCC1806_BREAST_TenPx14",
         "orientation": "v",
         "showlegend": true,
         "type": "scatter",
         "x": [
          -0.7037916439881379
         ],
         "xaxis": "x",
         "y": [
          -0.33527652339993186
         ],
         "yaxis": "y"
        },
        {
         "hovertemplate": "label=COLO320_LARGE_INTESTINE_TenPx14<br>PC1=%{x}<br>PC2=%{y}<extra></extra>",
         "legendgroup": "COLO320_LARGE_INTESTINE_TenPx14",
         "marker": {
          "color": "rgb(242,242,242)",
          "line": {
           "width": 1
          },
          "size": 8,
          "symbol": "circle"
         },
         "mode": "markers",
         "name": "COLO320_LARGE_INTESTINE_TenPx14",
         "orientation": "v",
         "showlegend": true,
         "type": "scatter",
         "x": [
          0.4616854744828878
         ],
         "xaxis": "x",
         "y": [
          -0.1733577105457379
         ],
         "yaxis": "y"
        },
        {
         "hovertemplate": "label=NCIH1581_LUNG_TenPx14<br>PC1=%{x}<br>PC2=%{y}<extra></extra>",
         "legendgroup": "NCIH1581_LUNG_TenPx14",
         "marker": {
          "color": "rgb(222,203,228)",
          "line": {
           "width": 1
          },
          "size": 8,
          "symbol": "circle"
         },
         "mode": "markers",
         "name": "NCIH1581_LUNG_TenPx14",
         "orientation": "v",
         "showlegend": true,
         "type": "scatter",
         "x": [
          0.2563641193528382
         ],
         "xaxis": "x",
         "y": [
          0.3436996575919219
         ],
         "yaxis": "y"
        },
        {
         "hovertemplate": "label=NCIH1792_LUNG_TenPx14<br>PC1=%{x}<br>PC2=%{y}<extra></extra>",
         "legendgroup": "NCIH1792_LUNG_TenPx14",
         "marker": {
          "color": "rgb(222,203,228)",
          "line": {
           "width": 1
          },
          "size": 8,
          "symbol": "circle"
         },
         "mode": "markers",
         "name": "NCIH1792_LUNG_TenPx14",
         "orientation": "v",
         "showlegend": true,
         "type": "scatter",
         "x": [
          -0.38382563814379195
         ],
         "xaxis": "x",
         "y": [
          0.043406960597003656
         ],
         "yaxis": "y"
        },
        {
         "hovertemplate": "label=NCIH2066_LUNG_TenPx14<br>PC1=%{x}<br>PC2=%{y}<extra></extra>",
         "legendgroup": "NCIH2066_LUNG_TenPx14",
         "marker": {
          "color": "rgb(222,203,228)",
          "line": {
           "width": 1
          },
          "size": 8,
          "symbol": "circle"
         },
         "mode": "markers",
         "name": "NCIH2066_LUNG_TenPx14",
         "orientation": "v",
         "showlegend": true,
         "type": "scatter",
         "x": [
          0.38539191217887364
         ],
         "xaxis": "x",
         "y": [
          -0.27877690487660384
         ],
         "yaxis": "y"
        },
        {
         "hovertemplate": "label=SQ1_LUNG_TenPx14<br>PC1=%{x}<br>PC2=%{y}<extra></extra>",
         "legendgroup": "SQ1_LUNG_TenPx14",
         "marker": {
          "color": "rgb(222,203,228)",
          "line": {
           "width": 1
          },
          "size": 8,
          "symbol": "circle"
         },
         "mode": "markers",
         "name": "SQ1_LUNG_TenPx14",
         "orientation": "v",
         "showlegend": true,
         "type": "scatter",
         "x": [
          -0.3295405901929022
         ],
         "xaxis": "x",
         "y": [
          -0.0456025701930043
         ],
         "yaxis": "y"
        },
        {
         "hovertemplate": "label=A2780_OVARY_TenPx14<br>PC1=%{x}<br>PC2=%{y}<extra></extra>",
         "legendgroup": "A2780_OVARY_TenPx14",
         "marker": {
          "color": "black",
          "line": {
           "width": 1
          },
          "size": 8,
          "symbol": "circle"
         },
         "mode": "markers",
         "name": "A2780_OVARY_TenPx14",
         "orientation": "v",
         "showlegend": true,
         "type": "scatter",
         "x": [
          0.39346982243034967
         ],
         "xaxis": "x",
         "y": [
          0.017661853299042626
         ],
         "yaxis": "y"
        },
        {
         "hovertemplate": "label=MKN1_STOMACH_TenPx14<br>PC1=%{x}<br>PC2=%{y}<extra></extra>",
         "legendgroup": "MKN1_STOMACH_TenPx14",
         "marker": {
          "color": "rgb(141,211,199)",
          "line": {
           "width": 1
          },
          "size": 8,
          "symbol": "circle"
         },
         "mode": "markers",
         "name": "MKN1_STOMACH_TenPx14",
         "orientation": "v",
         "showlegend": true,
         "type": "scatter",
         "x": [
          0.31455887256989157
         ],
         "xaxis": "x",
         "y": [
          0.4524743915559653
         ],
         "yaxis": "y"
        },
        {
         "hovertemplate": "label=BICR22_UPPER_AERODIGESTIVE_TRACT_TenPx14<br>PC1=%{x}<br>PC2=%{y}<extra></extra>",
         "legendgroup": "BICR22_UPPER_AERODIGESTIVE_TRACT_TenPx14",
         "marker": {
          "color": "rgb(255,255,204)",
          "line": {
           "width": 1
          },
          "size": 8,
          "symbol": "circle"
         },
         "mode": "markers",
         "name": "BICR22_UPPER_AERODIGESTIVE_TRACT_TenPx14",
         "orientation": "v",
         "showlegend": true,
         "type": "scatter",
         "x": [
          -0.48661172293849686
         ],
         "xaxis": "x",
         "y": [
          -0.10255876102887791
         ],
         "yaxis": "y"
        },
        {
         "hovertemplate": "label=HCC1395_BREAST_TenPx15<br>PC1=%{x}<br>PC2=%{y}<extra></extra>",
         "legendgroup": "HCC1395_BREAST_TenPx15",
         "marker": {
          "color": "rgb(251,180,174)",
          "line": {
           "width": 1
          },
          "size": 8,
          "symbol": "circle"
         },
         "mode": "markers",
         "name": "HCC1395_BREAST_TenPx15",
         "orientation": "v",
         "showlegend": true,
         "type": "scatter",
         "x": [
          0.38145920538928285
         ],
         "xaxis": "x",
         "y": [
          0.13765676188682083
         ],
         "yaxis": "y"
        },
        {
         "hovertemplate": "label=SW1417_LARGE_INTESTINE_TenPx15<br>PC1=%{x}<br>PC2=%{y}<extra></extra>",
         "legendgroup": "SW1417_LARGE_INTESTINE_TenPx15",
         "marker": {
          "color": "rgb(242,242,242)",
          "line": {
           "width": 1
          },
          "size": 8,
          "symbol": "circle"
         },
         "mode": "markers",
         "name": "SW1417_LARGE_INTESTINE_TenPx15",
         "orientation": "v",
         "showlegend": true,
         "type": "scatter",
         "x": [
          -0.10411932445987818
         ],
         "xaxis": "x",
         "y": [
          -0.05421336034872449
         ],
         "yaxis": "y"
        },
        {
         "hovertemplate": "label=NCIH1435_LUNG_TenPx15<br>PC1=%{x}<br>PC2=%{y}<extra></extra>",
         "legendgroup": "NCIH1435_LUNG_TenPx15",
         "marker": {
          "color": "rgb(222,203,228)",
          "line": {
           "width": 1
          },
          "size": 8,
          "symbol": "circle"
         },
         "mode": "markers",
         "name": "NCIH1435_LUNG_TenPx15",
         "orientation": "v",
         "showlegend": true,
         "type": "scatter",
         "x": [
          0.22675327893452293
         ],
         "xaxis": "x",
         "y": [
          0.3516571758938317
         ],
         "yaxis": "y"
        },
        {
         "hovertemplate": "label=NCIH1568_LUNG_TenPx15<br>PC1=%{x}<br>PC2=%{y}<extra></extra>",
         "legendgroup": "NCIH1568_LUNG_TenPx15",
         "marker": {
          "color": "rgb(222,203,228)",
          "line": {
           "width": 1
          },
          "size": 8,
          "symbol": "circle"
         },
         "mode": "markers",
         "name": "NCIH1568_LUNG_TenPx15",
         "orientation": "v",
         "showlegend": true,
         "type": "scatter",
         "x": [
          0.02767990635404286
         ],
         "xaxis": "x",
         "y": [
          -0.08370418205598572
         ],
         "yaxis": "y"
        },
        {
         "hovertemplate": "label=NCIH1944_LUNG_TenPx15<br>PC1=%{x}<br>PC2=%{y}<extra></extra>",
         "legendgroup": "NCIH1944_LUNG_TenPx15",
         "marker": {
          "color": "rgb(222,203,228)",
          "line": {
           "width": 1
          },
          "size": 8,
          "symbol": "circle"
         },
         "mode": "markers",
         "name": "NCIH1944_LUNG_TenPx15",
         "orientation": "v",
         "showlegend": true,
         "type": "scatter",
         "x": [
          -0.1068772428892085
         ],
         "xaxis": "x",
         "y": [
          0.08455458040379467
         ],
         "yaxis": "y"
        },
        {
         "hovertemplate": "label=NCIH441_LUNG_TenPx15<br>PC1=%{x}<br>PC2=%{y}<extra></extra>",
         "legendgroup": "NCIH441_LUNG_TenPx15",
         "marker": {
          "color": "rgb(222,203,228)",
          "line": {
           "width": 1
          },
          "size": 8,
          "symbol": "circle"
         },
         "mode": "markers",
         "name": "NCIH441_LUNG_TenPx15",
         "orientation": "v",
         "showlegend": true,
         "type": "scatter",
         "x": [
          0.024918670153869962
         ],
         "xaxis": "x",
         "y": [
          0.4071580036564458
         ],
         "yaxis": "y"
        },
        {
         "hovertemplate": "label=KURAMOCHI_OVARY_TenPx15<br>PC1=%{x}<br>PC2=%{y}<extra></extra>",
         "legendgroup": "KURAMOCHI_OVARY_TenPx15",
         "marker": {
          "color": "black",
          "line": {
           "width": 1
          },
          "size": 8,
          "symbol": "circle"
         },
         "mode": "markers",
         "name": "KURAMOCHI_OVARY_TenPx15",
         "orientation": "v",
         "showlegend": true,
         "type": "scatter",
         "x": [
          -0.6149248895807506
         ],
         "xaxis": "x",
         "y": [
          -0.6054227017321051
         ],
         "yaxis": "y"
        },
        {
         "hovertemplate": "label=KATOIII_STOMACH_TenPx15<br>PC1=%{x}<br>PC2=%{y}<extra></extra>",
         "legendgroup": "KATOIII_STOMACH_TenPx15",
         "marker": {
          "color": "rgb(141,211,199)",
          "line": {
           "width": 1
          },
          "size": 8,
          "symbol": "circle"
         },
         "mode": "markers",
         "name": "KATOIII_STOMACH_TenPx15",
         "orientation": "v",
         "showlegend": true,
         "type": "scatter",
         "x": [
          0.2811069384695371
         ],
         "xaxis": "x",
         "y": [
          0.14115170205530303
         ],
         "yaxis": "y"
        },
        {
         "hovertemplate": "label=UBLC1_URINARY_TRACT_TenPx15<br>PC1=%{x}<br>PC2=%{y}<extra></extra>",
         "legendgroup": "UBLC1_URINARY_TRACT_TenPx15",
         "marker": {
          "color": "rgb(229,216,189)",
          "line": {
           "width": 1
          },
          "size": 8,
          "symbol": "circle"
         },
         "mode": "markers",
         "name": "UBLC1_URINARY_TRACT_TenPx15",
         "orientation": "v",
         "showlegend": true,
         "type": "scatter",
         "x": [
          -0.35743179894024674
         ],
         "xaxis": "x",
         "y": [
          -0.24830033964838394
         ],
         "yaxis": "y"
        },
        {
         "hovertemplate": "label=MFE319_ENDOMETRIUM_TenPx41<br>PC1=%{x}<br>PC2=%{y}<extra></extra>",
         "legendgroup": "MFE319_ENDOMETRIUM_TenPx41",
         "marker": {
          "color": "rgb(252,205,229)",
          "line": {
           "width": 1
          },
          "size": 8,
          "symbol": "circle"
         },
         "mode": "markers",
         "name": "MFE319_ENDOMETRIUM_TenPx41",
         "orientation": "v",
         "showlegend": true,
         "type": "scatter",
         "x": [
          -0.293700674771166
         ],
         "xaxis": "x",
         "y": [
          -0.4214664454092614
         ],
         "yaxis": "y"
        },
        {
         "hovertemplate": "label=HDMYZ_HAEMATOPOIETIC_AND_LYMPHOID_TISSUE_TenPx41<br>PC1=%{x}<br>PC2=%{y}<extra></extra>",
         "legendgroup": "HDMYZ_HAEMATOPOIETIC_AND_LYMPHOID_TISSUE_TenPx41",
         "marker": {
          "color": "rgb(253,180,98)",
          "line": {
           "width": 1
          },
          "size": 8,
          "symbol": "circle"
         },
         "mode": "markers",
         "name": "HDMYZ_HAEMATOPOIETIC_AND_LYMPHOID_TISSUE_TenPx41",
         "orientation": "v",
         "showlegend": true,
         "type": "scatter",
         "x": [
          0.4116270071716947
         ],
         "xaxis": "x",
         "y": [
          -0.1818520908998032
         ],
         "yaxis": "y"
        },
        {
         "hovertemplate": "label=HDQP1_BREAST_TenPx41<br>PC1=%{x}<br>PC2=%{y}<extra></extra>",
         "legendgroup": "HDQP1_BREAST_TenPx41",
         "marker": {
          "color": "rgb(251,180,174)",
          "line": {
           "width": 1
          },
          "size": 8,
          "symbol": "circle"
         },
         "mode": "markers",
         "name": "HDQP1_BREAST_TenPx41",
         "orientation": "v",
         "showlegend": true,
         "type": "scatter",
         "x": [
          -0.4111404722731942
         ],
         "xaxis": "x",
         "y": [
          -0.12506384699891077
         ],
         "yaxis": "y"
        },
        {
         "hovertemplate": "label=JHH6_LIVER_TenPx41<br>PC1=%{x}<br>PC2=%{y}<extra></extra>",
         "legendgroup": "JHH6_LIVER_TenPx41",
         "marker": {
          "color": "rgb(254,217,166)",
          "line": {
           "width": 1
          },
          "size": 8,
          "symbol": "circle"
         },
         "mode": "markers",
         "name": "JHH6_LIVER_TenPx41",
         "orientation": "v",
         "showlegend": true,
         "type": "scatter",
         "x": [
          -0.21033799000902884
         ],
         "xaxis": "x",
         "y": [
          0.1747460363270694
         ],
         "yaxis": "y"
        },
        {
         "hovertemplate": "label=L428_HAEMATOPOIETIC_AND_LYMPHOID_TISSUE_TenPx41<br>PC1=%{x}<br>PC2=%{y}<extra></extra>",
         "legendgroup": "L428_HAEMATOPOIETIC_AND_LYMPHOID_TISSUE_TenPx41",
         "marker": {
          "color": "rgb(253,180,98)",
          "line": {
           "width": 1
          },
          "size": 8,
          "symbol": "circle"
         },
         "mode": "markers",
         "name": "L428_HAEMATOPOIETIC_AND_LYMPHOID_TISSUE_TenPx41",
         "orientation": "v",
         "showlegend": true,
         "type": "scatter",
         "x": [
          0.6823828166151837
         ],
         "xaxis": "x",
         "y": [
          -0.31979680379314845
         ],
         "yaxis": "y"
        },
        {
         "hovertemplate": "label=LMSU_STOMACH_TenPx41<br>PC1=%{x}<br>PC2=%{y}<extra></extra>",
         "legendgroup": "LMSU_STOMACH_TenPx41",
         "marker": {
          "color": "rgb(141,211,199)",
          "line": {
           "width": 1
          },
          "size": 8,
          "symbol": "circle"
         },
         "mode": "markers",
         "name": "LMSU_STOMACH_TenPx41",
         "orientation": "v",
         "showlegend": true,
         "type": "scatter",
         "x": [
          0.0022258390434579
         ],
         "xaxis": "x",
         "y": [
          0.47302225873007403
         ],
         "yaxis": "y"
        },
        {
         "hovertemplate": "label=HUPT4_PANCREAS_TenPx41<br>PC1=%{x}<br>PC2=%{y}<extra></extra>",
         "legendgroup": "HUPT4_PANCREAS_TenPx41",
         "marker": {
          "color": "rgb(253,218,236)",
          "line": {
           "width": 1
          },
          "size": 8,
          "symbol": "circle"
         },
         "mode": "markers",
         "name": "HUPT4_PANCREAS_TenPx41",
         "orientation": "v",
         "showlegend": true,
         "type": "scatter",
         "x": [
          -0.22927592440395794
         ],
         "xaxis": "x",
         "y": [
          -0.05847186352522706
         ],
         "yaxis": "y"
        },
        {
         "hovertemplate": "label=SW1783_CENTRAL_NERVOUS_SYSTEM_TenPx41<br>PC1=%{x}<br>PC2=%{y}<extra></extra>",
         "legendgroup": "SW1783_CENTRAL_NERVOUS_SYSTEM_TenPx41",
         "marker": {
          "color": "rgb(179,222,105)",
          "line": {
           "width": 1
          },
          "size": 8,
          "symbol": "circle"
         },
         "mode": "markers",
         "name": "SW1783_CENTRAL_NERVOUS_SYSTEM_TenPx41",
         "orientation": "v",
         "showlegend": true,
         "type": "scatter",
         "x": [
          -0.1790659936830764
         ],
         "xaxis": "x",
         "y": [
          0.5834620412862953
         ],
         "yaxis": "y"
        },
        {
         "hovertemplate": "label=UMUC3_URINARY_TRACT_TenPx41<br>PC1=%{x}<br>PC2=%{y}<extra></extra>",
         "legendgroup": "UMUC3_URINARY_TRACT_TenPx41",
         "marker": {
          "color": "rgb(229,216,189)",
          "line": {
           "width": 1
          },
          "size": 8,
          "symbol": "circle"
         },
         "mode": "markers",
         "name": "UMUC3_URINARY_TRACT_TenPx41",
         "orientation": "v",
         "showlegend": true,
         "type": "scatter",
         "x": [
          0.2951960371310417
         ],
         "xaxis": "x",
         "y": [
          -0.24352230341951406
         ],
         "yaxis": "y"
        },
        {
         "hovertemplate": "label=G402_SOFT_TISSUE_TenPx26<br>PC1=%{x}<br>PC2=%{y}<extra></extra>",
         "legendgroup": "G402_SOFT_TISSUE_TenPx26",
         "marker": {
          "color": "rgb(128,177,211)",
          "line": {
           "width": 1
          },
          "size": 8,
          "symbol": "circle"
         },
         "mode": "markers",
         "name": "G402_SOFT_TISSUE_TenPx26",
         "orientation": "v",
         "showlegend": true,
         "type": "scatter",
         "x": [
          -0.17841154489330657
         ],
         "xaxis": "x",
         "y": [
          0.1796633603901589
         ],
         "yaxis": "y"
        },
        {
         "hovertemplate": "label=U118MG_CENTRAL_NERVOUS_SYSTEM_TenPx26<br>PC1=%{x}<br>PC2=%{y}<extra></extra>",
         "legendgroup": "U118MG_CENTRAL_NERVOUS_SYSTEM_TenPx26",
         "marker": {
          "color": "rgb(179,222,105)",
          "line": {
           "width": 1
          },
          "size": 8,
          "symbol": "circle"
         },
         "mode": "markers",
         "name": "U118MG_CENTRAL_NERVOUS_SYSTEM_TenPx26",
         "orientation": "v",
         "showlegend": true,
         "type": "scatter",
         "x": [
          -0.32933391379817983
         ],
         "xaxis": "x",
         "y": [
          0.3754729410817927
         ],
         "yaxis": "y"
        },
        {
         "hovertemplate": "label=KYSE150_OESOPHAGUS_TenPx26<br>PC1=%{x}<br>PC2=%{y}<extra></extra>",
         "legendgroup": "KYSE150_OESOPHAGUS_TenPx26",
         "marker": {
          "color": "rgb(255,255,179)",
          "line": {
           "width": 1
          },
          "size": 8,
          "symbol": "circle"
         },
         "mode": "markers",
         "name": "KYSE150_OESOPHAGUS_TenPx26",
         "orientation": "v",
         "showlegend": true,
         "type": "scatter",
         "x": [
          -0.027436685040087717
         ],
         "xaxis": "x",
         "y": [
          0.1875468447545441
         ],
         "yaxis": "y"
        },
        {
         "hovertemplate": "label=NCIH1155_LUNG_TenPx26<br>PC1=%{x}<br>PC2=%{y}<extra></extra>",
         "legendgroup": "NCIH1155_LUNG_TenPx26",
         "marker": {
          "color": "rgb(222,203,228)",
          "line": {
           "width": 1
          },
          "size": 8,
          "symbol": "circle"
         },
         "mode": "markers",
         "name": "NCIH1155_LUNG_TenPx26",
         "orientation": "v",
         "showlegend": true,
         "type": "scatter",
         "x": [
          0.3762167236533926
         ],
         "xaxis": "x",
         "y": [
          0.08243614546760011
         ],
         "yaxis": "y"
        },
        {
         "hovertemplate": "label=NCIN87_STOMACH_TenPx26<br>PC1=%{x}<br>PC2=%{y}<extra></extra>",
         "legendgroup": "NCIN87_STOMACH_TenPx26",
         "marker": {
          "color": "rgb(141,211,199)",
          "line": {
           "width": 1
          },
          "size": 8,
          "symbol": "circle"
         },
         "mode": "markers",
         "name": "NCIN87_STOMACH_TenPx26",
         "orientation": "v",
         "showlegend": true,
         "type": "scatter",
         "x": [
          -0.3706446225467979
         ],
         "xaxis": "x",
         "y": [
          -0.2647202179502702
         ],
         "yaxis": "y"
        },
        {
         "hovertemplate": "label=OPM2_HAEMATOPOIETIC_AND_LYMPHOID_TISSUE_TenPx26<br>PC1=%{x}<br>PC2=%{y}<extra></extra>",
         "legendgroup": "OPM2_HAEMATOPOIETIC_AND_LYMPHOID_TISSUE_TenPx26",
         "marker": {
          "color": "rgb(253,180,98)",
          "line": {
           "width": 1
          },
          "size": 8,
          "symbol": "circle"
         },
         "mode": "markers",
         "name": "OPM2_HAEMATOPOIETIC_AND_LYMPHOID_TISSUE_TenPx26",
         "orientation": "v",
         "showlegend": true,
         "type": "scatter",
         "x": [
          0.4257612765265827
         ],
         "xaxis": "x",
         "y": [
          -0.28635811433981934
         ],
         "yaxis": "y"
        },
        {
         "hovertemplate": "label=PL45_PANCREAS_TenPx26<br>PC1=%{x}<br>PC2=%{y}<extra></extra>",
         "legendgroup": "PL45_PANCREAS_TenPx26",
         "marker": {
          "color": "rgb(253,218,236)",
          "line": {
           "width": 1
          },
          "size": 8,
          "symbol": "circle"
         },
         "mode": "markers",
         "name": "PL45_PANCREAS_TenPx26",
         "orientation": "v",
         "showlegend": true,
         "type": "scatter",
         "x": [
          -0.03535751913657495
         ],
         "xaxis": "x",
         "y": [
          0.2575606496598019
         ],
         "yaxis": "y"
        },
        {
         "hovertemplate": "label=SKCO1_LARGE_INTESTINE_TenPx26<br>PC1=%{x}<br>PC2=%{y}<extra></extra>",
         "legendgroup": "SKCO1_LARGE_INTESTINE_TenPx26",
         "marker": {
          "color": "rgb(242,242,242)",
          "line": {
           "width": 1
          },
          "size": 8,
          "symbol": "circle"
         },
         "mode": "markers",
         "name": "SKCO1_LARGE_INTESTINE_TenPx26",
         "orientation": "v",
         "showlegend": true,
         "type": "scatter",
         "x": [
          -0.3594722856589908
         ],
         "xaxis": "x",
         "y": [
          0.0928610925796823
         ],
         "yaxis": "y"
        },
        {
         "hovertemplate": "label=SUDHL4_HAEMATOPOIETIC_AND_LYMPHOID_TISSUE_TenPx26<br>PC1=%{x}<br>PC2=%{y}<extra></extra>",
         "legendgroup": "SUDHL4_HAEMATOPOIETIC_AND_LYMPHOID_TISSUE_TenPx26",
         "marker": {
          "color": "rgb(253,180,98)",
          "line": {
           "width": 1
          },
          "size": 8,
          "symbol": "circle"
         },
         "mode": "markers",
         "name": "SUDHL4_HAEMATOPOIETIC_AND_LYMPHOID_TISSUE_TenPx26",
         "orientation": "v",
         "showlegend": true,
         "type": "scatter",
         "x": [
          0.6598007402319457
         ],
         "xaxis": "x",
         "y": [
          -0.48709196591533116
         ],
         "yaxis": "y"
        },
        {
         "hovertemplate": "label=769P_KIDNEY_TenPx25<br>PC1=%{x}<br>PC2=%{y}<extra></extra>",
         "legendgroup": "769P_KIDNEY_TenPx25",
         "marker": {
          "color": "rgb(204,235,197)",
          "line": {
           "width": 1
          },
          "size": 8,
          "symbol": "circle"
         },
         "mode": "markers",
         "name": "769P_KIDNEY_TenPx25",
         "orientation": "v",
         "showlegend": true,
         "type": "scatter",
         "x": [
          -0.09433283375969699
         ],
         "xaxis": "x",
         "y": [
          0.3100771827250514
         ],
         "yaxis": "y"
        },
        {
         "hovertemplate": "label=C32_SKIN_TenPx25<br>PC1=%{x}<br>PC2=%{y}<extra></extra>",
         "legendgroup": "C32_SKIN_TenPx25",
         "marker": {
          "color": "rgb(179,205,227)",
          "line": {
           "width": 1
          },
          "size": 8,
          "symbol": "circle"
         },
         "mode": "markers",
         "name": "C32_SKIN_TenPx25",
         "orientation": "v",
         "showlegend": true,
         "type": "scatter",
         "x": [
          0.1783458819955845
         ],
         "xaxis": "x",
         "y": [
          0.20752981276642263
         ],
         "yaxis": "y"
        },
        {
         "hovertemplate": "label=HEC59_ENDOMETRIUM_TenPx25<br>PC1=%{x}<br>PC2=%{y}<extra></extra>",
         "legendgroup": "HEC59_ENDOMETRIUM_TenPx25",
         "marker": {
          "color": "rgb(252,205,229)",
          "line": {
           "width": 1
          },
          "size": 8,
          "symbol": "circle"
         },
         "mode": "markers",
         "name": "HEC59_ENDOMETRIUM_TenPx25",
         "orientation": "v",
         "showlegend": true,
         "type": "scatter",
         "x": [
          0.06670546740649878
         ],
         "xaxis": "x",
         "y": [
          -0.2561355627566809
         ],
         "yaxis": "y"
        },
        {
         "hovertemplate": "label=K562_HAEMATOPOIETIC_AND_LYMPHOID_TISSUE_TenPx25<br>PC1=%{x}<br>PC2=%{y}<extra></extra>",
         "legendgroup": "K562_HAEMATOPOIETIC_AND_LYMPHOID_TISSUE_TenPx25",
         "marker": {
          "color": "rgb(253,180,98)",
          "line": {
           "width": 1
          },
          "size": 8,
          "symbol": "circle"
         },
         "mode": "markers",
         "name": "K562_HAEMATOPOIETIC_AND_LYMPHOID_TISSUE_TenPx25",
         "orientation": "v",
         "showlegend": true,
         "type": "scatter",
         "x": [
          0.21293377546997197
         ],
         "xaxis": "x",
         "y": [
          0.16494748001879098
         ],
         "yaxis": "y"
        },
        {
         "hovertemplate": "label=NUGC3_STOMACH_TenPx25<br>PC1=%{x}<br>PC2=%{y}<extra></extra>",
         "legendgroup": "NUGC3_STOMACH_TenPx25",
         "marker": {
          "color": "rgb(141,211,199)",
          "line": {
           "width": 1
          },
          "size": 8,
          "symbol": "circle"
         },
         "mode": "markers",
         "name": "NUGC3_STOMACH_TenPx25",
         "orientation": "v",
         "showlegend": true,
         "type": "scatter",
         "x": [
          -0.4304714262203072
         ],
         "xaxis": "x",
         "y": [
          0.008767774595028902
         ],
         "yaxis": "y"
        },
        {
         "hovertemplate": "label=RD_SOFT_TISSUE_TenPx25<br>PC1=%{x}<br>PC2=%{y}<extra></extra>",
         "legendgroup": "RD_SOFT_TISSUE_TenPx25",
         "marker": {
          "color": "rgb(128,177,211)",
          "line": {
           "width": 1
          },
          "size": 8,
          "symbol": "circle"
         },
         "mode": "markers",
         "name": "RD_SOFT_TISSUE_TenPx25",
         "orientation": "v",
         "showlegend": true,
         "type": "scatter",
         "x": [
          -0.36650756080408914
         ],
         "xaxis": "x",
         "y": [
          0.14535754659824265
         ],
         "yaxis": "y"
        },
        {
         "hovertemplate": "label=SEM_HAEMATOPOIETIC_AND_LYMPHOID_TISSUE_TenPx25<br>PC1=%{x}<br>PC2=%{y}<extra></extra>",
         "legendgroup": "SEM_HAEMATOPOIETIC_AND_LYMPHOID_TISSUE_TenPx25",
         "marker": {
          "color": "rgb(253,180,98)",
          "line": {
           "width": 1
          },
          "size": 8,
          "symbol": "circle"
         },
         "mode": "markers",
         "name": "SEM_HAEMATOPOIETIC_AND_LYMPHOID_TISSUE_TenPx25",
         "orientation": "v",
         "showlegend": true,
         "type": "scatter",
         "x": [
          0.4974231323468908
         ],
         "xaxis": "x",
         "y": [
          -0.3471266251055191
         ],
         "yaxis": "y"
        },
        {
         "hovertemplate": "label=SHP77_LUNG_TenPx25<br>PC1=%{x}<br>PC2=%{y}<extra></extra>",
         "legendgroup": "SHP77_LUNG_TenPx25",
         "marker": {
          "color": "rgb(222,203,228)",
          "line": {
           "width": 1
          },
          "size": 8,
          "symbol": "circle"
         },
         "mode": "markers",
         "name": "SHP77_LUNG_TenPx25",
         "orientation": "v",
         "showlegend": true,
         "type": "scatter",
         "x": [
          0.02183611610515366
         ],
         "xaxis": "x",
         "y": [
          0.25654342503616623
         ],
         "yaxis": "y"
        },
        {
         "hovertemplate": "label=TC71_BONE_TenPx25<br>PC1=%{x}<br>PC2=%{y}<extra></extra>",
         "legendgroup": "TC71_BONE_TenPx25",
         "marker": {
          "color": "rgb(251,128,114)",
          "line": {
           "width": 1
          },
          "size": 8,
          "symbol": "circle"
         },
         "mode": "markers",
         "name": "TC71_BONE_TenPx25",
         "orientation": "v",
         "showlegend": true,
         "type": "scatter",
         "x": [
          0.08838435836183733
         ],
         "xaxis": "x",
         "y": [
          -0.40116421497067917
         ],
         "yaxis": "y"
        },
        {
         "hovertemplate": "label=HCC1937_BREAST_TenPx18<br>PC1=%{x}<br>PC2=%{y}<extra></extra>",
         "legendgroup": "HCC1937_BREAST_TenPx18",
         "marker": {
          "color": "rgb(251,180,174)",
          "line": {
           "width": 1
          },
          "size": 8,
          "symbol": "circle"
         },
         "mode": "markers",
         "name": "HCC1937_BREAST_TenPx18",
         "orientation": "v",
         "showlegend": true,
         "type": "scatter",
         "x": [
          -0.2520195238785718
         ],
         "xaxis": "x",
         "y": [
          -0.41106259936620554
         ],
         "yaxis": "y"
        },
        {
         "hovertemplate": "label=HCT15_LARGE_INTESTINE_TenPx18<br>PC1=%{x}<br>PC2=%{y}<extra></extra>",
         "legendgroup": "HCT15_LARGE_INTESTINE_TenPx18",
         "marker": {
          "color": "rgb(242,242,242)",
          "line": {
           "width": 1
          },
          "size": 8,
          "symbol": "circle"
         },
         "mode": "markers",
         "name": "HCT15_LARGE_INTESTINE_TenPx18",
         "orientation": "v",
         "showlegend": true,
         "type": "scatter",
         "x": [
          0.2429585475712011
         ],
         "xaxis": "x",
         "y": [
          0.09552150724549863
         ],
         "yaxis": "y"
        },
        {
         "hovertemplate": "label=KYSE70_OESOPHAGUS_TenPx18<br>PC1=%{x}<br>PC2=%{y}<extra></extra>",
         "legendgroup": "KYSE70_OESOPHAGUS_TenPx18",
         "marker": {
          "color": "rgb(255,255,179)",
          "line": {
           "width": 1
          },
          "size": 8,
          "symbol": "circle"
         },
         "mode": "markers",
         "name": "KYSE70_OESOPHAGUS_TenPx18",
         "orientation": "v",
         "showlegend": true,
         "type": "scatter",
         "x": [
          -0.14488763160076173
         ],
         "xaxis": "x",
         "y": [
          -0.8369364512405192
         ],
         "yaxis": "y"
        },
        {
         "hovertemplate": "label=NCIH1355_LUNG_TenPx18<br>PC1=%{x}<br>PC2=%{y}<extra></extra>",
         "legendgroup": "NCIH1355_LUNG_TenPx18",
         "marker": {
          "color": "rgb(222,203,228)",
          "line": {
           "width": 1
          },
          "size": 8,
          "symbol": "circle"
         },
         "mode": "markers",
         "name": "NCIH1355_LUNG_TenPx18",
         "orientation": "v",
         "showlegend": true,
         "type": "scatter",
         "x": [
          -0.08107494957148899
         ],
         "xaxis": "x",
         "y": [
          0.4125678737049702
         ],
         "yaxis": "y"
        },
        {
         "hovertemplate": "label=NCIH1437_LUNG_TenPx18<br>PC1=%{x}<br>PC2=%{y}<extra></extra>",
         "legendgroup": "NCIH1437_LUNG_TenPx18",
         "marker": {
          "color": "rgb(222,203,228)",
          "line": {
           "width": 1
          },
          "size": 8,
          "symbol": "circle"
         },
         "mode": "markers",
         "name": "NCIH1437_LUNG_TenPx18",
         "orientation": "v",
         "showlegend": true,
         "type": "scatter",
         "x": [
          -0.5147791303295789
         ],
         "xaxis": "x",
         "y": [
          -0.1558520467985216
         ],
         "yaxis": "y"
        },
        {
         "hovertemplate": "label=NCIH2122_LUNG_TenPx18<br>PC1=%{x}<br>PC2=%{y}<extra></extra>",
         "legendgroup": "NCIH2122_LUNG_TenPx18",
         "marker": {
          "color": "rgb(222,203,228)",
          "line": {
           "width": 1
          },
          "size": 8,
          "symbol": "circle"
         },
         "mode": "markers",
         "name": "NCIH2122_LUNG_TenPx18",
         "orientation": "v",
         "showlegend": true,
         "type": "scatter",
         "x": [
          0.19943118871433882
         ],
         "xaxis": "x",
         "y": [
          0.048426158589962576
         ],
         "yaxis": "y"
        },
        {
         "hovertemplate": "label=TUHR4TKB_KIDNEY_TenPx18<br>PC1=%{x}<br>PC2=%{y}<extra></extra>",
         "legendgroup": "TUHR4TKB_KIDNEY_TenPx18",
         "marker": {
          "color": "rgb(204,235,197)",
          "line": {
           "width": 1
          },
          "size": 8,
          "symbol": "circle"
         },
         "mode": "markers",
         "name": "TUHR4TKB_KIDNEY_TenPx18",
         "orientation": "v",
         "showlegend": true,
         "type": "scatter",
         "x": [
          0.2832229597099909
         ],
         "xaxis": "x",
         "y": [
          0.4403889834960698
         ],
         "yaxis": "y"
        },
        {
         "hovertemplate": "label=WM793_SKIN_TenPx18<br>PC1=%{x}<br>PC2=%{y}<extra></extra>",
         "legendgroup": "WM793_SKIN_TenPx18",
         "marker": {
          "color": "rgb(179,205,227)",
          "line": {
           "width": 1
          },
          "size": 8,
          "symbol": "circle"
         },
         "mode": "markers",
         "name": "WM793_SKIN_TenPx18",
         "orientation": "v",
         "showlegend": true,
         "type": "scatter",
         "x": [
          0.007156662090189086
         ],
         "xaxis": "x",
         "y": [
          0.44080671407685706
         ],
         "yaxis": "y"
        },
        {
         "hovertemplate": "label=NCIH2030_LUNG_TenPx18<br>PC1=%{x}<br>PC2=%{y}<extra></extra>",
         "legendgroup": "NCIH2030_LUNG_TenPx18",
         "marker": {
          "color": "rgb(222,203,228)",
          "line": {
           "width": 1
          },
          "size": 8,
          "symbol": "circle"
         },
         "mode": "markers",
         "name": "NCIH2030_LUNG_TenPx18",
         "orientation": "v",
         "showlegend": true,
         "type": "scatter",
         "x": [
          0.06868573871951687
         ],
         "xaxis": "x",
         "y": [
          -0.03576581773026856
         ],
         "yaxis": "y"
        },
        {
         "hovertemplate": "label=22RV1_PROSTATE_TenPx24<br>PC1=%{x}<br>PC2=%{y}<extra></extra>",
         "legendgroup": "22RV1_PROSTATE_TenPx24",
         "marker": {
          "color": "rgb(190,186,218)",
          "line": {
           "width": 1
          },
          "size": 8,
          "symbol": "circle"
         },
         "mode": "markers",
         "name": "22RV1_PROSTATE_TenPx24",
         "orientation": "v",
         "showlegend": true,
         "type": "scatter",
         "x": [
          -0.26251882728194753
         ],
         "xaxis": "x",
         "y": [
          -0.6125238008211373
         ],
         "yaxis": "y"
        },
        {
         "hovertemplate": "label=A172_CENTRAL_NERVOUS_SYSTEM_TenPx24<br>PC1=%{x}<br>PC2=%{y}<extra></extra>",
         "legendgroup": "A172_CENTRAL_NERVOUS_SYSTEM_TenPx24",
         "marker": {
          "color": "rgb(179,222,105)",
          "line": {
           "width": 1
          },
          "size": 8,
          "symbol": "circle"
         },
         "mode": "markers",
         "name": "A172_CENTRAL_NERVOUS_SYSTEM_TenPx24",
         "orientation": "v",
         "showlegend": true,
         "type": "scatter",
         "x": [
          -0.022304667079160977
         ],
         "xaxis": "x",
         "y": [
          0.5643178910398382
         ],
         "yaxis": "y"
        },
        {
         "hovertemplate": "label=BT20_BREAST_TenPx24<br>PC1=%{x}<br>PC2=%{y}<extra></extra>",
         "legendgroup": "BT20_BREAST_TenPx24",
         "marker": {
          "color": "rgb(251,180,174)",
          "line": {
           "width": 1
          },
          "size": 8,
          "symbol": "circle"
         },
         "mode": "markers",
         "name": "BT20_BREAST_TenPx24",
         "orientation": "v",
         "showlegend": true,
         "type": "scatter",
         "x": [
          -0.12360269471469822
         ],
         "xaxis": "x",
         "y": [
          0.3862816283219232
         ],
         "yaxis": "y"
        },
        {
         "hovertemplate": "label=CALU6_LUNG_TenPx24<br>PC1=%{x}<br>PC2=%{y}<extra></extra>",
         "legendgroup": "CALU6_LUNG_TenPx24",
         "marker": {
          "color": "rgb(222,203,228)",
          "line": {
           "width": 1
          },
          "size": 8,
          "symbol": "circle"
         },
         "mode": "markers",
         "name": "CALU6_LUNG_TenPx24",
         "orientation": "v",
         "showlegend": true,
         "type": "scatter",
         "x": [
          0.002847044188324629
         ],
         "xaxis": "x",
         "y": [
          -0.24277965518482567
         ],
         "yaxis": "y"
        },
        {
         "hovertemplate": "label=FADU_UPPER_AERODIGESTIVE_TRACT_TenPx24<br>PC1=%{x}<br>PC2=%{y}<extra></extra>",
         "legendgroup": "FADU_UPPER_AERODIGESTIVE_TRACT_TenPx24",
         "marker": {
          "color": "rgb(255,255,204)",
          "line": {
           "width": 1
          },
          "size": 8,
          "symbol": "circle"
         },
         "mode": "markers",
         "name": "FADU_UPPER_AERODIGESTIVE_TRACT_TenPx24",
         "orientation": "v",
         "showlegend": true,
         "type": "scatter",
         "x": [
          0.12813174361281598
         ],
         "xaxis": "x",
         "y": [
          -0.5387429280858285
         ],
         "yaxis": "y"
        },
        {
         "hovertemplate": "label=KP4_PANCREAS_TenPx24<br>PC1=%{x}<br>PC2=%{y}<extra></extra>",
         "legendgroup": "KP4_PANCREAS_TenPx24",
         "marker": {
          "color": "rgb(253,218,236)",
          "line": {
           "width": 1
          },
          "size": 8,
          "symbol": "circle"
         },
         "mode": "markers",
         "name": "KP4_PANCREAS_TenPx24",
         "orientation": "v",
         "showlegend": true,
         "type": "scatter",
         "x": [
          0.16905001864342087
         ],
         "xaxis": "x",
         "y": [
          -0.50697215977765
         ],
         "yaxis": "y"
        },
        {
         "hovertemplate": "label=MONOMAC6_HAEMATOPOIETIC_AND_LYMPHOID_TISSUE_TenPx24<br>PC1=%{x}<br>PC2=%{y}<extra></extra>",
         "legendgroup": "MONOMAC6_HAEMATOPOIETIC_AND_LYMPHOID_TISSUE_TenPx24",
         "marker": {
          "color": "rgb(253,180,98)",
          "line": {
           "width": 1
          },
          "size": 8,
          "symbol": "circle"
         },
         "mode": "markers",
         "name": "MONOMAC6_HAEMATOPOIETIC_AND_LYMPHOID_TISSUE_TenPx24",
         "orientation": "v",
         "showlegend": true,
         "type": "scatter",
         "x": [
          0.10832702428781829
         ],
         "xaxis": "x",
         "y": [
          0.27354398259107066
         ],
         "yaxis": "y"
        },
        {
         "hovertemplate": "label=OVCAR8_OVARY_TenPx24<br>PC1=%{x}<br>PC2=%{y}<extra></extra>",
         "legendgroup": "OVCAR8_OVARY_TenPx24",
         "marker": {
          "color": "black",
          "line": {
           "width": 1
          },
          "size": 8,
          "symbol": "circle"
         },
         "mode": "markers",
         "name": "OVCAR8_OVARY_TenPx24",
         "orientation": "v",
         "showlegend": true,
         "type": "scatter",
         "x": [
          0.2286581455282097
         ],
         "xaxis": "x",
         "y": [
          0.05863780462539036
         ],
         "yaxis": "y"
        },
        {
         "hovertemplate": "label=THP1_HAEMATOPOIETIC_AND_LYMPHOID_TISSUE_TenPx24<br>PC1=%{x}<br>PC2=%{y}<extra></extra>",
         "legendgroup": "THP1_HAEMATOPOIETIC_AND_LYMPHOID_TISSUE_TenPx24",
         "marker": {
          "color": "rgb(253,180,98)",
          "line": {
           "width": 1
          },
          "size": 8,
          "symbol": "circle"
         },
         "mode": "markers",
         "name": "THP1_HAEMATOPOIETIC_AND_LYMPHOID_TISSUE_TenPx24",
         "orientation": "v",
         "showlegend": true,
         "type": "scatter",
         "x": [
          0.25494469571193734
         ],
         "xaxis": "x",
         "y": [
          0.1603579535017408
         ],
         "yaxis": "y"
        }
       ],
       "layout": {
        "legend": {
         "title": {
          "text": "label"
         },
         "tracegroupgap": 0
        },
        "template": {
         "data": {
          "bar": [
           {
            "error_x": {
             "color": "#2a3f5f"
            },
            "error_y": {
             "color": "#2a3f5f"
            },
            "marker": {
             "line": {
              "color": "#E5ECF6",
              "width": 0.5
             },
             "pattern": {
              "fillmode": "overlay",
              "size": 10,
              "solidity": 0.2
             }
            },
            "type": "bar"
           }
          ],
          "barpolar": [
           {
            "marker": {
             "line": {
              "color": "#E5ECF6",
              "width": 0.5
             },
             "pattern": {
              "fillmode": "overlay",
              "size": 10,
              "solidity": 0.2
             }
            },
            "type": "barpolar"
           }
          ],
          "carpet": [
           {
            "aaxis": {
             "endlinecolor": "#2a3f5f",
             "gridcolor": "white",
             "linecolor": "white",
             "minorgridcolor": "white",
             "startlinecolor": "#2a3f5f"
            },
            "baxis": {
             "endlinecolor": "#2a3f5f",
             "gridcolor": "white",
             "linecolor": "white",
             "minorgridcolor": "white",
             "startlinecolor": "#2a3f5f"
            },
            "type": "carpet"
           }
          ],
          "choropleth": [
           {
            "colorbar": {
             "outlinewidth": 0,
             "ticks": ""
            },
            "type": "choropleth"
           }
          ],
          "contour": [
           {
            "colorbar": {
             "outlinewidth": 0,
             "ticks": ""
            },
            "colorscale": [
             [
              0,
              "#0d0887"
             ],
             [
              0.1111111111111111,
              "#46039f"
             ],
             [
              0.2222222222222222,
              "#7201a8"
             ],
             [
              0.3333333333333333,
              "#9c179e"
             ],
             [
              0.4444444444444444,
              "#bd3786"
             ],
             [
              0.5555555555555556,
              "#d8576b"
             ],
             [
              0.6666666666666666,
              "#ed7953"
             ],
             [
              0.7777777777777778,
              "#fb9f3a"
             ],
             [
              0.8888888888888888,
              "#fdca26"
             ],
             [
              1,
              "#f0f921"
             ]
            ],
            "type": "contour"
           }
          ],
          "contourcarpet": [
           {
            "colorbar": {
             "outlinewidth": 0,
             "ticks": ""
            },
            "type": "contourcarpet"
           }
          ],
          "heatmap": [
           {
            "colorbar": {
             "outlinewidth": 0,
             "ticks": ""
            },
            "colorscale": [
             [
              0,
              "#0d0887"
             ],
             [
              0.1111111111111111,
              "#46039f"
             ],
             [
              0.2222222222222222,
              "#7201a8"
             ],
             [
              0.3333333333333333,
              "#9c179e"
             ],
             [
              0.4444444444444444,
              "#bd3786"
             ],
             [
              0.5555555555555556,
              "#d8576b"
             ],
             [
              0.6666666666666666,
              "#ed7953"
             ],
             [
              0.7777777777777778,
              "#fb9f3a"
             ],
             [
              0.8888888888888888,
              "#fdca26"
             ],
             [
              1,
              "#f0f921"
             ]
            ],
            "type": "heatmap"
           }
          ],
          "heatmapgl": [
           {
            "colorbar": {
             "outlinewidth": 0,
             "ticks": ""
            },
            "colorscale": [
             [
              0,
              "#0d0887"
             ],
             [
              0.1111111111111111,
              "#46039f"
             ],
             [
              0.2222222222222222,
              "#7201a8"
             ],
             [
              0.3333333333333333,
              "#9c179e"
             ],
             [
              0.4444444444444444,
              "#bd3786"
             ],
             [
              0.5555555555555556,
              "#d8576b"
             ],
             [
              0.6666666666666666,
              "#ed7953"
             ],
             [
              0.7777777777777778,
              "#fb9f3a"
             ],
             [
              0.8888888888888888,
              "#fdca26"
             ],
             [
              1,
              "#f0f921"
             ]
            ],
            "type": "heatmapgl"
           }
          ],
          "histogram": [
           {
            "marker": {
             "pattern": {
              "fillmode": "overlay",
              "size": 10,
              "solidity": 0.2
             }
            },
            "type": "histogram"
           }
          ],
          "histogram2d": [
           {
            "colorbar": {
             "outlinewidth": 0,
             "ticks": ""
            },
            "colorscale": [
             [
              0,
              "#0d0887"
             ],
             [
              0.1111111111111111,
              "#46039f"
             ],
             [
              0.2222222222222222,
              "#7201a8"
             ],
             [
              0.3333333333333333,
              "#9c179e"
             ],
             [
              0.4444444444444444,
              "#bd3786"
             ],
             [
              0.5555555555555556,
              "#d8576b"
             ],
             [
              0.6666666666666666,
              "#ed7953"
             ],
             [
              0.7777777777777778,
              "#fb9f3a"
             ],
             [
              0.8888888888888888,
              "#fdca26"
             ],
             [
              1,
              "#f0f921"
             ]
            ],
            "type": "histogram2d"
           }
          ],
          "histogram2dcontour": [
           {
            "colorbar": {
             "outlinewidth": 0,
             "ticks": ""
            },
            "colorscale": [
             [
              0,
              "#0d0887"
             ],
             [
              0.1111111111111111,
              "#46039f"
             ],
             [
              0.2222222222222222,
              "#7201a8"
             ],
             [
              0.3333333333333333,
              "#9c179e"
             ],
             [
              0.4444444444444444,
              "#bd3786"
             ],
             [
              0.5555555555555556,
              "#d8576b"
             ],
             [
              0.6666666666666666,
              "#ed7953"
             ],
             [
              0.7777777777777778,
              "#fb9f3a"
             ],
             [
              0.8888888888888888,
              "#fdca26"
             ],
             [
              1,
              "#f0f921"
             ]
            ],
            "type": "histogram2dcontour"
           }
          ],
          "mesh3d": [
           {
            "colorbar": {
             "outlinewidth": 0,
             "ticks": ""
            },
            "type": "mesh3d"
           }
          ],
          "parcoords": [
           {
            "line": {
             "colorbar": {
              "outlinewidth": 0,
              "ticks": ""
             }
            },
            "type": "parcoords"
           }
          ],
          "pie": [
           {
            "automargin": true,
            "type": "pie"
           }
          ],
          "scatter": [
           {
            "fillpattern": {
             "fillmode": "overlay",
             "size": 10,
             "solidity": 0.2
            },
            "type": "scatter"
           }
          ],
          "scatter3d": [
           {
            "line": {
             "colorbar": {
              "outlinewidth": 0,
              "ticks": ""
             }
            },
            "marker": {
             "colorbar": {
              "outlinewidth": 0,
              "ticks": ""
             }
            },
            "type": "scatter3d"
           }
          ],
          "scattercarpet": [
           {
            "marker": {
             "colorbar": {
              "outlinewidth": 0,
              "ticks": ""
             }
            },
            "type": "scattercarpet"
           }
          ],
          "scattergeo": [
           {
            "marker": {
             "colorbar": {
              "outlinewidth": 0,
              "ticks": ""
             }
            },
            "type": "scattergeo"
           }
          ],
          "scattergl": [
           {
            "marker": {
             "colorbar": {
              "outlinewidth": 0,
              "ticks": ""
             }
            },
            "type": "scattergl"
           }
          ],
          "scattermapbox": [
           {
            "marker": {
             "colorbar": {
              "outlinewidth": 0,
              "ticks": ""
             }
            },
            "type": "scattermapbox"
           }
          ],
          "scatterpolar": [
           {
            "marker": {
             "colorbar": {
              "outlinewidth": 0,
              "ticks": ""
             }
            },
            "type": "scatterpolar"
           }
          ],
          "scatterpolargl": [
           {
            "marker": {
             "colorbar": {
              "outlinewidth": 0,
              "ticks": ""
             }
            },
            "type": "scatterpolargl"
           }
          ],
          "scatterternary": [
           {
            "marker": {
             "colorbar": {
              "outlinewidth": 0,
              "ticks": ""
             }
            },
            "type": "scatterternary"
           }
          ],
          "surface": [
           {
            "colorbar": {
             "outlinewidth": 0,
             "ticks": ""
            },
            "colorscale": [
             [
              0,
              "#0d0887"
             ],
             [
              0.1111111111111111,
              "#46039f"
             ],
             [
              0.2222222222222222,
              "#7201a8"
             ],
             [
              0.3333333333333333,
              "#9c179e"
             ],
             [
              0.4444444444444444,
              "#bd3786"
             ],
             [
              0.5555555555555556,
              "#d8576b"
             ],
             [
              0.6666666666666666,
              "#ed7953"
             ],
             [
              0.7777777777777778,
              "#fb9f3a"
             ],
             [
              0.8888888888888888,
              "#fdca26"
             ],
             [
              1,
              "#f0f921"
             ]
            ],
            "type": "surface"
           }
          ],
          "table": [
           {
            "cells": {
             "fill": {
              "color": "#EBF0F8"
             },
             "line": {
              "color": "white"
             }
            },
            "header": {
             "fill": {
              "color": "#C8D4E3"
             },
             "line": {
              "color": "white"
             }
            },
            "type": "table"
           }
          ]
         },
         "layout": {
          "annotationdefaults": {
           "arrowcolor": "#2a3f5f",
           "arrowhead": 0,
           "arrowwidth": 1
          },
          "autotypenumbers": "strict",
          "coloraxis": {
           "colorbar": {
            "outlinewidth": 0,
            "ticks": ""
           }
          },
          "colorscale": {
           "diverging": [
            [
             0,
             "#8e0152"
            ],
            [
             0.1,
             "#c51b7d"
            ],
            [
             0.2,
             "#de77ae"
            ],
            [
             0.3,
             "#f1b6da"
            ],
            [
             0.4,
             "#fde0ef"
            ],
            [
             0.5,
             "#f7f7f7"
            ],
            [
             0.6,
             "#e6f5d0"
            ],
            [
             0.7,
             "#b8e186"
            ],
            [
             0.8,
             "#7fbc41"
            ],
            [
             0.9,
             "#4d9221"
            ],
            [
             1,
             "#276419"
            ]
           ],
           "sequential": [
            [
             0,
             "#0d0887"
            ],
            [
             0.1111111111111111,
             "#46039f"
            ],
            [
             0.2222222222222222,
             "#7201a8"
            ],
            [
             0.3333333333333333,
             "#9c179e"
            ],
            [
             0.4444444444444444,
             "#bd3786"
            ],
            [
             0.5555555555555556,
             "#d8576b"
            ],
            [
             0.6666666666666666,
             "#ed7953"
            ],
            [
             0.7777777777777778,
             "#fb9f3a"
            ],
            [
             0.8888888888888888,
             "#fdca26"
            ],
            [
             1,
             "#f0f921"
            ]
           ],
           "sequentialminus": [
            [
             0,
             "#0d0887"
            ],
            [
             0.1111111111111111,
             "#46039f"
            ],
            [
             0.2222222222222222,
             "#7201a8"
            ],
            [
             0.3333333333333333,
             "#9c179e"
            ],
            [
             0.4444444444444444,
             "#bd3786"
            ],
            [
             0.5555555555555556,
             "#d8576b"
            ],
            [
             0.6666666666666666,
             "#ed7953"
            ],
            [
             0.7777777777777778,
             "#fb9f3a"
            ],
            [
             0.8888888888888888,
             "#fdca26"
            ],
            [
             1,
             "#f0f921"
            ]
           ]
          },
          "colorway": [
           "#636efa",
           "#EF553B",
           "#00cc96",
           "#ab63fa",
           "#FFA15A",
           "#19d3f3",
           "#FF6692",
           "#B6E880",
           "#FF97FF",
           "#FECB52"
          ],
          "font": {
           "color": "#2a3f5f"
          },
          "geo": {
           "bgcolor": "white",
           "lakecolor": "white",
           "landcolor": "#E5ECF6",
           "showlakes": true,
           "showland": true,
           "subunitcolor": "white"
          },
          "hoverlabel": {
           "align": "left"
          },
          "hovermode": "closest",
          "mapbox": {
           "style": "light"
          },
          "paper_bgcolor": "white",
          "plot_bgcolor": "#E5ECF6",
          "polar": {
           "angularaxis": {
            "gridcolor": "white",
            "linecolor": "white",
            "ticks": ""
           },
           "bgcolor": "#E5ECF6",
           "radialaxis": {
            "gridcolor": "white",
            "linecolor": "white",
            "ticks": ""
           }
          },
          "scene": {
           "xaxis": {
            "backgroundcolor": "#E5ECF6",
            "gridcolor": "white",
            "gridwidth": 2,
            "linecolor": "white",
            "showbackground": true,
            "ticks": "",
            "zerolinecolor": "white"
           },
           "yaxis": {
            "backgroundcolor": "#E5ECF6",
            "gridcolor": "white",
            "gridwidth": 2,
            "linecolor": "white",
            "showbackground": true,
            "ticks": "",
            "zerolinecolor": "white"
           },
           "zaxis": {
            "backgroundcolor": "#E5ECF6",
            "gridcolor": "white",
            "gridwidth": 2,
            "linecolor": "white",
            "showbackground": true,
            "ticks": "",
            "zerolinecolor": "white"
           }
          },
          "shapedefaults": {
           "line": {
            "color": "#2a3f5f"
           }
          },
          "ternary": {
           "aaxis": {
            "gridcolor": "white",
            "linecolor": "white",
            "ticks": ""
           },
           "baxis": {
            "gridcolor": "white",
            "linecolor": "white",
            "ticks": ""
           },
           "bgcolor": "#E5ECF6",
           "caxis": {
            "gridcolor": "white",
            "linecolor": "white",
            "ticks": ""
           }
          },
          "title": {
           "x": 0.05
          },
          "xaxis": {
           "automargin": true,
           "gridcolor": "white",
           "linecolor": "white",
           "ticks": "",
           "title": {
            "standoff": 15
           },
           "zerolinecolor": "white",
           "zerolinewidth": 2
          },
          "yaxis": {
           "automargin": true,
           "gridcolor": "white",
           "linecolor": "white",
           "ticks": "",
           "title": {
            "standoff": 15
           },
           "zerolinecolor": "white",
           "zerolinewidth": 2
          }
         }
        },
        "title": {
         "text": "CCLE all cell lines, normalised, peptide samples removed"
        },
        "xaxis": {
         "anchor": "y",
         "domain": [
          0,
          1
         ],
         "title": {
          "text": "PC1"
         }
        },
        "yaxis": {
         "anchor": "x",
         "domain": [
          0,
          1
         ],
         "title": {
          "text": "PC2"
         }
        }
       }
      },
      "text/html": [
       "<div>                            <div id=\"1c9d3d9b-22fb-4816-bcd0-91b543ab35dd\" class=\"plotly-graph-div\" style=\"height:525px; width:100%;\"></div>            <script type=\"text/javascript\">                require([\"plotly\"], function(Plotly) {                    window.PLOTLYENV=window.PLOTLYENV || {};                                    if (document.getElementById(\"1c9d3d9b-22fb-4816-bcd0-91b543ab35dd\")) {                    Plotly.newPlot(                        \"1c9d3d9b-22fb-4816-bcd0-91b543ab35dd\",                        [{\"hovertemplate\":\"label=MDAMB468_BREAST_TenPx01<br>PC1=%{x}<br>PC2=%{y}<extra></extra>\",\"legendgroup\":\"MDAMB468_BREAST_TenPx01\",\"marker\":{\"color\":\"rgb(251,180,174)\",\"symbol\":\"circle\",\"line\":{\"width\":1},\"size\":8},\"mode\":\"markers\",\"name\":\"MDAMB468_BREAST_TenPx01\",\"orientation\":\"v\",\"showlegend\":true,\"x\":[0.10276033147529957],\"xaxis\":\"x\",\"y\":[0.011538571746465238],\"yaxis\":\"y\",\"type\":\"scatter\"},{\"hovertemplate\":\"label=SH4_SKIN_TenPx01<br>PC1=%{x}<br>PC2=%{y}<extra></extra>\",\"legendgroup\":\"SH4_SKIN_TenPx01\",\"marker\":{\"color\":\"rgb(179,205,227)\",\"symbol\":\"circle\",\"line\":{\"width\":1},\"size\":8},\"mode\":\"markers\",\"name\":\"SH4_SKIN_TenPx01\",\"orientation\":\"v\",\"showlegend\":true,\"x\":[0.0055650515688748705],\"xaxis\":\"x\",\"y\":[0.16748484001081057],\"yaxis\":\"y\",\"type\":\"scatter\"},{\"hovertemplate\":\"label=AU565_BREAST_TenPx01<br>PC1=%{x}<br>PC2=%{y}<extra></extra>\",\"legendgroup\":\"AU565_BREAST_TenPx01\",\"marker\":{\"color\":\"rgb(251,180,174)\",\"symbol\":\"circle\",\"line\":{\"width\":1},\"size\":8},\"mode\":\"markers\",\"name\":\"AU565_BREAST_TenPx01\",\"orientation\":\"v\",\"showlegend\":true,\"x\":[-0.019579671235133905],\"xaxis\":\"x\",\"y\":[0.03266272987199435],\"yaxis\":\"y\",\"type\":\"scatter\"},{\"hovertemplate\":\"label=KMRC1_KIDNEY_TenPx01<br>PC1=%{x}<br>PC2=%{y}<extra></extra>\",\"legendgroup\":\"KMRC1_KIDNEY_TenPx01\",\"marker\":{\"color\":\"rgb(204,235,197)\",\"symbol\":\"circle\",\"line\":{\"width\":1},\"size\":8},\"mode\":\"markers\",\"name\":\"KMRC1_KIDNEY_TenPx01\",\"orientation\":\"v\",\"showlegend\":true,\"x\":[0.06079946528856429],\"xaxis\":\"x\",\"y\":[0.29460749210613024],\"yaxis\":\"y\",\"type\":\"scatter\"},{\"hovertemplate\":\"label=CAL51_BREAST_TenPx01<br>PC1=%{x}<br>PC2=%{y}<extra></extra>\",\"legendgroup\":\"CAL51_BREAST_TenPx01\",\"marker\":{\"color\":\"rgb(251,180,174)\",\"symbol\":\"circle\",\"line\":{\"width\":1},\"size\":8},\"mode\":\"markers\",\"name\":\"CAL51_BREAST_TenPx01\",\"orientation\":\"v\",\"showlegend\":true,\"x\":[-0.12225186951219208],\"xaxis\":\"x\",\"y\":[-0.10362443839999662],\"yaxis\":\"y\",\"type\":\"scatter\"},{\"hovertemplate\":\"label=RPMI7951_SKIN_TenPx01<br>PC1=%{x}<br>PC2=%{y}<extra></extra>\",\"legendgroup\":\"RPMI7951_SKIN_TenPx01\",\"marker\":{\"color\":\"rgb(179,205,227)\",\"symbol\":\"circle\",\"line\":{\"width\":1},\"size\":8},\"mode\":\"markers\",\"name\":\"RPMI7951_SKIN_TenPx01\",\"orientation\":\"v\",\"showlegend\":true,\"x\":[0.08766241184053973],\"xaxis\":\"x\",\"y\":[0.08410041873712527],\"yaxis\":\"y\",\"type\":\"scatter\"},{\"hovertemplate\":\"label=RERFLCMS_LUNG_TenPx01<br>PC1=%{x}<br>PC2=%{y}<extra></extra>\",\"legendgroup\":\"RERFLCMS_LUNG_TenPx01\",\"marker\":{\"color\":\"rgb(222,203,228)\",\"symbol\":\"circle\",\"line\":{\"width\":1},\"size\":8},\"mode\":\"markers\",\"name\":\"RERFLCMS_LUNG_TenPx01\",\"orientation\":\"v\",\"showlegend\":true,\"x\":[-0.19687817534754562],\"xaxis\":\"x\",\"y\":[-0.164887595175193],\"yaxis\":\"y\",\"type\":\"scatter\"},{\"hovertemplate\":\"label=IGR37_SKIN_TenPx01<br>PC1=%{x}<br>PC2=%{y}<extra></extra>\",\"legendgroup\":\"IGR37_SKIN_TenPx01\",\"marker\":{\"color\":\"rgb(179,205,227)\",\"symbol\":\"circle\",\"line\":{\"width\":1},\"size\":8},\"mode\":\"markers\",\"name\":\"IGR37_SKIN_TenPx01\",\"orientation\":\"v\",\"showlegend\":true,\"x\":[-0.04740341273462763],\"xaxis\":\"x\",\"y\":[0.017371548923488155],\"yaxis\":\"y\",\"type\":\"scatter\"},{\"hovertemplate\":\"label=VMRCRCW_KIDNEY_TenPx01<br>PC1=%{x}<br>PC2=%{y}<extra></extra>\",\"legendgroup\":\"VMRCRCW_KIDNEY_TenPx01\",\"marker\":{\"color\":\"rgb(204,235,197)\",\"symbol\":\"circle\",\"line\":{\"width\":1},\"size\":8},\"mode\":\"markers\",\"name\":\"VMRCRCW_KIDNEY_TenPx01\",\"orientation\":\"v\",\"showlegend\":true,\"x\":[0.13001326025275367],\"xaxis\":\"x\",\"y\":[0.12028784528679122],\"yaxis\":\"y\",\"type\":\"scatter\"},{\"hovertemplate\":\"label=HEP3B217_LIVER_TenPx02<br>PC1=%{x}<br>PC2=%{y}<extra></extra>\",\"legendgroup\":\"HEP3B217_LIVER_TenPx02\",\"marker\":{\"color\":\"rgb(254,217,166)\",\"symbol\":\"circle\",\"line\":{\"width\":1},\"size\":8},\"mode\":\"markers\",\"name\":\"HEP3B217_LIVER_TenPx02\",\"orientation\":\"v\",\"showlegend\":true,\"x\":[-0.027595574752519468],\"xaxis\":\"x\",\"y\":[-0.06319233923859312],\"yaxis\":\"y\",\"type\":\"scatter\"},{\"hovertemplate\":\"label=HEPG2_LIVER_TenPx02<br>PC1=%{x}<br>PC2=%{y}<extra></extra>\",\"legendgroup\":\"HEPG2_LIVER_TenPx02\",\"marker\":{\"color\":\"rgb(254,217,166)\",\"symbol\":\"circle\",\"line\":{\"width\":1},\"size\":8},\"mode\":\"markers\",\"name\":\"HEPG2_LIVER_TenPx02\",\"orientation\":\"v\",\"showlegend\":true,\"x\":[-0.1318632899962066],\"xaxis\":\"x\",\"y\":[-0.05621211675884665],\"yaxis\":\"y\",\"type\":\"scatter\"},{\"hovertemplate\":\"label=SKHEP1_LIVER_TenPx02<br>PC1=%{x}<br>PC2=%{y}<extra></extra>\",\"legendgroup\":\"SKHEP1_LIVER_TenPx02\",\"marker\":{\"color\":\"rgb(254,217,166)\",\"symbol\":\"circle\",\"line\":{\"width\":1},\"size\":8},\"mode\":\"markers\",\"name\":\"SKHEP1_LIVER_TenPx02\",\"orientation\":\"v\",\"showlegend\":true,\"x\":[0.04030470728147583],\"xaxis\":\"x\",\"y\":[0.2109853116124199],\"yaxis\":\"y\",\"type\":\"scatter\"},{\"hovertemplate\":\"label=WM2664_SKIN_TenPx02<br>PC1=%{x}<br>PC2=%{y}<extra></extra>\",\"legendgroup\":\"WM2664_SKIN_TenPx02\",\"marker\":{\"color\":\"rgb(179,205,227)\",\"symbol\":\"circle\",\"line\":{\"width\":1},\"size\":8},\"mode\":\"markers\",\"name\":\"WM2664_SKIN_TenPx02\",\"orientation\":\"v\",\"showlegend\":true,\"x\":[0.15163912564269846],\"xaxis\":\"x\",\"y\":[0.17744368273164846],\"yaxis\":\"y\",\"type\":\"scatter\"},{\"hovertemplate\":\"label=KMRC20_KIDNEY_TenPx02<br>PC1=%{x}<br>PC2=%{y}<extra></extra>\",\"legendgroup\":\"KMRC20_KIDNEY_TenPx02\",\"marker\":{\"color\":\"rgb(204,235,197)\",\"symbol\":\"circle\",\"line\":{\"width\":1},\"size\":8},\"mode\":\"markers\",\"name\":\"KMRC20_KIDNEY_TenPx02\",\"orientation\":\"v\",\"showlegend\":true,\"x\":[-0.08287593560589324],\"xaxis\":\"x\",\"y\":[0.025715556959031022],\"yaxis\":\"y\",\"type\":\"scatter\"},{\"hovertemplate\":\"label=HS294T_SKIN_TenPx02<br>PC1=%{x}<br>PC2=%{y}<extra></extra>\",\"legendgroup\":\"HS294T_SKIN_TenPx02\",\"marker\":{\"color\":\"rgb(179,205,227)\",\"symbol\":\"circle\",\"line\":{\"width\":1},\"size\":8},\"mode\":\"markers\",\"name\":\"HS294T_SKIN_TenPx02\",\"orientation\":\"v\",\"showlegend\":true,\"x\":[-0.10783867447733302],\"xaxis\":\"x\",\"y\":[0.15407520365021557],\"yaxis\":\"y\",\"type\":\"scatter\"},{\"hovertemplate\":\"label=CAOV3_OVARY_TenPx02<br>PC1=%{x}<br>PC2=%{y}<extra></extra>\",\"legendgroup\":\"CAOV3_OVARY_TenPx02\",\"marker\":{\"color\":\"black\",\"symbol\":\"circle\",\"line\":{\"width\":1},\"size\":8},\"mode\":\"markers\",\"name\":\"CAOV3_OVARY_TenPx02\",\"orientation\":\"v\",\"showlegend\":true,\"x\":[-0.03388830830413073],\"xaxis\":\"x\",\"y\":[-0.02103724739457985],\"yaxis\":\"y\",\"type\":\"scatter\"},{\"hovertemplate\":\"label=CAL120_BREAST_TenPx02<br>PC1=%{x}<br>PC2=%{y}<extra></extra>\",\"legendgroup\":\"CAL120_BREAST_TenPx02\",\"marker\":{\"color\":\"rgb(251,180,174)\",\"symbol\":\"circle\",\"line\":{\"width\":1},\"size\":8},\"mode\":\"markers\",\"name\":\"CAL120_BREAST_TenPx02\",\"orientation\":\"v\",\"showlegend\":true,\"x\":[0.1450283865499073],\"xaxis\":\"x\",\"y\":[0.09345627488119554],\"yaxis\":\"y\",\"type\":\"scatter\"},{\"hovertemplate\":\"label=JMSU1_URINARY_TRACT_TenPx02<br>PC1=%{x}<br>PC2=%{y}<extra></extra>\",\"legendgroup\":\"JMSU1_URINARY_TRACT_TenPx02\",\"marker\":{\"color\":\"rgb(229,216,189)\",\"symbol\":\"circle\",\"line\":{\"width\":1},\"size\":8},\"mode\":\"markers\",\"name\":\"JMSU1_URINARY_TRACT_TenPx02\",\"orientation\":\"v\",\"showlegend\":true,\"x\":[0.09655606755490406],\"xaxis\":\"x\",\"y\":[-0.15627168386389942],\"yaxis\":\"y\",\"type\":\"scatter\"},{\"hovertemplate\":\"label=PATU8988T_PANCREAS_TenPx03<br>PC1=%{x}<br>PC2=%{y}<extra></extra>\",\"legendgroup\":\"PATU8988T_PANCREAS_TenPx03\",\"marker\":{\"color\":\"rgb(253,218,236)\",\"symbol\":\"circle\",\"line\":{\"width\":1},\"size\":8},\"mode\":\"markers\",\"name\":\"PATU8988T_PANCREAS_TenPx03\",\"orientation\":\"v\",\"showlegend\":true,\"x\":[0.13988312068979714],\"xaxis\":\"x\",\"y\":[0.1347219696085303],\"yaxis\":\"y\",\"type\":\"scatter\"},{\"hovertemplate\":\"label=JIMT1_BREAST_TenPx03<br>PC1=%{x}<br>PC2=%{y}<extra></extra>\",\"legendgroup\":\"JIMT1_BREAST_TenPx03\",\"marker\":{\"color\":\"rgb(251,180,174)\",\"symbol\":\"circle\",\"line\":{\"width\":1},\"size\":8},\"mode\":\"markers\",\"name\":\"JIMT1_BREAST_TenPx03\",\"orientation\":\"v\",\"showlegend\":true,\"x\":[-0.08847873444538458],\"xaxis\":\"x\",\"y\":[0.021841206671742996],\"yaxis\":\"y\",\"type\":\"scatter\"},{\"hovertemplate\":\"label=COV362_OVARY_TenPx03<br>PC1=%{x}<br>PC2=%{y}<extra></extra>\",\"legendgroup\":\"COV362_OVARY_TenPx03\",\"marker\":{\"color\":\"black\",\"symbol\":\"circle\",\"line\":{\"width\":1},\"size\":8},\"mode\":\"markers\",\"name\":\"COV362_OVARY_TenPx03\",\"orientation\":\"v\",\"showlegend\":true,\"x\":[-0.1299122387220079],\"xaxis\":\"x\",\"y\":[-0.03152844248188045],\"yaxis\":\"y\",\"type\":\"scatter\"},{\"hovertemplate\":\"label=KPL1_BREAST_TenPx03<br>PC1=%{x}<br>PC2=%{y}<extra></extra>\",\"legendgroup\":\"KPL1_BREAST_TenPx03\",\"marker\":{\"color\":\"rgb(251,180,174)\",\"symbol\":\"circle\",\"line\":{\"width\":1},\"size\":8},\"mode\":\"markers\",\"name\":\"KPL1_BREAST_TenPx03\",\"orientation\":\"v\",\"showlegend\":true,\"x\":[-0.2881021373660104],\"xaxis\":\"x\",\"y\":[-0.042017316682179104],\"yaxis\":\"y\",\"type\":\"scatter\"},{\"hovertemplate\":\"label=A375_SKIN_TenPx03<br>PC1=%{x}<br>PC2=%{y}<extra></extra>\",\"legendgroup\":\"A375_SKIN_TenPx03\",\"marker\":{\"color\":\"rgb(179,205,227)\",\"symbol\":\"circle\",\"line\":{\"width\":1},\"size\":8},\"mode\":\"markers\",\"name\":\"A375_SKIN_TenPx03\",\"orientation\":\"v\",\"showlegend\":true,\"x\":[0.08549776294970629],\"xaxis\":\"x\",\"y\":[0.1943532808131846],\"yaxis\":\"y\",\"type\":\"scatter\"},{\"hovertemplate\":\"label=A2058_SKIN_TenPx03<br>PC1=%{x}<br>PC2=%{y}<extra></extra>\",\"legendgroup\":\"A2058_SKIN_TenPx03\",\"marker\":{\"color\":\"rgb(179,205,227)\",\"symbol\":\"circle\",\"line\":{\"width\":1},\"size\":8},\"mode\":\"markers\",\"name\":\"A2058_SKIN_TenPx03\",\"orientation\":\"v\",\"showlegend\":true,\"x\":[0.1407158278689836],\"xaxis\":\"x\",\"y\":[0.1123755435517671],\"yaxis\":\"y\",\"type\":\"scatter\"},{\"hovertemplate\":\"label=SW620_LARGE_INTESTINE_TenPx03<br>PC1=%{x}<br>PC2=%{y}<extra></extra>\",\"legendgroup\":\"SW620_LARGE_INTESTINE_TenPx03\",\"marker\":{\"color\":\"rgb(242,242,242)\",\"symbol\":\"circle\",\"line\":{\"width\":1},\"size\":8},\"mode\":\"markers\",\"name\":\"SW620_LARGE_INTESTINE_TenPx03\",\"orientation\":\"v\",\"showlegend\":true,\"x\":[0.07191359132370635],\"xaxis\":\"x\",\"y\":[-0.015176479333380821],\"yaxis\":\"y\",\"type\":\"scatter\"},{\"hovertemplate\":\"label=MDST8_LARGE_INTESTINE_TenPx03<br>PC1=%{x}<br>PC2=%{y}<extra></extra>\",\"legendgroup\":\"MDST8_LARGE_INTESTINE_TenPx03\",\"marker\":{\"color\":\"rgb(242,242,242)\",\"symbol\":\"circle\",\"line\":{\"width\":1},\"size\":8},\"mode\":\"markers\",\"name\":\"MDST8_LARGE_INTESTINE_TenPx03\",\"orientation\":\"v\",\"showlegend\":true,\"x\":[0.16080817554979362],\"xaxis\":\"x\",\"y\":[0.1292493688597673],\"yaxis\":\"y\",\"type\":\"scatter\"},{\"hovertemplate\":\"label=HUH1_LIVER_TenPx03<br>PC1=%{x}<br>PC2=%{y}<extra></extra>\",\"legendgroup\":\"HUH1_LIVER_TenPx03\",\"marker\":{\"color\":\"rgb(254,217,166)\",\"symbol\":\"circle\",\"line\":{\"width\":1},\"size\":8},\"mode\":\"markers\",\"name\":\"HUH1_LIVER_TenPx03\",\"orientation\":\"v\",\"showlegend\":true,\"x\":[-0.05150139580257728],\"xaxis\":\"x\",\"y\":[-0.16295696655828842],\"yaxis\":\"y\",\"type\":\"scatter\"},{\"hovertemplate\":\"label=HCT116_LARGE_INTESTINE_TenPx04<br>PC1=%{x}<br>PC2=%{y}<extra></extra>\",\"legendgroup\":\"HCT116_LARGE_INTESTINE_TenPx04\",\"marker\":{\"color\":\"rgb(242,242,242)\",\"symbol\":\"circle\",\"line\":{\"width\":1},\"size\":8},\"mode\":\"markers\",\"name\":\"HCT116_LARGE_INTESTINE_TenPx04\",\"orientation\":\"v\",\"showlegend\":true,\"x\":[0.11913911277739744],\"xaxis\":\"x\",\"y\":[0.12798629006591472],\"yaxis\":\"y\",\"type\":\"scatter\"},{\"hovertemplate\":\"label=HLF_LIVER_TenPx04<br>PC1=%{x}<br>PC2=%{y}<extra></extra>\",\"legendgroup\":\"HLF_LIVER_TenPx04\",\"marker\":{\"color\":\"rgb(254,217,166)\",\"symbol\":\"circle\",\"line\":{\"width\":1},\"size\":8},\"mode\":\"markers\",\"name\":\"HLF_LIVER_TenPx04\",\"orientation\":\"v\",\"showlegend\":true,\"x\":[-0.23208550787554227],\"xaxis\":\"x\",\"y\":[0.13002973851590266],\"yaxis\":\"y\",\"type\":\"scatter\"},{\"hovertemplate\":\"label=HT29_LARGE_INTESTINE_TenPx04<br>PC1=%{x}<br>PC2=%{y}<extra></extra>\",\"legendgroup\":\"HT29_LARGE_INTESTINE_TenPx04\",\"marker\":{\"color\":\"rgb(242,242,242)\",\"symbol\":\"circle\",\"line\":{\"width\":1},\"size\":8},\"mode\":\"markers\",\"name\":\"HT29_LARGE_INTESTINE_TenPx04\",\"orientation\":\"v\",\"showlegend\":true,\"x\":[0.13861402977455387],\"xaxis\":\"x\",\"y\":[-0.04502590142510072],\"yaxis\":\"y\",\"type\":\"scatter\"},{\"hovertemplate\":\"label=ABC1_LUNG_TenPx04<br>PC1=%{x}<br>PC2=%{y}<extra></extra>\",\"legendgroup\":\"ABC1_LUNG_TenPx04\",\"marker\":{\"color\":\"rgb(222,203,228)\",\"symbol\":\"circle\",\"line\":{\"width\":1},\"size\":8},\"mode\":\"markers\",\"name\":\"ABC1_LUNG_TenPx04\",\"orientation\":\"v\",\"showlegend\":true,\"x\":[0.2153691253900399],\"xaxis\":\"x\",\"y\":[0.0348977830952947],\"yaxis\":\"y\",\"type\":\"scatter\"},{\"hovertemplate\":\"label=CAMA1_BREAST_TenPx04<br>PC1=%{x}<br>PC2=%{y}<extra></extra>\",\"legendgroup\":\"CAMA1_BREAST_TenPx04\",\"marker\":{\"color\":\"rgb(251,180,174)\",\"symbol\":\"circle\",\"line\":{\"width\":1},\"size\":8},\"mode\":\"markers\",\"name\":\"CAMA1_BREAST_TenPx04\",\"orientation\":\"v\",\"showlegend\":true,\"x\":[0.038795530316914156],\"xaxis\":\"x\",\"y\":[0.24637788269757677],\"yaxis\":\"y\",\"type\":\"scatter\"},{\"hovertemplate\":\"label=RKO_LARGE_INTESTINE_TenPx04<br>PC1=%{x}<br>PC2=%{y}<extra></extra>\",\"legendgroup\":\"RKO_LARGE_INTESTINE_TenPx04\",\"marker\":{\"color\":\"rgb(242,242,242)\",\"symbol\":\"circle\",\"line\":{\"width\":1},\"size\":8},\"mode\":\"markers\",\"name\":\"RKO_LARGE_INTESTINE_TenPx04\",\"orientation\":\"v\",\"showlegend\":true,\"x\":[0.05501195366792125],\"xaxis\":\"x\",\"y\":[0.08701524733693489],\"yaxis\":\"y\",\"type\":\"scatter\"},{\"hovertemplate\":\"label=HT115_LARGE_INTESTINE_TenPx04<br>PC1=%{x}<br>PC2=%{y}<extra></extra>\",\"legendgroup\":\"HT115_LARGE_INTESTINE_TenPx04\",\"marker\":{\"color\":\"rgb(242,242,242)\",\"symbol\":\"circle\",\"line\":{\"width\":1},\"size\":8},\"mode\":\"markers\",\"name\":\"HT115_LARGE_INTESTINE_TenPx04\",\"orientation\":\"v\",\"showlegend\":true,\"x\":[-0.0038863446743536904],\"xaxis\":\"x\",\"y\":[0.17257549135184247],\"yaxis\":\"y\",\"type\":\"scatter\"},{\"hovertemplate\":\"label=JHH5_LIVER_TenPx04<br>PC1=%{x}<br>PC2=%{y}<extra></extra>\",\"legendgroup\":\"JHH5_LIVER_TenPx04\",\"marker\":{\"color\":\"rgb(254,217,166)\",\"symbol\":\"circle\",\"line\":{\"width\":1},\"size\":8},\"mode\":\"markers\",\"name\":\"JHH5_LIVER_TenPx04\",\"orientation\":\"v\",\"showlegend\":true,\"x\":[-0.24832542896143506],\"xaxis\":\"x\",\"y\":[-0.3267524738017058],\"yaxis\":\"y\",\"type\":\"scatter\"},{\"hovertemplate\":\"label=SKMEL3_SKIN_TenPx04<br>PC1=%{x}<br>PC2=%{y}<extra></extra>\",\"legendgroup\":\"SKMEL3_SKIN_TenPx04\",\"marker\":{\"color\":\"rgb(179,205,227)\",\"symbol\":\"circle\",\"line\":{\"width\":1},\"size\":8},\"mode\":\"markers\",\"name\":\"SKMEL3_SKIN_TenPx04\",\"orientation\":\"v\",\"showlegend\":true,\"x\":[-0.08713295715768896],\"xaxis\":\"x\",\"y\":[-0.15310878123897825],\"yaxis\":\"y\",\"type\":\"scatter\"},{\"hovertemplate\":\"label=NCIH358_LUNG_TenPx06<br>PC1=%{x}<br>PC2=%{y}<extra></extra>\",\"legendgroup\":\"NCIH358_LUNG_TenPx06\",\"marker\":{\"color\":\"rgb(222,203,228)\",\"symbol\":\"circle\",\"line\":{\"width\":1},\"size\":8},\"mode\":\"markers\",\"name\":\"NCIH358_LUNG_TenPx06\",\"orientation\":\"v\",\"showlegend\":true,\"x\":[-0.12063272762584382],\"xaxis\":\"x\",\"y\":[-0.047097835896426125],\"yaxis\":\"y\",\"type\":\"scatter\"},{\"hovertemplate\":\"label=HT1197_URINARY_TRACT_TenPx06<br>PC1=%{x}<br>PC2=%{y}<extra></extra>\",\"legendgroup\":\"HT1197_URINARY_TRACT_TenPx06\",\"marker\":{\"color\":\"rgb(229,216,189)\",\"symbol\":\"circle\",\"line\":{\"width\":1},\"size\":8},\"mode\":\"markers\",\"name\":\"HT1197_URINARY_TRACT_TenPx06\",\"orientation\":\"v\",\"showlegend\":true,\"x\":[-0.5909852901064107],\"xaxis\":\"x\",\"y\":[-0.07978647195152375],\"yaxis\":\"y\",\"type\":\"scatter\"},{\"hovertemplate\":\"label=HUH7_LIVER_TenPx06<br>PC1=%{x}<br>PC2=%{y}<extra></extra>\",\"legendgroup\":\"HUH7_LIVER_TenPx06\",\"marker\":{\"color\":\"rgb(254,217,166)\",\"symbol\":\"circle\",\"line\":{\"width\":1},\"size\":8},\"mode\":\"markers\",\"name\":\"HUH7_LIVER_TenPx06\",\"orientation\":\"v\",\"showlegend\":true,\"x\":[0.07771653173311904],\"xaxis\":\"x\",\"y\":[0.1850290898065919],\"yaxis\":\"y\",\"type\":\"scatter\"},{\"hovertemplate\":\"label=HGC27_STOMACH_TenPx06<br>PC1=%{x}<br>PC2=%{y}<extra></extra>\",\"legendgroup\":\"HGC27_STOMACH_TenPx06\",\"marker\":{\"color\":\"rgb(141,211,199)\",\"symbol\":\"circle\",\"line\":{\"width\":1},\"size\":8},\"mode\":\"markers\",\"name\":\"HGC27_STOMACH_TenPx06\",\"orientation\":\"v\",\"showlegend\":true,\"x\":[0.2379528496530622],\"xaxis\":\"x\",\"y\":[0.21832716608585934],\"yaxis\":\"y\",\"type\":\"scatter\"},{\"hovertemplate\":\"label=DMS273_LUNG_TenPx06<br>PC1=%{x}<br>PC2=%{y}<extra></extra>\",\"legendgroup\":\"DMS273_LUNG_TenPx06\",\"marker\":{\"color\":\"rgb(222,203,228)\",\"symbol\":\"circle\",\"line\":{\"width\":1},\"size\":8},\"mode\":\"markers\",\"name\":\"DMS273_LUNG_TenPx06\",\"orientation\":\"v\",\"showlegend\":true,\"x\":[0.38731042156569095],\"xaxis\":\"x\",\"y\":[-0.4078741294652613],\"yaxis\":\"y\",\"type\":\"scatter\"},{\"hovertemplate\":\"label=NCIH1299_LUNG_TenPx06<br>PC1=%{x}<br>PC2=%{y}<extra></extra>\",\"legendgroup\":\"NCIH1299_LUNG_TenPx06\",\"marker\":{\"color\":\"rgb(222,203,228)\",\"symbol\":\"circle\",\"line\":{\"width\":1},\"size\":8},\"mode\":\"markers\",\"name\":\"NCIH1299_LUNG_TenPx06\",\"orientation\":\"v\",\"showlegend\":true,\"x\":[-0.01989620352066395],\"xaxis\":\"x\",\"y\":[0.05943398807478808],\"yaxis\":\"y\",\"type\":\"scatter\"},{\"hovertemplate\":\"label=SKMEL28_SKIN_TenPx06<br>PC1=%{x}<br>PC2=%{y}<extra></extra>\",\"legendgroup\":\"SKMEL28_SKIN_TenPx06\",\"marker\":{\"color\":\"rgb(179,205,227)\",\"symbol\":\"circle\",\"line\":{\"width\":1},\"size\":8},\"mode\":\"markers\",\"name\":\"SKMEL28_SKIN_TenPx06\",\"orientation\":\"v\",\"showlegend\":true,\"x\":[-0.2798009740279496],\"xaxis\":\"x\",\"y\":[0.1254240421360424],\"yaxis\":\"y\",\"type\":\"scatter\"},{\"hovertemplate\":\"label=CAKI2_KIDNEY_TenPx06<br>PC1=%{x}<br>PC2=%{y}<extra></extra>\",\"legendgroup\":\"CAKI2_KIDNEY_TenPx06\",\"marker\":{\"color\":\"rgb(204,235,197)\",\"symbol\":\"circle\",\"line\":{\"width\":1},\"size\":8},\"mode\":\"markers\",\"name\":\"CAKI2_KIDNEY_TenPx06\",\"orientation\":\"v\",\"showlegend\":true,\"x\":[0.18437872663620097],\"xaxis\":\"x\",\"y\":[0.36688300664995527],\"yaxis\":\"y\",\"type\":\"scatter\"},{\"hovertemplate\":\"label=HT55_LARGE_INTESTINE_TenPx06<br>PC1=%{x}<br>PC2=%{y}<extra></extra>\",\"legendgroup\":\"HT55_LARGE_INTESTINE_TenPx06\",\"marker\":{\"color\":\"rgb(242,242,242)\",\"symbol\":\"circle\",\"line\":{\"width\":1},\"size\":8},\"mode\":\"markers\",\"name\":\"HT55_LARGE_INTESTINE_TenPx06\",\"orientation\":\"v\",\"showlegend\":true,\"x\":[-0.0824609095906552],\"xaxis\":\"x\",\"y\":[-0.22480099937716863],\"yaxis\":\"y\",\"type\":\"scatter\"},{\"hovertemplate\":\"label=NCIH1048_LUNG_TenPx07<br>PC1=%{x}<br>PC2=%{y}<extra></extra>\",\"legendgroup\":\"NCIH1048_LUNG_TenPx07\",\"marker\":{\"color\":\"rgb(222,203,228)\",\"symbol\":\"circle\",\"line\":{\"width\":1},\"size\":8},\"mode\":\"markers\",\"name\":\"NCIH1048_LUNG_TenPx07\",\"orientation\":\"v\",\"showlegend\":true,\"x\":[0.14279528757970714],\"xaxis\":\"x\",\"y\":[-0.01633428235243709],\"yaxis\":\"y\",\"type\":\"scatter\"},{\"hovertemplate\":\"label=HSC3_UPPER_AERODIGESTIVE_TRACT_TenPx07<br>PC1=%{x}<br>PC2=%{y}<extra></extra>\",\"legendgroup\":\"HSC3_UPPER_AERODIGESTIVE_TRACT_TenPx07\",\"marker\":{\"color\":\"rgb(255,255,204)\",\"symbol\":\"circle\",\"line\":{\"width\":1},\"size\":8},\"mode\":\"markers\",\"name\":\"HSC3_UPPER_AERODIGESTIVE_TRACT_TenPx07\",\"orientation\":\"v\",\"showlegend\":true,\"x\":[-0.33286775555224535],\"xaxis\":\"x\",\"y\":[-0.0858842594219896],\"yaxis\":\"y\",\"type\":\"scatter\"},{\"hovertemplate\":\"label=SW403_LARGE_INTESTINE_TenPx07<br>PC1=%{x}<br>PC2=%{y}<extra></extra>\",\"legendgroup\":\"SW403_LARGE_INTESTINE_TenPx07\",\"marker\":{\"color\":\"rgb(242,242,242)\",\"symbol\":\"circle\",\"line\":{\"width\":1},\"size\":8},\"mode\":\"markers\",\"name\":\"SW403_LARGE_INTESTINE_TenPx07\",\"orientation\":\"v\",\"showlegend\":true,\"x\":[-0.04586034747058227],\"xaxis\":\"x\",\"y\":[0.2691167624308055],\"yaxis\":\"y\",\"type\":\"scatter\"},{\"hovertemplate\":\"label=BT549_BREAST_TenPx07<br>PC1=%{x}<br>PC2=%{y}<extra></extra>\",\"legendgroup\":\"BT549_BREAST_TenPx07\",\"marker\":{\"color\":\"rgb(251,180,174)\",\"symbol\":\"circle\",\"line\":{\"width\":1},\"size\":8},\"mode\":\"markers\",\"name\":\"BT549_BREAST_TenPx07\",\"orientation\":\"v\",\"showlegend\":true,\"x\":[0.18503416622053423],\"xaxis\":\"x\",\"y\":[0.2634500823323992],\"yaxis\":\"y\",\"type\":\"scatter\"},{\"hovertemplate\":\"label=HCC56_LARGE_INTESTINE_TenPx07<br>PC1=%{x}<br>PC2=%{y}<extra></extra>\",\"legendgroup\":\"HCC56_LARGE_INTESTINE_TenPx07\",\"marker\":{\"color\":\"rgb(242,242,242)\",\"symbol\":\"circle\",\"line\":{\"width\":1},\"size\":8},\"mode\":\"markers\",\"name\":\"HCC56_LARGE_INTESTINE_TenPx07\",\"orientation\":\"v\",\"showlegend\":true,\"x\":[0.0362692872271995],\"xaxis\":\"x\",\"y\":[-0.0181025602774863],\"yaxis\":\"y\",\"type\":\"scatter\"},{\"hovertemplate\":\"label=CAL851_BREAST_TenPx07<br>PC1=%{x}<br>PC2=%{y}<extra></extra>\",\"legendgroup\":\"CAL851_BREAST_TenPx07\",\"marker\":{\"color\":\"rgb(251,180,174)\",\"symbol\":\"circle\",\"line\":{\"width\":1},\"size\":8},\"mode\":\"markers\",\"name\":\"CAL851_BREAST_TenPx07\",\"orientation\":\"v\",\"showlegend\":true,\"x\":[-0.37587704097845853],\"xaxis\":\"x\",\"y\":[-0.3041547127013992],\"yaxis\":\"y\",\"type\":\"scatter\"},{\"hovertemplate\":\"label=MDAMB157_BREAST_TenPx07<br>PC1=%{x}<br>PC2=%{y}<extra></extra>\",\"legendgroup\":\"MDAMB157_BREAST_TenPx07\",\"marker\":{\"color\":\"rgb(251,180,174)\",\"symbol\":\"circle\",\"line\":{\"width\":1},\"size\":8},\"mode\":\"markers\",\"name\":\"MDAMB157_BREAST_TenPx07\",\"orientation\":\"v\",\"showlegend\":true,\"x\":[0.1960731573102699],\"xaxis\":\"x\",\"y\":[0.22265861793273162],\"yaxis\":\"y\",\"type\":\"scatter\"},{\"hovertemplate\":\"label=SW48_LARGE_INTESTINE_TenPx07<br>PC1=%{x}<br>PC2=%{y}<extra></extra>\",\"legendgroup\":\"SW48_LARGE_INTESTINE_TenPx07\",\"marker\":{\"color\":\"rgb(242,242,242)\",\"symbol\":\"circle\",\"line\":{\"width\":1},\"size\":8},\"mode\":\"markers\",\"name\":\"SW48_LARGE_INTESTINE_TenPx07\",\"orientation\":\"v\",\"showlegend\":true,\"x\":[0.015962924845345384],\"xaxis\":\"x\",\"y\":[-0.02622025305212546],\"yaxis\":\"y\",\"type\":\"scatter\"},{\"hovertemplate\":\"label=IGR39_SKIN_TenPx07<br>PC1=%{x}<br>PC2=%{y}<extra></extra>\",\"legendgroup\":\"IGR39_SKIN_TenPx07\",\"marker\":{\"color\":\"rgb(179,205,227)\",\"symbol\":\"circle\",\"line\":{\"width\":1},\"size\":8},\"mode\":\"markers\",\"name\":\"IGR39_SKIN_TenPx07\",\"orientation\":\"v\",\"showlegend\":true,\"x\":[-0.05704166591939706],\"xaxis\":\"x\",\"y\":[0.07280392724330534],\"yaxis\":\"y\",\"type\":\"scatter\"},{\"hovertemplate\":\"label=MCF7_BREAST_TenPx08<br>PC1=%{x}<br>PC2=%{y}<extra></extra>\",\"legendgroup\":\"MCF7_BREAST_TenPx08\",\"marker\":{\"color\":\"rgb(251,180,174)\",\"symbol\":\"circle\",\"line\":{\"width\":1},\"size\":8},\"mode\":\"markers\",\"name\":\"MCF7_BREAST_TenPx08\",\"orientation\":\"v\",\"showlegend\":true,\"x\":[0.050694676160106034],\"xaxis\":\"x\",\"y\":[0.07707156626960536],\"yaxis\":\"y\",\"type\":\"scatter\"},{\"hovertemplate\":\"label=BICR6_UPPER_AERODIGESTIVE_TRACT_TenPx08<br>PC1=%{x}<br>PC2=%{y}<extra></extra>\",\"legendgroup\":\"BICR6_UPPER_AERODIGESTIVE_TRACT_TenPx08\",\"marker\":{\"color\":\"rgb(255,255,204)\",\"symbol\":\"circle\",\"line\":{\"width\":1},\"size\":8},\"mode\":\"markers\",\"name\":\"BICR6_UPPER_AERODIGESTIVE_TRACT_TenPx08\",\"orientation\":\"v\",\"showlegend\":true,\"x\":[-0.5880197719289602],\"xaxis\":\"x\",\"y\":[-0.14758858637226138],\"yaxis\":\"y\",\"type\":\"scatter\"},{\"hovertemplate\":\"label=WM1799_SKIN_TenPx08<br>PC1=%{x}<br>PC2=%{y}<extra></extra>\",\"legendgroup\":\"WM1799_SKIN_TenPx08\",\"marker\":{\"color\":\"rgb(179,205,227)\",\"symbol\":\"circle\",\"line\":{\"width\":1},\"size\":8},\"mode\":\"markers\",\"name\":\"WM1799_SKIN_TenPx08\",\"orientation\":\"v\",\"showlegend\":true,\"x\":[0.26580911583810424],\"xaxis\":\"x\",\"y\":[0.2773516375109053],\"yaxis\":\"y\",\"type\":\"scatter\"},{\"hovertemplate\":\"label=IPC298_SKIN_TenPx08<br>PC1=%{x}<br>PC2=%{y}<extra></extra>\",\"legendgroup\":\"IPC298_SKIN_TenPx08\",\"marker\":{\"color\":\"rgb(179,205,227)\",\"symbol\":\"circle\",\"line\":{\"width\":1},\"size\":8},\"mode\":\"markers\",\"name\":\"IPC298_SKIN_TenPx08\",\"orientation\":\"v\",\"showlegend\":true,\"x\":[0.2851067730747863],\"xaxis\":\"x\",\"y\":[0.1313302942547004],\"yaxis\":\"y\",\"type\":\"scatter\"},{\"hovertemplate\":\"label=NCIH1693_LUNG_TenPx08<br>PC1=%{x}<br>PC2=%{y}<extra></extra>\",\"legendgroup\":\"NCIH1693_LUNG_TenPx08\",\"marker\":{\"color\":\"rgb(222,203,228)\",\"symbol\":\"circle\",\"line\":{\"width\":1},\"size\":8},\"mode\":\"markers\",\"name\":\"NCIH1693_LUNG_TenPx08\",\"orientation\":\"v\",\"showlegend\":true,\"x\":[-0.37232351378296374],\"xaxis\":\"x\",\"y\":[0.07280076407603946],\"yaxis\":\"y\",\"type\":\"scatter\"},{\"hovertemplate\":\"label=HCC1954_BREAST_TenPx08<br>PC1=%{x}<br>PC2=%{y}<extra></extra>\",\"legendgroup\":\"HCC1954_BREAST_TenPx08\",\"marker\":{\"color\":\"rgb(251,180,174)\",\"symbol\":\"circle\",\"line\":{\"width\":1},\"size\":8},\"mode\":\"markers\",\"name\":\"HCC1954_BREAST_TenPx08\",\"orientation\":\"v\",\"showlegend\":true,\"x\":[-0.038643467576413536],\"xaxis\":\"x\",\"y\":[0.08202266414582535],\"yaxis\":\"y\",\"type\":\"scatter\"},{\"hovertemplate\":\"label=TYKNU_OVARY_TenPx08<br>PC1=%{x}<br>PC2=%{y}<extra></extra>\",\"legendgroup\":\"TYKNU_OVARY_TenPx08\",\"marker\":{\"color\":\"black\",\"symbol\":\"circle\",\"line\":{\"width\":1},\"size\":8},\"mode\":\"markers\",\"name\":\"TYKNU_OVARY_TenPx08\",\"orientation\":\"v\",\"showlegend\":true,\"x\":[0.16856097030465897],\"xaxis\":\"x\",\"y\":[0.2288881299395023],\"yaxis\":\"y\",\"type\":\"scatter\"},{\"hovertemplate\":\"label=DMS114_LUNG_TenPx08<br>PC1=%{x}<br>PC2=%{y}<extra></extra>\",\"legendgroup\":\"DMS114_LUNG_TenPx08\",\"marker\":{\"color\":\"rgb(222,203,228)\",\"symbol\":\"circle\",\"line\":{\"width\":1},\"size\":8},\"mode\":\"markers\",\"name\":\"DMS114_LUNG_TenPx08\",\"orientation\":\"v\",\"showlegend\":true,\"x\":[0.24840189694872292],\"xaxis\":\"x\",\"y\":[-0.25605902463972946],\"yaxis\":\"y\",\"type\":\"scatter\"},{\"hovertemplate\":\"label=TE1_OESOPHAGUS_TenPx08<br>PC1=%{x}<br>PC2=%{y}<extra></extra>\",\"legendgroup\":\"TE1_OESOPHAGUS_TenPx08\",\"marker\":{\"color\":\"rgb(255,255,179)\",\"symbol\":\"circle\",\"line\":{\"width\":1},\"size\":8},\"mode\":\"markers\",\"name\":\"TE1_OESOPHAGUS_TenPx08\",\"orientation\":\"v\",\"showlegend\":true,\"x\":[-0.12738439412119848],\"xaxis\":\"x\",\"y\":[-0.1501977471242491],\"yaxis\":\"y\",\"type\":\"scatter\"},{\"hovertemplate\":\"label=TCCPAN2_PANCREAS_TenPx09<br>PC1=%{x}<br>PC2=%{y}<extra></extra>\",\"legendgroup\":\"TCCPAN2_PANCREAS_TenPx09\",\"marker\":{\"color\":\"rgb(253,218,236)\",\"symbol\":\"circle\",\"line\":{\"width\":1},\"size\":8},\"mode\":\"markers\",\"name\":\"TCCPAN2_PANCREAS_TenPx09\",\"orientation\":\"v\",\"showlegend\":true,\"x\":[0.25764973013173537],\"xaxis\":\"x\",\"y\":[0.2947137926792595],\"yaxis\":\"y\",\"type\":\"scatter\"},{\"hovertemplate\":\"label=LUDLU1_LUNG_TenPx09<br>PC1=%{x}<br>PC2=%{y}<extra></extra>\",\"legendgroup\":\"LUDLU1_LUNG_TenPx09\",\"marker\":{\"color\":\"rgb(222,203,228)\",\"symbol\":\"circle\",\"line\":{\"width\":1},\"size\":8},\"mode\":\"markers\",\"name\":\"LUDLU1_LUNG_TenPx09\",\"orientation\":\"v\",\"showlegend\":true,\"x\":[-0.6277934891052652],\"xaxis\":\"x\",\"y\":[-0.15616093428685476],\"yaxis\":\"y\",\"type\":\"scatter\"},{\"hovertemplate\":\"label=MELJUSO_SKIN_TenPx09<br>PC1=%{x}<br>PC2=%{y}<extra></extra>\",\"legendgroup\":\"MELJUSO_SKIN_TenPx09\",\"marker\":{\"color\":\"rgb(179,205,227)\",\"symbol\":\"circle\",\"line\":{\"width\":1},\"size\":8},\"mode\":\"markers\",\"name\":\"MELJUSO_SKIN_TenPx09\",\"orientation\":\"v\",\"showlegend\":true,\"x\":[0.1726156674767343],\"xaxis\":\"x\",\"y\":[0.20759027941417607],\"yaxis\":\"y\",\"type\":\"scatter\"},{\"hovertemplate\":\"label=T47D_BREAST_TenPx09<br>PC1=%{x}<br>PC2=%{y}<extra></extra>\",\"legendgroup\":\"T47D_BREAST_TenPx09\",\"marker\":{\"color\":\"rgb(251,180,174)\",\"symbol\":\"circle\",\"line\":{\"width\":1},\"size\":8},\"mode\":\"markers\",\"name\":\"T47D_BREAST_TenPx09\",\"orientation\":\"v\",\"showlegend\":true,\"x\":[0.13348427362765064],\"xaxis\":\"x\",\"y\":[0.11854206390978059],\"yaxis\":\"y\",\"type\":\"scatter\"},{\"hovertemplate\":\"label=LS411N_LARGE_INTESTINE_TenPx09<br>PC1=%{x}<br>PC2=%{y}<extra></extra>\",\"legendgroup\":\"LS411N_LARGE_INTESTINE_TenPx09\",\"marker\":{\"color\":\"rgb(242,242,242)\",\"symbol\":\"circle\",\"line\":{\"width\":1},\"size\":8},\"mode\":\"markers\",\"name\":\"LS411N_LARGE_INTESTINE_TenPx09\",\"orientation\":\"v\",\"showlegend\":true,\"x\":[0.08599601993293049],\"xaxis\":\"x\",\"y\":[0.17613499858170434],\"yaxis\":\"y\",\"type\":\"scatter\"},{\"hovertemplate\":\"label=PC3_PROSTATE_TenPx09<br>PC1=%{x}<br>PC2=%{y}<extra></extra>\",\"legendgroup\":\"PC3_PROSTATE_TenPx09\",\"marker\":{\"color\":\"rgb(190,186,218)\",\"symbol\":\"circle\",\"line\":{\"width\":1},\"size\":8},\"mode\":\"markers\",\"name\":\"PC3_PROSTATE_TenPx09\",\"orientation\":\"v\",\"showlegend\":true,\"x\":[0.020415779515942627],\"xaxis\":\"x\",\"y\":[-0.023373257728489368],\"yaxis\":\"y\",\"type\":\"scatter\"},{\"hovertemplate\":\"label=KYSE450_OESOPHAGUS_TenPx09<br>PC1=%{x}<br>PC2=%{y}<extra></extra>\",\"legendgroup\":\"KYSE450_OESOPHAGUS_TenPx09\",\"marker\":{\"color\":\"rgb(255,255,179)\",\"symbol\":\"circle\",\"line\":{\"width\":1},\"size\":8},\"mode\":\"markers\",\"name\":\"KYSE450_OESOPHAGUS_TenPx09\",\"orientation\":\"v\",\"showlegend\":true,\"x\":[0.08633010050527466],\"xaxis\":\"x\",\"y\":[-0.2158147753978706],\"yaxis\":\"y\",\"type\":\"scatter\"},{\"hovertemplate\":\"label=RT112_URINARY_TRACT_TenPx09<br>PC1=%{x}<br>PC2=%{y}<extra></extra>\",\"legendgroup\":\"RT112_URINARY_TRACT_TenPx09\",\"marker\":{\"color\":\"rgb(229,216,189)\",\"symbol\":\"circle\",\"line\":{\"width\":1},\"size\":8},\"mode\":\"markers\",\"name\":\"RT112_URINARY_TRACT_TenPx09\",\"orientation\":\"v\",\"showlegend\":true,\"x\":[-0.2510318945838157],\"xaxis\":\"x\",\"y\":[-0.2975345609415966],\"yaxis\":\"y\",\"type\":\"scatter\"},{\"hovertemplate\":\"label=LS513_LARGE_INTESTINE_TenPx09<br>PC1=%{x}<br>PC2=%{y}<extra></extra>\",\"legendgroup\":\"LS513_LARGE_INTESTINE_TenPx09\",\"marker\":{\"color\":\"rgb(242,242,242)\",\"symbol\":\"circle\",\"line\":{\"width\":1},\"size\":8},\"mode\":\"markers\",\"name\":\"LS513_LARGE_INTESTINE_TenPx09\",\"orientation\":\"v\",\"showlegend\":true,\"x\":[-0.012355412569745716],\"xaxis\":\"x\",\"y\":[0.14221162879953006],\"yaxis\":\"y\",\"type\":\"scatter\"},{\"hovertemplate\":\"label=HCC827_LUNG_TenPx10<br>PC1=%{x}<br>PC2=%{y}<extra></extra>\",\"legendgroup\":\"HCC827_LUNG_TenPx10\",\"marker\":{\"color\":\"rgb(222,203,228)\",\"symbol\":\"circle\",\"line\":{\"width\":1},\"size\":8},\"mode\":\"markers\",\"name\":\"HCC827_LUNG_TenPx10\",\"orientation\":\"v\",\"showlegend\":true,\"x\":[-0.21370881905285047],\"xaxis\":\"x\",\"y\":[-0.13113861100921456],\"yaxis\":\"y\",\"type\":\"scatter\"},{\"hovertemplate\":\"label=NCIH2110_LUNG_TenPx10<br>PC1=%{x}<br>PC2=%{y}<extra></extra>\",\"legendgroup\":\"NCIH2110_LUNG_TenPx10\",\"marker\":{\"color\":\"rgb(222,203,228)\",\"symbol\":\"circle\",\"line\":{\"width\":1},\"size\":8},\"mode\":\"markers\",\"name\":\"NCIH2110_LUNG_TenPx10\",\"orientation\":\"v\",\"showlegend\":true,\"x\":[0.050238805149282625],\"xaxis\":\"x\",\"y\":[-0.15113543088056372],\"yaxis\":\"y\",\"type\":\"scatter\"},{\"hovertemplate\":\"label=MIAPACA2_PANCREAS_TenPx10<br>PC1=%{x}<br>PC2=%{y}<extra></extra>\",\"legendgroup\":\"MIAPACA2_PANCREAS_TenPx10\",\"marker\":{\"color\":\"rgb(253,218,236)\",\"symbol\":\"circle\",\"line\":{\"width\":1},\"size\":8},\"mode\":\"markers\",\"name\":\"MIAPACA2_PANCREAS_TenPx10\",\"orientation\":\"v\",\"showlegend\":true,\"x\":[-0.5285441488413186],\"xaxis\":\"x\",\"y\":[-0.2676689568376206],\"yaxis\":\"y\",\"type\":\"scatter\"},{\"hovertemplate\":\"label=NCIH520_LUNG_TenPx10<br>PC1=%{x}<br>PC2=%{y}<extra></extra>\",\"legendgroup\":\"NCIH520_LUNG_TenPx10\",\"marker\":{\"color\":\"rgb(222,203,228)\",\"symbol\":\"circle\",\"line\":{\"width\":1},\"size\":8},\"mode\":\"markers\",\"name\":\"NCIH520_LUNG_TenPx10\",\"orientation\":\"v\",\"showlegend\":true,\"x\":[-0.2858208043293033],\"xaxis\":\"x\",\"y\":[-0.1679375692364403],\"yaxis\":\"y\",\"type\":\"scatter\"},{\"hovertemplate\":\"label=SW480_LARGE_INTESTINE_TenPx10<br>PC1=%{x}<br>PC2=%{y}<extra></extra>\",\"legendgroup\":\"SW480_LARGE_INTESTINE_TenPx10\",\"marker\":{\"color\":\"rgb(242,242,242)\",\"symbol\":\"circle\",\"line\":{\"width\":1},\"size\":8},\"mode\":\"markers\",\"name\":\"SW480_LARGE_INTESTINE_TenPx10\",\"orientation\":\"v\",\"showlegend\":true,\"x\":[-0.33354400060863476],\"xaxis\":\"x\",\"y\":[-0.23327814046564735],\"yaxis\":\"y\",\"type\":\"scatter\"},{\"hovertemplate\":\"label=OE33_OESOPHAGUS_TenPx10<br>PC1=%{x}<br>PC2=%{y}<extra></extra>\",\"legendgroup\":\"OE33_OESOPHAGUS_TenPx10\",\"marker\":{\"color\":\"rgb(255,255,179)\",\"symbol\":\"circle\",\"line\":{\"width\":1},\"size\":8},\"mode\":\"markers\",\"name\":\"OE33_OESOPHAGUS_TenPx10\",\"orientation\":\"v\",\"showlegend\":true,\"x\":[-0.04993607391380183],\"xaxis\":\"x\",\"y\":[0.02341569077580936],\"yaxis\":\"y\",\"type\":\"scatter\"},{\"hovertemplate\":\"label=ZR751_BREAST_TenPx10<br>PC1=%{x}<br>PC2=%{y}<extra></extra>\",\"legendgroup\":\"ZR751_BREAST_TenPx10\",\"marker\":{\"color\":\"rgb(251,180,174)\",\"symbol\":\"circle\",\"line\":{\"width\":1},\"size\":8},\"mode\":\"markers\",\"name\":\"ZR751_BREAST_TenPx10\",\"orientation\":\"v\",\"showlegend\":true,\"x\":[0.40573291188149774],\"xaxis\":\"x\",\"y\":[0.43992902333666795],\"yaxis\":\"y\",\"type\":\"scatter\"},{\"hovertemplate\":\"label=COLO679_SKIN_TenPx10<br>PC1=%{x}<br>PC2=%{y}<extra></extra>\",\"legendgroup\":\"COLO679_SKIN_TenPx10\",\"marker\":{\"color\":\"rgb(179,205,227)\",\"symbol\":\"circle\",\"line\":{\"width\":1},\"size\":8},\"mode\":\"markers\",\"name\":\"COLO679_SKIN_TenPx10\",\"orientation\":\"v\",\"showlegend\":true,\"x\":[0.1630172678206001],\"xaxis\":\"x\",\"y\":[0.18316377626874608],\"yaxis\":\"y\",\"type\":\"scatter\"},{\"hovertemplate\":\"label=786O_KIDNEY_TenPx10<br>PC1=%{x}<br>PC2=%{y}<extra></extra>\",\"legendgroup\":\"786O_KIDNEY_TenPx10\",\"marker\":{\"color\":\"rgb(204,235,197)\",\"symbol\":\"circle\",\"line\":{\"width\":1},\"size\":8},\"mode\":\"markers\",\"name\":\"786O_KIDNEY_TenPx10\",\"orientation\":\"v\",\"showlegend\":true,\"x\":[0.4517807303904988],\"xaxis\":\"x\",\"y\":[0.39888911397881655],\"yaxis\":\"y\",\"type\":\"scatter\"},{\"hovertemplate\":\"label=HCC38_BREAST_TenPx11<br>PC1=%{x}<br>PC2=%{y}<extra></extra>\",\"legendgroup\":\"HCC38_BREAST_TenPx11\",\"marker\":{\"color\":\"rgb(251,180,174)\",\"symbol\":\"circle\",\"line\":{\"width\":1},\"size\":8},\"mode\":\"markers\",\"name\":\"HCC38_BREAST_TenPx11\",\"orientation\":\"v\",\"showlegend\":true,\"x\":[-0.2954254742467492],\"xaxis\":\"x\",\"y\":[-0.003888362671204902],\"yaxis\":\"y\",\"type\":\"scatter\"},{\"hovertemplate\":\"label=QGP1_PANCREAS_TenPx11<br>PC1=%{x}<br>PC2=%{y}<extra></extra>\",\"legendgroup\":\"QGP1_PANCREAS_TenPx11\",\"marker\":{\"color\":\"rgb(253,218,236)\",\"symbol\":\"circle\",\"line\":{\"width\":1},\"size\":8},\"mode\":\"markers\",\"name\":\"QGP1_PANCREAS_TenPx11\",\"orientation\":\"v\",\"showlegend\":true,\"x\":[0.2077071110243059],\"xaxis\":\"x\",\"y\":[-0.25825157189501063],\"yaxis\":\"y\",\"type\":\"scatter\"},{\"hovertemplate\":\"label=HCC95_LUNG_TenPx11<br>PC1=%{x}<br>PC2=%{y}<extra></extra>\",\"legendgroup\":\"HCC95_LUNG_TenPx11\",\"marker\":{\"color\":\"rgb(222,203,228)\",\"symbol\":\"circle\",\"line\":{\"width\":1},\"size\":8},\"mode\":\"markers\",\"name\":\"HCC95_LUNG_TenPx11\",\"orientation\":\"v\",\"showlegend\":true,\"x\":[-0.09676698603496445],\"xaxis\":\"x\",\"y\":[-0.010129607005892074],\"yaxis\":\"y\",\"type\":\"scatter\"},{\"hovertemplate\":\"label=SW948_LARGE_INTESTINE_TenPx11<br>PC1=%{x}<br>PC2=%{y}<extra></extra>\",\"legendgroup\":\"SW948_LARGE_INTESTINE_TenPx11\",\"marker\":{\"color\":\"rgb(242,242,242)\",\"symbol\":\"circle\",\"line\":{\"width\":1},\"size\":8},\"mode\":\"markers\",\"name\":\"SW948_LARGE_INTESTINE_TenPx11\",\"orientation\":\"v\",\"showlegend\":true,\"x\":[0.3019631652612735],\"xaxis\":\"x\",\"y\":[0.1519582289002458],\"yaxis\":\"y\",\"type\":\"scatter\"},{\"hovertemplate\":\"label=LK2_LUNG_TenPx11<br>PC1=%{x}<br>PC2=%{y}<extra></extra>\",\"legendgroup\":\"LK2_LUNG_TenPx11\",\"marker\":{\"color\":\"rgb(222,203,228)\",\"symbol\":\"circle\",\"line\":{\"width\":1},\"size\":8},\"mode\":\"markers\",\"name\":\"LK2_LUNG_TenPx11\",\"orientation\":\"v\",\"showlegend\":true,\"x\":[-0.08096604750575488],\"xaxis\":\"x\",\"y\":[-0.14613425901965194],\"yaxis\":\"y\",\"type\":\"scatter\"},{\"hovertemplate\":\"label=OVCAR4_OVARY_TenPx11<br>PC1=%{x}<br>PC2=%{y}<extra></extra>\",\"legendgroup\":\"OVCAR4_OVARY_TenPx11\",\"marker\":{\"color\":\"black\",\"symbol\":\"circle\",\"line\":{\"width\":1},\"size\":8},\"mode\":\"markers\",\"name\":\"OVCAR4_OVARY_TenPx11\",\"orientation\":\"v\",\"showlegend\":true,\"x\":[-0.09608330374003637],\"xaxis\":\"x\",\"y\":[-0.016750299203168437],\"yaxis\":\"y\",\"type\":\"scatter\"},{\"hovertemplate\":\"label=COLO741_SKIN_TenPx11<br>PC1=%{x}<br>PC2=%{y}<extra></extra>\",\"legendgroup\":\"COLO741_SKIN_TenPx11\",\"marker\":{\"color\":\"rgb(179,205,227)\",\"symbol\":\"circle\",\"line\":{\"width\":1},\"size\":8},\"mode\":\"markers\",\"name\":\"COLO741_SKIN_TenPx11\",\"orientation\":\"v\",\"showlegend\":true,\"x\":[-0.21940775172045468],\"xaxis\":\"x\",\"y\":[0.0038952848427231458],\"yaxis\":\"y\",\"type\":\"scatter\"},{\"hovertemplate\":\"label=NCIH1650_LUNG_TenPx11<br>PC1=%{x}<br>PC2=%{y}<extra></extra>\",\"legendgroup\":\"NCIH1650_LUNG_TenPx11\",\"marker\":{\"color\":\"rgb(222,203,228)\",\"symbol\":\"circle\",\"line\":{\"width\":1},\"size\":8},\"mode\":\"markers\",\"name\":\"NCIH1650_LUNG_TenPx11\",\"orientation\":\"v\",\"showlegend\":true,\"x\":[-0.06063775615732044],\"xaxis\":\"x\",\"y\":[0.3505490918055973],\"yaxis\":\"y\",\"type\":\"scatter\"},{\"hovertemplate\":\"label=UACC257_SKIN_TenPx11<br>PC1=%{x}<br>PC2=%{y}<extra></extra>\",\"legendgroup\":\"UACC257_SKIN_TenPx11\",\"marker\":{\"color\":\"rgb(179,205,227)\",\"symbol\":\"circle\",\"line\":{\"width\":1},\"size\":8},\"mode\":\"markers\",\"name\":\"UACC257_SKIN_TenPx11\",\"orientation\":\"v\",\"showlegend\":true,\"x\":[0.04897832527988529],\"xaxis\":\"x\",\"y\":[0.1392193700225997],\"yaxis\":\"y\",\"type\":\"scatter\"},{\"hovertemplate\":\"label=NCIH1573_LUNG_TenPx12<br>PC1=%{x}<br>PC2=%{y}<extra></extra>\",\"legendgroup\":\"NCIH1573_LUNG_TenPx12\",\"marker\":{\"color\":\"rgb(222,203,228)\",\"symbol\":\"circle\",\"line\":{\"width\":1},\"size\":8},\"mode\":\"markers\",\"name\":\"NCIH1573_LUNG_TenPx12\",\"orientation\":\"v\",\"showlegend\":true,\"x\":[-0.7533695072773908],\"xaxis\":\"x\",\"y\":[-0.11072439578215193],\"yaxis\":\"y\",\"type\":\"scatter\"},{\"hovertemplate\":\"label=A549_LUNG_TenPx12<br>PC1=%{x}<br>PC2=%{y}<extra></extra>\",\"legendgroup\":\"A549_LUNG_TenPx12\",\"marker\":{\"color\":\"rgb(222,203,228)\",\"symbol\":\"circle\",\"line\":{\"width\":1},\"size\":8},\"mode\":\"markers\",\"name\":\"A549_LUNG_TenPx12\",\"orientation\":\"v\",\"showlegend\":true,\"x\":[-0.13875934005278318],\"xaxis\":\"x\",\"y\":[0.0008026758665343374],\"yaxis\":\"y\",\"type\":\"scatter\"},{\"hovertemplate\":\"label=SU8686_PANCREAS_TenPx12<br>PC1=%{x}<br>PC2=%{y}<extra></extra>\",\"legendgroup\":\"SU8686_PANCREAS_TenPx12\",\"marker\":{\"color\":\"rgb(253,218,236)\",\"symbol\":\"circle\",\"line\":{\"width\":1},\"size\":8},\"mode\":\"markers\",\"name\":\"SU8686_PANCREAS_TenPx12\",\"orientation\":\"v\",\"showlegend\":true,\"x\":[-0.47657477395737036],\"xaxis\":\"x\",\"y\":[-0.08252720630970269],\"yaxis\":\"y\",\"type\":\"scatter\"},{\"hovertemplate\":\"label=TE14_OESOPHAGUS_TenPx12<br>PC1=%{x}<br>PC2=%{y}<extra></extra>\",\"legendgroup\":\"TE14_OESOPHAGUS_TenPx12\",\"marker\":{\"color\":\"rgb(255,255,179)\",\"symbol\":\"circle\",\"line\":{\"width\":1},\"size\":8},\"mode\":\"markers\",\"name\":\"TE14_OESOPHAGUS_TenPx12\",\"orientation\":\"v\",\"showlegend\":true,\"x\":[-0.017406229228267102],\"xaxis\":\"x\",\"y\":[-0.05254594558459982],\"yaxis\":\"y\",\"type\":\"scatter\"},{\"hovertemplate\":\"label=NCIH2170_LUNG_TenPx12<br>PC1=%{x}<br>PC2=%{y}<extra></extra>\",\"legendgroup\":\"NCIH2170_LUNG_TenPx12\",\"marker\":{\"color\":\"rgb(222,203,228)\",\"symbol\":\"circle\",\"line\":{\"width\":1},\"size\":8},\"mode\":\"markers\",\"name\":\"NCIH2170_LUNG_TenPx12\",\"orientation\":\"v\",\"showlegend\":true,\"x\":[0.344312405038405],\"xaxis\":\"x\",\"y\":[-0.03737468006622146],\"yaxis\":\"y\",\"type\":\"scatter\"},{\"hovertemplate\":\"label=HCC1500_BREAST_TenPx12<br>PC1=%{x}<br>PC2=%{y}<extra></extra>\",\"legendgroup\":\"HCC1500_BREAST_TenPx12\",\"marker\":{\"color\":\"rgb(251,180,174)\",\"symbol\":\"circle\",\"line\":{\"width\":1},\"size\":8},\"mode\":\"markers\",\"name\":\"HCC1500_BREAST_TenPx12\",\"orientation\":\"v\",\"showlegend\":true,\"x\":[0.3384176235651453],\"xaxis\":\"x\",\"y\":[-0.07050175727589117],\"yaxis\":\"y\",\"type\":\"scatter\"},{\"hovertemplate\":\"label=MDAMB436_BREAST_TenPx12<br>PC1=%{x}<br>PC2=%{y}<extra></extra>\",\"legendgroup\":\"MDAMB436_BREAST_TenPx12\",\"marker\":{\"color\":\"rgb(251,180,174)\",\"symbol\":\"circle\",\"line\":{\"width\":1},\"size\":8},\"mode\":\"markers\",\"name\":\"MDAMB436_BREAST_TenPx12\",\"orientation\":\"v\",\"showlegend\":true,\"x\":[0.31869574598337086],\"xaxis\":\"x\",\"y\":[0.4827858854094008],\"yaxis\":\"y\",\"type\":\"scatter\"},{\"hovertemplate\":\"label=DV90_LUNG_TenPx12<br>PC1=%{x}<br>PC2=%{y}<extra></extra>\",\"legendgroup\":\"DV90_LUNG_TenPx12\",\"marker\":{\"color\":\"rgb(222,203,228)\",\"symbol\":\"circle\",\"line\":{\"width\":1},\"size\":8},\"mode\":\"markers\",\"name\":\"DV90_LUNG_TenPx12\",\"orientation\":\"v\",\"showlegend\":true,\"x\":[0.17840347051094943],\"xaxis\":\"x\",\"y\":[0.22649398453609768],\"yaxis\":\"y\",\"type\":\"scatter\"},{\"hovertemplate\":\"label=SNU61_LARGE_INTESTINE_TenPx12<br>PC1=%{x}<br>PC2=%{y}<extra></extra>\",\"legendgroup\":\"SNU61_LARGE_INTESTINE_TenPx12\",\"marker\":{\"color\":\"rgb(242,242,242)\",\"symbol\":\"circle\",\"line\":{\"width\":1},\"size\":8},\"mode\":\"markers\",\"name\":\"SNU61_LARGE_INTESTINE_TenPx12\",\"orientation\":\"v\",\"showlegend\":true,\"x\":[-0.15043205237142565],\"xaxis\":\"x\",\"y\":[-0.3150599229018215],\"yaxis\":\"y\",\"type\":\"scatter\"},{\"hovertemplate\":\"label=SBC5_LUNG_TenPx13<br>PC1=%{x}<br>PC2=%{y}<extra></extra>\",\"legendgroup\":\"SBC5_LUNG_TenPx13\",\"marker\":{\"color\":\"rgb(222,203,228)\",\"symbol\":\"circle\",\"line\":{\"width\":1},\"size\":8},\"mode\":\"markers\",\"name\":\"SBC5_LUNG_TenPx13\",\"orientation\":\"v\",\"showlegend\":true,\"x\":[-0.1346153704013806],\"xaxis\":\"x\",\"y\":[-0.5463270376685676],\"yaxis\":\"y\",\"type\":\"scatter\"},{\"hovertemplate\":\"label=HT1376_URINARY_TRACT_TenPx13<br>PC1=%{x}<br>PC2=%{y}<extra></extra>\",\"legendgroup\":\"HT1376_URINARY_TRACT_TenPx13\",\"marker\":{\"color\":\"rgb(229,216,189)\",\"symbol\":\"circle\",\"line\":{\"width\":1},\"size\":8},\"mode\":\"markers\",\"name\":\"HT1376_URINARY_TRACT_TenPx13\",\"orientation\":\"v\",\"showlegend\":true,\"x\":[0.04070622279230842],\"xaxis\":\"x\",\"y\":[0.16241454610081713],\"yaxis\":\"y\",\"type\":\"scatter\"},{\"hovertemplate\":\"label=CFPAC1_PANCREAS_TenPx13<br>PC1=%{x}<br>PC2=%{y}<extra></extra>\",\"legendgroup\":\"CFPAC1_PANCREAS_TenPx13\",\"marker\":{\"color\":\"rgb(253,218,236)\",\"symbol\":\"circle\",\"line\":{\"width\":1},\"size\":8},\"mode\":\"markers\",\"name\":\"CFPAC1_PANCREAS_TenPx13\",\"orientation\":\"v\",\"showlegend\":true,\"x\":[-0.25786087489562654],\"xaxis\":\"x\",\"y\":[-0.016637848044740434],\"yaxis\":\"y\",\"type\":\"scatter\"},{\"hovertemplate\":\"label=NCIH3255_LUNG_TenPx13<br>PC1=%{x}<br>PC2=%{y}<extra></extra>\",\"legendgroup\":\"NCIH3255_LUNG_TenPx13\",\"marker\":{\"color\":\"rgb(222,203,228)\",\"symbol\":\"circle\",\"line\":{\"width\":1},\"size\":8},\"mode\":\"markers\",\"name\":\"NCIH3255_LUNG_TenPx13\",\"orientation\":\"v\",\"showlegend\":true,\"x\":[-0.208951034200235],\"xaxis\":\"x\",\"y\":[-0.20820572382451805],\"yaxis\":\"y\",\"type\":\"scatter\"},{\"hovertemplate\":\"label=NCIH1975_LUNG_TenPx13<br>PC1=%{x}<br>PC2=%{y}<extra></extra>\",\"legendgroup\":\"NCIH1975_LUNG_TenPx13\",\"marker\":{\"color\":\"rgb(222,203,228)\",\"symbol\":\"circle\",\"line\":{\"width\":1},\"size\":8},\"mode\":\"markers\",\"name\":\"NCIH1975_LUNG_TenPx13\",\"orientation\":\"v\",\"showlegend\":true,\"x\":[0.13737178174780437],\"xaxis\":\"x\",\"y\":[0.3717264068969937],\"yaxis\":\"y\",\"type\":\"scatter\"},{\"hovertemplate\":\"label=COLO678_LARGE_INTESTINE_TenPx13<br>PC1=%{x}<br>PC2=%{y}<extra></extra>\",\"legendgroup\":\"COLO678_LARGE_INTESTINE_TenPx13\",\"marker\":{\"color\":\"rgb(242,242,242)\",\"symbol\":\"circle\",\"line\":{\"width\":1},\"size\":8},\"mode\":\"markers\",\"name\":\"COLO678_LARGE_INTESTINE_TenPx13\",\"orientation\":\"v\",\"showlegend\":true,\"x\":[0.19810266690724124],\"xaxis\":\"x\",\"y\":[0.08712787623862471],\"yaxis\":\"y\",\"type\":\"scatter\"},{\"hovertemplate\":\"label=SNU119_OVARY_TenPx13<br>PC1=%{x}<br>PC2=%{y}<extra></extra>\",\"legendgroup\":\"SNU119_OVARY_TenPx13\",\"marker\":{\"color\":\"black\",\"symbol\":\"circle\",\"line\":{\"width\":1},\"size\":8},\"mode\":\"markers\",\"name\":\"SNU119_OVARY_TenPx13\",\"orientation\":\"v\",\"showlegend\":true,\"x\":[-0.3563148982309991],\"xaxis\":\"x\",\"y\":[-0.01591441313551449],\"yaxis\":\"y\",\"type\":\"scatter\"},{\"hovertemplate\":\"label=CORL105_LUNG_TenPx13<br>PC1=%{x}<br>PC2=%{y}<extra></extra>\",\"legendgroup\":\"CORL105_LUNG_TenPx13\",\"marker\":{\"color\":\"rgb(222,203,228)\",\"symbol\":\"circle\",\"line\":{\"width\":1},\"size\":8},\"mode\":\"markers\",\"name\":\"CORL105_LUNG_TenPx13\",\"orientation\":\"v\",\"showlegend\":true,\"x\":[0.09690724622829154],\"xaxis\":\"x\",\"y\":[0.27707578426494595],\"yaxis\":\"y\",\"type\":\"scatter\"},{\"hovertemplate\":\"label=HCC70_BREAST_TenPx13<br>PC1=%{x}<br>PC2=%{y}<extra></extra>\",\"legendgroup\":\"HCC70_BREAST_TenPx13\",\"marker\":{\"color\":\"rgb(251,180,174)\",\"symbol\":\"circle\",\"line\":{\"width\":1},\"size\":8},\"mode\":\"markers\",\"name\":\"HCC70_BREAST_TenPx13\",\"orientation\":\"v\",\"showlegend\":true,\"x\":[0.2290215886887256],\"xaxis\":\"x\",\"y\":[0.058972484666765114],\"yaxis\":\"y\",\"type\":\"scatter\"},{\"hovertemplate\":\"label=AGS_STOMACH_TenPx16<br>PC1=%{x}<br>PC2=%{y}<extra></extra>\",\"legendgroup\":\"AGS_STOMACH_TenPx16\",\"marker\":{\"color\":\"rgb(141,211,199)\",\"symbol\":\"circle\",\"line\":{\"width\":1},\"size\":8},\"mode\":\"markers\",\"name\":\"AGS_STOMACH_TenPx16\",\"orientation\":\"v\",\"showlegend\":true,\"x\":[-0.1683391223184204],\"xaxis\":\"x\",\"y\":[0.13626762134199333],\"yaxis\":\"y\",\"type\":\"scatter\"},{\"hovertemplate\":\"label=HCC1143_BREAST_TenPx16<br>PC1=%{x}<br>PC2=%{y}<extra></extra>\",\"legendgroup\":\"HCC1143_BREAST_TenPx16\",\"marker\":{\"color\":\"rgb(251,180,174)\",\"symbol\":\"circle\",\"line\":{\"width\":1},\"size\":8},\"mode\":\"markers\",\"name\":\"HCC1143_BREAST_TenPx16\",\"orientation\":\"v\",\"showlegend\":true,\"x\":[-0.4083137740660169],\"xaxis\":\"x\",\"y\":[0.05540768943106848],\"yaxis\":\"y\",\"type\":\"scatter\"},{\"hovertemplate\":\"label=NCIH1666_LUNG_TenPx16<br>PC1=%{x}<br>PC2=%{y}<extra></extra>\",\"legendgroup\":\"NCIH1666_LUNG_TenPx16\",\"marker\":{\"color\":\"rgb(222,203,228)\",\"symbol\":\"circle\",\"line\":{\"width\":1},\"size\":8},\"mode\":\"markers\",\"name\":\"NCIH1666_LUNG_TenPx16\",\"orientation\":\"v\",\"showlegend\":true,\"x\":[-0.5894580307962194],\"xaxis\":\"x\",\"y\":[-0.2935486847668733],\"yaxis\":\"y\",\"type\":\"scatter\"},{\"hovertemplate\":\"label=NCIH2291_LUNG_TenPx16<br>PC1=%{x}<br>PC2=%{y}<extra></extra>\",\"legendgroup\":\"NCIH2291_LUNG_TenPx16\",\"marker\":{\"color\":\"rgb(222,203,228)\",\"symbol\":\"circle\",\"line\":{\"width\":1},\"size\":8},\"mode\":\"markers\",\"name\":\"NCIH2291_LUNG_TenPx16\",\"orientation\":\"v\",\"showlegend\":true,\"x\":[0.5959152971348043],\"xaxis\":\"x\",\"y\":[0.24716426534218075],\"yaxis\":\"y\",\"type\":\"scatter\"},{\"hovertemplate\":\"label=NCIH747_LARGE_INTESTINE_TenPx16<br>PC1=%{x}<br>PC2=%{y}<extra></extra>\",\"legendgroup\":\"NCIH747_LARGE_INTESTINE_TenPx16\",\"marker\":{\"color\":\"rgb(242,242,242)\",\"symbol\":\"circle\",\"line\":{\"width\":1},\"size\":8},\"mode\":\"markers\",\"name\":\"NCIH747_LARGE_INTESTINE_TenPx16\",\"orientation\":\"v\",\"showlegend\":true,\"x\":[0.1756301990667015],\"xaxis\":\"x\",\"y\":[0.2087854976860468],\"yaxis\":\"y\",\"type\":\"scatter\"},{\"hovertemplate\":\"label=NCIH838_LUNG_TenPx16<br>PC1=%{x}<br>PC2=%{y}<extra></extra>\",\"legendgroup\":\"NCIH838_LUNG_TenPx16\",\"marker\":{\"color\":\"rgb(222,203,228)\",\"symbol\":\"circle\",\"line\":{\"width\":1},\"size\":8},\"mode\":\"markers\",\"name\":\"NCIH838_LUNG_TenPx16\",\"orientation\":\"v\",\"showlegend\":true,\"x\":[-0.1342572038181586],\"xaxis\":\"x\",\"y\":[-0.12715006734291356],\"yaxis\":\"y\",\"type\":\"scatter\"},{\"hovertemplate\":\"label=FUOV1_OVARY_TenPx16<br>PC1=%{x}<br>PC2=%{y}<extra></extra>\",\"legendgroup\":\"FUOV1_OVARY_TenPx16\",\"marker\":{\"color\":\"black\",\"symbol\":\"circle\",\"line\":{\"width\":1},\"size\":8},\"mode\":\"markers\",\"name\":\"FUOV1_OVARY_TenPx16\",\"orientation\":\"v\",\"showlegend\":true,\"x\":[0.09433711287866424],\"xaxis\":\"x\",\"y\":[-0.44190526732439656],\"yaxis\":\"y\",\"type\":\"scatter\"},{\"hovertemplate\":\"label=RERFLCSQ1_LUNG_TenPx16<br>PC1=%{x}<br>PC2=%{y}<extra></extra>\",\"legendgroup\":\"RERFLCSQ1_LUNG_TenPx16\",\"marker\":{\"color\":\"rgb(222,203,228)\",\"symbol\":\"circle\",\"line\":{\"width\":1},\"size\":8},\"mode\":\"markers\",\"name\":\"RERFLCSQ1_LUNG_TenPx16\",\"orientation\":\"v\",\"showlegend\":true,\"x\":[0.10874730197295904],\"xaxis\":\"x\",\"y\":[0.10492926626454767],\"yaxis\":\"y\",\"type\":\"scatter\"},{\"hovertemplate\":\"label=DETROIT562_UPPER_AERODIGESTIVE_TRACT_TenPx16<br>PC1=%{x}<br>PC2=%{y}<extra></extra>\",\"legendgroup\":\"DETROIT562_UPPER_AERODIGESTIVE_TRACT_TenPx16\",\"marker\":{\"color\":\"rgb(255,255,204)\",\"symbol\":\"circle\",\"line\":{\"width\":1},\"size\":8},\"mode\":\"markers\",\"name\":\"DETROIT562_UPPER_AERODIGESTIVE_TRACT_TenPx16\",\"orientation\":\"v\",\"showlegend\":true,\"x\":[-0.13595566954437402],\"xaxis\":\"x\",\"y\":[0.05210333406994825],\"yaxis\":\"y\",\"type\":\"scatter\"},{\"hovertemplate\":\"label=L33_PANCREAS_TenPx17<br>PC1=%{x}<br>PC2=%{y}<extra></extra>\",\"legendgroup\":\"L33_PANCREAS_TenPx17\",\"marker\":{\"color\":\"rgb(253,218,236)\",\"symbol\":\"circle\",\"line\":{\"width\":1},\"size\":8},\"mode\":\"markers\",\"name\":\"L33_PANCREAS_TenPx17\",\"orientation\":\"v\",\"showlegend\":true,\"x\":[-0.4561922589329566],\"xaxis\":\"x\",\"y\":[-0.3525049059434265],\"yaxis\":\"y\",\"type\":\"scatter\"},{\"hovertemplate\":\"label=MKN45_STOMACH_TenPx17<br>PC1=%{x}<br>PC2=%{y}<extra></extra>\",\"legendgroup\":\"MKN45_STOMACH_TenPx17\",\"marker\":{\"color\":\"rgb(141,211,199)\",\"symbol\":\"circle\",\"line\":{\"width\":1},\"size\":8},\"mode\":\"markers\",\"name\":\"MKN45_STOMACH_TenPx17\",\"orientation\":\"v\",\"showlegend\":true,\"x\":[0.05334439239641346],\"xaxis\":\"x\",\"y\":[-0.1512580667794929],\"yaxis\":\"y\",\"type\":\"scatter\"},{\"hovertemplate\":\"label=MKN7_STOMACH_TenPx17<br>PC1=%{x}<br>PC2=%{y}<extra></extra>\",\"legendgroup\":\"MKN7_STOMACH_TenPx17\",\"marker\":{\"color\":\"rgb(141,211,199)\",\"symbol\":\"circle\",\"line\":{\"width\":1},\"size\":8},\"mode\":\"markers\",\"name\":\"MKN7_STOMACH_TenPx17\",\"orientation\":\"v\",\"showlegend\":true,\"x\":[-0.4214853048338554],\"xaxis\":\"x\",\"y\":[-0.07182035280683752],\"yaxis\":\"y\",\"type\":\"scatter\"},{\"hovertemplate\":\"label=NCIH1793_LUNG_TenPx17<br>PC1=%{x}<br>PC2=%{y}<extra></extra>\",\"legendgroup\":\"NCIH1793_LUNG_TenPx17\",\"marker\":{\"color\":\"rgb(222,203,228)\",\"symbol\":\"circle\",\"line\":{\"width\":1},\"size\":8},\"mode\":\"markers\",\"name\":\"NCIH1793_LUNG_TenPx17\",\"orientation\":\"v\",\"showlegend\":true,\"x\":[0.22767334561335842],\"xaxis\":\"x\",\"y\":[0.44618771513976035],\"yaxis\":\"y\",\"type\":\"scatter\"},{\"hovertemplate\":\"label=NCIH2126_LUNG_TenPx17<br>PC1=%{x}<br>PC2=%{y}<extra></extra>\",\"legendgroup\":\"NCIH2126_LUNG_TenPx17\",\"marker\":{\"color\":\"rgb(222,203,228)\",\"symbol\":\"circle\",\"line\":{\"width\":1},\"size\":8},\"mode\":\"markers\",\"name\":\"NCIH2126_LUNG_TenPx17\",\"orientation\":\"v\",\"showlegend\":true,\"x\":[0.034112433346116605],\"xaxis\":\"x\",\"y\":[0.24232879778759986],\"yaxis\":\"y\",\"type\":\"scatter\"},{\"hovertemplate\":\"label=NCIH2228_LUNG_TenPx17<br>PC1=%{x}<br>PC2=%{y}<extra></extra>\",\"legendgroup\":\"NCIH2228_LUNG_TenPx17\",\"marker\":{\"color\":\"rgb(222,203,228)\",\"symbol\":\"circle\",\"line\":{\"width\":1},\"size\":8},\"mode\":\"markers\",\"name\":\"NCIH2228_LUNG_TenPx17\",\"orientation\":\"v\",\"showlegend\":true,\"x\":[-0.10159463939121896],\"xaxis\":\"x\",\"y\":[-0.12897626392281875],\"yaxis\":\"y\",\"type\":\"scatter\"},{\"hovertemplate\":\"label=NCIH661_LUNG_TenPx17<br>PC1=%{x}<br>PC2=%{y}<extra></extra>\",\"legendgroup\":\"NCIH661_LUNG_TenPx17\",\"marker\":{\"color\":\"rgb(222,203,228)\",\"symbol\":\"circle\",\"line\":{\"width\":1},\"size\":8},\"mode\":\"markers\",\"name\":\"NCIH661_LUNG_TenPx17\",\"orientation\":\"v\",\"showlegend\":true,\"x\":[0.2518893349628222],\"xaxis\":\"x\",\"y\":[0.14623946426142226],\"yaxis\":\"y\",\"type\":\"scatter\"},{\"hovertemplate\":\"label=SNUC2A_LARGE_INTESTINE_TenPx17<br>PC1=%{x}<br>PC2=%{y}<extra></extra>\",\"legendgroup\":\"SNUC2A_LARGE_INTESTINE_TenPx17\",\"marker\":{\"color\":\"rgb(242,242,242)\",\"symbol\":\"circle\",\"line\":{\"width\":1},\"size\":8},\"mode\":\"markers\",\"name\":\"SNUC2A_LARGE_INTESTINE_TenPx17\",\"orientation\":\"v\",\"showlegend\":true,\"x\":[0.3576739691656171],\"xaxis\":\"x\",\"y\":[0.16906032523927053],\"yaxis\":\"y\",\"type\":\"scatter\"},{\"hovertemplate\":\"label=TE6_OESOPHAGUS_TenPx17<br>PC1=%{x}<br>PC2=%{y}<extra></extra>\",\"legendgroup\":\"TE6_OESOPHAGUS_TenPx17\",\"marker\":{\"color\":\"rgb(255,255,179)\",\"symbol\":\"circle\",\"line\":{\"width\":1},\"size\":8},\"mode\":\"markers\",\"name\":\"TE6_OESOPHAGUS_TenPx17\",\"orientation\":\"v\",\"showlegend\":true,\"x\":[-0.08290068741937663],\"xaxis\":\"x\",\"y\":[-0.44899213309846625],\"yaxis\":\"y\",\"type\":\"scatter\"},{\"hovertemplate\":\"label=IGROV1_OVARY_TenPx19<br>PC1=%{x}<br>PC2=%{y}<extra></extra>\",\"legendgroup\":\"IGROV1_OVARY_TenPx19\",\"marker\":{\"color\":\"black\",\"symbol\":\"circle\",\"line\":{\"width\":1},\"size\":8},\"mode\":\"markers\",\"name\":\"IGROV1_OVARY_TenPx19\",\"orientation\":\"v\",\"showlegend\":true,\"x\":[-0.5032989969631568],\"xaxis\":\"x\",\"y\":[-0.24060659671777848],\"yaxis\":\"y\",\"type\":\"scatter\"},{\"hovertemplate\":\"label=LCLC103H_LUNG_TenPx19<br>PC1=%{x}<br>PC2=%{y}<extra></extra>\",\"legendgroup\":\"LCLC103H_LUNG_TenPx19\",\"marker\":{\"color\":\"rgb(222,203,228)\",\"symbol\":\"circle\",\"line\":{\"width\":1},\"size\":8},\"mode\":\"markers\",\"name\":\"LCLC103H_LUNG_TenPx19\",\"orientation\":\"v\",\"showlegend\":true,\"x\":[-0.056034459048594346],\"xaxis\":\"x\",\"y\":[0.12064948211826208],\"yaxis\":\"y\",\"type\":\"scatter\"},{\"hovertemplate\":\"label=LOXIMVI_SKIN_TenPx19<br>PC1=%{x}<br>PC2=%{y}<extra></extra>\",\"legendgroup\":\"LOXIMVI_SKIN_TenPx19\",\"marker\":{\"color\":\"rgb(179,205,227)\",\"symbol\":\"circle\",\"line\":{\"width\":1},\"size\":8},\"mode\":\"markers\",\"name\":\"LOXIMVI_SKIN_TenPx19\",\"orientation\":\"v\",\"showlegend\":true,\"x\":[0.1243655857254803],\"xaxis\":\"x\",\"y\":[-0.3614048965780724],\"yaxis\":\"y\",\"type\":\"scatter\"},{\"hovertemplate\":\"label=MDAMB453_BREAST_TenPx19<br>PC1=%{x}<br>PC2=%{y}<extra></extra>\",\"legendgroup\":\"MDAMB453_BREAST_TenPx19\",\"marker\":{\"color\":\"rgb(251,180,174)\",\"symbol\":\"circle\",\"line\":{\"width\":1},\"size\":8},\"mode\":\"markers\",\"name\":\"MDAMB453_BREAST_TenPx19\",\"orientation\":\"v\",\"showlegend\":true,\"x\":[0.2825545137800203],\"xaxis\":\"x\",\"y\":[-0.02111501853805702],\"yaxis\":\"y\",\"type\":\"scatter\"},{\"hovertemplate\":\"label=NCIH1703_LUNG_TenPx19<br>PC1=%{x}<br>PC2=%{y}<extra></extra>\",\"legendgroup\":\"NCIH1703_LUNG_TenPx19\",\"marker\":{\"color\":\"rgb(222,203,228)\",\"symbol\":\"circle\",\"line\":{\"width\":1},\"size\":8},\"mode\":\"markers\",\"name\":\"NCIH1703_LUNG_TenPx19\",\"orientation\":\"v\",\"showlegend\":true,\"x\":[0.25006095270683915],\"xaxis\":\"x\",\"y\":[0.037939521706360925],\"yaxis\":\"y\",\"type\":\"scatter\"},{\"hovertemplate\":\"label=NCIH196_LUNG_TenPx19<br>PC1=%{x}<br>PC2=%{y}<extra></extra>\",\"legendgroup\":\"NCIH196_LUNG_TenPx19\",\"marker\":{\"color\":\"rgb(222,203,228)\",\"symbol\":\"circle\",\"line\":{\"width\":1},\"size\":8},\"mode\":\"markers\",\"name\":\"NCIH196_LUNG_TenPx19\",\"orientation\":\"v\",\"showlegend\":true,\"x\":[-0.0736799926910273],\"xaxis\":\"x\",\"y\":[0.32475828420802594],\"yaxis\":\"y\",\"type\":\"scatter\"},{\"hovertemplate\":\"label=NCIH2009_LUNG_TenPx19<br>PC1=%{x}<br>PC2=%{y}<extra></extra>\",\"legendgroup\":\"NCIH2009_LUNG_TenPx19\",\"marker\":{\"color\":\"rgb(222,203,228)\",\"symbol\":\"circle\",\"line\":{\"width\":1},\"size\":8},\"mode\":\"markers\",\"name\":\"NCIH2009_LUNG_TenPx19\",\"orientation\":\"v\",\"showlegend\":true,\"x\":[-0.4801098305263837],\"xaxis\":\"x\",\"y\":[-0.5013488993938953],\"yaxis\":\"y\",\"type\":\"scatter\"},{\"hovertemplate\":\"label=NCIH2286_LUNG_TenPx19<br>PC1=%{x}<br>PC2=%{y}<extra></extra>\",\"legendgroup\":\"NCIH2286_LUNG_TenPx19\",\"marker\":{\"color\":\"rgb(222,203,228)\",\"symbol\":\"circle\",\"line\":{\"width\":1},\"size\":8},\"mode\":\"markers\",\"name\":\"NCIH2286_LUNG_TenPx19\",\"orientation\":\"v\",\"showlegend\":true,\"x\":[0.19324533113794579],\"xaxis\":\"x\",\"y\":[0.29964875915718014],\"yaxis\":\"y\",\"type\":\"scatter\"},{\"hovertemplate\":\"label=SNUC1_LARGE_INTESTINE_TenPx19<br>PC1=%{x}<br>PC2=%{y}<extra></extra>\",\"legendgroup\":\"SNUC1_LARGE_INTESTINE_TenPx19\",\"marker\":{\"color\":\"rgb(242,242,242)\",\"symbol\":\"circle\",\"line\":{\"width\":1},\"size\":8},\"mode\":\"markers\",\"name\":\"SNUC1_LARGE_INTESTINE_TenPx19\",\"orientation\":\"v\",\"showlegend\":true,\"x\":[0.1820257825122922],\"xaxis\":\"x\",\"y\":[0.44839084234705207],\"yaxis\":\"y\",\"type\":\"scatter\"},{\"hovertemplate\":\"label=COLO205_LARGE_INTESTINE_TenPx20<br>PC1=%{x}<br>PC2=%{y}<extra></extra>\",\"legendgroup\":\"COLO205_LARGE_INTESTINE_TenPx20\",\"marker\":{\"color\":\"rgb(242,242,242)\",\"symbol\":\"circle\",\"line\":{\"width\":1},\"size\":8},\"mode\":\"markers\",\"name\":\"COLO205_LARGE_INTESTINE_TenPx20\",\"orientation\":\"v\",\"showlegend\":true,\"x\":[-0.1389821487757258],\"xaxis\":\"x\",\"y\":[0.5474575527877497],\"yaxis\":\"y\",\"type\":\"scatter\"},{\"hovertemplate\":\"label=CORL47_LUNG_TenPx20<br>PC1=%{x}<br>PC2=%{y}<extra></extra>\",\"legendgroup\":\"CORL47_LUNG_TenPx20\",\"marker\":{\"color\":\"rgb(222,203,228)\",\"symbol\":\"circle\",\"line\":{\"width\":1},\"size\":8},\"mode\":\"markers\",\"name\":\"CORL47_LUNG_TenPx20\",\"orientation\":\"v\",\"showlegend\":true,\"x\":[0.2705849561048418],\"xaxis\":\"x\",\"y\":[-0.22903877195604322],\"yaxis\":\"y\",\"type\":\"scatter\"},{\"hovertemplate\":\"label=HCC1187_BREAST_TenPx20<br>PC1=%{x}<br>PC2=%{y}<extra></extra>\",\"legendgroup\":\"HCC1187_BREAST_TenPx20\",\"marker\":{\"color\":\"rgb(251,180,174)\",\"symbol\":\"circle\",\"line\":{\"width\":1},\"size\":8},\"mode\":\"markers\",\"name\":\"HCC1187_BREAST_TenPx20\",\"orientation\":\"v\",\"showlegend\":true,\"x\":[0.2674996231725492],\"xaxis\":\"x\",\"y\":[-0.17842628567252475],\"yaxis\":\"y\",\"type\":\"scatter\"},{\"hovertemplate\":\"label=HUH6_LIVER_TenPx20<br>PC1=%{x}<br>PC2=%{y}<extra></extra>\",\"legendgroup\":\"HUH6_LIVER_TenPx20\",\"marker\":{\"color\":\"rgb(254,217,166)\",\"symbol\":\"circle\",\"line\":{\"width\":1},\"size\":8},\"mode\":\"markers\",\"name\":\"HUH6_LIVER_TenPx20\",\"orientation\":\"v\",\"showlegend\":true,\"x\":[-0.5493865326589518],\"xaxis\":\"x\",\"y\":[-0.6659263429245422],\"yaxis\":\"y\",\"type\":\"scatter\"},{\"hovertemplate\":\"label=NCIH146_LUNG_TenPx20<br>PC1=%{x}<br>PC2=%{y}<extra></extra>\",\"legendgroup\":\"NCIH146_LUNG_TenPx20\",\"marker\":{\"color\":\"rgb(222,203,228)\",\"symbol\":\"circle\",\"line\":{\"width\":1},\"size\":8},\"mode\":\"markers\",\"name\":\"NCIH146_LUNG_TenPx20\",\"orientation\":\"v\",\"showlegend\":true,\"x\":[0.3166285652633981],\"xaxis\":\"x\",\"y\":[-0.08367444605432071],\"yaxis\":\"y\",\"type\":\"scatter\"},{\"hovertemplate\":\"label=SNU1_STOMACH_TenPx20<br>PC1=%{x}<br>PC2=%{y}<extra></extra>\",\"legendgroup\":\"SNU1_STOMACH_TenPx20\",\"marker\":{\"color\":\"rgb(141,211,199)\",\"symbol\":\"circle\",\"line\":{\"width\":1},\"size\":8},\"mode\":\"markers\",\"name\":\"SNU1_STOMACH_TenPx20\",\"orientation\":\"v\",\"showlegend\":true,\"x\":[0.07104102544955482],\"xaxis\":\"x\",\"y\":[0.30459179977503553],\"yaxis\":\"y\",\"type\":\"scatter\"},{\"hovertemplate\":\"label=NCIH23_LUNG_TenPx20<br>PC1=%{x}<br>PC2=%{y}<extra></extra>\",\"legendgroup\":\"NCIH23_LUNG_TenPx20\",\"marker\":{\"color\":\"rgb(222,203,228)\",\"symbol\":\"circle\",\"line\":{\"width\":1},\"size\":8},\"mode\":\"markers\",\"name\":\"NCIH23_LUNG_TenPx20\",\"orientation\":\"v\",\"showlegend\":true,\"x\":[-0.08007372926664999],\"xaxis\":\"x\",\"y\":[-0.07528939358186011],\"yaxis\":\"y\",\"type\":\"scatter\"},{\"hovertemplate\":\"label=OSRC2_KIDNEY_TenPx20<br>PC1=%{x}<br>PC2=%{y}<extra></extra>\",\"legendgroup\":\"OSRC2_KIDNEY_TenPx20\",\"marker\":{\"color\":\"rgb(204,235,197)\",\"symbol\":\"circle\",\"line\":{\"width\":1},\"size\":8},\"mode\":\"markers\",\"name\":\"OSRC2_KIDNEY_TenPx20\",\"orientation\":\"v\",\"showlegend\":true,\"x\":[0.004693643966982449],\"xaxis\":\"x\",\"y\":[0.38393884077077134],\"yaxis\":\"y\",\"type\":\"scatter\"},{\"hovertemplate\":\"label=SW948_LARGE_INTESTINE_TenPx20<br>PC1=%{x}<br>PC2=%{y}<extra></extra>\",\"legendgroup\":\"SW948_LARGE_INTESTINE_TenPx20\",\"marker\":{\"color\":\"rgb(242,242,242)\",\"symbol\":\"circle\",\"line\":{\"width\":1},\"size\":8},\"mode\":\"markers\",\"name\":\"SW948_LARGE_INTESTINE_TenPx20\",\"orientation\":\"v\",\"showlegend\":true,\"x\":[-0.10803651561386422],\"xaxis\":\"x\",\"y\":[0.14140855962013246],\"yaxis\":\"y\",\"type\":\"scatter\"},{\"hovertemplate\":\"label=CORL88_LUNG_TenPx21<br>PC1=%{x}<br>PC2=%{y}<extra></extra>\",\"legendgroup\":\"CORL88_LUNG_TenPx21\",\"marker\":{\"color\":\"rgb(222,203,228)\",\"symbol\":\"circle\",\"line\":{\"width\":1},\"size\":8},\"mode\":\"markers\",\"name\":\"CORL88_LUNG_TenPx21\",\"orientation\":\"v\",\"showlegend\":true,\"x\":[0.311909623893361],\"xaxis\":\"x\",\"y\":[0.3073180166570551],\"yaxis\":\"y\",\"type\":\"scatter\"},{\"hovertemplate\":\"label=HCC2218_BREAST_TenPx21<br>PC1=%{x}<br>PC2=%{y}<extra></extra>\",\"legendgroup\":\"HCC2218_BREAST_TenPx21\",\"marker\":{\"color\":\"rgb(251,180,174)\",\"symbol\":\"circle\",\"line\":{\"width\":1},\"size\":8},\"mode\":\"markers\",\"name\":\"HCC2218_BREAST_TenPx21\",\"orientation\":\"v\",\"showlegend\":true,\"x\":[0.21137633454088883],\"xaxis\":\"x\",\"y\":[0.4868141819328496],\"yaxis\":\"y\",\"type\":\"scatter\"},{\"hovertemplate\":\"label=HCC44_LUNG_TenPx21<br>PC1=%{x}<br>PC2=%{y}<extra></extra>\",\"legendgroup\":\"HCC44_LUNG_TenPx21\",\"marker\":{\"color\":\"rgb(222,203,228)\",\"symbol\":\"circle\",\"line\":{\"width\":1},\"size\":8},\"mode\":\"markers\",\"name\":\"HCC44_LUNG_TenPx21\",\"orientation\":\"v\",\"showlegend\":true,\"x\":[-0.0809078681992941],\"xaxis\":\"x\",\"y\":[0.003430240917818172],\"yaxis\":\"y\",\"type\":\"scatter\"},{\"hovertemplate\":\"label=HSC4_UPPER_AERODIGESTIVE_TRACT_TenPx21<br>PC1=%{x}<br>PC2=%{y}<extra></extra>\",\"legendgroup\":\"HSC4_UPPER_AERODIGESTIVE_TRACT_TenPx21\",\"marker\":{\"color\":\"rgb(255,255,204)\",\"symbol\":\"circle\",\"line\":{\"width\":1},\"size\":8},\"mode\":\"markers\",\"name\":\"HSC4_UPPER_AERODIGESTIVE_TRACT_TenPx21\",\"orientation\":\"v\",\"showlegend\":true,\"x\":[-0.8353570499398845],\"xaxis\":\"x\",\"y\":[-0.19592914893281613],\"yaxis\":\"y\",\"type\":\"scatter\"},{\"hovertemplate\":\"label=NCIH2172_LUNG_TenPx21<br>PC1=%{x}<br>PC2=%{y}<extra></extra>\",\"legendgroup\":\"NCIH2172_LUNG_TenPx21\",\"marker\":{\"color\":\"rgb(222,203,228)\",\"symbol\":\"circle\",\"line\":{\"width\":1},\"size\":8},\"mode\":\"markers\",\"name\":\"NCIH2172_LUNG_TenPx21\",\"orientation\":\"v\",\"showlegend\":true,\"x\":[-0.1603459777585433],\"xaxis\":\"x\",\"y\":[-0.5563803590529856],\"yaxis\":\"y\",\"type\":\"scatter\"},{\"hovertemplate\":\"label=TCCSUP_URINARY_TRACT_TenPx21<br>PC1=%{x}<br>PC2=%{y}<extra></extra>\",\"legendgroup\":\"TCCSUP_URINARY_TRACT_TenPx21\",\"marker\":{\"color\":\"rgb(229,216,189)\",\"symbol\":\"circle\",\"line\":{\"width\":1},\"size\":8},\"mode\":\"markers\",\"name\":\"TCCSUP_URINARY_TRACT_TenPx21\",\"orientation\":\"v\",\"showlegend\":true,\"x\":[0.023980424023552493],\"xaxis\":\"x\",\"y\":[0.05196467708872991],\"yaxis\":\"y\",\"type\":\"scatter\"},{\"hovertemplate\":\"label=TE11_OESOPHAGUS_TenPx21<br>PC1=%{x}<br>PC2=%{y}<extra></extra>\",\"legendgroup\":\"TE11_OESOPHAGUS_TenPx21\",\"marker\":{\"color\":\"rgb(255,255,179)\",\"symbol\":\"circle\",\"line\":{\"width\":1},\"size\":8},\"mode\":\"markers\",\"name\":\"TE11_OESOPHAGUS_TenPx21\",\"orientation\":\"v\",\"showlegend\":true,\"x\":[-0.2501501479502944],\"xaxis\":\"x\",\"y\":[-0.3411200079134035],\"yaxis\":\"y\",\"type\":\"scatter\"},{\"hovertemplate\":\"label=UACC62_SKIN_TenPx21<br>PC1=%{x}<br>PC2=%{y}<extra></extra>\",\"legendgroup\":\"UACC62_SKIN_TenPx21\",\"marker\":{\"color\":\"rgb(179,205,227)\",\"symbol\":\"circle\",\"line\":{\"width\":1},\"size\":8},\"mode\":\"markers\",\"name\":\"UACC62_SKIN_TenPx21\",\"orientation\":\"v\",\"showlegend\":true,\"x\":[0.12654834527921247],\"xaxis\":\"x\",\"y\":[0.332442663220396],\"yaxis\":\"y\",\"type\":\"scatter\"},{\"hovertemplate\":\"label=VCAP_PROSTATE_TenPx21<br>PC1=%{x}<br>PC2=%{y}<extra></extra>\",\"legendgroup\":\"VCAP_PROSTATE_TenPx21\",\"marker\":{\"color\":\"rgb(190,186,218)\",\"symbol\":\"circle\",\"line\":{\"width\":1},\"size\":8},\"mode\":\"markers\",\"name\":\"VCAP_PROSTATE_TenPx21\",\"orientation\":\"v\",\"showlegend\":true,\"x\":[0.43711051515532934],\"xaxis\":\"x\",\"y\":[-0.11653921670525894],\"yaxis\":\"y\",\"type\":\"scatter\"},{\"hovertemplate\":\"label=EFM19_BREAST_TenPx22<br>PC1=%{x}<br>PC2=%{y}<extra></extra>\",\"legendgroup\":\"EFM19_BREAST_TenPx22\",\"marker\":{\"color\":\"rgb(251,180,174)\",\"symbol\":\"circle\",\"line\":{\"width\":1},\"size\":8},\"mode\":\"markers\",\"name\":\"EFM19_BREAST_TenPx22\",\"orientation\":\"v\",\"showlegend\":true,\"x\":[-0.10624733348300897],\"xaxis\":\"x\",\"y\":[-0.2260340996210191],\"yaxis\":\"y\",\"type\":\"scatter\"},{\"hovertemplate\":\"label=HUG1N_STOMACH_TenPx22<br>PC1=%{x}<br>PC2=%{y}<extra></extra>\",\"legendgroup\":\"HUG1N_STOMACH_TenPx22\",\"marker\":{\"color\":\"rgb(141,211,199)\",\"symbol\":\"circle\",\"line\":{\"width\":1},\"size\":8},\"mode\":\"markers\",\"name\":\"HUG1N_STOMACH_TenPx22\",\"orientation\":\"v\",\"showlegend\":true,\"x\":[0.17429128451017453],\"xaxis\":\"x\",\"y\":[0.2945739751213513],\"yaxis\":\"y\",\"type\":\"scatter\"},{\"hovertemplate\":\"label=KYSE510_OESOPHAGUS_TenPx22<br>PC1=%{x}<br>PC2=%{y}<extra></extra>\",\"legendgroup\":\"KYSE510_OESOPHAGUS_TenPx22\",\"marker\":{\"color\":\"rgb(255,255,179)\",\"symbol\":\"circle\",\"line\":{\"width\":1},\"size\":8},\"mode\":\"markers\",\"name\":\"KYSE510_OESOPHAGUS_TenPx22\",\"orientation\":\"v\",\"showlegend\":true,\"x\":[0.04693130890758874],\"xaxis\":\"x\",\"y\":[0.13291958102397183],\"yaxis\":\"y\",\"type\":\"scatter\"},{\"hovertemplate\":\"label=LU65_LUNG_TenPx22<br>PC1=%{x}<br>PC2=%{y}<extra></extra>\",\"legendgroup\":\"LU65_LUNG_TenPx22\",\"marker\":{\"color\":\"rgb(222,203,228)\",\"symbol\":\"circle\",\"line\":{\"width\":1},\"size\":8},\"mode\":\"markers\",\"name\":\"LU65_LUNG_TenPx22\",\"orientation\":\"v\",\"showlegend\":true,\"x\":[0.13211593021183995],\"xaxis\":\"x\",\"y\":[0.36653068099117203],\"yaxis\":\"y\",\"type\":\"scatter\"},{\"hovertemplate\":\"label=NCIH460_LUNG_TenPx22<br>PC1=%{x}<br>PC2=%{y}<extra></extra>\",\"legendgroup\":\"NCIH460_LUNG_TenPx22\",\"marker\":{\"color\":\"rgb(222,203,228)\",\"symbol\":\"circle\",\"line\":{\"width\":1},\"size\":8},\"mode\":\"markers\",\"name\":\"NCIH460_LUNG_TenPx22\",\"orientation\":\"v\",\"showlegend\":true,\"x\":[-0.25438372398796816],\"xaxis\":\"x\",\"y\":[-0.4042749863448397],\"yaxis\":\"y\",\"type\":\"scatter\"},{\"hovertemplate\":\"label=NCIH522_LUNG_TenPx22<br>PC1=%{x}<br>PC2=%{y}<extra></extra>\",\"legendgroup\":\"NCIH522_LUNG_TenPx22\",\"marker\":{\"color\":\"rgb(222,203,228)\",\"symbol\":\"circle\",\"line\":{\"width\":1},\"size\":8},\"mode\":\"markers\",\"name\":\"NCIH522_LUNG_TenPx22\",\"orientation\":\"v\",\"showlegend\":true,\"x\":[-0.14898119588075667],\"xaxis\":\"x\",\"y\":[-0.30671006526018346],\"yaxis\":\"y\",\"type\":\"scatter\"},{\"hovertemplate\":\"label=PECAPJ34CLONEC12_UPPER_AERODIGESTIVE_TRACT_TenPx22<br>PC1=%{x}<br>PC2=%{y}<extra></extra>\",\"legendgroup\":\"PECAPJ34CLONEC12_UPPER_AERODIGESTIVE_TRACT_TenPx22\",\"marker\":{\"color\":\"rgb(255,255,204)\",\"symbol\":\"circle\",\"line\":{\"width\":1},\"size\":8},\"mode\":\"markers\",\"name\":\"PECAPJ34CLONEC12_UPPER_AERODIGESTIVE_TRACT_TenPx22\",\"orientation\":\"v\",\"showlegend\":true,\"x\":[-0.04042617805933669],\"xaxis\":\"x\",\"y\":[-0.025949087723449782],\"yaxis\":\"y\",\"type\":\"scatter\"},{\"hovertemplate\":\"label=SKMEL30_SKIN_TenPx22<br>PC1=%{x}<br>PC2=%{y}<extra></extra>\",\"legendgroup\":\"SKMEL30_SKIN_TenPx22\",\"marker\":{\"color\":\"rgb(179,205,227)\",\"symbol\":\"circle\",\"line\":{\"width\":1},\"size\":8},\"mode\":\"markers\",\"name\":\"SKMEL30_SKIN_TenPx22\",\"orientation\":\"v\",\"showlegend\":true,\"x\":[0.07638550547289455],\"xaxis\":\"x\",\"y\":[-0.10051036604834784],\"yaxis\":\"y\",\"type\":\"scatter\"},{\"hovertemplate\":\"label=SW1990_PANCREAS_TenPx22<br>PC1=%{x}<br>PC2=%{y}<extra></extra>\",\"legendgroup\":\"SW1990_PANCREAS_TenPx22\",\"marker\":{\"color\":\"rgb(253,218,236)\",\"symbol\":\"circle\",\"line\":{\"width\":1},\"size\":8},\"mode\":\"markers\",\"name\":\"SW1990_PANCREAS_TenPx22\",\"orientation\":\"v\",\"showlegend\":true,\"x\":[0.010365290286069504],\"xaxis\":\"x\",\"y\":[0.3899634794816763],\"yaxis\":\"y\",\"type\":\"scatter\"},{\"hovertemplate\":\"label=A673_BONE_TenPx27<br>PC1=%{x}<br>PC2=%{y}<extra></extra>\",\"legendgroup\":\"A673_BONE_TenPx27\",\"marker\":{\"color\":\"rgb(251,128,114)\",\"symbol\":\"circle\",\"line\":{\"width\":1},\"size\":8},\"mode\":\"markers\",\"name\":\"A673_BONE_TenPx27\",\"orientation\":\"v\",\"showlegend\":true,\"x\":[-0.4163792787609908],\"xaxis\":\"x\",\"y\":[-0.6421005351571034],\"yaxis\":\"y\",\"type\":\"scatter\"},{\"hovertemplate\":\"label=MDAMB231_BREAST_TenPx27<br>PC1=%{x}<br>PC2=%{y}<extra></extra>\",\"legendgroup\":\"MDAMB231_BREAST_TenPx27\",\"marker\":{\"color\":\"rgb(251,180,174)\",\"symbol\":\"circle\",\"line\":{\"width\":1},\"size\":8},\"mode\":\"markers\",\"name\":\"MDAMB231_BREAST_TenPx27\",\"orientation\":\"v\",\"showlegend\":true,\"x\":[-0.07324820271829721],\"xaxis\":\"x\",\"y\":[0.5640121535084519],\"yaxis\":\"y\",\"type\":\"scatter\"},{\"hovertemplate\":\"label=HEYA8_OVARY_TenPx27<br>PC1=%{x}<br>PC2=%{y}<extra></extra>\",\"legendgroup\":\"HEYA8_OVARY_TenPx27\",\"marker\":{\"color\":\"black\",\"symbol\":\"circle\",\"line\":{\"width\":1},\"size\":8},\"mode\":\"markers\",\"name\":\"HEYA8_OVARY_TenPx27\",\"orientation\":\"v\",\"showlegend\":true,\"x\":[0.15657720869656583],\"xaxis\":\"x\",\"y\":[0.17217827271811217],\"yaxis\":\"y\",\"type\":\"scatter\"},{\"hovertemplate\":\"label=RH41_SOFT_TISSUE_TenPx27<br>PC1=%{x}<br>PC2=%{y}<extra></extra>\",\"legendgroup\":\"RH41_SOFT_TISSUE_TenPx27\",\"marker\":{\"color\":\"rgb(128,177,211)\",\"symbol\":\"circle\",\"line\":{\"width\":1},\"size\":8},\"mode\":\"markers\",\"name\":\"RH41_SOFT_TISSUE_TenPx27\",\"orientation\":\"v\",\"showlegend\":true,\"x\":[-0.09950899467339419],\"xaxis\":\"x\",\"y\":[-0.39463846578425305],\"yaxis\":\"y\",\"type\":\"scatter\"},{\"hovertemplate\":\"label=KMS12BM_HAEMATOPOIETIC_AND_LYMPHOID_TISSUE_TenPx27<br>PC1=%{x}<br>PC2=%{y}<extra></extra>\",\"legendgroup\":\"KMS12BM_HAEMATOPOIETIC_AND_LYMPHOID_TISSUE_TenPx27\",\"marker\":{\"color\":\"rgb(253,180,98)\",\"symbol\":\"circle\",\"line\":{\"width\":1},\"size\":8},\"mode\":\"markers\",\"name\":\"KMS12BM_HAEMATOPOIETIC_AND_LYMPHOID_TISSUE_TenPx27\",\"orientation\":\"v\",\"showlegend\":true,\"x\":[0.5845967308070785],\"xaxis\":\"x\",\"y\":[-0.6472283643542597],\"yaxis\":\"y\",\"type\":\"scatter\"},{\"hovertemplate\":\"label=LN229_CENTRAL_NERVOUS_SYSTEM_TenPx27<br>PC1=%{x}<br>PC2=%{y}<extra></extra>\",\"legendgroup\":\"LN229_CENTRAL_NERVOUS_SYSTEM_TenPx27\",\"marker\":{\"color\":\"rgb(179,222,105)\",\"symbol\":\"circle\",\"line\":{\"width\":1},\"size\":8},\"mode\":\"markers\",\"name\":\"LN229_CENTRAL_NERVOUS_SYSTEM_TenPx27\",\"orientation\":\"v\",\"showlegend\":true,\"x\":[0.060356267830401655],\"xaxis\":\"x\",\"y\":[0.3640860792835662],\"yaxis\":\"y\",\"type\":\"scatter\"},{\"hovertemplate\":\"label=LS180_LARGE_INTESTINE_TenPx27<br>PC1=%{x}<br>PC2=%{y}<extra></extra>\",\"legendgroup\":\"LS180_LARGE_INTESTINE_TenPx27\",\"marker\":{\"color\":\"rgb(242,242,242)\",\"symbol\":\"circle\",\"line\":{\"width\":1},\"size\":8},\"mode\":\"markers\",\"name\":\"LS180_LARGE_INTESTINE_TenPx27\",\"orientation\":\"v\",\"showlegend\":true,\"x\":[-0.12251415038374629],\"xaxis\":\"x\",\"y\":[-0.3082966766000179],\"yaxis\":\"y\",\"type\":\"scatter\"},{\"hovertemplate\":\"label=MOLM13_HAEMATOPOIETIC_AND_LYMPHOID_TISSUE_TenPx27<br>PC1=%{x}<br>PC2=%{y}<extra></extra>\",\"legendgroup\":\"MOLM13_HAEMATOPOIETIC_AND_LYMPHOID_TISSUE_TenPx27\",\"marker\":{\"color\":\"rgb(253,180,98)\",\"symbol\":\"circle\",\"line\":{\"width\":1},\"size\":8},\"mode\":\"markers\",\"name\":\"MOLM13_HAEMATOPOIETIC_AND_LYMPHOID_TISSUE_TenPx27\",\"orientation\":\"v\",\"showlegend\":true,\"x\":[-0.10015924625435732],\"xaxis\":\"x\",\"y\":[0.6424372131340935],\"yaxis\":\"y\",\"type\":\"scatter\"},{\"hovertemplate\":\"label=KARPAS299_HAEMATOPOIETIC_AND_LYMPHOID_TISSUE_TenPx27<br>PC1=%{x}<br>PC2=%{y}<extra></extra>\",\"legendgroup\":\"KARPAS299_HAEMATOPOIETIC_AND_LYMPHOID_TISSUE_TenPx27\",\"marker\":{\"color\":\"rgb(253,180,98)\",\"symbol\":\"circle\",\"line\":{\"width\":1},\"size\":8},\"mode\":\"markers\",\"name\":\"KARPAS299_HAEMATOPOIETIC_AND_LYMPHOID_TISSUE_TenPx27\",\"orientation\":\"v\",\"showlegend\":true,\"x\":[0.3261404680209833],\"xaxis\":\"x\",\"y\":[0.11469623909160062],\"yaxis\":\"y\",\"type\":\"scatter\"},{\"hovertemplate\":\"label=CAL120_BREAST_TenPx28<br>PC1=%{x}<br>PC2=%{y}<extra></extra>\",\"legendgroup\":\"CAL120_BREAST_TenPx28\",\"marker\":{\"color\":\"rgb(251,180,174)\",\"symbol\":\"circle\",\"line\":{\"width\":1},\"size\":8},\"mode\":\"markers\",\"name\":\"CAL120_BREAST_TenPx28\",\"orientation\":\"v\",\"showlegend\":true,\"x\":[0.0035890541526407216],\"xaxis\":\"x\",\"y\":[0.32791740506784445],\"yaxis\":\"y\",\"type\":\"scatter\"},{\"hovertemplate\":\"label=DU145_PROSTATE_TenPx28<br>PC1=%{x}<br>PC2=%{y}<extra></extra>\",\"legendgroup\":\"DU145_PROSTATE_TenPx28\",\"marker\":{\"color\":\"rgb(190,186,218)\",\"symbol\":\"circle\",\"line\":{\"width\":1},\"size\":8},\"mode\":\"markers\",\"name\":\"DU145_PROSTATE_TenPx28\",\"orientation\":\"v\",\"showlegend\":true,\"x\":[-0.23047973001896277],\"xaxis\":\"x\",\"y\":[0.06190741906508449],\"yaxis\":\"y\",\"type\":\"scatter\"},{\"hovertemplate\":\"label=G401_SOFT_TISSUE_TenPx28<br>PC1=%{x}<br>PC2=%{y}<extra></extra>\",\"legendgroup\":\"G401_SOFT_TISSUE_TenPx28\",\"marker\":{\"color\":\"rgb(128,177,211)\",\"symbol\":\"circle\",\"line\":{\"width\":1},\"size\":8},\"mode\":\"markers\",\"name\":\"G401_SOFT_TISSUE_TenPx28\",\"orientation\":\"v\",\"showlegend\":true,\"x\":[-0.4011384270869245],\"xaxis\":\"x\",\"y\":[-0.20114730472603876],\"yaxis\":\"y\",\"type\":\"scatter\"},{\"hovertemplate\":\"label=IM95_STOMACH_TenPx28<br>PC1=%{x}<br>PC2=%{y}<extra></extra>\",\"legendgroup\":\"IM95_STOMACH_TenPx28\",\"marker\":{\"color\":\"rgb(141,211,199)\",\"symbol\":\"circle\",\"line\":{\"width\":1},\"size\":8},\"mode\":\"markers\",\"name\":\"IM95_STOMACH_TenPx28\",\"orientation\":\"v\",\"showlegend\":true,\"x\":[0.07501185567807674],\"xaxis\":\"x\",\"y\":[-0.7053396525051407],\"yaxis\":\"y\",\"type\":\"scatter\"},{\"hovertemplate\":\"label=JHUEM2_ENDOMETRIUM_TenPx28<br>PC1=%{x}<br>PC2=%{y}<extra></extra>\",\"legendgroup\":\"JHUEM2_ENDOMETRIUM_TenPx28\",\"marker\":{\"color\":\"rgb(252,205,229)\",\"symbol\":\"circle\",\"line\":{\"width\":1},\"size\":8},\"mode\":\"markers\",\"name\":\"JHUEM2_ENDOMETRIUM_TenPx28\",\"orientation\":\"v\",\"showlegend\":true,\"x\":[0.23230711929546294],\"xaxis\":\"x\",\"y\":[0.056550296437236254],\"yaxis\":\"y\",\"type\":\"scatter\"},{\"hovertemplate\":\"label=KARPAS422_HAEMATOPOIETIC_AND_LYMPHOID_TISSUE_TenPx28<br>PC1=%{x}<br>PC2=%{y}<extra></extra>\",\"legendgroup\":\"KARPAS422_HAEMATOPOIETIC_AND_LYMPHOID_TISSUE_TenPx28\",\"marker\":{\"color\":\"rgb(253,180,98)\",\"symbol\":\"circle\",\"line\":{\"width\":1},\"size\":8},\"mode\":\"markers\",\"name\":\"KARPAS422_HAEMATOPOIETIC_AND_LYMPHOID_TISSUE_TenPx28\",\"orientation\":\"v\",\"showlegend\":true,\"x\":[0.6938489917043843],\"xaxis\":\"x\",\"y\":[-0.6059109692121857],\"yaxis\":\"y\",\"type\":\"scatter\"},{\"hovertemplate\":\"label=KASUMI1_HAEMATOPOIETIC_AND_LYMPHOID_TISSUE_TenPx28<br>PC1=%{x}<br>PC2=%{y}<extra></extra>\",\"legendgroup\":\"KASUMI1_HAEMATOPOIETIC_AND_LYMPHOID_TISSUE_TenPx28\",\"marker\":{\"color\":\"rgb(253,180,98)\",\"symbol\":\"circle\",\"line\":{\"width\":1},\"size\":8},\"mode\":\"markers\",\"name\":\"KASUMI1_HAEMATOPOIETIC_AND_LYMPHOID_TISSUE_TenPx28\",\"orientation\":\"v\",\"showlegend\":true,\"x\":[0.07231934138194099],\"xaxis\":\"x\",\"y\":[0.21694003560420638],\"yaxis\":\"y\",\"type\":\"scatter\"},{\"hovertemplate\":\"label=HCC15_LUNG_TenPx28<br>PC1=%{x}<br>PC2=%{y}<extra></extra>\",\"legendgroup\":\"HCC15_LUNG_TenPx28\",\"marker\":{\"color\":\"rgb(222,203,228)\",\"symbol\":\"circle\",\"line\":{\"width\":1},\"size\":8},\"mode\":\"markers\",\"name\":\"HCC15_LUNG_TenPx28\",\"orientation\":\"v\",\"showlegend\":true,\"x\":[-0.18137965243577517],\"xaxis\":\"x\",\"y\":[0.37065831501784063],\"yaxis\":\"y\",\"type\":\"scatter\"},{\"hovertemplate\":\"label=U87MG_CENTRAL_NERVOUS_SYSTEM_TenPx28<br>PC1=%{x}<br>PC2=%{y}<extra></extra>\",\"legendgroup\":\"U87MG_CENTRAL_NERVOUS_SYSTEM_TenPx28\",\"marker\":{\"color\":\"rgb(179,222,105)\",\"symbol\":\"circle\",\"line\":{\"width\":1},\"size\":8},\"mode\":\"markers\",\"name\":\"U87MG_CENTRAL_NERVOUS_SYSTEM_TenPx28\",\"orientation\":\"v\",\"showlegend\":true,\"x\":[0.02139425371939714],\"xaxis\":\"x\",\"y\":[0.4538080277873022],\"yaxis\":\"y\",\"type\":\"scatter\"},{\"hovertemplate\":\"label=ASPC1_PANCREAS_TenPx29<br>PC1=%{x}<br>PC2=%{y}<extra></extra>\",\"legendgroup\":\"ASPC1_PANCREAS_TenPx29\",\"marker\":{\"color\":\"rgb(253,218,236)\",\"symbol\":\"circle\",\"line\":{\"width\":1},\"size\":8},\"mode\":\"markers\",\"name\":\"ASPC1_PANCREAS_TenPx29\",\"orientation\":\"v\",\"showlegend\":true,\"x\":[0.12549396083070136],\"xaxis\":\"x\",\"y\":[-0.11950035480198219],\"yaxis\":\"y\",\"type\":\"scatter\"},{\"hovertemplate\":\"label=SNU719_STOMACH_TenPx29<br>PC1=%{x}<br>PC2=%{y}<extra></extra>\",\"legendgroup\":\"SNU719_STOMACH_TenPx29\",\"marker\":{\"color\":\"rgb(141,211,199)\",\"symbol\":\"circle\",\"line\":{\"width\":1},\"size\":8},\"mode\":\"markers\",\"name\":\"SNU719_STOMACH_TenPx29\",\"orientation\":\"v\",\"showlegend\":true,\"x\":[0.13088246224312972],\"xaxis\":\"x\",\"y\":[-0.16958905963540558],\"yaxis\":\"y\",\"type\":\"scatter\"},{\"hovertemplate\":\"label=CORL23_LUNG_TenPx29<br>PC1=%{x}<br>PC2=%{y}<extra></extra>\",\"legendgroup\":\"CORL23_LUNG_TenPx29\",\"marker\":{\"color\":\"rgb(222,203,228)\",\"symbol\":\"circle\",\"line\":{\"width\":1},\"size\":8},\"mode\":\"markers\",\"name\":\"CORL23_LUNG_TenPx29\",\"orientation\":\"v\",\"showlegend\":true,\"x\":[-0.3053708582075311],\"xaxis\":\"x\",\"y\":[-0.3279153269592125],\"yaxis\":\"y\",\"type\":\"scatter\"},{\"hovertemplate\":\"label=F36P_HAEMATOPOIETIC_AND_LYMPHOID_TISSUE_TenPx29<br>PC1=%{x}<br>PC2=%{y}<extra></extra>\",\"legendgroup\":\"F36P_HAEMATOPOIETIC_AND_LYMPHOID_TISSUE_TenPx29\",\"marker\":{\"color\":\"rgb(253,180,98)\",\"symbol\":\"circle\",\"line\":{\"width\":1},\"size\":8},\"mode\":\"markers\",\"name\":\"F36P_HAEMATOPOIETIC_AND_LYMPHOID_TISSUE_TenPx29\",\"orientation\":\"v\",\"showlegend\":true,\"x\":[0.6170135771275675],\"xaxis\":\"x\",\"y\":[-0.03296208478564614],\"yaxis\":\"y\",\"type\":\"scatter\"},{\"hovertemplate\":\"label=HEC50B_ENDOMETRIUM_TenPx29<br>PC1=%{x}<br>PC2=%{y}<extra></extra>\",\"legendgroup\":\"HEC50B_ENDOMETRIUM_TenPx29\",\"marker\":{\"color\":\"rgb(252,205,229)\",\"symbol\":\"circle\",\"line\":{\"width\":1},\"size\":8},\"mode\":\"markers\",\"name\":\"HEC50B_ENDOMETRIUM_TenPx29\",\"orientation\":\"v\",\"showlegend\":true,\"x\":[0.33469220160260665],\"xaxis\":\"x\",\"y\":[0.1229459798445122],\"yaxis\":\"y\",\"type\":\"scatter\"},{\"hovertemplate\":\"label=KNS81_CENTRAL_NERVOUS_SYSTEM_TenPx29<br>PC1=%{x}<br>PC2=%{y}<extra></extra>\",\"legendgroup\":\"KNS81_CENTRAL_NERVOUS_SYSTEM_TenPx29\",\"marker\":{\"color\":\"rgb(179,222,105)\",\"symbol\":\"circle\",\"line\":{\"width\":1},\"size\":8},\"mode\":\"markers\",\"name\":\"KNS81_CENTRAL_NERVOUS_SYSTEM_TenPx29\",\"orientation\":\"v\",\"showlegend\":true,\"x\":[-0.806437694139196],\"xaxis\":\"x\",\"y\":[0.3756676931320596],\"yaxis\":\"y\",\"type\":\"scatter\"},{\"hovertemplate\":\"label=OCIAML5_HAEMATOPOIETIC_AND_LYMPHOID_TISSUE_TenPx29<br>PC1=%{x}<br>PC2=%{y}<extra></extra>\",\"legendgroup\":\"OCIAML5_HAEMATOPOIETIC_AND_LYMPHOID_TISSUE_TenPx29\",\"marker\":{\"color\":\"rgb(253,180,98)\",\"symbol\":\"circle\",\"line\":{\"width\":1},\"size\":8},\"mode\":\"markers\",\"name\":\"OCIAML5_HAEMATOPOIETIC_AND_LYMPHOID_TISSUE_TenPx29\",\"orientation\":\"v\",\"showlegend\":true,\"x\":[0.684204530445595],\"xaxis\":\"x\",\"y\":[-0.16585610381022553],\"yaxis\":\"y\",\"type\":\"scatter\"},{\"hovertemplate\":\"label=TE10_OESOPHAGUS_TenPx29<br>PC1=%{x}<br>PC2=%{y}<extra></extra>\",\"legendgroup\":\"TE10_OESOPHAGUS_TenPx29\",\"marker\":{\"color\":\"rgb(255,255,179)\",\"symbol\":\"circle\",\"line\":{\"width\":1},\"size\":8},\"mode\":\"markers\",\"name\":\"TE10_OESOPHAGUS_TenPx29\",\"orientation\":\"v\",\"showlegend\":true,\"x\":[-0.8813372882571854],\"xaxis\":\"x\",\"y\":[-0.4831254136790287],\"yaxis\":\"y\",\"type\":\"scatter\"},{\"hovertemplate\":\"label=WM115_SKIN_TenPx29<br>PC1=%{x}<br>PC2=%{y}<extra></extra>\",\"legendgroup\":\"WM115_SKIN_TenPx29\",\"marker\":{\"color\":\"rgb(179,205,227)\",\"symbol\":\"circle\",\"line\":{\"width\":1},\"size\":8},\"mode\":\"markers\",\"name\":\"WM115_SKIN_TenPx29\",\"orientation\":\"v\",\"showlegend\":true,\"x\":[0.109133446511751],\"xaxis\":\"x\",\"y\":[0.72078293381738],\"yaxis\":\"y\",\"type\":\"scatter\"},{\"hovertemplate\":\"label=EOL1_HAEMATOPOIETIC_AND_LYMPHOID_TISSUE_TenPx33<br>PC1=%{x}<br>PC2=%{y}<extra></extra>\",\"legendgroup\":\"EOL1_HAEMATOPOIETIC_AND_LYMPHOID_TISSUE_TenPx33\",\"marker\":{\"color\":\"rgb(253,180,98)\",\"symbol\":\"circle\",\"line\":{\"width\":1},\"size\":8},\"mode\":\"markers\",\"name\":\"EOL1_HAEMATOPOIETIC_AND_LYMPHOID_TISSUE_TenPx33\",\"orientation\":\"v\",\"showlegend\":true,\"x\":[0.5154899325215787],\"xaxis\":\"x\",\"y\":[0.08117212855518359],\"yaxis\":\"y\",\"type\":\"scatter\"},{\"hovertemplate\":\"label=SW1573_LUNG_TenPx33<br>PC1=%{x}<br>PC2=%{y}<extra></extra>\",\"legendgroup\":\"SW1573_LUNG_TenPx33\",\"marker\":{\"color\":\"rgb(222,203,228)\",\"symbol\":\"circle\",\"line\":{\"width\":1},\"size\":8},\"mode\":\"markers\",\"name\":\"SW1573_LUNG_TenPx33\",\"orientation\":\"v\",\"showlegend\":true,\"x\":[0.024155310670985423],\"xaxis\":\"x\",\"y\":[-0.13201617295399773],\"yaxis\":\"y\",\"type\":\"scatter\"},{\"hovertemplate\":\"label=HEL9217_HAEMATOPOIETIC_AND_LYMPHOID_TISSUE_TenPx33<br>PC1=%{x}<br>PC2=%{y}<extra></extra>\",\"legendgroup\":\"HEL9217_HAEMATOPOIETIC_AND_LYMPHOID_TISSUE_TenPx33\",\"marker\":{\"color\":\"rgb(253,180,98)\",\"symbol\":\"circle\",\"line\":{\"width\":1},\"size\":8},\"mode\":\"markers\",\"name\":\"HEL9217_HAEMATOPOIETIC_AND_LYMPHOID_TISSUE_TenPx33\",\"orientation\":\"v\",\"showlegend\":true,\"x\":[0.7712390398234956],\"xaxis\":\"x\",\"y\":[-0.13643180590050247],\"yaxis\":\"y\",\"type\":\"scatter\"},{\"hovertemplate\":\"label=K029AX_SKIN_TenPx33<br>PC1=%{x}<br>PC2=%{y}<extra></extra>\",\"legendgroup\":\"K029AX_SKIN_TenPx33\",\"marker\":{\"color\":\"rgb(179,205,227)\",\"symbol\":\"circle\",\"line\":{\"width\":1},\"size\":8},\"mode\":\"markers\",\"name\":\"K029AX_SKIN_TenPx33\",\"orientation\":\"v\",\"showlegend\":true,\"x\":[0.1368335383989753],\"xaxis\":\"x\",\"y\":[0.5492620649642429],\"yaxis\":\"y\",\"type\":\"scatter\"},{\"hovertemplate\":\"label=JHOS2_OVARY_TenPx33<br>PC1=%{x}<br>PC2=%{y}<extra></extra>\",\"legendgroup\":\"JHOS2_OVARY_TenPx33\",\"marker\":{\"color\":\"black\",\"symbol\":\"circle\",\"line\":{\"width\":1},\"size\":8},\"mode\":\"markers\",\"name\":\"JHOS2_OVARY_TenPx33\",\"orientation\":\"v\",\"showlegend\":true,\"x\":[0.0630399139771708],\"xaxis\":\"x\",\"y\":[0.3694526715517651],\"yaxis\":\"y\",\"type\":\"scatter\"},{\"hovertemplate\":\"label=SNU685_ENDOMETRIUM_TenPx33<br>PC1=%{x}<br>PC2=%{y}<extra></extra>\",\"legendgroup\":\"SNU685_ENDOMETRIUM_TenPx33\",\"marker\":{\"color\":\"rgb(252,205,229)\",\"symbol\":\"circle\",\"line\":{\"width\":1},\"size\":8},\"mode\":\"markers\",\"name\":\"SNU685_ENDOMETRIUM_TenPx33\",\"orientation\":\"v\",\"showlegend\":true,\"x\":[0.039030174271712716],\"xaxis\":\"x\",\"y\":[0.20666722015439626],\"yaxis\":\"y\",\"type\":\"scatter\"},{\"hovertemplate\":\"label=NIHOVCAR3_OVARY_TenPx33<br>PC1=%{x}<br>PC2=%{y}<extra></extra>\",\"legendgroup\":\"NIHOVCAR3_OVARY_TenPx33\",\"marker\":{\"color\":\"black\",\"symbol\":\"circle\",\"line\":{\"width\":1},\"size\":8},\"mode\":\"markers\",\"name\":\"NIHOVCAR3_OVARY_TenPx33\",\"orientation\":\"v\",\"showlegend\":true,\"x\":[-0.511150085971281],\"xaxis\":\"x\",\"y\":[-0.4409430754903028],\"yaxis\":\"y\",\"type\":\"scatter\"},{\"hovertemplate\":\"label=SAOS2_BONE_TenPx33<br>PC1=%{x}<br>PC2=%{y}<extra></extra>\",\"legendgroup\":\"SAOS2_BONE_TenPx33\",\"marker\":{\"color\":\"rgb(251,128,114)\",\"symbol\":\"circle\",\"line\":{\"width\":1},\"size\":8},\"mode\":\"markers\",\"name\":\"SAOS2_BONE_TenPx33\",\"orientation\":\"v\",\"showlegend\":true,\"x\":[-0.6085468473341934],\"xaxis\":\"x\",\"y\":[-0.38977761164007035],\"yaxis\":\"y\",\"type\":\"scatter\"},{\"hovertemplate\":\"label=TE4_OESOPHAGUS_TenPx33<br>PC1=%{x}<br>PC2=%{y}<extra></extra>\",\"legendgroup\":\"TE4_OESOPHAGUS_TenPx33\",\"marker\":{\"color\":\"rgb(255,255,179)\",\"symbol\":\"circle\",\"line\":{\"width\":1},\"size\":8},\"mode\":\"markers\",\"name\":\"TE4_OESOPHAGUS_TenPx33\",\"orientation\":\"v\",\"showlegend\":true,\"x\":[-0.460314497234878],\"xaxis\":\"x\",\"y\":[-0.11332395697487582],\"yaxis\":\"y\",\"type\":\"scatter\"},{\"hovertemplate\":\"label=JHH1_LIVER_TenPx34<br>PC1=%{x}<br>PC2=%{y}<extra></extra>\",\"legendgroup\":\"JHH1_LIVER_TenPx34\",\"marker\":{\"color\":\"rgb(254,217,166)\",\"symbol\":\"circle\",\"line\":{\"width\":1},\"size\":8},\"mode\":\"markers\",\"name\":\"JHH1_LIVER_TenPx34\",\"orientation\":\"v\",\"showlegend\":true,\"x\":[-0.1075269980474149],\"xaxis\":\"x\",\"y\":[-0.038415948582851585],\"yaxis\":\"y\",\"type\":\"scatter\"},{\"hovertemplate\":\"label=SW1271_LUNG_TenPx34<br>PC1=%{x}<br>PC2=%{y}<extra></extra>\",\"legendgroup\":\"SW1271_LUNG_TenPx34\",\"marker\":{\"color\":\"rgb(222,203,228)\",\"symbol\":\"circle\",\"line\":{\"width\":1},\"size\":8},\"mode\":\"markers\",\"name\":\"SW1271_LUNG_TenPx34\",\"orientation\":\"v\",\"showlegend\":true,\"x\":[-0.10804170487204261],\"xaxis\":\"x\",\"y\":[0.018756886000499105],\"yaxis\":\"y\",\"type\":\"scatter\"},{\"hovertemplate\":\"label=NCIH226_LUNG_TenPx34<br>PC1=%{x}<br>PC2=%{y}<extra></extra>\",\"legendgroup\":\"NCIH226_LUNG_TenPx34\",\"marker\":{\"color\":\"rgb(222,203,228)\",\"symbol\":\"circle\",\"line\":{\"width\":1},\"size\":8},\"mode\":\"markers\",\"name\":\"NCIH226_LUNG_TenPx34\",\"orientation\":\"v\",\"showlegend\":true,\"x\":[-0.519933186580773],\"xaxis\":\"x\",\"y\":[0.23386941876438386],\"yaxis\":\"y\",\"type\":\"scatter\"},{\"hovertemplate\":\"label=REC1_HAEMATOPOIETIC_AND_LYMPHOID_TISSUE_TenPx34<br>PC1=%{x}<br>PC2=%{y}<extra></extra>\",\"legendgroup\":\"REC1_HAEMATOPOIETIC_AND_LYMPHOID_TISSUE_TenPx34\",\"marker\":{\"color\":\"rgb(253,180,98)\",\"symbol\":\"circle\",\"line\":{\"width\":1},\"size\":8},\"mode\":\"markers\",\"name\":\"REC1_HAEMATOPOIETIC_AND_LYMPHOID_TISSUE_TenPx34\",\"orientation\":\"v\",\"showlegend\":true,\"x\":[0.8305688798782197],\"xaxis\":\"x\",\"y\":[-0.27028290518593917],\"yaxis\":\"y\",\"type\":\"scatter\"},{\"hovertemplate\":\"label=HT1080_SOFT_TISSUE_TenPx34<br>PC1=%{x}<br>PC2=%{y}<extra></extra>\",\"legendgroup\":\"HT1080_SOFT_TISSUE_TenPx34\",\"marker\":{\"color\":\"rgb(128,177,211)\",\"symbol\":\"circle\",\"line\":{\"width\":1},\"size\":8},\"mode\":\"markers\",\"name\":\"HT1080_SOFT_TISSUE_TenPx34\",\"orientation\":\"v\",\"showlegend\":true,\"x\":[0.3662738864636267],\"xaxis\":\"x\",\"y\":[0.30642541563041525],\"yaxis\":\"y\",\"type\":\"scatter\"},{\"hovertemplate\":\"label=KYSE30_OESOPHAGUS_TenPx34<br>PC1=%{x}<br>PC2=%{y}<extra></extra>\",\"legendgroup\":\"KYSE30_OESOPHAGUS_TenPx34\",\"marker\":{\"color\":\"rgb(255,255,179)\",\"symbol\":\"circle\",\"line\":{\"width\":1},\"size\":8},\"mode\":\"markers\",\"name\":\"KYSE30_OESOPHAGUS_TenPx34\",\"orientation\":\"v\",\"showlegend\":true,\"x\":[-0.3186973601750506],\"xaxis\":\"x\",\"y\":[-0.2070297168860165],\"yaxis\":\"y\",\"type\":\"scatter\"},{\"hovertemplate\":\"label=U2OS_BONE_TenPx34<br>PC1=%{x}<br>PC2=%{y}<extra></extra>\",\"legendgroup\":\"U2OS_BONE_TenPx34\",\"marker\":{\"color\":\"rgb(251,128,114)\",\"symbol\":\"circle\",\"line\":{\"width\":1},\"size\":8},\"mode\":\"markers\",\"name\":\"U2OS_BONE_TenPx34\",\"orientation\":\"v\",\"showlegend\":true,\"x\":[0.07369975940667124],\"xaxis\":\"x\",\"y\":[0.13252807308958675],\"yaxis\":\"y\",\"type\":\"scatter\"},{\"hovertemplate\":\"label=GB1_CENTRAL_NERVOUS_SYSTEM_TenPx34<br>PC1=%{x}<br>PC2=%{y}<extra></extra>\",\"legendgroup\":\"GB1_CENTRAL_NERVOUS_SYSTEM_TenPx34\",\"marker\":{\"color\":\"rgb(179,222,105)\",\"symbol\":\"circle\",\"line\":{\"width\":1},\"size\":8},\"mode\":\"markers\",\"name\":\"GB1_CENTRAL_NERVOUS_SYSTEM_TenPx34\",\"orientation\":\"v\",\"showlegend\":true,\"x\":[-0.100746914285604],\"xaxis\":\"x\",\"y\":[-0.08230913087990031],\"yaxis\":\"y\",\"type\":\"scatter\"},{\"hovertemplate\":\"label=IALM_LUNG_TenPx34<br>PC1=%{x}<br>PC2=%{y}<extra></extra>\",\"legendgroup\":\"IALM_LUNG_TenPx34\",\"marker\":{\"color\":\"rgb(222,203,228)\",\"symbol\":\"circle\",\"line\":{\"width\":1},\"size\":8},\"mode\":\"markers\",\"name\":\"IALM_LUNG_TenPx34\",\"orientation\":\"v\",\"showlegend\":true,\"x\":[-0.22904481737209165],\"xaxis\":\"x\",\"y\":[-0.04718810564436059],\"yaxis\":\"y\",\"type\":\"scatter\"},{\"hovertemplate\":\"label=CMK_HAEMATOPOIETIC_AND_LYMPHOID_TISSUE_TenPx35<br>PC1=%{x}<br>PC2=%{y}<extra></extra>\",\"legendgroup\":\"CMK_HAEMATOPOIETIC_AND_LYMPHOID_TISSUE_TenPx35\",\"marker\":{\"color\":\"rgb(253,180,98)\",\"symbol\":\"circle\",\"line\":{\"width\":1},\"size\":8},\"mode\":\"markers\",\"name\":\"CMK_HAEMATOPOIETIC_AND_LYMPHOID_TISSUE_TenPx35\",\"orientation\":\"v\",\"showlegend\":true,\"x\":[0.4595496153043891],\"xaxis\":\"x\",\"y\":[-0.2020562751602987],\"yaxis\":\"y\",\"type\":\"scatter\"},{\"hovertemplate\":\"label=COLO829_SKIN_TenPx35<br>PC1=%{x}<br>PC2=%{y}<extra></extra>\",\"legendgroup\":\"COLO829_SKIN_TenPx35\",\"marker\":{\"color\":\"rgb(179,205,227)\",\"symbol\":\"circle\",\"line\":{\"width\":1},\"size\":8},\"mode\":\"markers\",\"name\":\"COLO829_SKIN_TenPx35\",\"orientation\":\"v\",\"showlegend\":true,\"x\":[0.14225024771773828],\"xaxis\":\"x\",\"y\":[-0.12697310345394539],\"yaxis\":\"y\",\"type\":\"scatter\"},{\"hovertemplate\":\"label=NCIH647_LUNG_TenPx35<br>PC1=%{x}<br>PC2=%{y}<extra></extra>\",\"legendgroup\":\"NCIH647_LUNG_TenPx35\",\"marker\":{\"color\":\"rgb(222,203,228)\",\"symbol\":\"circle\",\"line\":{\"width\":1},\"size\":8},\"mode\":\"markers\",\"name\":\"NCIH647_LUNG_TenPx35\",\"orientation\":\"v\",\"showlegend\":true,\"x\":[-0.2874380815313692],\"xaxis\":\"x\",\"y\":[0.22456428790677482],\"yaxis\":\"y\",\"type\":\"scatter\"},{\"hovertemplate\":\"label=OV56_OVARY_TenPx35<br>PC1=%{x}<br>PC2=%{y}<extra></extra>\",\"legendgroup\":\"OV56_OVARY_TenPx35\",\"marker\":{\"color\":\"black\",\"symbol\":\"circle\",\"line\":{\"width\":1},\"size\":8},\"mode\":\"markers\",\"name\":\"OV56_OVARY_TenPx35\",\"orientation\":\"v\",\"showlegend\":true,\"x\":[-0.37103448486444224],\"xaxis\":\"x\",\"y\":[0.3803109384692935],\"yaxis\":\"y\",\"type\":\"scatter\"},{\"hovertemplate\":\"label=RH30_SOFT_TISSUE_TenPx35<br>PC1=%{x}<br>PC2=%{y}<extra></extra>\",\"legendgroup\":\"RH30_SOFT_TISSUE_TenPx35\",\"marker\":{\"color\":\"rgb(128,177,211)\",\"symbol\":\"circle\",\"line\":{\"width\":1},\"size\":8},\"mode\":\"markers\",\"name\":\"RH30_SOFT_TISSUE_TenPx35\",\"orientation\":\"v\",\"showlegend\":true,\"x\":[0.10056647244577557],\"xaxis\":\"x\",\"y\":[-0.4443171572996562],\"yaxis\":\"y\",\"type\":\"scatter\"},{\"hovertemplate\":\"label=RPMI8226_HAEMATOPOIETIC_AND_LYMPHOID_TISSUE_TenPx35<br>PC1=%{x}<br>PC2=%{y}<extra></extra>\",\"legendgroup\":\"RPMI8226_HAEMATOPOIETIC_AND_LYMPHOID_TISSUE_TenPx35\",\"marker\":{\"color\":\"rgb(253,180,98)\",\"symbol\":\"circle\",\"line\":{\"width\":1},\"size\":8},\"mode\":\"markers\",\"name\":\"RPMI8226_HAEMATOPOIETIC_AND_LYMPHOID_TISSUE_TenPx35\",\"orientation\":\"v\",\"showlegend\":true,\"x\":[0.41044999861481996],\"xaxis\":\"x\",\"y\":[-0.48042937090668497],\"yaxis\":\"y\",\"type\":\"scatter\"},{\"hovertemplate\":\"label=SJSA1_BONE_TenPx35<br>PC1=%{x}<br>PC2=%{y}<extra></extra>\",\"legendgroup\":\"SJSA1_BONE_TenPx35\",\"marker\":{\"color\":\"rgb(251,128,114)\",\"symbol\":\"circle\",\"line\":{\"width\":1},\"size\":8},\"mode\":\"markers\",\"name\":\"SJSA1_BONE_TenPx35\",\"orientation\":\"v\",\"showlegend\":true,\"x\":[-0.0819820106961822],\"xaxis\":\"x\",\"y\":[0.5548313344552935],\"yaxis\":\"y\",\"type\":\"scatter\"},{\"hovertemplate\":\"label=HEC6_ENDOMETRIUM_TenPx35<br>PC1=%{x}<br>PC2=%{y}<extra></extra>\",\"legendgroup\":\"HEC6_ENDOMETRIUM_TenPx35\",\"marker\":{\"color\":\"rgb(252,205,229)\",\"symbol\":\"circle\",\"line\":{\"width\":1},\"size\":8},\"mode\":\"markers\",\"name\":\"HEC6_ENDOMETRIUM_TenPx35\",\"orientation\":\"v\",\"showlegend\":true,\"x\":[0.002642630334447594],\"xaxis\":\"x\",\"y\":[0.2312799131013066],\"yaxis\":\"y\",\"type\":\"scatter\"},{\"hovertemplate\":\"label=SW837_LARGE_INTESTINE_TenPx35<br>PC1=%{x}<br>PC2=%{y}<extra></extra>\",\"legendgroup\":\"SW837_LARGE_INTESTINE_TenPx35\",\"marker\":{\"color\":\"rgb(242,242,242)\",\"symbol\":\"circle\",\"line\":{\"width\":1},\"size\":8},\"mode\":\"markers\",\"name\":\"SW837_LARGE_INTESTINE_TenPx35\",\"orientation\":\"v\",\"showlegend\":true,\"x\":[-0.004019238093155351],\"xaxis\":\"x\",\"y\":[-0.354303643610392],\"yaxis\":\"y\",\"type\":\"scatter\"},{\"hovertemplate\":\"label=CAKI1_KIDNEY_TenPx36<br>PC1=%{x}<br>PC2=%{y}<extra></extra>\",\"legendgroup\":\"CAKI1_KIDNEY_TenPx36\",\"marker\":{\"color\":\"rgb(204,235,197)\",\"symbol\":\"circle\",\"line\":{\"width\":1},\"size\":8},\"mode\":\"markers\",\"name\":\"CAKI1_KIDNEY_TenPx36\",\"orientation\":\"v\",\"showlegend\":true,\"x\":[-0.2607894911958813],\"xaxis\":\"x\",\"y\":[0.9362717488804453],\"yaxis\":\"y\",\"type\":\"scatter\"},{\"hovertemplate\":\"label=KP2_PANCREAS_TenPx36<br>PC1=%{x}<br>PC2=%{y}<extra></extra>\",\"legendgroup\":\"KP2_PANCREAS_TenPx36\",\"marker\":{\"color\":\"rgb(253,218,236)\",\"symbol\":\"circle\",\"line\":{\"width\":1},\"size\":8},\"mode\":\"markers\",\"name\":\"KP2_PANCREAS_TenPx36\",\"orientation\":\"v\",\"showlegend\":true,\"x\":[-0.20848003493492748],\"xaxis\":\"x\",\"y\":[0.22370171351172316],\"yaxis\":\"y\",\"type\":\"scatter\"},{\"hovertemplate\":\"label=KU1919_URINARY_TRACT_TenPx36<br>PC1=%{x}<br>PC2=%{y}<extra></extra>\",\"legendgroup\":\"KU1919_URINARY_TRACT_TenPx36\",\"marker\":{\"color\":\"rgb(229,216,189)\",\"symbol\":\"circle\",\"line\":{\"width\":1},\"size\":8},\"mode\":\"markers\",\"name\":\"KU1919_URINARY_TRACT_TenPx36\",\"orientation\":\"v\",\"showlegend\":true,\"x\":[-0.7674587122560236],\"xaxis\":\"x\",\"y\":[-0.2569001182247785],\"yaxis\":\"y\",\"type\":\"scatter\"},{\"hovertemplate\":\"label=MFE296_ENDOMETRIUM_TenPx36<br>PC1=%{x}<br>PC2=%{y}<extra></extra>\",\"legendgroup\":\"MFE296_ENDOMETRIUM_TenPx36\",\"marker\":{\"color\":\"rgb(252,205,229)\",\"symbol\":\"circle\",\"line\":{\"width\":1},\"size\":8},\"mode\":\"markers\",\"name\":\"MFE296_ENDOMETRIUM_TenPx36\",\"orientation\":\"v\",\"showlegend\":true,\"x\":[0.03733364606319871],\"xaxis\":\"x\",\"y\":[-0.11055244730732752],\"yaxis\":\"y\",\"type\":\"scatter\"},{\"hovertemplate\":\"label=NCIH292_LUNG_TenPx36<br>PC1=%{x}<br>PC2=%{y}<extra></extra>\",\"legendgroup\":\"NCIH292_LUNG_TenPx36\",\"marker\":{\"color\":\"rgb(222,203,228)\",\"symbol\":\"circle\",\"line\":{\"width\":1},\"size\":8},\"mode\":\"markers\",\"name\":\"NCIH292_LUNG_TenPx36\",\"orientation\":\"v\",\"showlegend\":true,\"x\":[-0.6967289307239249],\"xaxis\":\"x\",\"y\":[0.13510334477261507],\"yaxis\":\"y\",\"type\":\"scatter\"},{\"hovertemplate\":\"label=NCIH716_LARGE_INTESTINE_TenPx36<br>PC1=%{x}<br>PC2=%{y}<extra></extra>\",\"legendgroup\":\"NCIH716_LARGE_INTESTINE_TenPx36\",\"marker\":{\"color\":\"rgb(242,242,242)\",\"symbol\":\"circle\",\"line\":{\"width\":1},\"size\":8},\"mode\":\"markers\",\"name\":\"NCIH716_LARGE_INTESTINE_TenPx36\",\"orientation\":\"v\",\"showlegend\":true,\"x\":[0.505752392451918],\"xaxis\":\"x\",\"y\":[-0.13929908859032436],\"yaxis\":\"y\",\"type\":\"scatter\"},{\"hovertemplate\":\"label=NUDHL1_HAEMATOPOIETIC_AND_LYMPHOID_TISSUE_TenPx36<br>PC1=%{x}<br>PC2=%{y}<extra></extra>\",\"legendgroup\":\"NUDHL1_HAEMATOPOIETIC_AND_LYMPHOID_TISSUE_TenPx36\",\"marker\":{\"color\":\"rgb(253,180,98)\",\"symbol\":\"circle\",\"line\":{\"width\":1},\"size\":8},\"mode\":\"markers\",\"name\":\"NUDHL1_HAEMATOPOIETIC_AND_LYMPHOID_TISSUE_TenPx36\",\"orientation\":\"v\",\"showlegend\":true,\"x\":[0.7707601368573692],\"xaxis\":\"x\",\"y\":[-0.35387832535164027],\"yaxis\":\"y\",\"type\":\"scatter\"},{\"hovertemplate\":\"label=OCILY3_HAEMATOPOIETIC_AND_LYMPHOID_TISSUE_TenPx36<br>PC1=%{x}<br>PC2=%{y}<extra></extra>\",\"legendgroup\":\"OCILY3_HAEMATOPOIETIC_AND_LYMPHOID_TISSUE_TenPx36\",\"marker\":{\"color\":\"rgb(253,180,98)\",\"symbol\":\"circle\",\"line\":{\"width\":1},\"size\":8},\"mode\":\"markers\",\"name\":\"OCILY3_HAEMATOPOIETIC_AND_LYMPHOID_TISSUE_TenPx36\",\"orientation\":\"v\",\"showlegend\":true,\"x\":[0.7845153462155078],\"xaxis\":\"x\",\"y\":[-0.4089684444073841],\"yaxis\":\"y\",\"type\":\"scatter\"},{\"hovertemplate\":\"label=SKNMC_BONE_TenPx36<br>PC1=%{x}<br>PC2=%{y}<extra></extra>\",\"legendgroup\":\"SKNMC_BONE_TenPx36\",\"marker\":{\"color\":\"rgb(251,128,114)\",\"symbol\":\"circle\",\"line\":{\"width\":1},\"size\":8},\"mode\":\"markers\",\"name\":\"SKNMC_BONE_TenPx36\",\"orientation\":\"v\",\"showlegend\":true,\"x\":[0.05182660398116194],\"xaxis\":\"x\",\"y\":[-0.37989783184715],\"yaxis\":\"y\",\"type\":\"scatter\"},{\"hovertemplate\":\"label=CHAGOK1_LUNG_TenPx37<br>PC1=%{x}<br>PC2=%{y}<extra></extra>\",\"legendgroup\":\"CHAGOK1_LUNG_TenPx37\",\"marker\":{\"color\":\"rgb(222,203,228)\",\"symbol\":\"circle\",\"line\":{\"width\":1},\"size\":8},\"mode\":\"markers\",\"name\":\"CHAGOK1_LUNG_TenPx37\",\"orientation\":\"v\",\"showlegend\":true,\"x\":[0.387741490768801],\"xaxis\":\"x\",\"y\":[-0.17826001537584554],\"yaxis\":\"y\",\"type\":\"scatter\"},{\"hovertemplate\":\"label=EFM192A_BREAST_TenPx37<br>PC1=%{x}<br>PC2=%{y}<extra></extra>\",\"legendgroup\":\"EFM192A_BREAST_TenPx37\",\"marker\":{\"color\":\"rgb(251,180,174)\",\"symbol\":\"circle\",\"line\":{\"width\":1},\"size\":8},\"mode\":\"markers\",\"name\":\"EFM192A_BREAST_TenPx37\",\"orientation\":\"v\",\"showlegend\":true,\"x\":[0.29369613614993395],\"xaxis\":\"x\",\"y\":[-0.10268484345858306],\"yaxis\":\"y\",\"type\":\"scatter\"},{\"hovertemplate\":\"label=HEC265_ENDOMETRIUM_TenPx37<br>PC1=%{x}<br>PC2=%{y}<extra></extra>\",\"legendgroup\":\"HEC265_ENDOMETRIUM_TenPx37\",\"marker\":{\"color\":\"rgb(252,205,229)\",\"symbol\":\"circle\",\"line\":{\"width\":1},\"size\":8},\"mode\":\"markers\",\"name\":\"HEC265_ENDOMETRIUM_TenPx37\",\"orientation\":\"v\",\"showlegend\":true,\"x\":[-0.6424163287704462],\"xaxis\":\"x\",\"y\":[-0.33203414530395337],\"yaxis\":\"y\",\"type\":\"scatter\"},{\"hovertemplate\":\"label=MOLM16_HAEMATOPOIETIC_AND_LYMPHOID_TISSUE_TenPx37<br>PC1=%{x}<br>PC2=%{y}<extra></extra>\",\"legendgroup\":\"MOLM16_HAEMATOPOIETIC_AND_LYMPHOID_TISSUE_TenPx37\",\"marker\":{\"color\":\"rgb(253,180,98)\",\"symbol\":\"circle\",\"line\":{\"width\":1},\"size\":8},\"mode\":\"markers\",\"name\":\"MOLM16_HAEMATOPOIETIC_AND_LYMPHOID_TISSUE_TenPx37\",\"orientation\":\"v\",\"showlegend\":true,\"x\":[0.690931666981489],\"xaxis\":\"x\",\"y\":[-0.26166665785368204],\"yaxis\":\"y\",\"type\":\"scatter\"},{\"hovertemplate\":\"label=PANC1_PANCREAS_TenPx37<br>PC1=%{x}<br>PC2=%{y}<extra></extra>\",\"legendgroup\":\"PANC1_PANCREAS_TenPx37\",\"marker\":{\"color\":\"rgb(253,218,236)\",\"symbol\":\"circle\",\"line\":{\"width\":1},\"size\":8},\"mode\":\"markers\",\"name\":\"PANC1_PANCREAS_TenPx37\",\"orientation\":\"v\",\"showlegend\":true,\"x\":[-0.35795873835782394],\"xaxis\":\"x\",\"y\":[0.22687875249647466],\"yaxis\":\"y\",\"type\":\"scatter\"},{\"hovertemplate\":\"label=SCC25_UPPER_AERODIGESTIVE_TRACT_TenPx37<br>PC1=%{x}<br>PC2=%{y}<extra></extra>\",\"legendgroup\":\"SCC25_UPPER_AERODIGESTIVE_TRACT_TenPx37\",\"marker\":{\"color\":\"rgb(255,255,204)\",\"symbol\":\"circle\",\"line\":{\"width\":1},\"size\":8},\"mode\":\"markers\",\"name\":\"SCC25_UPPER_AERODIGESTIVE_TRACT_TenPx37\",\"orientation\":\"v\",\"showlegend\":true,\"x\":[-0.973155412625611],\"xaxis\":\"x\",\"y\":[0.27432749424743164],\"yaxis\":\"y\",\"type\":\"scatter\"},{\"hovertemplate\":\"label=RT4_URINARY_TRACT_TenPx37<br>PC1=%{x}<br>PC2=%{y}<extra></extra>\",\"legendgroup\":\"RT4_URINARY_TRACT_TenPx37\",\"marker\":{\"color\":\"rgb(229,216,189)\",\"symbol\":\"circle\",\"line\":{\"width\":1},\"size\":8},\"mode\":\"markers\",\"name\":\"RT4_URINARY_TRACT_TenPx37\",\"orientation\":\"v\",\"showlegend\":true,\"x\":[0.0230701438416391],\"xaxis\":\"x\",\"y\":[-0.2613971816942481],\"yaxis\":\"y\",\"type\":\"scatter\"},{\"hovertemplate\":\"label=T24_URINARY_TRACT_TenPx37<br>PC1=%{x}<br>PC2=%{y}<extra></extra>\",\"legendgroup\":\"T24_URINARY_TRACT_TenPx37\",\"marker\":{\"color\":\"rgb(229,216,189)\",\"symbol\":\"circle\",\"line\":{\"width\":1},\"size\":8},\"mode\":\"markers\",\"name\":\"T24_URINARY_TRACT_TenPx37\",\"orientation\":\"v\",\"showlegend\":true,\"x\":[0.13946806847217377],\"xaxis\":\"x\",\"y\":[0.45956902306877884],\"yaxis\":\"y\",\"type\":\"scatter\"},{\"hovertemplate\":\"label=TF1_HAEMATOPOIETIC_AND_LYMPHOID_TISSUE_TenPx37<br>PC1=%{x}<br>PC2=%{y}<extra></extra>\",\"legendgroup\":\"TF1_HAEMATOPOIETIC_AND_LYMPHOID_TISSUE_TenPx37\",\"marker\":{\"color\":\"rgb(253,180,98)\",\"symbol\":\"circle\",\"line\":{\"width\":1},\"size\":8},\"mode\":\"markers\",\"name\":\"TF1_HAEMATOPOIETIC_AND_LYMPHOID_TISSUE_TenPx37\",\"orientation\":\"v\",\"showlegend\":true,\"x\":[0.6167903928851087],\"xaxis\":\"x\",\"y\":[-0.22404070951999833],\"yaxis\":\"y\",\"type\":\"scatter\"},{\"hovertemplate\":\"label=A101D_SKIN_TenPx38<br>PC1=%{x}<br>PC2=%{y}<extra></extra>\",\"legendgroup\":\"A101D_SKIN_TenPx38\",\"marker\":{\"color\":\"rgb(179,205,227)\",\"symbol\":\"circle\",\"line\":{\"width\":1},\"size\":8},\"mode\":\"markers\",\"name\":\"A101D_SKIN_TenPx38\",\"orientation\":\"v\",\"showlegend\":true,\"x\":[-0.6157192869239558],\"xaxis\":\"x\",\"y\":[0.31728344553877147],\"yaxis\":\"y\",\"type\":\"scatter\"},{\"hovertemplate\":\"label=DAOY_CENTRAL_NERVOUS_SYSTEM_TenPx38<br>PC1=%{x}<br>PC2=%{y}<extra></extra>\",\"legendgroup\":\"DAOY_CENTRAL_NERVOUS_SYSTEM_TenPx38\",\"marker\":{\"color\":\"rgb(179,222,105)\",\"symbol\":\"circle\",\"line\":{\"width\":1},\"size\":8},\"mode\":\"markers\",\"name\":\"DAOY_CENTRAL_NERVOUS_SYSTEM_TenPx38\",\"orientation\":\"v\",\"showlegend\":true,\"x\":[-0.46447438608428476],\"xaxis\":\"x\",\"y\":[-0.04518538226089075],\"yaxis\":\"y\",\"type\":\"scatter\"},{\"hovertemplate\":\"label=JM1_HAEMATOPOIETIC_AND_LYMPHOID_TISSUE_TenPx38<br>PC1=%{x}<br>PC2=%{y}<extra></extra>\",\"legendgroup\":\"JM1_HAEMATOPOIETIC_AND_LYMPHOID_TISSUE_TenPx38\",\"marker\":{\"color\":\"rgb(253,180,98)\",\"symbol\":\"circle\",\"line\":{\"width\":1},\"size\":8},\"mode\":\"markers\",\"name\":\"JM1_HAEMATOPOIETIC_AND_LYMPHOID_TISSUE_TenPx38\",\"orientation\":\"v\",\"showlegend\":true,\"x\":[0.8180061281104104],\"xaxis\":\"x\",\"y\":[-0.8726065146627962],\"yaxis\":\"y\",\"type\":\"scatter\"},{\"hovertemplate\":\"label=KASUMI2_HAEMATOPOIETIC_AND_LYMPHOID_TISSUE_TenPx38<br>PC1=%{x}<br>PC2=%{y}<extra></extra>\",\"legendgroup\":\"KASUMI2_HAEMATOPOIETIC_AND_LYMPHOID_TISSUE_TenPx38\",\"marker\":{\"color\":\"rgb(253,180,98)\",\"symbol\":\"circle\",\"line\":{\"width\":1},\"size\":8},\"mode\":\"markers\",\"name\":\"KASUMI2_HAEMATOPOIETIC_AND_LYMPHOID_TISSUE_TenPx38\",\"orientation\":\"v\",\"showlegend\":true,\"x\":[0.5783330577059611],\"xaxis\":\"x\",\"y\":[-0.1932047522588092],\"yaxis\":\"y\",\"type\":\"scatter\"},{\"hovertemplate\":\"label=KYM1_SOFT_TISSUE_TenPx38<br>PC1=%{x}<br>PC2=%{y}<extra></extra>\",\"legendgroup\":\"KYM1_SOFT_TISSUE_TenPx38\",\"marker\":{\"color\":\"rgb(128,177,211)\",\"symbol\":\"circle\",\"line\":{\"width\":1},\"size\":8},\"mode\":\"markers\",\"name\":\"KYM1_SOFT_TISSUE_TenPx38\",\"orientation\":\"v\",\"showlegend\":true,\"x\":[0.05669854541799279],\"xaxis\":\"x\",\"y\":[0.49202514172212103],\"yaxis\":\"y\",\"type\":\"scatter\"},{\"hovertemplate\":\"label=KYSE410_OESOPHAGUS_TenPx38<br>PC1=%{x}<br>PC2=%{y}<extra></extra>\",\"legendgroup\":\"KYSE410_OESOPHAGUS_TenPx38\",\"marker\":{\"color\":\"rgb(255,255,179)\",\"symbol\":\"circle\",\"line\":{\"width\":1},\"size\":8},\"mode\":\"markers\",\"name\":\"KYSE410_OESOPHAGUS_TenPx38\",\"orientation\":\"v\",\"showlegend\":true,\"x\":[-0.17836191613497054],\"xaxis\":\"x\",\"y\":[0.055270177212664535],\"yaxis\":\"y\",\"type\":\"scatter\"},{\"hovertemplate\":\"label=CL34_LARGE_INTESTINE_TenPx38<br>PC1=%{x}<br>PC2=%{y}<extra></extra>\",\"legendgroup\":\"CL34_LARGE_INTESTINE_TenPx38\",\"marker\":{\"color\":\"rgb(242,242,242)\",\"symbol\":\"circle\",\"line\":{\"width\":1},\"size\":8},\"mode\":\"markers\",\"name\":\"CL34_LARGE_INTESTINE_TenPx38\",\"orientation\":\"v\",\"showlegend\":true,\"x\":[0.029984408799435827],\"xaxis\":\"x\",\"y\":[0.2951017333941378],\"yaxis\":\"y\",\"type\":\"scatter\"},{\"hovertemplate\":\"label=NCIH446_LUNG_TenPx38<br>PC1=%{x}<br>PC2=%{y}<extra></extra>\",\"legendgroup\":\"NCIH446_LUNG_TenPx38\",\"marker\":{\"color\":\"rgb(222,203,228)\",\"symbol\":\"circle\",\"line\":{\"width\":1},\"size\":8},\"mode\":\"markers\",\"name\":\"NCIH446_LUNG_TenPx38\",\"orientation\":\"v\",\"showlegend\":true,\"x\":[0.07747950773752683],\"xaxis\":\"x\",\"y\":[-0.19067843353081082],\"yaxis\":\"y\",\"type\":\"scatter\"},{\"hovertemplate\":\"label=SKNAS_AUTONOMIC_GANGLIA_TenPx38<br>PC1=%{x}<br>PC2=%{y}<extra></extra>\",\"legendgroup\":\"SKNAS_AUTONOMIC_GANGLIA_TenPx38\",\"marker\":{\"color\":\"rgb(217,217,217)\",\"symbol\":\"circle\",\"line\":{\"width\":1},\"size\":8},\"mode\":\"markers\",\"name\":\"SKNAS_AUTONOMIC_GANGLIA_TenPx38\",\"orientation\":\"v\",\"showlegend\":true,\"x\":[0.05269828167898814],\"xaxis\":\"x\",\"y\":[-0.20666891059005657],\"yaxis\":\"y\",\"type\":\"scatter\"},{\"hovertemplate\":\"label=DANG_PANCREAS_TenPx39<br>PC1=%{x}<br>PC2=%{y}<extra></extra>\",\"legendgroup\":\"DANG_PANCREAS_TenPx39\",\"marker\":{\"color\":\"rgb(253,218,236)\",\"symbol\":\"circle\",\"line\":{\"width\":1},\"size\":8},\"mode\":\"markers\",\"name\":\"DANG_PANCREAS_TenPx39\",\"orientation\":\"v\",\"showlegend\":true,\"x\":[0.11634200999180166],\"xaxis\":\"x\",\"y\":[-0.18785717822130713],\"yaxis\":\"y\",\"type\":\"scatter\"},{\"hovertemplate\":\"label=KNS42_CENTRAL_NERVOUS_SYSTEM_TenPx39<br>PC1=%{x}<br>PC2=%{y}<extra></extra>\",\"legendgroup\":\"KNS42_CENTRAL_NERVOUS_SYSTEM_TenPx39\",\"marker\":{\"color\":\"rgb(179,222,105)\",\"symbol\":\"circle\",\"line\":{\"width\":1},\"size\":8},\"mode\":\"markers\",\"name\":\"KNS42_CENTRAL_NERVOUS_SYSTEM_TenPx39\",\"orientation\":\"v\",\"showlegend\":true,\"x\":[-0.7768507140505847],\"xaxis\":\"x\",\"y\":[0.12073039833108781],\"yaxis\":\"y\",\"type\":\"scatter\"},{\"hovertemplate\":\"label=HEC108_ENDOMETRIUM_TenPx39<br>PC1=%{x}<br>PC2=%{y}<extra></extra>\",\"legendgroup\":\"HEC108_ENDOMETRIUM_TenPx39\",\"marker\":{\"color\":\"rgb(252,205,229)\",\"symbol\":\"circle\",\"line\":{\"width\":1},\"size\":8},\"mode\":\"markers\",\"name\":\"HEC108_ENDOMETRIUM_TenPx39\",\"orientation\":\"v\",\"showlegend\":true,\"x\":[-0.7922625940134459],\"xaxis\":\"x\",\"y\":[-0.1407096007136688],\"yaxis\":\"y\",\"type\":\"scatter\"},{\"hovertemplate\":\"label=JEKO1_HAEMATOPOIETIC_AND_LYMPHOID_TISSUE_TenPx39<br>PC1=%{x}<br>PC2=%{y}<extra></extra>\",\"legendgroup\":\"JEKO1_HAEMATOPOIETIC_AND_LYMPHOID_TISSUE_TenPx39\",\"marker\":{\"color\":\"rgb(253,180,98)\",\"symbol\":\"circle\",\"line\":{\"width\":1},\"size\":8},\"mode\":\"markers\",\"name\":\"JEKO1_HAEMATOPOIETIC_AND_LYMPHOID_TISSUE_TenPx39\",\"orientation\":\"v\",\"showlegend\":true,\"x\":[0.8774250047391473],\"xaxis\":\"x\",\"y\":[-0.7109148795340603],\"yaxis\":\"y\",\"type\":\"scatter\"},{\"hovertemplate\":\"label=JURKAT_HAEMATOPOIETIC_AND_LYMPHOID_TISSUE_TenPx39<br>PC1=%{x}<br>PC2=%{y}<extra></extra>\",\"legendgroup\":\"JURKAT_HAEMATOPOIETIC_AND_LYMPHOID_TISSUE_TenPx39\",\"marker\":{\"color\":\"rgb(253,180,98)\",\"symbol\":\"circle\",\"line\":{\"width\":1},\"size\":8},\"mode\":\"markers\",\"name\":\"JURKAT_HAEMATOPOIETIC_AND_LYMPHOID_TISSUE_TenPx39\",\"orientation\":\"v\",\"showlegend\":true,\"x\":[0.6672748429305876],\"xaxis\":\"x\",\"y\":[-0.31299056137302694],\"yaxis\":\"y\",\"type\":\"scatter\"},{\"hovertemplate\":\"label=MSTO211H_PLEURA_TenPx39<br>PC1=%{x}<br>PC2=%{y}<extra></extra>\",\"legendgroup\":\"MSTO211H_PLEURA_TenPx39\",\"marker\":{\"color\":\"rgb(188,128,189)\",\"symbol\":\"circle\",\"line\":{\"width\":1},\"size\":8},\"mode\":\"markers\",\"name\":\"MSTO211H_PLEURA_TenPx39\",\"orientation\":\"v\",\"showlegend\":true,\"x\":[-0.00904687335549513],\"xaxis\":\"x\",\"y\":[0.37813842135790565],\"yaxis\":\"y\",\"type\":\"scatter\"},{\"hovertemplate\":\"label=OCUM1_STOMACH_TenPx39<br>PC1=%{x}<br>PC2=%{y}<extra></extra>\",\"legendgroup\":\"OCUM1_STOMACH_TenPx39\",\"marker\":{\"color\":\"rgb(141,211,199)\",\"symbol\":\"circle\",\"line\":{\"width\":1},\"size\":8},\"mode\":\"markers\",\"name\":\"OCUM1_STOMACH_TenPx39\",\"orientation\":\"v\",\"showlegend\":true,\"x\":[0.11218180094098305],\"xaxis\":\"x\",\"y\":[0.31963682755314743],\"yaxis\":\"y\",\"type\":\"scatter\"},{\"hovertemplate\":\"label=CCK81_LARGE_INTESTINE_TenPx39<br>PC1=%{x}<br>PC2=%{y}<extra></extra>\",\"legendgroup\":\"CCK81_LARGE_INTESTINE_TenPx39\",\"marker\":{\"color\":\"rgb(242,242,242)\",\"symbol\":\"circle\",\"line\":{\"width\":1},\"size\":8},\"mode\":\"markers\",\"name\":\"CCK81_LARGE_INTESTINE_TenPx39\",\"orientation\":\"v\",\"showlegend\":true,\"x\":[0.21351755599180236],\"xaxis\":\"x\",\"y\":[-0.13952551654751758],\"yaxis\":\"y\",\"type\":\"scatter\"},{\"hovertemplate\":\"label=SNU449_LIVER_TenPx39<br>PC1=%{x}<br>PC2=%{y}<extra></extra>\",\"legendgroup\":\"SNU449_LIVER_TenPx39\",\"marker\":{\"color\":\"rgb(254,217,166)\",\"symbol\":\"circle\",\"line\":{\"width\":1},\"size\":8},\"mode\":\"markers\",\"name\":\"SNU449_LIVER_TenPx39\",\"orientation\":\"v\",\"showlegend\":true,\"x\":[-0.13823493278929028],\"xaxis\":\"x\",\"y\":[0.19637931089903166],\"yaxis\":\"y\",\"type\":\"scatter\"},{\"hovertemplate\":\"label=8505C_THYROID_TenPx40<br>PC1=%{x}<br>PC2=%{y}<extra></extra>\",\"legendgroup\":\"8505C_THYROID_TenPx40\",\"marker\":{\"color\":\"rgb(204,235,197)\",\"symbol\":\"circle\",\"line\":{\"width\":1},\"size\":8},\"mode\":\"markers\",\"name\":\"8505C_THYROID_TenPx40\",\"orientation\":\"v\",\"showlegend\":true,\"x\":[0.26645275980217215],\"xaxis\":\"x\",\"y\":[0.5309807322640124],\"yaxis\":\"y\",\"type\":\"scatter\"},{\"hovertemplate\":\"label=HCC1833_LUNG_TenPx40<br>PC1=%{x}<br>PC2=%{y}<extra></extra>\",\"legendgroup\":\"HCC1833_LUNG_TenPx40\",\"marker\":{\"color\":\"rgb(222,203,228)\",\"symbol\":\"circle\",\"line\":{\"width\":1},\"size\":8},\"mode\":\"markers\",\"name\":\"HCC1833_LUNG_TenPx40\",\"orientation\":\"v\",\"showlegend\":true,\"x\":[-0.29969005082211025],\"xaxis\":\"x\",\"y\":[-0.5736091192012961],\"yaxis\":\"y\",\"type\":\"scatter\"},{\"hovertemplate\":\"label=PANC0403_PANCREAS_TenPx40<br>PC1=%{x}<br>PC2=%{y}<extra></extra>\",\"legendgroup\":\"PANC0403_PANCREAS_TenPx40\",\"marker\":{\"color\":\"rgb(253,218,236)\",\"symbol\":\"circle\",\"line\":{\"width\":1},\"size\":8},\"mode\":\"markers\",\"name\":\"PANC0403_PANCREAS_TenPx40\",\"orientation\":\"v\",\"showlegend\":true,\"x\":[-0.6284361266732911],\"xaxis\":\"x\",\"y\":[0.27904848611918265],\"yaxis\":\"y\",\"type\":\"scatter\"},{\"hovertemplate\":\"label=J82_URINARY_TRACT_TenPx40<br>PC1=%{x}<br>PC2=%{y}<extra></extra>\",\"legendgroup\":\"J82_URINARY_TRACT_TenPx40\",\"marker\":{\"color\":\"rgb(229,216,189)\",\"symbol\":\"circle\",\"line\":{\"width\":1},\"size\":8},\"mode\":\"markers\",\"name\":\"J82_URINARY_TRACT_TenPx40\",\"orientation\":\"v\",\"showlegend\":true,\"x\":[0.19353104965815013],\"xaxis\":\"x\",\"y\":[0.342565615684739],\"yaxis\":\"y\",\"type\":\"scatter\"},{\"hovertemplate\":\"label=JHH4_LIVER_TenPx40<br>PC1=%{x}<br>PC2=%{y}<extra></extra>\",\"legendgroup\":\"JHH4_LIVER_TenPx40\",\"marker\":{\"color\":\"rgb(254,217,166)\",\"symbol\":\"circle\",\"line\":{\"width\":1},\"size\":8},\"mode\":\"markers\",\"name\":\"JHH4_LIVER_TenPx40\",\"orientation\":\"v\",\"showlegend\":true,\"x\":[0.20772742757706314],\"xaxis\":\"x\",\"y\":[0.09536292224340795],\"yaxis\":\"y\",\"type\":\"scatter\"},{\"hovertemplate\":\"label=OVSAHO_OVARY_TenPx40<br>PC1=%{x}<br>PC2=%{y}<extra></extra>\",\"legendgroup\":\"OVSAHO_OVARY_TenPx40\",\"marker\":{\"color\":\"black\",\"symbol\":\"circle\",\"line\":{\"width\":1},\"size\":8},\"mode\":\"markers\",\"name\":\"OVSAHO_OVARY_TenPx40\",\"orientation\":\"v\",\"showlegend\":true,\"x\":[-0.8101473814296534],\"xaxis\":\"x\",\"y\":[-0.3783372024216689],\"yaxis\":\"y\",\"type\":\"scatter\"},{\"hovertemplate\":\"label=RL_HAEMATOPOIETIC_AND_LYMPHOID_TISSUE_TenPx40<br>PC1=%{x}<br>PC2=%{y}<extra></extra>\",\"legendgroup\":\"RL_HAEMATOPOIETIC_AND_LYMPHOID_TISSUE_TenPx40\",\"marker\":{\"color\":\"rgb(253,180,98)\",\"symbol\":\"circle\",\"line\":{\"width\":1},\"size\":8},\"mode\":\"markers\",\"name\":\"RL_HAEMATOPOIETIC_AND_LYMPHOID_TISSUE_TenPx40\",\"orientation\":\"v\",\"showlegend\":true,\"x\":[0.7804257665337272],\"xaxis\":\"x\",\"y\":[-0.18491806525140506],\"yaxis\":\"y\",\"type\":\"scatter\"},{\"hovertemplate\":\"label=SNUC5_LARGE_INTESTINE_TenPx40<br>PC1=%{x}<br>PC2=%{y}<extra></extra>\",\"legendgroup\":\"SNUC5_LARGE_INTESTINE_TenPx40\",\"marker\":{\"color\":\"rgb(242,242,242)\",\"symbol\":\"circle\",\"line\":{\"width\":1},\"size\":8},\"mode\":\"markers\",\"name\":\"SNUC5_LARGE_INTESTINE_TenPx40\",\"orientation\":\"v\",\"showlegend\":true,\"x\":[-0.34864533159098476],\"xaxis\":\"x\",\"y\":[-0.34755390808356773],\"yaxis\":\"y\",\"type\":\"scatter\"},{\"hovertemplate\":\"label=SUDHL6_HAEMATOPOIETIC_AND_LYMPHOID_TISSUE_TenPx40<br>PC1=%{x}<br>PC2=%{y}<extra></extra>\",\"legendgroup\":\"SUDHL6_HAEMATOPOIETIC_AND_LYMPHOID_TISSUE_TenPx40\",\"marker\":{\"color\":\"rgb(253,180,98)\",\"symbol\":\"circle\",\"line\":{\"width\":1},\"size\":8},\"mode\":\"markers\",\"name\":\"SUDHL6_HAEMATOPOIETIC_AND_LYMPHOID_TISSUE_TenPx40\",\"orientation\":\"v\",\"showlegend\":true,\"x\":[0.7242002295755486],\"xaxis\":\"x\",\"y\":[-0.14920145787999284],\"yaxis\":\"y\",\"type\":\"scatter\"},{\"hovertemplate\":\"label=SKLU1_LUNG_TenPx42<br>PC1=%{x}<br>PC2=%{y}<extra></extra>\",\"legendgroup\":\"SKLU1_LUNG_TenPx42\",\"marker\":{\"color\":\"rgb(222,203,228)\",\"symbol\":\"circle\",\"line\":{\"width\":1},\"size\":8},\"mode\":\"markers\",\"name\":\"SKLU1_LUNG_TenPx42\",\"orientation\":\"v\",\"showlegend\":true,\"x\":[-0.20155405578956073],\"xaxis\":\"x\",\"y\":[-0.13122278780335558],\"yaxis\":\"y\",\"type\":\"scatter\"},{\"hovertemplate\":\"label=ISHIKAWAHERAKLIO02ER_ENDOMETRIUM_TenPx42<br>PC1=%{x}<br>PC2=%{y}<extra></extra>\",\"legendgroup\":\"ISHIKAWAHERAKLIO02ER_ENDOMETRIUM_TenPx42\",\"marker\":{\"color\":\"rgb(252,205,229)\",\"symbol\":\"circle\",\"line\":{\"width\":1},\"size\":8},\"mode\":\"markers\",\"name\":\"ISHIKAWAHERAKLIO02ER_ENDOMETRIUM_TenPx42\",\"orientation\":\"v\",\"showlegend\":true,\"x\":[-0.15426511553995337],\"xaxis\":\"x\",\"y\":[-0.4763739081601488],\"yaxis\":\"y\",\"type\":\"scatter\"},{\"hovertemplate\":\"label=SNGM_ENDOMETRIUM_TenPx42<br>PC1=%{x}<br>PC2=%{y}<extra></extra>\",\"legendgroup\":\"SNGM_ENDOMETRIUM_TenPx42\",\"marker\":{\"color\":\"rgb(252,205,229)\",\"symbol\":\"circle\",\"line\":{\"width\":1},\"size\":8},\"mode\":\"markers\",\"name\":\"SNGM_ENDOMETRIUM_TenPx42\",\"orientation\":\"v\",\"showlegend\":true,\"x\":[-0.3047769332561022],\"xaxis\":\"x\",\"y\":[-0.17969693983091517],\"yaxis\":\"y\",\"type\":\"scatter\"},{\"hovertemplate\":\"label=GAMG_CENTRAL_NERVOUS_SYSTEM_TenPx42<br>PC1=%{x}<br>PC2=%{y}<extra></extra>\",\"legendgroup\":\"GAMG_CENTRAL_NERVOUS_SYSTEM_TenPx42\",\"marker\":{\"color\":\"rgb(179,222,105)\",\"symbol\":\"circle\",\"line\":{\"width\":1},\"size\":8},\"mode\":\"markers\",\"name\":\"GAMG_CENTRAL_NERVOUS_SYSTEM_TenPx42\",\"orientation\":\"v\",\"showlegend\":true,\"x\":[0.3346421366227244],\"xaxis\":\"x\",\"y\":[0.45924228914050796],\"yaxis\":\"y\",\"type\":\"scatter\"},{\"hovertemplate\":\"label=NCIH929_HAEMATOPOIETIC_AND_LYMPHOID_TISSUE_TenPx42<br>PC1=%{x}<br>PC2=%{y}<extra></extra>\",\"legendgroup\":\"NCIH929_HAEMATOPOIETIC_AND_LYMPHOID_TISSUE_TenPx42\",\"marker\":{\"color\":\"rgb(253,180,98)\",\"symbol\":\"circle\",\"line\":{\"width\":1},\"size\":8},\"mode\":\"markers\",\"name\":\"NCIH929_HAEMATOPOIETIC_AND_LYMPHOID_TISSUE_TenPx42\",\"orientation\":\"v\",\"showlegend\":true,\"x\":[0.4752019521351281],\"xaxis\":\"x\",\"y\":[0.46911779564665446],\"yaxis\":\"y\",\"type\":\"scatter\"},{\"hovertemplate\":\"label=PANC0203_PANCREAS_TenPx42<br>PC1=%{x}<br>PC2=%{y}<extra></extra>\",\"legendgroup\":\"PANC0203_PANCREAS_TenPx42\",\"marker\":{\"color\":\"rgb(253,218,236)\",\"symbol\":\"circle\",\"line\":{\"width\":1},\"size\":8},\"mode\":\"markers\",\"name\":\"PANC0203_PANCREAS_TenPx42\",\"orientation\":\"v\",\"showlegend\":true,\"x\":[-0.5680103383408228],\"xaxis\":\"x\",\"y\":[-0.048420643126783444],\"yaxis\":\"y\",\"type\":\"scatter\"},{\"hovertemplate\":\"label=RCHACV_HAEMATOPOIETIC_AND_LYMPHOID_TISSUE_TenPx42<br>PC1=%{x}<br>PC2=%{y}<extra></extra>\",\"legendgroup\":\"RCHACV_HAEMATOPOIETIC_AND_LYMPHOID_TISSUE_TenPx42\",\"marker\":{\"color\":\"rgb(253,180,98)\",\"symbol\":\"circle\",\"line\":{\"width\":1},\"size\":8},\"mode\":\"markers\",\"name\":\"RCHACV_HAEMATOPOIETIC_AND_LYMPHOID_TISSUE_TenPx42\",\"orientation\":\"v\",\"showlegend\":true,\"x\":[1.0],\"xaxis\":\"x\",\"y\":[-0.9291454218419175],\"yaxis\":\"y\",\"type\":\"scatter\"},{\"hovertemplate\":\"label=SNU423_LIVER_TenPx42<br>PC1=%{x}<br>PC2=%{y}<extra></extra>\",\"legendgroup\":\"SNU423_LIVER_TenPx42\",\"marker\":{\"color\":\"rgb(254,217,166)\",\"symbol\":\"circle\",\"line\":{\"width\":1},\"size\":8},\"mode\":\"markers\",\"name\":\"SNU423_LIVER_TenPx42\",\"orientation\":\"v\",\"showlegend\":true,\"x\":[-0.2784381876128148],\"xaxis\":\"x\",\"y\":[0.3608696321850686],\"yaxis\":\"y\",\"type\":\"scatter\"},{\"hovertemplate\":\"label=SNU1079_BILIARY_TRACT_TenPx42<br>PC1=%{x}<br>PC2=%{y}<extra></extra>\",\"legendgroup\":\"SNU1079_BILIARY_TRACT_TenPx42\",\"marker\":{\"color\":\"rgb(255,237,111)\",\"symbol\":\"circle\",\"line\":{\"width\":1},\"size\":8},\"mode\":\"markers\",\"name\":\"SNU1079_BILIARY_TRACT_TenPx42\",\"orientation\":\"v\",\"showlegend\":true,\"x\":[-0.41435268120016056],\"xaxis\":\"x\",\"y\":[0.16892806952077474],\"yaxis\":\"y\",\"type\":\"scatter\"},{\"hovertemplate\":\"label=A204_SOFT_TISSUE_TenPx23<br>PC1=%{x}<br>PC2=%{y}<extra></extra>\",\"legendgroup\":\"A204_SOFT_TISSUE_TenPx23\",\"marker\":{\"color\":\"rgb(128,177,211)\",\"symbol\":\"circle\",\"line\":{\"width\":1},\"size\":8},\"mode\":\"markers\",\"name\":\"A204_SOFT_TISSUE_TenPx23\",\"orientation\":\"v\",\"showlegend\":true,\"x\":[0.026712775247547636],\"xaxis\":\"x\",\"y\":[0.46175436157105954],\"yaxis\":\"y\",\"type\":\"scatter\"},{\"hovertemplate\":\"label=BXPC3_PANCREAS_TenPx23<br>PC1=%{x}<br>PC2=%{y}<extra></extra>\",\"legendgroup\":\"BXPC3_PANCREAS_TenPx23\",\"marker\":{\"color\":\"rgb(253,218,236)\",\"symbol\":\"circle\",\"line\":{\"width\":1},\"size\":8},\"mode\":\"markers\",\"name\":\"BXPC3_PANCREAS_TenPx23\",\"orientation\":\"v\",\"showlegend\":true,\"x\":[-0.27856036641269466],\"xaxis\":\"x\",\"y\":[-0.3262814502222093],\"yaxis\":\"y\",\"type\":\"scatter\"},{\"hovertemplate\":\"label=CALU1_LUNG_TenPx23<br>PC1=%{x}<br>PC2=%{y}<extra></extra>\",\"legendgroup\":\"CALU1_LUNG_TenPx23\",\"marker\":{\"color\":\"rgb(222,203,228)\",\"symbol\":\"circle\",\"line\":{\"width\":1},\"size\":8},\"mode\":\"markers\",\"name\":\"CALU1_LUNG_TenPx23\",\"orientation\":\"v\",\"showlegend\":true,\"x\":[0.3734028757794549],\"xaxis\":\"x\",\"y\":[0.3978847078587894],\"yaxis\":\"y\",\"type\":\"scatter\"},{\"hovertemplate\":\"label=HEC251_ENDOMETRIUM_TenPx23<br>PC1=%{x}<br>PC2=%{y}<extra></extra>\",\"legendgroup\":\"HEC251_ENDOMETRIUM_TenPx23\",\"marker\":{\"color\":\"rgb(252,205,229)\",\"symbol\":\"circle\",\"line\":{\"width\":1},\"size\":8},\"mode\":\"markers\",\"name\":\"HEC251_ENDOMETRIUM_TenPx23\",\"orientation\":\"v\",\"showlegend\":true,\"x\":[-0.7613642306485537],\"xaxis\":\"x\",\"y\":[-0.427476259463999],\"yaxis\":\"y\",\"type\":\"scatter\"},{\"hovertemplate\":\"label=HEL_HAEMATOPOIETIC_AND_LYMPHOID_TISSUE_TenPx23<br>PC1=%{x}<br>PC2=%{y}<extra></extra>\",\"legendgroup\":\"HEL_HAEMATOPOIETIC_AND_LYMPHOID_TISSUE_TenPx23\",\"marker\":{\"color\":\"rgb(253,180,98)\",\"symbol\":\"circle\",\"line\":{\"width\":1},\"size\":8},\"mode\":\"markers\",\"name\":\"HEL_HAEMATOPOIETIC_AND_LYMPHOID_TISSUE_TenPx23\",\"orientation\":\"v\",\"showlegend\":true,\"x\":[0.7176319115227333],\"xaxis\":\"x\",\"y\":[-0.37403760196757074],\"yaxis\":\"y\",\"type\":\"scatter\"},{\"hovertemplate\":\"label=KYSE180_OESOPHAGUS_TenPx23<br>PC1=%{x}<br>PC2=%{y}<extra></extra>\",\"legendgroup\":\"KYSE180_OESOPHAGUS_TenPx23\",\"marker\":{\"color\":\"rgb(255,255,179)\",\"symbol\":\"circle\",\"line\":{\"width\":1},\"size\":8},\"mode\":\"markers\",\"name\":\"KYSE180_OESOPHAGUS_TenPx23\",\"orientation\":\"v\",\"showlegend\":true,\"x\":[-0.447639647138521],\"xaxis\":\"x\",\"y\":[-0.4699710514362111],\"yaxis\":\"y\",\"type\":\"scatter\"},{\"hovertemplate\":\"label=MONOMAC1_HAEMATOPOIETIC_AND_LYMPHOID_TISSUE_TenPx23<br>PC1=%{x}<br>PC2=%{y}<extra></extra>\",\"legendgroup\":\"MONOMAC1_HAEMATOPOIETIC_AND_LYMPHOID_TISSUE_TenPx23\",\"marker\":{\"color\":\"rgb(253,180,98)\",\"symbol\":\"circle\",\"line\":{\"width\":1},\"size\":8},\"mode\":\"markers\",\"name\":\"MONOMAC1_HAEMATOPOIETIC_AND_LYMPHOID_TISSUE_TenPx23\",\"orientation\":\"v\",\"showlegend\":true,\"x\":[0.04248827615869641],\"xaxis\":\"x\",\"y\":[0.7982997326405277],\"yaxis\":\"y\",\"type\":\"scatter\"},{\"hovertemplate\":\"label=SF295_CENTRAL_NERVOUS_SYSTEM_TenPx23<br>PC1=%{x}<br>PC2=%{y}<extra></extra>\",\"legendgroup\":\"SF295_CENTRAL_NERVOUS_SYSTEM_TenPx23\",\"marker\":{\"color\":\"rgb(179,222,105)\",\"symbol\":\"circle\",\"line\":{\"width\":1},\"size\":8},\"mode\":\"markers\",\"name\":\"SF295_CENTRAL_NERVOUS_SYSTEM_TenPx23\",\"orientation\":\"v\",\"showlegend\":true,\"x\":[0.44243606875717356],\"xaxis\":\"x\",\"y\":[-0.20395341592264485],\"yaxis\":\"y\",\"type\":\"scatter\"},{\"hovertemplate\":\"label=SKMEL5_SKIN_TenPx23<br>PC1=%{x}<br>PC2=%{y}<extra></extra>\",\"legendgroup\":\"SKMEL5_SKIN_TenPx23\",\"marker\":{\"color\":\"rgb(179,205,227)\",\"symbol\":\"circle\",\"line\":{\"width\":1},\"size\":8},\"mode\":\"markers\",\"name\":\"SKMEL5_SKIN_TenPx23\",\"orientation\":\"v\",\"showlegend\":true,\"x\":[0.1197640376001046],\"xaxis\":\"x\",\"y\":[-0.21539087134221685],\"yaxis\":\"y\",\"type\":\"scatter\"},{\"hovertemplate\":\"label=PC14_LUNG_TenPx05<br>PC1=%{x}<br>PC2=%{y}<extra></extra>\",\"legendgroup\":\"PC14_LUNG_TenPx05\",\"marker\":{\"color\":\"rgb(222,203,228)\",\"symbol\":\"circle\",\"line\":{\"width\":1},\"size\":8},\"mode\":\"markers\",\"name\":\"PC14_LUNG_TenPx05\",\"orientation\":\"v\",\"showlegend\":true,\"x\":[-0.21628608533230415],\"xaxis\":\"x\",\"y\":[-0.2545391330926126],\"yaxis\":\"y\",\"type\":\"scatter\"},{\"hovertemplate\":\"label=EBC1_LUNG_TenPx05<br>PC1=%{x}<br>PC2=%{y}<extra></extra>\",\"legendgroup\":\"EBC1_LUNG_TenPx05\",\"marker\":{\"color\":\"rgb(222,203,228)\",\"symbol\":\"circle\",\"line\":{\"width\":1},\"size\":8},\"mode\":\"markers\",\"name\":\"EBC1_LUNG_TenPx05\",\"orientation\":\"v\",\"showlegend\":true,\"x\":[-0.4619254106936498],\"xaxis\":\"x\",\"y\":[-0.21619279290474075],\"yaxis\":\"y\",\"type\":\"scatter\"},{\"hovertemplate\":\"label=SKMEL2_SKIN_TenPx05<br>PC1=%{x}<br>PC2=%{y}<extra></extra>\",\"legendgroup\":\"SKMEL2_SKIN_TenPx05\",\"marker\":{\"color\":\"rgb(179,205,227)\",\"symbol\":\"circle\",\"line\":{\"width\":1},\"size\":8},\"mode\":\"markers\",\"name\":\"SKMEL2_SKIN_TenPx05\",\"orientation\":\"v\",\"showlegend\":true,\"x\":[0.13780858352922878],\"xaxis\":\"x\",\"y\":[0.19620172130634403],\"yaxis\":\"y\",\"type\":\"scatter\"},{\"hovertemplate\":\"label=MEWO_SKIN_TenPx05<br>PC1=%{x}<br>PC2=%{y}<extra></extra>\",\"legendgroup\":\"MEWO_SKIN_TenPx05\",\"marker\":{\"color\":\"rgb(179,205,227)\",\"symbol\":\"circle\",\"line\":{\"width\":1},\"size\":8},\"mode\":\"markers\",\"name\":\"MEWO_SKIN_TenPx05\",\"orientation\":\"v\",\"showlegend\":true,\"x\":[0.17533045107676892],\"xaxis\":\"x\",\"y\":[-0.22839267805435637],\"yaxis\":\"y\",\"type\":\"scatter\"},{\"hovertemplate\":\"label=HS944T_SKIN_TenPx05<br>PC1=%{x}<br>PC2=%{y}<extra></extra>\",\"legendgroup\":\"HS944T_SKIN_TenPx05\",\"marker\":{\"color\":\"rgb(179,205,227)\",\"symbol\":\"circle\",\"line\":{\"width\":1},\"size\":8},\"mode\":\"markers\",\"name\":\"HS944T_SKIN_TenPx05\",\"orientation\":\"v\",\"showlegend\":true,\"x\":[0.07744322811510054],\"xaxis\":\"x\",\"y\":[0.29548004824837915],\"yaxis\":\"y\",\"type\":\"scatter\"},{\"hovertemplate\":\"label=JHH7_LIVER_TenPx05<br>PC1=%{x}<br>PC2=%{y}<extra></extra>\",\"legendgroup\":\"JHH7_LIVER_TenPx05\",\"marker\":{\"color\":\"rgb(254,217,166)\",\"symbol\":\"circle\",\"line\":{\"width\":1},\"size\":8},\"mode\":\"markers\",\"name\":\"JHH7_LIVER_TenPx05\",\"orientation\":\"v\",\"showlegend\":true,\"x\":[-0.17414872195190928],\"xaxis\":\"x\",\"y\":[-0.09678016407274133],\"yaxis\":\"y\",\"type\":\"scatter\"},{\"hovertemplate\":\"label=RVH421_SKIN_TenPx05<br>PC1=%{x}<br>PC2=%{y}<extra></extra>\",\"legendgroup\":\"RVH421_SKIN_TenPx05\",\"marker\":{\"color\":\"rgb(179,205,227)\",\"symbol\":\"circle\",\"line\":{\"width\":1},\"size\":8},\"mode\":\"markers\",\"name\":\"RVH421_SKIN_TenPx05\",\"orientation\":\"v\",\"showlegend\":true,\"x\":[0.24497031757992274],\"xaxis\":\"x\",\"y\":[0.28824173676252773],\"yaxis\":\"y\",\"type\":\"scatter\"},{\"hovertemplate\":\"label=A498_KIDNEY_TenPx05<br>PC1=%{x}<br>PC2=%{y}<extra></extra>\",\"legendgroup\":\"A498_KIDNEY_TenPx05\",\"marker\":{\"color\":\"rgb(204,235,197)\",\"symbol\":\"circle\",\"line\":{\"width\":1},\"size\":8},\"mode\":\"markers\",\"name\":\"A498_KIDNEY_TenPx05\",\"orientation\":\"v\",\"showlegend\":true,\"x\":[0.19020580914680166],\"xaxis\":\"x\",\"y\":[0.2412191258531271],\"yaxis\":\"y\",\"type\":\"scatter\"},{\"hovertemplate\":\"label=HS695T_SKIN_TenPx05<br>PC1=%{x}<br>PC2=%{y}<extra></extra>\",\"legendgroup\":\"HS695T_SKIN_TenPx05\",\"marker\":{\"color\":\"rgb(179,205,227)\",\"symbol\":\"circle\",\"line\":{\"width\":1},\"size\":8},\"mode\":\"markers\",\"name\":\"HS695T_SKIN_TenPx05\",\"orientation\":\"v\",\"showlegend\":true,\"x\":[-0.012429301967922378],\"xaxis\":\"x\",\"y\":[0.14646218999596694],\"yaxis\":\"y\",\"type\":\"scatter\"},{\"hovertemplate\":\"label=697_HAEMATOPOIETIC_AND_LYMPHOID_TISSUE_TenPx30<br>PC1=%{x}<br>PC2=%{y}<extra></extra>\",\"legendgroup\":\"697_HAEMATOPOIETIC_AND_LYMPHOID_TISSUE_TenPx30\",\"marker\":{\"color\":\"rgb(253,180,98)\",\"symbol\":\"circle\",\"line\":{\"width\":1},\"size\":8},\"mode\":\"markers\",\"name\":\"697_HAEMATOPOIETIC_AND_LYMPHOID_TISSUE_TenPx30\",\"orientation\":\"v\",\"showlegend\":true,\"x\":[0.5724510820431256],\"xaxis\":\"x\",\"y\":[-0.14863763683099596],\"yaxis\":\"y\",\"type\":\"scatter\"},{\"hovertemplate\":\"label=8305C_THYROID_TenPx30<br>PC1=%{x}<br>PC2=%{y}<extra></extra>\",\"legendgroup\":\"8305C_THYROID_TenPx30\",\"marker\":{\"color\":\"rgb(204,235,197)\",\"symbol\":\"circle\",\"line\":{\"width\":1},\"size\":8},\"mode\":\"markers\",\"name\":\"8305C_THYROID_TenPx30\",\"orientation\":\"v\",\"showlegend\":true,\"x\":[-0.5241476323324876],\"xaxis\":\"x\",\"y\":[0.5337465982877494],\"yaxis\":\"y\",\"type\":\"scatter\"},{\"hovertemplate\":\"label=HCT15_LARGE_INTESTINE_TenPx30<br>PC1=%{x}<br>PC2=%{y}<extra></extra>\",\"legendgroup\":\"HCT15_LARGE_INTESTINE_TenPx30\",\"marker\":{\"color\":\"rgb(242,242,242)\",\"symbol\":\"circle\",\"line\":{\"width\":1},\"size\":8},\"mode\":\"markers\",\"name\":\"HCT15_LARGE_INTESTINE_TenPx30\",\"orientation\":\"v\",\"showlegend\":true,\"x\":[0.16977605426399803],\"xaxis\":\"x\",\"y\":[-0.19251098875833914],\"yaxis\":\"y\",\"type\":\"scatter\"},{\"hovertemplate\":\"label=IGR1_SKIN_TenPx30<br>PC1=%{x}<br>PC2=%{y}<extra></extra>\",\"legendgroup\":\"IGR1_SKIN_TenPx30\",\"marker\":{\"color\":\"rgb(179,205,227)\",\"symbol\":\"circle\",\"line\":{\"width\":1},\"size\":8},\"mode\":\"markers\",\"name\":\"IGR1_SKIN_TenPx30\",\"orientation\":\"v\",\"showlegend\":true,\"x\":[-0.547682438217134],\"xaxis\":\"x\",\"y\":[-0.23064409443686099],\"yaxis\":\"y\",\"type\":\"scatter\"},{\"hovertemplate\":\"label=SUIT2_PANCREAS_TenPx30<br>PC1=%{x}<br>PC2=%{y}<extra></extra>\",\"legendgroup\":\"SUIT2_PANCREAS_TenPx30\",\"marker\":{\"color\":\"rgb(253,218,236)\",\"symbol\":\"circle\",\"line\":{\"width\":1},\"size\":8},\"mode\":\"markers\",\"name\":\"SUIT2_PANCREAS_TenPx30\",\"orientation\":\"v\",\"showlegend\":true,\"x\":[-0.04684863270020361],\"xaxis\":\"x\",\"y\":[0.3063011152967328],\"yaxis\":\"y\",\"type\":\"scatter\"},{\"hovertemplate\":\"label=LN18_CENTRAL_NERVOUS_SYSTEM_TenPx30<br>PC1=%{x}<br>PC2=%{y}<extra></extra>\",\"legendgroup\":\"LN18_CENTRAL_NERVOUS_SYSTEM_TenPx30\",\"marker\":{\"color\":\"rgb(179,222,105)\",\"symbol\":\"circle\",\"line\":{\"width\":1},\"size\":8},\"mode\":\"markers\",\"name\":\"LN18_CENTRAL_NERVOUS_SYSTEM_TenPx30\",\"orientation\":\"v\",\"showlegend\":true,\"x\":[-0.14884333012822595],\"xaxis\":\"x\",\"y\":[0.08301056467585573],\"yaxis\":\"y\",\"type\":\"scatter\"},{\"hovertemplate\":\"label=LNCAPCLONEFGC_PROSTATE_TenPx30<br>PC1=%{x}<br>PC2=%{y}<extra></extra>\",\"legendgroup\":\"LNCAPCLONEFGC_PROSTATE_TenPx30\",\"marker\":{\"color\":\"rgb(190,186,218)\",\"symbol\":\"circle\",\"line\":{\"width\":1},\"size\":8},\"mode\":\"markers\",\"name\":\"LNCAPCLONEFGC_PROSTATE_TenPx30\",\"orientation\":\"v\",\"showlegend\":true,\"x\":[0.03536686091892919],\"xaxis\":\"x\",\"y\":[-0.27780838551392373],\"yaxis\":\"y\",\"type\":\"scatter\"},{\"hovertemplate\":\"label=NCIH650_LUNG_TenPx30<br>PC1=%{x}<br>PC2=%{y}<extra></extra>\",\"legendgroup\":\"NCIH650_LUNG_TenPx30\",\"marker\":{\"color\":\"rgb(222,203,228)\",\"symbol\":\"circle\",\"line\":{\"width\":1},\"size\":8},\"mode\":\"markers\",\"name\":\"NCIH650_LUNG_TenPx30\",\"orientation\":\"v\",\"showlegend\":true,\"x\":[0.12828052731410458],\"xaxis\":\"x\",\"y\":[-0.016316880488907577],\"yaxis\":\"y\",\"type\":\"scatter\"},{\"hovertemplate\":\"label=REH_HAEMATOPOIETIC_AND_LYMPHOID_TISSUE_TenPx30<br>PC1=%{x}<br>PC2=%{y}<extra></extra>\",\"legendgroup\":\"REH_HAEMATOPOIETIC_AND_LYMPHOID_TISSUE_TenPx30\",\"marker\":{\"color\":\"rgb(253,180,98)\",\"symbol\":\"circle\",\"line\":{\"width\":1},\"size\":8},\"mode\":\"markers\",\"name\":\"REH_HAEMATOPOIETIC_AND_LYMPHOID_TISSUE_TenPx30\",\"orientation\":\"v\",\"showlegend\":true,\"x\":[0.6134788820384673],\"xaxis\":\"x\",\"y\":[-0.2860247552424032],\"yaxis\":\"y\",\"type\":\"scatter\"},{\"hovertemplate\":\"label=HEC1A_ENDOMETRIUM_TenPx31<br>PC1=%{x}<br>PC2=%{y}<extra></extra>\",\"legendgroup\":\"HEC1A_ENDOMETRIUM_TenPx31\",\"marker\":{\"color\":\"rgb(252,205,229)\",\"symbol\":\"circle\",\"line\":{\"width\":1},\"size\":8},\"mode\":\"markers\",\"name\":\"HEC1A_ENDOMETRIUM_TenPx31\",\"orientation\":\"v\",\"showlegend\":true,\"x\":[-0.09546668446233368],\"xaxis\":\"x\",\"y\":[-0.17875143919779335],\"yaxis\":\"y\",\"type\":\"scatter\"},{\"hovertemplate\":\"label=HUPT3_PANCREAS_TenPx31<br>PC1=%{x}<br>PC2=%{y}<extra></extra>\",\"legendgroup\":\"HUPT3_PANCREAS_TenPx31\",\"marker\":{\"color\":\"rgb(253,218,236)\",\"symbol\":\"circle\",\"line\":{\"width\":1},\"size\":8},\"mode\":\"markers\",\"name\":\"HUPT3_PANCREAS_TenPx31\",\"orientation\":\"v\",\"showlegend\":true,\"x\":[-0.213381613403155],\"xaxis\":\"x\",\"y\":[-0.16307271506229604],\"yaxis\":\"y\",\"type\":\"scatter\"},{\"hovertemplate\":\"label=KMS27_HAEMATOPOIETIC_AND_LYMPHOID_TISSUE_TenPx31<br>PC1=%{x}<br>PC2=%{y}<extra></extra>\",\"legendgroup\":\"KMS27_HAEMATOPOIETIC_AND_LYMPHOID_TISSUE_TenPx31\",\"marker\":{\"color\":\"rgb(253,180,98)\",\"symbol\":\"circle\",\"line\":{\"width\":1},\"size\":8},\"mode\":\"markers\",\"name\":\"KMS27_HAEMATOPOIETIC_AND_LYMPHOID_TISSUE_TenPx31\",\"orientation\":\"v\",\"showlegend\":true,\"x\":[0.5657135515873885],\"xaxis\":\"x\",\"y\":[-0.1851493150250668],\"yaxis\":\"y\",\"type\":\"scatter\"},{\"hovertemplate\":\"label=LXF289_LUNG_TenPx31<br>PC1=%{x}<br>PC2=%{y}<extra></extra>\",\"legendgroup\":\"LXF289_LUNG_TenPx31\",\"marker\":{\"color\":\"rgb(222,203,228)\",\"symbol\":\"circle\",\"line\":{\"width\":1},\"size\":8},\"mode\":\"markers\",\"name\":\"LXF289_LUNG_TenPx31\",\"orientation\":\"v\",\"showlegend\":true,\"x\":[0.1917464559284745],\"xaxis\":\"x\",\"y\":[0.1698265959721325],\"yaxis\":\"y\",\"type\":\"scatter\"},{\"hovertemplate\":\"label=CAL27_UPPER_AERODIGESTIVE_TRACT_TenPx31<br>PC1=%{x}<br>PC2=%{y}<extra></extra>\",\"legendgroup\":\"CAL27_UPPER_AERODIGESTIVE_TRACT_TenPx31\",\"marker\":{\"color\":\"rgb(255,255,204)\",\"symbol\":\"circle\",\"line\":{\"width\":1},\"size\":8},\"mode\":\"markers\",\"name\":\"CAL27_UPPER_AERODIGESTIVE_TRACT_TenPx31\",\"orientation\":\"v\",\"showlegend\":true,\"x\":[-0.23828942789049568],\"xaxis\":\"x\",\"y\":[-0.3437992373280697],\"yaxis\":\"y\",\"type\":\"scatter\"},{\"hovertemplate\":\"label=RMUGS_OVARY_TenPx31<br>PC1=%{x}<br>PC2=%{y}<extra></extra>\",\"legendgroup\":\"RMUGS_OVARY_TenPx31\",\"marker\":{\"color\":\"black\",\"symbol\":\"circle\",\"line\":{\"width\":1},\"size\":8},\"mode\":\"markers\",\"name\":\"RMUGS_OVARY_TenPx31\",\"orientation\":\"v\",\"showlegend\":true,\"x\":[-0.1690766162141614],\"xaxis\":\"x\",\"y\":[0.10972812689171364],\"yaxis\":\"y\",\"type\":\"scatter\"},{\"hovertemplate\":\"label=SNU1105_CENTRAL_NERVOUS_SYSTEM_TenPx31<br>PC1=%{x}<br>PC2=%{y}<extra></extra>\",\"legendgroup\":\"SNU1105_CENTRAL_NERVOUS_SYSTEM_TenPx31\",\"marker\":{\"color\":\"rgb(179,222,105)\",\"symbol\":\"circle\",\"line\":{\"width\":1},\"size\":8},\"mode\":\"markers\",\"name\":\"SNU1105_CENTRAL_NERVOUS_SYSTEM_TenPx31\",\"orientation\":\"v\",\"showlegend\":true,\"x\":[-0.23357675546217407],\"xaxis\":\"x\",\"y\":[0.2751701246325539],\"yaxis\":\"y\",\"type\":\"scatter\"},{\"hovertemplate\":\"label=CAL33_UPPER_AERODIGESTIVE_TRACT_TenPx31<br>PC1=%{x}<br>PC2=%{y}<extra></extra>\",\"legendgroup\":\"CAL33_UPPER_AERODIGESTIVE_TRACT_TenPx31\",\"marker\":{\"color\":\"rgb(255,255,204)\",\"symbol\":\"circle\",\"line\":{\"width\":1},\"size\":8},\"mode\":\"markers\",\"name\":\"CAL33_UPPER_AERODIGESTIVE_TRACT_TenPx31\",\"orientation\":\"v\",\"showlegend\":true,\"x\":[-0.22033253507566533],\"xaxis\":\"x\",\"y\":[0.13976658300045192],\"yaxis\":\"y\",\"type\":\"scatter\"},{\"hovertemplate\":\"label=U937_HAEMATOPOIETIC_AND_LYMPHOID_TISSUE_TenPx31<br>PC1=%{x}<br>PC2=%{y}<extra></extra>\",\"legendgroup\":\"U937_HAEMATOPOIETIC_AND_LYMPHOID_TISSUE_TenPx31\",\"marker\":{\"color\":\"rgb(253,180,98)\",\"symbol\":\"circle\",\"line\":{\"width\":1},\"size\":8},\"mode\":\"markers\",\"name\":\"U937_HAEMATOPOIETIC_AND_LYMPHOID_TISSUE_TenPx31\",\"orientation\":\"v\",\"showlegend\":true,\"x\":[0.35303342384174247],\"xaxis\":\"x\",\"y\":[0.25963987187616766],\"yaxis\":\"y\",\"type\":\"scatter\"},{\"hovertemplate\":\"label=A704_KIDNEY_TenPx32<br>PC1=%{x}<br>PC2=%{y}<extra></extra>\",\"legendgroup\":\"A704_KIDNEY_TenPx32\",\"marker\":{\"color\":\"rgb(204,235,197)\",\"symbol\":\"circle\",\"line\":{\"width\":1},\"size\":8},\"mode\":\"markers\",\"name\":\"A704_KIDNEY_TenPx32\",\"orientation\":\"v\",\"showlegend\":true,\"x\":[-0.12086422941547126],\"xaxis\":\"x\",\"y\":[0.7905451796342785],\"yaxis\":\"y\",\"type\":\"scatter\"},{\"hovertemplate\":\"label=WM88_SKIN_TenPx32<br>PC1=%{x}<br>PC2=%{y}<extra></extra>\",\"legendgroup\":\"WM88_SKIN_TenPx32\",\"marker\":{\"color\":\"rgb(179,205,227)\",\"symbol\":\"circle\",\"line\":{\"width\":1},\"size\":8},\"mode\":\"markers\",\"name\":\"WM88_SKIN_TenPx32\",\"orientation\":\"v\",\"showlegend\":true,\"x\":[-0.052328520622289945],\"xaxis\":\"x\",\"y\":[0.665601380653478],\"yaxis\":\"y\",\"type\":\"scatter\"},{\"hovertemplate\":\"label=KMS11_HAEMATOPOIETIC_AND_LYMPHOID_TISSUE_TenPx32<br>PC1=%{x}<br>PC2=%{y}<extra></extra>\",\"legendgroup\":\"KMS11_HAEMATOPOIETIC_AND_LYMPHOID_TISSUE_TenPx32\",\"marker\":{\"color\":\"rgb(253,180,98)\",\"symbol\":\"circle\",\"line\":{\"width\":1},\"size\":8},\"mode\":\"markers\",\"name\":\"KMS11_HAEMATOPOIETIC_AND_LYMPHOID_TISSUE_TenPx32\",\"orientation\":\"v\",\"showlegend\":true,\"x\":[0.3195679255602273],\"xaxis\":\"x\",\"y\":[-0.6697431447365848],\"yaxis\":\"y\",\"type\":\"scatter\"},{\"hovertemplate\":\"label=NALM6_HAEMATOPOIETIC_AND_LYMPHOID_TISSUE_TenPx32<br>PC1=%{x}<br>PC2=%{y}<extra></extra>\",\"legendgroup\":\"NALM6_HAEMATOPOIETIC_AND_LYMPHOID_TISSUE_TenPx32\",\"marker\":{\"color\":\"rgb(253,180,98)\",\"symbol\":\"circle\",\"line\":{\"width\":1},\"size\":8},\"mode\":\"markers\",\"name\":\"NALM6_HAEMATOPOIETIC_AND_LYMPHOID_TISSUE_TenPx32\",\"orientation\":\"v\",\"showlegend\":true,\"x\":[0.7682785506123736],\"xaxis\":\"x\",\"y\":[-0.7527320717105379],\"yaxis\":\"y\",\"type\":\"scatter\"},{\"hovertemplate\":\"label=NCIH2052_PLEURA_TenPx32<br>PC1=%{x}<br>PC2=%{y}<extra></extra>\",\"legendgroup\":\"NCIH2052_PLEURA_TenPx32\",\"marker\":{\"color\":\"rgb(188,128,189)\",\"symbol\":\"circle\",\"line\":{\"width\":1},\"size\":8},\"mode\":\"markers\",\"name\":\"NCIH2052_PLEURA_TenPx32\",\"orientation\":\"v\",\"showlegend\":true,\"x\":[-0.09106661323907841],\"xaxis\":\"x\",\"y\":[0.5411946902507181],\"yaxis\":\"y\",\"type\":\"scatter\"},{\"hovertemplate\":\"label=OV90_OVARY_TenPx32<br>PC1=%{x}<br>PC2=%{y}<extra></extra>\",\"legendgroup\":\"OV90_OVARY_TenPx32\",\"marker\":{\"color\":\"black\",\"symbol\":\"circle\",\"line\":{\"width\":1},\"size\":8},\"mode\":\"markers\",\"name\":\"OV90_OVARY_TenPx32\",\"orientation\":\"v\",\"showlegend\":true,\"x\":[-0.3202524684790845],\"xaxis\":\"x\",\"y\":[0.17801063483214996],\"yaxis\":\"y\",\"type\":\"scatter\"},{\"hovertemplate\":\"label=SKES1_BONE_TenPx32<br>PC1=%{x}<br>PC2=%{y}<extra></extra>\",\"legendgroup\":\"SKES1_BONE_TenPx32\",\"marker\":{\"color\":\"rgb(251,128,114)\",\"symbol\":\"circle\",\"line\":{\"width\":1},\"size\":8},\"mode\":\"markers\",\"name\":\"SKES1_BONE_TenPx32\",\"orientation\":\"v\",\"showlegend\":true,\"x\":[0.4317529251166337],\"xaxis\":\"x\",\"y\":[-0.5084722445871953],\"yaxis\":\"y\",\"type\":\"scatter\"},{\"hovertemplate\":\"label=SNB19_CENTRAL_NERVOUS_SYSTEM_TenPx32<br>PC1=%{x}<br>PC2=%{y}<extra></extra>\",\"legendgroup\":\"SNB19_CENTRAL_NERVOUS_SYSTEM_TenPx32\",\"marker\":{\"color\":\"rgb(179,222,105)\",\"symbol\":\"circle\",\"line\":{\"width\":1},\"size\":8},\"mode\":\"markers\",\"name\":\"SNB19_CENTRAL_NERVOUS_SYSTEM_TenPx32\",\"orientation\":\"v\",\"showlegend\":true,\"x\":[-0.38209349589770086],\"xaxis\":\"x\",\"y\":[0.18340951471386127],\"yaxis\":\"y\",\"type\":\"scatter\"},{\"hovertemplate\":\"label=MFE280_ENDOMETRIUM_TenPx32<br>PC1=%{x}<br>PC2=%{y}<extra></extra>\",\"legendgroup\":\"MFE280_ENDOMETRIUM_TenPx32\",\"marker\":{\"color\":\"rgb(252,205,229)\",\"symbol\":\"circle\",\"line\":{\"width\":1},\"size\":8},\"mode\":\"markers\",\"name\":\"MFE280_ENDOMETRIUM_TenPx32\",\"orientation\":\"v\",\"showlegend\":true,\"x\":[-0.3399845474847926],\"xaxis\":\"x\",\"y\":[-0.5341265705197319],\"yaxis\":\"y\",\"type\":\"scatter\"},{\"hovertemplate\":\"label=HCC1806_BREAST_TenPx14<br>PC1=%{x}<br>PC2=%{y}<extra></extra>\",\"legendgroup\":\"HCC1806_BREAST_TenPx14\",\"marker\":{\"color\":\"rgb(251,180,174)\",\"symbol\":\"circle\",\"line\":{\"width\":1},\"size\":8},\"mode\":\"markers\",\"name\":\"HCC1806_BREAST_TenPx14\",\"orientation\":\"v\",\"showlegend\":true,\"x\":[-0.7037916439881379],\"xaxis\":\"x\",\"y\":[-0.33527652339993186],\"yaxis\":\"y\",\"type\":\"scatter\"},{\"hovertemplate\":\"label=COLO320_LARGE_INTESTINE_TenPx14<br>PC1=%{x}<br>PC2=%{y}<extra></extra>\",\"legendgroup\":\"COLO320_LARGE_INTESTINE_TenPx14\",\"marker\":{\"color\":\"rgb(242,242,242)\",\"symbol\":\"circle\",\"line\":{\"width\":1},\"size\":8},\"mode\":\"markers\",\"name\":\"COLO320_LARGE_INTESTINE_TenPx14\",\"orientation\":\"v\",\"showlegend\":true,\"x\":[0.4616854744828878],\"xaxis\":\"x\",\"y\":[-0.1733577105457379],\"yaxis\":\"y\",\"type\":\"scatter\"},{\"hovertemplate\":\"label=NCIH1581_LUNG_TenPx14<br>PC1=%{x}<br>PC2=%{y}<extra></extra>\",\"legendgroup\":\"NCIH1581_LUNG_TenPx14\",\"marker\":{\"color\":\"rgb(222,203,228)\",\"symbol\":\"circle\",\"line\":{\"width\":1},\"size\":8},\"mode\":\"markers\",\"name\":\"NCIH1581_LUNG_TenPx14\",\"orientation\":\"v\",\"showlegend\":true,\"x\":[0.2563641193528382],\"xaxis\":\"x\",\"y\":[0.3436996575919219],\"yaxis\":\"y\",\"type\":\"scatter\"},{\"hovertemplate\":\"label=NCIH1792_LUNG_TenPx14<br>PC1=%{x}<br>PC2=%{y}<extra></extra>\",\"legendgroup\":\"NCIH1792_LUNG_TenPx14\",\"marker\":{\"color\":\"rgb(222,203,228)\",\"symbol\":\"circle\",\"line\":{\"width\":1},\"size\":8},\"mode\":\"markers\",\"name\":\"NCIH1792_LUNG_TenPx14\",\"orientation\":\"v\",\"showlegend\":true,\"x\":[-0.38382563814379195],\"xaxis\":\"x\",\"y\":[0.043406960597003656],\"yaxis\":\"y\",\"type\":\"scatter\"},{\"hovertemplate\":\"label=NCIH2066_LUNG_TenPx14<br>PC1=%{x}<br>PC2=%{y}<extra></extra>\",\"legendgroup\":\"NCIH2066_LUNG_TenPx14\",\"marker\":{\"color\":\"rgb(222,203,228)\",\"symbol\":\"circle\",\"line\":{\"width\":1},\"size\":8},\"mode\":\"markers\",\"name\":\"NCIH2066_LUNG_TenPx14\",\"orientation\":\"v\",\"showlegend\":true,\"x\":[0.38539191217887364],\"xaxis\":\"x\",\"y\":[-0.27877690487660384],\"yaxis\":\"y\",\"type\":\"scatter\"},{\"hovertemplate\":\"label=SQ1_LUNG_TenPx14<br>PC1=%{x}<br>PC2=%{y}<extra></extra>\",\"legendgroup\":\"SQ1_LUNG_TenPx14\",\"marker\":{\"color\":\"rgb(222,203,228)\",\"symbol\":\"circle\",\"line\":{\"width\":1},\"size\":8},\"mode\":\"markers\",\"name\":\"SQ1_LUNG_TenPx14\",\"orientation\":\"v\",\"showlegend\":true,\"x\":[-0.3295405901929022],\"xaxis\":\"x\",\"y\":[-0.0456025701930043],\"yaxis\":\"y\",\"type\":\"scatter\"},{\"hovertemplate\":\"label=A2780_OVARY_TenPx14<br>PC1=%{x}<br>PC2=%{y}<extra></extra>\",\"legendgroup\":\"A2780_OVARY_TenPx14\",\"marker\":{\"color\":\"black\",\"symbol\":\"circle\",\"line\":{\"width\":1},\"size\":8},\"mode\":\"markers\",\"name\":\"A2780_OVARY_TenPx14\",\"orientation\":\"v\",\"showlegend\":true,\"x\":[0.39346982243034967],\"xaxis\":\"x\",\"y\":[0.017661853299042626],\"yaxis\":\"y\",\"type\":\"scatter\"},{\"hovertemplate\":\"label=MKN1_STOMACH_TenPx14<br>PC1=%{x}<br>PC2=%{y}<extra></extra>\",\"legendgroup\":\"MKN1_STOMACH_TenPx14\",\"marker\":{\"color\":\"rgb(141,211,199)\",\"symbol\":\"circle\",\"line\":{\"width\":1},\"size\":8},\"mode\":\"markers\",\"name\":\"MKN1_STOMACH_TenPx14\",\"orientation\":\"v\",\"showlegend\":true,\"x\":[0.31455887256989157],\"xaxis\":\"x\",\"y\":[0.4524743915559653],\"yaxis\":\"y\",\"type\":\"scatter\"},{\"hovertemplate\":\"label=BICR22_UPPER_AERODIGESTIVE_TRACT_TenPx14<br>PC1=%{x}<br>PC2=%{y}<extra></extra>\",\"legendgroup\":\"BICR22_UPPER_AERODIGESTIVE_TRACT_TenPx14\",\"marker\":{\"color\":\"rgb(255,255,204)\",\"symbol\":\"circle\",\"line\":{\"width\":1},\"size\":8},\"mode\":\"markers\",\"name\":\"BICR22_UPPER_AERODIGESTIVE_TRACT_TenPx14\",\"orientation\":\"v\",\"showlegend\":true,\"x\":[-0.48661172293849686],\"xaxis\":\"x\",\"y\":[-0.10255876102887791],\"yaxis\":\"y\",\"type\":\"scatter\"},{\"hovertemplate\":\"label=HCC1395_BREAST_TenPx15<br>PC1=%{x}<br>PC2=%{y}<extra></extra>\",\"legendgroup\":\"HCC1395_BREAST_TenPx15\",\"marker\":{\"color\":\"rgb(251,180,174)\",\"symbol\":\"circle\",\"line\":{\"width\":1},\"size\":8},\"mode\":\"markers\",\"name\":\"HCC1395_BREAST_TenPx15\",\"orientation\":\"v\",\"showlegend\":true,\"x\":[0.38145920538928285],\"xaxis\":\"x\",\"y\":[0.13765676188682083],\"yaxis\":\"y\",\"type\":\"scatter\"},{\"hovertemplate\":\"label=SW1417_LARGE_INTESTINE_TenPx15<br>PC1=%{x}<br>PC2=%{y}<extra></extra>\",\"legendgroup\":\"SW1417_LARGE_INTESTINE_TenPx15\",\"marker\":{\"color\":\"rgb(242,242,242)\",\"symbol\":\"circle\",\"line\":{\"width\":1},\"size\":8},\"mode\":\"markers\",\"name\":\"SW1417_LARGE_INTESTINE_TenPx15\",\"orientation\":\"v\",\"showlegend\":true,\"x\":[-0.10411932445987818],\"xaxis\":\"x\",\"y\":[-0.05421336034872449],\"yaxis\":\"y\",\"type\":\"scatter\"},{\"hovertemplate\":\"label=NCIH1435_LUNG_TenPx15<br>PC1=%{x}<br>PC2=%{y}<extra></extra>\",\"legendgroup\":\"NCIH1435_LUNG_TenPx15\",\"marker\":{\"color\":\"rgb(222,203,228)\",\"symbol\":\"circle\",\"line\":{\"width\":1},\"size\":8},\"mode\":\"markers\",\"name\":\"NCIH1435_LUNG_TenPx15\",\"orientation\":\"v\",\"showlegend\":true,\"x\":[0.22675327893452293],\"xaxis\":\"x\",\"y\":[0.3516571758938317],\"yaxis\":\"y\",\"type\":\"scatter\"},{\"hovertemplate\":\"label=NCIH1568_LUNG_TenPx15<br>PC1=%{x}<br>PC2=%{y}<extra></extra>\",\"legendgroup\":\"NCIH1568_LUNG_TenPx15\",\"marker\":{\"color\":\"rgb(222,203,228)\",\"symbol\":\"circle\",\"line\":{\"width\":1},\"size\":8},\"mode\":\"markers\",\"name\":\"NCIH1568_LUNG_TenPx15\",\"orientation\":\"v\",\"showlegend\":true,\"x\":[0.02767990635404286],\"xaxis\":\"x\",\"y\":[-0.08370418205598572],\"yaxis\":\"y\",\"type\":\"scatter\"},{\"hovertemplate\":\"label=NCIH1944_LUNG_TenPx15<br>PC1=%{x}<br>PC2=%{y}<extra></extra>\",\"legendgroup\":\"NCIH1944_LUNG_TenPx15\",\"marker\":{\"color\":\"rgb(222,203,228)\",\"symbol\":\"circle\",\"line\":{\"width\":1},\"size\":8},\"mode\":\"markers\",\"name\":\"NCIH1944_LUNG_TenPx15\",\"orientation\":\"v\",\"showlegend\":true,\"x\":[-0.1068772428892085],\"xaxis\":\"x\",\"y\":[0.08455458040379467],\"yaxis\":\"y\",\"type\":\"scatter\"},{\"hovertemplate\":\"label=NCIH441_LUNG_TenPx15<br>PC1=%{x}<br>PC2=%{y}<extra></extra>\",\"legendgroup\":\"NCIH441_LUNG_TenPx15\",\"marker\":{\"color\":\"rgb(222,203,228)\",\"symbol\":\"circle\",\"line\":{\"width\":1},\"size\":8},\"mode\":\"markers\",\"name\":\"NCIH441_LUNG_TenPx15\",\"orientation\":\"v\",\"showlegend\":true,\"x\":[0.024918670153869962],\"xaxis\":\"x\",\"y\":[0.4071580036564458],\"yaxis\":\"y\",\"type\":\"scatter\"},{\"hovertemplate\":\"label=KURAMOCHI_OVARY_TenPx15<br>PC1=%{x}<br>PC2=%{y}<extra></extra>\",\"legendgroup\":\"KURAMOCHI_OVARY_TenPx15\",\"marker\":{\"color\":\"black\",\"symbol\":\"circle\",\"line\":{\"width\":1},\"size\":8},\"mode\":\"markers\",\"name\":\"KURAMOCHI_OVARY_TenPx15\",\"orientation\":\"v\",\"showlegend\":true,\"x\":[-0.6149248895807506],\"xaxis\":\"x\",\"y\":[-0.6054227017321051],\"yaxis\":\"y\",\"type\":\"scatter\"},{\"hovertemplate\":\"label=KATOIII_STOMACH_TenPx15<br>PC1=%{x}<br>PC2=%{y}<extra></extra>\",\"legendgroup\":\"KATOIII_STOMACH_TenPx15\",\"marker\":{\"color\":\"rgb(141,211,199)\",\"symbol\":\"circle\",\"line\":{\"width\":1},\"size\":8},\"mode\":\"markers\",\"name\":\"KATOIII_STOMACH_TenPx15\",\"orientation\":\"v\",\"showlegend\":true,\"x\":[0.2811069384695371],\"xaxis\":\"x\",\"y\":[0.14115170205530303],\"yaxis\":\"y\",\"type\":\"scatter\"},{\"hovertemplate\":\"label=UBLC1_URINARY_TRACT_TenPx15<br>PC1=%{x}<br>PC2=%{y}<extra></extra>\",\"legendgroup\":\"UBLC1_URINARY_TRACT_TenPx15\",\"marker\":{\"color\":\"rgb(229,216,189)\",\"symbol\":\"circle\",\"line\":{\"width\":1},\"size\":8},\"mode\":\"markers\",\"name\":\"UBLC1_URINARY_TRACT_TenPx15\",\"orientation\":\"v\",\"showlegend\":true,\"x\":[-0.35743179894024674],\"xaxis\":\"x\",\"y\":[-0.24830033964838394],\"yaxis\":\"y\",\"type\":\"scatter\"},{\"hovertemplate\":\"label=MFE319_ENDOMETRIUM_TenPx41<br>PC1=%{x}<br>PC2=%{y}<extra></extra>\",\"legendgroup\":\"MFE319_ENDOMETRIUM_TenPx41\",\"marker\":{\"color\":\"rgb(252,205,229)\",\"symbol\":\"circle\",\"line\":{\"width\":1},\"size\":8},\"mode\":\"markers\",\"name\":\"MFE319_ENDOMETRIUM_TenPx41\",\"orientation\":\"v\",\"showlegend\":true,\"x\":[-0.293700674771166],\"xaxis\":\"x\",\"y\":[-0.4214664454092614],\"yaxis\":\"y\",\"type\":\"scatter\"},{\"hovertemplate\":\"label=HDMYZ_HAEMATOPOIETIC_AND_LYMPHOID_TISSUE_TenPx41<br>PC1=%{x}<br>PC2=%{y}<extra></extra>\",\"legendgroup\":\"HDMYZ_HAEMATOPOIETIC_AND_LYMPHOID_TISSUE_TenPx41\",\"marker\":{\"color\":\"rgb(253,180,98)\",\"symbol\":\"circle\",\"line\":{\"width\":1},\"size\":8},\"mode\":\"markers\",\"name\":\"HDMYZ_HAEMATOPOIETIC_AND_LYMPHOID_TISSUE_TenPx41\",\"orientation\":\"v\",\"showlegend\":true,\"x\":[0.4116270071716947],\"xaxis\":\"x\",\"y\":[-0.1818520908998032],\"yaxis\":\"y\",\"type\":\"scatter\"},{\"hovertemplate\":\"label=HDQP1_BREAST_TenPx41<br>PC1=%{x}<br>PC2=%{y}<extra></extra>\",\"legendgroup\":\"HDQP1_BREAST_TenPx41\",\"marker\":{\"color\":\"rgb(251,180,174)\",\"symbol\":\"circle\",\"line\":{\"width\":1},\"size\":8},\"mode\":\"markers\",\"name\":\"HDQP1_BREAST_TenPx41\",\"orientation\":\"v\",\"showlegend\":true,\"x\":[-0.4111404722731942],\"xaxis\":\"x\",\"y\":[-0.12506384699891077],\"yaxis\":\"y\",\"type\":\"scatter\"},{\"hovertemplate\":\"label=JHH6_LIVER_TenPx41<br>PC1=%{x}<br>PC2=%{y}<extra></extra>\",\"legendgroup\":\"JHH6_LIVER_TenPx41\",\"marker\":{\"color\":\"rgb(254,217,166)\",\"symbol\":\"circle\",\"line\":{\"width\":1},\"size\":8},\"mode\":\"markers\",\"name\":\"JHH6_LIVER_TenPx41\",\"orientation\":\"v\",\"showlegend\":true,\"x\":[-0.21033799000902884],\"xaxis\":\"x\",\"y\":[0.1747460363270694],\"yaxis\":\"y\",\"type\":\"scatter\"},{\"hovertemplate\":\"label=L428_HAEMATOPOIETIC_AND_LYMPHOID_TISSUE_TenPx41<br>PC1=%{x}<br>PC2=%{y}<extra></extra>\",\"legendgroup\":\"L428_HAEMATOPOIETIC_AND_LYMPHOID_TISSUE_TenPx41\",\"marker\":{\"color\":\"rgb(253,180,98)\",\"symbol\":\"circle\",\"line\":{\"width\":1},\"size\":8},\"mode\":\"markers\",\"name\":\"L428_HAEMATOPOIETIC_AND_LYMPHOID_TISSUE_TenPx41\",\"orientation\":\"v\",\"showlegend\":true,\"x\":[0.6823828166151837],\"xaxis\":\"x\",\"y\":[-0.31979680379314845],\"yaxis\":\"y\",\"type\":\"scatter\"},{\"hovertemplate\":\"label=LMSU_STOMACH_TenPx41<br>PC1=%{x}<br>PC2=%{y}<extra></extra>\",\"legendgroup\":\"LMSU_STOMACH_TenPx41\",\"marker\":{\"color\":\"rgb(141,211,199)\",\"symbol\":\"circle\",\"line\":{\"width\":1},\"size\":8},\"mode\":\"markers\",\"name\":\"LMSU_STOMACH_TenPx41\",\"orientation\":\"v\",\"showlegend\":true,\"x\":[0.0022258390434579],\"xaxis\":\"x\",\"y\":[0.47302225873007403],\"yaxis\":\"y\",\"type\":\"scatter\"},{\"hovertemplate\":\"label=HUPT4_PANCREAS_TenPx41<br>PC1=%{x}<br>PC2=%{y}<extra></extra>\",\"legendgroup\":\"HUPT4_PANCREAS_TenPx41\",\"marker\":{\"color\":\"rgb(253,218,236)\",\"symbol\":\"circle\",\"line\":{\"width\":1},\"size\":8},\"mode\":\"markers\",\"name\":\"HUPT4_PANCREAS_TenPx41\",\"orientation\":\"v\",\"showlegend\":true,\"x\":[-0.22927592440395794],\"xaxis\":\"x\",\"y\":[-0.05847186352522706],\"yaxis\":\"y\",\"type\":\"scatter\"},{\"hovertemplate\":\"label=SW1783_CENTRAL_NERVOUS_SYSTEM_TenPx41<br>PC1=%{x}<br>PC2=%{y}<extra></extra>\",\"legendgroup\":\"SW1783_CENTRAL_NERVOUS_SYSTEM_TenPx41\",\"marker\":{\"color\":\"rgb(179,222,105)\",\"symbol\":\"circle\",\"line\":{\"width\":1},\"size\":8},\"mode\":\"markers\",\"name\":\"SW1783_CENTRAL_NERVOUS_SYSTEM_TenPx41\",\"orientation\":\"v\",\"showlegend\":true,\"x\":[-0.1790659936830764],\"xaxis\":\"x\",\"y\":[0.5834620412862953],\"yaxis\":\"y\",\"type\":\"scatter\"},{\"hovertemplate\":\"label=UMUC3_URINARY_TRACT_TenPx41<br>PC1=%{x}<br>PC2=%{y}<extra></extra>\",\"legendgroup\":\"UMUC3_URINARY_TRACT_TenPx41\",\"marker\":{\"color\":\"rgb(229,216,189)\",\"symbol\":\"circle\",\"line\":{\"width\":1},\"size\":8},\"mode\":\"markers\",\"name\":\"UMUC3_URINARY_TRACT_TenPx41\",\"orientation\":\"v\",\"showlegend\":true,\"x\":[0.2951960371310417],\"xaxis\":\"x\",\"y\":[-0.24352230341951406],\"yaxis\":\"y\",\"type\":\"scatter\"},{\"hovertemplate\":\"label=G402_SOFT_TISSUE_TenPx26<br>PC1=%{x}<br>PC2=%{y}<extra></extra>\",\"legendgroup\":\"G402_SOFT_TISSUE_TenPx26\",\"marker\":{\"color\":\"rgb(128,177,211)\",\"symbol\":\"circle\",\"line\":{\"width\":1},\"size\":8},\"mode\":\"markers\",\"name\":\"G402_SOFT_TISSUE_TenPx26\",\"orientation\":\"v\",\"showlegend\":true,\"x\":[-0.17841154489330657],\"xaxis\":\"x\",\"y\":[0.1796633603901589],\"yaxis\":\"y\",\"type\":\"scatter\"},{\"hovertemplate\":\"label=U118MG_CENTRAL_NERVOUS_SYSTEM_TenPx26<br>PC1=%{x}<br>PC2=%{y}<extra></extra>\",\"legendgroup\":\"U118MG_CENTRAL_NERVOUS_SYSTEM_TenPx26\",\"marker\":{\"color\":\"rgb(179,222,105)\",\"symbol\":\"circle\",\"line\":{\"width\":1},\"size\":8},\"mode\":\"markers\",\"name\":\"U118MG_CENTRAL_NERVOUS_SYSTEM_TenPx26\",\"orientation\":\"v\",\"showlegend\":true,\"x\":[-0.32933391379817983],\"xaxis\":\"x\",\"y\":[0.3754729410817927],\"yaxis\":\"y\",\"type\":\"scatter\"},{\"hovertemplate\":\"label=KYSE150_OESOPHAGUS_TenPx26<br>PC1=%{x}<br>PC2=%{y}<extra></extra>\",\"legendgroup\":\"KYSE150_OESOPHAGUS_TenPx26\",\"marker\":{\"color\":\"rgb(255,255,179)\",\"symbol\":\"circle\",\"line\":{\"width\":1},\"size\":8},\"mode\":\"markers\",\"name\":\"KYSE150_OESOPHAGUS_TenPx26\",\"orientation\":\"v\",\"showlegend\":true,\"x\":[-0.027436685040087717],\"xaxis\":\"x\",\"y\":[0.1875468447545441],\"yaxis\":\"y\",\"type\":\"scatter\"},{\"hovertemplate\":\"label=NCIH1155_LUNG_TenPx26<br>PC1=%{x}<br>PC2=%{y}<extra></extra>\",\"legendgroup\":\"NCIH1155_LUNG_TenPx26\",\"marker\":{\"color\":\"rgb(222,203,228)\",\"symbol\":\"circle\",\"line\":{\"width\":1},\"size\":8},\"mode\":\"markers\",\"name\":\"NCIH1155_LUNG_TenPx26\",\"orientation\":\"v\",\"showlegend\":true,\"x\":[0.3762167236533926],\"xaxis\":\"x\",\"y\":[0.08243614546760011],\"yaxis\":\"y\",\"type\":\"scatter\"},{\"hovertemplate\":\"label=NCIN87_STOMACH_TenPx26<br>PC1=%{x}<br>PC2=%{y}<extra></extra>\",\"legendgroup\":\"NCIN87_STOMACH_TenPx26\",\"marker\":{\"color\":\"rgb(141,211,199)\",\"symbol\":\"circle\",\"line\":{\"width\":1},\"size\":8},\"mode\":\"markers\",\"name\":\"NCIN87_STOMACH_TenPx26\",\"orientation\":\"v\",\"showlegend\":true,\"x\":[-0.3706446225467979],\"xaxis\":\"x\",\"y\":[-0.2647202179502702],\"yaxis\":\"y\",\"type\":\"scatter\"},{\"hovertemplate\":\"label=OPM2_HAEMATOPOIETIC_AND_LYMPHOID_TISSUE_TenPx26<br>PC1=%{x}<br>PC2=%{y}<extra></extra>\",\"legendgroup\":\"OPM2_HAEMATOPOIETIC_AND_LYMPHOID_TISSUE_TenPx26\",\"marker\":{\"color\":\"rgb(253,180,98)\",\"symbol\":\"circle\",\"line\":{\"width\":1},\"size\":8},\"mode\":\"markers\",\"name\":\"OPM2_HAEMATOPOIETIC_AND_LYMPHOID_TISSUE_TenPx26\",\"orientation\":\"v\",\"showlegend\":true,\"x\":[0.4257612765265827],\"xaxis\":\"x\",\"y\":[-0.28635811433981934],\"yaxis\":\"y\",\"type\":\"scatter\"},{\"hovertemplate\":\"label=PL45_PANCREAS_TenPx26<br>PC1=%{x}<br>PC2=%{y}<extra></extra>\",\"legendgroup\":\"PL45_PANCREAS_TenPx26\",\"marker\":{\"color\":\"rgb(253,218,236)\",\"symbol\":\"circle\",\"line\":{\"width\":1},\"size\":8},\"mode\":\"markers\",\"name\":\"PL45_PANCREAS_TenPx26\",\"orientation\":\"v\",\"showlegend\":true,\"x\":[-0.03535751913657495],\"xaxis\":\"x\",\"y\":[0.2575606496598019],\"yaxis\":\"y\",\"type\":\"scatter\"},{\"hovertemplate\":\"label=SKCO1_LARGE_INTESTINE_TenPx26<br>PC1=%{x}<br>PC2=%{y}<extra></extra>\",\"legendgroup\":\"SKCO1_LARGE_INTESTINE_TenPx26\",\"marker\":{\"color\":\"rgb(242,242,242)\",\"symbol\":\"circle\",\"line\":{\"width\":1},\"size\":8},\"mode\":\"markers\",\"name\":\"SKCO1_LARGE_INTESTINE_TenPx26\",\"orientation\":\"v\",\"showlegend\":true,\"x\":[-0.3594722856589908],\"xaxis\":\"x\",\"y\":[0.0928610925796823],\"yaxis\":\"y\",\"type\":\"scatter\"},{\"hovertemplate\":\"label=SUDHL4_HAEMATOPOIETIC_AND_LYMPHOID_TISSUE_TenPx26<br>PC1=%{x}<br>PC2=%{y}<extra></extra>\",\"legendgroup\":\"SUDHL4_HAEMATOPOIETIC_AND_LYMPHOID_TISSUE_TenPx26\",\"marker\":{\"color\":\"rgb(253,180,98)\",\"symbol\":\"circle\",\"line\":{\"width\":1},\"size\":8},\"mode\":\"markers\",\"name\":\"SUDHL4_HAEMATOPOIETIC_AND_LYMPHOID_TISSUE_TenPx26\",\"orientation\":\"v\",\"showlegend\":true,\"x\":[0.6598007402319457],\"xaxis\":\"x\",\"y\":[-0.48709196591533116],\"yaxis\":\"y\",\"type\":\"scatter\"},{\"hovertemplate\":\"label=769P_KIDNEY_TenPx25<br>PC1=%{x}<br>PC2=%{y}<extra></extra>\",\"legendgroup\":\"769P_KIDNEY_TenPx25\",\"marker\":{\"color\":\"rgb(204,235,197)\",\"symbol\":\"circle\",\"line\":{\"width\":1},\"size\":8},\"mode\":\"markers\",\"name\":\"769P_KIDNEY_TenPx25\",\"orientation\":\"v\",\"showlegend\":true,\"x\":[-0.09433283375969699],\"xaxis\":\"x\",\"y\":[0.3100771827250514],\"yaxis\":\"y\",\"type\":\"scatter\"},{\"hovertemplate\":\"label=C32_SKIN_TenPx25<br>PC1=%{x}<br>PC2=%{y}<extra></extra>\",\"legendgroup\":\"C32_SKIN_TenPx25\",\"marker\":{\"color\":\"rgb(179,205,227)\",\"symbol\":\"circle\",\"line\":{\"width\":1},\"size\":8},\"mode\":\"markers\",\"name\":\"C32_SKIN_TenPx25\",\"orientation\":\"v\",\"showlegend\":true,\"x\":[0.1783458819955845],\"xaxis\":\"x\",\"y\":[0.20752981276642263],\"yaxis\":\"y\",\"type\":\"scatter\"},{\"hovertemplate\":\"label=HEC59_ENDOMETRIUM_TenPx25<br>PC1=%{x}<br>PC2=%{y}<extra></extra>\",\"legendgroup\":\"HEC59_ENDOMETRIUM_TenPx25\",\"marker\":{\"color\":\"rgb(252,205,229)\",\"symbol\":\"circle\",\"line\":{\"width\":1},\"size\":8},\"mode\":\"markers\",\"name\":\"HEC59_ENDOMETRIUM_TenPx25\",\"orientation\":\"v\",\"showlegend\":true,\"x\":[0.06670546740649878],\"xaxis\":\"x\",\"y\":[-0.2561355627566809],\"yaxis\":\"y\",\"type\":\"scatter\"},{\"hovertemplate\":\"label=K562_HAEMATOPOIETIC_AND_LYMPHOID_TISSUE_TenPx25<br>PC1=%{x}<br>PC2=%{y}<extra></extra>\",\"legendgroup\":\"K562_HAEMATOPOIETIC_AND_LYMPHOID_TISSUE_TenPx25\",\"marker\":{\"color\":\"rgb(253,180,98)\",\"symbol\":\"circle\",\"line\":{\"width\":1},\"size\":8},\"mode\":\"markers\",\"name\":\"K562_HAEMATOPOIETIC_AND_LYMPHOID_TISSUE_TenPx25\",\"orientation\":\"v\",\"showlegend\":true,\"x\":[0.21293377546997197],\"xaxis\":\"x\",\"y\":[0.16494748001879098],\"yaxis\":\"y\",\"type\":\"scatter\"},{\"hovertemplate\":\"label=NUGC3_STOMACH_TenPx25<br>PC1=%{x}<br>PC2=%{y}<extra></extra>\",\"legendgroup\":\"NUGC3_STOMACH_TenPx25\",\"marker\":{\"color\":\"rgb(141,211,199)\",\"symbol\":\"circle\",\"line\":{\"width\":1},\"size\":8},\"mode\":\"markers\",\"name\":\"NUGC3_STOMACH_TenPx25\",\"orientation\":\"v\",\"showlegend\":true,\"x\":[-0.4304714262203072],\"xaxis\":\"x\",\"y\":[0.008767774595028902],\"yaxis\":\"y\",\"type\":\"scatter\"},{\"hovertemplate\":\"label=RD_SOFT_TISSUE_TenPx25<br>PC1=%{x}<br>PC2=%{y}<extra></extra>\",\"legendgroup\":\"RD_SOFT_TISSUE_TenPx25\",\"marker\":{\"color\":\"rgb(128,177,211)\",\"symbol\":\"circle\",\"line\":{\"width\":1},\"size\":8},\"mode\":\"markers\",\"name\":\"RD_SOFT_TISSUE_TenPx25\",\"orientation\":\"v\",\"showlegend\":true,\"x\":[-0.36650756080408914],\"xaxis\":\"x\",\"y\":[0.14535754659824265],\"yaxis\":\"y\",\"type\":\"scatter\"},{\"hovertemplate\":\"label=SEM_HAEMATOPOIETIC_AND_LYMPHOID_TISSUE_TenPx25<br>PC1=%{x}<br>PC2=%{y}<extra></extra>\",\"legendgroup\":\"SEM_HAEMATOPOIETIC_AND_LYMPHOID_TISSUE_TenPx25\",\"marker\":{\"color\":\"rgb(253,180,98)\",\"symbol\":\"circle\",\"line\":{\"width\":1},\"size\":8},\"mode\":\"markers\",\"name\":\"SEM_HAEMATOPOIETIC_AND_LYMPHOID_TISSUE_TenPx25\",\"orientation\":\"v\",\"showlegend\":true,\"x\":[0.4974231323468908],\"xaxis\":\"x\",\"y\":[-0.3471266251055191],\"yaxis\":\"y\",\"type\":\"scatter\"},{\"hovertemplate\":\"label=SHP77_LUNG_TenPx25<br>PC1=%{x}<br>PC2=%{y}<extra></extra>\",\"legendgroup\":\"SHP77_LUNG_TenPx25\",\"marker\":{\"color\":\"rgb(222,203,228)\",\"symbol\":\"circle\",\"line\":{\"width\":1},\"size\":8},\"mode\":\"markers\",\"name\":\"SHP77_LUNG_TenPx25\",\"orientation\":\"v\",\"showlegend\":true,\"x\":[0.02183611610515366],\"xaxis\":\"x\",\"y\":[0.25654342503616623],\"yaxis\":\"y\",\"type\":\"scatter\"},{\"hovertemplate\":\"label=TC71_BONE_TenPx25<br>PC1=%{x}<br>PC2=%{y}<extra></extra>\",\"legendgroup\":\"TC71_BONE_TenPx25\",\"marker\":{\"color\":\"rgb(251,128,114)\",\"symbol\":\"circle\",\"line\":{\"width\":1},\"size\":8},\"mode\":\"markers\",\"name\":\"TC71_BONE_TenPx25\",\"orientation\":\"v\",\"showlegend\":true,\"x\":[0.08838435836183733],\"xaxis\":\"x\",\"y\":[-0.40116421497067917],\"yaxis\":\"y\",\"type\":\"scatter\"},{\"hovertemplate\":\"label=HCC1937_BREAST_TenPx18<br>PC1=%{x}<br>PC2=%{y}<extra></extra>\",\"legendgroup\":\"HCC1937_BREAST_TenPx18\",\"marker\":{\"color\":\"rgb(251,180,174)\",\"symbol\":\"circle\",\"line\":{\"width\":1},\"size\":8},\"mode\":\"markers\",\"name\":\"HCC1937_BREAST_TenPx18\",\"orientation\":\"v\",\"showlegend\":true,\"x\":[-0.2520195238785718],\"xaxis\":\"x\",\"y\":[-0.41106259936620554],\"yaxis\":\"y\",\"type\":\"scatter\"},{\"hovertemplate\":\"label=HCT15_LARGE_INTESTINE_TenPx18<br>PC1=%{x}<br>PC2=%{y}<extra></extra>\",\"legendgroup\":\"HCT15_LARGE_INTESTINE_TenPx18\",\"marker\":{\"color\":\"rgb(242,242,242)\",\"symbol\":\"circle\",\"line\":{\"width\":1},\"size\":8},\"mode\":\"markers\",\"name\":\"HCT15_LARGE_INTESTINE_TenPx18\",\"orientation\":\"v\",\"showlegend\":true,\"x\":[0.2429585475712011],\"xaxis\":\"x\",\"y\":[0.09552150724549863],\"yaxis\":\"y\",\"type\":\"scatter\"},{\"hovertemplate\":\"label=KYSE70_OESOPHAGUS_TenPx18<br>PC1=%{x}<br>PC2=%{y}<extra></extra>\",\"legendgroup\":\"KYSE70_OESOPHAGUS_TenPx18\",\"marker\":{\"color\":\"rgb(255,255,179)\",\"symbol\":\"circle\",\"line\":{\"width\":1},\"size\":8},\"mode\":\"markers\",\"name\":\"KYSE70_OESOPHAGUS_TenPx18\",\"orientation\":\"v\",\"showlegend\":true,\"x\":[-0.14488763160076173],\"xaxis\":\"x\",\"y\":[-0.8369364512405192],\"yaxis\":\"y\",\"type\":\"scatter\"},{\"hovertemplate\":\"label=NCIH1355_LUNG_TenPx18<br>PC1=%{x}<br>PC2=%{y}<extra></extra>\",\"legendgroup\":\"NCIH1355_LUNG_TenPx18\",\"marker\":{\"color\":\"rgb(222,203,228)\",\"symbol\":\"circle\",\"line\":{\"width\":1},\"size\":8},\"mode\":\"markers\",\"name\":\"NCIH1355_LUNG_TenPx18\",\"orientation\":\"v\",\"showlegend\":true,\"x\":[-0.08107494957148899],\"xaxis\":\"x\",\"y\":[0.4125678737049702],\"yaxis\":\"y\",\"type\":\"scatter\"},{\"hovertemplate\":\"label=NCIH1437_LUNG_TenPx18<br>PC1=%{x}<br>PC2=%{y}<extra></extra>\",\"legendgroup\":\"NCIH1437_LUNG_TenPx18\",\"marker\":{\"color\":\"rgb(222,203,228)\",\"symbol\":\"circle\",\"line\":{\"width\":1},\"size\":8},\"mode\":\"markers\",\"name\":\"NCIH1437_LUNG_TenPx18\",\"orientation\":\"v\",\"showlegend\":true,\"x\":[-0.5147791303295789],\"xaxis\":\"x\",\"y\":[-0.1558520467985216],\"yaxis\":\"y\",\"type\":\"scatter\"},{\"hovertemplate\":\"label=NCIH2122_LUNG_TenPx18<br>PC1=%{x}<br>PC2=%{y}<extra></extra>\",\"legendgroup\":\"NCIH2122_LUNG_TenPx18\",\"marker\":{\"color\":\"rgb(222,203,228)\",\"symbol\":\"circle\",\"line\":{\"width\":1},\"size\":8},\"mode\":\"markers\",\"name\":\"NCIH2122_LUNG_TenPx18\",\"orientation\":\"v\",\"showlegend\":true,\"x\":[0.19943118871433882],\"xaxis\":\"x\",\"y\":[0.048426158589962576],\"yaxis\":\"y\",\"type\":\"scatter\"},{\"hovertemplate\":\"label=TUHR4TKB_KIDNEY_TenPx18<br>PC1=%{x}<br>PC2=%{y}<extra></extra>\",\"legendgroup\":\"TUHR4TKB_KIDNEY_TenPx18\",\"marker\":{\"color\":\"rgb(204,235,197)\",\"symbol\":\"circle\",\"line\":{\"width\":1},\"size\":8},\"mode\":\"markers\",\"name\":\"TUHR4TKB_KIDNEY_TenPx18\",\"orientation\":\"v\",\"showlegend\":true,\"x\":[0.2832229597099909],\"xaxis\":\"x\",\"y\":[0.4403889834960698],\"yaxis\":\"y\",\"type\":\"scatter\"},{\"hovertemplate\":\"label=WM793_SKIN_TenPx18<br>PC1=%{x}<br>PC2=%{y}<extra></extra>\",\"legendgroup\":\"WM793_SKIN_TenPx18\",\"marker\":{\"color\":\"rgb(179,205,227)\",\"symbol\":\"circle\",\"line\":{\"width\":1},\"size\":8},\"mode\":\"markers\",\"name\":\"WM793_SKIN_TenPx18\",\"orientation\":\"v\",\"showlegend\":true,\"x\":[0.007156662090189086],\"xaxis\":\"x\",\"y\":[0.44080671407685706],\"yaxis\":\"y\",\"type\":\"scatter\"},{\"hovertemplate\":\"label=NCIH2030_LUNG_TenPx18<br>PC1=%{x}<br>PC2=%{y}<extra></extra>\",\"legendgroup\":\"NCIH2030_LUNG_TenPx18\",\"marker\":{\"color\":\"rgb(222,203,228)\",\"symbol\":\"circle\",\"line\":{\"width\":1},\"size\":8},\"mode\":\"markers\",\"name\":\"NCIH2030_LUNG_TenPx18\",\"orientation\":\"v\",\"showlegend\":true,\"x\":[0.06868573871951687],\"xaxis\":\"x\",\"y\":[-0.03576581773026856],\"yaxis\":\"y\",\"type\":\"scatter\"},{\"hovertemplate\":\"label=22RV1_PROSTATE_TenPx24<br>PC1=%{x}<br>PC2=%{y}<extra></extra>\",\"legendgroup\":\"22RV1_PROSTATE_TenPx24\",\"marker\":{\"color\":\"rgb(190,186,218)\",\"symbol\":\"circle\",\"line\":{\"width\":1},\"size\":8},\"mode\":\"markers\",\"name\":\"22RV1_PROSTATE_TenPx24\",\"orientation\":\"v\",\"showlegend\":true,\"x\":[-0.26251882728194753],\"xaxis\":\"x\",\"y\":[-0.6125238008211373],\"yaxis\":\"y\",\"type\":\"scatter\"},{\"hovertemplate\":\"label=A172_CENTRAL_NERVOUS_SYSTEM_TenPx24<br>PC1=%{x}<br>PC2=%{y}<extra></extra>\",\"legendgroup\":\"A172_CENTRAL_NERVOUS_SYSTEM_TenPx24\",\"marker\":{\"color\":\"rgb(179,222,105)\",\"symbol\":\"circle\",\"line\":{\"width\":1},\"size\":8},\"mode\":\"markers\",\"name\":\"A172_CENTRAL_NERVOUS_SYSTEM_TenPx24\",\"orientation\":\"v\",\"showlegend\":true,\"x\":[-0.022304667079160977],\"xaxis\":\"x\",\"y\":[0.5643178910398382],\"yaxis\":\"y\",\"type\":\"scatter\"},{\"hovertemplate\":\"label=BT20_BREAST_TenPx24<br>PC1=%{x}<br>PC2=%{y}<extra></extra>\",\"legendgroup\":\"BT20_BREAST_TenPx24\",\"marker\":{\"color\":\"rgb(251,180,174)\",\"symbol\":\"circle\",\"line\":{\"width\":1},\"size\":8},\"mode\":\"markers\",\"name\":\"BT20_BREAST_TenPx24\",\"orientation\":\"v\",\"showlegend\":true,\"x\":[-0.12360269471469822],\"xaxis\":\"x\",\"y\":[0.3862816283219232],\"yaxis\":\"y\",\"type\":\"scatter\"},{\"hovertemplate\":\"label=CALU6_LUNG_TenPx24<br>PC1=%{x}<br>PC2=%{y}<extra></extra>\",\"legendgroup\":\"CALU6_LUNG_TenPx24\",\"marker\":{\"color\":\"rgb(222,203,228)\",\"symbol\":\"circle\",\"line\":{\"width\":1},\"size\":8},\"mode\":\"markers\",\"name\":\"CALU6_LUNG_TenPx24\",\"orientation\":\"v\",\"showlegend\":true,\"x\":[0.002847044188324629],\"xaxis\":\"x\",\"y\":[-0.24277965518482567],\"yaxis\":\"y\",\"type\":\"scatter\"},{\"hovertemplate\":\"label=FADU_UPPER_AERODIGESTIVE_TRACT_TenPx24<br>PC1=%{x}<br>PC2=%{y}<extra></extra>\",\"legendgroup\":\"FADU_UPPER_AERODIGESTIVE_TRACT_TenPx24\",\"marker\":{\"color\":\"rgb(255,255,204)\",\"symbol\":\"circle\",\"line\":{\"width\":1},\"size\":8},\"mode\":\"markers\",\"name\":\"FADU_UPPER_AERODIGESTIVE_TRACT_TenPx24\",\"orientation\":\"v\",\"showlegend\":true,\"x\":[0.12813174361281598],\"xaxis\":\"x\",\"y\":[-0.5387429280858285],\"yaxis\":\"y\",\"type\":\"scatter\"},{\"hovertemplate\":\"label=KP4_PANCREAS_TenPx24<br>PC1=%{x}<br>PC2=%{y}<extra></extra>\",\"legendgroup\":\"KP4_PANCREAS_TenPx24\",\"marker\":{\"color\":\"rgb(253,218,236)\",\"symbol\":\"circle\",\"line\":{\"width\":1},\"size\":8},\"mode\":\"markers\",\"name\":\"KP4_PANCREAS_TenPx24\",\"orientation\":\"v\",\"showlegend\":true,\"x\":[0.16905001864342087],\"xaxis\":\"x\",\"y\":[-0.50697215977765],\"yaxis\":\"y\",\"type\":\"scatter\"},{\"hovertemplate\":\"label=MONOMAC6_HAEMATOPOIETIC_AND_LYMPHOID_TISSUE_TenPx24<br>PC1=%{x}<br>PC2=%{y}<extra></extra>\",\"legendgroup\":\"MONOMAC6_HAEMATOPOIETIC_AND_LYMPHOID_TISSUE_TenPx24\",\"marker\":{\"color\":\"rgb(253,180,98)\",\"symbol\":\"circle\",\"line\":{\"width\":1},\"size\":8},\"mode\":\"markers\",\"name\":\"MONOMAC6_HAEMATOPOIETIC_AND_LYMPHOID_TISSUE_TenPx24\",\"orientation\":\"v\",\"showlegend\":true,\"x\":[0.10832702428781829],\"xaxis\":\"x\",\"y\":[0.27354398259107066],\"yaxis\":\"y\",\"type\":\"scatter\"},{\"hovertemplate\":\"label=OVCAR8_OVARY_TenPx24<br>PC1=%{x}<br>PC2=%{y}<extra></extra>\",\"legendgroup\":\"OVCAR8_OVARY_TenPx24\",\"marker\":{\"color\":\"black\",\"symbol\":\"circle\",\"line\":{\"width\":1},\"size\":8},\"mode\":\"markers\",\"name\":\"OVCAR8_OVARY_TenPx24\",\"orientation\":\"v\",\"showlegend\":true,\"x\":[0.2286581455282097],\"xaxis\":\"x\",\"y\":[0.05863780462539036],\"yaxis\":\"y\",\"type\":\"scatter\"},{\"hovertemplate\":\"label=THP1_HAEMATOPOIETIC_AND_LYMPHOID_TISSUE_TenPx24<br>PC1=%{x}<br>PC2=%{y}<extra></extra>\",\"legendgroup\":\"THP1_HAEMATOPOIETIC_AND_LYMPHOID_TISSUE_TenPx24\",\"marker\":{\"color\":\"rgb(253,180,98)\",\"symbol\":\"circle\",\"line\":{\"width\":1},\"size\":8},\"mode\":\"markers\",\"name\":\"THP1_HAEMATOPOIETIC_AND_LYMPHOID_TISSUE_TenPx24\",\"orientation\":\"v\",\"showlegend\":true,\"x\":[0.25494469571193734],\"xaxis\":\"x\",\"y\":[0.1603579535017408],\"yaxis\":\"y\",\"type\":\"scatter\"}],                        {\"template\":{\"data\":{\"histogram2dcontour\":[{\"type\":\"histogram2dcontour\",\"colorbar\":{\"outlinewidth\":0,\"ticks\":\"\"},\"colorscale\":[[0.0,\"#0d0887\"],[0.1111111111111111,\"#46039f\"],[0.2222222222222222,\"#7201a8\"],[0.3333333333333333,\"#9c179e\"],[0.4444444444444444,\"#bd3786\"],[0.5555555555555556,\"#d8576b\"],[0.6666666666666666,\"#ed7953\"],[0.7777777777777778,\"#fb9f3a\"],[0.8888888888888888,\"#fdca26\"],[1.0,\"#f0f921\"]]}],\"choropleth\":[{\"type\":\"choropleth\",\"colorbar\":{\"outlinewidth\":0,\"ticks\":\"\"}}],\"histogram2d\":[{\"type\":\"histogram2d\",\"colorbar\":{\"outlinewidth\":0,\"ticks\":\"\"},\"colorscale\":[[0.0,\"#0d0887\"],[0.1111111111111111,\"#46039f\"],[0.2222222222222222,\"#7201a8\"],[0.3333333333333333,\"#9c179e\"],[0.4444444444444444,\"#bd3786\"],[0.5555555555555556,\"#d8576b\"],[0.6666666666666666,\"#ed7953\"],[0.7777777777777778,\"#fb9f3a\"],[0.8888888888888888,\"#fdca26\"],[1.0,\"#f0f921\"]]}],\"heatmap\":[{\"type\":\"heatmap\",\"colorbar\":{\"outlinewidth\":0,\"ticks\":\"\"},\"colorscale\":[[0.0,\"#0d0887\"],[0.1111111111111111,\"#46039f\"],[0.2222222222222222,\"#7201a8\"],[0.3333333333333333,\"#9c179e\"],[0.4444444444444444,\"#bd3786\"],[0.5555555555555556,\"#d8576b\"],[0.6666666666666666,\"#ed7953\"],[0.7777777777777778,\"#fb9f3a\"],[0.8888888888888888,\"#fdca26\"],[1.0,\"#f0f921\"]]}],\"heatmapgl\":[{\"type\":\"heatmapgl\",\"colorbar\":{\"outlinewidth\":0,\"ticks\":\"\"},\"colorscale\":[[0.0,\"#0d0887\"],[0.1111111111111111,\"#46039f\"],[0.2222222222222222,\"#7201a8\"],[0.3333333333333333,\"#9c179e\"],[0.4444444444444444,\"#bd3786\"],[0.5555555555555556,\"#d8576b\"],[0.6666666666666666,\"#ed7953\"],[0.7777777777777778,\"#fb9f3a\"],[0.8888888888888888,\"#fdca26\"],[1.0,\"#f0f921\"]]}],\"contourcarpet\":[{\"type\":\"contourcarpet\",\"colorbar\":{\"outlinewidth\":0,\"ticks\":\"\"}}],\"contour\":[{\"type\":\"contour\",\"colorbar\":{\"outlinewidth\":0,\"ticks\":\"\"},\"colorscale\":[[0.0,\"#0d0887\"],[0.1111111111111111,\"#46039f\"],[0.2222222222222222,\"#7201a8\"],[0.3333333333333333,\"#9c179e\"],[0.4444444444444444,\"#bd3786\"],[0.5555555555555556,\"#d8576b\"],[0.6666666666666666,\"#ed7953\"],[0.7777777777777778,\"#fb9f3a\"],[0.8888888888888888,\"#fdca26\"],[1.0,\"#f0f921\"]]}],\"surface\":[{\"type\":\"surface\",\"colorbar\":{\"outlinewidth\":0,\"ticks\":\"\"},\"colorscale\":[[0.0,\"#0d0887\"],[0.1111111111111111,\"#46039f\"],[0.2222222222222222,\"#7201a8\"],[0.3333333333333333,\"#9c179e\"],[0.4444444444444444,\"#bd3786\"],[0.5555555555555556,\"#d8576b\"],[0.6666666666666666,\"#ed7953\"],[0.7777777777777778,\"#fb9f3a\"],[0.8888888888888888,\"#fdca26\"],[1.0,\"#f0f921\"]]}],\"mesh3d\":[{\"type\":\"mesh3d\",\"colorbar\":{\"outlinewidth\":0,\"ticks\":\"\"}}],\"scatter\":[{\"fillpattern\":{\"fillmode\":\"overlay\",\"size\":10,\"solidity\":0.2},\"type\":\"scatter\"}],\"parcoords\":[{\"type\":\"parcoords\",\"line\":{\"colorbar\":{\"outlinewidth\":0,\"ticks\":\"\"}}}],\"scatterpolargl\":[{\"type\":\"scatterpolargl\",\"marker\":{\"colorbar\":{\"outlinewidth\":0,\"ticks\":\"\"}}}],\"bar\":[{\"error_x\":{\"color\":\"#2a3f5f\"},\"error_y\":{\"color\":\"#2a3f5f\"},\"marker\":{\"line\":{\"color\":\"#E5ECF6\",\"width\":0.5},\"pattern\":{\"fillmode\":\"overlay\",\"size\":10,\"solidity\":0.2}},\"type\":\"bar\"}],\"scattergeo\":[{\"type\":\"scattergeo\",\"marker\":{\"colorbar\":{\"outlinewidth\":0,\"ticks\":\"\"}}}],\"scatterpolar\":[{\"type\":\"scatterpolar\",\"marker\":{\"colorbar\":{\"outlinewidth\":0,\"ticks\":\"\"}}}],\"histogram\":[{\"marker\":{\"pattern\":{\"fillmode\":\"overlay\",\"size\":10,\"solidity\":0.2}},\"type\":\"histogram\"}],\"scattergl\":[{\"type\":\"scattergl\",\"marker\":{\"colorbar\":{\"outlinewidth\":0,\"ticks\":\"\"}}}],\"scatter3d\":[{\"type\":\"scatter3d\",\"line\":{\"colorbar\":{\"outlinewidth\":0,\"ticks\":\"\"}},\"marker\":{\"colorbar\":{\"outlinewidth\":0,\"ticks\":\"\"}}}],\"scattermapbox\":[{\"type\":\"scattermapbox\",\"marker\":{\"colorbar\":{\"outlinewidth\":0,\"ticks\":\"\"}}}],\"scatterternary\":[{\"type\":\"scatterternary\",\"marker\":{\"colorbar\":{\"outlinewidth\":0,\"ticks\":\"\"}}}],\"scattercarpet\":[{\"type\":\"scattercarpet\",\"marker\":{\"colorbar\":{\"outlinewidth\":0,\"ticks\":\"\"}}}],\"carpet\":[{\"aaxis\":{\"endlinecolor\":\"#2a3f5f\",\"gridcolor\":\"white\",\"linecolor\":\"white\",\"minorgridcolor\":\"white\",\"startlinecolor\":\"#2a3f5f\"},\"baxis\":{\"endlinecolor\":\"#2a3f5f\",\"gridcolor\":\"white\",\"linecolor\":\"white\",\"minorgridcolor\":\"white\",\"startlinecolor\":\"#2a3f5f\"},\"type\":\"carpet\"}],\"table\":[{\"cells\":{\"fill\":{\"color\":\"#EBF0F8\"},\"line\":{\"color\":\"white\"}},\"header\":{\"fill\":{\"color\":\"#C8D4E3\"},\"line\":{\"color\":\"white\"}},\"type\":\"table\"}],\"barpolar\":[{\"marker\":{\"line\":{\"color\":\"#E5ECF6\",\"width\":0.5},\"pattern\":{\"fillmode\":\"overlay\",\"size\":10,\"solidity\":0.2}},\"type\":\"barpolar\"}],\"pie\":[{\"automargin\":true,\"type\":\"pie\"}]},\"layout\":{\"autotypenumbers\":\"strict\",\"colorway\":[\"#636efa\",\"#EF553B\",\"#00cc96\",\"#ab63fa\",\"#FFA15A\",\"#19d3f3\",\"#FF6692\",\"#B6E880\",\"#FF97FF\",\"#FECB52\"],\"font\":{\"color\":\"#2a3f5f\"},\"hovermode\":\"closest\",\"hoverlabel\":{\"align\":\"left\"},\"paper_bgcolor\":\"white\",\"plot_bgcolor\":\"#E5ECF6\",\"polar\":{\"bgcolor\":\"#E5ECF6\",\"angularaxis\":{\"gridcolor\":\"white\",\"linecolor\":\"white\",\"ticks\":\"\"},\"radialaxis\":{\"gridcolor\":\"white\",\"linecolor\":\"white\",\"ticks\":\"\"}},\"ternary\":{\"bgcolor\":\"#E5ECF6\",\"aaxis\":{\"gridcolor\":\"white\",\"linecolor\":\"white\",\"ticks\":\"\"},\"baxis\":{\"gridcolor\":\"white\",\"linecolor\":\"white\",\"ticks\":\"\"},\"caxis\":{\"gridcolor\":\"white\",\"linecolor\":\"white\",\"ticks\":\"\"}},\"coloraxis\":{\"colorbar\":{\"outlinewidth\":0,\"ticks\":\"\"}},\"colorscale\":{\"sequential\":[[0.0,\"#0d0887\"],[0.1111111111111111,\"#46039f\"],[0.2222222222222222,\"#7201a8\"],[0.3333333333333333,\"#9c179e\"],[0.4444444444444444,\"#bd3786\"],[0.5555555555555556,\"#d8576b\"],[0.6666666666666666,\"#ed7953\"],[0.7777777777777778,\"#fb9f3a\"],[0.8888888888888888,\"#fdca26\"],[1.0,\"#f0f921\"]],\"sequentialminus\":[[0.0,\"#0d0887\"],[0.1111111111111111,\"#46039f\"],[0.2222222222222222,\"#7201a8\"],[0.3333333333333333,\"#9c179e\"],[0.4444444444444444,\"#bd3786\"],[0.5555555555555556,\"#d8576b\"],[0.6666666666666666,\"#ed7953\"],[0.7777777777777778,\"#fb9f3a\"],[0.8888888888888888,\"#fdca26\"],[1.0,\"#f0f921\"]],\"diverging\":[[0,\"#8e0152\"],[0.1,\"#c51b7d\"],[0.2,\"#de77ae\"],[0.3,\"#f1b6da\"],[0.4,\"#fde0ef\"],[0.5,\"#f7f7f7\"],[0.6,\"#e6f5d0\"],[0.7,\"#b8e186\"],[0.8,\"#7fbc41\"],[0.9,\"#4d9221\"],[1,\"#276419\"]]},\"xaxis\":{\"gridcolor\":\"white\",\"linecolor\":\"white\",\"ticks\":\"\",\"title\":{\"standoff\":15},\"zerolinecolor\":\"white\",\"automargin\":true,\"zerolinewidth\":2},\"yaxis\":{\"gridcolor\":\"white\",\"linecolor\":\"white\",\"ticks\":\"\",\"title\":{\"standoff\":15},\"zerolinecolor\":\"white\",\"automargin\":true,\"zerolinewidth\":2},\"scene\":{\"xaxis\":{\"backgroundcolor\":\"#E5ECF6\",\"gridcolor\":\"white\",\"linecolor\":\"white\",\"showbackground\":true,\"ticks\":\"\",\"zerolinecolor\":\"white\",\"gridwidth\":2},\"yaxis\":{\"backgroundcolor\":\"#E5ECF6\",\"gridcolor\":\"white\",\"linecolor\":\"white\",\"showbackground\":true,\"ticks\":\"\",\"zerolinecolor\":\"white\",\"gridwidth\":2},\"zaxis\":{\"backgroundcolor\":\"#E5ECF6\",\"gridcolor\":\"white\",\"linecolor\":\"white\",\"showbackground\":true,\"ticks\":\"\",\"zerolinecolor\":\"white\",\"gridwidth\":2}},\"shapedefaults\":{\"line\":{\"color\":\"#2a3f5f\"}},\"annotationdefaults\":{\"arrowcolor\":\"#2a3f5f\",\"arrowhead\":0,\"arrowwidth\":1},\"geo\":{\"bgcolor\":\"white\",\"landcolor\":\"#E5ECF6\",\"subunitcolor\":\"white\",\"showland\":true,\"showlakes\":true,\"lakecolor\":\"white\"},\"title\":{\"x\":0.05},\"mapbox\":{\"style\":\"light\"}}},\"xaxis\":{\"anchor\":\"y\",\"domain\":[0.0,1.0],\"title\":{\"text\":\"PC1\"}},\"yaxis\":{\"anchor\":\"x\",\"domain\":[0.0,1.0],\"title\":{\"text\":\"PC2\"}},\"legend\":{\"title\":{\"text\":\"label\"},\"tracegroupgap\":0},\"title\":{\"text\":\"CCLE all cell lines, normalised, peptide samples removed\"}},                        {\"responsive\": true}                    ).then(function(){\n",
       "                            \n",
       "var gd = document.getElementById('1c9d3d9b-22fb-4816-bcd0-91b543ab35dd');\n",
       "var x = new MutationObserver(function (mutations, observer) {{\n",
       "        var display = window.getComputedStyle(gd).display;\n",
       "        if (!display || display === 'none') {{\n",
       "            console.log([gd, 'removed!']);\n",
       "            Plotly.purge(gd);\n",
       "            observer.disconnect();\n",
       "        }}\n",
       "}});\n",
       "\n",
       "// Listen for the removal of the full notebook cells\n",
       "var notebookContainer = gd.closest('#notebook-container');\n",
       "if (notebookContainer) {{\n",
       "    x.observe(notebookContainer, {childList: true});\n",
       "}}\n",
       "\n",
       "// Listen for the clearing of the current output cell\n",
       "var outputEl = gd.closest('.output');\n",
       "if (outputEl) {{\n",
       "    x.observe(outputEl, {childList: true});\n",
       "}}\n",
       "\n",
       "                        })                };                });            </script>        </div>"
      ]
     },
     "metadata": {},
     "output_type": "display_data"
    }
   ],
   "source": [
    "labels = data_2.index # The labels give the sample-type for each cell \n",
    "N, D = data_2.shape\n",
    "data_unlabelled = data_2.copy() # this dataframe doesn't have labels in an extra column and is used in the PCA function\n",
    "data_2['label'] = labels \n",
    "\n",
    "W, scores, fracs = visualisation.do_pca(data_unlabelled, n_components=10)\n",
    "scores = scores/abs(scores).max().max()\n",
    "scores['label'] = labels\n",
    "\n",
    "XPC = 'PC1' # Principal component shown on x-axis\n",
    "YPC = 'PC2' # Principal component shown on y-axis\n",
    "fig = px.scatter(scores, x=XPC, y=YPC, color='label', hover_data=[XPC,YPC], title='CCLE all cell lines, normalised, peptide samples removed', color_discrete_map=colour_map)\n",
    "fig.update_traces(mode='markers', marker_line_width=1, marker_size=8)\n",
    "fig.show()"
   ]
  },
  {
   "cell_type": "code",
   "execution_count": null,
   "id": "0ed5f115",
   "metadata": {},
   "outputs": [],
   "source": [
    "fig."
   ]
  },
  {
   "cell_type": "code",
   "execution_count": 109,
   "id": "1de400fc",
   "metadata": {},
   "outputs": [
    {
     "data": {
      "text/plain": [
       "<Figure size 432x288 with 0 Axes>"
      ]
     },
     "metadata": {},
     "output_type": "display_data"
    }
   ],
   "source": [
    "plt.savefig('pomics_all_cell_lines.png', dpi=1000)"
   ]
  },
  {
   "cell_type": "code",
   "execution_count": 110,
   "id": "9ae2eb1f",
   "metadata": {},
   "outputs": [
    {
     "name": "stdout",
     "output_type": "stream",
     "text": [
      "17\n",
      "['CAOV3_OVARY_TenPx02', 'COV362_OVARY_TenPx03', 'TYKNU_OVARY_TenPx08', 'OVCAR4_OVARY_TenPx11', 'SNU119_OVARY_TenPx13', 'FUOV1_OVARY_TenPx16', 'IGROV1_OVARY_TenPx19', 'HEYA8_OVARY_TenPx27', 'JHOS2_OVARY_TenPx33', 'NIHOVCAR3_OVARY_TenPx33', 'OV56_OVARY_TenPx35', 'OVSAHO_OVARY_TenPx40', 'RMUGS_OVARY_TenPx31', 'OV90_OVARY_TenPx32', 'A2780_OVARY_TenPx14', 'KURAMOCHI_OVARY_TenPx15', 'OVCAR8_OVARY_TenPx24']\n"
     ]
    }
   ],
   "source": [
    "ovary_lines = []\n",
    "for n in names:\n",
    "    if 'OVARY' in n:\n",
    "        ovary_lines.append(n)\n",
    "print(len(ovary_lines))\n",
    "print(ovary_lines)"
   ]
  },
  {
   "cell_type": "code",
   "execution_count": 45,
   "id": "9717b24e",
   "metadata": {
    "scrolled": true
   },
   "outputs": [
    {
     "name": "stdout",
     "output_type": "stream",
     "text": [
      "{'MDAMB468_BREAST_TenPx01': 'rgb(251,180,174)', 'SH4_SKIN_TenPx01': 'rgb(179,205,227)', 'AU565_BREAST_TenPx01': 'rgb(251,180,174)', 'KMRC1_KIDNEY_TenPx01': 'rgb(204,235,197)', 'CAL51_BREAST_TenPx01': 'rgb(251,180,174)', 'RPMI7951_SKIN_TenPx01': 'rgb(179,205,227)', 'RERFLCMS_LUNG_TenPx01': 'rgb(222,203,228)', 'IGR37_SKIN_TenPx01': 'rgb(179,205,227)', 'VMRCRCW_KIDNEY_TenPx01': 'rgb(204,235,197)', 'HEP3B217_LIVER_TenPx02': 'rgb(254,217,166)', 'HEPG2_LIVER_TenPx02': 'rgb(254,217,166)', 'SKHEP1_LIVER_TenPx02': 'rgb(254,217,166)', 'WM2664_SKIN_TenPx02': 'rgb(179,205,227)', 'KMRC20_KIDNEY_TenPx02': 'rgb(204,235,197)', 'HS294T_SKIN_TenPx02': 'rgb(179,205,227)', 'CAOV3_OVARY_TenPx02': 'black', 'CAL120_BREAST_TenPx02': 'rgb(251,180,174)', 'JMSU1_URINARY_TRACT_TenPx02': 'rgb(229,216,189)', 'PATU8988T_PANCREAS_TenPx03': 'rgb(253,218,236)', 'JIMT1_BREAST_TenPx03': 'rgb(251,180,174)', 'COV362_OVARY_TenPx03': 'black', 'KPL1_BREAST_TenPx03': 'rgb(251,180,174)', 'A375_SKIN_TenPx03': 'rgb(179,205,227)', 'A2058_SKIN_TenPx03': 'rgb(179,205,227)', 'SW620_LARGE_INTESTINE_TenPx03': 'rgb(242,242,242)', 'MDST8_LARGE_INTESTINE_TenPx03': 'rgb(242,242,242)', 'HUH1_LIVER_TenPx03': 'rgb(254,217,166)', 'HCT116_LARGE_INTESTINE_TenPx04': 'rgb(242,242,242)', 'HLF_LIVER_TenPx04': 'rgb(254,217,166)', 'HT29_LARGE_INTESTINE_TenPx04': 'rgb(242,242,242)', 'ABC1_LUNG_TenPx04': 'rgb(222,203,228)', 'CAMA1_BREAST_TenPx04': 'rgb(251,180,174)', 'RKO_LARGE_INTESTINE_TenPx04': 'rgb(242,242,242)', 'HT115_LARGE_INTESTINE_TenPx04': 'rgb(242,242,242)', 'JHH5_LIVER_TenPx04': 'rgb(254,217,166)', 'SKMEL3_SKIN_TenPx04': 'rgb(179,205,227)', 'NCIH358_LUNG_TenPx06': 'rgb(222,203,228)', 'HT1197_URINARY_TRACT_TenPx06': 'rgb(229,216,189)', 'HUH7_LIVER_TenPx06': 'rgb(254,217,166)', 'HGC27_STOMACH_TenPx06': 'rgb(141,211,199)', 'DMS273_LUNG_TenPx06': 'rgb(222,203,228)', 'NCIH1299_LUNG_TenPx06': 'rgb(222,203,228)', 'SKMEL28_SKIN_TenPx06': 'rgb(179,205,227)', 'CAKI2_KIDNEY_TenPx06': 'rgb(204,235,197)', 'HT55_LARGE_INTESTINE_TenPx06': 'rgb(242,242,242)', 'NCIH1048_LUNG_TenPx07': 'rgb(222,203,228)', 'HSC3_UPPER_AERODIGESTIVE_TRACT_TenPx07': 'rgb(255,255,204)', 'SW403_LARGE_INTESTINE_TenPx07': 'rgb(242,242,242)', 'BT549_BREAST_TenPx07': 'rgb(251,180,174)', 'HCC56_LARGE_INTESTINE_TenPx07': 'rgb(242,242,242)', 'CAL851_BREAST_TenPx07': 'rgb(251,180,174)', 'MDAMB157_BREAST_TenPx07': 'rgb(251,180,174)', 'SW48_LARGE_INTESTINE_TenPx07': 'rgb(242,242,242)', 'IGR39_SKIN_TenPx07': 'rgb(179,205,227)', 'MCF7_BREAST_TenPx08': 'rgb(251,180,174)', 'BICR6_UPPER_AERODIGESTIVE_TRACT_TenPx08': 'rgb(255,255,204)', 'WM1799_SKIN_TenPx08': 'rgb(179,205,227)', 'IPC298_SKIN_TenPx08': 'rgb(179,205,227)', 'NCIH1693_LUNG_TenPx08': 'rgb(222,203,228)', 'HCC1954_BREAST_TenPx08': 'rgb(251,180,174)', 'TYKNU_OVARY_TenPx08': 'black', 'DMS114_LUNG_TenPx08': 'rgb(222,203,228)', 'TE1_OESOPHAGUS_TenPx08': 'rgb(255,255,179)', 'TCCPAN2_PANCREAS_TenPx09': 'rgb(253,218,236)', 'LUDLU1_LUNG_TenPx09': 'rgb(222,203,228)', 'MELJUSO_SKIN_TenPx09': 'rgb(179,205,227)', 'T47D_BREAST_TenPx09': 'rgb(251,180,174)', 'LS411N_LARGE_INTESTINE_TenPx09': 'rgb(242,242,242)', 'PC3_PROSTATE_TenPx09': 'rgb(190,186,218)', 'KYSE450_OESOPHAGUS_TenPx09': 'rgb(255,255,179)', 'RT112_URINARY_TRACT_TenPx09': 'rgb(229,216,189)', 'LS513_LARGE_INTESTINE_TenPx09': 'rgb(242,242,242)', 'HCC827_LUNG_TenPx10': 'rgb(222,203,228)', 'NCIH2110_LUNG_TenPx10': 'rgb(222,203,228)', 'MIAPACA2_PANCREAS_TenPx10': 'rgb(253,218,236)', 'NCIH520_LUNG_TenPx10': 'rgb(222,203,228)', 'SW480_LARGE_INTESTINE_TenPx10': 'rgb(242,242,242)', 'OE33_OESOPHAGUS_TenPx10': 'rgb(255,255,179)', 'ZR751_BREAST_TenPx10': 'rgb(251,180,174)', 'COLO679_SKIN_TenPx10': 'rgb(179,205,227)', '786O_KIDNEY_TenPx10': 'rgb(204,235,197)', 'HCC38_BREAST_TenPx11': 'rgb(251,180,174)', 'QGP1_PANCREAS_TenPx11': 'rgb(253,218,236)', 'HCC95_LUNG_TenPx11': 'rgb(222,203,228)', 'SW948_LARGE_INTESTINE_TenPx11': 'rgb(242,242,242)', 'LK2_LUNG_TenPx11': 'rgb(222,203,228)', 'OVCAR4_OVARY_TenPx11': 'black', 'COLO741_SKIN_TenPx11': 'rgb(179,205,227)', 'NCIH1650_LUNG_TenPx11': 'rgb(222,203,228)', 'UACC257_SKIN_TenPx11': 'rgb(179,205,227)', 'NCIH1573_LUNG_TenPx12': 'rgb(222,203,228)', 'A549_LUNG_TenPx12': 'rgb(222,203,228)', 'SU8686_PANCREAS_TenPx12': 'rgb(253,218,236)', 'TE14_OESOPHAGUS_TenPx12': 'rgb(255,255,179)', 'NCIH2170_LUNG_TenPx12': 'rgb(222,203,228)', 'HCC1500_BREAST_TenPx12': 'rgb(251,180,174)', 'MDAMB436_BREAST_TenPx12': 'rgb(251,180,174)', 'DV90_LUNG_TenPx12': 'rgb(222,203,228)', 'SNU61_LARGE_INTESTINE_TenPx12': 'rgb(242,242,242)', 'SBC5_LUNG_TenPx13': 'rgb(222,203,228)', 'HT1376_URINARY_TRACT_TenPx13': 'rgb(229,216,189)', 'CFPAC1_PANCREAS_TenPx13': 'rgb(253,218,236)', 'NCIH3255_LUNG_TenPx13': 'rgb(222,203,228)', 'NCIH1975_LUNG_TenPx13': 'rgb(222,203,228)', 'COLO678_LARGE_INTESTINE_TenPx13': 'rgb(242,242,242)', 'SNU119_OVARY_TenPx13': 'black', 'CORL105_LUNG_TenPx13': 'rgb(222,203,228)', 'HCC70_BREAST_TenPx13': 'rgb(251,180,174)', 'AGS_STOMACH_TenPx16': 'rgb(141,211,199)', 'HCC1143_BREAST_TenPx16': 'rgb(251,180,174)', 'NCIH1666_LUNG_TenPx16': 'rgb(222,203,228)', 'NCIH2291_LUNG_TenPx16': 'rgb(222,203,228)', 'NCIH747_LARGE_INTESTINE_TenPx16': 'rgb(242,242,242)', 'NCIH838_LUNG_TenPx16': 'rgb(222,203,228)', 'FUOV1_OVARY_TenPx16': 'black', 'RERFLCSQ1_LUNG_TenPx16': 'rgb(222,203,228)', 'DETROIT562_UPPER_AERODIGESTIVE_TRACT_TenPx16': 'rgb(255,255,204)', 'L33_PANCREAS_TenPx17': 'rgb(253,218,236)', 'MKN45_STOMACH_TenPx17': 'rgb(141,211,199)', 'MKN7_STOMACH_TenPx17': 'rgb(141,211,199)', 'NCIH1793_LUNG_TenPx17': 'rgb(222,203,228)', 'NCIH2126_LUNG_TenPx17': 'rgb(222,203,228)', 'NCIH2228_LUNG_TenPx17': 'rgb(222,203,228)', 'NCIH661_LUNG_TenPx17': 'rgb(222,203,228)', 'SNUC2A_LARGE_INTESTINE_TenPx17': 'rgb(242,242,242)', 'TE6_OESOPHAGUS_TenPx17': 'rgb(255,255,179)', 'IGROV1_OVARY_TenPx19': 'black', 'LCLC103H_LUNG_TenPx19': 'rgb(222,203,228)', 'LOXIMVI_SKIN_TenPx19': 'rgb(179,205,227)', 'MDAMB453_BREAST_TenPx19': 'rgb(251,180,174)', 'NCIH1703_LUNG_TenPx19': 'rgb(222,203,228)', 'NCIH196_LUNG_TenPx19': 'rgb(222,203,228)', 'NCIH2009_LUNG_TenPx19': 'rgb(222,203,228)', 'NCIH2286_LUNG_TenPx19': 'rgb(222,203,228)', 'SNUC1_LARGE_INTESTINE_TenPx19': 'rgb(242,242,242)', 'COLO205_LARGE_INTESTINE_TenPx20': 'rgb(242,242,242)', 'CORL47_LUNG_TenPx20': 'rgb(222,203,228)', 'HCC1187_BREAST_TenPx20': 'rgb(251,180,174)', 'HUH6_LIVER_TenPx20': 'rgb(254,217,166)', 'NCIH146_LUNG_TenPx20': 'rgb(222,203,228)', 'SNU1_STOMACH_TenPx20': 'rgb(141,211,199)', 'NCIH23_LUNG_TenPx20': 'rgb(222,203,228)', 'OSRC2_KIDNEY_TenPx20': 'rgb(204,235,197)', 'SW948_LARGE_INTESTINE_TenPx20': 'rgb(242,242,242)', 'CORL88_LUNG_TenPx21': 'rgb(222,203,228)', 'HCC2218_BREAST_TenPx21': 'rgb(251,180,174)', 'HCC44_LUNG_TenPx21': 'rgb(222,203,228)', 'HSC4_UPPER_AERODIGESTIVE_TRACT_TenPx21': 'rgb(255,255,204)', 'NCIH2172_LUNG_TenPx21': 'rgb(222,203,228)', 'TCCSUP_URINARY_TRACT_TenPx21': 'rgb(229,216,189)', 'TE11_OESOPHAGUS_TenPx21': 'rgb(255,255,179)', 'UACC62_SKIN_TenPx21': 'rgb(179,205,227)', 'VCAP_PROSTATE_TenPx21': 'rgb(190,186,218)', 'EFM19_BREAST_TenPx22': 'rgb(251,180,174)', 'HUG1N_STOMACH_TenPx22': 'rgb(141,211,199)', 'KYSE510_OESOPHAGUS_TenPx22': 'rgb(255,255,179)', 'LU65_LUNG_TenPx22': 'rgb(222,203,228)', 'NCIH460_LUNG_TenPx22': 'rgb(222,203,228)', 'NCIH522_LUNG_TenPx22': 'rgb(222,203,228)', 'PECAPJ34CLONEC12_UPPER_AERODIGESTIVE_TRACT_TenPx22': 'rgb(255,255,204)', 'SKMEL30_SKIN_TenPx22': 'rgb(179,205,227)', 'SW1990_PANCREAS_TenPx22': 'rgb(253,218,236)', 'A673_BONE_TenPx27': 'rgb(251,128,114)', 'MDAMB231_BREAST_TenPx27': 'rgb(251,180,174)', 'HEYA8_OVARY_TenPx27': 'black', 'RH41_SOFT_TISSUE_TenPx27': 'rgb(128,177,211)', 'KMS12BM_HAEMATOPOIETIC_AND_LYMPHOID_TISSUE_TenPx27': 'rgb(253,180,98)', 'LN229_CENTRAL_NERVOUS_SYSTEM_TenPx27': 'rgb(179,222,105)', 'LS180_LARGE_INTESTINE_TenPx27': 'rgb(242,242,242)', 'MOLM13_HAEMATOPOIETIC_AND_LYMPHOID_TISSUE_TenPx27': 'rgb(253,180,98)', 'KARPAS299_HAEMATOPOIETIC_AND_LYMPHOID_TISSUE_TenPx27': 'rgb(253,180,98)', 'CAL120_BREAST_TenPx28': 'rgb(251,180,174)', 'DU145_PROSTATE_TenPx28': 'rgb(190,186,218)', 'G401_SOFT_TISSUE_TenPx28': 'rgb(128,177,211)', 'IM95_STOMACH_TenPx28': 'rgb(141,211,199)', 'JHUEM2_ENDOMETRIUM_TenPx28': 'rgb(252,205,229)', 'KARPAS422_HAEMATOPOIETIC_AND_LYMPHOID_TISSUE_TenPx28': 'rgb(253,180,98)', 'KASUMI1_HAEMATOPOIETIC_AND_LYMPHOID_TISSUE_TenPx28': 'rgb(253,180,98)', 'HCC15_LUNG_TenPx28': 'rgb(222,203,228)', 'U87MG_CENTRAL_NERVOUS_SYSTEM_TenPx28': 'rgb(179,222,105)', 'ASPC1_PANCREAS_TenPx29': 'rgb(253,218,236)', 'SNU719_STOMACH_TenPx29': 'rgb(141,211,199)', 'CORL23_LUNG_TenPx29': 'rgb(222,203,228)', 'F36P_HAEMATOPOIETIC_AND_LYMPHOID_TISSUE_TenPx29': 'rgb(253,180,98)', 'HEC50B_ENDOMETRIUM_TenPx29': 'rgb(252,205,229)', 'KNS81_CENTRAL_NERVOUS_SYSTEM_TenPx29': 'rgb(179,222,105)', 'OCIAML5_HAEMATOPOIETIC_AND_LYMPHOID_TISSUE_TenPx29': 'rgb(253,180,98)', 'TE10_OESOPHAGUS_TenPx29': 'rgb(255,255,179)', 'WM115_SKIN_TenPx29': 'rgb(179,205,227)', 'EOL1_HAEMATOPOIETIC_AND_LYMPHOID_TISSUE_TenPx33': 'rgb(253,180,98)', 'SW1573_LUNG_TenPx33': 'rgb(222,203,228)', 'HEL9217_HAEMATOPOIETIC_AND_LYMPHOID_TISSUE_TenPx33': 'rgb(253,180,98)', 'K029AX_SKIN_TenPx33': 'rgb(179,205,227)', 'JHOS2_OVARY_TenPx33': 'black', 'SNU685_ENDOMETRIUM_TenPx33': 'rgb(252,205,229)', 'NIHOVCAR3_OVARY_TenPx33': 'black', 'SAOS2_BONE_TenPx33': 'rgb(251,128,114)', 'TE4_OESOPHAGUS_TenPx33': 'rgb(255,255,179)', 'JHH1_LIVER_TenPx34': 'rgb(254,217,166)', 'SW1271_LUNG_TenPx34': 'rgb(222,203,228)', 'NCIH226_LUNG_TenPx34': 'rgb(222,203,228)', 'REC1_HAEMATOPOIETIC_AND_LYMPHOID_TISSUE_TenPx34': 'rgb(253,180,98)', 'HT1080_SOFT_TISSUE_TenPx34': 'rgb(128,177,211)', 'KYSE30_OESOPHAGUS_TenPx34': 'rgb(255,255,179)', 'U2OS_BONE_TenPx34': 'rgb(251,128,114)', 'GB1_CENTRAL_NERVOUS_SYSTEM_TenPx34': 'rgb(179,222,105)', 'IALM_LUNG_TenPx34': 'rgb(222,203,228)', 'CMK_HAEMATOPOIETIC_AND_LYMPHOID_TISSUE_TenPx35': 'rgb(253,180,98)', 'COLO829_SKIN_TenPx35': 'rgb(179,205,227)', 'NCIH647_LUNG_TenPx35': 'rgb(222,203,228)', 'OV56_OVARY_TenPx35': 'black', 'RH30_SOFT_TISSUE_TenPx35': 'rgb(128,177,211)', 'RPMI8226_HAEMATOPOIETIC_AND_LYMPHOID_TISSUE_TenPx35': 'rgb(253,180,98)', 'SJSA1_BONE_TenPx35': 'rgb(251,128,114)', 'HEC6_ENDOMETRIUM_TenPx35': 'rgb(252,205,229)', 'SW837_LARGE_INTESTINE_TenPx35': 'rgb(242,242,242)', 'CAKI1_KIDNEY_TenPx36': 'rgb(204,235,197)', 'KP2_PANCREAS_TenPx36': 'rgb(253,218,236)', 'KU1919_URINARY_TRACT_TenPx36': 'rgb(229,216,189)', 'MFE296_ENDOMETRIUM_TenPx36': 'rgb(252,205,229)', 'NCIH292_LUNG_TenPx36': 'rgb(222,203,228)', 'NCIH716_LARGE_INTESTINE_TenPx36': 'rgb(242,242,242)', 'NUDHL1_HAEMATOPOIETIC_AND_LYMPHOID_TISSUE_TenPx36': 'rgb(253,180,98)', 'OCILY3_HAEMATOPOIETIC_AND_LYMPHOID_TISSUE_TenPx36': 'rgb(253,180,98)', 'SKNMC_BONE_TenPx36': 'rgb(251,128,114)', 'CHAGOK1_LUNG_TenPx37': 'rgb(222,203,228)', 'EFM192A_BREAST_TenPx37': 'rgb(251,180,174)', 'HEC265_ENDOMETRIUM_TenPx37': 'rgb(252,205,229)', 'MOLM16_HAEMATOPOIETIC_AND_LYMPHOID_TISSUE_TenPx37': 'rgb(253,180,98)', 'PANC1_PANCREAS_TenPx37': 'rgb(253,218,236)', 'SCC25_UPPER_AERODIGESTIVE_TRACT_TenPx37': 'rgb(255,255,204)', 'RT4_URINARY_TRACT_TenPx37': 'rgb(229,216,189)', 'T24_URINARY_TRACT_TenPx37': 'rgb(229,216,189)', 'TF1_HAEMATOPOIETIC_AND_LYMPHOID_TISSUE_TenPx37': 'rgb(253,180,98)', 'A101D_SKIN_TenPx38': 'rgb(179,205,227)', 'DAOY_CENTRAL_NERVOUS_SYSTEM_TenPx38': 'rgb(179,222,105)', 'JM1_HAEMATOPOIETIC_AND_LYMPHOID_TISSUE_TenPx38': 'rgb(253,180,98)', 'KASUMI2_HAEMATOPOIETIC_AND_LYMPHOID_TISSUE_TenPx38': 'rgb(253,180,98)', 'KYM1_SOFT_TISSUE_TenPx38': 'rgb(128,177,211)', 'KYSE410_OESOPHAGUS_TenPx38': 'rgb(255,255,179)', 'CL34_LARGE_INTESTINE_TenPx38': 'rgb(242,242,242)', 'NCIH446_LUNG_TenPx38': 'rgb(222,203,228)', 'SKNAS_AUTONOMIC_GANGLIA_TenPx38': 'rgb(217,217,217)', 'DANG_PANCREAS_TenPx39': 'rgb(253,218,236)', 'KNS42_CENTRAL_NERVOUS_SYSTEM_TenPx39': 'rgb(179,222,105)', 'HEC108_ENDOMETRIUM_TenPx39': 'rgb(252,205,229)', 'JEKO1_HAEMATOPOIETIC_AND_LYMPHOID_TISSUE_TenPx39': 'rgb(253,180,98)', 'JURKAT_HAEMATOPOIETIC_AND_LYMPHOID_TISSUE_TenPx39': 'rgb(253,180,98)', 'MSTO211H_PLEURA_TenPx39': 'rgb(188,128,189)', 'OCUM1_STOMACH_TenPx39': 'rgb(141,211,199)', 'CCK81_LARGE_INTESTINE_TenPx39': 'rgb(242,242,242)', 'SNU449_LIVER_TenPx39': 'rgb(254,217,166)', '8505C_THYROID_TenPx40': 'rgb(204,235,197)', 'HCC1833_LUNG_TenPx40': 'rgb(222,203,228)', 'PANC0403_PANCREAS_TenPx40': 'rgb(253,218,236)', 'J82_URINARY_TRACT_TenPx40': 'rgb(229,216,189)', 'JHH4_LIVER_TenPx40': 'rgb(254,217,166)', 'OVSAHO_OVARY_TenPx40': 'black', 'RL_HAEMATOPOIETIC_AND_LYMPHOID_TISSUE_TenPx40': 'rgb(253,180,98)', 'SNUC5_LARGE_INTESTINE_TenPx40': 'rgb(242,242,242)', 'SUDHL6_HAEMATOPOIETIC_AND_LYMPHOID_TISSUE_TenPx40': 'rgb(253,180,98)', 'SKLU1_LUNG_TenPx42': 'rgb(222,203,228)', 'ISHIKAWAHERAKLIO02ER_ENDOMETRIUM_TenPx42': 'rgb(252,205,229)', 'SNGM_ENDOMETRIUM_TenPx42': 'rgb(252,205,229)', 'GAMG_CENTRAL_NERVOUS_SYSTEM_TenPx42': 'rgb(179,222,105)', 'NCIH929_HAEMATOPOIETIC_AND_LYMPHOID_TISSUE_TenPx42': 'rgb(253,180,98)', 'PANC0203_PANCREAS_TenPx42': 'rgb(253,218,236)', 'RCHACV_HAEMATOPOIETIC_AND_LYMPHOID_TISSUE_TenPx42': 'rgb(253,180,98)', 'SNU423_LIVER_TenPx42': 'rgb(254,217,166)', 'SNU1079_BILIARY_TRACT_TenPx42': 'rgb(255,237,111)', 'A204_SOFT_TISSUE_TenPx23': 'rgb(128,177,211)', 'BXPC3_PANCREAS_TenPx23': 'rgb(253,218,236)', 'CALU1_LUNG_TenPx23': 'rgb(222,203,228)', 'HEC251_ENDOMETRIUM_TenPx23': 'rgb(252,205,229)', 'HEL_HAEMATOPOIETIC_AND_LYMPHOID_TISSUE_TenPx23': 'rgb(253,180,98)', 'KYSE180_OESOPHAGUS_TenPx23': 'rgb(255,255,179)', 'MONOMAC1_HAEMATOPOIETIC_AND_LYMPHOID_TISSUE_TenPx23': 'rgb(253,180,98)', 'SF295_CENTRAL_NERVOUS_SYSTEM_TenPx23': 'rgb(179,222,105)', 'SKMEL5_SKIN_TenPx23': 'rgb(179,205,227)', 'PC14_LUNG_TenPx05': 'rgb(222,203,228)', 'EBC1_LUNG_TenPx05': 'rgb(222,203,228)', 'SKMEL2_SKIN_TenPx05': 'rgb(179,205,227)', 'MEWO_SKIN_TenPx05': 'rgb(179,205,227)', 'HS944T_SKIN_TenPx05': 'rgb(179,205,227)', 'JHH7_LIVER_TenPx05': 'rgb(254,217,166)', 'RVH421_SKIN_TenPx05': 'rgb(179,205,227)', 'A498_KIDNEY_TenPx05': 'rgb(204,235,197)', 'HS695T_SKIN_TenPx05': 'rgb(179,205,227)', '697_HAEMATOPOIETIC_AND_LYMPHOID_TISSUE_TenPx30': 'rgb(253,180,98)', '8305C_THYROID_TenPx30': 'rgb(204,235,197)', 'HCT15_LARGE_INTESTINE_TenPx30': 'rgb(242,242,242)', 'IGR1_SKIN_TenPx30': 'rgb(179,205,227)', 'SUIT2_PANCREAS_TenPx30': 'rgb(253,218,236)', 'LN18_CENTRAL_NERVOUS_SYSTEM_TenPx30': 'rgb(179,222,105)', 'LNCAPCLONEFGC_PROSTATE_TenPx30': 'rgb(190,186,218)', 'NCIH650_LUNG_TenPx30': 'rgb(222,203,228)', 'REH_HAEMATOPOIETIC_AND_LYMPHOID_TISSUE_TenPx30': 'rgb(253,180,98)', 'HEC1A_ENDOMETRIUM_TenPx31': 'rgb(252,205,229)', 'HUPT3_PANCREAS_TenPx31': 'rgb(253,218,236)', 'KMS27_HAEMATOPOIETIC_AND_LYMPHOID_TISSUE_TenPx31': 'rgb(253,180,98)', 'LXF289_LUNG_TenPx31': 'rgb(222,203,228)', 'CAL27_UPPER_AERODIGESTIVE_TRACT_TenPx31': 'rgb(255,255,204)', 'RMUGS_OVARY_TenPx31': 'black', 'SNU1105_CENTRAL_NERVOUS_SYSTEM_TenPx31': 'rgb(179,222,105)', 'CAL33_UPPER_AERODIGESTIVE_TRACT_TenPx31': 'rgb(255,255,204)', 'U937_HAEMATOPOIETIC_AND_LYMPHOID_TISSUE_TenPx31': 'rgb(253,180,98)', 'A704_KIDNEY_TenPx32': 'rgb(204,235,197)', 'WM88_SKIN_TenPx32': 'rgb(179,205,227)', 'KMS11_HAEMATOPOIETIC_AND_LYMPHOID_TISSUE_TenPx32': 'rgb(253,180,98)', 'NALM6_HAEMATOPOIETIC_AND_LYMPHOID_TISSUE_TenPx32': 'rgb(253,180,98)', 'NCIH2052_PLEURA_TenPx32': 'rgb(188,128,189)', 'OV90_OVARY_TenPx32': 'black', 'SKES1_BONE_TenPx32': 'rgb(251,128,114)', 'SNB19_CENTRAL_NERVOUS_SYSTEM_TenPx32': 'rgb(179,222,105)', 'MFE280_ENDOMETRIUM_TenPx32': 'rgb(252,205,229)', 'HCC1806_BREAST_TenPx14': 'rgb(251,180,174)', 'COLO320_LARGE_INTESTINE_TenPx14': 'rgb(242,242,242)', 'NCIH1581_LUNG_TenPx14': 'rgb(222,203,228)', 'NCIH1792_LUNG_TenPx14': 'rgb(222,203,228)', 'NCIH2066_LUNG_TenPx14': 'rgb(222,203,228)', 'SQ1_LUNG_TenPx14': 'rgb(222,203,228)', 'A2780_OVARY_TenPx14': 'black', 'MKN1_STOMACH_TenPx14': 'rgb(141,211,199)', 'BICR22_UPPER_AERODIGESTIVE_TRACT_TenPx14': 'rgb(255,255,204)', 'HCC1395_BREAST_TenPx15': 'rgb(251,180,174)', 'SW1417_LARGE_INTESTINE_TenPx15': 'rgb(242,242,242)', 'NCIH1435_LUNG_TenPx15': 'rgb(222,203,228)', 'NCIH1568_LUNG_TenPx15': 'rgb(222,203,228)', 'NCIH1944_LUNG_TenPx15': 'rgb(222,203,228)', 'NCIH441_LUNG_TenPx15': 'rgb(222,203,228)', 'KURAMOCHI_OVARY_TenPx15': 'black', 'KATOIII_STOMACH_TenPx15': 'rgb(141,211,199)', 'UBLC1_URINARY_TRACT_TenPx15': 'rgb(229,216,189)', 'MFE319_ENDOMETRIUM_TenPx41': 'rgb(252,205,229)', 'HDMYZ_HAEMATOPOIETIC_AND_LYMPHOID_TISSUE_TenPx41': 'rgb(253,180,98)', 'HDQP1_BREAST_TenPx41': 'rgb(251,180,174)', 'JHH6_LIVER_TenPx41': 'rgb(254,217,166)', 'L428_HAEMATOPOIETIC_AND_LYMPHOID_TISSUE_TenPx41': 'rgb(253,180,98)', 'LMSU_STOMACH_TenPx41': 'rgb(141,211,199)', 'HUPT4_PANCREAS_TenPx41': 'rgb(253,218,236)', 'SW1783_CENTRAL_NERVOUS_SYSTEM_TenPx41': 'rgb(179,222,105)', 'UMUC3_URINARY_TRACT_TenPx41': 'rgb(229,216,189)', 'G402_SOFT_TISSUE_TenPx26': 'rgb(128,177,211)', 'U118MG_CENTRAL_NERVOUS_SYSTEM_TenPx26': 'rgb(179,222,105)', 'KYSE150_OESOPHAGUS_TenPx26': 'rgb(255,255,179)', 'NCIH1155_LUNG_TenPx26': 'rgb(222,203,228)', 'NCIN87_STOMACH_TenPx26': 'rgb(141,211,199)', 'OPM2_HAEMATOPOIETIC_AND_LYMPHOID_TISSUE_TenPx26': 'rgb(253,180,98)', 'PL45_PANCREAS_TenPx26': 'rgb(253,218,236)', 'SKCO1_LARGE_INTESTINE_TenPx26': 'rgb(242,242,242)', 'SUDHL4_HAEMATOPOIETIC_AND_LYMPHOID_TISSUE_TenPx26': 'rgb(253,180,98)', '769P_KIDNEY_TenPx25': 'rgb(204,235,197)', 'C32_SKIN_TenPx25': 'rgb(179,205,227)', 'HEC59_ENDOMETRIUM_TenPx25': 'rgb(252,205,229)', 'K562_HAEMATOPOIETIC_AND_LYMPHOID_TISSUE_TenPx25': 'rgb(253,180,98)', 'NUGC3_STOMACH_TenPx25': 'rgb(141,211,199)', 'RD_SOFT_TISSUE_TenPx25': 'rgb(128,177,211)', 'SEM_HAEMATOPOIETIC_AND_LYMPHOID_TISSUE_TenPx25': 'rgb(253,180,98)', 'SHP77_LUNG_TenPx25': 'rgb(222,203,228)', 'TC71_BONE_TenPx25': 'rgb(251,128,114)', 'HCC1937_BREAST_TenPx18': 'rgb(251,180,174)', 'HCT15_LARGE_INTESTINE_TenPx18': 'rgb(242,242,242)', 'KYSE70_OESOPHAGUS_TenPx18': 'rgb(255,255,179)', 'NCIH1355_LUNG_TenPx18': 'rgb(222,203,228)', 'NCIH1437_LUNG_TenPx18': 'rgb(222,203,228)', 'NCIH2122_LUNG_TenPx18': 'rgb(222,203,228)', 'TUHR4TKB_KIDNEY_TenPx18': 'rgb(204,235,197)', 'WM793_SKIN_TenPx18': 'rgb(179,205,227)', 'NCIH2030_LUNG_TenPx18': 'rgb(222,203,228)', '22RV1_PROSTATE_TenPx24': 'rgb(190,186,218)', 'A172_CENTRAL_NERVOUS_SYSTEM_TenPx24': 'rgb(179,222,105)', 'BT20_BREAST_TenPx24': 'rgb(251,180,174)', 'CALU6_LUNG_TenPx24': 'rgb(222,203,228)', 'FADU_UPPER_AERODIGESTIVE_TRACT_TenPx24': 'rgb(255,255,204)', 'KP4_PANCREAS_TenPx24': 'rgb(253,218,236)', 'MONOMAC6_HAEMATOPOIETIC_AND_LYMPHOID_TISSUE_TenPx24': 'rgb(253,180,98)', 'OVCAR8_OVARY_TenPx24': 'black', 'THP1_HAEMATOPOIETIC_AND_LYMPHOID_TISSUE_TenPx24': 'rgb(253,180,98)'}\n"
     ]
    }
   ],
   "source": [
    "colour_map = {}\n",
    "for n in names:\n",
    "    if 'BREAST' in n:\n",
    "        colour_map[n] = plotly.colors.qualitative.Pastel1[0]\n",
    "    elif 'SKIN' in n:\n",
    "        colour_map[n] = plotly.colors.qualitative.Pastel1[1]\n",
    "    elif 'KIDNEY' in n:\n",
    "        colour_map[n] = plotly.colors.qualitative.Pastel1[2]\n",
    "    elif 'LUNG' in n:\n",
    "        colour_map[n] = plotly.colors.qualitative.Pastel1[3]\n",
    "    elif 'LIVER' in n:\n",
    "        colour_map[n] = plotly.colors.qualitative.Pastel1[4]\n",
    "    elif 'OVARY' in n:\n",
    "        colour_map[n] = 'black'\n",
    "    elif 'URINARY_TRACT' in n:\n",
    "        colour_map[n] = plotly.colors.qualitative.Pastel1[6]\n",
    "    elif 'PANCREAS' in n:\n",
    "        colour_map[n] = plotly.colors.qualitative.Pastel1[7]\n",
    "    elif 'LARGE_INTESTINE' in n:\n",
    "        colour_map[n] = plotly.colors.qualitative.Pastel1[8]\n",
    "    elif 'STOMACH' in n:\n",
    "        colour_map[n] = plotly.colors.qualitative.Set3[0]\n",
    "    elif 'UPPER_AERODIGESTIVE' in n:\n",
    "        colour_map[n] = plotly.colors.qualitative.Pastel1[5]\n",
    "    elif 'OESOPHAGUS' in n:\n",
    "        colour_map[n] = plotly.colors.qualitative.Set3[1]\n",
    "    elif 'PROSTATE' in n:\n",
    "        colour_map[n] = plotly.colors.qualitative.Set3[2]\n",
    "    elif 'BONE' in n:\n",
    "        colour_map[n] = plotly.colors.qualitative.Set3[3]\n",
    "    elif 'SOFT_TISSUE' in n:\n",
    "        colour_map[n] = plotly.colors.qualitative.Set3[4]\n",
    "    elif 'HAEMATOPOIETIC_AND' in n:\n",
    "        colour_map[n] = plotly.colors.qualitative.Set3[5]\n",
    "    elif 'CENTRAL_NERVOUS' in n:\n",
    "        colour_map[n] = plotly.colors.qualitative.Set3[6] \n",
    "    elif 'ENDOMETRIUM' in n:\n",
    "        colour_map[n] = plotly.colors.qualitative.Set3[7] \n",
    "    elif 'AUTONOMIC_GANGLIA' in n:\n",
    "        colour_map[n] = plotly.colors.qualitative.Set3[8]\n",
    "    elif 'PLEURA' in n:\n",
    "        colour_map[n] = plotly.colors.qualitative.Set3[9]\n",
    "    elif 'THYROID' in n:\n",
    "        colour_map[n] = plotly.colors.qualitative.Set3[10] \n",
    "    elif 'BILIARY_TRACT' in n:\n",
    "        colour_map[n] = plotly.colors.qualitative.Set3[11]\n",
    "    else:\n",
    "        print(n)\n",
    "print(colour_map)"
   ]
  },
  {
   "cell_type": "code",
   "execution_count": 13,
   "id": "6b4ef0a3",
   "metadata": {},
   "outputs": [
    {
     "data": {
      "text/plain": [
       "['MDAMB468_BREAST_TenPx01',\n",
       " 'SH4_SKIN_TenPx01',\n",
       " 'AU565_BREAST_TenPx01',\n",
       " 'KMRC1_KIDNEY_TenPx01',\n",
       " 'CAL51_BREAST_TenPx01',\n",
       " 'RPMI7951_SKIN_TenPx01',\n",
       " 'RERFLCMS_LUNG_TenPx01',\n",
       " 'IGR37_SKIN_TenPx01',\n",
       " 'VMRCRCW_KIDNEY_TenPx01',\n",
       " 'HEP3B217_LIVER_TenPx02',\n",
       " 'HEPG2_LIVER_TenPx02',\n",
       " 'SKHEP1_LIVER_TenPx02',\n",
       " 'WM2664_SKIN_TenPx02',\n",
       " 'KMRC20_KIDNEY_TenPx02',\n",
       " 'HS294T_SKIN_TenPx02',\n",
       " 'CAOV3_OVARY_TenPx02',\n",
       " 'CAL120_BREAST_TenPx02',\n",
       " 'JMSU1_URINARY_TRACT_TenPx02',\n",
       " 'PATU8988T_PANCREAS_TenPx03',\n",
       " 'JIMT1_BREAST_TenPx03',\n",
       " 'COV362_OVARY_TenPx03',\n",
       " 'KPL1_BREAST_TenPx03',\n",
       " 'A375_SKIN_TenPx03',\n",
       " 'A2058_SKIN_TenPx03',\n",
       " 'SW620_LARGE_INTESTINE_TenPx03',\n",
       " 'MDST8_LARGE_INTESTINE_TenPx03',\n",
       " 'HUH1_LIVER_TenPx03',\n",
       " 'HCT116_LARGE_INTESTINE_TenPx04',\n",
       " 'HLF_LIVER_TenPx04',\n",
       " 'HT29_LARGE_INTESTINE_TenPx04',\n",
       " 'ABC1_LUNG_TenPx04',\n",
       " 'CAMA1_BREAST_TenPx04',\n",
       " 'RKO_LARGE_INTESTINE_TenPx04',\n",
       " 'HT115_LARGE_INTESTINE_TenPx04',\n",
       " 'JHH5_LIVER_TenPx04',\n",
       " 'SKMEL3_SKIN_TenPx04',\n",
       " 'NCIH358_LUNG_TenPx06',\n",
       " 'HT1197_URINARY_TRACT_TenPx06',\n",
       " 'HUH7_LIVER_TenPx06',\n",
       " 'HGC27_STOMACH_TenPx06',\n",
       " 'DMS273_LUNG_TenPx06',\n",
       " 'NCIH1299_LUNG_TenPx06',\n",
       " 'SKMEL28_SKIN_TenPx06',\n",
       " 'CAKI2_KIDNEY_TenPx06',\n",
       " 'HT55_LARGE_INTESTINE_TenPx06',\n",
       " 'NCIH1048_LUNG_TenPx07',\n",
       " 'HSC3_UPPER_AERODIGESTIVE_TRACT_TenPx07',\n",
       " 'SW403_LARGE_INTESTINE_TenPx07',\n",
       " 'BT549_BREAST_TenPx07',\n",
       " 'HCC56_LARGE_INTESTINE_TenPx07',\n",
       " 'CAL851_BREAST_TenPx07',\n",
       " 'MDAMB157_BREAST_TenPx07',\n",
       " 'SW48_LARGE_INTESTINE_TenPx07',\n",
       " 'IGR39_SKIN_TenPx07',\n",
       " 'MCF7_BREAST_TenPx08',\n",
       " 'BICR6_UPPER_AERODIGESTIVE_TRACT_TenPx08',\n",
       " 'WM1799_SKIN_TenPx08',\n",
       " 'IPC298_SKIN_TenPx08',\n",
       " 'NCIH1693_LUNG_TenPx08',\n",
       " 'HCC1954_BREAST_TenPx08',\n",
       " 'TYKNU_OVARY_TenPx08',\n",
       " 'DMS114_LUNG_TenPx08',\n",
       " 'TE1_OESOPHAGUS_TenPx08',\n",
       " 'TCCPAN2_PANCREAS_TenPx09',\n",
       " 'LUDLU1_LUNG_TenPx09',\n",
       " 'MELJUSO_SKIN_TenPx09',\n",
       " 'T47D_BREAST_TenPx09',\n",
       " 'LS411N_LARGE_INTESTINE_TenPx09',\n",
       " 'PC3_PROSTATE_TenPx09',\n",
       " 'KYSE450_OESOPHAGUS_TenPx09',\n",
       " 'RT112_URINARY_TRACT_TenPx09',\n",
       " 'LS513_LARGE_INTESTINE_TenPx09',\n",
       " 'HCC827_LUNG_TenPx10',\n",
       " 'NCIH2110_LUNG_TenPx10',\n",
       " 'MIAPACA2_PANCREAS_TenPx10',\n",
       " 'NCIH520_LUNG_TenPx10',\n",
       " 'SW480_LARGE_INTESTINE_TenPx10',\n",
       " 'OE33_OESOPHAGUS_TenPx10',\n",
       " 'ZR751_BREAST_TenPx10',\n",
       " 'COLO679_SKIN_TenPx10',\n",
       " '786O_KIDNEY_TenPx10',\n",
       " 'HCC38_BREAST_TenPx11',\n",
       " 'QGP1_PANCREAS_TenPx11',\n",
       " 'HCC95_LUNG_TenPx11',\n",
       " 'SW948_LARGE_INTESTINE_TenPx11',\n",
       " 'LK2_LUNG_TenPx11',\n",
       " 'OVCAR4_OVARY_TenPx11',\n",
       " 'COLO741_SKIN_TenPx11',\n",
       " 'NCIH1650_LUNG_TenPx11',\n",
       " 'UACC257_SKIN_TenPx11',\n",
       " 'NCIH1573_LUNG_TenPx12',\n",
       " 'A549_LUNG_TenPx12',\n",
       " 'SU8686_PANCREAS_TenPx12',\n",
       " 'TE14_OESOPHAGUS_TenPx12',\n",
       " 'NCIH2170_LUNG_TenPx12',\n",
       " 'HCC1500_BREAST_TenPx12',\n",
       " 'MDAMB436_BREAST_TenPx12',\n",
       " 'DV90_LUNG_TenPx12',\n",
       " 'SNU61_LARGE_INTESTINE_TenPx12',\n",
       " 'SBC5_LUNG_TenPx13',\n",
       " 'HT1376_URINARY_TRACT_TenPx13',\n",
       " 'CFPAC1_PANCREAS_TenPx13',\n",
       " 'NCIH3255_LUNG_TenPx13',\n",
       " 'NCIH1975_LUNG_TenPx13',\n",
       " 'COLO678_LARGE_INTESTINE_TenPx13',\n",
       " 'SNU119_OVARY_TenPx13',\n",
       " 'CORL105_LUNG_TenPx13',\n",
       " 'HCC70_BREAST_TenPx13',\n",
       " 'AGS_STOMACH_TenPx16',\n",
       " 'HCC1143_BREAST_TenPx16',\n",
       " 'NCIH1666_LUNG_TenPx16',\n",
       " 'NCIH2291_LUNG_TenPx16',\n",
       " 'NCIH747_LARGE_INTESTINE_TenPx16',\n",
       " 'NCIH838_LUNG_TenPx16',\n",
       " 'FUOV1_OVARY_TenPx16',\n",
       " 'RERFLCSQ1_LUNG_TenPx16',\n",
       " 'DETROIT562_UPPER_AERODIGESTIVE_TRACT_TenPx16',\n",
       " 'L33_PANCREAS_TenPx17',\n",
       " 'MKN45_STOMACH_TenPx17',\n",
       " 'MKN7_STOMACH_TenPx17',\n",
       " 'NCIH1793_LUNG_TenPx17',\n",
       " 'NCIH2126_LUNG_TenPx17',\n",
       " 'NCIH2228_LUNG_TenPx17',\n",
       " 'NCIH661_LUNG_TenPx17',\n",
       " 'SNUC2A_LARGE_INTESTINE_TenPx17',\n",
       " 'TE6_OESOPHAGUS_TenPx17',\n",
       " 'IGROV1_OVARY_TenPx19',\n",
       " 'LCLC103H_LUNG_TenPx19',\n",
       " 'LOXIMVI_SKIN_TenPx19',\n",
       " 'MDAMB453_BREAST_TenPx19',\n",
       " 'NCIH1703_LUNG_TenPx19',\n",
       " 'NCIH196_LUNG_TenPx19',\n",
       " 'NCIH2009_LUNG_TenPx19',\n",
       " 'NCIH2286_LUNG_TenPx19',\n",
       " 'SNUC1_LARGE_INTESTINE_TenPx19',\n",
       " 'COLO205_LARGE_INTESTINE_TenPx20',\n",
       " 'CORL47_LUNG_TenPx20',\n",
       " 'HCC1187_BREAST_TenPx20',\n",
       " 'HUH6_LIVER_TenPx20',\n",
       " 'NCIH146_LUNG_TenPx20',\n",
       " 'SNU1_STOMACH_TenPx20',\n",
       " 'NCIH23_LUNG_TenPx20',\n",
       " 'OSRC2_KIDNEY_TenPx20',\n",
       " 'SW948_LARGE_INTESTINE_TenPx20',\n",
       " 'CORL88_LUNG_TenPx21',\n",
       " 'HCC2218_BREAST_TenPx21',\n",
       " 'HCC44_LUNG_TenPx21',\n",
       " 'HSC4_UPPER_AERODIGESTIVE_TRACT_TenPx21',\n",
       " 'NCIH2172_LUNG_TenPx21',\n",
       " 'TCCSUP_URINARY_TRACT_TenPx21',\n",
       " 'TE11_OESOPHAGUS_TenPx21',\n",
       " 'UACC62_SKIN_TenPx21',\n",
       " 'VCAP_PROSTATE_TenPx21',\n",
       " 'EFM19_BREAST_TenPx22',\n",
       " 'HUG1N_STOMACH_TenPx22',\n",
       " 'KYSE510_OESOPHAGUS_TenPx22',\n",
       " 'LU65_LUNG_TenPx22',\n",
       " 'NCIH460_LUNG_TenPx22',\n",
       " 'NCIH522_LUNG_TenPx22',\n",
       " 'PECAPJ34CLONEC12_UPPER_AERODIGESTIVE_TRACT_TenPx22',\n",
       " 'SKMEL30_SKIN_TenPx22',\n",
       " 'SW1990_PANCREAS_TenPx22',\n",
       " 'A673_BONE_TenPx27',\n",
       " 'MDAMB231_BREAST_TenPx27',\n",
       " 'HEYA8_OVARY_TenPx27',\n",
       " 'RH41_SOFT_TISSUE_TenPx27',\n",
       " 'KMS12BM_HAEMATOPOIETIC_AND_LYMPHOID_TISSUE_TenPx27',\n",
       " 'LN229_CENTRAL_NERVOUS_SYSTEM_TenPx27',\n",
       " 'LS180_LARGE_INTESTINE_TenPx27',\n",
       " 'MOLM13_HAEMATOPOIETIC_AND_LYMPHOID_TISSUE_TenPx27',\n",
       " 'KARPAS299_HAEMATOPOIETIC_AND_LYMPHOID_TISSUE_TenPx27',\n",
       " 'CAL120_BREAST_TenPx28',\n",
       " 'DU145_PROSTATE_TenPx28',\n",
       " 'G401_SOFT_TISSUE_TenPx28',\n",
       " 'IM95_STOMACH_TenPx28',\n",
       " 'JHUEM2_ENDOMETRIUM_TenPx28',\n",
       " 'KARPAS422_HAEMATOPOIETIC_AND_LYMPHOID_TISSUE_TenPx28',\n",
       " 'KASUMI1_HAEMATOPOIETIC_AND_LYMPHOID_TISSUE_TenPx28',\n",
       " 'HCC15_LUNG_TenPx28',\n",
       " 'U87MG_CENTRAL_NERVOUS_SYSTEM_TenPx28',\n",
       " 'ASPC1_PANCREAS_TenPx29',\n",
       " 'SNU719_STOMACH_TenPx29',\n",
       " 'CORL23_LUNG_TenPx29',\n",
       " 'F36P_HAEMATOPOIETIC_AND_LYMPHOID_TISSUE_TenPx29',\n",
       " 'HEC50B_ENDOMETRIUM_TenPx29',\n",
       " 'KNS81_CENTRAL_NERVOUS_SYSTEM_TenPx29',\n",
       " 'OCIAML5_HAEMATOPOIETIC_AND_LYMPHOID_TISSUE_TenPx29',\n",
       " 'TE10_OESOPHAGUS_TenPx29',\n",
       " 'WM115_SKIN_TenPx29',\n",
       " 'EOL1_HAEMATOPOIETIC_AND_LYMPHOID_TISSUE_TenPx33',\n",
       " 'SW1573_LUNG_TenPx33',\n",
       " 'HEL9217_HAEMATOPOIETIC_AND_LYMPHOID_TISSUE_TenPx33',\n",
       " 'K029AX_SKIN_TenPx33',\n",
       " 'JHOS2_OVARY_TenPx33',\n",
       " 'SNU685_ENDOMETRIUM_TenPx33',\n",
       " 'NIHOVCAR3_OVARY_TenPx33',\n",
       " 'SAOS2_BONE_TenPx33',\n",
       " 'TE4_OESOPHAGUS_TenPx33',\n",
       " 'JHH1_LIVER_TenPx34',\n",
       " 'SW1271_LUNG_TenPx34',\n",
       " 'NCIH226_LUNG_TenPx34',\n",
       " 'REC1_HAEMATOPOIETIC_AND_LYMPHOID_TISSUE_TenPx34',\n",
       " 'HT1080_SOFT_TISSUE_TenPx34',\n",
       " 'KYSE30_OESOPHAGUS_TenPx34',\n",
       " 'U2OS_BONE_TenPx34',\n",
       " 'GB1_CENTRAL_NERVOUS_SYSTEM_TenPx34',\n",
       " 'IALM_LUNG_TenPx34',\n",
       " 'CMK_HAEMATOPOIETIC_AND_LYMPHOID_TISSUE_TenPx35',\n",
       " 'COLO829_SKIN_TenPx35',\n",
       " 'NCIH647_LUNG_TenPx35',\n",
       " 'OV56_OVARY_TenPx35',\n",
       " 'RH30_SOFT_TISSUE_TenPx35',\n",
       " 'RPMI8226_HAEMATOPOIETIC_AND_LYMPHOID_TISSUE_TenPx35',\n",
       " 'SJSA1_BONE_TenPx35',\n",
       " 'HEC6_ENDOMETRIUM_TenPx35',\n",
       " 'SW837_LARGE_INTESTINE_TenPx35',\n",
       " 'CAKI1_KIDNEY_TenPx36',\n",
       " 'KP2_PANCREAS_TenPx36',\n",
       " 'KU1919_URINARY_TRACT_TenPx36',\n",
       " 'MFE296_ENDOMETRIUM_TenPx36',\n",
       " 'NCIH292_LUNG_TenPx36',\n",
       " 'NCIH716_LARGE_INTESTINE_TenPx36',\n",
       " 'NUDHL1_HAEMATOPOIETIC_AND_LYMPHOID_TISSUE_TenPx36',\n",
       " 'OCILY3_HAEMATOPOIETIC_AND_LYMPHOID_TISSUE_TenPx36',\n",
       " 'SKNMC_BONE_TenPx36',\n",
       " 'CHAGOK1_LUNG_TenPx37',\n",
       " 'EFM192A_BREAST_TenPx37',\n",
       " 'HEC265_ENDOMETRIUM_TenPx37',\n",
       " 'MOLM16_HAEMATOPOIETIC_AND_LYMPHOID_TISSUE_TenPx37',\n",
       " 'PANC1_PANCREAS_TenPx37',\n",
       " 'SCC25_UPPER_AERODIGESTIVE_TRACT_TenPx37',\n",
       " 'RT4_URINARY_TRACT_TenPx37',\n",
       " 'T24_URINARY_TRACT_TenPx37',\n",
       " 'TF1_HAEMATOPOIETIC_AND_LYMPHOID_TISSUE_TenPx37',\n",
       " 'A101D_SKIN_TenPx38',\n",
       " 'DAOY_CENTRAL_NERVOUS_SYSTEM_TenPx38',\n",
       " 'JM1_HAEMATOPOIETIC_AND_LYMPHOID_TISSUE_TenPx38',\n",
       " 'KASUMI2_HAEMATOPOIETIC_AND_LYMPHOID_TISSUE_TenPx38',\n",
       " 'KYM1_SOFT_TISSUE_TenPx38',\n",
       " 'KYSE410_OESOPHAGUS_TenPx38',\n",
       " 'CL34_LARGE_INTESTINE_TenPx38',\n",
       " 'NCIH446_LUNG_TenPx38',\n",
       " 'SKNAS_AUTONOMIC_GANGLIA_TenPx38',\n",
       " 'DANG_PANCREAS_TenPx39',\n",
       " 'KNS42_CENTRAL_NERVOUS_SYSTEM_TenPx39',\n",
       " 'HEC108_ENDOMETRIUM_TenPx39',\n",
       " 'JEKO1_HAEMATOPOIETIC_AND_LYMPHOID_TISSUE_TenPx39',\n",
       " 'JURKAT_HAEMATOPOIETIC_AND_LYMPHOID_TISSUE_TenPx39',\n",
       " 'MSTO211H_PLEURA_TenPx39',\n",
       " 'OCUM1_STOMACH_TenPx39',\n",
       " 'CCK81_LARGE_INTESTINE_TenPx39',\n",
       " 'SNU449_LIVER_TenPx39',\n",
       " '8505C_THYROID_TenPx40',\n",
       " 'HCC1833_LUNG_TenPx40',\n",
       " 'PANC0403_PANCREAS_TenPx40',\n",
       " 'J82_URINARY_TRACT_TenPx40',\n",
       " 'JHH4_LIVER_TenPx40',\n",
       " 'OVSAHO_OVARY_TenPx40',\n",
       " 'RL_HAEMATOPOIETIC_AND_LYMPHOID_TISSUE_TenPx40',\n",
       " 'SNUC5_LARGE_INTESTINE_TenPx40',\n",
       " 'SUDHL6_HAEMATOPOIETIC_AND_LYMPHOID_TISSUE_TenPx40',\n",
       " 'SKLU1_LUNG_TenPx42',\n",
       " 'ISHIKAWAHERAKLIO02ER_ENDOMETRIUM_TenPx42',\n",
       " 'SNGM_ENDOMETRIUM_TenPx42',\n",
       " 'GAMG_CENTRAL_NERVOUS_SYSTEM_TenPx42',\n",
       " 'NCIH929_HAEMATOPOIETIC_AND_LYMPHOID_TISSUE_TenPx42',\n",
       " 'PANC0203_PANCREAS_TenPx42',\n",
       " 'RCHACV_HAEMATOPOIETIC_AND_LYMPHOID_TISSUE_TenPx42',\n",
       " 'SNU423_LIVER_TenPx42',\n",
       " 'SNU1079_BILIARY_TRACT_TenPx42',\n",
       " 'A204_SOFT_TISSUE_TenPx23',\n",
       " 'BXPC3_PANCREAS_TenPx23',\n",
       " 'CALU1_LUNG_TenPx23',\n",
       " 'HEC251_ENDOMETRIUM_TenPx23',\n",
       " 'HEL_HAEMATOPOIETIC_AND_LYMPHOID_TISSUE_TenPx23',\n",
       " 'KYSE180_OESOPHAGUS_TenPx23',\n",
       " 'MONOMAC1_HAEMATOPOIETIC_AND_LYMPHOID_TISSUE_TenPx23',\n",
       " 'SF295_CENTRAL_NERVOUS_SYSTEM_TenPx23',\n",
       " 'SKMEL5_SKIN_TenPx23',\n",
       " 'PC14_LUNG_TenPx05',\n",
       " 'EBC1_LUNG_TenPx05',\n",
       " 'SKMEL2_SKIN_TenPx05',\n",
       " 'MEWO_SKIN_TenPx05',\n",
       " 'HS944T_SKIN_TenPx05',\n",
       " 'JHH7_LIVER_TenPx05',\n",
       " 'RVH421_SKIN_TenPx05',\n",
       " 'A498_KIDNEY_TenPx05',\n",
       " 'HS695T_SKIN_TenPx05',\n",
       " '697_HAEMATOPOIETIC_AND_LYMPHOID_TISSUE_TenPx30',\n",
       " '8305C_THYROID_TenPx30',\n",
       " 'HCT15_LARGE_INTESTINE_TenPx30',\n",
       " 'IGR1_SKIN_TenPx30',\n",
       " 'SUIT2_PANCREAS_TenPx30',\n",
       " 'LN18_CENTRAL_NERVOUS_SYSTEM_TenPx30',\n",
       " 'LNCAPCLONEFGC_PROSTATE_TenPx30',\n",
       " 'NCIH650_LUNG_TenPx30',\n",
       " 'REH_HAEMATOPOIETIC_AND_LYMPHOID_TISSUE_TenPx30',\n",
       " 'HEC1A_ENDOMETRIUM_TenPx31',\n",
       " 'HUPT3_PANCREAS_TenPx31',\n",
       " 'KMS27_HAEMATOPOIETIC_AND_LYMPHOID_TISSUE_TenPx31',\n",
       " 'LXF289_LUNG_TenPx31',\n",
       " 'CAL27_UPPER_AERODIGESTIVE_TRACT_TenPx31',\n",
       " 'RMUGS_OVARY_TenPx31',\n",
       " 'SNU1105_CENTRAL_NERVOUS_SYSTEM_TenPx31',\n",
       " 'CAL33_UPPER_AERODIGESTIVE_TRACT_TenPx31',\n",
       " 'U937_HAEMATOPOIETIC_AND_LYMPHOID_TISSUE_TenPx31',\n",
       " 'A704_KIDNEY_TenPx32',\n",
       " 'WM88_SKIN_TenPx32',\n",
       " 'KMS11_HAEMATOPOIETIC_AND_LYMPHOID_TISSUE_TenPx32',\n",
       " 'NALM6_HAEMATOPOIETIC_AND_LYMPHOID_TISSUE_TenPx32',\n",
       " 'NCIH2052_PLEURA_TenPx32',\n",
       " 'OV90_OVARY_TenPx32',\n",
       " 'SKES1_BONE_TenPx32',\n",
       " 'SNB19_CENTRAL_NERVOUS_SYSTEM_TenPx32',\n",
       " 'MFE280_ENDOMETRIUM_TenPx32',\n",
       " 'HCC1806_BREAST_TenPx14',\n",
       " 'COLO320_LARGE_INTESTINE_TenPx14',\n",
       " 'NCIH1581_LUNG_TenPx14',\n",
       " 'NCIH1792_LUNG_TenPx14',\n",
       " 'NCIH2066_LUNG_TenPx14',\n",
       " 'SQ1_LUNG_TenPx14',\n",
       " 'A2780_OVARY_TenPx14',\n",
       " 'MKN1_STOMACH_TenPx14',\n",
       " 'BICR22_UPPER_AERODIGESTIVE_TRACT_TenPx14',\n",
       " 'HCC1395_BREAST_TenPx15',\n",
       " 'SW1417_LARGE_INTESTINE_TenPx15',\n",
       " 'NCIH1435_LUNG_TenPx15',\n",
       " 'NCIH1568_LUNG_TenPx15',\n",
       " 'NCIH1944_LUNG_TenPx15',\n",
       " 'NCIH441_LUNG_TenPx15',\n",
       " 'KURAMOCHI_OVARY_TenPx15',\n",
       " 'KATOIII_STOMACH_TenPx15',\n",
       " 'UBLC1_URINARY_TRACT_TenPx15',\n",
       " 'MFE319_ENDOMETRIUM_TenPx41',\n",
       " 'HDMYZ_HAEMATOPOIETIC_AND_LYMPHOID_TISSUE_TenPx41',\n",
       " 'HDQP1_BREAST_TenPx41',\n",
       " 'JHH6_LIVER_TenPx41',\n",
       " 'L428_HAEMATOPOIETIC_AND_LYMPHOID_TISSUE_TenPx41',\n",
       " 'LMSU_STOMACH_TenPx41',\n",
       " 'HUPT4_PANCREAS_TenPx41',\n",
       " 'SW1783_CENTRAL_NERVOUS_SYSTEM_TenPx41',\n",
       " 'UMUC3_URINARY_TRACT_TenPx41',\n",
       " 'G402_SOFT_TISSUE_TenPx26',\n",
       " 'U118MG_CENTRAL_NERVOUS_SYSTEM_TenPx26',\n",
       " 'KYSE150_OESOPHAGUS_TenPx26',\n",
       " 'NCIH1155_LUNG_TenPx26',\n",
       " 'NCIN87_STOMACH_TenPx26',\n",
       " 'OPM2_HAEMATOPOIETIC_AND_LYMPHOID_TISSUE_TenPx26',\n",
       " 'PL45_PANCREAS_TenPx26',\n",
       " 'SKCO1_LARGE_INTESTINE_TenPx26',\n",
       " 'SUDHL4_HAEMATOPOIETIC_AND_LYMPHOID_TISSUE_TenPx26',\n",
       " '769P_KIDNEY_TenPx25',\n",
       " 'C32_SKIN_TenPx25',\n",
       " 'HEC59_ENDOMETRIUM_TenPx25',\n",
       " 'K562_HAEMATOPOIETIC_AND_LYMPHOID_TISSUE_TenPx25',\n",
       " 'NUGC3_STOMACH_TenPx25',\n",
       " 'RD_SOFT_TISSUE_TenPx25',\n",
       " 'SEM_HAEMATOPOIETIC_AND_LYMPHOID_TISSUE_TenPx25',\n",
       " 'SHP77_LUNG_TenPx25',\n",
       " 'TC71_BONE_TenPx25',\n",
       " 'HCC1937_BREAST_TenPx18',\n",
       " 'HCT15_LARGE_INTESTINE_TenPx18',\n",
       " 'KYSE70_OESOPHAGUS_TenPx18',\n",
       " 'NCIH1355_LUNG_TenPx18',\n",
       " 'NCIH1437_LUNG_TenPx18',\n",
       " 'NCIH2122_LUNG_TenPx18',\n",
       " 'TUHR4TKB_KIDNEY_TenPx18',\n",
       " 'WM793_SKIN_TenPx18',\n",
       " 'NCIH2030_LUNG_TenPx18',\n",
       " '22RV1_PROSTATE_TenPx24',\n",
       " 'A172_CENTRAL_NERVOUS_SYSTEM_TenPx24',\n",
       " 'BT20_BREAST_TenPx24',\n",
       " 'CALU6_LUNG_TenPx24',\n",
       " 'FADU_UPPER_AERODIGESTIVE_TRACT_TenPx24',\n",
       " 'KP4_PANCREAS_TenPx24',\n",
       " 'MONOMAC6_HAEMATOPOIETIC_AND_LYMPHOID_TISSUE_TenPx24',\n",
       " 'OVCAR8_OVARY_TenPx24',\n",
       " 'THP1_HAEMATOPOIETIC_AND_LYMPHOID_TISSUE_TenPx24']"
      ]
     },
     "execution_count": 13,
     "metadata": {},
     "output_type": "execute_result"
    }
   ],
   "source": [
    "names = []\n",
    "cell_line_names = pd.read_csv('/Users/katemeeson/Library/Mobile Documents/com~apple~CloudDocs/MRC-DTP_PhD_UoM/Datasets/Alternative datasets/CCLE proteomics/CCLE_all_cl_names.csv')\n",
    "for c in cell_line_names['Uniprot']:\n",
    "    names.append(c)\n",
    "names"
   ]
  },
  {
   "cell_type": "code",
   "execution_count": 105,
   "id": "5d054cde",
   "metadata": {
    "scrolled": true
   },
   "outputs": [
    {
     "name": "stdout",
     "output_type": "stream",
     "text": [
      "RERFLCMS_LUNG_TenPx01\n",
      "ABC1_LUNG_TenPx04\n",
      "NCIH358_LUNG_TenPx06\n",
      "DMS273_LUNG_TenPx06\n",
      "NCIH1299_LUNG_TenPx06\n",
      "NCIH1048_LUNG_TenPx07\n",
      "NCIH1693_LUNG_TenPx08\n",
      "DMS114_LUNG_TenPx08\n",
      "LUDLU1_LUNG_TenPx09\n",
      "HCC827_LUNG_TenPx10\n",
      "NCIH2110_LUNG_TenPx10\n",
      "NCIH520_LUNG_TenPx10\n",
      "HCC95_LUNG_TenPx11\n",
      "LK2_LUNG_TenPx11\n",
      "NCIH1650_LUNG_TenPx11\n",
      "NCIH1573_LUNG_TenPx12\n",
      "A549_LUNG_TenPx12\n",
      "NCIH2170_LUNG_TenPx12\n",
      "DV90_LUNG_TenPx12\n",
      "SBC5_LUNG_TenPx13\n",
      "NCIH3255_LUNG_TenPx13\n",
      "NCIH1975_LUNG_TenPx13\n",
      "CORL105_LUNG_TenPx13\n",
      "NCIH1666_LUNG_TenPx16\n",
      "NCIH2291_LUNG_TenPx16\n",
      "NCIH838_LUNG_TenPx16\n",
      "RERFLCSQ1_LUNG_TenPx16\n",
      "NCIH1793_LUNG_TenPx17\n",
      "NCIH2126_LUNG_TenPx17\n",
      "NCIH2228_LUNG_TenPx17\n",
      "NCIH661_LUNG_TenPx17\n",
      "LCLC103H_LUNG_TenPx19\n",
      "NCIH1703_LUNG_TenPx19\n",
      "NCIH196_LUNG_TenPx19\n",
      "NCIH2009_LUNG_TenPx19\n",
      "NCIH2286_LUNG_TenPx19\n",
      "CORL47_LUNG_TenPx20\n",
      "NCIH146_LUNG_TenPx20\n",
      "NCIH23_LUNG_TenPx20\n",
      "CORL88_LUNG_TenPx21\n",
      "HCC44_LUNG_TenPx21\n",
      "NCIH2172_LUNG_TenPx21\n",
      "LU65_LUNG_TenPx22\n",
      "NCIH460_LUNG_TenPx22\n",
      "NCIH522_LUNG_TenPx22\n",
      "HCC15_LUNG_TenPx28\n",
      "CORL23_LUNG_TenPx29\n",
      "SW1573_LUNG_TenPx33\n",
      "SW1271_LUNG_TenPx34\n",
      "NCIH226_LUNG_TenPx34\n",
      "IALM_LUNG_TenPx34\n",
      "NCIH647_LUNG_TenPx35\n",
      "NCIH292_LUNG_TenPx36\n",
      "CHAGOK1_LUNG_TenPx37\n",
      "NCIH446_LUNG_TenPx38\n",
      "HCC1833_LUNG_TenPx40\n",
      "SKLU1_LUNG_TenPx42\n",
      "CALU1_LUNG_TenPx23\n",
      "PC14_LUNG_TenPx05\n",
      "EBC1_LUNG_TenPx05\n",
      "NCIH650_LUNG_TenPx30\n",
      "LXF289_LUNG_TenPx31\n",
      "NCIH1581_LUNG_TenPx14\n",
      "NCIH1792_LUNG_TenPx14\n",
      "NCIH2066_LUNG_TenPx14\n",
      "SQ1_LUNG_TenPx14\n",
      "NCIH1435_LUNG_TenPx15\n",
      "NCIH1568_LUNG_TenPx15\n",
      "NCIH1944_LUNG_TenPx15\n",
      "NCIH441_LUNG_TenPx15\n",
      "NCIH1155_LUNG_TenPx26\n",
      "SHP77_LUNG_TenPx25\n",
      "NCIH1355_LUNG_TenPx18\n",
      "NCIH1437_LUNG_TenPx18\n",
      "NCIH2122_LUNG_TenPx18\n",
      "NCIH2030_LUNG_TenPx18\n",
      "CALU6_LUNG_TenPx24\n",
      "The history saving thread hit an unexpected error (OperationalError('unable to open database file')).History will not be written to the database.\n"
     ]
    }
   ],
   "source": [
    "for n in names:\n",
    "    if 'LUNG' in n:\n",
    "        print(n)"
   ]
  },
  {
   "cell_type": "code",
   "execution_count": 102,
   "id": "53540fa9",
   "metadata": {},
   "outputs": [
    {
     "name": "stdout",
     "output_type": "stream",
     "text": [
      "<class 'list'>\n"
     ]
    }
   ],
   "source": [
    "print(type(names))"
   ]
  },
  {
   "cell_type": "code",
   "execution_count": 36,
   "id": "f4f7f2db",
   "metadata": {},
   "outputs": [
    {
     "data": {
      "application/vnd.plotly.v1+json": {
       "config": {
        "plotlyServerURL": "https://plot.ly"
       },
       "data": [
        {
         "customdata": [
          0,
          1,
          2,
          3,
          4,
          5,
          6,
          7,
          8,
          9,
          10
         ],
         "hovertemplate": "%{y}[%{customdata}] = %{marker.color}<extra></extra>",
         "marker": {
          "color": [
           "rgb(229, 134, 6)",
           "rgb(93, 105, 177)",
           "rgb(82, 188, 163)",
           "rgb(153, 201, 69)",
           "rgb(204, 97, 176)",
           "rgb(36, 121, 108)",
           "rgb(218, 165, 27)",
           "rgb(47, 138, 196)",
           "rgb(118, 78, 159)",
           "rgb(237, 100, 90)",
           "rgb(165, 170, 153)"
          ]
         },
         "orientation": "h",
         "type": "bar",
         "x": [
          1,
          1,
          1,
          1,
          1,
          1,
          1,
          1,
          1,
          1,
          1
         ],
         "y": [
          "Vivid",
          "Vivid",
          "Vivid",
          "Vivid",
          "Vivid",
          "Vivid",
          "Vivid",
          "Vivid",
          "Vivid",
          "Vivid",
          "Vivid"
         ]
        },
        {
         "customdata": [
          0,
          1,
          2,
          3,
          4,
          5,
          6,
          7,
          8,
          9,
          10
         ],
         "hovertemplate": "%{y}[%{customdata}] = %{marker.color}<extra></extra>",
         "marker": {
          "color": [
           "rgb(136, 204, 238)",
           "rgb(204, 102, 119)",
           "rgb(221, 204, 119)",
           "rgb(17, 119, 51)",
           "rgb(51, 34, 136)",
           "rgb(170, 68, 153)",
           "rgb(68, 170, 153)",
           "rgb(153, 153, 51)",
           "rgb(136, 34, 85)",
           "rgb(102, 17, 0)",
           "rgb(136, 136, 136)"
          ]
         },
         "orientation": "h",
         "type": "bar",
         "x": [
          1,
          1,
          1,
          1,
          1,
          1,
          1,
          1,
          1,
          1,
          1
         ],
         "y": [
          "Safe",
          "Safe",
          "Safe",
          "Safe",
          "Safe",
          "Safe",
          "Safe",
          "Safe",
          "Safe",
          "Safe",
          "Safe"
         ]
        },
        {
         "customdata": [
          0,
          1,
          2,
          3,
          4,
          5,
          6,
          7,
          8,
          9,
          10
         ],
         "hovertemplate": "%{y}[%{customdata}] = %{marker.color}<extra></extra>",
         "marker": {
          "color": [
           "rgb(95, 70, 144)",
           "rgb(29, 105, 150)",
           "rgb(56, 166, 165)",
           "rgb(15, 133, 84)",
           "rgb(115, 175, 72)",
           "rgb(237, 173, 8)",
           "rgb(225, 124, 5)",
           "rgb(204, 80, 62)",
           "rgb(148, 52, 110)",
           "rgb(111, 64, 112)",
           "rgb(102, 102, 102)"
          ]
         },
         "orientation": "h",
         "type": "bar",
         "x": [
          1,
          1,
          1,
          1,
          1,
          1,
          1,
          1,
          1,
          1,
          1
         ],
         "y": [
          "Prism",
          "Prism",
          "Prism",
          "Prism",
          "Prism",
          "Prism",
          "Prism",
          "Prism",
          "Prism",
          "Prism",
          "Prism"
         ]
        },
        {
         "customdata": [
          0,
          1,
          2,
          3,
          4,
          5,
          6,
          7,
          8,
          9,
          10
         ],
         "hovertemplate": "%{y}[%{customdata}] = %{marker.color}<extra></extra>",
         "marker": {
          "color": [
           "rgb(102, 197, 204)",
           "rgb(246, 207, 113)",
           "rgb(248, 156, 116)",
           "rgb(220, 176, 242)",
           "rgb(135, 197, 95)",
           "rgb(158, 185, 243)",
           "rgb(254, 136, 177)",
           "rgb(201, 219, 116)",
           "rgb(139, 224, 164)",
           "rgb(180, 151, 231)",
           "rgb(179, 179, 179)"
          ]
         },
         "orientation": "h",
         "type": "bar",
         "x": [
          1,
          1,
          1,
          1,
          1,
          1,
          1,
          1,
          1,
          1,
          1
         ],
         "y": [
          "Pastel",
          "Pastel",
          "Pastel",
          "Pastel",
          "Pastel",
          "Pastel",
          "Pastel",
          "Pastel",
          "Pastel",
          "Pastel",
          "Pastel"
         ]
        },
        {
         "customdata": [
          0,
          1,
          2,
          3,
          4,
          5,
          6,
          7,
          8,
          9,
          10
         ],
         "hovertemplate": "%{y}[%{customdata}] = %{marker.color}<extra></extra>",
         "marker": {
          "color": [
           "rgb(127, 60, 141)",
           "rgb(17, 165, 121)",
           "rgb(57, 105, 172)",
           "rgb(242, 183, 1)",
           "rgb(231, 63, 116)",
           "rgb(128, 186, 90)",
           "rgb(230, 131, 16)",
           "rgb(0, 134, 149)",
           "rgb(207, 28, 144)",
           "rgb(249, 123, 114)",
           "rgb(165, 170, 153)"
          ]
         },
         "orientation": "h",
         "type": "bar",
         "x": [
          1,
          1,
          1,
          1,
          1,
          1,
          1,
          1,
          1,
          1,
          1
         ],
         "y": [
          "Bold",
          "Bold",
          "Bold",
          "Bold",
          "Bold",
          "Bold",
          "Bold",
          "Bold",
          "Bold",
          "Bold",
          "Bold"
         ]
        },
        {
         "customdata": [
          0,
          1,
          2,
          3,
          4,
          5,
          6,
          7,
          8,
          9,
          10
         ],
         "hovertemplate": "%{y}[%{customdata}] = %{marker.color}<extra></extra>",
         "marker": {
          "color": [
           "rgb(133, 92, 117)",
           "rgb(217, 175, 107)",
           "rgb(175, 100, 88)",
           "rgb(115, 111, 76)",
           "rgb(82, 106, 131)",
           "rgb(98, 83, 119)",
           "rgb(104, 133, 92)",
           "rgb(156, 156, 94)",
           "rgb(160, 97, 119)",
           "rgb(140, 120, 93)",
           "rgb(124, 124, 124)"
          ]
         },
         "orientation": "h",
         "type": "bar",
         "x": [
          1,
          1,
          1,
          1,
          1,
          1,
          1,
          1,
          1,
          1,
          1
         ],
         "y": [
          "Antique",
          "Antique",
          "Antique",
          "Antique",
          "Antique",
          "Antique",
          "Antique",
          "Antique",
          "Antique",
          "Antique",
          "Antique"
         ]
        },
        {
         "customdata": [
          0,
          1,
          2,
          3,
          4,
          5,
          6,
          7,
          8,
          9,
          10,
          11
         ],
         "hovertemplate": "%{y}[%{customdata}] = %{marker.color}<extra></extra>",
         "marker": {
          "color": [
           "rgb(141,211,199)",
           "rgb(255,255,179)",
           "rgb(190,186,218)",
           "rgb(251,128,114)",
           "rgb(128,177,211)",
           "rgb(253,180,98)",
           "rgb(179,222,105)",
           "rgb(252,205,229)",
           "rgb(217,217,217)",
           "rgb(188,128,189)",
           "rgb(204,235,197)",
           "rgb(255,237,111)"
          ]
         },
         "orientation": "h",
         "type": "bar",
         "x": [
          1,
          1,
          1,
          1,
          1,
          1,
          1,
          1,
          1,
          1,
          1,
          1
         ],
         "y": [
          "Set3",
          "Set3",
          "Set3",
          "Set3",
          "Set3",
          "Set3",
          "Set3",
          "Set3",
          "Set3",
          "Set3",
          "Set3",
          "Set3"
         ]
        },
        {
         "customdata": [
          0,
          1,
          2,
          3,
          4,
          5,
          6,
          7
         ],
         "hovertemplate": "%{y}[%{customdata}] = %{marker.color}<extra></extra>",
         "marker": {
          "color": [
           "rgb(179,226,205)",
           "rgb(253,205,172)",
           "rgb(203,213,232)",
           "rgb(244,202,228)",
           "rgb(230,245,201)",
           "rgb(255,242,174)",
           "rgb(241,226,204)",
           "rgb(204,204,204)"
          ]
         },
         "orientation": "h",
         "type": "bar",
         "x": [
          1,
          1,
          1,
          1,
          1,
          1,
          1,
          1
         ],
         "y": [
          "Pastel2",
          "Pastel2",
          "Pastel2",
          "Pastel2",
          "Pastel2",
          "Pastel2",
          "Pastel2",
          "Pastel2"
         ]
        },
        {
         "customdata": [
          0,
          1,
          2,
          3,
          4,
          5,
          6,
          7
         ],
         "hovertemplate": "%{y}[%{customdata}] = %{marker.color}<extra></extra>",
         "marker": {
          "color": [
           "rgb(102,194,165)",
           "rgb(252,141,98)",
           "rgb(141,160,203)",
           "rgb(231,138,195)",
           "rgb(166,216,84)",
           "rgb(255,217,47)",
           "rgb(229,196,148)",
           "rgb(179,179,179)"
          ]
         },
         "orientation": "h",
         "type": "bar",
         "x": [
          1,
          1,
          1,
          1,
          1,
          1,
          1,
          1
         ],
         "y": [
          "Set2",
          "Set2",
          "Set2",
          "Set2",
          "Set2",
          "Set2",
          "Set2",
          "Set2"
         ]
        },
        {
         "customdata": [
          0,
          1,
          2,
          3,
          4,
          5,
          6,
          7
         ],
         "hovertemplate": "%{y}[%{customdata}] = %{marker.color}<extra></extra>",
         "marker": {
          "color": [
           "rgb(27,158,119)",
           "rgb(217,95,2)",
           "rgb(117,112,179)",
           "rgb(231,41,138)",
           "rgb(102,166,30)",
           "rgb(230,171,2)",
           "rgb(166,118,29)",
           "rgb(102,102,102)"
          ]
         },
         "orientation": "h",
         "type": "bar",
         "x": [
          1,
          1,
          1,
          1,
          1,
          1,
          1,
          1
         ],
         "y": [
          "Dark2",
          "Dark2",
          "Dark2",
          "Dark2",
          "Dark2",
          "Dark2",
          "Dark2",
          "Dark2"
         ]
        },
        {
         "customdata": [
          0,
          1,
          2,
          3,
          4,
          5,
          6,
          7,
          8
         ],
         "hovertemplate": "%{y}[%{customdata}] = %{marker.color}<extra></extra>",
         "marker": {
          "color": [
           "rgb(251,180,174)",
           "rgb(179,205,227)",
           "rgb(204,235,197)",
           "rgb(222,203,228)",
           "rgb(254,217,166)",
           "rgb(255,255,204)",
           "rgb(229,216,189)",
           "rgb(253,218,236)",
           "rgb(242,242,242)"
          ]
         },
         "orientation": "h",
         "type": "bar",
         "x": [
          1,
          1,
          1,
          1,
          1,
          1,
          1,
          1,
          1
         ],
         "y": [
          "Pastel1",
          "Pastel1",
          "Pastel1",
          "Pastel1",
          "Pastel1",
          "Pastel1",
          "Pastel1",
          "Pastel1",
          "Pastel1"
         ]
        },
        {
         "customdata": [
          0,
          1,
          2,
          3,
          4,
          5,
          6,
          7,
          8
         ],
         "hovertemplate": "%{y}[%{customdata}] = %{marker.color}<extra></extra>",
         "marker": {
          "color": [
           "rgb(228,26,28)",
           "rgb(55,126,184)",
           "rgb(77,175,74)",
           "rgb(152,78,163)",
           "rgb(255,127,0)",
           "rgb(255,255,51)",
           "rgb(166,86,40)",
           "rgb(247,129,191)",
           "rgb(153,153,153)"
          ]
         },
         "orientation": "h",
         "type": "bar",
         "x": [
          1,
          1,
          1,
          1,
          1,
          1,
          1,
          1,
          1
         ],
         "y": [
          "Set1",
          "Set1",
          "Set1",
          "Set1",
          "Set1",
          "Set1",
          "Set1",
          "Set1",
          "Set1"
         ]
        },
        {
         "customdata": [
          0,
          1,
          2,
          3,
          4,
          5,
          6,
          7,
          8,
          9,
          10,
          11,
          12,
          13,
          14,
          15,
          16,
          17,
          18,
          19,
          20,
          21,
          22,
          23
         ],
         "hovertemplate": "%{y}[%{customdata}] = %{marker.color}<extra></extra>",
         "marker": {
          "color": [
           "#FD3216",
           "#00FE35",
           "#6A76FC",
           "#FED4C4",
           "#FE00CE",
           "#0DF9FF",
           "#F6F926",
           "#FF9616",
           "#479B55",
           "#EEA6FB",
           "#DC587D",
           "#D626FF",
           "#6E899C",
           "#00B5F7",
           "#B68E00",
           "#C9FBE5",
           "#FF0092",
           "#22FFA7",
           "#E3EE9E",
           "#86CE00",
           "#BC7196",
           "#7E7DCD",
           "#FC6955",
           "#E48F72"
          ]
         },
         "orientation": "h",
         "type": "bar",
         "x": [
          1,
          1,
          1,
          1,
          1,
          1,
          1,
          1,
          1,
          1,
          1,
          1,
          1,
          1,
          1,
          1,
          1,
          1,
          1,
          1,
          1,
          1,
          1,
          1
         ],
         "y": [
          "Light24",
          "Light24",
          "Light24",
          "Light24",
          "Light24",
          "Light24",
          "Light24",
          "Light24",
          "Light24",
          "Light24",
          "Light24",
          "Light24",
          "Light24",
          "Light24",
          "Light24",
          "Light24",
          "Light24",
          "Light24",
          "Light24",
          "Light24",
          "Light24",
          "Light24",
          "Light24",
          "Light24"
         ]
        },
        {
         "customdata": [
          0,
          1,
          2,
          3,
          4,
          5,
          6,
          7,
          8,
          9,
          10,
          11,
          12,
          13,
          14,
          15,
          16,
          17,
          18,
          19,
          20,
          21,
          22,
          23
         ],
         "hovertemplate": "%{y}[%{customdata}] = %{marker.color}<extra></extra>",
         "marker": {
          "color": [
           "#2E91E5",
           "#E15F99",
           "#1CA71C",
           "#FB0D0D",
           "#DA16FF",
           "#222A2A",
           "#B68100",
           "#750D86",
           "#EB663B",
           "#511CFB",
           "#00A08B",
           "#FB00D1",
           "#FC0080",
           "#B2828D",
           "#6C7C32",
           "#778AAE",
           "#862A16",
           "#A777F1",
           "#620042",
           "#1616A7",
           "#DA60CA",
           "#6C4516",
           "#0D2A63",
           "#AF0038"
          ]
         },
         "orientation": "h",
         "type": "bar",
         "x": [
          1,
          1,
          1,
          1,
          1,
          1,
          1,
          1,
          1,
          1,
          1,
          1,
          1,
          1,
          1,
          1,
          1,
          1,
          1,
          1,
          1,
          1,
          1,
          1
         ],
         "y": [
          "Dark24",
          "Dark24",
          "Dark24",
          "Dark24",
          "Dark24",
          "Dark24",
          "Dark24",
          "Dark24",
          "Dark24",
          "Dark24",
          "Dark24",
          "Dark24",
          "Dark24",
          "Dark24",
          "Dark24",
          "Dark24",
          "Dark24",
          "Dark24",
          "Dark24",
          "Dark24",
          "Dark24",
          "Dark24",
          "Dark24",
          "Dark24"
         ]
        },
        {
         "customdata": [
          0,
          1,
          2,
          3,
          4,
          5,
          6,
          7,
          8,
          9,
          10,
          11,
          12,
          13,
          14,
          15,
          16,
          17,
          18,
          19,
          20,
          21,
          22,
          23,
          24,
          25
         ],
         "hovertemplate": "%{y}[%{customdata}] = %{marker.color}<extra></extra>",
         "marker": {
          "color": [
           "#AA0DFE",
           "#3283FE",
           "#85660D",
           "#782AB6",
           "#565656",
           "#1C8356",
           "#16FF32",
           "#F7E1A0",
           "#E2E2E2",
           "#1CBE4F",
           "#C4451C",
           "#DEA0FD",
           "#FE00FA",
           "#325A9B",
           "#FEAF16",
           "#F8A19F",
           "#90AD1C",
           "#F6222E",
           "#1CFFCE",
           "#2ED9FF",
           "#B10DA1",
           "#C075A6",
           "#FC1CBF",
           "#B00068",
           "#FBE426",
           "#FA0087"
          ]
         },
         "orientation": "h",
         "type": "bar",
         "x": [
          1,
          1,
          1,
          1,
          1,
          1,
          1,
          1,
          1,
          1,
          1,
          1,
          1,
          1,
          1,
          1,
          1,
          1,
          1,
          1,
          1,
          1,
          1,
          1,
          1,
          1
         ],
         "y": [
          "Alphabet",
          "Alphabet",
          "Alphabet",
          "Alphabet",
          "Alphabet",
          "Alphabet",
          "Alphabet",
          "Alphabet",
          "Alphabet",
          "Alphabet",
          "Alphabet",
          "Alphabet",
          "Alphabet",
          "Alphabet",
          "Alphabet",
          "Alphabet",
          "Alphabet",
          "Alphabet",
          "Alphabet",
          "Alphabet",
          "Alphabet",
          "Alphabet",
          "Alphabet",
          "Alphabet",
          "Alphabet",
          "Alphabet"
         ]
        },
        {
         "customdata": [
          0,
          1,
          2,
          3,
          4,
          5,
          6,
          7,
          8,
          9
         ],
         "hovertemplate": "%{y}[%{customdata}] = %{marker.color}<extra></extra>",
         "marker": {
          "color": [
           "#4C78A8",
           "#F58518",
           "#E45756",
           "#72B7B2",
           "#54A24B",
           "#EECA3B",
           "#B279A2",
           "#FF9DA6",
           "#9D755D",
           "#BAB0AC"
          ]
         },
         "orientation": "h",
         "type": "bar",
         "x": [
          1,
          1,
          1,
          1,
          1,
          1,
          1,
          1,
          1,
          1
         ],
         "y": [
          "T10",
          "T10",
          "T10",
          "T10",
          "T10",
          "T10",
          "T10",
          "T10",
          "T10",
          "T10"
         ]
        },
        {
         "customdata": [
          0,
          1,
          2,
          3,
          4,
          5,
          6,
          7,
          8,
          9
         ],
         "hovertemplate": "%{y}[%{customdata}] = %{marker.color}<extra></extra>",
         "marker": {
          "color": [
           "#3366CC",
           "#DC3912",
           "#FF9900",
           "#109618",
           "#990099",
           "#0099C6",
           "#DD4477",
           "#66AA00",
           "#B82E2E",
           "#316395"
          ]
         },
         "orientation": "h",
         "type": "bar",
         "x": [
          1,
          1,
          1,
          1,
          1,
          1,
          1,
          1,
          1,
          1
         ],
         "y": [
          "G10",
          "G10",
          "G10",
          "G10",
          "G10",
          "G10",
          "G10",
          "G10",
          "G10",
          "G10"
         ]
        },
        {
         "customdata": [
          0,
          1,
          2,
          3,
          4,
          5,
          6,
          7,
          8,
          9
         ],
         "hovertemplate": "%{y}[%{customdata}] = %{marker.color}<extra></extra>",
         "marker": {
          "color": [
           "#1F77B4",
           "#FF7F0E",
           "#2CA02C",
           "#D62728",
           "#9467BD",
           "#8C564B",
           "#E377C2",
           "#7F7F7F",
           "#BCBD22",
           "#17BECF"
          ]
         },
         "orientation": "h",
         "type": "bar",
         "x": [
          1,
          1,
          1,
          1,
          1,
          1,
          1,
          1,
          1,
          1
         ],
         "y": [
          "D3",
          "D3",
          "D3",
          "D3",
          "D3",
          "D3",
          "D3",
          "D3",
          "D3",
          "D3"
         ]
        },
        {
         "customdata": [
          0,
          1,
          2,
          3,
          4,
          5,
          6,
          7,
          8,
          9
         ],
         "hovertemplate": "%{y}[%{customdata}] = %{marker.color}<extra></extra>",
         "marker": {
          "color": [
           "#636EFA",
           "#EF553B",
           "#00CC96",
           "#AB63FA",
           "#FFA15A",
           "#19D3F3",
           "#FF6692",
           "#B6E880",
           "#FF97FF",
           "#FECB52"
          ]
         },
         "orientation": "h",
         "type": "bar",
         "x": [
          1,
          1,
          1,
          1,
          1,
          1,
          1,
          1,
          1,
          1
         ],
         "y": [
          "Plotly",
          "Plotly",
          "Plotly",
          "Plotly",
          "Plotly",
          "Plotly",
          "Plotly",
          "Plotly",
          "Plotly",
          "Plotly"
         ]
        }
       ],
       "layout": {
        "bargap": 0.5,
        "barmode": "stack",
        "barnorm": "fraction",
        "height": 760,
        "margin": {
         "b": 10
        },
        "showlegend": false,
        "template": {
         "data": {
          "bar": [
           {
            "error_x": {
             "color": "#2a3f5f"
            },
            "error_y": {
             "color": "#2a3f5f"
            },
            "marker": {
             "line": {
              "color": "#E5ECF6",
              "width": 0.5
             },
             "pattern": {
              "fillmode": "overlay",
              "size": 10,
              "solidity": 0.2
             }
            },
            "type": "bar"
           }
          ],
          "barpolar": [
           {
            "marker": {
             "line": {
              "color": "#E5ECF6",
              "width": 0.5
             },
             "pattern": {
              "fillmode": "overlay",
              "size": 10,
              "solidity": 0.2
             }
            },
            "type": "barpolar"
           }
          ],
          "carpet": [
           {
            "aaxis": {
             "endlinecolor": "#2a3f5f",
             "gridcolor": "white",
             "linecolor": "white",
             "minorgridcolor": "white",
             "startlinecolor": "#2a3f5f"
            },
            "baxis": {
             "endlinecolor": "#2a3f5f",
             "gridcolor": "white",
             "linecolor": "white",
             "minorgridcolor": "white",
             "startlinecolor": "#2a3f5f"
            },
            "type": "carpet"
           }
          ],
          "choropleth": [
           {
            "colorbar": {
             "outlinewidth": 0,
             "ticks": ""
            },
            "type": "choropleth"
           }
          ],
          "contour": [
           {
            "colorbar": {
             "outlinewidth": 0,
             "ticks": ""
            },
            "colorscale": [
             [
              0,
              "#0d0887"
             ],
             [
              0.1111111111111111,
              "#46039f"
             ],
             [
              0.2222222222222222,
              "#7201a8"
             ],
             [
              0.3333333333333333,
              "#9c179e"
             ],
             [
              0.4444444444444444,
              "#bd3786"
             ],
             [
              0.5555555555555556,
              "#d8576b"
             ],
             [
              0.6666666666666666,
              "#ed7953"
             ],
             [
              0.7777777777777778,
              "#fb9f3a"
             ],
             [
              0.8888888888888888,
              "#fdca26"
             ],
             [
              1,
              "#f0f921"
             ]
            ],
            "type": "contour"
           }
          ],
          "contourcarpet": [
           {
            "colorbar": {
             "outlinewidth": 0,
             "ticks": ""
            },
            "type": "contourcarpet"
           }
          ],
          "heatmap": [
           {
            "colorbar": {
             "outlinewidth": 0,
             "ticks": ""
            },
            "colorscale": [
             [
              0,
              "#0d0887"
             ],
             [
              0.1111111111111111,
              "#46039f"
             ],
             [
              0.2222222222222222,
              "#7201a8"
             ],
             [
              0.3333333333333333,
              "#9c179e"
             ],
             [
              0.4444444444444444,
              "#bd3786"
             ],
             [
              0.5555555555555556,
              "#d8576b"
             ],
             [
              0.6666666666666666,
              "#ed7953"
             ],
             [
              0.7777777777777778,
              "#fb9f3a"
             ],
             [
              0.8888888888888888,
              "#fdca26"
             ],
             [
              1,
              "#f0f921"
             ]
            ],
            "type": "heatmap"
           }
          ],
          "heatmapgl": [
           {
            "colorbar": {
             "outlinewidth": 0,
             "ticks": ""
            },
            "colorscale": [
             [
              0,
              "#0d0887"
             ],
             [
              0.1111111111111111,
              "#46039f"
             ],
             [
              0.2222222222222222,
              "#7201a8"
             ],
             [
              0.3333333333333333,
              "#9c179e"
             ],
             [
              0.4444444444444444,
              "#bd3786"
             ],
             [
              0.5555555555555556,
              "#d8576b"
             ],
             [
              0.6666666666666666,
              "#ed7953"
             ],
             [
              0.7777777777777778,
              "#fb9f3a"
             ],
             [
              0.8888888888888888,
              "#fdca26"
             ],
             [
              1,
              "#f0f921"
             ]
            ],
            "type": "heatmapgl"
           }
          ],
          "histogram": [
           {
            "marker": {
             "pattern": {
              "fillmode": "overlay",
              "size": 10,
              "solidity": 0.2
             }
            },
            "type": "histogram"
           }
          ],
          "histogram2d": [
           {
            "colorbar": {
             "outlinewidth": 0,
             "ticks": ""
            },
            "colorscale": [
             [
              0,
              "#0d0887"
             ],
             [
              0.1111111111111111,
              "#46039f"
             ],
             [
              0.2222222222222222,
              "#7201a8"
             ],
             [
              0.3333333333333333,
              "#9c179e"
             ],
             [
              0.4444444444444444,
              "#bd3786"
             ],
             [
              0.5555555555555556,
              "#d8576b"
             ],
             [
              0.6666666666666666,
              "#ed7953"
             ],
             [
              0.7777777777777778,
              "#fb9f3a"
             ],
             [
              0.8888888888888888,
              "#fdca26"
             ],
             [
              1,
              "#f0f921"
             ]
            ],
            "type": "histogram2d"
           }
          ],
          "histogram2dcontour": [
           {
            "colorbar": {
             "outlinewidth": 0,
             "ticks": ""
            },
            "colorscale": [
             [
              0,
              "#0d0887"
             ],
             [
              0.1111111111111111,
              "#46039f"
             ],
             [
              0.2222222222222222,
              "#7201a8"
             ],
             [
              0.3333333333333333,
              "#9c179e"
             ],
             [
              0.4444444444444444,
              "#bd3786"
             ],
             [
              0.5555555555555556,
              "#d8576b"
             ],
             [
              0.6666666666666666,
              "#ed7953"
             ],
             [
              0.7777777777777778,
              "#fb9f3a"
             ],
             [
              0.8888888888888888,
              "#fdca26"
             ],
             [
              1,
              "#f0f921"
             ]
            ],
            "type": "histogram2dcontour"
           }
          ],
          "mesh3d": [
           {
            "colorbar": {
             "outlinewidth": 0,
             "ticks": ""
            },
            "type": "mesh3d"
           }
          ],
          "parcoords": [
           {
            "line": {
             "colorbar": {
              "outlinewidth": 0,
              "ticks": ""
             }
            },
            "type": "parcoords"
           }
          ],
          "pie": [
           {
            "automargin": true,
            "type": "pie"
           }
          ],
          "scatter": [
           {
            "fillpattern": {
             "fillmode": "overlay",
             "size": 10,
             "solidity": 0.2
            },
            "type": "scatter"
           }
          ],
          "scatter3d": [
           {
            "line": {
             "colorbar": {
              "outlinewidth": 0,
              "ticks": ""
             }
            },
            "marker": {
             "colorbar": {
              "outlinewidth": 0,
              "ticks": ""
             }
            },
            "type": "scatter3d"
           }
          ],
          "scattercarpet": [
           {
            "marker": {
             "colorbar": {
              "outlinewidth": 0,
              "ticks": ""
             }
            },
            "type": "scattercarpet"
           }
          ],
          "scattergeo": [
           {
            "marker": {
             "colorbar": {
              "outlinewidth": 0,
              "ticks": ""
             }
            },
            "type": "scattergeo"
           }
          ],
          "scattergl": [
           {
            "marker": {
             "colorbar": {
              "outlinewidth": 0,
              "ticks": ""
             }
            },
            "type": "scattergl"
           }
          ],
          "scattermapbox": [
           {
            "marker": {
             "colorbar": {
              "outlinewidth": 0,
              "ticks": ""
             }
            },
            "type": "scattermapbox"
           }
          ],
          "scatterpolar": [
           {
            "marker": {
             "colorbar": {
              "outlinewidth": 0,
              "ticks": ""
             }
            },
            "type": "scatterpolar"
           }
          ],
          "scatterpolargl": [
           {
            "marker": {
             "colorbar": {
              "outlinewidth": 0,
              "ticks": ""
             }
            },
            "type": "scatterpolargl"
           }
          ],
          "scatterternary": [
           {
            "marker": {
             "colorbar": {
              "outlinewidth": 0,
              "ticks": ""
             }
            },
            "type": "scatterternary"
           }
          ],
          "surface": [
           {
            "colorbar": {
             "outlinewidth": 0,
             "ticks": ""
            },
            "colorscale": [
             [
              0,
              "#0d0887"
             ],
             [
              0.1111111111111111,
              "#46039f"
             ],
             [
              0.2222222222222222,
              "#7201a8"
             ],
             [
              0.3333333333333333,
              "#9c179e"
             ],
             [
              0.4444444444444444,
              "#bd3786"
             ],
             [
              0.5555555555555556,
              "#d8576b"
             ],
             [
              0.6666666666666666,
              "#ed7953"
             ],
             [
              0.7777777777777778,
              "#fb9f3a"
             ],
             [
              0.8888888888888888,
              "#fdca26"
             ],
             [
              1,
              "#f0f921"
             ]
            ],
            "type": "surface"
           }
          ],
          "table": [
           {
            "cells": {
             "fill": {
              "color": "#EBF0F8"
             },
             "line": {
              "color": "white"
             }
            },
            "header": {
             "fill": {
              "color": "#C8D4E3"
             },
             "line": {
              "color": "white"
             }
            },
            "type": "table"
           }
          ]
         },
         "layout": {
          "annotationdefaults": {
           "arrowcolor": "#2a3f5f",
           "arrowhead": 0,
           "arrowwidth": 1
          },
          "autotypenumbers": "strict",
          "coloraxis": {
           "colorbar": {
            "outlinewidth": 0,
            "ticks": ""
           }
          },
          "colorscale": {
           "diverging": [
            [
             0,
             "#8e0152"
            ],
            [
             0.1,
             "#c51b7d"
            ],
            [
             0.2,
             "#de77ae"
            ],
            [
             0.3,
             "#f1b6da"
            ],
            [
             0.4,
             "#fde0ef"
            ],
            [
             0.5,
             "#f7f7f7"
            ],
            [
             0.6,
             "#e6f5d0"
            ],
            [
             0.7,
             "#b8e186"
            ],
            [
             0.8,
             "#7fbc41"
            ],
            [
             0.9,
             "#4d9221"
            ],
            [
             1,
             "#276419"
            ]
           ],
           "sequential": [
            [
             0,
             "#0d0887"
            ],
            [
             0.1111111111111111,
             "#46039f"
            ],
            [
             0.2222222222222222,
             "#7201a8"
            ],
            [
             0.3333333333333333,
             "#9c179e"
            ],
            [
             0.4444444444444444,
             "#bd3786"
            ],
            [
             0.5555555555555556,
             "#d8576b"
            ],
            [
             0.6666666666666666,
             "#ed7953"
            ],
            [
             0.7777777777777778,
             "#fb9f3a"
            ],
            [
             0.8888888888888888,
             "#fdca26"
            ],
            [
             1,
             "#f0f921"
            ]
           ],
           "sequentialminus": [
            [
             0,
             "#0d0887"
            ],
            [
             0.1111111111111111,
             "#46039f"
            ],
            [
             0.2222222222222222,
             "#7201a8"
            ],
            [
             0.3333333333333333,
             "#9c179e"
            ],
            [
             0.4444444444444444,
             "#bd3786"
            ],
            [
             0.5555555555555556,
             "#d8576b"
            ],
            [
             0.6666666666666666,
             "#ed7953"
            ],
            [
             0.7777777777777778,
             "#fb9f3a"
            ],
            [
             0.8888888888888888,
             "#fdca26"
            ],
            [
             1,
             "#f0f921"
            ]
           ]
          },
          "colorway": [
           "#636efa",
           "#EF553B",
           "#00cc96",
           "#ab63fa",
           "#FFA15A",
           "#19d3f3",
           "#FF6692",
           "#B6E880",
           "#FF97FF",
           "#FECB52"
          ],
          "font": {
           "color": "#2a3f5f"
          },
          "geo": {
           "bgcolor": "white",
           "lakecolor": "white",
           "landcolor": "#E5ECF6",
           "showlakes": true,
           "showland": true,
           "subunitcolor": "white"
          },
          "hoverlabel": {
           "align": "left"
          },
          "hovermode": "closest",
          "mapbox": {
           "style": "light"
          },
          "paper_bgcolor": "white",
          "plot_bgcolor": "#E5ECF6",
          "polar": {
           "angularaxis": {
            "gridcolor": "white",
            "linecolor": "white",
            "ticks": ""
           },
           "bgcolor": "#E5ECF6",
           "radialaxis": {
            "gridcolor": "white",
            "linecolor": "white",
            "ticks": ""
           }
          },
          "scene": {
           "xaxis": {
            "backgroundcolor": "#E5ECF6",
            "gridcolor": "white",
            "gridwidth": 2,
            "linecolor": "white",
            "showbackground": true,
            "ticks": "",
            "zerolinecolor": "white"
           },
           "yaxis": {
            "backgroundcolor": "#E5ECF6",
            "gridcolor": "white",
            "gridwidth": 2,
            "linecolor": "white",
            "showbackground": true,
            "ticks": "",
            "zerolinecolor": "white"
           },
           "zaxis": {
            "backgroundcolor": "#E5ECF6",
            "gridcolor": "white",
            "gridwidth": 2,
            "linecolor": "white",
            "showbackground": true,
            "ticks": "",
            "zerolinecolor": "white"
           }
          },
          "shapedefaults": {
           "line": {
            "color": "#2a3f5f"
           }
          },
          "ternary": {
           "aaxis": {
            "gridcolor": "white",
            "linecolor": "white",
            "ticks": ""
           },
           "baxis": {
            "gridcolor": "white",
            "linecolor": "white",
            "ticks": ""
           },
           "bgcolor": "#E5ECF6",
           "caxis": {
            "gridcolor": "white",
            "linecolor": "white",
            "ticks": ""
           }
          },
          "title": {
           "x": 0.05
          },
          "xaxis": {
           "automargin": true,
           "gridcolor": "white",
           "linecolor": "white",
           "ticks": "",
           "title": {
            "standoff": 15
           },
           "zerolinecolor": "white",
           "zerolinewidth": 2
          },
          "yaxis": {
           "automargin": true,
           "gridcolor": "white",
           "linecolor": "white",
           "ticks": "",
           "title": {
            "standoff": 15
           },
           "zerolinecolor": "white",
           "zerolinewidth": 2
          }
         }
        },
        "title": {
         "text": "plotly.colors.qualitative"
        },
        "xaxis": {
         "range": [
          -0.02,
          1.02
         ],
         "showgrid": false,
         "showticklabels": false
        }
       }
      },
      "text/html": [
       "<div>                            <div id=\"922aef5e-0d1f-48f9-a974-c8197b743286\" class=\"plotly-graph-div\" style=\"height:760px; width:100%;\"></div>            <script type=\"text/javascript\">                require([\"plotly\"], function(Plotly) {                    window.PLOTLYENV=window.PLOTLYENV || {};                                    if (document.getElementById(\"922aef5e-0d1f-48f9-a974-c8197b743286\")) {                    Plotly.newPlot(                        \"922aef5e-0d1f-48f9-a974-c8197b743286\",                        [{\"customdata\":[0,1,2,3,4,5,6,7,8,9,10],\"hovertemplate\":\"%{y}[%{customdata}] = %{marker.color}<extra></extra>\",\"marker\":{\"color\":[\"rgb(229, 134, 6)\",\"rgb(93, 105, 177)\",\"rgb(82, 188, 163)\",\"rgb(153, 201, 69)\",\"rgb(204, 97, 176)\",\"rgb(36, 121, 108)\",\"rgb(218, 165, 27)\",\"rgb(47, 138, 196)\",\"rgb(118, 78, 159)\",\"rgb(237, 100, 90)\",\"rgb(165, 170, 153)\"]},\"orientation\":\"h\",\"x\":[1,1,1,1,1,1,1,1,1,1,1],\"y\":[\"Vivid\",\"Vivid\",\"Vivid\",\"Vivid\",\"Vivid\",\"Vivid\",\"Vivid\",\"Vivid\",\"Vivid\",\"Vivid\",\"Vivid\"],\"type\":\"bar\"},{\"customdata\":[0,1,2,3,4,5,6,7,8,9,10],\"hovertemplate\":\"%{y}[%{customdata}] = %{marker.color}<extra></extra>\",\"marker\":{\"color\":[\"rgb(136, 204, 238)\",\"rgb(204, 102, 119)\",\"rgb(221, 204, 119)\",\"rgb(17, 119, 51)\",\"rgb(51, 34, 136)\",\"rgb(170, 68, 153)\",\"rgb(68, 170, 153)\",\"rgb(153, 153, 51)\",\"rgb(136, 34, 85)\",\"rgb(102, 17, 0)\",\"rgb(136, 136, 136)\"]},\"orientation\":\"h\",\"x\":[1,1,1,1,1,1,1,1,1,1,1],\"y\":[\"Safe\",\"Safe\",\"Safe\",\"Safe\",\"Safe\",\"Safe\",\"Safe\",\"Safe\",\"Safe\",\"Safe\",\"Safe\"],\"type\":\"bar\"},{\"customdata\":[0,1,2,3,4,5,6,7,8,9,10],\"hovertemplate\":\"%{y}[%{customdata}] = %{marker.color}<extra></extra>\",\"marker\":{\"color\":[\"rgb(95, 70, 144)\",\"rgb(29, 105, 150)\",\"rgb(56, 166, 165)\",\"rgb(15, 133, 84)\",\"rgb(115, 175, 72)\",\"rgb(237, 173, 8)\",\"rgb(225, 124, 5)\",\"rgb(204, 80, 62)\",\"rgb(148, 52, 110)\",\"rgb(111, 64, 112)\",\"rgb(102, 102, 102)\"]},\"orientation\":\"h\",\"x\":[1,1,1,1,1,1,1,1,1,1,1],\"y\":[\"Prism\",\"Prism\",\"Prism\",\"Prism\",\"Prism\",\"Prism\",\"Prism\",\"Prism\",\"Prism\",\"Prism\",\"Prism\"],\"type\":\"bar\"},{\"customdata\":[0,1,2,3,4,5,6,7,8,9,10],\"hovertemplate\":\"%{y}[%{customdata}] = %{marker.color}<extra></extra>\",\"marker\":{\"color\":[\"rgb(102, 197, 204)\",\"rgb(246, 207, 113)\",\"rgb(248, 156, 116)\",\"rgb(220, 176, 242)\",\"rgb(135, 197, 95)\",\"rgb(158, 185, 243)\",\"rgb(254, 136, 177)\",\"rgb(201, 219, 116)\",\"rgb(139, 224, 164)\",\"rgb(180, 151, 231)\",\"rgb(179, 179, 179)\"]},\"orientation\":\"h\",\"x\":[1,1,1,1,1,1,1,1,1,1,1],\"y\":[\"Pastel\",\"Pastel\",\"Pastel\",\"Pastel\",\"Pastel\",\"Pastel\",\"Pastel\",\"Pastel\",\"Pastel\",\"Pastel\",\"Pastel\"],\"type\":\"bar\"},{\"customdata\":[0,1,2,3,4,5,6,7,8,9,10],\"hovertemplate\":\"%{y}[%{customdata}] = %{marker.color}<extra></extra>\",\"marker\":{\"color\":[\"rgb(127, 60, 141)\",\"rgb(17, 165, 121)\",\"rgb(57, 105, 172)\",\"rgb(242, 183, 1)\",\"rgb(231, 63, 116)\",\"rgb(128, 186, 90)\",\"rgb(230, 131, 16)\",\"rgb(0, 134, 149)\",\"rgb(207, 28, 144)\",\"rgb(249, 123, 114)\",\"rgb(165, 170, 153)\"]},\"orientation\":\"h\",\"x\":[1,1,1,1,1,1,1,1,1,1,1],\"y\":[\"Bold\",\"Bold\",\"Bold\",\"Bold\",\"Bold\",\"Bold\",\"Bold\",\"Bold\",\"Bold\",\"Bold\",\"Bold\"],\"type\":\"bar\"},{\"customdata\":[0,1,2,3,4,5,6,7,8,9,10],\"hovertemplate\":\"%{y}[%{customdata}] = %{marker.color}<extra></extra>\",\"marker\":{\"color\":[\"rgb(133, 92, 117)\",\"rgb(217, 175, 107)\",\"rgb(175, 100, 88)\",\"rgb(115, 111, 76)\",\"rgb(82, 106, 131)\",\"rgb(98, 83, 119)\",\"rgb(104, 133, 92)\",\"rgb(156, 156, 94)\",\"rgb(160, 97, 119)\",\"rgb(140, 120, 93)\",\"rgb(124, 124, 124)\"]},\"orientation\":\"h\",\"x\":[1,1,1,1,1,1,1,1,1,1,1],\"y\":[\"Antique\",\"Antique\",\"Antique\",\"Antique\",\"Antique\",\"Antique\",\"Antique\",\"Antique\",\"Antique\",\"Antique\",\"Antique\"],\"type\":\"bar\"},{\"customdata\":[0,1,2,3,4,5,6,7,8,9,10,11],\"hovertemplate\":\"%{y}[%{customdata}] = %{marker.color}<extra></extra>\",\"marker\":{\"color\":[\"rgb(141,211,199)\",\"rgb(255,255,179)\",\"rgb(190,186,218)\",\"rgb(251,128,114)\",\"rgb(128,177,211)\",\"rgb(253,180,98)\",\"rgb(179,222,105)\",\"rgb(252,205,229)\",\"rgb(217,217,217)\",\"rgb(188,128,189)\",\"rgb(204,235,197)\",\"rgb(255,237,111)\"]},\"orientation\":\"h\",\"x\":[1,1,1,1,1,1,1,1,1,1,1,1],\"y\":[\"Set3\",\"Set3\",\"Set3\",\"Set3\",\"Set3\",\"Set3\",\"Set3\",\"Set3\",\"Set3\",\"Set3\",\"Set3\",\"Set3\"],\"type\":\"bar\"},{\"customdata\":[0,1,2,3,4,5,6,7],\"hovertemplate\":\"%{y}[%{customdata}] = %{marker.color}<extra></extra>\",\"marker\":{\"color\":[\"rgb(179,226,205)\",\"rgb(253,205,172)\",\"rgb(203,213,232)\",\"rgb(244,202,228)\",\"rgb(230,245,201)\",\"rgb(255,242,174)\",\"rgb(241,226,204)\",\"rgb(204,204,204)\"]},\"orientation\":\"h\",\"x\":[1,1,1,1,1,1,1,1],\"y\":[\"Pastel2\",\"Pastel2\",\"Pastel2\",\"Pastel2\",\"Pastel2\",\"Pastel2\",\"Pastel2\",\"Pastel2\"],\"type\":\"bar\"},{\"customdata\":[0,1,2,3,4,5,6,7],\"hovertemplate\":\"%{y}[%{customdata}] = %{marker.color}<extra></extra>\",\"marker\":{\"color\":[\"rgb(102,194,165)\",\"rgb(252,141,98)\",\"rgb(141,160,203)\",\"rgb(231,138,195)\",\"rgb(166,216,84)\",\"rgb(255,217,47)\",\"rgb(229,196,148)\",\"rgb(179,179,179)\"]},\"orientation\":\"h\",\"x\":[1,1,1,1,1,1,1,1],\"y\":[\"Set2\",\"Set2\",\"Set2\",\"Set2\",\"Set2\",\"Set2\",\"Set2\",\"Set2\"],\"type\":\"bar\"},{\"customdata\":[0,1,2,3,4,5,6,7],\"hovertemplate\":\"%{y}[%{customdata}] = %{marker.color}<extra></extra>\",\"marker\":{\"color\":[\"rgb(27,158,119)\",\"rgb(217,95,2)\",\"rgb(117,112,179)\",\"rgb(231,41,138)\",\"rgb(102,166,30)\",\"rgb(230,171,2)\",\"rgb(166,118,29)\",\"rgb(102,102,102)\"]},\"orientation\":\"h\",\"x\":[1,1,1,1,1,1,1,1],\"y\":[\"Dark2\",\"Dark2\",\"Dark2\",\"Dark2\",\"Dark2\",\"Dark2\",\"Dark2\",\"Dark2\"],\"type\":\"bar\"},{\"customdata\":[0,1,2,3,4,5,6,7,8],\"hovertemplate\":\"%{y}[%{customdata}] = %{marker.color}<extra></extra>\",\"marker\":{\"color\":[\"rgb(251,180,174)\",\"rgb(179,205,227)\",\"rgb(204,235,197)\",\"rgb(222,203,228)\",\"rgb(254,217,166)\",\"rgb(255,255,204)\",\"rgb(229,216,189)\",\"rgb(253,218,236)\",\"rgb(242,242,242)\"]},\"orientation\":\"h\",\"x\":[1,1,1,1,1,1,1,1,1],\"y\":[\"Pastel1\",\"Pastel1\",\"Pastel1\",\"Pastel1\",\"Pastel1\",\"Pastel1\",\"Pastel1\",\"Pastel1\",\"Pastel1\"],\"type\":\"bar\"},{\"customdata\":[0,1,2,3,4,5,6,7,8],\"hovertemplate\":\"%{y}[%{customdata}] = %{marker.color}<extra></extra>\",\"marker\":{\"color\":[\"rgb(228,26,28)\",\"rgb(55,126,184)\",\"rgb(77,175,74)\",\"rgb(152,78,163)\",\"rgb(255,127,0)\",\"rgb(255,255,51)\",\"rgb(166,86,40)\",\"rgb(247,129,191)\",\"rgb(153,153,153)\"]},\"orientation\":\"h\",\"x\":[1,1,1,1,1,1,1,1,1],\"y\":[\"Set1\",\"Set1\",\"Set1\",\"Set1\",\"Set1\",\"Set1\",\"Set1\",\"Set1\",\"Set1\"],\"type\":\"bar\"},{\"customdata\":[0,1,2,3,4,5,6,7,8,9,10,11,12,13,14,15,16,17,18,19,20,21,22,23],\"hovertemplate\":\"%{y}[%{customdata}] = %{marker.color}<extra></extra>\",\"marker\":{\"color\":[\"#FD3216\",\"#00FE35\",\"#6A76FC\",\"#FED4C4\",\"#FE00CE\",\"#0DF9FF\",\"#F6F926\",\"#FF9616\",\"#479B55\",\"#EEA6FB\",\"#DC587D\",\"#D626FF\",\"#6E899C\",\"#00B5F7\",\"#B68E00\",\"#C9FBE5\",\"#FF0092\",\"#22FFA7\",\"#E3EE9E\",\"#86CE00\",\"#BC7196\",\"#7E7DCD\",\"#FC6955\",\"#E48F72\"]},\"orientation\":\"h\",\"x\":[1,1,1,1,1,1,1,1,1,1,1,1,1,1,1,1,1,1,1,1,1,1,1,1],\"y\":[\"Light24\",\"Light24\",\"Light24\",\"Light24\",\"Light24\",\"Light24\",\"Light24\",\"Light24\",\"Light24\",\"Light24\",\"Light24\",\"Light24\",\"Light24\",\"Light24\",\"Light24\",\"Light24\",\"Light24\",\"Light24\",\"Light24\",\"Light24\",\"Light24\",\"Light24\",\"Light24\",\"Light24\"],\"type\":\"bar\"},{\"customdata\":[0,1,2,3,4,5,6,7,8,9,10,11,12,13,14,15,16,17,18,19,20,21,22,23],\"hovertemplate\":\"%{y}[%{customdata}] = %{marker.color}<extra></extra>\",\"marker\":{\"color\":[\"#2E91E5\",\"#E15F99\",\"#1CA71C\",\"#FB0D0D\",\"#DA16FF\",\"#222A2A\",\"#B68100\",\"#750D86\",\"#EB663B\",\"#511CFB\",\"#00A08B\",\"#FB00D1\",\"#FC0080\",\"#B2828D\",\"#6C7C32\",\"#778AAE\",\"#862A16\",\"#A777F1\",\"#620042\",\"#1616A7\",\"#DA60CA\",\"#6C4516\",\"#0D2A63\",\"#AF0038\"]},\"orientation\":\"h\",\"x\":[1,1,1,1,1,1,1,1,1,1,1,1,1,1,1,1,1,1,1,1,1,1,1,1],\"y\":[\"Dark24\",\"Dark24\",\"Dark24\",\"Dark24\",\"Dark24\",\"Dark24\",\"Dark24\",\"Dark24\",\"Dark24\",\"Dark24\",\"Dark24\",\"Dark24\",\"Dark24\",\"Dark24\",\"Dark24\",\"Dark24\",\"Dark24\",\"Dark24\",\"Dark24\",\"Dark24\",\"Dark24\",\"Dark24\",\"Dark24\",\"Dark24\"],\"type\":\"bar\"},{\"customdata\":[0,1,2,3,4,5,6,7,8,9,10,11,12,13,14,15,16,17,18,19,20,21,22,23,24,25],\"hovertemplate\":\"%{y}[%{customdata}] = %{marker.color}<extra></extra>\",\"marker\":{\"color\":[\"#AA0DFE\",\"#3283FE\",\"#85660D\",\"#782AB6\",\"#565656\",\"#1C8356\",\"#16FF32\",\"#F7E1A0\",\"#E2E2E2\",\"#1CBE4F\",\"#C4451C\",\"#DEA0FD\",\"#FE00FA\",\"#325A9B\",\"#FEAF16\",\"#F8A19F\",\"#90AD1C\",\"#F6222E\",\"#1CFFCE\",\"#2ED9FF\",\"#B10DA1\",\"#C075A6\",\"#FC1CBF\",\"#B00068\",\"#FBE426\",\"#FA0087\"]},\"orientation\":\"h\",\"x\":[1,1,1,1,1,1,1,1,1,1,1,1,1,1,1,1,1,1,1,1,1,1,1,1,1,1],\"y\":[\"Alphabet\",\"Alphabet\",\"Alphabet\",\"Alphabet\",\"Alphabet\",\"Alphabet\",\"Alphabet\",\"Alphabet\",\"Alphabet\",\"Alphabet\",\"Alphabet\",\"Alphabet\",\"Alphabet\",\"Alphabet\",\"Alphabet\",\"Alphabet\",\"Alphabet\",\"Alphabet\",\"Alphabet\",\"Alphabet\",\"Alphabet\",\"Alphabet\",\"Alphabet\",\"Alphabet\",\"Alphabet\",\"Alphabet\"],\"type\":\"bar\"},{\"customdata\":[0,1,2,3,4,5,6,7,8,9],\"hovertemplate\":\"%{y}[%{customdata}] = %{marker.color}<extra></extra>\",\"marker\":{\"color\":[\"#4C78A8\",\"#F58518\",\"#E45756\",\"#72B7B2\",\"#54A24B\",\"#EECA3B\",\"#B279A2\",\"#FF9DA6\",\"#9D755D\",\"#BAB0AC\"]},\"orientation\":\"h\",\"x\":[1,1,1,1,1,1,1,1,1,1],\"y\":[\"T10\",\"T10\",\"T10\",\"T10\",\"T10\",\"T10\",\"T10\",\"T10\",\"T10\",\"T10\"],\"type\":\"bar\"},{\"customdata\":[0,1,2,3,4,5,6,7,8,9],\"hovertemplate\":\"%{y}[%{customdata}] = %{marker.color}<extra></extra>\",\"marker\":{\"color\":[\"#3366CC\",\"#DC3912\",\"#FF9900\",\"#109618\",\"#990099\",\"#0099C6\",\"#DD4477\",\"#66AA00\",\"#B82E2E\",\"#316395\"]},\"orientation\":\"h\",\"x\":[1,1,1,1,1,1,1,1,1,1],\"y\":[\"G10\",\"G10\",\"G10\",\"G10\",\"G10\",\"G10\",\"G10\",\"G10\",\"G10\",\"G10\"],\"type\":\"bar\"},{\"customdata\":[0,1,2,3,4,5,6,7,8,9],\"hovertemplate\":\"%{y}[%{customdata}] = %{marker.color}<extra></extra>\",\"marker\":{\"color\":[\"#1F77B4\",\"#FF7F0E\",\"#2CA02C\",\"#D62728\",\"#9467BD\",\"#8C564B\",\"#E377C2\",\"#7F7F7F\",\"#BCBD22\",\"#17BECF\"]},\"orientation\":\"h\",\"x\":[1,1,1,1,1,1,1,1,1,1],\"y\":[\"D3\",\"D3\",\"D3\",\"D3\",\"D3\",\"D3\",\"D3\",\"D3\",\"D3\",\"D3\"],\"type\":\"bar\"},{\"customdata\":[0,1,2,3,4,5,6,7,8,9],\"hovertemplate\":\"%{y}[%{customdata}] = %{marker.color}<extra></extra>\",\"marker\":{\"color\":[\"#636EFA\",\"#EF553B\",\"#00CC96\",\"#AB63FA\",\"#FFA15A\",\"#19D3F3\",\"#FF6692\",\"#B6E880\",\"#FF97FF\",\"#FECB52\"]},\"orientation\":\"h\",\"x\":[1,1,1,1,1,1,1,1,1,1],\"y\":[\"Plotly\",\"Plotly\",\"Plotly\",\"Plotly\",\"Plotly\",\"Plotly\",\"Plotly\",\"Plotly\",\"Plotly\",\"Plotly\"],\"type\":\"bar\"}],                        {\"bargap\":0.5,\"barmode\":\"stack\",\"barnorm\":\"fraction\",\"height\":760,\"margin\":{\"b\":10},\"showlegend\":false,\"template\":{\"data\":{\"barpolar\":[{\"marker\":{\"line\":{\"color\":\"#E5ECF6\",\"width\":0.5},\"pattern\":{\"fillmode\":\"overlay\",\"size\":10,\"solidity\":0.2}},\"type\":\"barpolar\"}],\"bar\":[{\"error_x\":{\"color\":\"#2a3f5f\"},\"error_y\":{\"color\":\"#2a3f5f\"},\"marker\":{\"line\":{\"color\":\"#E5ECF6\",\"width\":0.5},\"pattern\":{\"fillmode\":\"overlay\",\"size\":10,\"solidity\":0.2}},\"type\":\"bar\"}],\"carpet\":[{\"aaxis\":{\"endlinecolor\":\"#2a3f5f\",\"gridcolor\":\"white\",\"linecolor\":\"white\",\"minorgridcolor\":\"white\",\"startlinecolor\":\"#2a3f5f\"},\"baxis\":{\"endlinecolor\":\"#2a3f5f\",\"gridcolor\":\"white\",\"linecolor\":\"white\",\"minorgridcolor\":\"white\",\"startlinecolor\":\"#2a3f5f\"},\"type\":\"carpet\"}],\"choropleth\":[{\"colorbar\":{\"outlinewidth\":0,\"ticks\":\"\"},\"type\":\"choropleth\"}],\"contourcarpet\":[{\"colorbar\":{\"outlinewidth\":0,\"ticks\":\"\"},\"type\":\"contourcarpet\"}],\"contour\":[{\"colorbar\":{\"outlinewidth\":0,\"ticks\":\"\"},\"colorscale\":[[0.0,\"#0d0887\"],[0.1111111111111111,\"#46039f\"],[0.2222222222222222,\"#7201a8\"],[0.3333333333333333,\"#9c179e\"],[0.4444444444444444,\"#bd3786\"],[0.5555555555555556,\"#d8576b\"],[0.6666666666666666,\"#ed7953\"],[0.7777777777777778,\"#fb9f3a\"],[0.8888888888888888,\"#fdca26\"],[1.0,\"#f0f921\"]],\"type\":\"contour\"}],\"heatmapgl\":[{\"colorbar\":{\"outlinewidth\":0,\"ticks\":\"\"},\"colorscale\":[[0.0,\"#0d0887\"],[0.1111111111111111,\"#46039f\"],[0.2222222222222222,\"#7201a8\"],[0.3333333333333333,\"#9c179e\"],[0.4444444444444444,\"#bd3786\"],[0.5555555555555556,\"#d8576b\"],[0.6666666666666666,\"#ed7953\"],[0.7777777777777778,\"#fb9f3a\"],[0.8888888888888888,\"#fdca26\"],[1.0,\"#f0f921\"]],\"type\":\"heatmapgl\"}],\"heatmap\":[{\"colorbar\":{\"outlinewidth\":0,\"ticks\":\"\"},\"colorscale\":[[0.0,\"#0d0887\"],[0.1111111111111111,\"#46039f\"],[0.2222222222222222,\"#7201a8\"],[0.3333333333333333,\"#9c179e\"],[0.4444444444444444,\"#bd3786\"],[0.5555555555555556,\"#d8576b\"],[0.6666666666666666,\"#ed7953\"],[0.7777777777777778,\"#fb9f3a\"],[0.8888888888888888,\"#fdca26\"],[1.0,\"#f0f921\"]],\"type\":\"heatmap\"}],\"histogram2dcontour\":[{\"colorbar\":{\"outlinewidth\":0,\"ticks\":\"\"},\"colorscale\":[[0.0,\"#0d0887\"],[0.1111111111111111,\"#46039f\"],[0.2222222222222222,\"#7201a8\"],[0.3333333333333333,\"#9c179e\"],[0.4444444444444444,\"#bd3786\"],[0.5555555555555556,\"#d8576b\"],[0.6666666666666666,\"#ed7953\"],[0.7777777777777778,\"#fb9f3a\"],[0.8888888888888888,\"#fdca26\"],[1.0,\"#f0f921\"]],\"type\":\"histogram2dcontour\"}],\"histogram2d\":[{\"colorbar\":{\"outlinewidth\":0,\"ticks\":\"\"},\"colorscale\":[[0.0,\"#0d0887\"],[0.1111111111111111,\"#46039f\"],[0.2222222222222222,\"#7201a8\"],[0.3333333333333333,\"#9c179e\"],[0.4444444444444444,\"#bd3786\"],[0.5555555555555556,\"#d8576b\"],[0.6666666666666666,\"#ed7953\"],[0.7777777777777778,\"#fb9f3a\"],[0.8888888888888888,\"#fdca26\"],[1.0,\"#f0f921\"]],\"type\":\"histogram2d\"}],\"histogram\":[{\"marker\":{\"pattern\":{\"fillmode\":\"overlay\",\"size\":10,\"solidity\":0.2}},\"type\":\"histogram\"}],\"mesh3d\":[{\"colorbar\":{\"outlinewidth\":0,\"ticks\":\"\"},\"type\":\"mesh3d\"}],\"parcoords\":[{\"line\":{\"colorbar\":{\"outlinewidth\":0,\"ticks\":\"\"}},\"type\":\"parcoords\"}],\"pie\":[{\"automargin\":true,\"type\":\"pie\"}],\"scatter3d\":[{\"line\":{\"colorbar\":{\"outlinewidth\":0,\"ticks\":\"\"}},\"marker\":{\"colorbar\":{\"outlinewidth\":0,\"ticks\":\"\"}},\"type\":\"scatter3d\"}],\"scattercarpet\":[{\"marker\":{\"colorbar\":{\"outlinewidth\":0,\"ticks\":\"\"}},\"type\":\"scattercarpet\"}],\"scattergeo\":[{\"marker\":{\"colorbar\":{\"outlinewidth\":0,\"ticks\":\"\"}},\"type\":\"scattergeo\"}],\"scattergl\":[{\"marker\":{\"colorbar\":{\"outlinewidth\":0,\"ticks\":\"\"}},\"type\":\"scattergl\"}],\"scattermapbox\":[{\"marker\":{\"colorbar\":{\"outlinewidth\":0,\"ticks\":\"\"}},\"type\":\"scattermapbox\"}],\"scatterpolargl\":[{\"marker\":{\"colorbar\":{\"outlinewidth\":0,\"ticks\":\"\"}},\"type\":\"scatterpolargl\"}],\"scatterpolar\":[{\"marker\":{\"colorbar\":{\"outlinewidth\":0,\"ticks\":\"\"}},\"type\":\"scatterpolar\"}],\"scatter\":[{\"fillpattern\":{\"fillmode\":\"overlay\",\"size\":10,\"solidity\":0.2},\"type\":\"scatter\"}],\"scatterternary\":[{\"marker\":{\"colorbar\":{\"outlinewidth\":0,\"ticks\":\"\"}},\"type\":\"scatterternary\"}],\"surface\":[{\"colorbar\":{\"outlinewidth\":0,\"ticks\":\"\"},\"colorscale\":[[0.0,\"#0d0887\"],[0.1111111111111111,\"#46039f\"],[0.2222222222222222,\"#7201a8\"],[0.3333333333333333,\"#9c179e\"],[0.4444444444444444,\"#bd3786\"],[0.5555555555555556,\"#d8576b\"],[0.6666666666666666,\"#ed7953\"],[0.7777777777777778,\"#fb9f3a\"],[0.8888888888888888,\"#fdca26\"],[1.0,\"#f0f921\"]],\"type\":\"surface\"}],\"table\":[{\"cells\":{\"fill\":{\"color\":\"#EBF0F8\"},\"line\":{\"color\":\"white\"}},\"header\":{\"fill\":{\"color\":\"#C8D4E3\"},\"line\":{\"color\":\"white\"}},\"type\":\"table\"}]},\"layout\":{\"annotationdefaults\":{\"arrowcolor\":\"#2a3f5f\",\"arrowhead\":0,\"arrowwidth\":1},\"autotypenumbers\":\"strict\",\"coloraxis\":{\"colorbar\":{\"outlinewidth\":0,\"ticks\":\"\"}},\"colorscale\":{\"diverging\":[[0,\"#8e0152\"],[0.1,\"#c51b7d\"],[0.2,\"#de77ae\"],[0.3,\"#f1b6da\"],[0.4,\"#fde0ef\"],[0.5,\"#f7f7f7\"],[0.6,\"#e6f5d0\"],[0.7,\"#b8e186\"],[0.8,\"#7fbc41\"],[0.9,\"#4d9221\"],[1,\"#276419\"]],\"sequential\":[[0.0,\"#0d0887\"],[0.1111111111111111,\"#46039f\"],[0.2222222222222222,\"#7201a8\"],[0.3333333333333333,\"#9c179e\"],[0.4444444444444444,\"#bd3786\"],[0.5555555555555556,\"#d8576b\"],[0.6666666666666666,\"#ed7953\"],[0.7777777777777778,\"#fb9f3a\"],[0.8888888888888888,\"#fdca26\"],[1.0,\"#f0f921\"]],\"sequentialminus\":[[0.0,\"#0d0887\"],[0.1111111111111111,\"#46039f\"],[0.2222222222222222,\"#7201a8\"],[0.3333333333333333,\"#9c179e\"],[0.4444444444444444,\"#bd3786\"],[0.5555555555555556,\"#d8576b\"],[0.6666666666666666,\"#ed7953\"],[0.7777777777777778,\"#fb9f3a\"],[0.8888888888888888,\"#fdca26\"],[1.0,\"#f0f921\"]]},\"colorway\":[\"#636efa\",\"#EF553B\",\"#00cc96\",\"#ab63fa\",\"#FFA15A\",\"#19d3f3\",\"#FF6692\",\"#B6E880\",\"#FF97FF\",\"#FECB52\"],\"font\":{\"color\":\"#2a3f5f\"},\"geo\":{\"bgcolor\":\"white\",\"lakecolor\":\"white\",\"landcolor\":\"#E5ECF6\",\"showlakes\":true,\"showland\":true,\"subunitcolor\":\"white\"},\"hoverlabel\":{\"align\":\"left\"},\"hovermode\":\"closest\",\"mapbox\":{\"style\":\"light\"},\"paper_bgcolor\":\"white\",\"plot_bgcolor\":\"#E5ECF6\",\"polar\":{\"angularaxis\":{\"gridcolor\":\"white\",\"linecolor\":\"white\",\"ticks\":\"\"},\"bgcolor\":\"#E5ECF6\",\"radialaxis\":{\"gridcolor\":\"white\",\"linecolor\":\"white\",\"ticks\":\"\"}},\"scene\":{\"xaxis\":{\"backgroundcolor\":\"#E5ECF6\",\"gridcolor\":\"white\",\"gridwidth\":2,\"linecolor\":\"white\",\"showbackground\":true,\"ticks\":\"\",\"zerolinecolor\":\"white\"},\"yaxis\":{\"backgroundcolor\":\"#E5ECF6\",\"gridcolor\":\"white\",\"gridwidth\":2,\"linecolor\":\"white\",\"showbackground\":true,\"ticks\":\"\",\"zerolinecolor\":\"white\"},\"zaxis\":{\"backgroundcolor\":\"#E5ECF6\",\"gridcolor\":\"white\",\"gridwidth\":2,\"linecolor\":\"white\",\"showbackground\":true,\"ticks\":\"\",\"zerolinecolor\":\"white\"}},\"shapedefaults\":{\"line\":{\"color\":\"#2a3f5f\"}},\"ternary\":{\"aaxis\":{\"gridcolor\":\"white\",\"linecolor\":\"white\",\"ticks\":\"\"},\"baxis\":{\"gridcolor\":\"white\",\"linecolor\":\"white\",\"ticks\":\"\"},\"bgcolor\":\"#E5ECF6\",\"caxis\":{\"gridcolor\":\"white\",\"linecolor\":\"white\",\"ticks\":\"\"}},\"title\":{\"x\":0.05},\"xaxis\":{\"automargin\":true,\"gridcolor\":\"white\",\"linecolor\":\"white\",\"ticks\":\"\",\"title\":{\"standoff\":15},\"zerolinecolor\":\"white\",\"zerolinewidth\":2},\"yaxis\":{\"automargin\":true,\"gridcolor\":\"white\",\"linecolor\":\"white\",\"ticks\":\"\",\"title\":{\"standoff\":15},\"zerolinecolor\":\"white\",\"zerolinewidth\":2}}},\"title\":{\"text\":\"plotly.colors.qualitative\"},\"xaxis\":{\"range\":[-0.02,1.02],\"showgrid\":false,\"showticklabels\":false}},                        {\"responsive\": true}                    ).then(function(){\n",
       "                            \n",
       "var gd = document.getElementById('922aef5e-0d1f-48f9-a974-c8197b743286');\n",
       "var x = new MutationObserver(function (mutations, observer) {{\n",
       "        var display = window.getComputedStyle(gd).display;\n",
       "        if (!display || display === 'none') {{\n",
       "            console.log([gd, 'removed!']);\n",
       "            Plotly.purge(gd);\n",
       "            observer.disconnect();\n",
       "        }}\n",
       "}});\n",
       "\n",
       "// Listen for the removal of the full notebook cells\n",
       "var notebookContainer = gd.closest('#notebook-container');\n",
       "if (notebookContainer) {{\n",
       "    x.observe(notebookContainer, {childList: true});\n",
       "}}\n",
       "\n",
       "// Listen for the clearing of the current output cell\n",
       "var outputEl = gd.closest('.output');\n",
       "if (outputEl) {{\n",
       "    x.observe(outputEl, {childList: true});\n",
       "}}\n",
       "\n",
       "                        })                };                });            </script>        </div>"
      ]
     },
     "metadata": {},
     "output_type": "display_data"
    }
   ],
   "source": [
    "plotly.colors.qualitative.swatches()"
   ]
  },
  {
   "cell_type": "code",
   "execution_count": 40,
   "id": "13bd5465",
   "metadata": {},
   "outputs": [
    {
     "data": {
      "text/plain": [
       "'rgb(179,226,205)'"
      ]
     },
     "execution_count": 40,
     "metadata": {},
     "output_type": "execute_result"
    }
   ],
   "source": [
    "plotly.colors.qualitative.Pastel2[0]"
   ]
  },
  {
   "cell_type": "markdown",
   "id": "6a11e3d7",
   "metadata": {},
   "source": [
    "# does z-transforming data affect the clustering? try on ten cell lines as sample."
   ]
  },
  {
   "cell_type": "code",
   "execution_count": 61,
   "id": "0bcb1443",
   "metadata": {},
   "outputs": [
    {
     "name": "stdout",
     "output_type": "stream",
     "text": [
      "Samples: 420, Proteins: 12755\n"
     ]
    },
    {
     "data": {
      "text/html": [
       "<div>\n",
       "<style scoped>\n",
       "    .dataframe tbody tr th:only-of-type {\n",
       "        vertical-align: middle;\n",
       "    }\n",
       "\n",
       "    .dataframe tbody tr th {\n",
       "        vertical-align: top;\n",
       "    }\n",
       "\n",
       "    .dataframe thead th {\n",
       "        text-align: right;\n",
       "    }\n",
       "</style>\n",
       "<table border=\"1\" class=\"dataframe\">\n",
       "  <thead>\n",
       "    <tr style=\"text-align: right;\">\n",
       "      <th></th>\n",
       "      <th>TenPx01_Peptides</th>\n",
       "      <th>TenPx02_Peptides</th>\n",
       "      <th>TenPx03_Peptides</th>\n",
       "      <th>TenPx04_Peptides</th>\n",
       "      <th>TenPx06_Peptides</th>\n",
       "      <th>TenPx07_Peptides</th>\n",
       "      <th>TenPx08_Peptides</th>\n",
       "      <th>TenPx09_Peptides</th>\n",
       "      <th>TenPx10_Peptides</th>\n",
       "      <th>TenPx11_Peptides</th>\n",
       "      <th>...</th>\n",
       "      <th>NCIH2030_LUNG_TenPx18</th>\n",
       "      <th>22RV1_PROSTATE_TenPx24</th>\n",
       "      <th>A172_CENTRAL_NERVOUS_SYSTEM_TenPx24</th>\n",
       "      <th>BT20_BREAST_TenPx24</th>\n",
       "      <th>CALU6_LUNG_TenPx24</th>\n",
       "      <th>FADU_UPPER_AERODIGESTIVE_TRACT_TenPx24</th>\n",
       "      <th>KP4_PANCREAS_TenPx24</th>\n",
       "      <th>MONOMAC6_HAEMATOPOIETIC_AND_LYMPHOID_TISSUE_TenPx24</th>\n",
       "      <th>OVCAR8_OVARY_TenPx24</th>\n",
       "      <th>THP1_HAEMATOPOIETIC_AND_LYMPHOID_TISSUE_TenPx24</th>\n",
       "    </tr>\n",
       "    <tr>\n",
       "      <th>Uniprot</th>\n",
       "      <th></th>\n",
       "      <th></th>\n",
       "      <th></th>\n",
       "      <th></th>\n",
       "      <th></th>\n",
       "      <th></th>\n",
       "      <th></th>\n",
       "      <th></th>\n",
       "      <th></th>\n",
       "      <th></th>\n",
       "      <th></th>\n",
       "      <th></th>\n",
       "      <th></th>\n",
       "      <th></th>\n",
       "      <th></th>\n",
       "      <th></th>\n",
       "      <th></th>\n",
       "      <th></th>\n",
       "      <th></th>\n",
       "      <th></th>\n",
       "      <th></th>\n",
       "    </tr>\n",
       "  </thead>\n",
       "  <tbody>\n",
       "    <tr>\n",
       "      <th>S12A2_HUMAN</th>\n",
       "      <td>41.0</td>\n",
       "      <td>16.0</td>\n",
       "      <td>23.0</td>\n",
       "      <td>59.0</td>\n",
       "      <td>44.0</td>\n",
       "      <td>54.0</td>\n",
       "      <td>28.0</td>\n",
       "      <td>48.0</td>\n",
       "      <td>26.0</td>\n",
       "      <td>28.0</td>\n",
       "      <td>...</td>\n",
       "      <td>-1.345024</td>\n",
       "      <td>1.811205</td>\n",
       "      <td>-0.921176</td>\n",
       "      <td>-1.045727</td>\n",
       "      <td>0.845574</td>\n",
       "      <td>-0.071063</td>\n",
       "      <td>0.702306</td>\n",
       "      <td>-1.395878</td>\n",
       "      <td>-1.165032</td>\n",
       "      <td>-0.547536</td>\n",
       "    </tr>\n",
       "    <tr>\n",
       "      <th>KDM1A_HUMAN</th>\n",
       "      <td>25.0</td>\n",
       "      <td>35.0</td>\n",
       "      <td>37.0</td>\n",
       "      <td>40.0</td>\n",
       "      <td>33.0</td>\n",
       "      <td>22.0</td>\n",
       "      <td>39.0</td>\n",
       "      <td>42.0</td>\n",
       "      <td>31.0</td>\n",
       "      <td>39.0</td>\n",
       "      <td>...</td>\n",
       "      <td>0.161196</td>\n",
       "      <td>-0.337994</td>\n",
       "      <td>-0.455601</td>\n",
       "      <td>0.392393</td>\n",
       "      <td>0.258380</td>\n",
       "      <td>-0.817245</td>\n",
       "      <td>-0.790010</td>\n",
       "      <td>0.929522</td>\n",
       "      <td>-0.828736</td>\n",
       "      <td>0.735431</td>\n",
       "    </tr>\n",
       "    <tr>\n",
       "      <th>SRP14_HUMAN</th>\n",
       "      <td>18.0</td>\n",
       "      <td>16.0</td>\n",
       "      <td>16.0</td>\n",
       "      <td>16.0</td>\n",
       "      <td>26.0</td>\n",
       "      <td>14.0</td>\n",
       "      <td>23.0</td>\n",
       "      <td>23.0</td>\n",
       "      <td>18.0</td>\n",
       "      <td>17.0</td>\n",
       "      <td>...</td>\n",
       "      <td>0.450496</td>\n",
       "      <td>0.543850</td>\n",
       "      <td>0.063200</td>\n",
       "      <td>-0.127283</td>\n",
       "      <td>0.452679</td>\n",
       "      <td>0.119898</td>\n",
       "      <td>-1.139911</td>\n",
       "      <td>-0.029949</td>\n",
       "      <td>-0.686840</td>\n",
       "      <td>0.705971</td>\n",
       "    </tr>\n",
       "    <tr>\n",
       "      <th>SOGA1_HUMAN</th>\n",
       "      <td>18.0</td>\n",
       "      <td>4.0</td>\n",
       "      <td>21.0</td>\n",
       "      <td>9.0</td>\n",
       "      <td>8.0</td>\n",
       "      <td>8.0</td>\n",
       "      <td>5.0</td>\n",
       "      <td>6.0</td>\n",
       "      <td>4.0</td>\n",
       "      <td>5.0</td>\n",
       "      <td>...</td>\n",
       "      <td>2.201796</td>\n",
       "      <td>0.734228</td>\n",
       "      <td>0.673423</td>\n",
       "      <td>0.532479</td>\n",
       "      <td>-0.357146</td>\n",
       "      <td>-0.400784</td>\n",
       "      <td>-0.107880</td>\n",
       "      <td>-0.912453</td>\n",
       "      <td>0.134896</td>\n",
       "      <td>-0.506988</td>\n",
       "    </tr>\n",
       "    <tr>\n",
       "      <th>NU133_HUMAN</th>\n",
       "      <td>44.0</td>\n",
       "      <td>46.0</td>\n",
       "      <td>40.0</td>\n",
       "      <td>47.0</td>\n",
       "      <td>33.0</td>\n",
       "      <td>34.0</td>\n",
       "      <td>45.0</td>\n",
       "      <td>46.0</td>\n",
       "      <td>36.0</td>\n",
       "      <td>58.0</td>\n",
       "      <td>...</td>\n",
       "      <td>-0.281659</td>\n",
       "      <td>-0.071718</td>\n",
       "      <td>-0.027059</td>\n",
       "      <td>0.190568</td>\n",
       "      <td>-0.221313</td>\n",
       "      <td>-0.741328</td>\n",
       "      <td>-0.313100</td>\n",
       "      <td>0.480380</td>\n",
       "      <td>-0.450290</td>\n",
       "      <td>-0.130408</td>\n",
       "    </tr>\n",
       "    <tr>\n",
       "      <th>...</th>\n",
       "      <td>...</td>\n",
       "      <td>...</td>\n",
       "      <td>...</td>\n",
       "      <td>...</td>\n",
       "      <td>...</td>\n",
       "      <td>...</td>\n",
       "      <td>...</td>\n",
       "      <td>...</td>\n",
       "      <td>...</td>\n",
       "      <td>...</td>\n",
       "      <td>...</td>\n",
       "      <td>...</td>\n",
       "      <td>...</td>\n",
       "      <td>...</td>\n",
       "      <td>...</td>\n",
       "      <td>...</td>\n",
       "      <td>...</td>\n",
       "      <td>...</td>\n",
       "      <td>...</td>\n",
       "      <td>...</td>\n",
       "      <td>...</td>\n",
       "    </tr>\n",
       "    <tr>\n",
       "      <th>NEXN_HUMAN</th>\n",
       "      <td>8.0</td>\n",
       "      <td>23.0</td>\n",
       "      <td>6.0</td>\n",
       "      <td>9.0</td>\n",
       "      <td>9.0</td>\n",
       "      <td>7.0</td>\n",
       "      <td>5.0</td>\n",
       "      <td>9.0</td>\n",
       "      <td>9.0</td>\n",
       "      <td>20.0</td>\n",
       "      <td>...</td>\n",
       "      <td>-1.327596</td>\n",
       "      <td>-1.177599</td>\n",
       "      <td>1.074479</td>\n",
       "      <td>-1.182501</td>\n",
       "      <td>-0.454794</td>\n",
       "      <td>-0.493886</td>\n",
       "      <td>0.955601</td>\n",
       "      <td>-0.929248</td>\n",
       "      <td>2.259293</td>\n",
       "      <td>-1.065651</td>\n",
       "    </tr>\n",
       "    <tr>\n",
       "      <th>RM18_HUMAN</th>\n",
       "      <td>6.0</td>\n",
       "      <td>8.0</td>\n",
       "      <td>8.0</td>\n",
       "      <td>8.0</td>\n",
       "      <td>9.0</td>\n",
       "      <td>5.0</td>\n",
       "      <td>6.0</td>\n",
       "      <td>9.0</td>\n",
       "      <td>6.0</td>\n",
       "      <td>7.0</td>\n",
       "      <td>...</td>\n",
       "      <td>-0.182147</td>\n",
       "      <td>1.497984</td>\n",
       "      <td>-0.335738</td>\n",
       "      <td>-0.201847</td>\n",
       "      <td>0.277680</td>\n",
       "      <td>0.006167</td>\n",
       "      <td>-0.100606</td>\n",
       "      <td>-0.277244</td>\n",
       "      <td>-0.535367</td>\n",
       "      <td>-0.381614</td>\n",
       "    </tr>\n",
       "    <tr>\n",
       "      <th>CJ032_HUMAN</th>\n",
       "      <td>4.0</td>\n",
       "      <td>3.0</td>\n",
       "      <td>2.0</td>\n",
       "      <td>2.0</td>\n",
       "      <td>2.0</td>\n",
       "      <td>1.0</td>\n",
       "      <td>7.0</td>\n",
       "      <td>4.0</td>\n",
       "      <td>1.0</td>\n",
       "      <td>2.0</td>\n",
       "      <td>...</td>\n",
       "      <td>0.476468</td>\n",
       "      <td>1.183973</td>\n",
       "      <td>-0.152809</td>\n",
       "      <td>-0.678893</td>\n",
       "      <td>0.407387</td>\n",
       "      <td>0.588836</td>\n",
       "      <td>1.611483</td>\n",
       "      <td>-0.509805</td>\n",
       "      <td>-0.487932</td>\n",
       "      <td>-0.468407</td>\n",
       "    </tr>\n",
       "    <tr>\n",
       "      <th>SF3B5_HUMAN</th>\n",
       "      <td>8.0</td>\n",
       "      <td>8.0</td>\n",
       "      <td>12.0</td>\n",
       "      <td>11.0</td>\n",
       "      <td>10.0</td>\n",
       "      <td>4.0</td>\n",
       "      <td>9.0</td>\n",
       "      <td>11.0</td>\n",
       "      <td>9.0</td>\n",
       "      <td>11.0</td>\n",
       "      <td>...</td>\n",
       "      <td>0.472792</td>\n",
       "      <td>0.762364</td>\n",
       "      <td>-0.641904</td>\n",
       "      <td>-0.077006</td>\n",
       "      <td>0.352773</td>\n",
       "      <td>0.973730</td>\n",
       "      <td>1.392937</td>\n",
       "      <td>-0.661874</td>\n",
       "      <td>0.036873</td>\n",
       "      <td>-0.945096</td>\n",
       "    </tr>\n",
       "    <tr>\n",
       "      <th>RM42_HUMAN</th>\n",
       "      <td>5.0</td>\n",
       "      <td>5.0</td>\n",
       "      <td>5.0</td>\n",
       "      <td>3.0</td>\n",
       "      <td>1.0</td>\n",
       "      <td>4.0</td>\n",
       "      <td>9.0</td>\n",
       "      <td>2.0</td>\n",
       "      <td>3.0</td>\n",
       "      <td>7.0</td>\n",
       "      <td>...</td>\n",
       "      <td>0.631988</td>\n",
       "      <td>1.212414</td>\n",
       "      <td>-0.735419</td>\n",
       "      <td>-1.069136</td>\n",
       "      <td>0.535871</td>\n",
       "      <td>1.083772</td>\n",
       "      <td>0.988600</td>\n",
       "      <td>-0.392276</td>\n",
       "      <td>-0.261739</td>\n",
       "      <td>-0.613091</td>\n",
       "    </tr>\n",
       "  </tbody>\n",
       "</table>\n",
       "<p>5153 rows × 420 columns</p>\n",
       "</div>"
      ],
      "text/plain": [
       "             TenPx01_Peptides  TenPx02_Peptides  TenPx03_Peptides  \\\n",
       "Uniprot                                                             \n",
       "S12A2_HUMAN              41.0              16.0              23.0   \n",
       "KDM1A_HUMAN              25.0              35.0              37.0   \n",
       "SRP14_HUMAN              18.0              16.0              16.0   \n",
       "SOGA1_HUMAN              18.0               4.0              21.0   \n",
       "NU133_HUMAN              44.0              46.0              40.0   \n",
       "...                       ...               ...               ...   \n",
       "NEXN_HUMAN                8.0              23.0               6.0   \n",
       "RM18_HUMAN                6.0               8.0               8.0   \n",
       "CJ032_HUMAN               4.0               3.0               2.0   \n",
       "SF3B5_HUMAN               8.0               8.0              12.0   \n",
       "RM42_HUMAN                5.0               5.0               5.0   \n",
       "\n",
       "             TenPx04_Peptides  TenPx06_Peptides  TenPx07_Peptides  \\\n",
       "Uniprot                                                             \n",
       "S12A2_HUMAN              59.0              44.0              54.0   \n",
       "KDM1A_HUMAN              40.0              33.0              22.0   \n",
       "SRP14_HUMAN              16.0              26.0              14.0   \n",
       "SOGA1_HUMAN               9.0               8.0               8.0   \n",
       "NU133_HUMAN              47.0              33.0              34.0   \n",
       "...                       ...               ...               ...   \n",
       "NEXN_HUMAN                9.0               9.0               7.0   \n",
       "RM18_HUMAN                8.0               9.0               5.0   \n",
       "CJ032_HUMAN               2.0               2.0               1.0   \n",
       "SF3B5_HUMAN              11.0              10.0               4.0   \n",
       "RM42_HUMAN                3.0               1.0               4.0   \n",
       "\n",
       "             TenPx08_Peptides  TenPx09_Peptides  TenPx10_Peptides  \\\n",
       "Uniprot                                                             \n",
       "S12A2_HUMAN              28.0              48.0              26.0   \n",
       "KDM1A_HUMAN              39.0              42.0              31.0   \n",
       "SRP14_HUMAN              23.0              23.0              18.0   \n",
       "SOGA1_HUMAN               5.0               6.0               4.0   \n",
       "NU133_HUMAN              45.0              46.0              36.0   \n",
       "...                       ...               ...               ...   \n",
       "NEXN_HUMAN                5.0               9.0               9.0   \n",
       "RM18_HUMAN                6.0               9.0               6.0   \n",
       "CJ032_HUMAN               7.0               4.0               1.0   \n",
       "SF3B5_HUMAN               9.0              11.0               9.0   \n",
       "RM42_HUMAN                9.0               2.0               3.0   \n",
       "\n",
       "             TenPx11_Peptides  ...  NCIH2030_LUNG_TenPx18  \\\n",
       "Uniprot                        ...                          \n",
       "S12A2_HUMAN              28.0  ...              -1.345024   \n",
       "KDM1A_HUMAN              39.0  ...               0.161196   \n",
       "SRP14_HUMAN              17.0  ...               0.450496   \n",
       "SOGA1_HUMAN               5.0  ...               2.201796   \n",
       "NU133_HUMAN              58.0  ...              -0.281659   \n",
       "...                       ...  ...                    ...   \n",
       "NEXN_HUMAN               20.0  ...              -1.327596   \n",
       "RM18_HUMAN                7.0  ...              -0.182147   \n",
       "CJ032_HUMAN               2.0  ...               0.476468   \n",
       "SF3B5_HUMAN              11.0  ...               0.472792   \n",
       "RM42_HUMAN                7.0  ...               0.631988   \n",
       "\n",
       "             22RV1_PROSTATE_TenPx24  A172_CENTRAL_NERVOUS_SYSTEM_TenPx24  \\\n",
       "Uniprot                                                                    \n",
       "S12A2_HUMAN                1.811205                            -0.921176   \n",
       "KDM1A_HUMAN               -0.337994                            -0.455601   \n",
       "SRP14_HUMAN                0.543850                             0.063200   \n",
       "SOGA1_HUMAN                0.734228                             0.673423   \n",
       "NU133_HUMAN               -0.071718                            -0.027059   \n",
       "...                             ...                                  ...   \n",
       "NEXN_HUMAN                -1.177599                             1.074479   \n",
       "RM18_HUMAN                 1.497984                            -0.335738   \n",
       "CJ032_HUMAN                1.183973                            -0.152809   \n",
       "SF3B5_HUMAN                0.762364                            -0.641904   \n",
       "RM42_HUMAN                 1.212414                            -0.735419   \n",
       "\n",
       "             BT20_BREAST_TenPx24  CALU6_LUNG_TenPx24  \\\n",
       "Uniprot                                                \n",
       "S12A2_HUMAN            -1.045727            0.845574   \n",
       "KDM1A_HUMAN             0.392393            0.258380   \n",
       "SRP14_HUMAN            -0.127283            0.452679   \n",
       "SOGA1_HUMAN             0.532479           -0.357146   \n",
       "NU133_HUMAN             0.190568           -0.221313   \n",
       "...                          ...                 ...   \n",
       "NEXN_HUMAN             -1.182501           -0.454794   \n",
       "RM18_HUMAN             -0.201847            0.277680   \n",
       "CJ032_HUMAN            -0.678893            0.407387   \n",
       "SF3B5_HUMAN            -0.077006            0.352773   \n",
       "RM42_HUMAN             -1.069136            0.535871   \n",
       "\n",
       "             FADU_UPPER_AERODIGESTIVE_TRACT_TenPx24  KP4_PANCREAS_TenPx24  \\\n",
       "Uniprot                                                                     \n",
       "S12A2_HUMAN                               -0.071063              0.702306   \n",
       "KDM1A_HUMAN                               -0.817245             -0.790010   \n",
       "SRP14_HUMAN                                0.119898             -1.139911   \n",
       "SOGA1_HUMAN                               -0.400784             -0.107880   \n",
       "NU133_HUMAN                               -0.741328             -0.313100   \n",
       "...                                             ...                   ...   \n",
       "NEXN_HUMAN                                -0.493886              0.955601   \n",
       "RM18_HUMAN                                 0.006167             -0.100606   \n",
       "CJ032_HUMAN                                0.588836              1.611483   \n",
       "SF3B5_HUMAN                                0.973730              1.392937   \n",
       "RM42_HUMAN                                 1.083772              0.988600   \n",
       "\n",
       "             MONOMAC6_HAEMATOPOIETIC_AND_LYMPHOID_TISSUE_TenPx24  \\\n",
       "Uniprot                                                            \n",
       "S12A2_HUMAN                                          -1.395878     \n",
       "KDM1A_HUMAN                                           0.929522     \n",
       "SRP14_HUMAN                                          -0.029949     \n",
       "SOGA1_HUMAN                                          -0.912453     \n",
       "NU133_HUMAN                                           0.480380     \n",
       "...                                                        ...     \n",
       "NEXN_HUMAN                                           -0.929248     \n",
       "RM18_HUMAN                                           -0.277244     \n",
       "CJ032_HUMAN                                          -0.509805     \n",
       "SF3B5_HUMAN                                          -0.661874     \n",
       "RM42_HUMAN                                           -0.392276     \n",
       "\n",
       "             OVCAR8_OVARY_TenPx24  \\\n",
       "Uniprot                             \n",
       "S12A2_HUMAN             -1.165032   \n",
       "KDM1A_HUMAN             -0.828736   \n",
       "SRP14_HUMAN             -0.686840   \n",
       "SOGA1_HUMAN              0.134896   \n",
       "NU133_HUMAN             -0.450290   \n",
       "...                           ...   \n",
       "NEXN_HUMAN               2.259293   \n",
       "RM18_HUMAN              -0.535367   \n",
       "CJ032_HUMAN             -0.487932   \n",
       "SF3B5_HUMAN              0.036873   \n",
       "RM42_HUMAN              -0.261739   \n",
       "\n",
       "             THP1_HAEMATOPOIETIC_AND_LYMPHOID_TISSUE_TenPx24  \n",
       "Uniprot                                                       \n",
       "S12A2_HUMAN                                        -0.547536  \n",
       "KDM1A_HUMAN                                         0.735431  \n",
       "SRP14_HUMAN                                         0.705971  \n",
       "SOGA1_HUMAN                                        -0.506988  \n",
       "NU133_HUMAN                                        -0.130408  \n",
       "...                                                      ...  \n",
       "NEXN_HUMAN                                         -1.065651  \n",
       "RM18_HUMAN                                         -0.381614  \n",
       "CJ032_HUMAN                                        -0.468407  \n",
       "SF3B5_HUMAN                                        -0.945096  \n",
       "RM42_HUMAN                                         -0.613091  \n",
       "\n",
       "[5153 rows x 420 columns]"
      ]
     },
     "execution_count": 61,
     "metadata": {},
     "output_type": "execute_result"
    }
   ],
   "source": [
    "data = pd.read_csv(r'/Users/katemeeson/Library/Mobile Documents/com~apple~CloudDocs/MRC-DTP_PhD_UoM/Datasets/Alternative datasets/CCLE proteomics/CCLE_all_cls_all_proteins.csv', index_col = [0])\n",
    "data = data.transpose()\n",
    "N, D = data.shape\n",
    "data = data.dropna(axis=1, how='any', thresh=None, subset=None, inplace=False)\n",
    "print('Samples: %s, Proteins: %s'%(N, D))\n",
    "data = data.transpose()\n",
    "data"
   ]
  },
  {
   "cell_type": "code",
   "execution_count": 62,
   "id": "1a223665",
   "metadata": {},
   "outputs": [
    {
     "data": {
      "text/html": [
       "<div>\n",
       "<style scoped>\n",
       "    .dataframe tbody tr th:only-of-type {\n",
       "        vertical-align: middle;\n",
       "    }\n",
       "\n",
       "    .dataframe tbody tr th {\n",
       "        vertical-align: top;\n",
       "    }\n",
       "\n",
       "    .dataframe thead th {\n",
       "        text-align: right;\n",
       "    }\n",
       "</style>\n",
       "<table border=\"1\" class=\"dataframe\">\n",
       "  <thead>\n",
       "    <tr style=\"text-align: right;\">\n",
       "      <th></th>\n",
       "      <th>MDAMB468_BREAST_TenPx01</th>\n",
       "      <th>SH4_SKIN_TenPx01</th>\n",
       "      <th>AU565_BREAST_TenPx01</th>\n",
       "      <th>KMRC1_KIDNEY_TenPx01</th>\n",
       "      <th>CAL51_BREAST_TenPx01</th>\n",
       "      <th>RPMI7951_SKIN_TenPx01</th>\n",
       "      <th>RERFLCMS_LUNG_TenPx01</th>\n",
       "      <th>IGR37_SKIN_TenPx01</th>\n",
       "      <th>VMRCRCW_KIDNEY_TenPx01</th>\n",
       "      <th>HEP3B217_LIVER_TenPx02</th>\n",
       "      <th>...</th>\n",
       "      <th>NCIH2030_LUNG_TenPx18</th>\n",
       "      <th>22RV1_PROSTATE_TenPx24</th>\n",
       "      <th>A172_CENTRAL_NERVOUS_SYSTEM_TenPx24</th>\n",
       "      <th>BT20_BREAST_TenPx24</th>\n",
       "      <th>CALU6_LUNG_TenPx24</th>\n",
       "      <th>FADU_UPPER_AERODIGESTIVE_TRACT_TenPx24</th>\n",
       "      <th>KP4_PANCREAS_TenPx24</th>\n",
       "      <th>MONOMAC6_HAEMATOPOIETIC_AND_LYMPHOID_TISSUE_TenPx24</th>\n",
       "      <th>OVCAR8_OVARY_TenPx24</th>\n",
       "      <th>THP1_HAEMATOPOIETIC_AND_LYMPHOID_TISSUE_TenPx24</th>\n",
       "    </tr>\n",
       "    <tr>\n",
       "      <th>Uniprot</th>\n",
       "      <th></th>\n",
       "      <th></th>\n",
       "      <th></th>\n",
       "      <th></th>\n",
       "      <th></th>\n",
       "      <th></th>\n",
       "      <th></th>\n",
       "      <th></th>\n",
       "      <th></th>\n",
       "      <th></th>\n",
       "      <th></th>\n",
       "      <th></th>\n",
       "      <th></th>\n",
       "      <th></th>\n",
       "      <th></th>\n",
       "      <th></th>\n",
       "      <th></th>\n",
       "      <th></th>\n",
       "      <th></th>\n",
       "      <th></th>\n",
       "      <th></th>\n",
       "    </tr>\n",
       "  </thead>\n",
       "  <tbody>\n",
       "    <tr>\n",
       "      <th>S12A2_HUMAN</th>\n",
       "      <td>2.111348</td>\n",
       "      <td>0.070468</td>\n",
       "      <td>-0.463928</td>\n",
       "      <td>-0.883645</td>\n",
       "      <td>0.788565</td>\n",
       "      <td>-0.912352</td>\n",
       "      <td>0.729167</td>\n",
       "      <td>-0.658213</td>\n",
       "      <td>-1.150653</td>\n",
       "      <td>0.008824</td>\n",
       "      <td>...</td>\n",
       "      <td>-1.345024</td>\n",
       "      <td>1.811205</td>\n",
       "      <td>-0.921176</td>\n",
       "      <td>-1.045727</td>\n",
       "      <td>0.845574</td>\n",
       "      <td>-0.071063</td>\n",
       "      <td>0.702306</td>\n",
       "      <td>-1.395878</td>\n",
       "      <td>-1.165032</td>\n",
       "      <td>-0.547536</td>\n",
       "    </tr>\n",
       "    <tr>\n",
       "      <th>KDM1A_HUMAN</th>\n",
       "      <td>0.379683</td>\n",
       "      <td>-0.283538</td>\n",
       "      <td>0.191211</td>\n",
       "      <td>-0.595606</td>\n",
       "      <td>0.391243</td>\n",
       "      <td>-0.381329</td>\n",
       "      <td>0.410168</td>\n",
       "      <td>0.066076</td>\n",
       "      <td>-0.324100</td>\n",
       "      <td>0.316569</td>\n",
       "      <td>...</td>\n",
       "      <td>0.161196</td>\n",
       "      <td>-0.337994</td>\n",
       "      <td>-0.455601</td>\n",
       "      <td>0.392393</td>\n",
       "      <td>0.258380</td>\n",
       "      <td>-0.817245</td>\n",
       "      <td>-0.790010</td>\n",
       "      <td>0.929522</td>\n",
       "      <td>-0.828736</td>\n",
       "      <td>0.735431</td>\n",
       "    </tr>\n",
       "    <tr>\n",
       "      <th>SRP14_HUMAN</th>\n",
       "      <td>-0.186838</td>\n",
       "      <td>0.197277</td>\n",
       "      <td>-0.409423</td>\n",
       "      <td>-0.070153</td>\n",
       "      <td>0.766739</td>\n",
       "      <td>-0.211540</td>\n",
       "      <td>-0.397926</td>\n",
       "      <td>0.522584</td>\n",
       "      <td>-0.485394</td>\n",
       "      <td>0.797195</td>\n",
       "      <td>...</td>\n",
       "      <td>0.450496</td>\n",
       "      <td>0.543850</td>\n",
       "      <td>0.063200</td>\n",
       "      <td>-0.127283</td>\n",
       "      <td>0.452679</td>\n",
       "      <td>0.119898</td>\n",
       "      <td>-1.139911</td>\n",
       "      <td>-0.029949</td>\n",
       "      <td>-0.686840</td>\n",
       "      <td>0.705971</td>\n",
       "    </tr>\n",
       "    <tr>\n",
       "      <th>SOGA1_HUMAN</th>\n",
       "      <td>0.059854</td>\n",
       "      <td>0.042464</td>\n",
       "      <td>0.035922</td>\n",
       "      <td>-0.064167</td>\n",
       "      <td>-0.250695</td>\n",
       "      <td>0.508383</td>\n",
       "      <td>-0.256835</td>\n",
       "      <td>-0.009917</td>\n",
       "      <td>0.006220</td>\n",
       "      <td>-0.203956</td>\n",
       "      <td>...</td>\n",
       "      <td>2.201796</td>\n",
       "      <td>0.734228</td>\n",
       "      <td>0.673423</td>\n",
       "      <td>0.532479</td>\n",
       "      <td>-0.357146</td>\n",
       "      <td>-0.400784</td>\n",
       "      <td>-0.107880</td>\n",
       "      <td>-0.912453</td>\n",
       "      <td>0.134896</td>\n",
       "      <td>-0.506988</td>\n",
       "    </tr>\n",
       "    <tr>\n",
       "      <th>NU133_HUMAN</th>\n",
       "      <td>-0.146176</td>\n",
       "      <td>-0.183708</td>\n",
       "      <td>-0.080056</td>\n",
       "      <td>-0.195807</td>\n",
       "      <td>0.513984</td>\n",
       "      <td>-0.153855</td>\n",
       "      <td>0.262219</td>\n",
       "      <td>-0.011067</td>\n",
       "      <td>-0.106575</td>\n",
       "      <td>0.386701</td>\n",
       "      <td>...</td>\n",
       "      <td>-0.281659</td>\n",
       "      <td>-0.071718</td>\n",
       "      <td>-0.027059</td>\n",
       "      <td>0.190568</td>\n",
       "      <td>-0.221313</td>\n",
       "      <td>-0.741328</td>\n",
       "      <td>-0.313100</td>\n",
       "      <td>0.480380</td>\n",
       "      <td>-0.450290</td>\n",
       "      <td>-0.130408</td>\n",
       "    </tr>\n",
       "    <tr>\n",
       "      <th>...</th>\n",
       "      <td>...</td>\n",
       "      <td>...</td>\n",
       "      <td>...</td>\n",
       "      <td>...</td>\n",
       "      <td>...</td>\n",
       "      <td>...</td>\n",
       "      <td>...</td>\n",
       "      <td>...</td>\n",
       "      <td>...</td>\n",
       "      <td>...</td>\n",
       "      <td>...</td>\n",
       "      <td>...</td>\n",
       "      <td>...</td>\n",
       "      <td>...</td>\n",
       "      <td>...</td>\n",
       "      <td>...</td>\n",
       "      <td>...</td>\n",
       "      <td>...</td>\n",
       "      <td>...</td>\n",
       "      <td>...</td>\n",
       "      <td>...</td>\n",
       "    </tr>\n",
       "    <tr>\n",
       "      <th>NEXN_HUMAN</th>\n",
       "      <td>-0.976917</td>\n",
       "      <td>-1.457410</td>\n",
       "      <td>-0.993017</td>\n",
       "      <td>1.258161</td>\n",
       "      <td>0.388330</td>\n",
       "      <td>1.744320</td>\n",
       "      <td>-1.320298</td>\n",
       "      <td>-1.263527</td>\n",
       "      <td>1.623336</td>\n",
       "      <td>-0.769018</td>\n",
       "      <td>...</td>\n",
       "      <td>-1.327596</td>\n",
       "      <td>-1.177599</td>\n",
       "      <td>1.074479</td>\n",
       "      <td>-1.182501</td>\n",
       "      <td>-0.454794</td>\n",
       "      <td>-0.493886</td>\n",
       "      <td>0.955601</td>\n",
       "      <td>-0.929248</td>\n",
       "      <td>2.259293</td>\n",
       "      <td>-1.065651</td>\n",
       "    </tr>\n",
       "    <tr>\n",
       "      <th>RM18_HUMAN</th>\n",
       "      <td>-0.078762</td>\n",
       "      <td>0.176580</td>\n",
       "      <td>0.293515</td>\n",
       "      <td>-0.342146</td>\n",
       "      <td>-0.114302</td>\n",
       "      <td>-0.447373</td>\n",
       "      <td>0.605664</td>\n",
       "      <td>-0.103514</td>\n",
       "      <td>-0.078751</td>\n",
       "      <td>-0.037443</td>\n",
       "      <td>...</td>\n",
       "      <td>-0.182147</td>\n",
       "      <td>1.497984</td>\n",
       "      <td>-0.335738</td>\n",
       "      <td>-0.201847</td>\n",
       "      <td>0.277680</td>\n",
       "      <td>0.006167</td>\n",
       "      <td>-0.100606</td>\n",
       "      <td>-0.277244</td>\n",
       "      <td>-0.535367</td>\n",
       "      <td>-0.381614</td>\n",
       "    </tr>\n",
       "    <tr>\n",
       "      <th>CJ032_HUMAN</th>\n",
       "      <td>-0.330626</td>\n",
       "      <td>0.368040</td>\n",
       "      <td>-0.856616</td>\n",
       "      <td>0.171847</td>\n",
       "      <td>0.201265</td>\n",
       "      <td>-0.109170</td>\n",
       "      <td>0.363877</td>\n",
       "      <td>0.025623</td>\n",
       "      <td>-0.084479</td>\n",
       "      <td>0.509927</td>\n",
       "      <td>...</td>\n",
       "      <td>0.476468</td>\n",
       "      <td>1.183973</td>\n",
       "      <td>-0.152809</td>\n",
       "      <td>-0.678893</td>\n",
       "      <td>0.407387</td>\n",
       "      <td>0.588836</td>\n",
       "      <td>1.611483</td>\n",
       "      <td>-0.509805</td>\n",
       "      <td>-0.487932</td>\n",
       "      <td>-0.468407</td>\n",
       "    </tr>\n",
       "    <tr>\n",
       "      <th>SF3B5_HUMAN</th>\n",
       "      <td>0.304715</td>\n",
       "      <td>-0.174971</td>\n",
       "      <td>-0.277952</td>\n",
       "      <td>-0.469880</td>\n",
       "      <td>0.376778</td>\n",
       "      <td>0.192240</td>\n",
       "      <td>0.342522</td>\n",
       "      <td>0.311958</td>\n",
       "      <td>-1.030071</td>\n",
       "      <td>0.155741</td>\n",
       "      <td>...</td>\n",
       "      <td>0.472792</td>\n",
       "      <td>0.762364</td>\n",
       "      <td>-0.641904</td>\n",
       "      <td>-0.077006</td>\n",
       "      <td>0.352773</td>\n",
       "      <td>0.973730</td>\n",
       "      <td>1.392937</td>\n",
       "      <td>-0.661874</td>\n",
       "      <td>0.036873</td>\n",
       "      <td>-0.945096</td>\n",
       "    </tr>\n",
       "    <tr>\n",
       "      <th>RM42_HUMAN</th>\n",
       "      <td>-0.343869</td>\n",
       "      <td>-0.017864</td>\n",
       "      <td>0.226371</td>\n",
       "      <td>-0.576579</td>\n",
       "      <td>-0.123126</td>\n",
       "      <td>-0.275291</td>\n",
       "      <td>0.904395</td>\n",
       "      <td>-0.315775</td>\n",
       "      <td>0.139530</td>\n",
       "      <td>0.055445</td>\n",
       "      <td>...</td>\n",
       "      <td>0.631988</td>\n",
       "      <td>1.212414</td>\n",
       "      <td>-0.735419</td>\n",
       "      <td>-1.069136</td>\n",
       "      <td>0.535871</td>\n",
       "      <td>1.083772</td>\n",
       "      <td>0.988600</td>\n",
       "      <td>-0.392276</td>\n",
       "      <td>-0.261739</td>\n",
       "      <td>-0.613091</td>\n",
       "    </tr>\n",
       "  </tbody>\n",
       "</table>\n",
       "<p>5153 rows × 378 columns</p>\n",
       "</div>"
      ],
      "text/plain": [
       "             MDAMB468_BREAST_TenPx01  SH4_SKIN_TenPx01  AU565_BREAST_TenPx01  \\\n",
       "Uniprot                                                                        \n",
       "S12A2_HUMAN                 2.111348          0.070468             -0.463928   \n",
       "KDM1A_HUMAN                 0.379683         -0.283538              0.191211   \n",
       "SRP14_HUMAN                -0.186838          0.197277             -0.409423   \n",
       "SOGA1_HUMAN                 0.059854          0.042464              0.035922   \n",
       "NU133_HUMAN                -0.146176         -0.183708             -0.080056   \n",
       "...                              ...               ...                   ...   \n",
       "NEXN_HUMAN                 -0.976917         -1.457410             -0.993017   \n",
       "RM18_HUMAN                 -0.078762          0.176580              0.293515   \n",
       "CJ032_HUMAN                -0.330626          0.368040             -0.856616   \n",
       "SF3B5_HUMAN                 0.304715         -0.174971             -0.277952   \n",
       "RM42_HUMAN                 -0.343869         -0.017864              0.226371   \n",
       "\n",
       "             KMRC1_KIDNEY_TenPx01  CAL51_BREAST_TenPx01  \\\n",
       "Uniprot                                                   \n",
       "S12A2_HUMAN             -0.883645              0.788565   \n",
       "KDM1A_HUMAN             -0.595606              0.391243   \n",
       "SRP14_HUMAN             -0.070153              0.766739   \n",
       "SOGA1_HUMAN             -0.064167             -0.250695   \n",
       "NU133_HUMAN             -0.195807              0.513984   \n",
       "...                           ...                   ...   \n",
       "NEXN_HUMAN               1.258161              0.388330   \n",
       "RM18_HUMAN              -0.342146             -0.114302   \n",
       "CJ032_HUMAN              0.171847              0.201265   \n",
       "SF3B5_HUMAN             -0.469880              0.376778   \n",
       "RM42_HUMAN              -0.576579             -0.123126   \n",
       "\n",
       "             RPMI7951_SKIN_TenPx01  RERFLCMS_LUNG_TenPx01  IGR37_SKIN_TenPx01  \\\n",
       "Uniprot                                                                         \n",
       "S12A2_HUMAN              -0.912352               0.729167           -0.658213   \n",
       "KDM1A_HUMAN              -0.381329               0.410168            0.066076   \n",
       "SRP14_HUMAN              -0.211540              -0.397926            0.522584   \n",
       "SOGA1_HUMAN               0.508383              -0.256835           -0.009917   \n",
       "NU133_HUMAN              -0.153855               0.262219           -0.011067   \n",
       "...                            ...                    ...                 ...   \n",
       "NEXN_HUMAN                1.744320              -1.320298           -1.263527   \n",
       "RM18_HUMAN               -0.447373               0.605664           -0.103514   \n",
       "CJ032_HUMAN              -0.109170               0.363877            0.025623   \n",
       "SF3B5_HUMAN               0.192240               0.342522            0.311958   \n",
       "RM42_HUMAN               -0.275291               0.904395           -0.315775   \n",
       "\n",
       "             VMRCRCW_KIDNEY_TenPx01  HEP3B217_LIVER_TenPx02  ...  \\\n",
       "Uniprot                                                      ...   \n",
       "S12A2_HUMAN               -1.150653                0.008824  ...   \n",
       "KDM1A_HUMAN               -0.324100                0.316569  ...   \n",
       "SRP14_HUMAN               -0.485394                0.797195  ...   \n",
       "SOGA1_HUMAN                0.006220               -0.203956  ...   \n",
       "NU133_HUMAN               -0.106575                0.386701  ...   \n",
       "...                             ...                     ...  ...   \n",
       "NEXN_HUMAN                 1.623336               -0.769018  ...   \n",
       "RM18_HUMAN                -0.078751               -0.037443  ...   \n",
       "CJ032_HUMAN               -0.084479                0.509927  ...   \n",
       "SF3B5_HUMAN               -1.030071                0.155741  ...   \n",
       "RM42_HUMAN                 0.139530                0.055445  ...   \n",
       "\n",
       "             NCIH2030_LUNG_TenPx18  22RV1_PROSTATE_TenPx24  \\\n",
       "Uniprot                                                      \n",
       "S12A2_HUMAN              -1.345024                1.811205   \n",
       "KDM1A_HUMAN               0.161196               -0.337994   \n",
       "SRP14_HUMAN               0.450496                0.543850   \n",
       "SOGA1_HUMAN               2.201796                0.734228   \n",
       "NU133_HUMAN              -0.281659               -0.071718   \n",
       "...                            ...                     ...   \n",
       "NEXN_HUMAN               -1.327596               -1.177599   \n",
       "RM18_HUMAN               -0.182147                1.497984   \n",
       "CJ032_HUMAN               0.476468                1.183973   \n",
       "SF3B5_HUMAN               0.472792                0.762364   \n",
       "RM42_HUMAN                0.631988                1.212414   \n",
       "\n",
       "             A172_CENTRAL_NERVOUS_SYSTEM_TenPx24  BT20_BREAST_TenPx24  \\\n",
       "Uniprot                                                                 \n",
       "S12A2_HUMAN                            -0.921176            -1.045727   \n",
       "KDM1A_HUMAN                            -0.455601             0.392393   \n",
       "SRP14_HUMAN                             0.063200            -0.127283   \n",
       "SOGA1_HUMAN                             0.673423             0.532479   \n",
       "NU133_HUMAN                            -0.027059             0.190568   \n",
       "...                                          ...                  ...   \n",
       "NEXN_HUMAN                              1.074479            -1.182501   \n",
       "RM18_HUMAN                             -0.335738            -0.201847   \n",
       "CJ032_HUMAN                            -0.152809            -0.678893   \n",
       "SF3B5_HUMAN                            -0.641904            -0.077006   \n",
       "RM42_HUMAN                             -0.735419            -1.069136   \n",
       "\n",
       "             CALU6_LUNG_TenPx24  FADU_UPPER_AERODIGESTIVE_TRACT_TenPx24  \\\n",
       "Uniprot                                                                   \n",
       "S12A2_HUMAN            0.845574                               -0.071063   \n",
       "KDM1A_HUMAN            0.258380                               -0.817245   \n",
       "SRP14_HUMAN            0.452679                                0.119898   \n",
       "SOGA1_HUMAN           -0.357146                               -0.400784   \n",
       "NU133_HUMAN           -0.221313                               -0.741328   \n",
       "...                         ...                                     ...   \n",
       "NEXN_HUMAN            -0.454794                               -0.493886   \n",
       "RM18_HUMAN             0.277680                                0.006167   \n",
       "CJ032_HUMAN            0.407387                                0.588836   \n",
       "SF3B5_HUMAN            0.352773                                0.973730   \n",
       "RM42_HUMAN             0.535871                                1.083772   \n",
       "\n",
       "             KP4_PANCREAS_TenPx24  \\\n",
       "Uniprot                             \n",
       "S12A2_HUMAN              0.702306   \n",
       "KDM1A_HUMAN             -0.790010   \n",
       "SRP14_HUMAN             -1.139911   \n",
       "SOGA1_HUMAN             -0.107880   \n",
       "NU133_HUMAN             -0.313100   \n",
       "...                           ...   \n",
       "NEXN_HUMAN               0.955601   \n",
       "RM18_HUMAN              -0.100606   \n",
       "CJ032_HUMAN              1.611483   \n",
       "SF3B5_HUMAN              1.392937   \n",
       "RM42_HUMAN               0.988600   \n",
       "\n",
       "             MONOMAC6_HAEMATOPOIETIC_AND_LYMPHOID_TISSUE_TenPx24  \\\n",
       "Uniprot                                                            \n",
       "S12A2_HUMAN                                          -1.395878     \n",
       "KDM1A_HUMAN                                           0.929522     \n",
       "SRP14_HUMAN                                          -0.029949     \n",
       "SOGA1_HUMAN                                          -0.912453     \n",
       "NU133_HUMAN                                           0.480380     \n",
       "...                                                        ...     \n",
       "NEXN_HUMAN                                           -0.929248     \n",
       "RM18_HUMAN                                           -0.277244     \n",
       "CJ032_HUMAN                                          -0.509805     \n",
       "SF3B5_HUMAN                                          -0.661874     \n",
       "RM42_HUMAN                                           -0.392276     \n",
       "\n",
       "             OVCAR8_OVARY_TenPx24  \\\n",
       "Uniprot                             \n",
       "S12A2_HUMAN             -1.165032   \n",
       "KDM1A_HUMAN             -0.828736   \n",
       "SRP14_HUMAN             -0.686840   \n",
       "SOGA1_HUMAN              0.134896   \n",
       "NU133_HUMAN             -0.450290   \n",
       "...                           ...   \n",
       "NEXN_HUMAN               2.259293   \n",
       "RM18_HUMAN              -0.535367   \n",
       "CJ032_HUMAN             -0.487932   \n",
       "SF3B5_HUMAN              0.036873   \n",
       "RM42_HUMAN              -0.261739   \n",
       "\n",
       "             THP1_HAEMATOPOIETIC_AND_LYMPHOID_TISSUE_TenPx24  \n",
       "Uniprot                                                       \n",
       "S12A2_HUMAN                                        -0.547536  \n",
       "KDM1A_HUMAN                                         0.735431  \n",
       "SRP14_HUMAN                                         0.705971  \n",
       "SOGA1_HUMAN                                        -0.506988  \n",
       "NU133_HUMAN                                        -0.130408  \n",
       "...                                                      ...  \n",
       "NEXN_HUMAN                                         -1.065651  \n",
       "RM18_HUMAN                                         -0.381614  \n",
       "CJ032_HUMAN                                        -0.468407  \n",
       "SF3B5_HUMAN                                        -0.945096  \n",
       "RM42_HUMAN                                         -0.613091  \n",
       "\n",
       "[5153 rows x 378 columns]"
      ]
     },
     "execution_count": 62,
     "metadata": {},
     "output_type": "execute_result"
    }
   ],
   "source": [
    "data_2 = data.iloc[0:5153, 42:462]\n",
    "data_2"
   ]
  },
  {
   "cell_type": "code",
   "execution_count": 78,
   "id": "8f4a96e8",
   "metadata": {},
   "outputs": [],
   "source": [
    "col = 'HEP3B217_LIVER_TenPx02'\n",
    "data_2['z_score_HEP3B217_LIVER_TenPx02'] = (data_2[col]-data_2[col].mean())/data_2[col].std()"
   ]
  },
  {
   "cell_type": "code",
   "execution_count": 79,
   "id": "08c0a962",
   "metadata": {},
   "outputs": [
    {
     "data": {
      "text/html": [
       "<div>\n",
       "<style scoped>\n",
       "    .dataframe tbody tr th:only-of-type {\n",
       "        vertical-align: middle;\n",
       "    }\n",
       "\n",
       "    .dataframe tbody tr th {\n",
       "        vertical-align: top;\n",
       "    }\n",
       "\n",
       "    .dataframe thead th {\n",
       "        text-align: right;\n",
       "    }\n",
       "</style>\n",
       "<table border=\"1\" class=\"dataframe\">\n",
       "  <thead>\n",
       "    <tr style=\"text-align: right;\">\n",
       "      <th></th>\n",
       "      <th>MDAMB468_BREAST_TenPx01</th>\n",
       "      <th>SH4_SKIN_TenPx01</th>\n",
       "      <th>AU565_BREAST_TenPx01</th>\n",
       "      <th>KMRC1_KIDNEY_TenPx01</th>\n",
       "      <th>CAL51_BREAST_TenPx01</th>\n",
       "      <th>RPMI7951_SKIN_TenPx01</th>\n",
       "      <th>RERFLCMS_LUNG_TenPx01</th>\n",
       "      <th>IGR37_SKIN_TenPx01</th>\n",
       "      <th>VMRCRCW_KIDNEY_TenPx01</th>\n",
       "      <th>HEP3B217_LIVER_TenPx02</th>\n",
       "      <th>...</th>\n",
       "      <th>z_score_MDAMB468_BREAST_TenPx01</th>\n",
       "      <th>z_score_SH4_SKIN_TenPx01</th>\n",
       "      <th>z_score_AU565_BREAST_TenPx01</th>\n",
       "      <th>z_score_KMRC1_KIDNEY_TenPx01</th>\n",
       "      <th>z_score_CAL51_BREAST_TenPx01</th>\n",
       "      <th>z_score_RPMI7951_SKIN_TenPx01</th>\n",
       "      <th>z_score_RERFLCMS_LUNG_TenPx01</th>\n",
       "      <th>z_score_IGR37_SKIN_TenPx01</th>\n",
       "      <th>z_score_VMRCRCW_KIDNEY_TenPx01</th>\n",
       "      <th>z_score_HEP3B217_LIVER_TenPx02</th>\n",
       "    </tr>\n",
       "    <tr>\n",
       "      <th>Uniprot</th>\n",
       "      <th></th>\n",
       "      <th></th>\n",
       "      <th></th>\n",
       "      <th></th>\n",
       "      <th></th>\n",
       "      <th></th>\n",
       "      <th></th>\n",
       "      <th></th>\n",
       "      <th></th>\n",
       "      <th></th>\n",
       "      <th></th>\n",
       "      <th></th>\n",
       "      <th></th>\n",
       "      <th></th>\n",
       "      <th></th>\n",
       "      <th></th>\n",
       "      <th></th>\n",
       "      <th></th>\n",
       "      <th></th>\n",
       "      <th></th>\n",
       "      <th></th>\n",
       "    </tr>\n",
       "  </thead>\n",
       "  <tbody>\n",
       "    <tr>\n",
       "      <th>S12A2_HUMAN</th>\n",
       "      <td>2.111348</td>\n",
       "      <td>0.070468</td>\n",
       "      <td>-0.463928</td>\n",
       "      <td>-0.883645</td>\n",
       "      <td>0.788565</td>\n",
       "      <td>-0.912352</td>\n",
       "      <td>0.729167</td>\n",
       "      <td>-0.658213</td>\n",
       "      <td>-1.150653</td>\n",
       "      <td>0.008824</td>\n",
       "      <td>...</td>\n",
       "      <td>3.794847</td>\n",
       "      <td>0.123750</td>\n",
       "      <td>-0.675694</td>\n",
       "      <td>-1.484566</td>\n",
       "      <td>1.526568</td>\n",
       "      <td>-1.946138</td>\n",
       "      <td>1.580157</td>\n",
       "      <td>-1.362117</td>\n",
       "      <td>-2.088900</td>\n",
       "      <td>0.078007</td>\n",
       "    </tr>\n",
       "    <tr>\n",
       "      <th>KDM1A_HUMAN</th>\n",
       "      <td>0.379683</td>\n",
       "      <td>-0.283538</td>\n",
       "      <td>0.191211</td>\n",
       "      <td>-0.595606</td>\n",
       "      <td>0.391243</td>\n",
       "      <td>-0.381329</td>\n",
       "      <td>0.410168</td>\n",
       "      <td>0.066076</td>\n",
       "      <td>-0.324100</td>\n",
       "      <td>0.316569</td>\n",
       "      <td>...</td>\n",
       "      <td>0.636807</td>\n",
       "      <td>-0.545590</td>\n",
       "      <td>0.394586</td>\n",
       "      <td>-0.946680</td>\n",
       "      <td>0.717043</td>\n",
       "      <td>-0.770347</td>\n",
       "      <td>0.871469</td>\n",
       "      <td>0.084818</td>\n",
       "      <td>-0.485602</td>\n",
       "      <td>0.589467</td>\n",
       "    </tr>\n",
       "    <tr>\n",
       "      <th>SRP14_HUMAN</th>\n",
       "      <td>-0.186838</td>\n",
       "      <td>0.197277</td>\n",
       "      <td>-0.409423</td>\n",
       "      <td>-0.070153</td>\n",
       "      <td>0.766739</td>\n",
       "      <td>-0.211540</td>\n",
       "      <td>-0.397926</td>\n",
       "      <td>0.522584</td>\n",
       "      <td>-0.485394</td>\n",
       "      <td>0.797195</td>\n",
       "      <td>...</td>\n",
       "      <td>-0.396358</td>\n",
       "      <td>0.363515</td>\n",
       "      <td>-0.586652</td>\n",
       "      <td>0.034550</td>\n",
       "      <td>1.482097</td>\n",
       "      <td>-0.394399</td>\n",
       "      <td>-0.923793</td>\n",
       "      <td>0.996797</td>\n",
       "      <td>-0.798470</td>\n",
       "      <td>1.388252</td>\n",
       "    </tr>\n",
       "    <tr>\n",
       "      <th>SOGA1_HUMAN</th>\n",
       "      <td>0.059854</td>\n",
       "      <td>0.042464</td>\n",
       "      <td>0.035922</td>\n",
       "      <td>-0.064167</td>\n",
       "      <td>-0.250695</td>\n",
       "      <td>0.508383</td>\n",
       "      <td>-0.256835</td>\n",
       "      <td>-0.009917</td>\n",
       "      <td>0.006220</td>\n",
       "      <td>-0.203956</td>\n",
       "      <td>...</td>\n",
       "      <td>0.053534</td>\n",
       "      <td>0.070800</td>\n",
       "      <td>0.140895</td>\n",
       "      <td>0.045728</td>\n",
       "      <td>-0.590879</td>\n",
       "      <td>1.199654</td>\n",
       "      <td>-0.610344</td>\n",
       "      <td>-0.066997</td>\n",
       "      <td>0.155132</td>\n",
       "      <td>-0.275626</td>\n",
       "    </tr>\n",
       "    <tr>\n",
       "      <th>NU133_HUMAN</th>\n",
       "      <td>-0.146176</td>\n",
       "      <td>-0.183708</td>\n",
       "      <td>-0.080056</td>\n",
       "      <td>-0.195807</td>\n",
       "      <td>0.513984</td>\n",
       "      <td>-0.153855</td>\n",
       "      <td>0.262219</td>\n",
       "      <td>-0.011067</td>\n",
       "      <td>-0.106575</td>\n",
       "      <td>0.386701</td>\n",
       "      <td>...</td>\n",
       "      <td>-0.322203</td>\n",
       "      <td>-0.356835</td>\n",
       "      <td>-0.048574</td>\n",
       "      <td>-0.200097</td>\n",
       "      <td>0.967121</td>\n",
       "      <td>-0.266675</td>\n",
       "      <td>0.542785</td>\n",
       "      <td>-0.069295</td>\n",
       "      <td>-0.063661</td>\n",
       "      <td>0.706025</td>\n",
       "    </tr>\n",
       "    <tr>\n",
       "      <th>...</th>\n",
       "      <td>...</td>\n",
       "      <td>...</td>\n",
       "      <td>...</td>\n",
       "      <td>...</td>\n",
       "      <td>...</td>\n",
       "      <td>...</td>\n",
       "      <td>...</td>\n",
       "      <td>...</td>\n",
       "      <td>...</td>\n",
       "      <td>...</td>\n",
       "      <td>...</td>\n",
       "      <td>...</td>\n",
       "      <td>...</td>\n",
       "      <td>...</td>\n",
       "      <td>...</td>\n",
       "      <td>...</td>\n",
       "      <td>...</td>\n",
       "      <td>...</td>\n",
       "      <td>...</td>\n",
       "      <td>...</td>\n",
       "      <td>...</td>\n",
       "    </tr>\n",
       "    <tr>\n",
       "      <th>NEXN_HUMAN</th>\n",
       "      <td>-0.976917</td>\n",
       "      <td>-1.457410</td>\n",
       "      <td>-0.993017</td>\n",
       "      <td>1.258161</td>\n",
       "      <td>0.388330</td>\n",
       "      <td>1.744320</td>\n",
       "      <td>-1.320298</td>\n",
       "      <td>-1.263527</td>\n",
       "      <td>1.623336</td>\n",
       "      <td>-0.769018</td>\n",
       "      <td>...</td>\n",
       "      <td>-1.837225</td>\n",
       "      <td>-2.765100</td>\n",
       "      <td>-1.540051</td>\n",
       "      <td>2.515041</td>\n",
       "      <td>0.711107</td>\n",
       "      <td>3.936266</td>\n",
       "      <td>-2.972933</td>\n",
       "      <td>-2.571371</td>\n",
       "      <td>3.291917</td>\n",
       "      <td>-1.214740</td>\n",
       "    </tr>\n",
       "    <tr>\n",
       "      <th>RM18_HUMAN</th>\n",
       "      <td>-0.078762</td>\n",
       "      <td>0.176580</td>\n",
       "      <td>0.293515</td>\n",
       "      <td>-0.342146</td>\n",
       "      <td>-0.114302</td>\n",
       "      <td>-0.447373</td>\n",
       "      <td>0.605664</td>\n",
       "      <td>-0.103514</td>\n",
       "      <td>-0.078751</td>\n",
       "      <td>-0.037443</td>\n",
       "      <td>...</td>\n",
       "      <td>-0.199259</td>\n",
       "      <td>0.324382</td>\n",
       "      <td>0.561717</td>\n",
       "      <td>-0.473371</td>\n",
       "      <td>-0.312982</td>\n",
       "      <td>-0.916581</td>\n",
       "      <td>1.305783</td>\n",
       "      <td>-0.253978</td>\n",
       "      <td>-0.009690</td>\n",
       "      <td>0.001112</td>\n",
       "    </tr>\n",
       "    <tr>\n",
       "      <th>CJ032_HUMAN</th>\n",
       "      <td>-0.330626</td>\n",
       "      <td>0.368040</td>\n",
       "      <td>-0.856616</td>\n",
       "      <td>0.171847</td>\n",
       "      <td>0.201265</td>\n",
       "      <td>-0.109170</td>\n",
       "      <td>0.363877</td>\n",
       "      <td>0.025623</td>\n",
       "      <td>-0.084479</td>\n",
       "      <td>0.509927</td>\n",
       "      <td>...</td>\n",
       "      <td>-0.658584</td>\n",
       "      <td>0.686386</td>\n",
       "      <td>-1.317217</td>\n",
       "      <td>0.486460</td>\n",
       "      <td>0.329970</td>\n",
       "      <td>-0.167733</td>\n",
       "      <td>0.768629</td>\n",
       "      <td>0.004003</td>\n",
       "      <td>-0.020800</td>\n",
       "      <td>0.910823</td>\n",
       "    </tr>\n",
       "    <tr>\n",
       "      <th>SF3B5_HUMAN</th>\n",
       "      <td>0.304715</td>\n",
       "      <td>-0.174971</td>\n",
       "      <td>-0.277952</td>\n",
       "      <td>-0.469880</td>\n",
       "      <td>0.376778</td>\n",
       "      <td>0.192240</td>\n",
       "      <td>0.342522</td>\n",
       "      <td>0.311958</td>\n",
       "      <td>-1.030071</td>\n",
       "      <td>0.155741</td>\n",
       "      <td>...</td>\n",
       "      <td>0.500088</td>\n",
       "      <td>-0.340317</td>\n",
       "      <td>-0.371872</td>\n",
       "      <td>-0.711901</td>\n",
       "      <td>0.687570</td>\n",
       "      <td>0.499650</td>\n",
       "      <td>0.721186</td>\n",
       "      <td>0.576023</td>\n",
       "      <td>-1.855003</td>\n",
       "      <td>0.322178</td>\n",
       "    </tr>\n",
       "    <tr>\n",
       "      <th>RM42_HUMAN</th>\n",
       "      <td>-0.343869</td>\n",
       "      <td>-0.017864</td>\n",
       "      <td>0.226371</td>\n",
       "      <td>-0.576579</td>\n",
       "      <td>-0.123126</td>\n",
       "      <td>-0.275291</td>\n",
       "      <td>0.904395</td>\n",
       "      <td>-0.315775</td>\n",
       "      <td>0.139530</td>\n",
       "      <td>0.055445</td>\n",
       "      <td>...</td>\n",
       "      <td>-0.682735</td>\n",
       "      <td>-0.043265</td>\n",
       "      <td>0.452027</td>\n",
       "      <td>-0.911149</td>\n",
       "      <td>-0.330961</td>\n",
       "      <td>-0.535558</td>\n",
       "      <td>1.969443</td>\n",
       "      <td>-0.678019</td>\n",
       "      <td>0.413720</td>\n",
       "      <td>0.155489</td>\n",
       "    </tr>\n",
       "  </tbody>\n",
       "</table>\n",
       "<p>5153 rows × 388 columns</p>\n",
       "</div>"
      ],
      "text/plain": [
       "             MDAMB468_BREAST_TenPx01  SH4_SKIN_TenPx01  AU565_BREAST_TenPx01  \\\n",
       "Uniprot                                                                        \n",
       "S12A2_HUMAN                 2.111348          0.070468             -0.463928   \n",
       "KDM1A_HUMAN                 0.379683         -0.283538              0.191211   \n",
       "SRP14_HUMAN                -0.186838          0.197277             -0.409423   \n",
       "SOGA1_HUMAN                 0.059854          0.042464              0.035922   \n",
       "NU133_HUMAN                -0.146176         -0.183708             -0.080056   \n",
       "...                              ...               ...                   ...   \n",
       "NEXN_HUMAN                 -0.976917         -1.457410             -0.993017   \n",
       "RM18_HUMAN                 -0.078762          0.176580              0.293515   \n",
       "CJ032_HUMAN                -0.330626          0.368040             -0.856616   \n",
       "SF3B5_HUMAN                 0.304715         -0.174971             -0.277952   \n",
       "RM42_HUMAN                 -0.343869         -0.017864              0.226371   \n",
       "\n",
       "             KMRC1_KIDNEY_TenPx01  CAL51_BREAST_TenPx01  \\\n",
       "Uniprot                                                   \n",
       "S12A2_HUMAN             -0.883645              0.788565   \n",
       "KDM1A_HUMAN             -0.595606              0.391243   \n",
       "SRP14_HUMAN             -0.070153              0.766739   \n",
       "SOGA1_HUMAN             -0.064167             -0.250695   \n",
       "NU133_HUMAN             -0.195807              0.513984   \n",
       "...                           ...                   ...   \n",
       "NEXN_HUMAN               1.258161              0.388330   \n",
       "RM18_HUMAN              -0.342146             -0.114302   \n",
       "CJ032_HUMAN              0.171847              0.201265   \n",
       "SF3B5_HUMAN             -0.469880              0.376778   \n",
       "RM42_HUMAN              -0.576579             -0.123126   \n",
       "\n",
       "             RPMI7951_SKIN_TenPx01  RERFLCMS_LUNG_TenPx01  IGR37_SKIN_TenPx01  \\\n",
       "Uniprot                                                                         \n",
       "S12A2_HUMAN              -0.912352               0.729167           -0.658213   \n",
       "KDM1A_HUMAN              -0.381329               0.410168            0.066076   \n",
       "SRP14_HUMAN              -0.211540              -0.397926            0.522584   \n",
       "SOGA1_HUMAN               0.508383              -0.256835           -0.009917   \n",
       "NU133_HUMAN              -0.153855               0.262219           -0.011067   \n",
       "...                            ...                    ...                 ...   \n",
       "NEXN_HUMAN                1.744320              -1.320298           -1.263527   \n",
       "RM18_HUMAN               -0.447373               0.605664           -0.103514   \n",
       "CJ032_HUMAN              -0.109170               0.363877            0.025623   \n",
       "SF3B5_HUMAN               0.192240               0.342522            0.311958   \n",
       "RM42_HUMAN               -0.275291               0.904395           -0.315775   \n",
       "\n",
       "             VMRCRCW_KIDNEY_TenPx01  HEP3B217_LIVER_TenPx02  ...  \\\n",
       "Uniprot                                                      ...   \n",
       "S12A2_HUMAN               -1.150653                0.008824  ...   \n",
       "KDM1A_HUMAN               -0.324100                0.316569  ...   \n",
       "SRP14_HUMAN               -0.485394                0.797195  ...   \n",
       "SOGA1_HUMAN                0.006220               -0.203956  ...   \n",
       "NU133_HUMAN               -0.106575                0.386701  ...   \n",
       "...                             ...                     ...  ...   \n",
       "NEXN_HUMAN                 1.623336               -0.769018  ...   \n",
       "RM18_HUMAN                -0.078751               -0.037443  ...   \n",
       "CJ032_HUMAN               -0.084479                0.509927  ...   \n",
       "SF3B5_HUMAN               -1.030071                0.155741  ...   \n",
       "RM42_HUMAN                 0.139530                0.055445  ...   \n",
       "\n",
       "             z_score_MDAMB468_BREAST_TenPx01  z_score_SH4_SKIN_TenPx01  \\\n",
       "Uniprot                                                                  \n",
       "S12A2_HUMAN                         3.794847                  0.123750   \n",
       "KDM1A_HUMAN                         0.636807                 -0.545590   \n",
       "SRP14_HUMAN                        -0.396358                  0.363515   \n",
       "SOGA1_HUMAN                         0.053534                  0.070800   \n",
       "NU133_HUMAN                        -0.322203                 -0.356835   \n",
       "...                                      ...                       ...   \n",
       "NEXN_HUMAN                         -1.837225                 -2.765100   \n",
       "RM18_HUMAN                         -0.199259                  0.324382   \n",
       "CJ032_HUMAN                        -0.658584                  0.686386   \n",
       "SF3B5_HUMAN                         0.500088                 -0.340317   \n",
       "RM42_HUMAN                         -0.682735                 -0.043265   \n",
       "\n",
       "             z_score_AU565_BREAST_TenPx01  z_score_KMRC1_KIDNEY_TenPx01  \\\n",
       "Uniprot                                                                   \n",
       "S12A2_HUMAN                     -0.675694                     -1.484566   \n",
       "KDM1A_HUMAN                      0.394586                     -0.946680   \n",
       "SRP14_HUMAN                     -0.586652                      0.034550   \n",
       "SOGA1_HUMAN                      0.140895                      0.045728   \n",
       "NU133_HUMAN                     -0.048574                     -0.200097   \n",
       "...                                   ...                           ...   \n",
       "NEXN_HUMAN                      -1.540051                      2.515041   \n",
       "RM18_HUMAN                       0.561717                     -0.473371   \n",
       "CJ032_HUMAN                     -1.317217                      0.486460   \n",
       "SF3B5_HUMAN                     -0.371872                     -0.711901   \n",
       "RM42_HUMAN                       0.452027                     -0.911149   \n",
       "\n",
       "             z_score_CAL51_BREAST_TenPx01  z_score_RPMI7951_SKIN_TenPx01  \\\n",
       "Uniprot                                                                    \n",
       "S12A2_HUMAN                      1.526568                      -1.946138   \n",
       "KDM1A_HUMAN                      0.717043                      -0.770347   \n",
       "SRP14_HUMAN                      1.482097                      -0.394399   \n",
       "SOGA1_HUMAN                     -0.590879                       1.199654   \n",
       "NU133_HUMAN                      0.967121                      -0.266675   \n",
       "...                                   ...                            ...   \n",
       "NEXN_HUMAN                       0.711107                       3.936266   \n",
       "RM18_HUMAN                      -0.312982                      -0.916581   \n",
       "CJ032_HUMAN                      0.329970                      -0.167733   \n",
       "SF3B5_HUMAN                      0.687570                       0.499650   \n",
       "RM42_HUMAN                      -0.330961                      -0.535558   \n",
       "\n",
       "             z_score_RERFLCMS_LUNG_TenPx01  z_score_IGR37_SKIN_TenPx01  \\\n",
       "Uniprot                                                                  \n",
       "S12A2_HUMAN                       1.580157                   -1.362117   \n",
       "KDM1A_HUMAN                       0.871469                    0.084818   \n",
       "SRP14_HUMAN                      -0.923793                    0.996797   \n",
       "SOGA1_HUMAN                      -0.610344                   -0.066997   \n",
       "NU133_HUMAN                       0.542785                   -0.069295   \n",
       "...                                    ...                         ...   \n",
       "NEXN_HUMAN                       -2.972933                   -2.571371   \n",
       "RM18_HUMAN                        1.305783                   -0.253978   \n",
       "CJ032_HUMAN                       0.768629                    0.004003   \n",
       "SF3B5_HUMAN                       0.721186                    0.576023   \n",
       "RM42_HUMAN                        1.969443                   -0.678019   \n",
       "\n",
       "             z_score_VMRCRCW_KIDNEY_TenPx01  z_score_HEP3B217_LIVER_TenPx02  \n",
       "Uniprot                                                                      \n",
       "S12A2_HUMAN                       -2.088900                        0.078007  \n",
       "KDM1A_HUMAN                       -0.485602                        0.589467  \n",
       "SRP14_HUMAN                       -0.798470                        1.388252  \n",
       "SOGA1_HUMAN                        0.155132                       -0.275626  \n",
       "NU133_HUMAN                       -0.063661                        0.706025  \n",
       "...                                     ...                             ...  \n",
       "NEXN_HUMAN                         3.291917                       -1.214740  \n",
       "RM18_HUMAN                        -0.009690                        0.001112  \n",
       "CJ032_HUMAN                       -0.020800                        0.910823  \n",
       "SF3B5_HUMAN                       -1.855003                        0.322178  \n",
       "RM42_HUMAN                         0.413720                        0.155489  \n",
       "\n",
       "[5153 rows x 388 columns]"
      ]
     },
     "execution_count": 79,
     "metadata": {},
     "output_type": "execute_result"
    }
   ],
   "source": [
    "data_2"
   ]
  },
  {
   "cell_type": "code",
   "execution_count": 94,
   "id": "887e285e",
   "metadata": {},
   "outputs": [
    {
     "data": {
      "text/plain": [
       "Uniprot\n",
       "S12A2_HUMAN    2.111348\n",
       "KDM1A_HUMAN    0.379683\n",
       "SRP14_HUMAN   -0.186838\n",
       "SOGA1_HUMAN    0.059854\n",
       "NU133_HUMAN   -0.146176\n",
       "                 ...   \n",
       "NEXN_HUMAN    -0.976917\n",
       "RM18_HUMAN    -0.078762\n",
       "CJ032_HUMAN   -0.330626\n",
       "SF3B5_HUMAN    0.304715\n",
       "RM42_HUMAN    -0.343869\n",
       "Name: MDAMB468_BREAST_TenPx01, Length: 5153, dtype: float64"
      ]
     },
     "execution_count": 94,
     "metadata": {},
     "output_type": "execute_result"
    }
   ],
   "source": [
    "data_2['MDAMB468_BREAST_TenPx01']"
   ]
  },
  {
   "cell_type": "code",
   "execution_count": 101,
   "id": "d7490ab6",
   "metadata": {},
   "outputs": [
    {
     "ename": "TypeError",
     "evalue": "'numpy.ndarray' object is not callable",
     "output_type": "error",
     "traceback": [
      "\u001b[0;31m---------------------------------------------------------------------------\u001b[0m",
      "\u001b[0;31mTypeError\u001b[0m                                 Traceback (most recent call last)",
      "Input \u001b[0;32mIn [101]\u001b[0m, in \u001b[0;36m<cell line: 1>\u001b[0;34m()\u001b[0m\n\u001b[0;32m----> 1\u001b[0m uniprot \u001b[38;5;241m=\u001b[39m \u001b[43mdata_2\u001b[49m\u001b[38;5;241;43m.\u001b[39;49m\u001b[43mvalues\u001b[49m\u001b[43m(\u001b[49m\u001b[43m)\u001b[49m\n\u001b[1;32m      2\u001b[0m uniprot_list \u001b[38;5;241m=\u001b[39m []\n\u001b[1;32m      3\u001b[0m \u001b[38;5;28;01mfor\u001b[39;00m n \u001b[38;5;129;01min\u001b[39;00m uniprot[\u001b[38;5;241m0\u001b[39m:\u001b[38;5;241m9\u001b[39m]:\n",
      "\u001b[0;31mTypeError\u001b[0m: 'numpy.ndarray' object is not callable"
     ]
    }
   ],
   "source": [
    "uniprot = data_2.values()\n",
    "uniprot_list = []\n",
    "for n in uniprot[0:9]:\n",
    "    uniprot_list.append(n)\n",
    "uniprot_list"
   ]
  },
  {
   "cell_type": "code",
   "execution_count": 99,
   "id": "3816f178",
   "metadata": {},
   "outputs": [
    {
     "ename": "ValueError",
     "evalue": "Length of values (5153) does not match length of index (9)",
     "output_type": "error",
     "traceback": [
      "\u001b[0;31m---------------------------------------------------------------------------\u001b[0m",
      "\u001b[0;31mValueError\u001b[0m                                Traceback (most recent call last)",
      "Input \u001b[0;32mIn [99]\u001b[0m, in \u001b[0;36m<cell line: 8>\u001b[0;34m()\u001b[0m\n\u001b[1;32m      6\u001b[0m \u001b[38;5;28;01mfor\u001b[39;00m n \u001b[38;5;129;01min\u001b[39;00m data_2[\u001b[38;5;124m'\u001b[39m\u001b[38;5;124mMDAMB468_BREAST_TenPx01\u001b[39m\u001b[38;5;124m'\u001b[39m]:\n\u001b[1;32m      7\u001b[0m     a\u001b[38;5;241m.\u001b[39mappend(n)\n\u001b[0;32m----> 8\u001b[0m df[\u001b[38;5;124m'\u001b[39m\u001b[38;5;124mz_score_MDAMB468_BREAST_TenPx01\u001b[39m\u001b[38;5;124m'\u001b[39m] \u001b[38;5;241m=\u001b[39m a\n\u001b[1;32m      9\u001b[0m df\n",
      "File \u001b[0;32m/opt/anaconda3/envs/glpk/lib/python3.8/site-packages/pandas/core/frame.py:3655\u001b[0m, in \u001b[0;36mDataFrame.__setitem__\u001b[0;34m(self, key, value)\u001b[0m\n\u001b[1;32m   3652\u001b[0m     \u001b[38;5;28mself\u001b[39m\u001b[38;5;241m.\u001b[39m_setitem_array([key], value)\n\u001b[1;32m   3653\u001b[0m \u001b[38;5;28;01melse\u001b[39;00m:\n\u001b[1;32m   3654\u001b[0m     \u001b[38;5;66;03m# set column\u001b[39;00m\n\u001b[0;32m-> 3655\u001b[0m     \u001b[38;5;28;43mself\u001b[39;49m\u001b[38;5;241;43m.\u001b[39;49m\u001b[43m_set_item\u001b[49m\u001b[43m(\u001b[49m\u001b[43mkey\u001b[49m\u001b[43m,\u001b[49m\u001b[43m \u001b[49m\u001b[43mvalue\u001b[49m\u001b[43m)\u001b[49m\n",
      "File \u001b[0;32m/opt/anaconda3/envs/glpk/lib/python3.8/site-packages/pandas/core/frame.py:3832\u001b[0m, in \u001b[0;36mDataFrame._set_item\u001b[0;34m(self, key, value)\u001b[0m\n\u001b[1;32m   3822\u001b[0m \u001b[38;5;28;01mdef\u001b[39;00m \u001b[38;5;21m_set_item\u001b[39m(\u001b[38;5;28mself\u001b[39m, key, value) \u001b[38;5;241m-\u001b[39m\u001b[38;5;241m>\u001b[39m \u001b[38;5;28;01mNone\u001b[39;00m:\n\u001b[1;32m   3823\u001b[0m     \u001b[38;5;124;03m\"\"\"\u001b[39;00m\n\u001b[1;32m   3824\u001b[0m \u001b[38;5;124;03m    Add series to DataFrame in specified column.\u001b[39;00m\n\u001b[1;32m   3825\u001b[0m \n\u001b[0;32m   (...)\u001b[0m\n\u001b[1;32m   3830\u001b[0m \u001b[38;5;124;03m    ensure homogeneity.\u001b[39;00m\n\u001b[1;32m   3831\u001b[0m \u001b[38;5;124;03m    \"\"\"\u001b[39;00m\n\u001b[0;32m-> 3832\u001b[0m     value \u001b[38;5;241m=\u001b[39m \u001b[38;5;28;43mself\u001b[39;49m\u001b[38;5;241;43m.\u001b[39;49m\u001b[43m_sanitize_column\u001b[49m\u001b[43m(\u001b[49m\u001b[43mvalue\u001b[49m\u001b[43m)\u001b[49m\n\u001b[1;32m   3834\u001b[0m     \u001b[38;5;28;01mif\u001b[39;00m (\n\u001b[1;32m   3835\u001b[0m         key \u001b[38;5;129;01min\u001b[39;00m \u001b[38;5;28mself\u001b[39m\u001b[38;5;241m.\u001b[39mcolumns\n\u001b[1;32m   3836\u001b[0m         \u001b[38;5;129;01mand\u001b[39;00m value\u001b[38;5;241m.\u001b[39mndim \u001b[38;5;241m==\u001b[39m \u001b[38;5;241m1\u001b[39m\n\u001b[1;32m   3837\u001b[0m         \u001b[38;5;129;01mand\u001b[39;00m \u001b[38;5;129;01mnot\u001b[39;00m is_extension_array_dtype(value)\n\u001b[1;32m   3838\u001b[0m     ):\n\u001b[1;32m   3839\u001b[0m         \u001b[38;5;66;03m# broadcast across multiple columns if necessary\u001b[39;00m\n\u001b[1;32m   3840\u001b[0m         \u001b[38;5;28;01mif\u001b[39;00m \u001b[38;5;129;01mnot\u001b[39;00m \u001b[38;5;28mself\u001b[39m\u001b[38;5;241m.\u001b[39mcolumns\u001b[38;5;241m.\u001b[39mis_unique \u001b[38;5;129;01mor\u001b[39;00m \u001b[38;5;28misinstance\u001b[39m(\u001b[38;5;28mself\u001b[39m\u001b[38;5;241m.\u001b[39mcolumns, MultiIndex):\n",
      "File \u001b[0;32m/opt/anaconda3/envs/glpk/lib/python3.8/site-packages/pandas/core/frame.py:4535\u001b[0m, in \u001b[0;36mDataFrame._sanitize_column\u001b[0;34m(self, value)\u001b[0m\n\u001b[1;32m   4532\u001b[0m     \u001b[38;5;28;01mreturn\u001b[39;00m _reindex_for_setitem(value, \u001b[38;5;28mself\u001b[39m\u001b[38;5;241m.\u001b[39mindex)\n\u001b[1;32m   4534\u001b[0m \u001b[38;5;28;01mif\u001b[39;00m is_list_like(value):\n\u001b[0;32m-> 4535\u001b[0m     \u001b[43mcom\u001b[49m\u001b[38;5;241;43m.\u001b[39;49m\u001b[43mrequire_length_match\u001b[49m\u001b[43m(\u001b[49m\u001b[43mvalue\u001b[49m\u001b[43m,\u001b[49m\u001b[43m \u001b[49m\u001b[38;5;28;43mself\u001b[39;49m\u001b[38;5;241;43m.\u001b[39;49m\u001b[43mindex\u001b[49m\u001b[43m)\u001b[49m\n\u001b[1;32m   4536\u001b[0m \u001b[38;5;28;01mreturn\u001b[39;00m sanitize_array(value, \u001b[38;5;28mself\u001b[39m\u001b[38;5;241m.\u001b[39mindex, copy\u001b[38;5;241m=\u001b[39m\u001b[38;5;28;01mTrue\u001b[39;00m, allow_2d\u001b[38;5;241m=\u001b[39m\u001b[38;5;28;01mTrue\u001b[39;00m)\n",
      "File \u001b[0;32m/opt/anaconda3/envs/glpk/lib/python3.8/site-packages/pandas/core/common.py:557\u001b[0m, in \u001b[0;36mrequire_length_match\u001b[0;34m(data, index)\u001b[0m\n\u001b[1;32m    553\u001b[0m \u001b[38;5;124;03m\"\"\"\u001b[39;00m\n\u001b[1;32m    554\u001b[0m \u001b[38;5;124;03mCheck the length of data matches the length of the index.\u001b[39;00m\n\u001b[1;32m    555\u001b[0m \u001b[38;5;124;03m\"\"\"\u001b[39;00m\n\u001b[1;32m    556\u001b[0m \u001b[38;5;28;01mif\u001b[39;00m \u001b[38;5;28mlen\u001b[39m(data) \u001b[38;5;241m!=\u001b[39m \u001b[38;5;28mlen\u001b[39m(index):\n\u001b[0;32m--> 557\u001b[0m     \u001b[38;5;28;01mraise\u001b[39;00m \u001b[38;5;167;01mValueError\u001b[39;00m(\n\u001b[1;32m    558\u001b[0m         \u001b[38;5;124m\"\u001b[39m\u001b[38;5;124mLength of values \u001b[39m\u001b[38;5;124m\"\u001b[39m\n\u001b[1;32m    559\u001b[0m         \u001b[38;5;124mf\u001b[39m\u001b[38;5;124m\"\u001b[39m\u001b[38;5;124m(\u001b[39m\u001b[38;5;132;01m{\u001b[39;00m\u001b[38;5;28mlen\u001b[39m(data)\u001b[38;5;132;01m}\u001b[39;00m\u001b[38;5;124m) \u001b[39m\u001b[38;5;124m\"\u001b[39m\n\u001b[1;32m    560\u001b[0m         \u001b[38;5;124m\"\u001b[39m\u001b[38;5;124mdoes not match length of index \u001b[39m\u001b[38;5;124m\"\u001b[39m\n\u001b[1;32m    561\u001b[0m         \u001b[38;5;124mf\u001b[39m\u001b[38;5;124m\"\u001b[39m\u001b[38;5;124m(\u001b[39m\u001b[38;5;132;01m{\u001b[39;00m\u001b[38;5;28mlen\u001b[39m(index)\u001b[38;5;132;01m}\u001b[39;00m\u001b[38;5;124m)\u001b[39m\u001b[38;5;124m\"\u001b[39m\n\u001b[1;32m    562\u001b[0m     )\n",
      "\u001b[0;31mValueError\u001b[0m: Length of values (5153) does not match length of index (9)"
     ]
    }
   ],
   "source": [
    "column_names = ['z_score_MDAMB468_BREAST_TenPx01', 'z_score_SH4_SKIN_TenPx01', 'z_score_AU565_BREAST_TenPx01', 'z_score_KMRC1_KIDNEY_TenPx01', 'z_score_CAL51_BREAST_TenPx01', 'z_score_RPMI7951_SKIN_TenPx01', 'z_score_RERFLCMS_LUNG_TenPx01', 'z_score_IGR37_SKIN_TenPx01', 'z_score_VMRCRCW_KIDNEY_TenPx01', 'z_score_HEP3B217_LIVER_TenPx02']\n",
    "df = pd.DataFrame(columns = column_names)\n",
    "df['Uniprot'] = uniprot_list\n",
    "df = df.set_index(['Uniprot'])\n",
    "a = []\n",
    "for n in data_2['MDAMB468_BREAST_TenPx01']:\n",
    "    a.append(n)\n",
    "df['z_score_MDAMB468_BREAST_TenPx01'] = a\n",
    "df"
   ]
  },
  {
   "cell_type": "code",
   "execution_count": 100,
   "id": "97fc7a21",
   "metadata": {},
   "outputs": [
    {
     "data": {
      "text/html": [
       "<div>\n",
       "<style scoped>\n",
       "    .dataframe tbody tr th:only-of-type {\n",
       "        vertical-align: middle;\n",
       "    }\n",
       "\n",
       "    .dataframe tbody tr th {\n",
       "        vertical-align: top;\n",
       "    }\n",
       "\n",
       "    .dataframe thead th {\n",
       "        text-align: right;\n",
       "    }\n",
       "</style>\n",
       "<table border=\"1\" class=\"dataframe\">\n",
       "  <thead>\n",
       "    <tr style=\"text-align: right;\">\n",
       "      <th></th>\n",
       "      <th>z_score_MDAMB468_BREAST_TenPx01</th>\n",
       "      <th>z_score_SH4_SKIN_TenPx01</th>\n",
       "      <th>z_score_AU565_BREAST_TenPx01</th>\n",
       "      <th>z_score_KMRC1_KIDNEY_TenPx01</th>\n",
       "      <th>z_score_CAL51_BREAST_TenPx01</th>\n",
       "      <th>z_score_RPMI7951_SKIN_TenPx01</th>\n",
       "      <th>z_score_RERFLCMS_LUNG_TenPx01</th>\n",
       "      <th>z_score_IGR37_SKIN_TenPx01</th>\n",
       "      <th>z_score_VMRCRCW_KIDNEY_TenPx01</th>\n",
       "      <th>z_score_HEP3B217_LIVER_TenPx02</th>\n",
       "    </tr>\n",
       "    <tr>\n",
       "      <th>Uniprot</th>\n",
       "      <th></th>\n",
       "      <th></th>\n",
       "      <th></th>\n",
       "      <th></th>\n",
       "      <th></th>\n",
       "      <th></th>\n",
       "      <th></th>\n",
       "      <th></th>\n",
       "      <th></th>\n",
       "      <th></th>\n",
       "    </tr>\n",
       "  </thead>\n",
       "  <tbody>\n",
       "    <tr>\n",
       "      <th>MDAMB468_BREAST_TenPx01</th>\n",
       "      <td>NaN</td>\n",
       "      <td>NaN</td>\n",
       "      <td>NaN</td>\n",
       "      <td>NaN</td>\n",
       "      <td>NaN</td>\n",
       "      <td>NaN</td>\n",
       "      <td>NaN</td>\n",
       "      <td>NaN</td>\n",
       "      <td>NaN</td>\n",
       "      <td>NaN</td>\n",
       "    </tr>\n",
       "    <tr>\n",
       "      <th>SH4_SKIN_TenPx01</th>\n",
       "      <td>NaN</td>\n",
       "      <td>NaN</td>\n",
       "      <td>NaN</td>\n",
       "      <td>NaN</td>\n",
       "      <td>NaN</td>\n",
       "      <td>NaN</td>\n",
       "      <td>NaN</td>\n",
       "      <td>NaN</td>\n",
       "      <td>NaN</td>\n",
       "      <td>NaN</td>\n",
       "    </tr>\n",
       "    <tr>\n",
       "      <th>AU565_BREAST_TenPx01</th>\n",
       "      <td>NaN</td>\n",
       "      <td>NaN</td>\n",
       "      <td>NaN</td>\n",
       "      <td>NaN</td>\n",
       "      <td>NaN</td>\n",
       "      <td>NaN</td>\n",
       "      <td>NaN</td>\n",
       "      <td>NaN</td>\n",
       "      <td>NaN</td>\n",
       "      <td>NaN</td>\n",
       "    </tr>\n",
       "    <tr>\n",
       "      <th>KMRC1_KIDNEY_TenPx01</th>\n",
       "      <td>NaN</td>\n",
       "      <td>NaN</td>\n",
       "      <td>NaN</td>\n",
       "      <td>NaN</td>\n",
       "      <td>NaN</td>\n",
       "      <td>NaN</td>\n",
       "      <td>NaN</td>\n",
       "      <td>NaN</td>\n",
       "      <td>NaN</td>\n",
       "      <td>NaN</td>\n",
       "    </tr>\n",
       "    <tr>\n",
       "      <th>CAL51_BREAST_TenPx01</th>\n",
       "      <td>NaN</td>\n",
       "      <td>NaN</td>\n",
       "      <td>NaN</td>\n",
       "      <td>NaN</td>\n",
       "      <td>NaN</td>\n",
       "      <td>NaN</td>\n",
       "      <td>NaN</td>\n",
       "      <td>NaN</td>\n",
       "      <td>NaN</td>\n",
       "      <td>NaN</td>\n",
       "    </tr>\n",
       "    <tr>\n",
       "      <th>RPMI7951_SKIN_TenPx01</th>\n",
       "      <td>NaN</td>\n",
       "      <td>NaN</td>\n",
       "      <td>NaN</td>\n",
       "      <td>NaN</td>\n",
       "      <td>NaN</td>\n",
       "      <td>NaN</td>\n",
       "      <td>NaN</td>\n",
       "      <td>NaN</td>\n",
       "      <td>NaN</td>\n",
       "      <td>NaN</td>\n",
       "    </tr>\n",
       "    <tr>\n",
       "      <th>RERFLCMS_LUNG_TenPx01</th>\n",
       "      <td>NaN</td>\n",
       "      <td>NaN</td>\n",
       "      <td>NaN</td>\n",
       "      <td>NaN</td>\n",
       "      <td>NaN</td>\n",
       "      <td>NaN</td>\n",
       "      <td>NaN</td>\n",
       "      <td>NaN</td>\n",
       "      <td>NaN</td>\n",
       "      <td>NaN</td>\n",
       "    </tr>\n",
       "    <tr>\n",
       "      <th>IGR37_SKIN_TenPx01</th>\n",
       "      <td>NaN</td>\n",
       "      <td>NaN</td>\n",
       "      <td>NaN</td>\n",
       "      <td>NaN</td>\n",
       "      <td>NaN</td>\n",
       "      <td>NaN</td>\n",
       "      <td>NaN</td>\n",
       "      <td>NaN</td>\n",
       "      <td>NaN</td>\n",
       "      <td>NaN</td>\n",
       "    </tr>\n",
       "    <tr>\n",
       "      <th>VMRCRCW_KIDNEY_TenPx01</th>\n",
       "      <td>NaN</td>\n",
       "      <td>NaN</td>\n",
       "      <td>NaN</td>\n",
       "      <td>NaN</td>\n",
       "      <td>NaN</td>\n",
       "      <td>NaN</td>\n",
       "      <td>NaN</td>\n",
       "      <td>NaN</td>\n",
       "      <td>NaN</td>\n",
       "      <td>NaN</td>\n",
       "    </tr>\n",
       "  </tbody>\n",
       "</table>\n",
       "</div>"
      ],
      "text/plain": [
       "                        z_score_MDAMB468_BREAST_TenPx01  \\\n",
       "Uniprot                                                   \n",
       "MDAMB468_BREAST_TenPx01                             NaN   \n",
       "SH4_SKIN_TenPx01                                    NaN   \n",
       "AU565_BREAST_TenPx01                                NaN   \n",
       "KMRC1_KIDNEY_TenPx01                                NaN   \n",
       "CAL51_BREAST_TenPx01                                NaN   \n",
       "RPMI7951_SKIN_TenPx01                               NaN   \n",
       "RERFLCMS_LUNG_TenPx01                               NaN   \n",
       "IGR37_SKIN_TenPx01                                  NaN   \n",
       "VMRCRCW_KIDNEY_TenPx01                              NaN   \n",
       "\n",
       "                        z_score_SH4_SKIN_TenPx01 z_score_AU565_BREAST_TenPx01  \\\n",
       "Uniprot                                                                         \n",
       "MDAMB468_BREAST_TenPx01                      NaN                          NaN   \n",
       "SH4_SKIN_TenPx01                             NaN                          NaN   \n",
       "AU565_BREAST_TenPx01                         NaN                          NaN   \n",
       "KMRC1_KIDNEY_TenPx01                         NaN                          NaN   \n",
       "CAL51_BREAST_TenPx01                         NaN                          NaN   \n",
       "RPMI7951_SKIN_TenPx01                        NaN                          NaN   \n",
       "RERFLCMS_LUNG_TenPx01                        NaN                          NaN   \n",
       "IGR37_SKIN_TenPx01                           NaN                          NaN   \n",
       "VMRCRCW_KIDNEY_TenPx01                       NaN                          NaN   \n",
       "\n",
       "                        z_score_KMRC1_KIDNEY_TenPx01  \\\n",
       "Uniprot                                                \n",
       "MDAMB468_BREAST_TenPx01                          NaN   \n",
       "SH4_SKIN_TenPx01                                 NaN   \n",
       "AU565_BREAST_TenPx01                             NaN   \n",
       "KMRC1_KIDNEY_TenPx01                             NaN   \n",
       "CAL51_BREAST_TenPx01                             NaN   \n",
       "RPMI7951_SKIN_TenPx01                            NaN   \n",
       "RERFLCMS_LUNG_TenPx01                            NaN   \n",
       "IGR37_SKIN_TenPx01                               NaN   \n",
       "VMRCRCW_KIDNEY_TenPx01                           NaN   \n",
       "\n",
       "                        z_score_CAL51_BREAST_TenPx01  \\\n",
       "Uniprot                                                \n",
       "MDAMB468_BREAST_TenPx01                          NaN   \n",
       "SH4_SKIN_TenPx01                                 NaN   \n",
       "AU565_BREAST_TenPx01                             NaN   \n",
       "KMRC1_KIDNEY_TenPx01                             NaN   \n",
       "CAL51_BREAST_TenPx01                             NaN   \n",
       "RPMI7951_SKIN_TenPx01                            NaN   \n",
       "RERFLCMS_LUNG_TenPx01                            NaN   \n",
       "IGR37_SKIN_TenPx01                               NaN   \n",
       "VMRCRCW_KIDNEY_TenPx01                           NaN   \n",
       "\n",
       "                        z_score_RPMI7951_SKIN_TenPx01  \\\n",
       "Uniprot                                                 \n",
       "MDAMB468_BREAST_TenPx01                           NaN   \n",
       "SH4_SKIN_TenPx01                                  NaN   \n",
       "AU565_BREAST_TenPx01                              NaN   \n",
       "KMRC1_KIDNEY_TenPx01                              NaN   \n",
       "CAL51_BREAST_TenPx01                              NaN   \n",
       "RPMI7951_SKIN_TenPx01                             NaN   \n",
       "RERFLCMS_LUNG_TenPx01                             NaN   \n",
       "IGR37_SKIN_TenPx01                                NaN   \n",
       "VMRCRCW_KIDNEY_TenPx01                            NaN   \n",
       "\n",
       "                        z_score_RERFLCMS_LUNG_TenPx01  \\\n",
       "Uniprot                                                 \n",
       "MDAMB468_BREAST_TenPx01                           NaN   \n",
       "SH4_SKIN_TenPx01                                  NaN   \n",
       "AU565_BREAST_TenPx01                              NaN   \n",
       "KMRC1_KIDNEY_TenPx01                              NaN   \n",
       "CAL51_BREAST_TenPx01                              NaN   \n",
       "RPMI7951_SKIN_TenPx01                             NaN   \n",
       "RERFLCMS_LUNG_TenPx01                             NaN   \n",
       "IGR37_SKIN_TenPx01                                NaN   \n",
       "VMRCRCW_KIDNEY_TenPx01                            NaN   \n",
       "\n",
       "                        z_score_IGR37_SKIN_TenPx01  \\\n",
       "Uniprot                                              \n",
       "MDAMB468_BREAST_TenPx01                        NaN   \n",
       "SH4_SKIN_TenPx01                               NaN   \n",
       "AU565_BREAST_TenPx01                           NaN   \n",
       "KMRC1_KIDNEY_TenPx01                           NaN   \n",
       "CAL51_BREAST_TenPx01                           NaN   \n",
       "RPMI7951_SKIN_TenPx01                          NaN   \n",
       "RERFLCMS_LUNG_TenPx01                          NaN   \n",
       "IGR37_SKIN_TenPx01                             NaN   \n",
       "VMRCRCW_KIDNEY_TenPx01                         NaN   \n",
       "\n",
       "                        z_score_VMRCRCW_KIDNEY_TenPx01  \\\n",
       "Uniprot                                                  \n",
       "MDAMB468_BREAST_TenPx01                            NaN   \n",
       "SH4_SKIN_TenPx01                                   NaN   \n",
       "AU565_BREAST_TenPx01                               NaN   \n",
       "KMRC1_KIDNEY_TenPx01                               NaN   \n",
       "CAL51_BREAST_TenPx01                               NaN   \n",
       "RPMI7951_SKIN_TenPx01                              NaN   \n",
       "RERFLCMS_LUNG_TenPx01                              NaN   \n",
       "IGR37_SKIN_TenPx01                                 NaN   \n",
       "VMRCRCW_KIDNEY_TenPx01                             NaN   \n",
       "\n",
       "                        z_score_HEP3B217_LIVER_TenPx02  \n",
       "Uniprot                                                 \n",
       "MDAMB468_BREAST_TenPx01                            NaN  \n",
       "SH4_SKIN_TenPx01                                   NaN  \n",
       "AU565_BREAST_TenPx01                               NaN  \n",
       "KMRC1_KIDNEY_TenPx01                               NaN  \n",
       "CAL51_BREAST_TenPx01                               NaN  \n",
       "RPMI7951_SKIN_TenPx01                              NaN  \n",
       "RERFLCMS_LUNG_TenPx01                              NaN  \n",
       "IGR37_SKIN_TenPx01                                 NaN  \n",
       "VMRCRCW_KIDNEY_TenPx01                             NaN  "
      ]
     },
     "execution_count": 100,
     "metadata": {},
     "output_type": "execute_result"
    }
   ],
   "source": [
    "df."
   ]
  },
  {
   "cell_type": "code",
   "execution_count": null,
   "id": "13512d7b",
   "metadata": {},
   "outputs": [],
   "source": []
  }
 ],
 "metadata": {
  "kernelspec": {
   "display_name": "Python 3 (ipykernel)",
   "language": "python",
   "name": "python3"
  },
  "language_info": {
   "codemirror_mode": {
    "name": "ipython",
    "version": 3
   },
   "file_extension": ".py",
   "mimetype": "text/x-python",
   "name": "python",
   "nbconvert_exporter": "python",
   "pygments_lexer": "ipython3",
   "version": "3.8.13"
  }
 },
 "nbformat": 4,
 "nbformat_minor": 5
}
